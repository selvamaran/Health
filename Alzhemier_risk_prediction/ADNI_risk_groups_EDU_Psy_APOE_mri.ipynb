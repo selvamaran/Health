{
 "cells": [
  {
   "cell_type": "code",
   "execution_count": 1,
   "id": "framed-nirvana",
   "metadata": {},
   "outputs": [],
   "source": [
    "import pandas as pd\n",
    "import matplotlib.pyplot as plt\n",
    "import seaborn as sns\n",
    "%matplotlib inline\n",
    "from scipy import stats"
   ]
  },
  {
   "cell_type": "code",
   "execution_count": 2,
   "id": "widespread-hughes",
   "metadata": {},
   "outputs": [
    {
     "data": {
      "text/plain": [
       "(155, 3)"
      ]
     },
     "execution_count": 2,
     "metadata": {},
     "output_type": "execute_result"
    }
   ],
   "source": [
    "file_loc = \"\"\n",
    "df_MRI_region_dict=pd.read_csv(file_loc + 'mri_regional_dict6_region_code_volume_2.csv')\n",
    "df_MRI_region_dict.shape"
   ]
  },
  {
   "cell_type": "code",
   "execution_count": 3,
   "id": "english-mexico",
   "metadata": {},
   "outputs": [
    {
     "data": {
      "text/html": [
       "<div>\n",
       "<style scoped>\n",
       "    .dataframe tbody tr th:only-of-type {\n",
       "        vertical-align: middle;\n",
       "    }\n",
       "\n",
       "    .dataframe tbody tr th {\n",
       "        vertical-align: top;\n",
       "    }\n",
       "\n",
       "    .dataframe thead th {\n",
       "        text-align: right;\n",
       "    }\n",
       "</style>\n",
       "<table border=\"1\" class=\"dataframe\">\n",
       "  <thead>\n",
       "    <tr style=\"text-align: right;\">\n",
       "      <th></th>\n",
       "      <th>ADNI Code</th>\n",
       "      <th>Description</th>\n",
       "      <th>Region</th>\n",
       "    </tr>\n",
       "  </thead>\n",
       "  <tbody>\n",
       "    <tr>\n",
       "      <th>0</th>\n",
       "      <td>ST131HS</td>\n",
       "      <td>N mm3 Hippocampal Subfields Volume of</td>\n",
       "      <td>LeftCA1</td>\n",
       "    </tr>\n",
       "    <tr>\n",
       "      <th>1</th>\n",
       "      <td>ST132HS</td>\n",
       "      <td>N mm3 Hippocampal Subfields Volume of</td>\n",
       "      <td>LeftCA2_3</td>\n",
       "    </tr>\n",
       "    <tr>\n",
       "      <th>2</th>\n",
       "      <td>ST133HS</td>\n",
       "      <td>N mm3 Hippocampal Subfields Volume of</td>\n",
       "      <td>LeftCA4_DG</td>\n",
       "    </tr>\n",
       "    <tr>\n",
       "      <th>3</th>\n",
       "      <td>ST134HS</td>\n",
       "      <td>N mm3 Hippocampal Subfields Volume of</td>\n",
       "      <td>LeftFimbria</td>\n",
       "    </tr>\n",
       "    <tr>\n",
       "      <th>4</th>\n",
       "      <td>ST135HS</td>\n",
       "      <td>N mm3 Hippocampal Subfields Volume of</td>\n",
       "      <td>LeftHippocampalFissure</td>\n",
       "    </tr>\n",
       "  </tbody>\n",
       "</table>\n",
       "</div>"
      ],
      "text/plain": [
       "  ADNI Code                            Description                  Region\n",
       "0   ST131HS  N mm3 Hippocampal Subfields Volume of                 LeftCA1\n",
       "1   ST132HS  N mm3 Hippocampal Subfields Volume of               LeftCA2_3\n",
       "2   ST133HS  N mm3 Hippocampal Subfields Volume of              LeftCA4_DG\n",
       "3   ST134HS  N mm3 Hippocampal Subfields Volume of             LeftFimbria\n",
       "4   ST135HS  N mm3 Hippocampal Subfields Volume of  LeftHippocampalFissure"
      ]
     },
     "execution_count": 3,
     "metadata": {},
     "output_type": "execute_result"
    }
   ],
   "source": [
    "df_MRI_region_dict.head()"
   ]
  },
  {
   "cell_type": "code",
   "execution_count": 4,
   "id": "terminal-insertion",
   "metadata": {},
   "outputs": [],
   "source": [
    "df_mri_adni1 = pd.read_csv(file_loc + 'UCSFFSX51_ADNI1_3T_02_01_16.csv')\n",
    "df_mri_adni2 = pd.read_csv(file_loc + 'UCSFFSX51_11_08_19.csv')\n",
    "df_mri_adni3 = pd.read_csv(file_loc + 'UCSFFSX6_ADNI3_08_17_22.csv')\n",
    "\n",
    "df_mri_adni2 = df_mri_adni2[df_mri_adni2['IMAGETYPE']=='Non-Accelerated T1']"
   ]
  },
  {
   "cell_type": "code",
   "execution_count": 5,
   "id": "complicated-ordering",
   "metadata": {},
   "outputs": [
    {
     "data": {
      "text/plain": [
       "((484, 395), (4424, 365), (1879, 346))"
      ]
     },
     "execution_count": 5,
     "metadata": {},
     "output_type": "execute_result"
    }
   ],
   "source": [
    "df_mri_adni1['VISCODE2']=df_mri_adni1['VISCODE']\n",
    "df_mri_adni1.shape,df_mri_adni2.shape,df_mri_adni3.shape"
   ]
  },
  {
   "cell_type": "code",
   "execution_count": 6,
   "id": "hawaiian-database",
   "metadata": {},
   "outputs": [
    {
     "data": {
      "text/plain": [
       "(484, 155)"
      ]
     },
     "execution_count": 6,
     "metadata": {},
     "output_type": "execute_result"
    }
   ],
   "source": [
    "df_mri_adni1[df_mri_adni1.columns[df_mri_adni1.columns.isin(df_MRI_region_dict['ADNI Code'])]].shape"
   ]
  },
  {
   "cell_type": "code",
   "execution_count": 7,
   "id": "involved-version",
   "metadata": {},
   "outputs": [
    {
     "data": {
      "text/plain": [
       "(4424, 135)"
      ]
     },
     "execution_count": 7,
     "metadata": {},
     "output_type": "execute_result"
    }
   ],
   "source": [
    "df_mri_adni2[df_mri_adni2.columns[df_mri_adni2.columns.isin(df_MRI_region_dict['ADNI Code'])]].shape"
   ]
  },
  {
   "cell_type": "code",
   "execution_count": 8,
   "id": "received-facing",
   "metadata": {},
   "outputs": [
    {
     "data": {
      "text/plain": [
       "(1879, 119)"
      ]
     },
     "execution_count": 8,
     "metadata": {},
     "output_type": "execute_result"
    }
   ],
   "source": [
    "df_mri_adni3[df_mri_adni3.columns[df_mri_adni3.columns.isin(df_MRI_region_dict['ADNI Code'])]].shape"
   ]
  },
  {
   "cell_type": "code",
   "execution_count": 9,
   "id": "upset-poster",
   "metadata": {},
   "outputs": [
    {
     "data": {
      "text/plain": [
       "119"
      ]
     },
     "execution_count": 9,
     "metadata": {},
     "output_type": "execute_result"
    }
   ],
   "source": [
    "df_mri_adni3_MRI_region_dict=df_mri_adni3[df_mri_adni3.columns[df_mri_adni3.columns.isin(df_MRI_region_dict['ADNI Code'])]].columns.tolist()\n",
    "len(df_mri_adni3_MRI_region_dict)"
   ]
  },
  {
   "cell_type": "code",
   "execution_count": 10,
   "id": "practical-edmonton",
   "metadata": {},
   "outputs": [
    {
     "data": {
      "text/plain": [
       "m12    113\n",
       "bl     112\n",
       "m06     97\n",
       "m24     87\n",
       "m36     39\n",
       "m18     36\n",
       "Name: VISCODE2, dtype: int64"
      ]
     },
     "execution_count": 10,
     "metadata": {},
     "output_type": "execute_result"
    }
   ],
   "source": [
    "df_mri_adni1['VISCODE2'].value_counts()"
   ]
  },
  {
   "cell_type": "code",
   "execution_count": 11,
   "id": "informational-father",
   "metadata": {},
   "outputs": [
    {
     "data": {
      "text/plain": [
       "scmri    987\n",
       "m03      788\n",
       "m12      721\n",
       "m06      711\n",
       "m24      619\n",
       "m48      266\n",
       "m36      122\n",
       "m60       43\n",
       "m84       42\n",
       "m72       41\n",
       "m96       37\n",
       "m108      25\n",
       "m120      15\n",
       "nv         7\n",
       "Name: VISCODE2, dtype: int64"
      ]
     },
     "execution_count": 11,
     "metadata": {},
     "output_type": "execute_result"
    }
   ],
   "source": [
    "df_mri_adni2['VISCODE2'].value_counts()"
   ]
  },
  {
   "cell_type": "code",
   "execution_count": 12,
   "id": "western-statement",
   "metadata": {},
   "outputs": [
    {
     "data": {
      "text/plain": [
       "sc     680\n",
       "m12    182\n",
       "m24    155\n",
       "m72    105\n",
       "m90     71\n",
       "m66     66\n",
       "m78     66\n",
       "m84     58\n",
       "m96     58\n",
       "m48     52\n",
       "Name: VISCODE2, dtype: int64"
      ]
     },
     "execution_count": 12,
     "metadata": {},
     "output_type": "execute_result"
    }
   ],
   "source": [
    "df_mri_adni3['VISCODE2'].value_counts().head(10)"
   ]
  },
  {
   "cell_type": "code",
   "execution_count": 13,
   "id": "unavailable-international",
   "metadata": {},
   "outputs": [
    {
     "data": {
      "text/plain": [
       "((26272, 22), (13491, 10), (4856, 32))"
      ]
     },
     "execution_count": 13,
     "metadata": {},
     "output_type": "execute_result"
    }
   ],
   "source": [
    "file_loc1 = \"../ADNI_data/\"\n",
    "\n",
    "df_REGISTRY=pd.read_csv(file_loc1 + 'REGISTRY_18Aug2023.csv')\n",
    "df_DX = pd.read_csv(file_loc1 + 'DXSUM_PDXCONV_ADNIALL_Diagnostic Summary_standardised.csv')\n",
    "df_PTDEMOG = pd.read_csv(file_loc1 + 'PTDEMOG_18Aug2023.csv')\n",
    "df_APOERES = pd.read_csv(file_loc1 + 'APOERES_23Aug2023.csv')\n",
    "\n",
    "df_adnimerge=pd.read_csv(file_loc1 + 'ADNIMERGE_May15.2014.csv')\n",
    "left_desikan_df = pd.read_csv(file_loc1 + 'Left_Desikan_34_regions.csv')\n",
    "Right_desikan_df = pd.read_csv(file_loc1 + 'Right_Desikan_34_regions.csv')\n",
    "Right_subcortical_df = pd.read_csv(file_loc1 + 'Right_subcortical_regions.csv')\n",
    "\n",
    "\n",
    "\n",
    "df_REGISTRY.shape,df_DX.shape,df_PTDEMOG.shape"
   ]
  },
  {
   "cell_type": "code",
   "execution_count": 14,
   "id": "sixth-buddy",
   "metadata": {},
   "outputs": [
    {
     "data": {
      "text/html": [
       "<div>\n",
       "<style scoped>\n",
       "    .dataframe tbody tr th:only-of-type {\n",
       "        vertical-align: middle;\n",
       "    }\n",
       "\n",
       "    .dataframe tbody tr th {\n",
       "        vertical-align: top;\n",
       "    }\n",
       "\n",
       "    .dataframe thead th {\n",
       "        text-align: right;\n",
       "    }\n",
       "</style>\n",
       "<table border=\"1\" class=\"dataframe\">\n",
       "  <thead>\n",
       "    <tr style=\"text-align: right;\">\n",
       "      <th></th>\n",
       "      <th>Unnamed: 0</th>\n",
       "      <th>RID</th>\n",
       "      <th>1</th>\n",
       "    </tr>\n",
       "  </thead>\n",
       "  <tbody>\n",
       "    <tr>\n",
       "      <th>0</th>\n",
       "      <td>0</td>\n",
       "      <td>14</td>\n",
       "      <td>['depress', '1988', 'treat', 'antidepress', 't...</td>\n",
       "    </tr>\n",
       "    <tr>\n",
       "      <th>1</th>\n",
       "      <td>1</td>\n",
       "      <td>14</td>\n",
       "      <td>['depress', '1988', 'treat', 'antidepress', 't...</td>\n",
       "    </tr>\n",
       "    <tr>\n",
       "      <th>2</th>\n",
       "      <td>2</td>\n",
       "      <td>20</td>\n",
       "      <td>['mild', 'depress', 'start', '7/1993', 'treat'...</td>\n",
       "    </tr>\n",
       "    <tr>\n",
       "      <th>3</th>\n",
       "      <td>3</td>\n",
       "      <td>20</td>\n",
       "      <td>['mild', 'depress', 'start', '7/1993', 'treat'...</td>\n",
       "    </tr>\n",
       "    <tr>\n",
       "      <th>4</th>\n",
       "      <td>4</td>\n",
       "      <td>26</td>\n",
       "      <td>['depress', 'six', 'month', 'ago', 'treat', 'c...</td>\n",
       "    </tr>\n",
       "  </tbody>\n",
       "</table>\n",
       "</div>"
      ],
      "text/plain": [
       "   Unnamed: 0  RID                                                  1\n",
       "0           0   14  ['depress', '1988', 'treat', 'antidepress', 't...\n",
       "1           1   14  ['depress', '1988', 'treat', 'antidepress', 't...\n",
       "2           2   20  ['mild', 'depress', 'start', '7/1993', 'treat'...\n",
       "3           3   20  ['mild', 'depress', 'start', '7/1993', 'treat'...\n",
       "4           4   26  ['depress', 'six', 'month', 'ago', 'treat', 'c..."
      ]
     },
     "execution_count": 14,
     "metadata": {},
     "output_type": "execute_result"
    }
   ],
   "source": [
    "df_medhist_disease = pd.read_csv(\n",
    "    file_loc + 'df_medhist_disease_depression.csv')\n",
    "df_medhist_disease.head()"
   ]
  },
  {
   "cell_type": "code",
   "execution_count": 32,
   "id": "infectious-reducing",
   "metadata": {},
   "outputs": [
    {
     "data": {
      "text/plain": [
       "(4182, 4080, 2957, 755)"
      ]
     },
     "execution_count": 32,
     "metadata": {},
     "output_type": "execute_result"
    }
   ],
   "source": [
    "df_REGISTRY.RID.nunique(),df_PTDEMOG.RID.nunique(),df_DX.RID.nunique(),df_medhist_disease['RID'].nunique()"
   ]
  },
  {
   "cell_type": "code",
   "execution_count": 16,
   "id": "bridal-bloom",
   "metadata": {},
   "outputs": [
    {
     "data": {
      "text/plain": [
       "Index(['Phase', 'ID', 'RID', 'SITEID', 'VISCODE', 'VISCODE2', 'USERDATE',\n",
       "       'USERDATE2', 'PTSTATUS', 'RGSTATUS', 'VISTYPE', 'EXAMDATE', 'RGCONDCT',\n",
       "       'RGREASON', 'RGOTHSPE', 'RGSOURCE', 'RGRESCRN', 'RGPREVID', 'CHANGTR',\n",
       "       'CGTRACK', 'CGTRACK2', 'update_stamp'],\n",
       "      dtype='object')"
      ]
     },
     "execution_count": 16,
     "metadata": {},
     "output_type": "execute_result"
    }
   ],
   "source": [
    "df_REGISTRY.columns"
   ]
  },
  {
   "cell_type": "code",
   "execution_count": 17,
   "id": "advanced-balance",
   "metadata": {},
   "outputs": [
    {
     "data": {
      "text/plain": [
       "(26272,)"
      ]
     },
     "execution_count": 17,
     "metadata": {},
     "output_type": "execute_result"
    }
   ],
   "source": [
    "df_REGISTRY.USERDATE.dropna().shape"
   ]
  },
  {
   "cell_type": "code",
   "execution_count": 34,
   "id": "geological-manual",
   "metadata": {},
   "outputs": [
    {
     "data": {
      "text/plain": [
       "sc     3828\n",
       "bl     2453\n",
       "m12    2198\n",
       "m24    1864\n",
       "m06    1705\n",
       "Name: VISCODE2, dtype: int64"
      ]
     },
     "execution_count": 34,
     "metadata": {},
     "output_type": "execute_result"
    }
   ],
   "source": [
    "df_REGISTRY['VISCODE2'].value_counts().head() #sc, bl match RID.unique?"
   ]
  },
  {
   "cell_type": "code",
   "execution_count": 18,
   "id": "emerging-assignment",
   "metadata": {},
   "outputs": [
    {
     "data": {
      "text/plain": [
       "Phase\n",
       "ADNI1     1386\n",
       "ADNI2     1685\n",
       "ADNI3     1551\n",
       "ADNIGO     616\n",
       "Name: RID, dtype: int64"
      ]
     },
     "execution_count": 18,
     "metadata": {},
     "output_type": "execute_result"
    }
   ],
   "source": [
    "df_REGISTRY.groupby('Phase')['RID'].nunique()"
   ]
  },
  {
   "cell_type": "code",
   "execution_count": 19,
   "id": "desirable-class",
   "metadata": {},
   "outputs": [],
   "source": [
    "# [['Phase',  'RID',  'VISCODE', 'VISCODE2', 'USERDATE','EXAMDATE', 'update_stamp']]"
   ]
  },
  {
   "cell_type": "code",
   "execution_count": 20,
   "id": "marked-saint",
   "metadata": {},
   "outputs": [
    {
     "data": {
      "text/html": [
       "<div>\n",
       "<style scoped>\n",
       "    .dataframe tbody tr th:only-of-type {\n",
       "        vertical-align: middle;\n",
       "    }\n",
       "\n",
       "    .dataframe tbody tr th {\n",
       "        vertical-align: top;\n",
       "    }\n",
       "\n",
       "    .dataframe thead th {\n",
       "        text-align: right;\n",
       "    }\n",
       "</style>\n",
       "<table border=\"1\" class=\"dataframe\">\n",
       "  <thead>\n",
       "    <tr style=\"text-align: right;\">\n",
       "      <th></th>\n",
       "      <th>Phase</th>\n",
       "      <th>RID</th>\n",
       "      <th>VISCODE2</th>\n",
       "      <th>USERDATE</th>\n",
       "    </tr>\n",
       "  </thead>\n",
       "  <tbody>\n",
       "    <tr>\n",
       "      <th>0</th>\n",
       "      <td>ADNI1</td>\n",
       "      <td>2</td>\n",
       "      <td>sc</td>\n",
       "      <td>2005-08-17</td>\n",
       "    </tr>\n",
       "    <tr>\n",
       "      <th>9</th>\n",
       "      <td>ADNI1</td>\n",
       "      <td>2</td>\n",
       "      <td>bl</td>\n",
       "      <td>2005-09-12</td>\n",
       "    </tr>\n",
       "    <tr>\n",
       "      <th>367</th>\n",
       "      <td>ADNI1</td>\n",
       "      <td>2</td>\n",
       "      <td>m06</td>\n",
       "      <td>2006-03-07</td>\n",
       "    </tr>\n",
       "    <tr>\n",
       "      <th>1411</th>\n",
       "      <td>ADNI1</td>\n",
       "      <td>2</td>\n",
       "      <td>m12</td>\n",
       "      <td>2006-09-14</td>\n",
       "    </tr>\n",
       "    <tr>\n",
       "      <th>2683</th>\n",
       "      <td>ADNI1</td>\n",
       "      <td>2</td>\n",
       "      <td>m18</td>\n",
       "      <td>2007-03-27</td>\n",
       "    </tr>\n",
       "    <tr>\n",
       "      <th>3571</th>\n",
       "      <td>ADNI1</td>\n",
       "      <td>2</td>\n",
       "      <td>m24</td>\n",
       "      <td>2007-09-22</td>\n",
       "    </tr>\n",
       "    <tr>\n",
       "      <th>4529</th>\n",
       "      <td>ADNI1</td>\n",
       "      <td>2</td>\n",
       "      <td>m30</td>\n",
       "      <td>2008-04-25</td>\n",
       "    </tr>\n",
       "    <tr>\n",
       "      <th>5035</th>\n",
       "      <td>ADNI1</td>\n",
       "      <td>2</td>\n",
       "      <td>m36</td>\n",
       "      <td>2008-08-27</td>\n",
       "    </tr>\n",
       "    <tr>\n",
       "      <th>7001</th>\n",
       "      <td>ADNI1</td>\n",
       "      <td>2</td>\n",
       "      <td>m42</td>\n",
       "      <td>2010-07-22</td>\n",
       "    </tr>\n",
       "    <tr>\n",
       "      <th>7002</th>\n",
       "      <td>ADNI1</td>\n",
       "      <td>2</td>\n",
       "      <td>m48</td>\n",
       "      <td>2010-07-22</td>\n",
       "    </tr>\n",
       "    <tr>\n",
       "      <th>7088</th>\n",
       "      <td>ADNI1</td>\n",
       "      <td>2</td>\n",
       "      <td>m54</td>\n",
       "      <td>2010-09-22</td>\n",
       "    </tr>\n",
       "    <tr>\n",
       "      <th>7760</th>\n",
       "      <td>ADNIGO</td>\n",
       "      <td>2</td>\n",
       "      <td>sc</td>\n",
       "      <td>2010-09-22</td>\n",
       "    </tr>\n",
       "    <tr>\n",
       "      <th>7761</th>\n",
       "      <td>ADNIGO</td>\n",
       "      <td>2</td>\n",
       "      <td>m60</td>\n",
       "      <td>2010-09-22</td>\n",
       "    </tr>\n",
       "    <tr>\n",
       "      <th>8465</th>\n",
       "      <td>ADNIGO</td>\n",
       "      <td>2</td>\n",
       "      <td>m66</td>\n",
       "      <td>2011-03-09</td>\n",
       "    </tr>\n",
       "    <tr>\n",
       "      <th>9833</th>\n",
       "      <td>ADNI2</td>\n",
       "      <td>2</td>\n",
       "      <td>m72</td>\n",
       "      <td>2011-09-20</td>\n",
       "    </tr>\n",
       "    <tr>\n",
       "      <th>11277</th>\n",
       "      <td>ADNI2</td>\n",
       "      <td>2</td>\n",
       "      <td>m78</td>\n",
       "      <td>2012-03-26</td>\n",
       "    </tr>\n",
       "    <tr>\n",
       "      <th>12923</th>\n",
       "      <td>ADNI2</td>\n",
       "      <td>2</td>\n",
       "      <td>m84</td>\n",
       "      <td>2012-09-26</td>\n",
       "    </tr>\n",
       "    <tr>\n",
       "      <th>14210</th>\n",
       "      <td>ADNI2</td>\n",
       "      <td>2</td>\n",
       "      <td>m90</td>\n",
       "      <td>2013-03-25</td>\n",
       "    </tr>\n",
       "    <tr>\n",
       "      <th>15546</th>\n",
       "      <td>ADNI2</td>\n",
       "      <td>2</td>\n",
       "      <td>m96</td>\n",
       "      <td>2013-09-09</td>\n",
       "    </tr>\n",
       "    <tr>\n",
       "      <th>16779</th>\n",
       "      <td>ADNI2</td>\n",
       "      <td>2</td>\n",
       "      <td>m102</td>\n",
       "      <td>2014-03-17</td>\n",
       "    </tr>\n",
       "    <tr>\n",
       "      <th>17768</th>\n",
       "      <td>ADNI2</td>\n",
       "      <td>2</td>\n",
       "      <td>m108</td>\n",
       "      <td>2014-12-29</td>\n",
       "    </tr>\n",
       "    <tr>\n",
       "      <th>19032</th>\n",
       "      <td>ADNI2</td>\n",
       "      <td>2</td>\n",
       "      <td>m114</td>\n",
       "      <td>2015-08-24</td>\n",
       "    </tr>\n",
       "    <tr>\n",
       "      <th>19218</th>\n",
       "      <td>ADNI2</td>\n",
       "      <td>2</td>\n",
       "      <td>m120</td>\n",
       "      <td>2015-09-24</td>\n",
       "    </tr>\n",
       "    <tr>\n",
       "      <th>20597</th>\n",
       "      <td>ADNI2</td>\n",
       "      <td>2</td>\n",
       "      <td>m126</td>\n",
       "      <td>2016-09-27</td>\n",
       "    </tr>\n",
       "    <tr>\n",
       "      <th>20598</th>\n",
       "      <td>ADNI2</td>\n",
       "      <td>2</td>\n",
       "      <td>m132</td>\n",
       "      <td>2016-09-27</td>\n",
       "    </tr>\n",
       "    <tr>\n",
       "      <th>21593</th>\n",
       "      <td>ADNI3</td>\n",
       "      <td>2</td>\n",
       "      <td>m144</td>\n",
       "      <td>2017-10-26</td>\n",
       "    </tr>\n",
       "    <tr>\n",
       "      <th>23606</th>\n",
       "      <td>ADNI3</td>\n",
       "      <td>2</td>\n",
       "      <td>NaN</td>\n",
       "      <td>2019-09-13</td>\n",
       "    </tr>\n",
       "    <tr>\n",
       "      <th>24727</th>\n",
       "      <td>ADNI3</td>\n",
       "      <td>2</td>\n",
       "      <td>NaN</td>\n",
       "      <td>2021-04-08</td>\n",
       "    </tr>\n",
       "  </tbody>\n",
       "</table>\n",
       "</div>"
      ],
      "text/plain": [
       "        Phase  RID VISCODE2    USERDATE\n",
       "0       ADNI1    2       sc  2005-08-17\n",
       "9       ADNI1    2       bl  2005-09-12\n",
       "367     ADNI1    2      m06  2006-03-07\n",
       "1411    ADNI1    2      m12  2006-09-14\n",
       "2683    ADNI1    2      m18  2007-03-27\n",
       "3571    ADNI1    2      m24  2007-09-22\n",
       "4529    ADNI1    2      m30  2008-04-25\n",
       "5035    ADNI1    2      m36  2008-08-27\n",
       "7001    ADNI1    2      m42  2010-07-22\n",
       "7002    ADNI1    2      m48  2010-07-22\n",
       "7088    ADNI1    2      m54  2010-09-22\n",
       "7760   ADNIGO    2       sc  2010-09-22\n",
       "7761   ADNIGO    2      m60  2010-09-22\n",
       "8465   ADNIGO    2      m66  2011-03-09\n",
       "9833    ADNI2    2      m72  2011-09-20\n",
       "11277   ADNI2    2      m78  2012-03-26\n",
       "12923   ADNI2    2      m84  2012-09-26\n",
       "14210   ADNI2    2      m90  2013-03-25\n",
       "15546   ADNI2    2      m96  2013-09-09\n",
       "16779   ADNI2    2     m102  2014-03-17\n",
       "17768   ADNI2    2     m108  2014-12-29\n",
       "19032   ADNI2    2     m114  2015-08-24\n",
       "19218   ADNI2    2     m120  2015-09-24\n",
       "20597   ADNI2    2     m126  2016-09-27\n",
       "20598   ADNI2    2     m132  2016-09-27\n",
       "21593   ADNI3    2     m144  2017-10-26\n",
       "23606   ADNI3    2      NaN  2019-09-13\n",
       "24727   ADNI3    2      NaN  2021-04-08"
      ]
     },
     "execution_count": 20,
     "metadata": {},
     "output_type": "execute_result"
    }
   ],
   "source": [
    "df_REGISTRY[df_REGISTRY['RID']==2][['Phase',  'RID',  'VISCODE2', 'USERDATE']]"
   ]
  },
  {
   "cell_type": "code",
   "execution_count": 22,
   "id": "elect-browser",
   "metadata": {},
   "outputs": [
    {
     "data": {
      "text/plain": [
       "Index(['Phase', 'ID', 'RID', 'SITEID', 'VISCODE', 'VISCODE2', 'USERDATE',\n",
       "       'USERDATE2', 'PTSOURCE', 'PTGENDER', 'PTDOBMM', 'PTDOBYY', 'PTHAND',\n",
       "       'PTMARRY', 'PTEDUCAT', 'PTWORKHS', 'PTWORK', 'PTWRECNT', 'PTNOTRT',\n",
       "       'PTRTYR', 'PTHOME', 'PTOTHOME', 'PTTLANG', 'PTPLANG', 'PTPSPEC',\n",
       "       'PTCOGBEG', 'PTMCIBEG', 'PTADBEG', 'PTADDX', 'PTETHCAT', 'PTRACCAT',\n",
       "       'update_stamp'],\n",
       "      dtype='object')"
      ]
     },
     "execution_count": 22,
     "metadata": {},
     "output_type": "execute_result"
    }
   ],
   "source": [
    "df_PTDEMOG.columns"
   ]
  },
  {
   "cell_type": "code",
   "execution_count": 23,
   "id": "synthetic-virtue",
   "metadata": {},
   "outputs": [],
   "source": [
    "# [['RID', 'SITEID', 'VISCODE', 'VISCODE2','USERDATE2','USERDATE','PTDOBMM', 'PTDOBYY','PTRTYR']]"
   ]
  },
  {
   "cell_type": "code",
   "execution_count": 24,
   "id": "surrounded-patio",
   "metadata": {},
   "outputs": [
    {
     "data": {
      "text/plain": [
       "(4078, 3)"
      ]
     },
     "execution_count": 24,
     "metadata": {},
     "output_type": "execute_result"
    }
   ],
   "source": [
    "df_PTDEMOG[['RID', 'PTDOBMM', 'PTDOBYY']].dropna().drop_duplicates().shape"
   ]
  },
  {
   "cell_type": "code",
   "execution_count": 25,
   "id": "conceptual-battery",
   "metadata": {},
   "outputs": [
    {
     "data": {
      "text/plain": [
       "4080"
      ]
     },
     "execution_count": 25,
     "metadata": {},
     "output_type": "execute_result"
    }
   ],
   "source": [
    "df_PTDEMOG[['RID', 'USERDATE','PTDOBMM', 'PTDOBYY']].RID.nunique()"
   ]
  },
  {
   "cell_type": "code",
   "execution_count": 26,
   "id": "phantom-result",
   "metadata": {},
   "outputs": [
    {
     "data": {
      "text/html": [
       "<div>\n",
       "<style scoped>\n",
       "    .dataframe tbody tr th:only-of-type {\n",
       "        vertical-align: middle;\n",
       "    }\n",
       "\n",
       "    .dataframe tbody tr th {\n",
       "        vertical-align: top;\n",
       "    }\n",
       "\n",
       "    .dataframe thead th {\n",
       "        text-align: right;\n",
       "    }\n",
       "</style>\n",
       "<table border=\"1\" class=\"dataframe\">\n",
       "  <thead>\n",
       "    <tr style=\"text-align: right;\">\n",
       "      <th></th>\n",
       "      <th>RID</th>\n",
       "      <th>USERDATE</th>\n",
       "      <th>PTDOBMM</th>\n",
       "      <th>PTDOBYY</th>\n",
       "    </tr>\n",
       "  </thead>\n",
       "  <tbody>\n",
       "    <tr>\n",
       "      <th>1368</th>\n",
       "      <td>1417</td>\n",
       "      <td>2007-06-27</td>\n",
       "      <td>6.0</td>\n",
       "      <td>1944.0</td>\n",
       "    </tr>\n",
       "    <tr>\n",
       "      <th>1544</th>\n",
       "      <td>1417</td>\n",
       "      <td>2010-09-07</td>\n",
       "      <td>6.0</td>\n",
       "      <td>1944.0</td>\n",
       "    </tr>\n",
       "    <tr>\n",
       "      <th>2368</th>\n",
       "      <td>1417</td>\n",
       "      <td>2011-09-02</td>\n",
       "      <td>6.0</td>\n",
       "      <td>1944.0</td>\n",
       "    </tr>\n",
       "  </tbody>\n",
       "</table>\n",
       "</div>"
      ],
      "text/plain": [
       "       RID    USERDATE  PTDOBMM  PTDOBYY\n",
       "1368  1417  2007-06-27      6.0   1944.0\n",
       "1544  1417  2010-09-07      6.0   1944.0\n",
       "2368  1417  2011-09-02      6.0   1944.0"
      ]
     },
     "execution_count": 26,
     "metadata": {},
     "output_type": "execute_result"
    }
   ],
   "source": [
    "df_PTDEMOG[df_PTDEMOG['RID']==1417][['RID', 'USERDATE', 'PTDOBMM', 'PTDOBYY']].dropna().drop_duplicates()"
   ]
  },
  {
   "cell_type": "code",
   "execution_count": 27,
   "id": "auburn-belly",
   "metadata": {},
   "outputs": [],
   "source": [
    "# df_PTDEMOG[['RID','PTDOBMM', 'PTDOBYY']].dropna().drop_duplicates().RID.value_counts()"
   ]
  },
  {
   "cell_type": "code",
   "execution_count": 28,
   "id": "greek-satellite",
   "metadata": {},
   "outputs": [
    {
     "data": {
      "text/html": [
       "<div>\n",
       "<style scoped>\n",
       "    .dataframe tbody tr th:only-of-type {\n",
       "        vertical-align: middle;\n",
       "    }\n",
       "\n",
       "    .dataframe tbody tr th {\n",
       "        vertical-align: top;\n",
       "    }\n",
       "\n",
       "    .dataframe thead th {\n",
       "        text-align: right;\n",
       "    }\n",
       "</style>\n",
       "<table border=\"1\" class=\"dataframe\">\n",
       "  <thead>\n",
       "    <tr style=\"text-align: right;\">\n",
       "      <th></th>\n",
       "      <th>RID</th>\n",
       "      <th>PTDOBMM</th>\n",
       "      <th>PTDOBYY</th>\n",
       "    </tr>\n",
       "  </thead>\n",
       "  <tbody>\n",
       "    <tr>\n",
       "      <th>0</th>\n",
       "      <td>2</td>\n",
       "      <td>4.0</td>\n",
       "      <td>1931.0</td>\n",
       "    </tr>\n",
       "    <tr>\n",
       "      <th>1</th>\n",
       "      <td>1</td>\n",
       "      <td>12.0</td>\n",
       "      <td>1944.0</td>\n",
       "    </tr>\n",
       "    <tr>\n",
       "      <th>2</th>\n",
       "      <td>3</td>\n",
       "      <td>5.0</td>\n",
       "      <td>1924.0</td>\n",
       "    </tr>\n",
       "    <tr>\n",
       "      <th>3</th>\n",
       "      <td>4</td>\n",
       "      <td>1.0</td>\n",
       "      <td>1938.0</td>\n",
       "    </tr>\n",
       "    <tr>\n",
       "      <th>4</th>\n",
       "      <td>5</td>\n",
       "      <td>12.0</td>\n",
       "      <td>1931.0</td>\n",
       "    </tr>\n",
       "  </tbody>\n",
       "</table>\n",
       "</div>"
      ],
      "text/plain": [
       "   RID  PTDOBMM  PTDOBYY\n",
       "0    2      4.0   1931.0\n",
       "1    1     12.0   1944.0\n",
       "2    3      5.0   1924.0\n",
       "3    4      1.0   1938.0\n",
       "4    5     12.0   1931.0"
      ]
     },
     "execution_count": 28,
     "metadata": {},
     "output_type": "execute_result"
    }
   ],
   "source": [
    "df_PTDEMOG[['RID','PTDOBMM', 'PTDOBYY']].dropna().drop_duplicates().head()"
   ]
  },
  {
   "cell_type": "code",
   "execution_count": 36,
   "id": "interim-sheep",
   "metadata": {},
   "outputs": [
    {
     "data": {
      "text/plain": [
       "4076"
      ]
     },
     "execution_count": 36,
     "metadata": {},
     "output_type": "execute_result"
    }
   ],
   "source": [
    "df_REGISTRY_Age=pd.merge(df_REGISTRY[['Phase',  'RID',  'VISCODE2', 'USERDATE']].dropna().drop_duplicates(),df_PTDEMOG[['RID','PTDOBMM', 'PTDOBYY']].dropna().drop_duplicates(),on='RID')\n",
    "df_REGISTRY_Age.RID.nunique()"
   ]
  },
  {
   "cell_type": "code",
   "execution_count": 39,
   "id": "authorized-means",
   "metadata": {},
   "outputs": [
    {
     "data": {
      "text/html": [
       "<div>\n",
       "<style scoped>\n",
       "    .dataframe tbody tr th:only-of-type {\n",
       "        vertical-align: middle;\n",
       "    }\n",
       "\n",
       "    .dataframe tbody tr th {\n",
       "        vertical-align: top;\n",
       "    }\n",
       "\n",
       "    .dataframe thead th {\n",
       "        text-align: right;\n",
       "    }\n",
       "</style>\n",
       "<table border=\"1\" class=\"dataframe\">\n",
       "  <thead>\n",
       "    <tr style=\"text-align: right;\">\n",
       "      <th></th>\n",
       "      <th>Phase</th>\n",
       "      <th>RID</th>\n",
       "      <th>VISCODE2</th>\n",
       "      <th>USERDATE</th>\n",
       "      <th>PTDOBMM</th>\n",
       "      <th>PTDOBYY</th>\n",
       "    </tr>\n",
       "  </thead>\n",
       "  <tbody>\n",
       "    <tr>\n",
       "      <th>0</th>\n",
       "      <td>ADNI1</td>\n",
       "      <td>2</td>\n",
       "      <td>sc</td>\n",
       "      <td>2005-08-17</td>\n",
       "      <td>4.0</td>\n",
       "      <td>1931.0</td>\n",
       "    </tr>\n",
       "    <tr>\n",
       "      <th>1</th>\n",
       "      <td>ADNI1</td>\n",
       "      <td>2</td>\n",
       "      <td>bl</td>\n",
       "      <td>2005-09-12</td>\n",
       "      <td>4.0</td>\n",
       "      <td>1931.0</td>\n",
       "    </tr>\n",
       "    <tr>\n",
       "      <th>2</th>\n",
       "      <td>ADNI1</td>\n",
       "      <td>2</td>\n",
       "      <td>m06</td>\n",
       "      <td>2006-03-07</td>\n",
       "      <td>4.0</td>\n",
       "      <td>1931.0</td>\n",
       "    </tr>\n",
       "    <tr>\n",
       "      <th>3</th>\n",
       "      <td>ADNI1</td>\n",
       "      <td>2</td>\n",
       "      <td>m12</td>\n",
       "      <td>2006-09-14</td>\n",
       "      <td>4.0</td>\n",
       "      <td>1931.0</td>\n",
       "    </tr>\n",
       "    <tr>\n",
       "      <th>4</th>\n",
       "      <td>ADNI1</td>\n",
       "      <td>2</td>\n",
       "      <td>m18</td>\n",
       "      <td>2007-03-27</td>\n",
       "      <td>4.0</td>\n",
       "      <td>1931.0</td>\n",
       "    </tr>\n",
       "  </tbody>\n",
       "</table>\n",
       "</div>"
      ],
      "text/plain": [
       "   Phase  RID VISCODE2    USERDATE  PTDOBMM  PTDOBYY\n",
       "0  ADNI1    2       sc  2005-08-17      4.0   1931.0\n",
       "1  ADNI1    2       bl  2005-09-12      4.0   1931.0\n",
       "2  ADNI1    2      m06  2006-03-07      4.0   1931.0\n",
       "3  ADNI1    2      m12  2006-09-14      4.0   1931.0\n",
       "4  ADNI1    2      m18  2007-03-27      4.0   1931.0"
      ]
     },
     "execution_count": 39,
     "metadata": {},
     "output_type": "execute_result"
    }
   ],
   "source": [
    "df_REGISTRY_Age[df_REGISTRY_Age['RID']==2].head()"
   ]
  },
  {
   "cell_type": "code",
   "execution_count": 51,
   "id": "coupled-affect",
   "metadata": {},
   "outputs": [],
   "source": [
    "def convert_to_datetime(df):\n",
    "    year = int(df['PTDOBYY'])\n",
    "    month= int(df['PTDOBMM'])    \n",
    "    base_date = pd.to_datetime(f'{year}-{month}-01')\n",
    "    return base_date \n",
    "df_REGISTRY_Age[['DOB_mm_yy']]=df_REGISTRY_Age[['PTDOBMM','PTDOBYY']].apply(convert_to_datetime,axis=1)"
   ]
  },
  {
   "cell_type": "code",
   "execution_count": 58,
   "id": "continuous-field",
   "metadata": {},
   "outputs": [],
   "source": [
    "# df_REGISTRY_Age['DOB_mm_yy'].dropna().shape,df_REGISTRY_Age['PTDOBYY'].dropna().shape"
   ]
  },
  {
   "cell_type": "code",
   "execution_count": 109,
   "id": "balanced-polls",
   "metadata": {},
   "outputs": [],
   "source": [
    "# df_REGISTRY_Age[['USERDATE_tf']]=df_REGISTRY_Age[['USERDATE']].apply(pd.to_datetime)\n",
    "# df_REGISTRY_Age['DOB_indays']=df_REGISTRY_Age['USERDATE_tf'] - df_REGISTRY_Age['DOB_mm_yy']\n",
    "df_REGISTRY_Age['DOB_inyears']=df_REGISTRY_Age['DOB_indays'].dt.days/365"
   ]
  },
  {
   "cell_type": "code",
   "execution_count": 115,
   "id": "studied-comparison",
   "metadata": {},
   "outputs": [
    {
     "data": {
      "text/html": [
       "<div>\n",
       "<style scoped>\n",
       "    .dataframe tbody tr th:only-of-type {\n",
       "        vertical-align: middle;\n",
       "    }\n",
       "\n",
       "    .dataframe tbody tr th {\n",
       "        vertical-align: top;\n",
       "    }\n",
       "\n",
       "    .dataframe thead th {\n",
       "        text-align: right;\n",
       "    }\n",
       "</style>\n",
       "<table border=\"1\" class=\"dataframe\">\n",
       "  <thead>\n",
       "    <tr style=\"text-align: right;\">\n",
       "      <th></th>\n",
       "      <th>Phase</th>\n",
       "      <th>RID</th>\n",
       "      <th>VISCODE2</th>\n",
       "      <th>USERDATE</th>\n",
       "      <th>PTDOBMM</th>\n",
       "      <th>PTDOBYY</th>\n",
       "      <th>DOB_mm_yy</th>\n",
       "      <th>USERDATE_tf</th>\n",
       "      <th>DOB_indays</th>\n",
       "      <th>DOB_inyears</th>\n",
       "    </tr>\n",
       "  </thead>\n",
       "  <tbody>\n",
       "    <tr>\n",
       "      <th>0</th>\n",
       "      <td>ADNI1</td>\n",
       "      <td>2</td>\n",
       "      <td>sc</td>\n",
       "      <td>2005-08-17</td>\n",
       "      <td>4.0</td>\n",
       "      <td>1931.0</td>\n",
       "      <td>1931-04-01</td>\n",
       "      <td>2005-08-17</td>\n",
       "      <td>27167 days</td>\n",
       "      <td>74.430137</td>\n",
       "    </tr>\n",
       "    <tr>\n",
       "      <th>1</th>\n",
       "      <td>ADNI1</td>\n",
       "      <td>2</td>\n",
       "      <td>bl</td>\n",
       "      <td>2005-09-12</td>\n",
       "      <td>4.0</td>\n",
       "      <td>1931.0</td>\n",
       "      <td>1931-04-01</td>\n",
       "      <td>2005-09-12</td>\n",
       "      <td>27193 days</td>\n",
       "      <td>74.501370</td>\n",
       "    </tr>\n",
       "    <tr>\n",
       "      <th>2</th>\n",
       "      <td>ADNI1</td>\n",
       "      <td>2</td>\n",
       "      <td>m06</td>\n",
       "      <td>2006-03-07</td>\n",
       "      <td>4.0</td>\n",
       "      <td>1931.0</td>\n",
       "      <td>1931-04-01</td>\n",
       "      <td>2006-03-07</td>\n",
       "      <td>27369 days</td>\n",
       "      <td>74.983562</td>\n",
       "    </tr>\n",
       "    <tr>\n",
       "      <th>3</th>\n",
       "      <td>ADNI1</td>\n",
       "      <td>2</td>\n",
       "      <td>m12</td>\n",
       "      <td>2006-09-14</td>\n",
       "      <td>4.0</td>\n",
       "      <td>1931.0</td>\n",
       "      <td>1931-04-01</td>\n",
       "      <td>2006-09-14</td>\n",
       "      <td>27560 days</td>\n",
       "      <td>75.506849</td>\n",
       "    </tr>\n",
       "    <tr>\n",
       "      <th>4</th>\n",
       "      <td>ADNI1</td>\n",
       "      <td>2</td>\n",
       "      <td>m18</td>\n",
       "      <td>2007-03-27</td>\n",
       "      <td>4.0</td>\n",
       "      <td>1931.0</td>\n",
       "      <td>1931-04-01</td>\n",
       "      <td>2007-03-27</td>\n",
       "      <td>27754 days</td>\n",
       "      <td>76.038356</td>\n",
       "    </tr>\n",
       "    <tr>\n",
       "      <th>5</th>\n",
       "      <td>ADNI1</td>\n",
       "      <td>2</td>\n",
       "      <td>m24</td>\n",
       "      <td>2007-09-22</td>\n",
       "      <td>4.0</td>\n",
       "      <td>1931.0</td>\n",
       "      <td>1931-04-01</td>\n",
       "      <td>2007-09-22</td>\n",
       "      <td>27933 days</td>\n",
       "      <td>76.528767</td>\n",
       "    </tr>\n",
       "    <tr>\n",
       "      <th>6</th>\n",
       "      <td>ADNI1</td>\n",
       "      <td>2</td>\n",
       "      <td>m30</td>\n",
       "      <td>2008-04-25</td>\n",
       "      <td>4.0</td>\n",
       "      <td>1931.0</td>\n",
       "      <td>1931-04-01</td>\n",
       "      <td>2008-04-25</td>\n",
       "      <td>28149 days</td>\n",
       "      <td>77.120548</td>\n",
       "    </tr>\n",
       "    <tr>\n",
       "      <th>7</th>\n",
       "      <td>ADNI1</td>\n",
       "      <td>2</td>\n",
       "      <td>m36</td>\n",
       "      <td>2008-08-27</td>\n",
       "      <td>4.0</td>\n",
       "      <td>1931.0</td>\n",
       "      <td>1931-04-01</td>\n",
       "      <td>2008-08-27</td>\n",
       "      <td>28273 days</td>\n",
       "      <td>77.460274</td>\n",
       "    </tr>\n",
       "    <tr>\n",
       "      <th>8</th>\n",
       "      <td>ADNI1</td>\n",
       "      <td>2</td>\n",
       "      <td>m42</td>\n",
       "      <td>2010-07-22</td>\n",
       "      <td>4.0</td>\n",
       "      <td>1931.0</td>\n",
       "      <td>1931-04-01</td>\n",
       "      <td>2010-07-22</td>\n",
       "      <td>28967 days</td>\n",
       "      <td>79.361644</td>\n",
       "    </tr>\n",
       "    <tr>\n",
       "      <th>9</th>\n",
       "      <td>ADNI1</td>\n",
       "      <td>2</td>\n",
       "      <td>m48</td>\n",
       "      <td>2010-07-22</td>\n",
       "      <td>4.0</td>\n",
       "      <td>1931.0</td>\n",
       "      <td>1931-04-01</td>\n",
       "      <td>2010-07-22</td>\n",
       "      <td>28967 days</td>\n",
       "      <td>79.361644</td>\n",
       "    </tr>\n",
       "  </tbody>\n",
       "</table>\n",
       "</div>"
      ],
      "text/plain": [
       "   Phase  RID VISCODE2    USERDATE  PTDOBMM  PTDOBYY  DOB_mm_yy USERDATE_tf  \\\n",
       "0  ADNI1    2       sc  2005-08-17      4.0   1931.0 1931-04-01  2005-08-17   \n",
       "1  ADNI1    2       bl  2005-09-12      4.0   1931.0 1931-04-01  2005-09-12   \n",
       "2  ADNI1    2      m06  2006-03-07      4.0   1931.0 1931-04-01  2006-03-07   \n",
       "3  ADNI1    2      m12  2006-09-14      4.0   1931.0 1931-04-01  2006-09-14   \n",
       "4  ADNI1    2      m18  2007-03-27      4.0   1931.0 1931-04-01  2007-03-27   \n",
       "5  ADNI1    2      m24  2007-09-22      4.0   1931.0 1931-04-01  2007-09-22   \n",
       "6  ADNI1    2      m30  2008-04-25      4.0   1931.0 1931-04-01  2008-04-25   \n",
       "7  ADNI1    2      m36  2008-08-27      4.0   1931.0 1931-04-01  2008-08-27   \n",
       "8  ADNI1    2      m42  2010-07-22      4.0   1931.0 1931-04-01  2010-07-22   \n",
       "9  ADNI1    2      m48  2010-07-22      4.0   1931.0 1931-04-01  2010-07-22   \n",
       "\n",
       "  DOB_indays  DOB_inyears  \n",
       "0 27167 days    74.430137  \n",
       "1 27193 days    74.501370  \n",
       "2 27369 days    74.983562  \n",
       "3 27560 days    75.506849  \n",
       "4 27754 days    76.038356  \n",
       "5 27933 days    76.528767  \n",
       "6 28149 days    77.120548  \n",
       "7 28273 days    77.460274  \n",
       "8 28967 days    79.361644  \n",
       "9 28967 days    79.361644  "
      ]
     },
     "execution_count": 115,
     "metadata": {},
     "output_type": "execute_result"
    }
   ],
   "source": [
    "df_REGISTRY_Age[df_REGISTRY_Age['RID']==2].head(10)"
   ]
  },
  {
   "cell_type": "code",
   "execution_count": 133,
   "id": "emotional-trouble",
   "metadata": {},
   "outputs": [
    {
     "data": {
      "text/html": [
       "<div>\n",
       "<style scoped>\n",
       "    .dataframe tbody tr th:only-of-type {\n",
       "        vertical-align: middle;\n",
       "    }\n",
       "\n",
       "    .dataframe tbody tr th {\n",
       "        vertical-align: top;\n",
       "    }\n",
       "\n",
       "    .dataframe thead th {\n",
       "        text-align: right;\n",
       "    }\n",
       "</style>\n",
       "<table border=\"1\" class=\"dataframe\">\n",
       "  <thead>\n",
       "    <tr style=\"text-align: right;\">\n",
       "      <th></th>\n",
       "      <th>RID</th>\n",
       "      <th>VISCODE</th>\n",
       "      <th>EXAMDATE</th>\n",
       "      <th>AGE</th>\n",
       "      <th>Years.bl</th>\n",
       "      <th>Month.bl</th>\n",
       "      <th>Month</th>\n",
       "      <th>M</th>\n",
       "    </tr>\n",
       "  </thead>\n",
       "  <tbody>\n",
       "    <tr>\n",
       "      <th>0</th>\n",
       "      <td>2</td>\n",
       "      <td>bl</td>\n",
       "      <td>9/8/2005</td>\n",
       "      <td>74.3</td>\n",
       "      <td>0.000000</td>\n",
       "      <td>0.000000</td>\n",
       "      <td>0.0</td>\n",
       "      <td>0</td>\n",
       "    </tr>\n",
       "    <tr>\n",
       "      <th>1</th>\n",
       "      <td>2</td>\n",
       "      <td>m06</td>\n",
       "      <td>3/6/2006</td>\n",
       "      <td>74.3</td>\n",
       "      <td>0.490075</td>\n",
       "      <td>5.868852</td>\n",
       "      <td>6.0</td>\n",
       "      <td>6</td>\n",
       "    </tr>\n",
       "    <tr>\n",
       "      <th>2</th>\n",
       "      <td>2</td>\n",
       "      <td>m36</td>\n",
       "      <td>8/27/2008</td>\n",
       "      <td>74.3</td>\n",
       "      <td>2.967830</td>\n",
       "      <td>35.540984</td>\n",
       "      <td>36.0</td>\n",
       "      <td>36</td>\n",
       "    </tr>\n",
       "    <tr>\n",
       "      <th>3</th>\n",
       "      <td>2</td>\n",
       "      <td>m60</td>\n",
       "      <td>9/22/2010</td>\n",
       "      <td>74.3</td>\n",
       "      <td>5.037645</td>\n",
       "      <td>60.327869</td>\n",
       "      <td>60.0</td>\n",
       "      <td>60</td>\n",
       "    </tr>\n",
       "    <tr>\n",
       "      <th>4</th>\n",
       "      <td>2</td>\n",
       "      <td>m66</td>\n",
       "      <td>3/4/2011</td>\n",
       "      <td>74.3</td>\n",
       "      <td>5.483915</td>\n",
       "      <td>65.672131</td>\n",
       "      <td>66.0</td>\n",
       "      <td>66</td>\n",
       "    </tr>\n",
       "  </tbody>\n",
       "</table>\n",
       "</div>"
      ],
      "text/plain": [
       "   RID VISCODE   EXAMDATE   AGE  Years.bl   Month.bl  Month   M\n",
       "0    2      bl   9/8/2005  74.3  0.000000   0.000000    0.0   0\n",
       "1    2     m06   3/6/2006  74.3  0.490075   5.868852    6.0   6\n",
       "2    2     m36  8/27/2008  74.3  2.967830  35.540984   36.0  36\n",
       "3    2     m60  9/22/2010  74.3  5.037645  60.327869   60.0  60\n",
       "4    2     m66   3/4/2011  74.3  5.483915  65.672131   66.0  66"
      ]
     },
     "execution_count": 133,
     "metadata": {},
     "output_type": "execute_result"
    }
   ],
   "source": [
    "df_adnimerge[['RID','VISCODE','EXAMDATE','AGE','Years.bl','Month.bl','Month','M']].head()"
   ]
  },
  {
   "cell_type": "code",
   "execution_count": 136,
   "id": "written-jacket",
   "metadata": {},
   "outputs": [
    {
     "data": {
      "text/html": [
       "<div>\n",
       "<style scoped>\n",
       "    .dataframe tbody tr th:only-of-type {\n",
       "        vertical-align: middle;\n",
       "    }\n",
       "\n",
       "    .dataframe tbody tr th {\n",
       "        vertical-align: top;\n",
       "    }\n",
       "\n",
       "    .dataframe thead th {\n",
       "        text-align: right;\n",
       "    }\n",
       "</style>\n",
       "<table border=\"1\" class=\"dataframe\">\n",
       "  <thead>\n",
       "    <tr style=\"text-align: right;\">\n",
       "      <th></th>\n",
       "      <th>RID</th>\n",
       "      <th>VISCODE</th>\n",
       "      <th>EXAMDATE</th>\n",
       "      <th>AGE</th>\n",
       "      <th>VISCODE2</th>\n",
       "      <th>USERDATE</th>\n",
       "      <th>DOB_mm_yy</th>\n",
       "      <th>DOB_inyears</th>\n",
       "    </tr>\n",
       "  </thead>\n",
       "  <tbody>\n",
       "    <tr>\n",
       "      <th>0</th>\n",
       "      <td>2</td>\n",
       "      <td>bl</td>\n",
       "      <td>9/8/2005</td>\n",
       "      <td>74.3</td>\n",
       "      <td>bl</td>\n",
       "      <td>2005-09-12</td>\n",
       "      <td>1931-04-01</td>\n",
       "      <td>74.501370</td>\n",
       "    </tr>\n",
       "    <tr>\n",
       "      <th>1</th>\n",
       "      <td>3</td>\n",
       "      <td>bl</td>\n",
       "      <td>9/12/2005</td>\n",
       "      <td>81.3</td>\n",
       "      <td>bl</td>\n",
       "      <td>2005-09-14</td>\n",
       "      <td>1924-05-01</td>\n",
       "      <td>81.427397</td>\n",
       "    </tr>\n",
       "  </tbody>\n",
       "</table>\n",
       "</div>"
      ],
      "text/plain": [
       "   RID VISCODE   EXAMDATE   AGE VISCODE2    USERDATE  DOB_mm_yy  DOB_inyears\n",
       "0    2      bl   9/8/2005  74.3       bl  2005-09-12 1931-04-01    74.501370\n",
       "1    3      bl  9/12/2005  81.3       bl  2005-09-14 1924-05-01    81.427397"
      ]
     },
     "execution_count": 136,
     "metadata": {},
     "output_type": "execute_result"
    }
   ],
   "source": [
    "df_adnimerge_REGISTRY_Age=df_adnimerge[df_adnimerge['VISCODE']=='bl'][['RID','VISCODE','EXAMDATE','AGE']].merge(df_REGISTRY_Age[df_REGISTRY_Age['VISCODE2']=='bl'][['RID','VISCODE2','USERDATE','DOB_mm_yy','DOB_inyears']])\n",
    "df_adnimerge_REGISTRY_Age.head(2)"
   ]
  },
  {
   "cell_type": "code",
   "execution_count": 137,
   "id": "heavy-summer",
   "metadata": {},
   "outputs": [],
   "source": [
    "df_adnimerge_REGISTRY_Age['diff_error']=df_adnimerge_REGISTRY_Age['DOB_inyears']-df_adnimerge_REGISTRY_Age['AGE']"
   ]
  },
  {
   "cell_type": "code",
   "execution_count": 138,
   "id": "muslim-syndication",
   "metadata": {},
   "outputs": [],
   "source": [
    "# 0.427*12"
   ]
  },
  {
   "cell_type": "code",
   "execution_count": 140,
   "id": "hearing-rainbow",
   "metadata": {},
   "outputs": [
    {
     "data": {
      "text/html": [
       "<div>\n",
       "<style scoped>\n",
       "    .dataframe tbody tr th:only-of-type {\n",
       "        vertical-align: middle;\n",
       "    }\n",
       "\n",
       "    .dataframe tbody tr th {\n",
       "        vertical-align: top;\n",
       "    }\n",
       "\n",
       "    .dataframe thead th {\n",
       "        text-align: right;\n",
       "    }\n",
       "</style>\n",
       "<table border=\"1\" class=\"dataframe\">\n",
       "  <thead>\n",
       "    <tr style=\"text-align: right;\">\n",
       "      <th></th>\n",
       "      <th>RID</th>\n",
       "      <th>VISCODE</th>\n",
       "      <th>EXAMDATE</th>\n",
       "      <th>AGE</th>\n",
       "      <th>VISCODE2</th>\n",
       "      <th>USERDATE</th>\n",
       "      <th>DOB_mm_yy</th>\n",
       "      <th>DOB_inyears</th>\n",
       "      <th>diff_error</th>\n",
       "    </tr>\n",
       "  </thead>\n",
       "  <tbody>\n",
       "    <tr>\n",
       "      <th>1641</th>\n",
       "      <td>5146</td>\n",
       "      <td>bl</td>\n",
       "      <td>7/11/2013</td>\n",
       "      <td>72.9</td>\n",
       "      <td>bl</td>\n",
       "      <td>2014-01-08</td>\n",
       "      <td>1940-06-01</td>\n",
       "      <td>73.654795</td>\n",
       "      <td>0.754795</td>\n",
       "    </tr>\n",
       "    <tr>\n",
       "      <th>1677</th>\n",
       "      <td>5206</td>\n",
       "      <td>bl</td>\n",
       "      <td>9/3/2013</td>\n",
       "      <td>85.2</td>\n",
       "      <td>bl</td>\n",
       "      <td>2014-01-24</td>\n",
       "      <td>1928-03-01</td>\n",
       "      <td>85.958904</td>\n",
       "      <td>0.758904</td>\n",
       "    </tr>\n",
       "    <tr>\n",
       "      <th>436</th>\n",
       "      <td>761</td>\n",
       "      <td>bl</td>\n",
       "      <td>9/28/2006</td>\n",
       "      <td>71.0</td>\n",
       "      <td>bl</td>\n",
       "      <td>2007-06-08</td>\n",
       "      <td>1935-08-01</td>\n",
       "      <td>71.901370</td>\n",
       "      <td>0.901370</td>\n",
       "    </tr>\n",
       "    <tr>\n",
       "      <th>1315</th>\n",
       "      <td>4564</td>\n",
       "      <td>bl</td>\n",
       "      <td>3/20/2012</td>\n",
       "      <td>64.9</td>\n",
       "      <td>bl</td>\n",
       "      <td>2014-01-30</td>\n",
       "      <td>1947-04-01</td>\n",
       "      <td>66.879452</td>\n",
       "      <td>1.979452</td>\n",
       "    </tr>\n",
       "    <tr>\n",
       "      <th>1532</th>\n",
       "      <td>4936</td>\n",
       "      <td>bl</td>\n",
       "      <td>10/1/2012</td>\n",
       "      <td>48.1</td>\n",
       "      <td>bl</td>\n",
       "      <td>2012-11-07</td>\n",
       "      <td>1934-08-01</td>\n",
       "      <td>78.323288</td>\n",
       "      <td>30.223288</td>\n",
       "    </tr>\n",
       "  </tbody>\n",
       "</table>\n",
       "</div>"
      ],
      "text/plain": [
       "       RID VISCODE   EXAMDATE   AGE VISCODE2    USERDATE  DOB_mm_yy  \\\n",
       "1641  5146      bl  7/11/2013  72.9       bl  2014-01-08 1940-06-01   \n",
       "1677  5206      bl   9/3/2013  85.2       bl  2014-01-24 1928-03-01   \n",
       "436    761      bl  9/28/2006  71.0       bl  2007-06-08 1935-08-01   \n",
       "1315  4564      bl  3/20/2012  64.9       bl  2014-01-30 1947-04-01   \n",
       "1532  4936      bl  10/1/2012  48.1       bl  2012-11-07 1934-08-01   \n",
       "\n",
       "      DOB_inyears  diff_error  \n",
       "1641    73.654795    0.754795  \n",
       "1677    85.958904    0.758904  \n",
       "436     71.901370    0.901370  \n",
       "1315    66.879452    1.979452  \n",
       "1532    78.323288   30.223288  "
      ]
     },
     "execution_count": 140,
     "metadata": {},
     "output_type": "execute_result"
    }
   ],
   "source": [
    "df_adnimerge_REGISTRY_Age.sort_values(by='diff_error').tail()"
   ]
  },
  {
   "cell_type": "code",
   "execution_count": 148,
   "id": "close-recording",
   "metadata": {},
   "outputs": [
    {
     "data": {
      "text/html": [
       "<div>\n",
       "<style scoped>\n",
       "    .dataframe tbody tr th:only-of-type {\n",
       "        vertical-align: middle;\n",
       "    }\n",
       "\n",
       "    .dataframe tbody tr th {\n",
       "        vertical-align: top;\n",
       "    }\n",
       "\n",
       "    .dataframe thead th {\n",
       "        text-align: right;\n",
       "    }\n",
       "</style>\n",
       "<table border=\"1\" class=\"dataframe\">\n",
       "  <thead>\n",
       "    <tr style=\"text-align: right;\">\n",
       "      <th></th>\n",
       "      <th>RID</th>\n",
       "      <th>VISCODE</th>\n",
       "      <th>VISCODE2</th>\n",
       "      <th>USERDATE</th>\n",
       "      <th>PTDOBMM</th>\n",
       "      <th>PTDOBYY</th>\n",
       "    </tr>\n",
       "  </thead>\n",
       "  <tbody>\n",
       "    <tr>\n",
       "      <th>3326</th>\n",
       "      <td>4936</td>\n",
       "      <td>v01</td>\n",
       "      <td>sc</td>\n",
       "      <td>2012-09-17</td>\n",
       "      <td>8.0</td>\n",
       "      <td>1934.0</td>\n",
       "    </tr>\n",
       "  </tbody>\n",
       "</table>\n",
       "</div>"
      ],
      "text/plain": [
       "       RID VISCODE VISCODE2    USERDATE  PTDOBMM  PTDOBYY\n",
       "3326  4936     v01       sc  2012-09-17      8.0   1934.0"
      ]
     },
     "execution_count": 148,
     "metadata": {},
     "output_type": "execute_result"
    }
   ],
   "source": [
    "df_PTDEMOG[df_PTDEMOG['RID']==4936][['RID','VISCODE', 'VISCODE2', 'USERDATE', 'PTDOBMM', 'PTDOBYY']].head(2)"
   ]
  },
  {
   "cell_type": "code",
   "execution_count": 16,
   "id": "saving-image",
   "metadata": {},
   "outputs": [
    {
     "data": {
      "text/html": [
       "<div>\n",
       "<style scoped>\n",
       "    .dataframe tbody tr th:only-of-type {\n",
       "        vertical-align: middle;\n",
       "    }\n",
       "\n",
       "    .dataframe tbody tr th {\n",
       "        vertical-align: top;\n",
       "    }\n",
       "\n",
       "    .dataframe thead th {\n",
       "        text-align: right;\n",
       "    }\n",
       "</style>\n",
       "<table border=\"1\" class=\"dataframe\">\n",
       "  <thead>\n",
       "    <tr style=\"text-align: right;\">\n",
       "      <th></th>\n",
       "      <th>Phase</th>\n",
       "      <th>ID</th>\n",
       "      <th>RID</th>\n",
       "      <th>SITEID</th>\n",
       "      <th>VISCODE</th>\n",
       "      <th>USERDATE</th>\n",
       "      <th>USERDATE2</th>\n",
       "      <th>APTESTDT</th>\n",
       "      <th>APGEN1</th>\n",
       "      <th>APGEN2</th>\n",
       "      <th>APVOLUME</th>\n",
       "      <th>APRECEIVE</th>\n",
       "      <th>APAMBTEMP</th>\n",
       "      <th>APRESAMP</th>\n",
       "      <th>APUSABLE</th>\n",
       "      <th>update_stamp</th>\n",
       "    </tr>\n",
       "  </thead>\n",
       "  <tbody>\n",
       "    <tr>\n",
       "      <th>0</th>\n",
       "      <td>ADNI1</td>\n",
       "      <td>4.0</td>\n",
       "      <td>2</td>\n",
       "      <td>107.0</td>\n",
       "      <td>sc</td>\n",
       "      <td>2005-08-23</td>\n",
       "      <td>NaN</td>\n",
       "      <td>8/22/2005</td>\n",
       "      <td>3</td>\n",
       "      <td>3</td>\n",
       "      <td>5.0</td>\n",
       "      <td>1.0</td>\n",
       "      <td>1.0</td>\n",
       "      <td>0.0</td>\n",
       "      <td>1.0</td>\n",
       "      <td>2005-08-23 00:00:00.0</td>\n",
       "    </tr>\n",
       "    <tr>\n",
       "      <th>1</th>\n",
       "      <td>ADNI1</td>\n",
       "      <td>6.0</td>\n",
       "      <td>3</td>\n",
       "      <td>107.0</td>\n",
       "      <td>sc</td>\n",
       "      <td>2005-08-23</td>\n",
       "      <td>NaN</td>\n",
       "      <td>8/22/2005</td>\n",
       "      <td>3</td>\n",
       "      <td>4</td>\n",
       "      <td>10.0</td>\n",
       "      <td>1.0</td>\n",
       "      <td>1.0</td>\n",
       "      <td>0.0</td>\n",
       "      <td>1.0</td>\n",
       "      <td>2005-08-23 00:00:00.0</td>\n",
       "    </tr>\n",
       "    <tr>\n",
       "      <th>2</th>\n",
       "      <td>ADNI1</td>\n",
       "      <td>8.0</td>\n",
       "      <td>4</td>\n",
       "      <td>10.0</td>\n",
       "      <td>sc</td>\n",
       "      <td>2005-08-23</td>\n",
       "      <td>NaN</td>\n",
       "      <td>8/22/2005</td>\n",
       "      <td>3</td>\n",
       "      <td>3</td>\n",
       "      <td>9.2</td>\n",
       "      <td>1.0</td>\n",
       "      <td>1.0</td>\n",
       "      <td>0.0</td>\n",
       "      <td>1.0</td>\n",
       "      <td>2005-08-23 00:00:00.0</td>\n",
       "    </tr>\n",
       "    <tr>\n",
       "      <th>3</th>\n",
       "      <td>ADNI1</td>\n",
       "      <td>10.0</td>\n",
       "      <td>5</td>\n",
       "      <td>107.0</td>\n",
       "      <td>sc</td>\n",
       "      <td>2005-08-29</td>\n",
       "      <td>NaN</td>\n",
       "      <td>8/29/2005</td>\n",
       "      <td>3</td>\n",
       "      <td>3</td>\n",
       "      <td>10.0</td>\n",
       "      <td>1.0</td>\n",
       "      <td>1.0</td>\n",
       "      <td>0.0</td>\n",
       "      <td>1.0</td>\n",
       "      <td>2005-08-29 00:00:00.0</td>\n",
       "    </tr>\n",
       "    <tr>\n",
       "      <th>4</th>\n",
       "      <td>ADNI1</td>\n",
       "      <td>12.0</td>\n",
       "      <td>7</td>\n",
       "      <td>10.0</td>\n",
       "      <td>sc</td>\n",
       "      <td>2005-09-06</td>\n",
       "      <td>NaN</td>\n",
       "      <td>9/5/2005</td>\n",
       "      <td>3</td>\n",
       "      <td>4</td>\n",
       "      <td>9.0</td>\n",
       "      <td>1.0</td>\n",
       "      <td>1.0</td>\n",
       "      <td>0.0</td>\n",
       "      <td>1.0</td>\n",
       "      <td>2005-09-06 00:00:00.0</td>\n",
       "    </tr>\n",
       "  </tbody>\n",
       "</table>\n",
       "</div>"
      ],
      "text/plain": [
       "   Phase    ID  RID  SITEID VISCODE    USERDATE  USERDATE2   APTESTDT  APGEN1  \\\n",
       "0  ADNI1   4.0    2   107.0      sc  2005-08-23        NaN  8/22/2005       3   \n",
       "1  ADNI1   6.0    3   107.0      sc  2005-08-23        NaN  8/22/2005       3   \n",
       "2  ADNI1   8.0    4    10.0      sc  2005-08-23        NaN  8/22/2005       3   \n",
       "3  ADNI1  10.0    5   107.0      sc  2005-08-29        NaN  8/29/2005       3   \n",
       "4  ADNI1  12.0    7    10.0      sc  2005-09-06        NaN   9/5/2005       3   \n",
       "\n",
       "   APGEN2  APVOLUME  APRECEIVE  APAMBTEMP  APRESAMP  APUSABLE  \\\n",
       "0       3       5.0        1.0        1.0       0.0       1.0   \n",
       "1       4      10.0        1.0        1.0       0.0       1.0   \n",
       "2       3       9.2        1.0        1.0       0.0       1.0   \n",
       "3       3      10.0        1.0        1.0       0.0       1.0   \n",
       "4       4       9.0        1.0        1.0       0.0       1.0   \n",
       "\n",
       "            update_stamp  \n",
       "0  2005-08-23 00:00:00.0  \n",
       "1  2005-08-23 00:00:00.0  \n",
       "2  2005-08-23 00:00:00.0  \n",
       "3  2005-08-29 00:00:00.0  \n",
       "4  2005-09-06 00:00:00.0  "
      ]
     },
     "execution_count": 16,
     "metadata": {},
     "output_type": "execute_result"
    }
   ],
   "source": [
    "df_APOERES.head()"
   ]
  },
  {
   "cell_type": "code",
   "execution_count": 135,
   "id": "suburban-economy",
   "metadata": {},
   "outputs": [],
   "source": [
    "# df_adnimerge.columns"
   ]
  },
  {
   "cell_type": "code",
   "execution_count": 21,
   "id": "thick-indication",
   "metadata": {},
   "outputs": [],
   "source": [
    "# df_REGISTRY.USERDATE[0]"
   ]
  },
  {
   "cell_type": "code",
   "execution_count": 136,
   "id": "national-worcester",
   "metadata": {},
   "outputs": [
    {
     "data": {
      "text/html": [
       "<div>\n",
       "<style scoped>\n",
       "    .dataframe tbody tr th:only-of-type {\n",
       "        vertical-align: middle;\n",
       "    }\n",
       "\n",
       "    .dataframe tbody tr th {\n",
       "        vertical-align: top;\n",
       "    }\n",
       "\n",
       "    .dataframe thead th {\n",
       "        text-align: right;\n",
       "    }\n",
       "</style>\n",
       "<table border=\"1\" class=\"dataframe\">\n",
       "  <thead>\n",
       "    <tr style=\"text-align: right;\">\n",
       "      <th></th>\n",
       "      <th>Phase</th>\n",
       "      <th>ID</th>\n",
       "      <th>RID</th>\n",
       "      <th>SITEID</th>\n",
       "      <th>VISCODE</th>\n",
       "      <th>VISCODE2</th>\n",
       "      <th>USERDATE</th>\n",
       "      <th>USERDATE2</th>\n",
       "      <th>PTSOURCE</th>\n",
       "      <th>PTGENDER</th>\n",
       "      <th>...</th>\n",
       "      <th>PTTLANG</th>\n",
       "      <th>PTPLANG</th>\n",
       "      <th>PTPSPEC</th>\n",
       "      <th>PTCOGBEG</th>\n",
       "      <th>PTMCIBEG</th>\n",
       "      <th>PTADBEG</th>\n",
       "      <th>PTADDX</th>\n",
       "      <th>PTETHCAT</th>\n",
       "      <th>PTRACCAT</th>\n",
       "      <th>update_stamp</th>\n",
       "    </tr>\n",
       "  </thead>\n",
       "  <tbody>\n",
       "    <tr>\n",
       "      <th>0</th>\n",
       "      <td>ADNI1</td>\n",
       "      <td>18</td>\n",
       "      <td>2</td>\n",
       "      <td>107</td>\n",
       "      <td>sc</td>\n",
       "      <td>sc</td>\n",
       "      <td>2005-08-17</td>\n",
       "      <td>NaN</td>\n",
       "      <td>1.0</td>\n",
       "      <td>1.0</td>\n",
       "      <td>...</td>\n",
       "      <td>1.0</td>\n",
       "      <td>1.0</td>\n",
       "      <td>-4</td>\n",
       "      <td>NaN</td>\n",
       "      <td>NaN</td>\n",
       "      <td>-4.0</td>\n",
       "      <td>NaN</td>\n",
       "      <td>2.0</td>\n",
       "      <td>5.0</td>\n",
       "      <td>2005-08-17 00:00:00.0</td>\n",
       "    </tr>\n",
       "    <tr>\n",
       "      <th>1571</th>\n",
       "      <td>ADNIGO</td>\n",
       "      <td>304</td>\n",
       "      <td>2</td>\n",
       "      <td>8</td>\n",
       "      <td>sc</td>\n",
       "      <td>sc</td>\n",
       "      <td>2010-09-22</td>\n",
       "      <td>NaN</td>\n",
       "      <td>1.0</td>\n",
       "      <td>1.0</td>\n",
       "      <td>...</td>\n",
       "      <td>1.0</td>\n",
       "      <td>1.0</td>\n",
       "      <td>-4</td>\n",
       "      <td>NaN</td>\n",
       "      <td>NaN</td>\n",
       "      <td>NaN</td>\n",
       "      <td>NaN</td>\n",
       "      <td>2.0</td>\n",
       "      <td>5.0</td>\n",
       "      <td>2013-03-22 15:23:58.0</td>\n",
       "    </tr>\n",
       "    <tr>\n",
       "      <th>2404</th>\n",
       "      <td>ADNI2</td>\n",
       "      <td>636</td>\n",
       "      <td>2</td>\n",
       "      <td>8</td>\n",
       "      <td>v06</td>\n",
       "      <td>m72</td>\n",
       "      <td>2011-09-20</td>\n",
       "      <td>NaN</td>\n",
       "      <td>1.0</td>\n",
       "      <td>1.0</td>\n",
       "      <td>...</td>\n",
       "      <td>1.0</td>\n",
       "      <td>1.0</td>\n",
       "      <td>-4</td>\n",
       "      <td>9999.0</td>\n",
       "      <td>NaN</td>\n",
       "      <td>NaN</td>\n",
       "      <td>9999.0</td>\n",
       "      <td>2.0</td>\n",
       "      <td>5.0</td>\n",
       "      <td>2013-05-30 10:05:05.0</td>\n",
       "    </tr>\n",
       "  </tbody>\n",
       "</table>\n",
       "<p>3 rows × 32 columns</p>\n",
       "</div>"
      ],
      "text/plain": [
       "       Phase   ID  RID  SITEID VISCODE VISCODE2    USERDATE USERDATE2  \\\n",
       "0      ADNI1   18    2     107      sc       sc  2005-08-17       NaN   \n",
       "1571  ADNIGO  304    2       8      sc       sc  2010-09-22       NaN   \n",
       "2404   ADNI2  636    2       8     v06      m72  2011-09-20       NaN   \n",
       "\n",
       "      PTSOURCE  PTGENDER  ...  PTTLANG  PTPLANG  PTPSPEC  PTCOGBEG  PTMCIBEG  \\\n",
       "0          1.0       1.0  ...      1.0      1.0       -4       NaN       NaN   \n",
       "1571       1.0       1.0  ...      1.0      1.0       -4       NaN       NaN   \n",
       "2404       1.0       1.0  ...      1.0      1.0       -4    9999.0       NaN   \n",
       "\n",
       "      PTADBEG  PTADDX PTETHCAT  PTRACCAT           update_stamp  \n",
       "0        -4.0     NaN      2.0       5.0  2005-08-17 00:00:00.0  \n",
       "1571      NaN     NaN      2.0       5.0  2013-03-22 15:23:58.0  \n",
       "2404      NaN  9999.0      2.0       5.0  2013-05-30 10:05:05.0  \n",
       "\n",
       "[3 rows x 32 columns]"
      ]
     },
     "execution_count": 136,
     "metadata": {},
     "output_type": "execute_result"
    }
   ],
   "source": [
    "df_PTDEMOG[df_PTDEMOG['RID']==2]"
   ]
  },
  {
   "cell_type": "code",
   "execution_count": 124,
   "id": "norwegian-kernel",
   "metadata": {},
   "outputs": [
    {
     "data": {
      "text/plain": [
       "bl      2412\n",
       "sc      2009\n",
       "m12     1724\n",
       "m06     1616\n",
       "m24     1517\n",
       "m36      885\n",
       "m48      792\n",
       "m60      396\n",
       "m72      355\n",
       "m18      342\n",
       "m84      258\n",
       "m96      206\n",
       "m108     139\n",
       "m120     114\n",
       "m66       89\n",
       "m78       88\n",
       "m90       84\n",
       "m132      57\n",
       "m102      56\n",
       "m54       54\n",
       "m30       51\n",
       "m114      42\n",
       "m144      34\n",
       "m126      29\n",
       "m138      26\n",
       "m156      26\n",
       "m150      18\n",
       "m42       16\n",
       "m180      15\n",
       "m162      10\n",
       "m186       6\n",
       "m168       5\n",
       "m174       4\n",
       "m192       3\n",
       "m204       1\n",
       "uns1       1\n",
       "m198       1\n",
       "Name: VISCODE2, dtype: int64"
      ]
     },
     "execution_count": 124,
     "metadata": {},
     "output_type": "execute_result"
    }
   ],
   "source": [
    "df_merge.VISCODE2.dropna().value_counts()"
   ]
  },
  {
   "cell_type": "code",
   "execution_count": 125,
   "id": "comparable-fortune",
   "metadata": {},
   "outputs": [
    {
     "data": {
      "text/html": [
       "<div>\n",
       "<style scoped>\n",
       "    .dataframe tbody tr th:only-of-type {\n",
       "        vertical-align: middle;\n",
       "    }\n",
       "\n",
       "    .dataframe tbody tr th {\n",
       "        vertical-align: top;\n",
       "    }\n",
       "\n",
       "    .dataframe thead th {\n",
       "        text-align: right;\n",
       "    }\n",
       "</style>\n",
       "<table border=\"1\" class=\"dataframe\">\n",
       "  <thead>\n",
       "    <tr style=\"text-align: right;\">\n",
       "      <th></th>\n",
       "      <th>RID</th>\n",
       "      <th>Phase</th>\n",
       "      <th>VISCODE2</th>\n",
       "      <th>EXAMDATE</th>\n",
       "      <th>DXCURREN</th>\n",
       "      <th>DXCONV</th>\n",
       "      <th>DXCONTYP</th>\n",
       "      <th>DXREV</th>\n",
       "      <th>DIAGNOSIS_all</th>\n",
       "      <th>DX</th>\n",
       "    </tr>\n",
       "  </thead>\n",
       "  <tbody>\n",
       "    <tr>\n",
       "      <th>239</th>\n",
       "      <td>168</td>\n",
       "      <td>ADNI1</td>\n",
       "      <td>bl</td>\n",
       "      <td>2/20/2006</td>\n",
       "      <td>2.0</td>\n",
       "      <td>0.0</td>\n",
       "      <td>-4.0</td>\n",
       "      <td>-4.0</td>\n",
       "      <td>2.0</td>\n",
       "      <td>MCI</td>\n",
       "    </tr>\n",
       "    <tr>\n",
       "      <th>438</th>\n",
       "      <td>168</td>\n",
       "      <td>ADNI1</td>\n",
       "      <td>m06</td>\n",
       "      <td>8/21/2006</td>\n",
       "      <td>1.0</td>\n",
       "      <td>2.0</td>\n",
       "      <td>-4.0</td>\n",
       "      <td>1.0</td>\n",
       "      <td>1.0</td>\n",
       "      <td>MCI to NL</td>\n",
       "    </tr>\n",
       "    <tr>\n",
       "      <th>1342</th>\n",
       "      <td>168</td>\n",
       "      <td>ADNI1</td>\n",
       "      <td>uns1</td>\n",
       "      <td>4/16/2007</td>\n",
       "      <td>1.0</td>\n",
       "      <td>0.0</td>\n",
       "      <td>-4.0</td>\n",
       "      <td>-4.0</td>\n",
       "      <td>1.0</td>\n",
       "      <td>NL</td>\n",
       "    </tr>\n",
       "  </tbody>\n",
       "</table>\n",
       "</div>"
      ],
      "text/plain": [
       "      RID  Phase VISCODE2   EXAMDATE  DXCURREN  DXCONV  DXCONTYP  DXREV  \\\n",
       "239   168  ADNI1       bl  2/20/2006       2.0     0.0      -4.0   -4.0   \n",
       "438   168  ADNI1      m06  8/21/2006       1.0     2.0      -4.0    1.0   \n",
       "1342  168  ADNI1     uns1  4/16/2007       1.0     0.0      -4.0   -4.0   \n",
       "\n",
       "      DIAGNOSIS_all         DX  \n",
       "239             2.0        MCI  \n",
       "438             1.0  MCI to NL  \n",
       "1342            1.0         NL  "
      ]
     },
     "execution_count": 125,
     "metadata": {},
     "output_type": "execute_result"
    }
   ],
   "source": [
    "df_merge.loc[df_merge['RID']==168,:]"
   ]
  },
  {
   "cell_type": "code",
   "execution_count": 126,
   "id": "disturbed-president",
   "metadata": {},
   "outputs": [],
   "source": [
    "df_merge.loc[df_merge['VISCODE2']=='uns1','VISCODE2']='m14'\n",
    "df_merge.loc[df_merge['VISCODE2']=='bl','VISCODE2']='m0'\n",
    "df_merge.loc[df_merge['VISCODE2']=='sc','VISCODE2']='m0'"
   ]
  },
  {
   "cell_type": "code",
   "execution_count": 128,
   "id": "vocational-sound",
   "metadata": {},
   "outputs": [
    {
     "data": {
      "text/plain": [
       "0      4421\n",
       "12     1724\n",
       "6      1616\n",
       "24     1517\n",
       "36      885\n",
       "48      792\n",
       "60      396\n",
       "72      355\n",
       "18      342\n",
       "84      258\n",
       "96      206\n",
       "108     139\n",
       "120     114\n",
       "66       89\n",
       "78       88\n",
       "90       84\n",
       "132      57\n",
       "102      56\n",
       "54       54\n",
       "30       51\n",
       "114      42\n",
       "144      34\n",
       "126      29\n",
       "156      26\n",
       "138      26\n",
       "150      18\n",
       "42       16\n",
       "180      15\n",
       "162      10\n",
       "186       6\n",
       "168       5\n",
       "174       4\n",
       "192       3\n",
       "198       1\n",
       "14        1\n",
       "204       1\n",
       "dtype: int64"
      ]
     },
     "execution_count": 128,
     "metadata": {},
     "output_type": "execute_result"
    }
   ],
   "source": [
    "df_merge.VISCODE2.dropna().str.extract('(\\d+)').astype(int).value_counts()"
   ]
  },
  {
   "cell_type": "code",
   "execution_count": 17,
   "id": "divine-desktop",
   "metadata": {},
   "outputs": [
    {
     "data": {
      "text/plain": [
       "((13491, 10), (13876, 11), 2957, 2954)"
      ]
     },
     "execution_count": 17,
     "metadata": {},
     "output_type": "execute_result"
    }
   ],
   "source": [
    "df_merge_EDU=pd.merge(df_merge, df_PTDEMOG[['RID','PTEDUCAT']].dropna(), on=['RID']).drop_duplicates()\n",
    "df_merge.shape,df_merge_EDU.shape,df_merge.RID.nunique(),df_merge_EDU['RID'].nunique()"
   ]
  },
  {
   "cell_type": "code",
   "execution_count": 18,
   "id": "controlling-parallel",
   "metadata": {},
   "outputs": [
    {
     "data": {
      "text/plain": [
       "(2556, 2216, 2954)"
      ]
     },
     "execution_count": 18,
     "metadata": {},
     "output_type": "execute_result"
    }
   ],
   "source": [
    "df_merge_APOERES=pd.merge(df_merge, df_APOERES[['RID','APGEN1','APGEN2']].dropna(), on=['RID'])\n",
    "df_APOERES[['RID','APGEN1','APGEN2']].dropna()['RID'].nunique(),df_merge_APOERES['RID'].nunique(),df_merge_EDU['RID'].nunique()"
   ]
  },
  {
   "cell_type": "code",
   "execution_count": 19,
   "id": "peripheral-settlement",
   "metadata": {},
   "outputs": [
    {
     "data": {
      "text/plain": [
       "(2216, 2216, 2954)"
      ]
     },
     "execution_count": 19,
     "metadata": {},
     "output_type": "execute_result"
    }
   ],
   "source": [
    "df_merge_EDU_APOERES=pd.merge(df_merge_APOERES, df_PTDEMOG[['RID','PTEDUCAT']].drop_duplicates().dropna(), on=['RID'],how='left')\n",
    "df_merge_EDU_APOERES['RID'].nunique(),df_merge_APOERES['RID'].nunique(),df_merge_EDU['RID'].nunique()"
   ]
  },
  {
   "cell_type": "code",
   "execution_count": 20,
   "id": "chinese-sucking",
   "metadata": {},
   "outputs": [
    {
     "data": {
      "text/plain": [
       "((12464, 12), (12852, 13))"
      ]
     },
     "execution_count": 20,
     "metadata": {},
     "output_type": "execute_result"
    }
   ],
   "source": [
    "df_merge_APOERES.shape,df_merge_EDU_APOERES.shape"
   ]
  },
  {
   "cell_type": "code",
   "execution_count": 21,
   "id": "vulnerable-spelling",
   "metadata": {},
   "outputs": [
    {
     "data": {
      "text/plain": [
       "621"
      ]
     },
     "execution_count": 21,
     "metadata": {},
     "output_type": "execute_result"
    }
   ],
   "source": [
    "df_merge[df_merge['RID'].isin(df_medhist_disease['RID'].unique().tolist())]['RID'].nunique()"
   ]
  },
  {
   "cell_type": "code",
   "execution_count": 22,
   "id": "given-photographer",
   "metadata": {},
   "outputs": [],
   "source": [
    "# df_merge[df_merge['RID']==2]"
   ]
  },
  {
   "cell_type": "code",
   "execution_count": 23,
   "id": "daily-sector",
   "metadata": {},
   "outputs": [],
   "source": [
    "# df_merge_EDU.head(12)"
   ]
  },
  {
   "cell_type": "code",
   "execution_count": 24,
   "id": "drawn-liberia",
   "metadata": {},
   "outputs": [
    {
     "data": {
      "text/plain": [
       "973     2\n",
       "1051    2\n",
       "1387    2\n",
       "1385    2\n",
       "158     2\n",
       "       ..\n",
       "188     2\n",
       "6234    1\n",
       "5132    1\n",
       "5102    1\n",
       "1078    1\n",
       "Name: RID, Length: 62, dtype: int64"
      ]
     },
     "execution_count": 24,
     "metadata": {},
     "output_type": "execute_result"
    }
   ],
   "source": [
    "df_merge_EDU[['RID','PTEDUCAT']].drop_duplicates()['RID'].value_counts().head(62)"
   ]
  },
  {
   "cell_type": "code",
   "execution_count": 25,
   "id": "proper-baghdad",
   "metadata": {},
   "outputs": [
    {
     "data": {
      "text/html": [
       "<div>\n",
       "<style scoped>\n",
       "    .dataframe tbody tr th:only-of-type {\n",
       "        vertical-align: middle;\n",
       "    }\n",
       "\n",
       "    .dataframe tbody tr th {\n",
       "        vertical-align: top;\n",
       "    }\n",
       "\n",
       "    .dataframe thead th {\n",
       "        text-align: right;\n",
       "    }\n",
       "</style>\n",
       "<table border=\"1\" class=\"dataframe\">\n",
       "  <thead>\n",
       "    <tr style=\"text-align: right;\">\n",
       "      <th></th>\n",
       "      <th>RID</th>\n",
       "      <th>PTEDUCAT</th>\n",
       "    </tr>\n",
       "  </thead>\n",
       "  <tbody>\n",
       "    <tr>\n",
       "      <th>2390</th>\n",
       "      <td>376</td>\n",
       "      <td>15.0</td>\n",
       "    </tr>\n",
       "    <tr>\n",
       "      <th>2392</th>\n",
       "      <td>376</td>\n",
       "      <td>14.0</td>\n",
       "    </tr>\n",
       "  </tbody>\n",
       "</table>\n",
       "</div>"
      ],
      "text/plain": [
       "      RID  PTEDUCAT\n",
       "2390  376      15.0\n",
       "2392  376      14.0"
      ]
     },
     "execution_count": 25,
     "metadata": {},
     "output_type": "execute_result"
    }
   ],
   "source": [
    "df_merge_EDU[df_merge_EDU['RID']==376][['RID','PTEDUCAT']].drop_duplicates()"
   ]
  },
  {
   "cell_type": "code",
   "execution_count": 26,
   "id": "missing-expert",
   "metadata": {},
   "outputs": [],
   "source": [
    "df_merge_EDU_APOERES['psycond']='nodepress'\n",
    "df_merge_EDU_APOERES['psycond_digital']=0"
   ]
  },
  {
   "cell_type": "code",
   "execution_count": 27,
   "id": "later-orientation",
   "metadata": {},
   "outputs": [],
   "source": [
    "df_merge_EDU_APOERES.loc[df_merge_EDU_APOERES['RID'].isin(df_medhist_disease['RID'].unique().tolist()), 'psycond']='depress'\n",
    "df_merge_EDU_APOERES.loc[df_merge_EDU_APOERES['RID'].isin(df_medhist_disease['RID'].unique().tolist()), 'psycond_digital']=1"
   ]
  },
  {
   "cell_type": "code",
   "execution_count": 28,
   "id": "absolute-alloy",
   "metadata": {},
   "outputs": [
    {
     "data": {
      "text/plain": [
       "(12852, 15)"
      ]
     },
     "execution_count": 28,
     "metadata": {},
     "output_type": "execute_result"
    }
   ],
   "source": [
    "df_merge_EDU_APOERES.shape"
   ]
  },
  {
   "cell_type": "code",
   "execution_count": 29,
   "id": "duplicate-monroe",
   "metadata": {},
   "outputs": [
    {
     "data": {
      "text/plain": [
       "psycond\n",
       "depress       534\n",
       "nodepress    1682\n",
       "Name: RID, dtype: int64"
      ]
     },
     "execution_count": 29,
     "metadata": {},
     "output_type": "execute_result"
    }
   ],
   "source": [
    "df_merge_EDU_APOERES.groupby('psycond')['RID'].nunique()"
   ]
  },
  {
   "cell_type": "code",
   "execution_count": 30,
   "id": "square-mistress",
   "metadata": {},
   "outputs": [],
   "source": [
    "df_merge_EDU_APOERES['edu_status']='lowedu'\n",
    "df_merge_EDU_APOERES['edu_status_digital']=0"
   ]
  },
  {
   "cell_type": "code",
   "execution_count": 31,
   "id": "lesbian-lambda",
   "metadata": {},
   "outputs": [
    {
     "data": {
      "text/plain": [
       "930"
      ]
     },
     "execution_count": 31,
     "metadata": {},
     "output_type": "execute_result"
    }
   ],
   "source": [
    "high_edu_list=df_merge_EDU_APOERES[df_merge_EDU_APOERES['PTEDUCAT']>16].RID.unique()\n",
    "len(high_edu_list)"
   ]
  },
  {
   "cell_type": "code",
   "execution_count": 32,
   "id": "balanced-talent",
   "metadata": {},
   "outputs": [],
   "source": [
    "df_merge_EDU_APOERES.loc[df_merge_EDU_APOERES['RID'].isin(high_edu_list), 'edu_status']='highedu'\n",
    "df_merge_EDU_APOERES.loc[df_merge_EDU_APOERES['RID'].isin(high_edu_list), 'edu_status_digital']=1"
   ]
  },
  {
   "cell_type": "code",
   "execution_count": 33,
   "id": "sexual-twist",
   "metadata": {},
   "outputs": [
    {
     "data": {
      "text/html": [
       "<div>\n",
       "<style scoped>\n",
       "    .dataframe tbody tr th:only-of-type {\n",
       "        vertical-align: middle;\n",
       "    }\n",
       "\n",
       "    .dataframe tbody tr th {\n",
       "        vertical-align: top;\n",
       "    }\n",
       "\n",
       "    .dataframe thead th {\n",
       "        text-align: right;\n",
       "    }\n",
       "</style>\n",
       "<table border=\"1\" class=\"dataframe\">\n",
       "  <thead>\n",
       "    <tr style=\"text-align: right;\">\n",
       "      <th></th>\n",
       "      <th>RID</th>\n",
       "      <th>Phase</th>\n",
       "      <th>VISCODE2</th>\n",
       "      <th>EXAMDATE</th>\n",
       "      <th>DXCURREN</th>\n",
       "      <th>DXCONV</th>\n",
       "      <th>DXCONTYP</th>\n",
       "      <th>DXREV</th>\n",
       "      <th>DIAGNOSIS_all</th>\n",
       "      <th>DX</th>\n",
       "      <th>APGEN1</th>\n",
       "      <th>APGEN2</th>\n",
       "      <th>PTEDUCAT</th>\n",
       "      <th>psycond</th>\n",
       "      <th>psycond_digital</th>\n",
       "      <th>edu_status</th>\n",
       "      <th>edu_status_digital</th>\n",
       "    </tr>\n",
       "  </thead>\n",
       "  <tbody>\n",
       "    <tr>\n",
       "      <th>0</th>\n",
       "      <td>2</td>\n",
       "      <td>ADNI1</td>\n",
       "      <td>bl</td>\n",
       "      <td>9/29/2005</td>\n",
       "      <td>1.0</td>\n",
       "      <td>0.0</td>\n",
       "      <td>-4.0</td>\n",
       "      <td>-4.0</td>\n",
       "      <td>1.0</td>\n",
       "      <td>NL</td>\n",
       "      <td>3</td>\n",
       "      <td>3</td>\n",
       "      <td>16.0</td>\n",
       "      <td>nodepress</td>\n",
       "      <td>0</td>\n",
       "      <td>lowedu</td>\n",
       "      <td>0</td>\n",
       "    </tr>\n",
       "    <tr>\n",
       "      <th>1</th>\n",
       "      <td>2</td>\n",
       "      <td>ADNI1</td>\n",
       "      <td>m06</td>\n",
       "      <td>3/6/2006</td>\n",
       "      <td>1.0</td>\n",
       "      <td>0.0</td>\n",
       "      <td>-4.0</td>\n",
       "      <td>-4.0</td>\n",
       "      <td>1.0</td>\n",
       "      <td>NL</td>\n",
       "      <td>3</td>\n",
       "      <td>3</td>\n",
       "      <td>16.0</td>\n",
       "      <td>nodepress</td>\n",
       "      <td>0</td>\n",
       "      <td>lowedu</td>\n",
       "      <td>0</td>\n",
       "    </tr>\n",
       "  </tbody>\n",
       "</table>\n",
       "</div>"
      ],
      "text/plain": [
       "   RID  Phase VISCODE2   EXAMDATE  DXCURREN  DXCONV  DXCONTYP  DXREV  \\\n",
       "0    2  ADNI1       bl  9/29/2005       1.0     0.0      -4.0   -4.0   \n",
       "1    2  ADNI1      m06   3/6/2006       1.0     0.0      -4.0   -4.0   \n",
       "\n",
       "   DIAGNOSIS_all  DX  APGEN1  APGEN2  PTEDUCAT    psycond  psycond_digital  \\\n",
       "0            1.0  NL       3       3      16.0  nodepress                0   \n",
       "1            1.0  NL       3       3      16.0  nodepress                0   \n",
       "\n",
       "  edu_status  edu_status_digital  \n",
       "0     lowedu                   0  \n",
       "1     lowedu                   0  "
      ]
     },
     "execution_count": 33,
     "metadata": {},
     "output_type": "execute_result"
    }
   ],
   "source": [
    "df_merge_EDU_APOERES.head(2)"
   ]
  },
  {
   "cell_type": "code",
   "execution_count": 34,
   "id": "impaired-butter",
   "metadata": {},
   "outputs": [],
   "source": [
    "df_merge_EDU_APOERES['APOE_status']=0"
   ]
  },
  {
   "cell_type": "code",
   "execution_count": 35,
   "id": "metric-special",
   "metadata": {},
   "outputs": [],
   "source": [
    "df_merge_EDU_APOERES.loc[(df_merge_EDU_APOERES['APGEN1']==4) & (df_merge_EDU_APOERES['APGEN2']==4), 'APOE_status']=2\n",
    "df_merge_EDU_APOERES.loc[(df_merge_EDU_APOERES['APGEN1']!=4) & (df_merge_EDU_APOERES['APGEN2']==4), 'APOE_status']=1\n",
    "df_merge_EDU_APOERES.loc[(df_merge_EDU_APOERES['APGEN1']==4) & (df_merge_EDU_APOERES['APGEN2']!=4), 'APOE_status']=1\n"
   ]
  },
  {
   "cell_type": "code",
   "execution_count": 36,
   "id": "australian-listing",
   "metadata": {},
   "outputs": [
    {
     "data": {
      "text/plain": [
       "DX\n",
       "MCI          1134\n",
       "NL            893\n",
       "AD            705\n",
       "MCI to AD     343\n",
       "NL to MCI     101\n",
       "MCI to NL      64\n",
       "AD to MCI      12\n",
       "NL to AD        3\n",
       "Name: RID, dtype: int64"
      ]
     },
     "execution_count": 36,
     "metadata": {},
     "output_type": "execute_result"
    }
   ],
   "source": [
    "df_merge_EDU_APOERES[['RID','DX']].groupby(['DX']).RID.nunique().sort_values(ascending=False)"
   ]
  },
  {
   "cell_type": "code",
   "execution_count": 37,
   "id": "indie-carnival",
   "metadata": {},
   "outputs": [],
   "source": [
    "risk_group_rid=['RID','DX','APOE_status','edu_status','psycond']\n",
    "risk_group_col=['DX','APOE_status','edu_status','psycond']"
   ]
  },
  {
   "cell_type": "code",
   "execution_count": 38,
   "id": "documentary-dubai",
   "metadata": {},
   "outputs": [
    {
     "data": {
      "text/plain": [
       "DX  APOE_status  edu_status  psycond  \n",
       "NL  0            highedu     depress       52\n",
       "                             nodepress    254\n",
       "                 lowedu      depress       49\n",
       "                             nodepress    258\n",
       "    1            highedu     depress       19\n",
       "                             nodepress    102\n",
       "                 lowedu      depress       19\n",
       "                             nodepress    116\n",
       "    2            highedu     depress        2\n",
       "                             nodepress     12\n",
       "                 lowedu      depress        1\n",
       "                             nodepress      9\n",
       "Name: RID, dtype: int64"
      ]
     },
     "execution_count": 38,
     "metadata": {},
     "output_type": "execute_result"
    }
   ],
   "source": [
    "df_merge_EDU_APOERES[df_merge_EDU_APOERES['DX']=='NL'][risk_group_rid].groupby(risk_group_col).RID.nunique()"
   ]
  },
  {
   "cell_type": "code",
   "execution_count": 39,
   "id": "strategic-surgery",
   "metadata": {},
   "outputs": [
    {
     "data": {
      "text/plain": [
       "DX  APOE_status  edu_status  psycond  \n",
       "AD  0            highedu     depress       29\n",
       "                             nodepress     63\n",
       "                 lowedu      depress       47\n",
       "                             nodepress    109\n",
       "    1            highedu     depress       31\n",
       "                             nodepress     74\n",
       "                 lowedu      depress       81\n",
       "                             nodepress    141\n",
       "    2            highedu     depress       12\n",
       "                             nodepress     27\n",
       "                 lowedu      depress       27\n",
       "                             nodepress     64\n",
       "Name: RID, dtype: int64"
      ]
     },
     "execution_count": 39,
     "metadata": {},
     "output_type": "execute_result"
    }
   ],
   "source": [
    "df_merge_EDU_APOERES[df_merge_EDU_APOERES['DX']=='AD'][risk_group_rid].groupby(risk_group_col).RID.nunique()"
   ]
  },
  {
   "cell_type": "code",
   "execution_count": 40,
   "id": "atomic-balance",
   "metadata": {},
   "outputs": [
    {
     "data": {
      "text/plain": [
       "49"
      ]
     },
     "execution_count": 40,
     "metadata": {},
     "output_type": "execute_result"
    }
   ],
   "source": [
    "df_merge_EDU_APOERES[(df_merge_EDU_APOERES['DX']=='NL')&(df_merge_EDU_APOERES['APOE_status']==0)&(df_merge_EDU_APOERES['edu_status']=='lowedu')&(df_merge_EDU_APOERES['psycond']=='depress')][risk_group_rid].RID.nunique()"
   ]
  },
  {
   "cell_type": "code",
   "execution_count": 41,
   "id": "finished-elder",
   "metadata": {},
   "outputs": [
    {
     "data": {
      "text/plain": [
       "19"
      ]
     },
     "execution_count": 41,
     "metadata": {},
     "output_type": "execute_result"
    }
   ],
   "source": [
    "df_merge_EDU_APOERES[(df_merge_EDU_APOERES['DX']=='NL')&(df_merge_EDU_APOERES['APOE_status']==1)&(df_merge_EDU_APOERES['edu_status']=='lowedu')&(df_merge_EDU_APOERES['psycond']=='depress')][risk_group_rid].RID.nunique()"
   ]
  },
  {
   "cell_type": "code",
   "execution_count": 42,
   "id": "incorporate-chinese",
   "metadata": {},
   "outputs": [
    {
     "data": {
      "text/plain": [
       "1"
      ]
     },
     "execution_count": 42,
     "metadata": {},
     "output_type": "execute_result"
    }
   ],
   "source": [
    "df_merge_EDU_APOERES[(df_merge_EDU_APOERES['DX']=='NL')&(df_merge_EDU_APOERES['APOE_status']==2)&(df_merge_EDU_APOERES['edu_status']=='lowedu')&(df_merge_EDU_APOERES['psycond']=='depress')][risk_group_rid].RID.nunique()"
   ]
  },
  {
   "cell_type": "code",
   "execution_count": 43,
   "id": "bright-california",
   "metadata": {},
   "outputs": [
    {
     "data": {
      "text/plain": [
       "APOE_status\n",
       "0    1200\n",
       "1     804\n",
       "2     212\n",
       "Name: RID, dtype: int64"
      ]
     },
     "execution_count": 43,
     "metadata": {},
     "output_type": "execute_result"
    }
   ],
   "source": [
    "df_merge_EDU_APOERES.groupby(['APOE_status']).RID.nunique()"
   ]
  },
  {
   "cell_type": "code",
   "execution_count": 44,
   "id": "animated-purse",
   "metadata": {},
   "outputs": [
    {
     "data": {
      "text/plain": [
       "(6787, 398)"
      ]
     },
     "execution_count": 44,
     "metadata": {},
     "output_type": "execute_result"
    }
   ],
   "source": [
    "df_mri_all = pd.concat([df_mri_adni1, df_mri_adni2, df_mri_adni3]).sort_values(\n",
    "    by=['RID', 'EXAMDATE'])\n",
    "df_mri_all.shape"
   ]
  },
  {
   "cell_type": "code",
   "execution_count": 45,
   "id": "adjusted-tourist",
   "metadata": {},
   "outputs": [
    {
     "data": {
      "text/html": [
       "<div>\n",
       "<style scoped>\n",
       "    .dataframe tbody tr th:only-of-type {\n",
       "        vertical-align: middle;\n",
       "    }\n",
       "\n",
       "    .dataframe tbody tr th {\n",
       "        vertical-align: top;\n",
       "    }\n",
       "\n",
       "    .dataframe thead th {\n",
       "        text-align: right;\n",
       "    }\n",
       "</style>\n",
       "<table border=\"1\" class=\"dataframe\">\n",
       "  <thead>\n",
       "    <tr style=\"text-align: right;\">\n",
       "      <th></th>\n",
       "      <th>RID</th>\n",
       "      <th>VISCODE</th>\n",
       "      <th>EXAMDATE</th>\n",
       "      <th>VERSION</th>\n",
       "      <th>LONISID</th>\n",
       "      <th>LONIUID</th>\n",
       "      <th>IMAGEUID</th>\n",
       "      <th>RUNDATE</th>\n",
       "      <th>STATUS</th>\n",
       "      <th>OVERALLQC</th>\n",
       "      <th>...</th>\n",
       "      <th>ST151SV</th>\n",
       "      <th>ST152SV</th>\n",
       "      <th>ST153SV</th>\n",
       "      <th>ST154SV</th>\n",
       "      <th>ST155SV</th>\n",
       "      <th>update_stamp</th>\n",
       "      <th>VISCODE2</th>\n",
       "      <th>COLPROT</th>\n",
       "      <th>IMAGETYPE</th>\n",
       "      <th>HIPPOQC</th>\n",
       "    </tr>\n",
       "  </thead>\n",
       "  <tbody>\n",
       "    <tr>\n",
       "      <th>4</th>\n",
       "      <td>15</td>\n",
       "      <td>bl</td>\n",
       "      <td>2005-10-31</td>\n",
       "      <td>2013-08-07</td>\n",
       "      <td>2613.0</td>\n",
       "      <td>8833.0</td>\n",
       "      <td>33046</td>\n",
       "      <td>2013-08-07</td>\n",
       "      <td>partial</td>\n",
       "      <td>Pass</td>\n",
       "      <td>...</td>\n",
       "      <td>216157.0</td>\n",
       "      <td>433218.0</td>\n",
       "      <td>167556.0</td>\n",
       "      <td>550001.0</td>\n",
       "      <td>928508.0</td>\n",
       "      <td>2016-02-02 09:34:17.0</td>\n",
       "      <td>bl</td>\n",
       "      <td>NaN</td>\n",
       "      <td>NaN</td>\n",
       "      <td>NaN</td>\n",
       "    </tr>\n",
       "    <tr>\n",
       "      <th>1</th>\n",
       "      <td>15</td>\n",
       "      <td>m06</td>\n",
       "      <td>2006-05-02</td>\n",
       "      <td>2013-08-07</td>\n",
       "      <td>3695.0</td>\n",
       "      <td>13884.0</td>\n",
       "      <td>33041</td>\n",
       "      <td>2013-08-07</td>\n",
       "      <td>partial</td>\n",
       "      <td>Pass</td>\n",
       "      <td>...</td>\n",
       "      <td>218921.0</td>\n",
       "      <td>438581.0</td>\n",
       "      <td>171869.0</td>\n",
       "      <td>547856.0</td>\n",
       "      <td>931911.0</td>\n",
       "      <td>2016-02-02 09:34:17.0</td>\n",
       "      <td>m06</td>\n",
       "      <td>NaN</td>\n",
       "      <td>NaN</td>\n",
       "      <td>NaN</td>\n",
       "    </tr>\n",
       "    <tr>\n",
       "      <th>3</th>\n",
       "      <td>15</td>\n",
       "      <td>m12</td>\n",
       "      <td>2006-10-16</td>\n",
       "      <td>2013-08-07</td>\n",
       "      <td>5490.0</td>\n",
       "      <td>20311.0</td>\n",
       "      <td>63475</td>\n",
       "      <td>2013-08-07</td>\n",
       "      <td>partial</td>\n",
       "      <td>Pass</td>\n",
       "      <td>...</td>\n",
       "      <td>214105.0</td>\n",
       "      <td>431047.0</td>\n",
       "      <td>172974.0</td>\n",
       "      <td>548759.0</td>\n",
       "      <td>921761.0</td>\n",
       "      <td>2016-02-02 09:34:17.0</td>\n",
       "      <td>m12</td>\n",
       "      <td>NaN</td>\n",
       "      <td>NaN</td>\n",
       "      <td>NaN</td>\n",
       "    </tr>\n",
       "    <tr>\n",
       "      <th>2</th>\n",
       "      <td>15</td>\n",
       "      <td>m24</td>\n",
       "      <td>2007-10-11</td>\n",
       "      <td>2013-08-07</td>\n",
       "      <td>13281.0</td>\n",
       "      <td>41463.0</td>\n",
       "      <td>82551</td>\n",
       "      <td>2013-08-07</td>\n",
       "      <td>partial</td>\n",
       "      <td>Partial</td>\n",
       "      <td>...</td>\n",
       "      <td>216144.0</td>\n",
       "      <td>432367.0</td>\n",
       "      <td>168029.0</td>\n",
       "      <td>543261.0</td>\n",
       "      <td>923510.0</td>\n",
       "      <td>2016-02-02 09:34:17.0</td>\n",
       "      <td>m24</td>\n",
       "      <td>NaN</td>\n",
       "      <td>NaN</td>\n",
       "      <td>NaN</td>\n",
       "    </tr>\n",
       "    <tr>\n",
       "      <th>0</th>\n",
       "      <td>15</td>\n",
       "      <td>m36</td>\n",
       "      <td>2009-04-27</td>\n",
       "      <td>2013-08-07</td>\n",
       "      <td>21223.0</td>\n",
       "      <td>66778.0</td>\n",
       "      <td>160866</td>\n",
       "      <td>2013-08-07</td>\n",
       "      <td>partial</td>\n",
       "      <td>Pass</td>\n",
       "      <td>...</td>\n",
       "      <td>215448.0</td>\n",
       "      <td>429929.0</td>\n",
       "      <td>167857.0</td>\n",
       "      <td>534752.0</td>\n",
       "      <td>909236.0</td>\n",
       "      <td>2016-02-02 09:34:17.0</td>\n",
       "      <td>m36</td>\n",
       "      <td>NaN</td>\n",
       "      <td>NaN</td>\n",
       "      <td>NaN</td>\n",
       "    </tr>\n",
       "  </tbody>\n",
       "</table>\n",
       "<p>5 rows × 398 columns</p>\n",
       "</div>"
      ],
      "text/plain": [
       "   RID VISCODE    EXAMDATE     VERSION  LONISID  LONIUID  IMAGEUID  \\\n",
       "4   15      bl  2005-10-31  2013-08-07   2613.0   8833.0     33046   \n",
       "1   15     m06  2006-05-02  2013-08-07   3695.0  13884.0     33041   \n",
       "3   15     m12  2006-10-16  2013-08-07   5490.0  20311.0     63475   \n",
       "2   15     m24  2007-10-11  2013-08-07  13281.0  41463.0     82551   \n",
       "0   15     m36  2009-04-27  2013-08-07  21223.0  66778.0    160866   \n",
       "\n",
       "      RUNDATE   STATUS OVERALLQC  ...   ST151SV   ST152SV   ST153SV   ST154SV  \\\n",
       "4  2013-08-07  partial      Pass  ...  216157.0  433218.0  167556.0  550001.0   \n",
       "1  2013-08-07  partial      Pass  ...  218921.0  438581.0  171869.0  547856.0   \n",
       "3  2013-08-07  partial      Pass  ...  214105.0  431047.0  172974.0  548759.0   \n",
       "2  2013-08-07  partial   Partial  ...  216144.0  432367.0  168029.0  543261.0   \n",
       "0  2013-08-07  partial      Pass  ...  215448.0  429929.0  167857.0  534752.0   \n",
       "\n",
       "    ST155SV           update_stamp VISCODE2 COLPROT IMAGETYPE HIPPOQC  \n",
       "4  928508.0  2016-02-02 09:34:17.0       bl     NaN       NaN     NaN  \n",
       "1  931911.0  2016-02-02 09:34:17.0      m06     NaN       NaN     NaN  \n",
       "3  921761.0  2016-02-02 09:34:17.0      m12     NaN       NaN     NaN  \n",
       "2  923510.0  2016-02-02 09:34:17.0      m24     NaN       NaN     NaN  \n",
       "0  909236.0  2016-02-02 09:34:17.0      m36     NaN       NaN     NaN  \n",
       "\n",
       "[5 rows x 398 columns]"
      ]
     },
     "execution_count": 45,
     "metadata": {},
     "output_type": "execute_result"
    }
   ],
   "source": [
    "df_mri_all.head()"
   ]
  },
  {
   "cell_type": "code",
   "execution_count": 46,
   "id": "commercial-birth",
   "metadata": {},
   "outputs": [],
   "source": [
    "# df_mri_all[df_mri_all.columns[df_mri_all.columns.isin(df_MRI_region_dict['ADNI Code'])]].shape"
   ]
  },
  {
   "cell_type": "code",
   "execution_count": 47,
   "id": "apart-dakota",
   "metadata": {},
   "outputs": [],
   "source": [
    "# df_mri_all[df_mri_all.columns[df_mri_all.columns.isin(df_mri_adni3_MRI_region_dict)]].shape"
   ]
  },
  {
   "cell_type": "code",
   "execution_count": 48,
   "id": "distributed-spectrum",
   "metadata": {},
   "outputs": [
    {
     "data": {
      "text/plain": [
       "(6787, 6787)"
      ]
     },
     "execution_count": 48,
     "metadata": {},
     "output_type": "execute_result"
    }
   ],
   "source": [
    "df_mri_all['VISCODE'].count(),df_mri_all['VISCODE2'].count()"
   ]
  },
  {
   "cell_type": "code",
   "execution_count": 49,
   "id": "blond-sarah",
   "metadata": {},
   "outputs": [],
   "source": [
    "# df_mri_adni2[df_mri_adni2['VISCODE2']=='scmri']['RID'].value_counts().hist()"
   ]
  },
  {
   "cell_type": "code",
   "execution_count": 50,
   "id": "bulgarian-stanford",
   "metadata": {},
   "outputs": [],
   "source": [
    "# df_merge[(df_merge['RID'].isin(df_merge_NL['RID'].unique().tolist()))]['DX'].value_counts()"
   ]
  },
  {
   "cell_type": "code",
   "execution_count": 51,
   "id": "secondary-genealogy",
   "metadata": {},
   "outputs": [
    {
     "data": {
      "text/plain": [
       "(373, 3)"
      ]
     },
     "execution_count": 51,
     "metadata": {},
     "output_type": "execute_result"
    }
   ],
   "source": [
    "df_mri_dict = pd.read_csv(file_loc + 'mri_regional_dict_proper_all.csv')\n",
    "df_mri_dict.shape"
   ]
  },
  {
   "cell_type": "code",
   "execution_count": 52,
   "id": "legal-conviction",
   "metadata": {},
   "outputs": [],
   "source": [
    "df_mri_all.loc[df_mri_all['VISCODE2']=='scmri','VISCODE2']='bl'\n",
    "df_mri_all.loc[df_mri_all['VISCODE2']=='sc','VISCODE2']='bl'"
   ]
  },
  {
   "cell_type": "code",
   "execution_count": 53,
   "id": "hearing-amazon",
   "metadata": {},
   "outputs": [
    {
     "data": {
      "text/plain": [
       "((5802, 401), 1735)"
      ]
     },
     "execution_count": 53,
     "metadata": {},
     "output_type": "execute_result"
    }
   ],
   "source": [
    "df_mri_all_DX=pd.merge(df_mri_all, df_merge[['RID','Phase','VISCODE2','EXAMDATE', 'DX']], on=['RID','VISCODE2'])\n",
    "df_mri_all_DX.shape,df_mri_all_DX.RID.nunique()"
   ]
  },
  {
   "cell_type": "code",
   "execution_count": 54,
   "id": "streaming-flower",
   "metadata": {},
   "outputs": [
    {
     "data": {
      "text/html": [
       "<div>\n",
       "<style scoped>\n",
       "    .dataframe tbody tr th:only-of-type {\n",
       "        vertical-align: middle;\n",
       "    }\n",
       "\n",
       "    .dataframe tbody tr th {\n",
       "        vertical-align: top;\n",
       "    }\n",
       "\n",
       "    .dataframe thead th {\n",
       "        text-align: right;\n",
       "    }\n",
       "</style>\n",
       "<table border=\"1\" class=\"dataframe\">\n",
       "  <thead>\n",
       "    <tr style=\"text-align: right;\">\n",
       "      <th></th>\n",
       "      <th>RID</th>\n",
       "      <th>VISCODE</th>\n",
       "      <th>VISCODE2</th>\n",
       "      <th>EXAMDATE_x</th>\n",
       "      <th>Phase</th>\n",
       "      <th>EXAMDATE_y</th>\n",
       "      <th>DX</th>\n",
       "    </tr>\n",
       "  </thead>\n",
       "  <tbody>\n",
       "    <tr>\n",
       "      <th>4775</th>\n",
       "      <td>6001</td>\n",
       "      <td>sc</td>\n",
       "      <td>bl</td>\n",
       "      <td>2017-01-11</td>\n",
       "      <td>ADNI3</td>\n",
       "      <td>1/19/2017</td>\n",
       "      <td>NL</td>\n",
       "    </tr>\n",
       "    <tr>\n",
       "      <th>4777</th>\n",
       "      <td>6002</td>\n",
       "      <td>sc</td>\n",
       "      <td>bl</td>\n",
       "      <td>2017-01-23</td>\n",
       "      <td>ADNI3</td>\n",
       "      <td>2/2/2017</td>\n",
       "      <td>MCI</td>\n",
       "    </tr>\n",
       "    <tr>\n",
       "      <th>4779</th>\n",
       "      <td>6005</td>\n",
       "      <td>sc</td>\n",
       "      <td>bl</td>\n",
       "      <td>2017-03-09</td>\n",
       "      <td>ADNI3</td>\n",
       "      <td>5/3/2017</td>\n",
       "      <td>NL</td>\n",
       "    </tr>\n",
       "    <tr>\n",
       "      <th>4782</th>\n",
       "      <td>6007</td>\n",
       "      <td>sc</td>\n",
       "      <td>bl</td>\n",
       "      <td>2017-03-31</td>\n",
       "      <td>ADNI3</td>\n",
       "      <td>4/11/2017</td>\n",
       "      <td>NL</td>\n",
       "    </tr>\n",
       "    <tr>\n",
       "      <th>4785</th>\n",
       "      <td>6008</td>\n",
       "      <td>sc</td>\n",
       "      <td>bl</td>\n",
       "      <td>2017-04-12</td>\n",
       "      <td>ADNI3</td>\n",
       "      <td>5/26/2017</td>\n",
       "      <td>NL</td>\n",
       "    </tr>\n",
       "  </tbody>\n",
       "</table>\n",
       "</div>"
      ],
      "text/plain": [
       "       RID VISCODE VISCODE2  EXAMDATE_x  Phase EXAMDATE_y   DX\n",
       "4775  6001      sc       bl  2017-01-11  ADNI3  1/19/2017   NL\n",
       "4777  6002      sc       bl  2017-01-23  ADNI3   2/2/2017  MCI\n",
       "4779  6005      sc       bl  2017-03-09  ADNI3   5/3/2017   NL\n",
       "4782  6007      sc       bl  2017-03-31  ADNI3  4/11/2017   NL\n",
       "4785  6008      sc       bl  2017-04-12  ADNI3  5/26/2017   NL"
      ]
     },
     "execution_count": 54,
     "metadata": {},
     "output_type": "execute_result"
    }
   ],
   "source": [
    "df_mri_all_DX[(df_mri_all_DX['Phase']=='ADNI3')&(df_mri_all_DX['VISCODE2']=='bl')][['RID','VISCODE','VISCODE2','EXAMDATE_x','Phase','EXAMDATE_y','DX']].head()"
   ]
  },
  {
   "cell_type": "code",
   "execution_count": 55,
   "id": "swiss-piece",
   "metadata": {},
   "outputs": [
    {
     "data": {
      "text/plain": [
       "MCI          2577\n",
       "NL           2178\n",
       "AD            824\n",
       "MCI to AD     131\n",
       "MCI to NL      42\n",
       "NL to MCI      41\n",
       "AD to MCI       5\n",
       "Name: DX, dtype: int64"
      ]
     },
     "execution_count": 55,
     "metadata": {},
     "output_type": "execute_result"
    }
   ],
   "source": [
    "df_mri_all_DX['DX'].value_counts()"
   ]
  },
  {
   "cell_type": "code",
   "execution_count": 56,
   "id": "utility-tulsa",
   "metadata": {},
   "outputs": [],
   "source": [
    "# df_mri_all_DX.groupby('Phase')['VISCODE2'].value_counts()"
   ]
  },
  {
   "cell_type": "code",
   "execution_count": 57,
   "id": "comfortable-nightlife",
   "metadata": {},
   "outputs": [
    {
     "data": {
      "text/plain": [
       "((5802, 401), (6163, 402))"
      ]
     },
     "execution_count": 57,
     "metadata": {},
     "output_type": "execute_result"
    }
   ],
   "source": [
    "df_mri_all_DX_EDU=pd.merge(df_mri_all_DX, df_PTDEMOG[['RID','PTEDUCAT']], on=['RID']).drop_duplicates()\n",
    "df_mri_all_DX.shape,df_mri_all_DX_EDU.shape"
   ]
  },
  {
   "cell_type": "code",
   "execution_count": 58,
   "id": "failing-binding",
   "metadata": {},
   "outputs": [],
   "source": [
    "sel_cols=['RID','VISCODE2'] + df_mri_adni3_MRI_region_dict + ['DX','PTEDUCAT']"
   ]
  },
  {
   "cell_type": "code",
   "execution_count": 59,
   "id": "floral-keeping",
   "metadata": {},
   "outputs": [
    {
     "data": {
      "text/plain": [
       "(6163, 123)"
      ]
     },
     "execution_count": 59,
     "metadata": {},
     "output_type": "execute_result"
    }
   ],
   "source": [
    "df_mri_all_DX_EDU_sel_cols=df_mri_all_DX_EDU[sel_cols]\n",
    "df_mri_all_DX_EDU_sel_cols.shape"
   ]
  },
  {
   "cell_type": "code",
   "execution_count": 60,
   "id": "dramatic-emergency",
   "metadata": {},
   "outputs": [
    {
     "name": "stderr",
     "output_type": "stream",
     "text": [
      "<ipython-input-60-47e21b62ee4e>:1: SettingWithCopyWarning: \n",
      "A value is trying to be set on a copy of a slice from a DataFrame.\n",
      "Try using .loc[row_indexer,col_indexer] = value instead\n",
      "\n",
      "See the caveats in the documentation: https://pandas.pydata.org/pandas-docs/stable/user_guide/indexing.html#returning-a-view-versus-a-copy\n",
      "  df_mri_all_DX_EDU_sel_cols['psycond']='nodepress'\n",
      "<ipython-input-60-47e21b62ee4e>:2: SettingWithCopyWarning: \n",
      "A value is trying to be set on a copy of a slice from a DataFrame.\n",
      "Try using .loc[row_indexer,col_indexer] = value instead\n",
      "\n",
      "See the caveats in the documentation: https://pandas.pydata.org/pandas-docs/stable/user_guide/indexing.html#returning-a-view-versus-a-copy\n",
      "  df_mri_all_DX_EDU_sel_cols['psycond_digital']=0\n"
     ]
    }
   ],
   "source": [
    "df_mri_all_DX_EDU_sel_cols['psycond']='nodepress'\n",
    "df_mri_all_DX_EDU_sel_cols['psycond_digital']=0"
   ]
  },
  {
   "cell_type": "code",
   "execution_count": 61,
   "id": "administrative-honduras",
   "metadata": {},
   "outputs": [
    {
     "data": {
      "text/plain": [
       "nodepress    6163\n",
       "Name: psycond, dtype: int64"
      ]
     },
     "execution_count": 61,
     "metadata": {},
     "output_type": "execute_result"
    }
   ],
   "source": [
    "df_mri_all_DX_EDU_sel_cols['psycond'].value_counts()"
   ]
  },
  {
   "cell_type": "code",
   "execution_count": 62,
   "id": "weekly-grain",
   "metadata": {},
   "outputs": [
    {
     "name": "stderr",
     "output_type": "stream",
     "text": [
      "E:\\anaconda3\\envs\\tf\\lib\\site-packages\\pandas\\core\\indexing.py:1765: SettingWithCopyWarning: \n",
      "A value is trying to be set on a copy of a slice from a DataFrame.\n",
      "Try using .loc[row_indexer,col_indexer] = value instead\n",
      "\n",
      "See the caveats in the documentation: https://pandas.pydata.org/pandas-docs/stable/user_guide/indexing.html#returning-a-view-versus-a-copy\n",
      "  isetter(loc, value)\n"
     ]
    }
   ],
   "source": [
    "df_mri_all_DX_EDU_sel_cols.loc[df_mri_all_DX_EDU_sel_cols['RID'].isin(df_medhist_disease['RID'].unique().tolist()), 'psycond']='depress'\n",
    "df_mri_all_DX_EDU_sel_cols.loc[df_mri_all_DX_EDU_sel_cols['RID'].isin(df_medhist_disease['RID'].unique().tolist()), 'psycond_digital']=1"
   ]
  },
  {
   "cell_type": "code",
   "execution_count": 63,
   "id": "victorian-handbook",
   "metadata": {},
   "outputs": [
    {
     "data": {
      "text/plain": [
       "nodepress    4600\n",
       "depress      1563\n",
       "Name: psycond, dtype: int64"
      ]
     },
     "execution_count": 63,
     "metadata": {},
     "output_type": "execute_result"
    }
   ],
   "source": [
    "df_mri_all_DX_EDU_sel_cols['psycond'].value_counts()"
   ]
  },
  {
   "cell_type": "code",
   "execution_count": 64,
   "id": "verified-auckland",
   "metadata": {},
   "outputs": [
    {
     "name": "stderr",
     "output_type": "stream",
     "text": [
      "<ipython-input-64-3d5d11d01c2f>:1: SettingWithCopyWarning: \n",
      "A value is trying to be set on a copy of a slice from a DataFrame.\n",
      "Try using .loc[row_indexer,col_indexer] = value instead\n",
      "\n",
      "See the caveats in the documentation: https://pandas.pydata.org/pandas-docs/stable/user_guide/indexing.html#returning-a-view-versus-a-copy\n",
      "  df_mri_all_DX_EDU_sel_cols['edu_status']='lowedu'\n",
      "<ipython-input-64-3d5d11d01c2f>:2: SettingWithCopyWarning: \n",
      "A value is trying to be set on a copy of a slice from a DataFrame.\n",
      "Try using .loc[row_indexer,col_indexer] = value instead\n",
      "\n",
      "See the caveats in the documentation: https://pandas.pydata.org/pandas-docs/stable/user_guide/indexing.html#returning-a-view-versus-a-copy\n",
      "  df_mri_all_DX_EDU_sel_cols['edu_status_digital']=0\n"
     ]
    }
   ],
   "source": [
    "df_mri_all_DX_EDU_sel_cols['edu_status']='lowedu'\n",
    "df_mri_all_DX_EDU_sel_cols['edu_status_digital']=0"
   ]
  },
  {
   "cell_type": "code",
   "execution_count": 65,
   "id": "killing-monroe",
   "metadata": {},
   "outputs": [
    {
     "data": {
      "text/plain": [
       "(2572, 127)"
      ]
     },
     "execution_count": 65,
     "metadata": {},
     "output_type": "execute_result"
    }
   ],
   "source": [
    "df_mri_all_DX_EDU_sel_cols[df_mri_all_DX_EDU_sel_cols['PTEDUCAT']>16].shape"
   ]
  },
  {
   "cell_type": "code",
   "execution_count": 66,
   "id": "occasional-weapon",
   "metadata": {},
   "outputs": [
    {
     "data": {
      "text/plain": [
       "763"
      ]
     },
     "execution_count": 66,
     "metadata": {},
     "output_type": "execute_result"
    }
   ],
   "source": [
    "high_edu_list=df_mri_all_DX_EDU_sel_cols[df_mri_all_DX_EDU_sel_cols['PTEDUCAT']>16].RID.unique()\n",
    "len(high_edu_list)"
   ]
  },
  {
   "cell_type": "code",
   "execution_count": 67,
   "id": "congressional-engine",
   "metadata": {},
   "outputs": [
    {
     "name": "stderr",
     "output_type": "stream",
     "text": [
      "E:\\anaconda3\\envs\\tf\\lib\\site-packages\\pandas\\core\\indexing.py:1765: SettingWithCopyWarning: \n",
      "A value is trying to be set on a copy of a slice from a DataFrame.\n",
      "Try using .loc[row_indexer,col_indexer] = value instead\n",
      "\n",
      "See the caveats in the documentation: https://pandas.pydata.org/pandas-docs/stable/user_guide/indexing.html#returning-a-view-versus-a-copy\n",
      "  isetter(loc, value)\n"
     ]
    }
   ],
   "source": [
    "df_mri_all_DX_EDU_sel_cols.loc[df_mri_all_DX_EDU_sel_cols['RID'].isin(high_edu_list), 'edu_status']='highedu'\n",
    "df_mri_all_DX_EDU_sel_cols.loc[df_mri_all_DX_EDU_sel_cols['RID'].isin(high_edu_list), 'edu_status_digital']=1"
   ]
  },
  {
   "cell_type": "code",
   "execution_count": 68,
   "id": "abstract-portugal",
   "metadata": {},
   "outputs": [
    {
     "data": {
      "text/plain": [
       "lowedu     3458\n",
       "highedu    2705\n",
       "Name: edu_status, dtype: int64"
      ]
     },
     "execution_count": 68,
     "metadata": {},
     "output_type": "execute_result"
    }
   ],
   "source": [
    "df_mri_all_DX_EDU_sel_cols['edu_status'].value_counts()"
   ]
  },
  {
   "cell_type": "code",
   "execution_count": 69,
   "id": "distinct-median",
   "metadata": {},
   "outputs": [
    {
     "data": {
      "text/html": [
       "<div>\n",
       "<style scoped>\n",
       "    .dataframe tbody tr th:only-of-type {\n",
       "        vertical-align: middle;\n",
       "    }\n",
       "\n",
       "    .dataframe tbody tr th {\n",
       "        vertical-align: top;\n",
       "    }\n",
       "\n",
       "    .dataframe thead th {\n",
       "        text-align: right;\n",
       "    }\n",
       "</style>\n",
       "<table border=\"1\" class=\"dataframe\">\n",
       "  <thead>\n",
       "    <tr style=\"text-align: right;\">\n",
       "      <th></th>\n",
       "      <th>RID</th>\n",
       "      <th>VISCODE2</th>\n",
       "      <th>ST101SV</th>\n",
       "      <th>ST102CV</th>\n",
       "      <th>ST103CV</th>\n",
       "      <th>ST104CV</th>\n",
       "      <th>ST105CV</th>\n",
       "      <th>ST106CV</th>\n",
       "      <th>ST107CV</th>\n",
       "      <th>ST108CV</th>\n",
       "      <th>...</th>\n",
       "      <th>ST152SV</th>\n",
       "      <th>ST153SV</th>\n",
       "      <th>ST154SV</th>\n",
       "      <th>ST155SV</th>\n",
       "      <th>DX</th>\n",
       "      <th>PTEDUCAT</th>\n",
       "      <th>psycond</th>\n",
       "      <th>psycond_digital</th>\n",
       "      <th>edu_status</th>\n",
       "      <th>edu_status_digital</th>\n",
       "    </tr>\n",
       "  </thead>\n",
       "  <tbody>\n",
       "    <tr>\n",
       "      <th>0</th>\n",
       "      <td>15</td>\n",
       "      <td>bl</td>\n",
       "      <td>1327.0</td>\n",
       "      <td>3080.0</td>\n",
       "      <td>1742.0</td>\n",
       "      <td>2705.0</td>\n",
       "      <td>2222.0</td>\n",
       "      <td>3726.0</td>\n",
       "      <td>2412.0</td>\n",
       "      <td>7716.0</td>\n",
       "      <td>...</td>\n",
       "      <td>433218.0</td>\n",
       "      <td>167556.0</td>\n",
       "      <td>550001.0</td>\n",
       "      <td>928508.0</td>\n",
       "      <td>NL</td>\n",
       "      <td>18.0</td>\n",
       "      <td>nodepress</td>\n",
       "      <td>0</td>\n",
       "      <td>highedu</td>\n",
       "      <td>1</td>\n",
       "    </tr>\n",
       "    <tr>\n",
       "      <th>2</th>\n",
       "      <td>15</td>\n",
       "      <td>m06</td>\n",
       "      <td>1527.0</td>\n",
       "      <td>2748.0</td>\n",
       "      <td>1593.0</td>\n",
       "      <td>2772.0</td>\n",
       "      <td>2147.0</td>\n",
       "      <td>3549.0</td>\n",
       "      <td>2103.0</td>\n",
       "      <td>7425.0</td>\n",
       "      <td>...</td>\n",
       "      <td>438581.0</td>\n",
       "      <td>171869.0</td>\n",
       "      <td>547856.0</td>\n",
       "      <td>931911.0</td>\n",
       "      <td>NL</td>\n",
       "      <td>18.0</td>\n",
       "      <td>nodepress</td>\n",
       "      <td>0</td>\n",
       "      <td>highedu</td>\n",
       "      <td>1</td>\n",
       "    </tr>\n",
       "  </tbody>\n",
       "</table>\n",
       "<p>2 rows × 127 columns</p>\n",
       "</div>"
      ],
      "text/plain": [
       "   RID VISCODE2  ST101SV  ST102CV  ST103CV  ST104CV  ST105CV  ST106CV  \\\n",
       "0   15       bl   1327.0   3080.0   1742.0   2705.0   2222.0   3726.0   \n",
       "2   15      m06   1527.0   2748.0   1593.0   2772.0   2147.0   3549.0   \n",
       "\n",
       "   ST107CV  ST108CV  ...   ST152SV   ST153SV   ST154SV   ST155SV  DX  \\\n",
       "0   2412.0   7716.0  ...  433218.0  167556.0  550001.0  928508.0  NL   \n",
       "2   2103.0   7425.0  ...  438581.0  171869.0  547856.0  931911.0  NL   \n",
       "\n",
       "   PTEDUCAT    psycond  psycond_digital  edu_status  edu_status_digital  \n",
       "0      18.0  nodepress                0     highedu                   1  \n",
       "2      18.0  nodepress                0     highedu                   1  \n",
       "\n",
       "[2 rows x 127 columns]"
      ]
     },
     "execution_count": 69,
     "metadata": {},
     "output_type": "execute_result"
    }
   ],
   "source": [
    "df_mri_all_DX_EDU_sel_cols.head(2)"
   ]
  },
  {
   "cell_type": "code",
   "execution_count": 70,
   "id": "great-roller",
   "metadata": {},
   "outputs": [
    {
     "name": "stderr",
     "output_type": "stream",
     "text": [
      "<ipython-input-70-d3d6b46b5ffe>:1: SettingWithCopyWarning: \n",
      "A value is trying to be set on a copy of a slice from a DataFrame.\n",
      "Try using .loc[row_indexer,col_indexer] = value instead\n",
      "\n",
      "See the caveats in the documentation: https://pandas.pydata.org/pandas-docs/stable/user_guide/indexing.html#returning-a-view-versus-a-copy\n",
      "  df_mri_all_DX_EDU_sel_cols['psycond_edu'] = df_mri_all_DX_EDU_sel_cols['psycond'] + '_' + df_mri_all_DX_EDU_sel_cols['edu_status']\n"
     ]
    }
   ],
   "source": [
    "df_mri_all_DX_EDU_sel_cols['psycond_edu'] = df_mri_all_DX_EDU_sel_cols['psycond'] + '_' + df_mri_all_DX_EDU_sel_cols['edu_status']"
   ]
  },
  {
   "cell_type": "code",
   "execution_count": 71,
   "id": "romantic-display",
   "metadata": {},
   "outputs": [
    {
     "data": {
      "text/plain": [
       "psycond    edu_status\n",
       "nodepress  lowedu        2584\n",
       "           highedu       2016\n",
       "depress    lowedu         874\n",
       "           highedu        689\n",
       "dtype: int64"
      ]
     },
     "execution_count": 71,
     "metadata": {},
     "output_type": "execute_result"
    }
   ],
   "source": [
    "df_mri_all_DX_EDU_sel_cols[['psycond','edu_status']].value_counts()"
   ]
  },
  {
   "cell_type": "code",
   "execution_count": 72,
   "id": "arranged-private",
   "metadata": {},
   "outputs": [
    {
     "data": {
      "text/plain": [
       "nodepress_lowedu     2584\n",
       "nodepress_highedu    2016\n",
       "depress_lowedu        874\n",
       "depress_highedu       689\n",
       "Name: psycond_edu, dtype: int64"
      ]
     },
     "execution_count": 72,
     "metadata": {},
     "output_type": "execute_result"
    }
   ],
   "source": [
    "df_mri_all_DX_EDU_sel_cols['psycond_edu'].value_counts()"
   ]
  },
  {
   "cell_type": "code",
   "execution_count": 73,
   "id": "abandoned-hostel",
   "metadata": {},
   "outputs": [
    {
     "name": "stderr",
     "output_type": "stream",
     "text": [
      "<ipython-input-73-91b2afd3eeac>:4: SettingWithCopyWarning: \n",
      "A value is trying to be set on a copy of a slice from a DataFrame.\n",
      "Try using .loc[row_indexer,col_indexer] = value instead\n",
      "\n",
      "See the caveats in the documentation: https://pandas.pydata.org/pandas-docs/stable/user_guide/indexing.html#returning-a-view-versus-a-copy\n",
      "  df_mri_all_DX_EDU_sel_cols['psycond_edu_num']=df_mri_all_DX_EDU_sel_cols['psycond_edu']\n",
      "E:\\anaconda3\\envs\\tf\\lib\\site-packages\\pandas\\core\\indexing.py:1745: SettingWithCopyWarning: \n",
      "A value is trying to be set on a copy of a slice from a DataFrame.\n",
      "Try using .loc[row_indexer,col_indexer] = value instead\n",
      "\n",
      "See the caveats in the documentation: https://pandas.pydata.org/pandas-docs/stable/user_guide/indexing.html#returning-a-view-versus-a-copy\n",
      "  isetter(ilocs[0], value)\n"
     ]
    },
    {
     "data": {
      "text/html": [
       "<div>\n",
       "<style scoped>\n",
       "    .dataframe tbody tr th:only-of-type {\n",
       "        vertical-align: middle;\n",
       "    }\n",
       "\n",
       "    .dataframe tbody tr th {\n",
       "        vertical-align: top;\n",
       "    }\n",
       "\n",
       "    .dataframe thead th {\n",
       "        text-align: right;\n",
       "    }\n",
       "</style>\n",
       "<table border=\"1\" class=\"dataframe\">\n",
       "  <thead>\n",
       "    <tr style=\"text-align: right;\">\n",
       "      <th></th>\n",
       "      <th>RID</th>\n",
       "      <th>VISCODE2</th>\n",
       "      <th>ST101SV</th>\n",
       "      <th>ST102CV</th>\n",
       "      <th>ST103CV</th>\n",
       "      <th>ST104CV</th>\n",
       "      <th>ST105CV</th>\n",
       "      <th>ST106CV</th>\n",
       "      <th>ST107CV</th>\n",
       "      <th>ST108CV</th>\n",
       "      <th>...</th>\n",
       "      <th>ST154SV</th>\n",
       "      <th>ST155SV</th>\n",
       "      <th>DX</th>\n",
       "      <th>PTEDUCAT</th>\n",
       "      <th>psycond</th>\n",
       "      <th>psycond_digital</th>\n",
       "      <th>edu_status</th>\n",
       "      <th>edu_status_digital</th>\n",
       "      <th>psycond_edu</th>\n",
       "      <th>psycond_edu_num</th>\n",
       "    </tr>\n",
       "  </thead>\n",
       "  <tbody>\n",
       "    <tr>\n",
       "      <th>0</th>\n",
       "      <td>15</td>\n",
       "      <td>bl</td>\n",
       "      <td>1327.0</td>\n",
       "      <td>3080.0</td>\n",
       "      <td>1742.0</td>\n",
       "      <td>2705.0</td>\n",
       "      <td>2222.0</td>\n",
       "      <td>3726.0</td>\n",
       "      <td>2412.0</td>\n",
       "      <td>7716.0</td>\n",
       "      <td>...</td>\n",
       "      <td>550001.0</td>\n",
       "      <td>928508.0</td>\n",
       "      <td>NL</td>\n",
       "      <td>18.0</td>\n",
       "      <td>nodepress</td>\n",
       "      <td>0</td>\n",
       "      <td>highedu</td>\n",
       "      <td>1</td>\n",
       "      <td>nodepress_highedu</td>\n",
       "      <td>1</td>\n",
       "    </tr>\n",
       "    <tr>\n",
       "      <th>2</th>\n",
       "      <td>15</td>\n",
       "      <td>m06</td>\n",
       "      <td>1527.0</td>\n",
       "      <td>2748.0</td>\n",
       "      <td>1593.0</td>\n",
       "      <td>2772.0</td>\n",
       "      <td>2147.0</td>\n",
       "      <td>3549.0</td>\n",
       "      <td>2103.0</td>\n",
       "      <td>7425.0</td>\n",
       "      <td>...</td>\n",
       "      <td>547856.0</td>\n",
       "      <td>931911.0</td>\n",
       "      <td>NL</td>\n",
       "      <td>18.0</td>\n",
       "      <td>nodepress</td>\n",
       "      <td>0</td>\n",
       "      <td>highedu</td>\n",
       "      <td>1</td>\n",
       "      <td>nodepress_highedu</td>\n",
       "      <td>1</td>\n",
       "    </tr>\n",
       "    <tr>\n",
       "      <th>4</th>\n",
       "      <td>15</td>\n",
       "      <td>m12</td>\n",
       "      <td>1271.0</td>\n",
       "      <td>2742.0</td>\n",
       "      <td>1705.0</td>\n",
       "      <td>2816.0</td>\n",
       "      <td>2190.0</td>\n",
       "      <td>3785.0</td>\n",
       "      <td>2058.0</td>\n",
       "      <td>7659.0</td>\n",
       "      <td>...</td>\n",
       "      <td>548759.0</td>\n",
       "      <td>921761.0</td>\n",
       "      <td>NL</td>\n",
       "      <td>18.0</td>\n",
       "      <td>nodepress</td>\n",
       "      <td>0</td>\n",
       "      <td>highedu</td>\n",
       "      <td>1</td>\n",
       "      <td>nodepress_highedu</td>\n",
       "      <td>1</td>\n",
       "    </tr>\n",
       "    <tr>\n",
       "      <th>6</th>\n",
       "      <td>15</td>\n",
       "      <td>m24</td>\n",
       "      <td>1100.0</td>\n",
       "      <td>2734.0</td>\n",
       "      <td>1651.0</td>\n",
       "      <td>2660.0</td>\n",
       "      <td>2339.0</td>\n",
       "      <td>3742.0</td>\n",
       "      <td>2169.0</td>\n",
       "      <td>7463.0</td>\n",
       "      <td>...</td>\n",
       "      <td>543261.0</td>\n",
       "      <td>923510.0</td>\n",
       "      <td>NL</td>\n",
       "      <td>18.0</td>\n",
       "      <td>nodepress</td>\n",
       "      <td>0</td>\n",
       "      <td>highedu</td>\n",
       "      <td>1</td>\n",
       "      <td>nodepress_highedu</td>\n",
       "      <td>1</td>\n",
       "    </tr>\n",
       "    <tr>\n",
       "      <th>8</th>\n",
       "      <td>15</td>\n",
       "      <td>m36</td>\n",
       "      <td>1140.0</td>\n",
       "      <td>2556.0</td>\n",
       "      <td>1809.0</td>\n",
       "      <td>2730.0</td>\n",
       "      <td>2106.0</td>\n",
       "      <td>3608.0</td>\n",
       "      <td>2064.0</td>\n",
       "      <td>7469.0</td>\n",
       "      <td>...</td>\n",
       "      <td>534752.0</td>\n",
       "      <td>909236.0</td>\n",
       "      <td>NL</td>\n",
       "      <td>18.0</td>\n",
       "      <td>nodepress</td>\n",
       "      <td>0</td>\n",
       "      <td>highedu</td>\n",
       "      <td>1</td>\n",
       "      <td>nodepress_highedu</td>\n",
       "      <td>1</td>\n",
       "    </tr>\n",
       "  </tbody>\n",
       "</table>\n",
       "<p>5 rows × 129 columns</p>\n",
       "</div>"
      ],
      "text/plain": [
       "   RID VISCODE2  ST101SV  ST102CV  ST103CV  ST104CV  ST105CV  ST106CV  \\\n",
       "0   15       bl   1327.0   3080.0   1742.0   2705.0   2222.0   3726.0   \n",
       "2   15      m06   1527.0   2748.0   1593.0   2772.0   2147.0   3549.0   \n",
       "4   15      m12   1271.0   2742.0   1705.0   2816.0   2190.0   3785.0   \n",
       "6   15      m24   1100.0   2734.0   1651.0   2660.0   2339.0   3742.0   \n",
       "8   15      m36   1140.0   2556.0   1809.0   2730.0   2106.0   3608.0   \n",
       "\n",
       "   ST107CV  ST108CV  ...   ST154SV   ST155SV  DX  PTEDUCAT    psycond  \\\n",
       "0   2412.0   7716.0  ...  550001.0  928508.0  NL      18.0  nodepress   \n",
       "2   2103.0   7425.0  ...  547856.0  931911.0  NL      18.0  nodepress   \n",
       "4   2058.0   7659.0  ...  548759.0  921761.0  NL      18.0  nodepress   \n",
       "6   2169.0   7463.0  ...  543261.0  923510.0  NL      18.0  nodepress   \n",
       "8   2064.0   7469.0  ...  534752.0  909236.0  NL      18.0  nodepress   \n",
       "\n",
       "   psycond_digital  edu_status  edu_status_digital        psycond_edu  \\\n",
       "0                0     highedu                   1  nodepress_highedu   \n",
       "2                0     highedu                   1  nodepress_highedu   \n",
       "4                0     highedu                   1  nodepress_highedu   \n",
       "6                0     highedu                   1  nodepress_highedu   \n",
       "8                0     highedu                   1  nodepress_highedu   \n",
       "\n",
       "   psycond_edu_num  \n",
       "0                1  \n",
       "2                1  \n",
       "4                1  \n",
       "6                1  \n",
       "8                1  \n",
       "\n",
       "[5 rows x 129 columns]"
      ]
     },
     "execution_count": 73,
     "metadata": {},
     "output_type": "execute_result"
    }
   ],
   "source": [
    "di = {\"nodepress_highedu\":1, \"nodepress_lowedu\":2, \"depress_highedu\":3, \"depress_lowedu\":4}\n",
    "# dr = {\"NL\": 1, \"MCI\" :2, \"AD\" :3, \"NL to MCI\" :4, \"MCI to AD\" :5, \"NL to AD\" :6, \"MCI to NL\" :7, \"AD to MCI\" :8, \"AD to NL\" :9}\n",
    "\n",
    "df_mri_all_DX_EDU_sel_cols['psycond_edu_num']=df_mri_all_DX_EDU_sel_cols['psycond_edu']\n",
    "df_mri_all_DX_EDU_sel_cols.replace({\"psycond_edu_num\": di},inplace=True)\n",
    "df_mri_all_DX_EDU_sel_cols.head()"
   ]
  },
  {
   "cell_type": "code",
   "execution_count": 74,
   "id": "looking-artwork",
   "metadata": {},
   "outputs": [
    {
     "data": {
      "text/plain": [
       "psycond_edu\n",
       "depress_highedu      151\n",
       "depress_lowedu       200\n",
       "nodepress_highedu    612\n",
       "nodepress_lowedu     772\n",
       "Name: RID, dtype: int64"
      ]
     },
     "execution_count": 74,
     "metadata": {},
     "output_type": "execute_result"
    }
   ],
   "source": [
    "df_mri_all_DX_EDU_sel_cols.groupby(['psycond_edu'])['RID'].nunique()"
   ]
  }
 ],
 "metadata": {
  "kernelspec": {
   "display_name": "Python 3",
   "language": "python",
   "name": "python3"
  },
  "language_info": {
   "codemirror_mode": {
    "name": "ipython",
    "version": 3
   },
   "file_extension": ".py",
   "mimetype": "text/x-python",
   "name": "python",
   "nbconvert_exporter": "python",
   "pygments_lexer": "ipython3",
   "version": "3.8.8"
  }
 },
 "nbformat": 4,
 "nbformat_minor": 5
}
