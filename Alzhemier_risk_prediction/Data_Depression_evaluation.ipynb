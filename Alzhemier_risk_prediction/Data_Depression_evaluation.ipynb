{
 "cells": [
  {
   "cell_type": "code",
   "execution_count": 2,
   "id": "initial-voice",
   "metadata": {},
   "outputs": [],
   "source": [
    "import numpy as np\n",
    "import os\n",
    "import pandas as pd\n",
    "import seaborn as sns\n",
    "import matplotlib.pyplot as plt\n",
    "%matplotlib inline"
   ]
  },
  {
   "cell_type": "code",
   "execution_count": 3,
   "id": "living-graph",
   "metadata": {},
   "outputs": [
    {
     "data": {
      "text/html": [
       "<div>\n",
       "<style scoped>\n",
       "    .dataframe tbody tr th:only-of-type {\n",
       "        vertical-align: middle;\n",
       "    }\n",
       "\n",
       "    .dataframe tbody tr th {\n",
       "        vertical-align: top;\n",
       "    }\n",
       "\n",
       "    .dataframe thead th {\n",
       "        text-align: right;\n",
       "    }\n",
       "</style>\n",
       "<table border=\"1\" class=\"dataframe\">\n",
       "  <thead>\n",
       "    <tr style=\"text-align: right;\">\n",
       "      <th></th>\n",
       "      <th>Unnamed: 0</th>\n",
       "      <th>RID</th>\n",
       "      <th>1</th>\n",
       "    </tr>\n",
       "  </thead>\n",
       "  <tbody>\n",
       "    <tr>\n",
       "      <th>0</th>\n",
       "      <td>0</td>\n",
       "      <td>14</td>\n",
       "      <td>['depress', '1988', 'treat', 'antidepress', 't...</td>\n",
       "    </tr>\n",
       "    <tr>\n",
       "      <th>1</th>\n",
       "      <td>1</td>\n",
       "      <td>14</td>\n",
       "      <td>['depress', '1988', 'treat', 'antidepress', 't...</td>\n",
       "    </tr>\n",
       "    <tr>\n",
       "      <th>2</th>\n",
       "      <td>2</td>\n",
       "      <td>20</td>\n",
       "      <td>['mild', 'depress', 'start', '7/1993', 'treat'...</td>\n",
       "    </tr>\n",
       "    <tr>\n",
       "      <th>3</th>\n",
       "      <td>3</td>\n",
       "      <td>20</td>\n",
       "      <td>['mild', 'depress', 'start', '7/1993', 'treat'...</td>\n",
       "    </tr>\n",
       "    <tr>\n",
       "      <th>4</th>\n",
       "      <td>4</td>\n",
       "      <td>26</td>\n",
       "      <td>['depress', 'six', 'month', 'ago', 'treat', 'c...</td>\n",
       "    </tr>\n",
       "  </tbody>\n",
       "</table>\n",
       "</div>"
      ],
      "text/plain": [
       "   Unnamed: 0  RID                                                  1\n",
       "0           0   14  ['depress', '1988', 'treat', 'antidepress', 't...\n",
       "1           1   14  ['depress', '1988', 'treat', 'antidepress', 't...\n",
       "2           2   20  ['mild', 'depress', 'start', '7/1993', 'treat'...\n",
       "3           3   20  ['mild', 'depress', 'start', '7/1993', 'treat'...\n",
       "4           4   26  ['depress', 'six', 'month', 'ago', 'treat', 'c..."
      ]
     },
     "execution_count": 3,
     "metadata": {},
     "output_type": "execute_result"
    }
   ],
   "source": [
    "file_loc='../ADNI_data/'\n",
    "df_DS=pd.read_csv(file_loc + 'DXSUM_PDXCONV_ADNIALL_21Dec2023.csv')\n",
    "df_GDS=pd.read_csv(file_loc + 'GDSCALE_12Jan2024.csv')\n",
    "df_medhist_disease = pd.read_csv(\n",
    "    file_loc + 'df_medhist_disease_depression.csv')\n",
    "df_NPIQ=pd.read_csv(file_loc + 'NPIQ_05Mar2024.csv')\n",
    "df_medhist_disease.head()"
   ]
  },
  {
   "cell_type": "code",
   "execution_count": 4,
   "id": "patent-clear",
   "metadata": {},
   "outputs": [
    {
     "data": {
      "text/plain": [
       "Index(['Phase', 'ID', 'RID', 'PTID', 'SITEID', 'VISCODE', 'VISCODE2',\n",
       "       'VISDATE', 'USERDATE', 'USERDATE2', 'EXAMDATE', 'DXCHANGE', 'DXCURREN',\n",
       "       'DXCONV', 'DXCONTYP', 'DXREV', 'DXNORM', 'DXNODEP', 'DXMCI', 'DXMDES',\n",
       "       'DXMPTR1', 'DXMPTR2', 'DXMPTR3', 'DXMPTR4', 'DXMPTR5', 'DXMPTR6',\n",
       "       'DXMDUE', 'DXMOTHET', 'DXDSEV', 'DXDDUE', 'DXAD', 'DXADES', 'DXAPP',\n",
       "       'DXAPROB', 'DXAPOSS', 'DXPARK', 'DXPDES', 'DXPCOG', 'DXPATYP', 'DXDEP',\n",
       "       'DXOTHDEM', 'DXODES', 'DXCONFID', 'DIAGNOSIS', 'update_stamp'],\n",
       "      dtype='object')"
      ]
     },
     "execution_count": 4,
     "metadata": {},
     "output_type": "execute_result"
    }
   ],
   "source": [
    "df_DS.columns"
   ]
  },
  {
   "cell_type": "code",
   "execution_count": 5,
   "id": "forty-reply",
   "metadata": {},
   "outputs": [
    {
     "data": {
      "text/plain": [
       "0.0    8265\n",
       "1.0     825\n",
       "Name: DXDEP, dtype: int64"
      ]
     },
     "execution_count": 5,
     "metadata": {},
     "output_type": "execute_result"
    }
   ],
   "source": [
    "df_DS[['RID','Phase','VISCODE2','DXDEP']].drop_duplicates().DXDEP.value_counts()"
   ]
  },
  {
   "cell_type": "code",
   "execution_count": 6,
   "id": "understanding-garden",
   "metadata": {},
   "outputs": [
    {
     "data": {
      "text/plain": [
       "Index(['Phase', 'ID', 'PTID', 'RID', 'SITEID', 'VISCODE', 'VISCODE2',\n",
       "       'VISDATE', 'USERDATE', 'USERDATE2', 'EXAMDATE', 'GDSOURCE', 'GDUNABL',\n",
       "       'GDSATIS', 'GDDROP', 'GDEMPTY', 'GDBORED', 'GDSPIRIT', 'GDAFRAID',\n",
       "       'GDHAPPY', 'GDHELP', 'GDHOME', 'GDMEMORY', 'GDALIVE', 'GDWORTH',\n",
       "       'GDENERGY', 'GDHOPE', 'GDBETTER', 'GDTOTAL', 'GDDATE', 'update_stamp'],\n",
       "      dtype='object')"
      ]
     },
     "execution_count": 6,
     "metadata": {},
     "output_type": "execute_result"
    }
   ],
   "source": [
    "df_GDS.columns"
   ]
  },
  {
   "cell_type": "code",
   "execution_count": 7,
   "id": "quality-strength",
   "metadata": {},
   "outputs": [
    {
     "data": {
      "text/plain": [
       "(7527, 5)"
      ]
     },
     "execution_count": 7,
     "metadata": {},
     "output_type": "execute_result"
    }
   ],
   "source": [
    "df_gds_dep=df_GDS[['RID','Phase','VISCODE2','GDTOTAL']].drop_duplicates().merge(df_DS[['RID','VISCODE2','DXDEP']].drop_duplicates(),on=['RID','VISCODE2']).dropna().sort_values(by='DXDEP')\n",
    "df_gds_dep.shape"
   ]
  },
  {
   "cell_type": "code",
   "execution_count": 8,
   "id": "recent-ratio",
   "metadata": {},
   "outputs": [
    {
     "data": {
      "text/html": [
       "<div>\n",
       "<style scoped>\n",
       "    .dataframe tbody tr th:only-of-type {\n",
       "        vertical-align: middle;\n",
       "    }\n",
       "\n",
       "    .dataframe tbody tr th {\n",
       "        vertical-align: top;\n",
       "    }\n",
       "\n",
       "    .dataframe thead th {\n",
       "        text-align: right;\n",
       "    }\n",
       "</style>\n",
       "<table border=\"1\" class=\"dataframe\">\n",
       "  <thead>\n",
       "    <tr style=\"text-align: right;\">\n",
       "      <th></th>\n",
       "      <th>RID</th>\n",
       "      <th>Phase</th>\n",
       "      <th>VISCODE2</th>\n",
       "      <th>GDTOTAL</th>\n",
       "      <th>DXDEP</th>\n",
       "    </tr>\n",
       "  </thead>\n",
       "  <tbody>\n",
       "    <tr>\n",
       "      <th>2240</th>\n",
       "      <td>830</td>\n",
       "      <td>ADNIGO</td>\n",
       "      <td>m60</td>\n",
       "      <td>1.0</td>\n",
       "      <td>0.0</td>\n",
       "    </tr>\n",
       "    <tr>\n",
       "      <th>7229</th>\n",
       "      <td>6027</td>\n",
       "      <td>ADNI3</td>\n",
       "      <td>sc</td>\n",
       "      <td>0.0</td>\n",
       "      <td>0.0</td>\n",
       "    </tr>\n",
       "    <tr>\n",
       "      <th>7228</th>\n",
       "      <td>6021</td>\n",
       "      <td>ADNI3</td>\n",
       "      <td>sc</td>\n",
       "      <td>0.0</td>\n",
       "      <td>0.0</td>\n",
       "    </tr>\n",
       "    <tr>\n",
       "      <th>7227</th>\n",
       "      <td>6025</td>\n",
       "      <td>ADNI3</td>\n",
       "      <td>sc</td>\n",
       "      <td>0.0</td>\n",
       "      <td>0.0</td>\n",
       "    </tr>\n",
       "    <tr>\n",
       "      <th>7225</th>\n",
       "      <td>6023</td>\n",
       "      <td>ADNI3</td>\n",
       "      <td>sc</td>\n",
       "      <td>2.0</td>\n",
       "      <td>0.0</td>\n",
       "    </tr>\n",
       "    <tr>\n",
       "      <th>...</th>\n",
       "      <td>...</td>\n",
       "      <td>...</td>\n",
       "      <td>...</td>\n",
       "      <td>...</td>\n",
       "      <td>...</td>\n",
       "    </tr>\n",
       "    <tr>\n",
       "      <th>6698</th>\n",
       "      <td>4262</td>\n",
       "      <td>ADNI2</td>\n",
       "      <td>m48</td>\n",
       "      <td>7.0</td>\n",
       "      <td>1.0</td>\n",
       "    </tr>\n",
       "    <tr>\n",
       "      <th>8919</th>\n",
       "      <td>4514</td>\n",
       "      <td>ADNI3</td>\n",
       "      <td>m102</td>\n",
       "      <td>9.0</td>\n",
       "      <td>1.0</td>\n",
       "    </tr>\n",
       "    <tr>\n",
       "      <th>5176</th>\n",
       "      <td>4061</td>\n",
       "      <td>ADNI2</td>\n",
       "      <td>m24</td>\n",
       "      <td>4.0</td>\n",
       "      <td>1.0</td>\n",
       "    </tr>\n",
       "    <tr>\n",
       "      <th>5151</th>\n",
       "      <td>4863</td>\n",
       "      <td>ADNI2</td>\n",
       "      <td>m12</td>\n",
       "      <td>4.0</td>\n",
       "      <td>1.0</td>\n",
       "    </tr>\n",
       "    <tr>\n",
       "      <th>6763</th>\n",
       "      <td>4335</td>\n",
       "      <td>ADNI2</td>\n",
       "      <td>m48</td>\n",
       "      <td>4.0</td>\n",
       "      <td>1.0</td>\n",
       "    </tr>\n",
       "  </tbody>\n",
       "</table>\n",
       "<p>7527 rows × 5 columns</p>\n",
       "</div>"
      ],
      "text/plain": [
       "       RID   Phase VISCODE2  GDTOTAL  DXDEP\n",
       "2240   830  ADNIGO      m60      1.0    0.0\n",
       "7229  6027   ADNI3       sc      0.0    0.0\n",
       "7228  6021   ADNI3       sc      0.0    0.0\n",
       "7227  6025   ADNI3       sc      0.0    0.0\n",
       "7225  6023   ADNI3       sc      2.0    0.0\n",
       "...    ...     ...      ...      ...    ...\n",
       "6698  4262   ADNI2      m48      7.0    1.0\n",
       "8919  4514   ADNI3     m102      9.0    1.0\n",
       "5176  4061   ADNI2      m24      4.0    1.0\n",
       "5151  4863   ADNI2      m12      4.0    1.0\n",
       "6763  4335   ADNI2      m48      4.0    1.0\n",
       "\n",
       "[7527 rows x 5 columns]"
      ]
     },
     "execution_count": 8,
     "metadata": {},
     "output_type": "execute_result"
    }
   ],
   "source": [
    "df_gds_dep"
   ]
  },
  {
   "cell_type": "code",
   "execution_count": 9,
   "id": "double-nursery",
   "metadata": {},
   "outputs": [
    {
     "data": {
      "text/plain": [
       "DXDEP\n",
       "0.0    1.351816\n",
       "1.0    4.567308\n",
       "Name: GDTOTAL, dtype: float64"
      ]
     },
     "execution_count": 9,
     "metadata": {},
     "output_type": "execute_result"
    }
   ],
   "source": [
    "df_gds_dep.groupby('DXDEP').GDTOTAL.mean()"
   ]
  },
  {
   "cell_type": "code",
   "execution_count": 10,
   "id": "dental-belize",
   "metadata": {},
   "outputs": [
    {
     "data": {
      "text/plain": [
       "<AxesSubplot:>"
      ]
     },
     "execution_count": 10,
     "metadata": {},
     "output_type": "execute_result"
    },
    {
     "data": {
      "image/png": "[encoded data removed]",
      "text/plain": [
       "<Figure size 432x288 with 1 Axes>"
      ]
     },
     "metadata": {
      "needs_background": "light"
     },
     "output_type": "display_data"
    }
   ],
   "source": [
    "df_gds_dep[['GDTOTAL']].plot(marker='*', linestyle='none' )"
   ]
  },
  {
   "cell_type": "code",
   "execution_count": 11,
   "id": "fewer-criterion",
   "metadata": {},
   "outputs": [],
   "source": [
    "# df_gds_dep[df_gds_dep['GDTOTAL']<7].groupby('DXDEP').GDTOTAL.mean()"
   ]
  },
  {
   "cell_type": "code",
   "execution_count": 12,
   "id": "robust-orbit",
   "metadata": {},
   "outputs": [
    {
     "data": {
      "text/plain": [
       "1.0    63\n",
       "Name: DXNODEP, dtype: int64"
      ]
     },
     "execution_count": 12,
     "metadata": {},
     "output_type": "execute_result"
    }
   ],
   "source": [
    "df_DS[['RID','DXNODEP']][df_DS['DXNODEP']==1].drop_duplicates().DXNODEP.value_counts()"
   ]
  },
  {
   "cell_type": "code",
   "execution_count": 13,
   "id": "latest-construction",
   "metadata": {},
   "outputs": [
    {
     "data": {
      "text/plain": [
       "63"
      ]
     },
     "execution_count": 13,
     "metadata": {},
     "output_type": "execute_result"
    }
   ],
   "source": [
    "len(df_DS[['RID','DXNODEP']][df_DS['DXNODEP']==1].drop_duplicates().RID.tolist())"
   ]
  },
  {
   "cell_type": "code",
   "execution_count": 14,
   "id": "basic-therapy",
   "metadata": {},
   "outputs": [
    {
     "data": {
      "text/plain": [
       "<AxesSubplot:>"
      ]
     },
     "execution_count": 14,
     "metadata": {},
     "output_type": "execute_result"
    },
    {
     "data": {
      "image/png": "[encoded data removed]",
      "text/plain": [
       "<Figure size 432x288 with 1 Axes>"
      ]
     },
     "metadata": {
      "needs_background": "light"
     },
     "output_type": "display_data"
    }
   ],
   "source": [
    "df_GDS[['RID','GDTOTAL']][df_GDS.RID.isin(df_DS[['RID','DXNODEP']][df_DS['DXNODEP']==1].drop_duplicates().RID.tolist())].sort_values(by='GDTOTAL').drop_duplicates().dropna()['GDTOTAL'].plot(marker='*',use_index=False)"
   ]
  },
  {
   "cell_type": "code",
   "execution_count": 15,
   "id": "listed-appreciation",
   "metadata": {},
   "outputs": [
    {
     "data": {
      "text/html": [
       "<div>\n",
       "<style scoped>\n",
       "    .dataframe tbody tr th:only-of-type {\n",
       "        vertical-align: middle;\n",
       "    }\n",
       "\n",
       "    .dataframe tbody tr th {\n",
       "        vertical-align: top;\n",
       "    }\n",
       "\n",
       "    .dataframe thead th {\n",
       "        text-align: right;\n",
       "    }\n",
       "</style>\n",
       "<table border=\"1\" class=\"dataframe\">\n",
       "  <thead>\n",
       "    <tr style=\"text-align: right;\">\n",
       "      <th></th>\n",
       "      <th>RID</th>\n",
       "      <th>Phase</th>\n",
       "      <th>VISCODE2</th>\n",
       "      <th>GDTOTAL</th>\n",
       "      <th>DXDEP</th>\n",
       "    </tr>\n",
       "  </thead>\n",
       "  <tbody>\n",
       "    <tr>\n",
       "      <th>7223</th>\n",
       "      <td>5289</td>\n",
       "      <td>ADNI3</td>\n",
       "      <td>m42</td>\n",
       "      <td>0.0</td>\n",
       "      <td>0.0</td>\n",
       "    </tr>\n",
       "    <tr>\n",
       "      <th>7220</th>\n",
       "      <td>4367</td>\n",
       "      <td>ADNI3</td>\n",
       "      <td>m66</td>\n",
       "      <td>0.0</td>\n",
       "      <td>0.0</td>\n",
       "    </tr>\n",
       "    <tr>\n",
       "      <th>7211</th>\n",
       "      <td>5079</td>\n",
       "      <td>ADNI3</td>\n",
       "      <td>m48</td>\n",
       "      <td>2.0</td>\n",
       "      <td>0.0</td>\n",
       "    </tr>\n",
       "    <tr>\n",
       "      <th>7258</th>\n",
       "      <td>4767</td>\n",
       "      <td>ADNI3</td>\n",
       "      <td>m60</td>\n",
       "      <td>3.0</td>\n",
       "      <td>0.0</td>\n",
       "    </tr>\n",
       "    <tr>\n",
       "      <th>7252</th>\n",
       "      <td>2119</td>\n",
       "      <td>ADNI3</td>\n",
       "      <td>m78</td>\n",
       "      <td>1.0</td>\n",
       "      <td>0.0</td>\n",
       "    </tr>\n",
       "  </tbody>\n",
       "</table>\n",
       "</div>"
      ],
      "text/plain": [
       "       RID  Phase VISCODE2  GDTOTAL  DXDEP\n",
       "7223  5289  ADNI3      m42      0.0    0.0\n",
       "7220  4367  ADNI3      m66      0.0    0.0\n",
       "7211  5079  ADNI3      m48      2.0    0.0\n",
       "7258  4767  ADNI3      m60      3.0    0.0\n",
       "7252  2119  ADNI3      m78      1.0    0.0"
      ]
     },
     "execution_count": 15,
     "metadata": {},
     "output_type": "execute_result"
    }
   ],
   "source": [
    "df_gds_dep[df_gds_dep['RID'].isin(df_medhist_disease['RID'].unique().tolist())].head()"
   ]
  },
  {
   "cell_type": "code",
   "execution_count": 16,
   "id": "theoretical-chicken",
   "metadata": {},
   "outputs": [
    {
     "data": {
      "text/html": [
       "<div>\n",
       "<style scoped>\n",
       "    .dataframe tbody tr th:only-of-type {\n",
       "        vertical-align: middle;\n",
       "    }\n",
       "\n",
       "    .dataframe tbody tr th {\n",
       "        vertical-align: top;\n",
       "    }\n",
       "\n",
       "    .dataframe thead th {\n",
       "        text-align: right;\n",
       "    }\n",
       "</style>\n",
       "<table border=\"1\" class=\"dataframe\">\n",
       "  <thead>\n",
       "    <tr style=\"text-align: right;\">\n",
       "      <th></th>\n",
       "      <th>count</th>\n",
       "      <th>mean</th>\n",
       "      <th>std</th>\n",
       "      <th>min</th>\n",
       "      <th>25%</th>\n",
       "      <th>50%</th>\n",
       "      <th>75%</th>\n",
       "      <th>max</th>\n",
       "    </tr>\n",
       "    <tr>\n",
       "      <th>DXDEP</th>\n",
       "      <th></th>\n",
       "      <th></th>\n",
       "      <th></th>\n",
       "      <th></th>\n",
       "      <th></th>\n",
       "      <th></th>\n",
       "      <th></th>\n",
       "      <th></th>\n",
       "    </tr>\n",
       "  </thead>\n",
       "  <tbody>\n",
       "    <tr>\n",
       "      <th>0.0</th>\n",
       "      <td>1426.0</td>\n",
       "      <td>1.7223</td>\n",
       "      <td>1.599129</td>\n",
       "      <td>0.0</td>\n",
       "      <td>0.0</td>\n",
       "      <td>1.0</td>\n",
       "      <td>3.0</td>\n",
       "      <td>12.0</td>\n",
       "    </tr>\n",
       "    <tr>\n",
       "      <th>1.0</th>\n",
       "      <td>350.0</td>\n",
       "      <td>4.4800</td>\n",
       "      <td>2.905069</td>\n",
       "      <td>0.0</td>\n",
       "      <td>2.0</td>\n",
       "      <td>4.0</td>\n",
       "      <td>6.0</td>\n",
       "      <td>14.0</td>\n",
       "    </tr>\n",
       "  </tbody>\n",
       "</table>\n",
       "</div>"
      ],
      "text/plain": [
       "        count    mean       std  min  25%  50%  75%   max\n",
       "DXDEP                                                    \n",
       "0.0    1426.0  1.7223  1.599129  0.0  0.0  1.0  3.0  12.0\n",
       "1.0     350.0  4.4800  2.905069  0.0  2.0  4.0  6.0  14.0"
      ]
     },
     "execution_count": 16,
     "metadata": {},
     "output_type": "execute_result"
    }
   ],
   "source": [
    "df_gds_dep[df_gds_dep['RID'].isin(df_medhist_disease['RID'].unique().tolist())].groupby('DXDEP').GDTOTAL.describe()"
   ]
  },
  {
   "cell_type": "code",
   "execution_count": 17,
   "id": "frequent-grade",
   "metadata": {},
   "outputs": [
    {
     "data": {
      "text/plain": [
       "0.0    1662\n",
       "1.0     384\n",
       "Name: DXDEP, dtype: int64"
      ]
     },
     "execution_count": 17,
     "metadata": {},
     "output_type": "execute_result"
    }
   ],
   "source": [
    "df_DS[df_DS['RID'].isin(df_medhist_disease['RID'].unique().tolist())].DXDEP.value_counts()"
   ]
  },
  {
   "cell_type": "code",
   "execution_count": 18,
   "id": "buried-california",
   "metadata": {},
   "outputs": [
    {
     "data": {
      "text/html": [
       "<div>\n",
       "<style scoped>\n",
       "    .dataframe tbody tr th:only-of-type {\n",
       "        vertical-align: middle;\n",
       "    }\n",
       "\n",
       "    .dataframe tbody tr th {\n",
       "        vertical-align: top;\n",
       "    }\n",
       "\n",
       "    .dataframe thead th {\n",
       "        text-align: right;\n",
       "    }\n",
       "</style>\n",
       "<table border=\"1\" class=\"dataframe\">\n",
       "  <thead>\n",
       "    <tr style=\"text-align: right;\">\n",
       "      <th></th>\n",
       "      <th>RID</th>\n",
       "      <th>Phase</th>\n",
       "      <th>VISCODE2</th>\n",
       "      <th>GDTOTAL</th>\n",
       "      <th>DXDEP</th>\n",
       "    </tr>\n",
       "  </thead>\n",
       "  <tbody>\n",
       "    <tr>\n",
       "      <th>7223</th>\n",
       "      <td>5289</td>\n",
       "      <td>ADNI3</td>\n",
       "      <td>m42</td>\n",
       "      <td>0.0</td>\n",
       "      <td>0.0</td>\n",
       "    </tr>\n",
       "    <tr>\n",
       "      <th>7220</th>\n",
       "      <td>4367</td>\n",
       "      <td>ADNI3</td>\n",
       "      <td>m66</td>\n",
       "      <td>0.0</td>\n",
       "      <td>0.0</td>\n",
       "    </tr>\n",
       "    <tr>\n",
       "      <th>7211</th>\n",
       "      <td>5079</td>\n",
       "      <td>ADNI3</td>\n",
       "      <td>m48</td>\n",
       "      <td>2.0</td>\n",
       "      <td>0.0</td>\n",
       "    </tr>\n",
       "    <tr>\n",
       "      <th>7258</th>\n",
       "      <td>4767</td>\n",
       "      <td>ADNI3</td>\n",
       "      <td>m60</td>\n",
       "      <td>3.0</td>\n",
       "      <td>0.0</td>\n",
       "    </tr>\n",
       "    <tr>\n",
       "      <th>7252</th>\n",
       "      <td>2119</td>\n",
       "      <td>ADNI3</td>\n",
       "      <td>m78</td>\n",
       "      <td>1.0</td>\n",
       "      <td>0.0</td>\n",
       "    </tr>\n",
       "  </tbody>\n",
       "</table>\n",
       "</div>"
      ],
      "text/plain": [
       "       RID  Phase VISCODE2  GDTOTAL  DXDEP\n",
       "7223  5289  ADNI3      m42      0.0    0.0\n",
       "7220  4367  ADNI3      m66      0.0    0.0\n",
       "7211  5079  ADNI3      m48      2.0    0.0\n",
       "7258  4767  ADNI3      m60      3.0    0.0\n",
       "7252  2119  ADNI3      m78      1.0    0.0"
      ]
     },
     "execution_count": 18,
     "metadata": {},
     "output_type": "execute_result"
    }
   ],
   "source": [
    "df_gds_dep[df_gds_dep['RID'].isin(df_medhist_disease['RID'].unique().tolist())].head()"
   ]
  },
  {
   "cell_type": "code",
   "execution_count": 19,
   "id": "institutional-transformation",
   "metadata": {},
   "outputs": [
    {
     "data": {
      "text/plain": [
       "0.0    1426\n",
       "1.0     350\n",
       "Name: DXDEP, dtype: int64"
      ]
     },
     "execution_count": 19,
     "metadata": {},
     "output_type": "execute_result"
    }
   ],
   "source": [
    "df_gds_dep[df_gds_dep['RID'].isin(df_medhist_disease['RID'].unique().tolist())].DXDEP.value_counts()"
   ]
  },
  {
   "cell_type": "code",
   "execution_count": 20,
   "id": "based-phrase",
   "metadata": {},
   "outputs": [
    {
     "data": {
      "text/plain": [
       "ADNI2     4826\n",
       "ADNI3     2700\n",
       "ADNIGO       1\n",
       "Name: Phase, dtype: int64"
      ]
     },
     "execution_count": 20,
     "metadata": {},
     "output_type": "execute_result"
    }
   ],
   "source": [
    "df_gds_dep.Phase.value_counts()"
   ]
  },
  {
   "cell_type": "code",
   "execution_count": 21,
   "id": "electronic-columbus",
   "metadata": {},
   "outputs": [
    {
     "data": {
      "text/plain": [
       "ADNI2     5671\n",
       "ADNI1     3868\n",
       "ADNI3     3499\n",
       "ADNIGO     475\n",
       "Name: Phase, dtype: int64"
      ]
     },
     "execution_count": 21,
     "metadata": {},
     "output_type": "execute_result"
    }
   ],
   "source": [
    "df_DS.Phase.value_counts()"
   ]
  },
  {
   "cell_type": "code",
   "execution_count": 22,
   "id": "heated-tender",
   "metadata": {},
   "outputs": [
    {
     "data": {
      "text/plain": [
       "Phase  DXNODEP\n",
       "ADNI1  -4.0       3783\n",
       "        1.0         85\n",
       "Name: DXNODEP, dtype: int64"
      ]
     },
     "execution_count": 22,
     "metadata": {},
     "output_type": "execute_result"
    }
   ],
   "source": [
    "df_DS.groupby('Phase').DXNODEP.value_counts()"
   ]
  },
  {
   "cell_type": "code",
   "execution_count": 23,
   "id": "falling-equity",
   "metadata": {},
   "outputs": [
    {
     "data": {
      "text/plain": [
       "Phase  DXDEP\n",
       "ADNI2  0.0      5153\n",
       "       1.0       518\n",
       "ADNI3  0.0      3112\n",
       "       1.0       307\n",
       "Name: DXDEP, dtype: int64"
      ]
     },
     "execution_count": 23,
     "metadata": {},
     "output_type": "execute_result"
    }
   ],
   "source": [
    "df_DS.groupby('Phase').DXDEP.value_counts()"
   ]
  },
  {
   "cell_type": "code",
   "execution_count": 24,
   "id": "exciting-chaos",
   "metadata": {},
   "outputs": [
    {
     "data": {
      "text/plain": [
       "Phase   DXDEP\n",
       "ADNI2   0.0      4362\n",
       "        1.0       464\n",
       "ADNI3   0.0      2436\n",
       "        1.0       264\n",
       "ADNIGO  0.0         1\n",
       "Name: DXDEP, dtype: int64"
      ]
     },
     "execution_count": 24,
     "metadata": {},
     "output_type": "execute_result"
    }
   ],
   "source": [
    "df_gds_dep.groupby('Phase').DXDEP.value_counts()"
   ]
  },
  {
   "cell_type": "code",
   "execution_count": 25,
   "id": "appointed-coordinator",
   "metadata": {},
   "outputs": [
    {
     "data": {
      "text/plain": [
       "Phase   DXDEP\n",
       "ADNI2   0.0      1.365658\n",
       "        1.0      4.413793\n",
       "ADNI3   0.0      1.327176\n",
       "        1.0      4.837121\n",
       "ADNIGO  0.0      1.000000\n",
       "Name: GDTOTAL, dtype: float64"
      ]
     },
     "execution_count": 25,
     "metadata": {},
     "output_type": "execute_result"
    }
   ],
   "source": [
    "df_gds_dep.groupby(['Phase','DXDEP']).GDTOTAL.mean()"
   ]
  },
  {
   "cell_type": "code",
   "execution_count": 26,
   "id": "canadian-ballot",
   "metadata": {},
   "outputs": [
    {
     "data": {
      "text/plain": [
       "Phase   DXDEP\n",
       "ADNI2   0.0      1344\n",
       "        1.0       284\n",
       "ADNI3   0.0      1238\n",
       "        1.0       189\n",
       "ADNIGO  0.0         1\n",
       "Name: RID, dtype: int64"
      ]
     },
     "execution_count": 26,
     "metadata": {},
     "output_type": "execute_result"
    }
   ],
   "source": [
    "df_gds_dep.groupby(['Phase','DXDEP']).RID.nunique()"
   ]
  },
  {
   "cell_type": "code",
   "execution_count": 27,
   "id": "pleased-communication",
   "metadata": {},
   "outputs": [
    {
     "data": {
      "text/plain": [
       "(1939, 5)"
      ]
     },
     "execution_count": 27,
     "metadata": {},
     "output_type": "execute_result"
    }
   ],
   "source": [
    "df_gds_nodep=df_GDS[['RID','Phase','VISCODE2','GDTOTAL']].drop_duplicates().merge(df_DS[['RID','VISCODE2','DXNODEP']].drop_duplicates(),on=['RID','VISCODE2']).dropna().sort_values(by='DXNODEP')\n",
    "df_gds_nodep.shape"
   ]
  },
  {
   "cell_type": "code",
   "execution_count": 28,
   "id": "twelve-setting",
   "metadata": {},
   "outputs": [
    {
     "data": {
      "text/plain": [
       "Phase  DXNODEP\n",
       "ADNI1  -4.0       1.598318\n",
       "        1.0       4.486486\n",
       "Name: GDTOTAL, dtype: float64"
      ]
     },
     "execution_count": 28,
     "metadata": {},
     "output_type": "execute_result"
    }
   ],
   "source": [
    "df_gds_nodep.groupby(['Phase','DXNODEP']).GDTOTAL.mean()"
   ]
  },
  {
   "cell_type": "code",
   "execution_count": 29,
   "id": "freelance-source",
   "metadata": {},
   "outputs": [
    {
     "data": {
      "text/plain": [
       "Phase  DXNODEP\n",
       "ADNI1  -4.0       1902\n",
       "        1.0         37\n",
       "Name: DXNODEP, dtype: int64"
      ]
     },
     "execution_count": 29,
     "metadata": {},
     "output_type": "execute_result"
    }
   ],
   "source": [
    "df_gds_nodep.groupby('Phase').DXNODEP.value_counts()"
   ]
  },
  {
   "cell_type": "code",
   "execution_count": 30,
   "id": "convenient-contest",
   "metadata": {},
   "outputs": [
    {
     "data": {
      "text/plain": [
       "Phase  DXNODEP\n",
       "ADNI1  -4.0       738\n",
       "        1.0        30\n",
       "Name: RID, dtype: int64"
      ]
     },
     "execution_count": 30,
     "metadata": {},
     "output_type": "execute_result"
    }
   ],
   "source": [
    "df_gds_nodep.groupby(['Phase','DXNODEP']).RID.nunique()"
   ]
  },
  {
   "cell_type": "code",
   "execution_count": 32,
   "id": "referenced-shark",
   "metadata": {},
   "outputs": [
    {
     "data": {
      "text/plain": [
       "(729, 5)"
      ]
     },
     "execution_count": 32,
     "metadata": {},
     "output_type": "execute_result"
    }
   ],
   "source": [
    "df_NPIQ_dep=df_NPIQ[['RID','Phase','VISCODE2','NPID']].drop_duplicates().merge(df_DS[['RID','VISCODE2','DXDEP']].drop_duplicates(),on=['RID','VISCODE2']).dropna().sort_values(by='DXDEP')\n",
    "df_NPIQ_dep.shape"
   ]
  },
  {
   "cell_type": "code",
   "execution_count": 35,
   "id": "mexican-quality",
   "metadata": {},
   "outputs": [
    {
     "data": {
      "text/plain": [
       "NPID  DXDEP\n",
       "0.0   0.0      539\n",
       "1.0   0.0      130\n",
       "      1.0       39\n",
       "0.0   1.0       21\n",
       "dtype: int64"
      ]
     },
     "execution_count": 35,
     "metadata": {},
     "output_type": "execute_result"
    }
   ],
   "source": [
    "df_NPIQ_dep[['NPID','DXDEP']].value_counts()"
   ]
  },
  {
   "cell_type": "code",
   "execution_count": 42,
   "id": "interior-century",
   "metadata": {},
   "outputs": [
    {
     "data": {
      "text/plain": [
       "(3868, 5)"
      ]
     },
     "execution_count": 42,
     "metadata": {},
     "output_type": "execute_result"
    }
   ],
   "source": [
    "df_NPIQ_nodep=df_NPIQ[['RID','Phase','VISCODE2','NPID']].drop_duplicates().merge(df_DS[['RID','VISCODE2','DXNODEP']].drop_duplicates(),on=['RID','VISCODE2']).dropna().sort_values(by='DXNODEP')\n",
    "df_NPIQ_nodep.shape"
   ]
  },
  {
   "cell_type": "code",
   "execution_count": 44,
   "id": "iraqi-cassette",
   "metadata": {},
   "outputs": [
    {
     "data": {
      "text/plain": [
       "NPID  DXNODEP\n",
       " 0.0  -4.0       2945\n",
       " 1.0  -4.0        806\n",
       "       1.0         53\n",
       " 0.0   1.0         31\n",
       " 2.0  -4.0         18\n",
       "-1.0  -4.0         14\n",
       "       1.0          1\n",
       "dtype: int64"
      ]
     },
     "execution_count": 44,
     "metadata": {},
     "output_type": "execute_result"
    }
   ],
   "source": [
    "df_NPIQ_nodep[['NPID','DXNODEP']].value_counts()"
   ]
  },
  {
   "cell_type": "code",
   "execution_count": 40,
   "id": "sporting-specification",
   "metadata": {},
   "outputs": [
    {
     "data": {
      "text/plain": [
       " 0.0    5525\n",
       " 1.0    1494\n",
       " 2.0      20\n",
       "-1.0      18\n",
       "Name: NPID, dtype: int64"
      ]
     },
     "execution_count": 40,
     "metadata": {},
     "output_type": "execute_result"
    }
   ],
   "source": [
    "df_NPIQ[['RID','Phase','VISCODE2','NPID']].drop_duplicates().NPID.value_counts()"
   ]
  },
  {
   "cell_type": "code",
   "execution_count": null,
   "id": "proud-virgin",
   "metadata": {},
   "outputs": [],
   "source": []
  }
 ],
 "metadata": {
  "kernelspec": {
   "display_name": "Python 3",
   "language": "python",
   "name": "python3"
  },
  "language_info": {
   "codemirror_mode": {
    "name": "ipython",
    "version": 3
   },
   "file_extension": ".py",
   "mimetype": "text/x-python",
   "name": "python",
   "nbconvert_exporter": "python",
   "pygments_lexer": "ipython3",
   "version": "3.8.8"
  }
 },
 "nbformat": 4,
 "nbformat_minor": 5
}
