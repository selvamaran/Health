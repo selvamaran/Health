{
 "cells": [
  {
   "cell_type": "code",
   "execution_count": 1,
   "id": "thorough-overall",
   "metadata": {},
   "outputs": [
    {
     "name": "stderr",
     "output_type": "stream",
     "text": [
      "E:\\anaconda3\\envs\\tf\\lib\\site-packages\\scipy\\__init__.py:173: UserWarning: A NumPy version >=1.19.5 and <1.27.0 is required for this version of SciPy (detected version 1.19.2)\n",
      "  warnings.warn(f\"A NumPy version >={np_minversion} and <{np_maxversion}\"\n"
     ]
    }
   ],
   "source": [
    "import pandas as pd\n",
    "import matplotlib.pyplot as plt\n",
    "import seaborn as sns\n",
    "%matplotlib inline\n",
    "from scipy import stats\n",
    "import numpy as np\n",
    "from datetime import datetime, timedelta\n",
    "from scipy.stats import zscore,ttest_ind"
   ]
  },
  {
   "cell_type": "code",
   "execution_count": 18,
   "id": "modular-instrumentation",
   "metadata": {},
   "outputs": [
    {
     "data": {
      "text/plain": [
       "((962, 17), (7524, 10))"
      ]
     },
     "execution_count": 18,
     "metadata": {},
     "output_type": "execute_result"
    }
   ],
   "source": [
    "file_loc0 = \"../../ADNI_data/\"\n",
    "df_FDG=pd.read_csv(file_loc0 + 'UCBERKELEYFDG_8mm_02_17_23_23Apr2024.csv')\n",
    "df_Fpet_npiq_DX_62days_final3=pd.read_csv('df_Fpet_npiq_VISDATE_DX_182days_final3.csv')\n",
    "\n",
    "\n",
    "df_NPIQ=pd.read_csv(file_loc0 + 'NPIQ_05Mar2024.csv')\n",
    "df_DX = pd.read_csv(file_loc0 + 'DXSUM_PDXCONV_ADNIALL_Diagnostic Summary_standardised.csv')\n",
    "\n",
    "df_Fpet_npiq_DX_62days_final3.shape,df_FDG.shape"
   ]
  },
  {
   "cell_type": "code",
   "execution_count": 25,
   "id": "loaded-house",
   "metadata": {},
   "outputs": [
    {
     "data": {
      "text/html": [
       "<div>\n",
       "<style scoped>\n",
       "    .dataframe tbody tr th:only-of-type {\n",
       "        vertical-align: middle;\n",
       "    }\n",
       "\n",
       "    .dataframe tbody tr th {\n",
       "        vertical-align: top;\n",
       "    }\n",
       "\n",
       "    .dataframe thead th {\n",
       "        text-align: right;\n",
       "    }\n",
       "</style>\n",
       "<table border=\"1\" class=\"dataframe\">\n",
       "  <thead>\n",
       "    <tr style=\"text-align: right;\">\n",
       "      <th></th>\n",
       "      <th>RID</th>\n",
       "      <th>VISCODE</th>\n",
       "      <th>VISCODE2</th>\n",
       "      <th>EXAMDATE</th>\n",
       "      <th>ROINAME</th>\n",
       "      <th>MEAN</th>\n",
       "      <th>MAX</th>\n",
       "      <th>STDEV</th>\n",
       "      <th>TOTVOX</th>\n",
       "      <th>update_stamp</th>\n",
       "      <th>EXAMDATE_dt</th>\n",
       "    </tr>\n",
       "  </thead>\n",
       "  <tbody>\n",
       "    <tr>\n",
       "      <th>0</th>\n",
       "      <td>2</td>\n",
       "      <td>bl</td>\n",
       "      <td>bl</td>\n",
       "      <td>2005-09-22</td>\n",
       "      <td>MetaROI</td>\n",
       "      <td>1.252</td>\n",
       "      <td>1.672</td>\n",
       "      <td>0.159</td>\n",
       "      <td>1142.0</td>\n",
       "      <td>2023-02-23 10:07:26.0</td>\n",
       "      <td>2005-09-22</td>\n",
       "    </tr>\n",
       "    <tr>\n",
       "      <th>1</th>\n",
       "      <td>2</td>\n",
       "      <td>bl</td>\n",
       "      <td>bl</td>\n",
       "      <td>2005-09-22</td>\n",
       "      <td>Top50PonsVermis</td>\n",
       "      <td>0.937</td>\n",
       "      <td>1.297</td>\n",
       "      <td>0.107</td>\n",
       "      <td>1779.0</td>\n",
       "      <td>2023-02-23 10:07:26.0</td>\n",
       "      <td>2005-09-22</td>\n",
       "    </tr>\n",
       "    <tr>\n",
       "      <th>2</th>\n",
       "      <td>2</td>\n",
       "      <td>m06</td>\n",
       "      <td>m06</td>\n",
       "      <td>2006-03-08</td>\n",
       "      <td>MetaROI</td>\n",
       "      <td>1.333</td>\n",
       "      <td>1.644</td>\n",
       "      <td>0.166</td>\n",
       "      <td>1142.0</td>\n",
       "      <td>2023-02-23 10:07:26.0</td>\n",
       "      <td>2006-03-08</td>\n",
       "    </tr>\n",
       "    <tr>\n",
       "      <th>3</th>\n",
       "      <td>2</td>\n",
       "      <td>m06</td>\n",
       "      <td>m06</td>\n",
       "      <td>2006-03-08</td>\n",
       "      <td>Top50PonsVermis</td>\n",
       "      <td>1.090</td>\n",
       "      <td>1.554</td>\n",
       "      <td>0.170</td>\n",
       "      <td>1779.0</td>\n",
       "      <td>2023-02-23 10:07:26.0</td>\n",
       "      <td>2006-03-08</td>\n",
       "    </tr>\n",
       "    <tr>\n",
       "      <th>4</th>\n",
       "      <td>3</td>\n",
       "      <td>bl</td>\n",
       "      <td>bl</td>\n",
       "      <td>2005-09-22</td>\n",
       "      <td>MetaROI</td>\n",
       "      <td>1.222</td>\n",
       "      <td>1.570</td>\n",
       "      <td>0.137</td>\n",
       "      <td>1142.0</td>\n",
       "      <td>2023-02-23 10:07:26.0</td>\n",
       "      <td>2005-09-22</td>\n",
       "    </tr>\n",
       "  </tbody>\n",
       "</table>\n",
       "</div>"
      ],
      "text/plain": [
       "   RID VISCODE VISCODE2    EXAMDATE          ROINAME   MEAN    MAX  STDEV  \\\n",
       "0    2      bl       bl  2005-09-22          MetaROI  1.252  1.672  0.159   \n",
       "1    2      bl       bl  2005-09-22  Top50PonsVermis  0.937  1.297  0.107   \n",
       "2    2     m06      m06  2006-03-08          MetaROI  1.333  1.644  0.166   \n",
       "3    2     m06      m06  2006-03-08  Top50PonsVermis  1.090  1.554  0.170   \n",
       "4    3      bl       bl  2005-09-22          MetaROI  1.222  1.570  0.137   \n",
       "\n",
       "   TOTVOX           update_stamp EXAMDATE_dt  \n",
       "0  1142.0  2023-02-23 10:07:26.0  2005-09-22  \n",
       "1  1779.0  2023-02-23 10:07:26.0  2005-09-22  \n",
       "2  1142.0  2023-02-23 10:07:26.0  2006-03-08  \n",
       "3  1779.0  2023-02-23 10:07:26.0  2006-03-08  \n",
       "4  1142.0  2023-02-23 10:07:26.0  2005-09-22  "
      ]
     },
     "execution_count": 25,
     "metadata": {},
     "output_type": "execute_result"
    }
   ],
   "source": [
    "df_FDG.head()"
   ]
  },
  {
   "cell_type": "code",
   "execution_count": 4,
   "id": "convinced-tribe",
   "metadata": {},
   "outputs": [
    {
     "data": {
      "text/html": [
       "<div>\n",
       "<style scoped>\n",
       "    .dataframe tbody tr th:only-of-type {\n",
       "        vertical-align: middle;\n",
       "    }\n",
       "\n",
       "    .dataframe tbody tr th {\n",
       "        vertical-align: top;\n",
       "    }\n",
       "\n",
       "    .dataframe thead th {\n",
       "        text-align: right;\n",
       "    }\n",
       "</style>\n",
       "<table border=\"1\" class=\"dataframe\">\n",
       "  <thead>\n",
       "    <tr style=\"text-align: right;\">\n",
       "      <th></th>\n",
       "      <th>RID</th>\n",
       "      <th>VISCODE2</th>\n",
       "      <th>USERDATE_dt</th>\n",
       "      <th>VISDATE_dt</th>\n",
       "      <th>NPID</th>\n",
       "      <th>SCANDATE_dt</th>\n",
       "      <th>AMYLOID_STATUS</th>\n",
       "      <th>SUMMARY_SUVR</th>\n",
       "      <th>diff_dt</th>\n",
       "      <th>diff_dt_abs</th>\n",
       "      <th>VISCODE2_dx</th>\n",
       "      <th>EXAMDATE_dt</th>\n",
       "      <th>DX</th>\n",
       "      <th>diff_dx_dt</th>\n",
       "      <th>diff_dx_dt_abs</th>\n",
       "      <th>diff_ED_VD_dt</th>\n",
       "      <th>diff_ud-vd</th>\n",
       "    </tr>\n",
       "  </thead>\n",
       "  <tbody>\n",
       "    <tr>\n",
       "      <th>0</th>\n",
       "      <td>4185</td>\n",
       "      <td>m18</td>\n",
       "      <td>2013-04-05</td>\n",
       "      <td>2013-04-05</td>\n",
       "      <td>0.0</td>\n",
       "      <td>2013-09-30</td>\n",
       "      <td>0.0</td>\n",
       "      <td>1.044</td>\n",
       "      <td>-178 days</td>\n",
       "      <td>178 days</td>\n",
       "      <td>m24</td>\n",
       "      <td>2013-10-03</td>\n",
       "      <td>MCI</td>\n",
       "      <td>3 days</td>\n",
       "      <td>3 days</td>\n",
       "      <td>-181 days</td>\n",
       "      <td>0 days</td>\n",
       "    </tr>\n",
       "    <tr>\n",
       "      <th>1</th>\n",
       "      <td>4635</td>\n",
       "      <td>m18</td>\n",
       "      <td>2013-11-05</td>\n",
       "      <td>2013-10-31</td>\n",
       "      <td>0.0</td>\n",
       "      <td>2014-04-29</td>\n",
       "      <td>1.0</td>\n",
       "      <td>1.362</td>\n",
       "      <td>-180 days</td>\n",
       "      <td>180 days</td>\n",
       "      <td>m24</td>\n",
       "      <td>2014-04-30</td>\n",
       "      <td>MCI</td>\n",
       "      <td>1 days</td>\n",
       "      <td>1 days</td>\n",
       "      <td>-181 days</td>\n",
       "      <td>5 days</td>\n",
       "    </tr>\n",
       "    <tr>\n",
       "      <th>2</th>\n",
       "      <td>4225</td>\n",
       "      <td>m18</td>\n",
       "      <td>2013-05-14</td>\n",
       "      <td>2013-04-12</td>\n",
       "      <td>0.0</td>\n",
       "      <td>2013-10-10</td>\n",
       "      <td>1.0</td>\n",
       "      <td>1.642</td>\n",
       "      <td>-181 days</td>\n",
       "      <td>181 days</td>\n",
       "      <td>m24</td>\n",
       "      <td>2013-10-10</td>\n",
       "      <td>NL</td>\n",
       "      <td>0 days</td>\n",
       "      <td>0 days</td>\n",
       "      <td>-181 days</td>\n",
       "      <td>32 days</td>\n",
       "    </tr>\n",
       "    <tr>\n",
       "      <th>3</th>\n",
       "      <td>1261</td>\n",
       "      <td>m66</td>\n",
       "      <td>2012-09-11</td>\n",
       "      <td>2012-09-07</td>\n",
       "      <td>0.0</td>\n",
       "      <td>2013-03-05</td>\n",
       "      <td>0.0</td>\n",
       "      <td>1.028</td>\n",
       "      <td>-179 days</td>\n",
       "      <td>179 days</td>\n",
       "      <td>m72</td>\n",
       "      <td>2013-03-07</td>\n",
       "      <td>NL</td>\n",
       "      <td>2 days</td>\n",
       "      <td>2 days</td>\n",
       "      <td>-181 days</td>\n",
       "      <td>4 days</td>\n",
       "    </tr>\n",
       "    <tr>\n",
       "      <th>4</th>\n",
       "      <td>4598</td>\n",
       "      <td>m18</td>\n",
       "      <td>2013-10-24</td>\n",
       "      <td>2013-10-22</td>\n",
       "      <td>0.0</td>\n",
       "      <td>2014-04-21</td>\n",
       "      <td>0.0</td>\n",
       "      <td>1.050</td>\n",
       "      <td>-181 days</td>\n",
       "      <td>181 days</td>\n",
       "      <td>m24</td>\n",
       "      <td>2014-04-21</td>\n",
       "      <td>NL</td>\n",
       "      <td>0 days</td>\n",
       "      <td>0 days</td>\n",
       "      <td>-181 days</td>\n",
       "      <td>2 days</td>\n",
       "    </tr>\n",
       "  </tbody>\n",
       "</table>\n",
       "</div>"
      ],
      "text/plain": [
       "    RID VISCODE2 USERDATE_dt  VISDATE_dt  NPID SCANDATE_dt  AMYLOID_STATUS  \\\n",
       "0  4185      m18  2013-04-05  2013-04-05   0.0  2013-09-30             0.0   \n",
       "1  4635      m18  2013-11-05  2013-10-31   0.0  2014-04-29             1.0   \n",
       "2  4225      m18  2013-05-14  2013-04-12   0.0  2013-10-10             1.0   \n",
       "3  1261      m66  2012-09-11  2012-09-07   0.0  2013-03-05             0.0   \n",
       "4  4598      m18  2013-10-24  2013-10-22   0.0  2014-04-21             0.0   \n",
       "\n",
       "   SUMMARY_SUVR    diff_dt diff_dt_abs VISCODE2_dx EXAMDATE_dt   DX  \\\n",
       "0         1.044  -178 days    178 days         m24  2013-10-03  MCI   \n",
       "1         1.362  -180 days    180 days         m24  2014-04-30  MCI   \n",
       "2         1.642  -181 days    181 days         m24  2013-10-10   NL   \n",
       "3         1.028  -179 days    179 days         m72  2013-03-07   NL   \n",
       "4         1.050  -181 days    181 days         m24  2014-04-21   NL   \n",
       "\n",
       "  diff_dx_dt diff_dx_dt_abs diff_ED_VD_dt diff_ud-vd  \n",
       "0     3 days         3 days     -181 days     0 days  \n",
       "1     1 days         1 days     -181 days     5 days  \n",
       "2     0 days         0 days     -181 days    32 days  \n",
       "3     2 days         2 days     -181 days     4 days  \n",
       "4     0 days         0 days     -181 days     2 days  "
      ]
     },
     "execution_count": 4,
     "metadata": {},
     "output_type": "execute_result"
    }
   ],
   "source": [
    "df_Fpet_npiq_DX_62days_final3.head()"
   ]
  },
  {
   "cell_type": "code",
   "execution_count": 26,
   "id": "interesting-demonstration",
   "metadata": {},
   "outputs": [
    {
     "data": {
      "text/plain": [
       "(496, 26)"
      ]
     },
     "execution_count": 26,
     "metadata": {},
     "output_type": "execute_result"
    }
   ],
   "source": [
    "df_Fpet_npiq_DX_62days_final3.merge(df_FDG,on=['RID','VISCODE2']).shape"
   ]
  },
  {
   "cell_type": "code",
   "execution_count": 28,
   "id": "positive-fields",
   "metadata": {},
   "outputs": [
    {
     "data": {
      "text/plain": [
       "((7524, 2), (3762, 2), (3760, 2))"
      ]
     },
     "execution_count": 28,
     "metadata": {},
     "output_type": "execute_result"
    }
   ],
   "source": [
    "df_FDG[['RID','VISCODE2']].shape, df_FDG[['RID','VISCODE2']].drop_duplicates().shape, df_FDG[['RID','VISCODE2']].drop_duplicates().dropna().shape"
   ]
  },
  {
   "cell_type": "code",
   "execution_count": 7,
   "id": "faced-puzzle",
   "metadata": {},
   "outputs": [
    {
     "data": {
      "text/plain": [
       "7524"
      ]
     },
     "execution_count": 7,
     "metadata": {},
     "output_type": "execute_result"
    }
   ],
   "source": [
    "3762*2"
   ]
  },
  {
   "cell_type": "code",
   "execution_count": 29,
   "id": "colored-giant",
   "metadata": {},
   "outputs": [
    {
     "data": {
      "text/plain": [
       "((3758, 4),\n",
       " Index(['RID', 'VISCODE2', 'MetaROI', 'Top50PonsVermis'], dtype='object', name='ROINAME'))"
      ]
     },
     "execution_count": 29,
     "metadata": {},
     "output_type": "execute_result"
    }
   ],
   "source": [
    "df_FDG_ROI=df_FDG.pivot_table(index=['RID','VISCODE2'],columns='ROINAME',values='MEAN').dropna().reset_index()\n",
    "df_FDG_ROI.shape,df_FDG_ROI.columns"
   ]
  },
  {
   "cell_type": "code",
   "execution_count": 9,
   "id": "together-enterprise",
   "metadata": {},
   "outputs": [
    {
     "data": {
      "text/plain": [
       "7516"
      ]
     },
     "execution_count": 9,
     "metadata": {},
     "output_type": "execute_result"
    }
   ],
   "source": [
    "3758*2"
   ]
  },
  {
   "cell_type": "code",
   "execution_count": 10,
   "id": "exclusive-depth",
   "metadata": {},
   "outputs": [
    {
     "data": {
      "text/plain": [
       "(3758, 2)"
      ]
     },
     "execution_count": 10,
     "metadata": {},
     "output_type": "execute_result"
    }
   ],
   "source": [
    "df_FDG_ROI[['RID','VISCODE2']].drop_duplicates().shape"
   ]
  },
  {
   "cell_type": "code",
   "execution_count": 30,
   "id": "friendly-engagement",
   "metadata": {},
   "outputs": [],
   "source": [
    "df_FDG_ROI['ROInorm']=df_FDG_ROI['MetaROI']/df_FDG_ROI['Top50PonsVermis']"
   ]
  },
  {
   "cell_type": "code",
   "execution_count": 31,
   "id": "small-opera",
   "metadata": {},
   "outputs": [
    {
     "data": {
      "text/html": [
       "<div>\n",
       "<style scoped>\n",
       "    .dataframe tbody tr th:only-of-type {\n",
       "        vertical-align: middle;\n",
       "    }\n",
       "\n",
       "    .dataframe tbody tr th {\n",
       "        vertical-align: top;\n",
       "    }\n",
       "\n",
       "    .dataframe thead th {\n",
       "        text-align: right;\n",
       "    }\n",
       "</style>\n",
       "<table border=\"1\" class=\"dataframe\">\n",
       "  <thead>\n",
       "    <tr style=\"text-align: right;\">\n",
       "      <th>ROINAME</th>\n",
       "      <th>RID</th>\n",
       "      <th>VISCODE2</th>\n",
       "      <th>MetaROI</th>\n",
       "      <th>Top50PonsVermis</th>\n",
       "      <th>ROInorm</th>\n",
       "    </tr>\n",
       "  </thead>\n",
       "  <tbody>\n",
       "    <tr>\n",
       "      <th>0</th>\n",
       "      <td>2</td>\n",
       "      <td>bl</td>\n",
       "      <td>1.252</td>\n",
       "      <td>0.937</td>\n",
       "      <td>1.336179</td>\n",
       "    </tr>\n",
       "    <tr>\n",
       "      <th>1</th>\n",
       "      <td>2</td>\n",
       "      <td>m06</td>\n",
       "      <td>1.333</td>\n",
       "      <td>1.090</td>\n",
       "      <td>1.222936</td>\n",
       "    </tr>\n",
       "    <tr>\n",
       "      <th>2</th>\n",
       "      <td>3</td>\n",
       "      <td>bl</td>\n",
       "      <td>1.222</td>\n",
       "      <td>1.102</td>\n",
       "      <td>1.108893</td>\n",
       "    </tr>\n",
       "    <tr>\n",
       "      <th>3</th>\n",
       "      <td>3</td>\n",
       "      <td>m06</td>\n",
       "      <td>1.195</td>\n",
       "      <td>1.109</td>\n",
       "      <td>1.077547</td>\n",
       "    </tr>\n",
       "    <tr>\n",
       "      <th>4</th>\n",
       "      <td>3</td>\n",
       "      <td>m12</td>\n",
       "      <td>1.186</td>\n",
       "      <td>1.062</td>\n",
       "      <td>1.116761</td>\n",
       "    </tr>\n",
       "  </tbody>\n",
       "</table>\n",
       "</div>"
      ],
      "text/plain": [
       "ROINAME  RID VISCODE2  MetaROI  Top50PonsVermis   ROInorm\n",
       "0          2       bl    1.252            0.937  1.336179\n",
       "1          2      m06    1.333            1.090  1.222936\n",
       "2          3       bl    1.222            1.102  1.108893\n",
       "3          3      m06    1.195            1.109  1.077547\n",
       "4          3      m12    1.186            1.062  1.116761"
      ]
     },
     "execution_count": 31,
     "metadata": {},
     "output_type": "execute_result"
    }
   ],
   "source": [
    "df_FDG_ROI.head()"
   ]
  },
  {
   "cell_type": "code",
   "execution_count": 12,
   "id": "southern-appendix",
   "metadata": {},
   "outputs": [
    {
     "data": {
      "text/plain": [
       "(248, 20)"
      ]
     },
     "execution_count": 12,
     "metadata": {},
     "output_type": "execute_result"
    }
   ],
   "source": [
    "df_Fpet_npiq_DX_62days_final3_FDG_ROI=df_Fpet_npiq_DX_62days_final3.merge(df_FDG_ROI,on=['RID','VISCODE2'])\n",
    "df_Fpet_npiq_DX_62days_final3_FDG_ROI.shape"
   ]
  },
  {
   "cell_type": "code",
   "execution_count": 13,
   "id": "stunning-turkish",
   "metadata": {},
   "outputs": [
    {
     "data": {
      "text/plain": [
       "DX         NPID\n",
       "AD         0.0       9\n",
       "           1.0      14\n",
       "AD to MCI  0.0       1\n",
       "MCI        0.0     120\n",
       "           1.0      40\n",
       "MCI to AD  0.0       5\n",
       "           1.0       3\n",
       "MCI to NL  0.0       2\n",
       "NL         0.0      45\n",
       "           1.0       3\n",
       "NL to MCI  0.0       5\n",
       "           1.0       1\n",
       "Name: ROInorm, dtype: int64"
      ]
     },
     "execution_count": 13,
     "metadata": {},
     "output_type": "execute_result"
    }
   ],
   "source": [
    "df_Fpet_npiq_DX_62days_final3_FDG_ROI.groupby(['DX','NPID'])['ROInorm'].count()"
   ]
  },
  {
   "cell_type": "code",
   "execution_count": 14,
   "id": "built-stone",
   "metadata": {},
   "outputs": [],
   "source": [
    "df_Fpet_npiq_DX_62days_final3_FDG_ROI.loc[df_Fpet_npiq_DX_62days_final3_FDG_ROI['DX']=='MCI to AD','DX']='AD'\n",
    "df_Fpet_npiq_DX_62days_final3_FDG_ROI.loc[df_Fpet_npiq_DX_62days_final3_FDG_ROI['DX']=='NL to MCI','DX']='MCI'"
   ]
  },
  {
   "cell_type": "code",
   "execution_count": 15,
   "id": "charged-defendant",
   "metadata": {},
   "outputs": [
    {
     "data": {
      "text/plain": [
       "DX   NPID\n",
       "AD   0.0      14\n",
       "     1.0      17\n",
       "MCI  0.0     125\n",
       "     1.0      41\n",
       "NL   0.0      45\n",
       "     1.0       3\n",
       "Name: ROInorm, dtype: int64"
      ]
     },
     "execution_count": 15,
     "metadata": {},
     "output_type": "execute_result"
    }
   ],
   "source": [
    "df_Fpet_npiq_DX_62days_final3_FDG_ROI[df_Fpet_npiq_DX_62days_final3_FDG_ROI['DX'].isin(['NL','MCI','AD'])].groupby(['DX','NPID'])['ROInorm'].count()"
   ]
  },
  {
   "cell_type": "code",
   "execution_count": 16,
   "id": "powered-chain",
   "metadata": {},
   "outputs": [
    {
     "data": {
      "text/plain": [
       "DX   NPID\n",
       "AD   0.0     1.016800\n",
       "     1.0     1.011881\n",
       "MCI  0.0     1.244109\n",
       "     1.0     1.254374\n",
       "NL   0.0     1.247378\n",
       "     1.0     1.184485\n",
       "Name: ROInorm, dtype: float64"
      ]
     },
     "execution_count": 16,
     "metadata": {},
     "output_type": "execute_result"
    }
   ],
   "source": [
    "df_Fpet_npiq_DX_62days_final3_FDG_ROI[df_Fpet_npiq_DX_62days_final3_FDG_ROI['DX'].isin(['NL','MCI','AD'])].groupby(['DX','NPID'])['ROInorm'].mean()"
   ]
  },
  {
   "cell_type": "code",
   "execution_count": 24,
   "id": "static-auditor",
   "metadata": {},
   "outputs": [],
   "source": [
    "#convert to data time for manipulation\n",
    "df_FDG['EXAMDATE_dt']=pd.to_datetime(df_Fpet.EXAMDATE, format='%Y-%m-%d')\n",
    "\n",
    "df_NPIQ['VISDATE_dt']=pd.to_datetime(df_NPIQ.VISDATE, format='%Y-%m-%d')\n",
    "df_NPIQ['USERDATE_dt']=pd.to_datetime(df_NPIQ.USERDATE, format='%Y-%m-%d')\n",
    "\n",
    "df_DX['EXAMDATE_dt']=pd.to_datetime(df_DX.EXAMDATE, format='%m/%d/%Y')"
   ]
  },
  {
   "cell_type": "code",
   "execution_count": 21,
   "id": "driving-latino",
   "metadata": {},
   "outputs": [],
   "source": [
    "df_NPIQ_selcol_lt=['RID','Phase','VISCODE2','NPID','VISDATE','VISDATE_dt','USERDATE','USERDATE_dt']"
   ]
  },
  {
   "cell_type": "code",
   "execution_count": 32,
   "id": "legendary-leisure",
   "metadata": {},
   "outputs": [
    {
     "data": {
      "text/html": [
       "<div>\n",
       "<style scoped>\n",
       "    .dataframe tbody tr th:only-of-type {\n",
       "        vertical-align: middle;\n",
       "    }\n",
       "\n",
       "    .dataframe tbody tr th {\n",
       "        vertical-align: top;\n",
       "    }\n",
       "\n",
       "    .dataframe thead th {\n",
       "        text-align: right;\n",
       "    }\n",
       "</style>\n",
       "<table border=\"1\" class=\"dataframe\">\n",
       "  <thead>\n",
       "    <tr style=\"text-align: right;\">\n",
       "      <th></th>\n",
       "      <th>RID</th>\n",
       "      <th>Phase</th>\n",
       "      <th>VISCODE2</th>\n",
       "      <th>NPID</th>\n",
       "      <th>VISDATE</th>\n",
       "      <th>VISDATE_dt</th>\n",
       "      <th>USERDATE</th>\n",
       "      <th>USERDATE_dt</th>\n",
       "    </tr>\n",
       "  </thead>\n",
       "  <tbody>\n",
       "    <tr>\n",
       "      <th>0</th>\n",
       "      <td>2</td>\n",
       "      <td>ADNI1</td>\n",
       "      <td>bl</td>\n",
       "      <td>0.0</td>\n",
       "      <td>2005-09-08</td>\n",
       "      <td>2005-09-08</td>\n",
       "      <td>2005-09-09</td>\n",
       "      <td>2005-09-09</td>\n",
       "    </tr>\n",
       "    <tr>\n",
       "      <th>1</th>\n",
       "      <td>3</td>\n",
       "      <td>ADNI1</td>\n",
       "      <td>bl</td>\n",
       "      <td>0.0</td>\n",
       "      <td>2005-09-12</td>\n",
       "      <td>2005-09-12</td>\n",
       "      <td>2005-09-13</td>\n",
       "      <td>2005-09-13</td>\n",
       "    </tr>\n",
       "    <tr>\n",
       "      <th>2</th>\n",
       "      <td>5</td>\n",
       "      <td>ADNI1</td>\n",
       "      <td>bl</td>\n",
       "      <td>0.0</td>\n",
       "      <td>2005-09-07</td>\n",
       "      <td>2005-09-07</td>\n",
       "      <td>2005-09-14</td>\n",
       "      <td>2005-09-14</td>\n",
       "    </tr>\n",
       "    <tr>\n",
       "      <th>3</th>\n",
       "      <td>8</td>\n",
       "      <td>ADNI1</td>\n",
       "      <td>bl</td>\n",
       "      <td>0.0</td>\n",
       "      <td>2005-09-19</td>\n",
       "      <td>2005-09-19</td>\n",
       "      <td>2005-09-26</td>\n",
       "      <td>2005-09-26</td>\n",
       "    </tr>\n",
       "    <tr>\n",
       "      <th>4</th>\n",
       "      <td>7</td>\n",
       "      <td>ADNI1</td>\n",
       "      <td>bl</td>\n",
       "      <td>1.0</td>\n",
       "      <td>2005-10-06</td>\n",
       "      <td>2005-10-06</td>\n",
       "      <td>2005-10-13</td>\n",
       "      <td>2005-10-13</td>\n",
       "    </tr>\n",
       "  </tbody>\n",
       "</table>\n",
       "</div>"
      ],
      "text/plain": [
       "   RID  Phase VISCODE2  NPID     VISDATE VISDATE_dt    USERDATE USERDATE_dt\n",
       "0    2  ADNI1       bl   0.0  2005-09-08 2005-09-08  2005-09-09  2005-09-09\n",
       "1    3  ADNI1       bl   0.0  2005-09-12 2005-09-12  2005-09-13  2005-09-13\n",
       "2    5  ADNI1       bl   0.0  2005-09-07 2005-09-07  2005-09-14  2005-09-14\n",
       "3    8  ADNI1       bl   0.0  2005-09-19 2005-09-19  2005-09-26  2005-09-26\n",
       "4    7  ADNI1       bl   1.0  2005-10-06 2005-10-06  2005-10-13  2005-10-13"
      ]
     },
     "execution_count": 32,
     "metadata": {},
     "output_type": "execute_result"
    }
   ],
   "source": [
    "df_NPIQ_selcol = df_NPIQ[df_NPIQ_selcol_lt]\n",
    "df_NPIQ_selcol.head()"
   ]
  },
  {
   "cell_type": "code",
   "execution_count": 35,
   "id": "incorporate-agency",
   "metadata": {},
   "outputs": [],
   "source": [
    "#minimum date to start from w.r.t scan date\n",
    "# df_NPIQ[df_NPIQ['VISDATE_dt']>(df_Fpet_selcol.SCANDATE_dt.min()-timedelta(days=182))].shape,df_NPIQ.shape"
   ]
  },
  {
   "cell_type": "code",
   "execution_count": 36,
   "id": "threaded-jacob",
   "metadata": {},
   "outputs": [
    {
     "data": {
      "text/plain": [
       "(2012, 11)"
      ]
     },
     "execution_count": 36,
     "metadata": {},
     "output_type": "execute_result"
    }
   ],
   "source": [
    "df_FDG_ROI_NPIQ=df_FDG_ROI.merge(df_NPIQ_selcol,on=['RID','VISCODE2'])\n",
    "df_FDG_ROI_NPIQ.shape"
   ]
  },
  {
   "cell_type": "code",
   "execution_count": 37,
   "id": "naval-explorer",
   "metadata": {},
   "outputs": [
    {
     "data": {
      "text/html": [
       "<div>\n",
       "<style scoped>\n",
       "    .dataframe tbody tr th:only-of-type {\n",
       "        vertical-align: middle;\n",
       "    }\n",
       "\n",
       "    .dataframe tbody tr th {\n",
       "        vertical-align: top;\n",
       "    }\n",
       "\n",
       "    .dataframe thead th {\n",
       "        text-align: right;\n",
       "    }\n",
       "</style>\n",
       "<table border=\"1\" class=\"dataframe\">\n",
       "  <thead>\n",
       "    <tr style=\"text-align: right;\">\n",
       "      <th></th>\n",
       "      <th>RID</th>\n",
       "      <th>VISCODE2</th>\n",
       "      <th>MetaROI</th>\n",
       "      <th>Top50PonsVermis</th>\n",
       "      <th>ROInorm</th>\n",
       "      <th>Phase</th>\n",
       "      <th>NPID</th>\n",
       "      <th>VISDATE</th>\n",
       "      <th>VISDATE_dt</th>\n",
       "      <th>USERDATE</th>\n",
       "      <th>USERDATE_dt</th>\n",
       "    </tr>\n",
       "  </thead>\n",
       "  <tbody>\n",
       "    <tr>\n",
       "      <th>0</th>\n",
       "      <td>2</td>\n",
       "      <td>bl</td>\n",
       "      <td>1.252</td>\n",
       "      <td>0.937</td>\n",
       "      <td>1.336179</td>\n",
       "      <td>ADNI1</td>\n",
       "      <td>0.0</td>\n",
       "      <td>2005-09-08</td>\n",
       "      <td>2005-09-08</td>\n",
       "      <td>2005-09-09</td>\n",
       "      <td>2005-09-09</td>\n",
       "    </tr>\n",
       "    <tr>\n",
       "      <th>1</th>\n",
       "      <td>2</td>\n",
       "      <td>m06</td>\n",
       "      <td>1.333</td>\n",
       "      <td>1.090</td>\n",
       "      <td>1.222936</td>\n",
       "      <td>ADNI1</td>\n",
       "      <td>0.0</td>\n",
       "      <td>2006-03-06</td>\n",
       "      <td>2006-03-06</td>\n",
       "      <td>2006-03-07</td>\n",
       "      <td>2006-03-07</td>\n",
       "    </tr>\n",
       "  </tbody>\n",
       "</table>\n",
       "</div>"
      ],
      "text/plain": [
       "   RID VISCODE2  MetaROI  Top50PonsVermis   ROInorm  Phase  NPID     VISDATE  \\\n",
       "0    2       bl    1.252            0.937  1.336179  ADNI1   0.0  2005-09-08   \n",
       "1    2      m06    1.333            1.090  1.222936  ADNI1   0.0  2006-03-06   \n",
       "\n",
       "  VISDATE_dt    USERDATE USERDATE_dt  \n",
       "0 2005-09-08  2005-09-09  2005-09-09  \n",
       "1 2006-03-06  2006-03-07  2006-03-07  "
      ]
     },
     "execution_count": 37,
     "metadata": {},
     "output_type": "execute_result"
    }
   ],
   "source": [
    "df_FDG_ROI_NPIQ.head(2)"
   ]
  },
  {
   "cell_type": "code",
   "execution_count": 40,
   "id": "alien-beginning",
   "metadata": {},
   "outputs": [
    {
     "data": {
      "text/plain": [
       " 0.0    1536\n",
       " 1.0     463\n",
       "-1.0       6\n",
       " 2.0       6\n",
       "Name: NPID, dtype: int64"
      ]
     },
     "execution_count": 40,
     "metadata": {},
     "output_type": "execute_result"
    }
   ],
   "source": [
    "df_FDG_ROI_NPIQ.NPID.value_counts()"
   ]
  },
  {
   "cell_type": "code",
   "execution_count": 41,
   "id": "terminal-colors",
   "metadata": {},
   "outputs": [
    {
     "data": {
      "text/plain": [
       "NPID\n",
       "0.0    1.170693\n",
       "1.0    1.110058\n",
       "Name: ROInorm, dtype: float64"
      ]
     },
     "execution_count": 41,
     "metadata": {},
     "output_type": "execute_result"
    }
   ],
   "source": [
    "df_FDG_ROI_NPIQ[df_FDG_ROI_NPIQ['NPID'].isin([0,1])].groupby('NPID').ROInorm.mean()"
   ]
  },
  {
   "cell_type": "code",
   "execution_count": 47,
   "id": "technological-vacuum",
   "metadata": {},
   "outputs": [
    {
     "data": {
      "text/plain": [
       "(13491, 4)"
      ]
     },
     "execution_count": 47,
     "metadata": {},
     "output_type": "execute_result"
    }
   ],
   "source": [
    "df_DX_adapt = df_DX[['RID','VISCODE2','EXAMDATE_dt','DX']].drop_duplicates().sort_values(by=['RID','EXAMDATE_dt'])\n",
    "df_DX_adapt.shape"
   ]
  },
  {
   "cell_type": "code",
   "execution_count": 51,
   "id": "removed-holocaust",
   "metadata": {},
   "outputs": [
    {
     "data": {
      "text/html": [
       "<div>\n",
       "<style scoped>\n",
       "    .dataframe tbody tr th:only-of-type {\n",
       "        vertical-align: middle;\n",
       "    }\n",
       "\n",
       "    .dataframe tbody tr th {\n",
       "        vertical-align: top;\n",
       "    }\n",
       "\n",
       "    .dataframe thead th {\n",
       "        text-align: right;\n",
       "    }\n",
       "</style>\n",
       "<table border=\"1\" class=\"dataframe\">\n",
       "  <thead>\n",
       "    <tr style=\"text-align: right;\">\n",
       "      <th></th>\n",
       "      <th>RID</th>\n",
       "      <th>VISCODE2</th>\n",
       "      <th>EXAMDATE_dt</th>\n",
       "      <th>DX</th>\n",
       "    </tr>\n",
       "  </thead>\n",
       "  <tbody>\n",
       "    <tr>\n",
       "      <th>0</th>\n",
       "      <td>2</td>\n",
       "      <td>bl</td>\n",
       "      <td>2005-09-29</td>\n",
       "      <td>NL</td>\n",
       "    </tr>\n",
       "    <tr>\n",
       "      <th>166</th>\n",
       "      <td>2</td>\n",
       "      <td>m06</td>\n",
       "      <td>2006-03-06</td>\n",
       "      <td>NL</td>\n",
       "    </tr>\n",
       "    <tr>\n",
       "      <th>2861</th>\n",
       "      <td>2</td>\n",
       "      <td>m36</td>\n",
       "      <td>2008-08-27</td>\n",
       "      <td>NL</td>\n",
       "    </tr>\n",
       "    <tr>\n",
       "      <th>3907</th>\n",
       "      <td>2</td>\n",
       "      <td>m60</td>\n",
       "      <td>2010-09-27</td>\n",
       "      <td>NL</td>\n",
       "    </tr>\n",
       "    <tr>\n",
       "      <th>4701</th>\n",
       "      <td>2</td>\n",
       "      <td>m72</td>\n",
       "      <td>2011-09-19</td>\n",
       "      <td>NL</td>\n",
       "    </tr>\n",
       "  </tbody>\n",
       "</table>\n",
       "</div>"
      ],
      "text/plain": [
       "      RID VISCODE2 EXAMDATE_dt  DX\n",
       "0       2       bl  2005-09-29  NL\n",
       "166     2      m06  2006-03-06  NL\n",
       "2861    2      m36  2008-08-27  NL\n",
       "3907    2      m60  2010-09-27  NL\n",
       "4701    2      m72  2011-09-19  NL"
      ]
     },
     "execution_count": 51,
     "metadata": {},
     "output_type": "execute_result"
    }
   ],
   "source": [
    "df_DX_adapt.head()"
   ]
  },
  {
   "cell_type": "code",
   "execution_count": 50,
   "id": "younger-charleston",
   "metadata": {},
   "outputs": [
    {
     "data": {
      "text/plain": [
       "((2009, 13), (2012, 11))"
      ]
     },
     "execution_count": 50,
     "metadata": {},
     "output_type": "execute_result"
    }
   ],
   "source": [
    "df_FDG_ROI_npiq_DX=df_FDG_ROI_NPIQ.merge(df_DX_adapt,on=['RID','VISCODE2'])\n",
    "df_FDG_ROI_npiq_DX.shape,df_FDG_ROI_NPIQ.shape"
   ]
  },
  {
   "cell_type": "code",
   "execution_count": 52,
   "id": "auburn-terrorist",
   "metadata": {},
   "outputs": [
    {
     "data": {
      "text/html": [
       "<div>\n",
       "<style scoped>\n",
       "    .dataframe tbody tr th:only-of-type {\n",
       "        vertical-align: middle;\n",
       "    }\n",
       "\n",
       "    .dataframe tbody tr th {\n",
       "        vertical-align: top;\n",
       "    }\n",
       "\n",
       "    .dataframe thead th {\n",
       "        text-align: right;\n",
       "    }\n",
       "</style>\n",
       "<table border=\"1\" class=\"dataframe\">\n",
       "  <thead>\n",
       "    <tr style=\"text-align: right;\">\n",
       "      <th></th>\n",
       "      <th>RID</th>\n",
       "      <th>VISCODE2</th>\n",
       "      <th>MetaROI</th>\n",
       "      <th>Top50PonsVermis</th>\n",
       "      <th>ROInorm</th>\n",
       "      <th>Phase</th>\n",
       "      <th>NPID</th>\n",
       "      <th>VISDATE</th>\n",
       "      <th>VISDATE_dt</th>\n",
       "      <th>USERDATE</th>\n",
       "      <th>USERDATE_dt</th>\n",
       "      <th>EXAMDATE_dt</th>\n",
       "      <th>DX</th>\n",
       "    </tr>\n",
       "  </thead>\n",
       "  <tbody>\n",
       "    <tr>\n",
       "      <th>0</th>\n",
       "      <td>2</td>\n",
       "      <td>bl</td>\n",
       "      <td>1.252</td>\n",
       "      <td>0.937</td>\n",
       "      <td>1.336179</td>\n",
       "      <td>ADNI1</td>\n",
       "      <td>0.0</td>\n",
       "      <td>2005-09-08</td>\n",
       "      <td>2005-09-08</td>\n",
       "      <td>2005-09-09</td>\n",
       "      <td>2005-09-09</td>\n",
       "      <td>2005-09-29</td>\n",
       "      <td>NL</td>\n",
       "    </tr>\n",
       "    <tr>\n",
       "      <th>1</th>\n",
       "      <td>2</td>\n",
       "      <td>m06</td>\n",
       "      <td>1.333</td>\n",
       "      <td>1.090</td>\n",
       "      <td>1.222936</td>\n",
       "      <td>ADNI1</td>\n",
       "      <td>0.0</td>\n",
       "      <td>2006-03-06</td>\n",
       "      <td>2006-03-06</td>\n",
       "      <td>2006-03-07</td>\n",
       "      <td>2006-03-07</td>\n",
       "      <td>2006-03-06</td>\n",
       "      <td>NL</td>\n",
       "    </tr>\n",
       "    <tr>\n",
       "      <th>2</th>\n",
       "      <td>3</td>\n",
       "      <td>bl</td>\n",
       "      <td>1.222</td>\n",
       "      <td>1.102</td>\n",
       "      <td>1.108893</td>\n",
       "      <td>ADNI1</td>\n",
       "      <td>0.0</td>\n",
       "      <td>2005-09-12</td>\n",
       "      <td>2005-09-12</td>\n",
       "      <td>2005-09-13</td>\n",
       "      <td>2005-09-13</td>\n",
       "      <td>2005-09-30</td>\n",
       "      <td>AD</td>\n",
       "    </tr>\n",
       "    <tr>\n",
       "      <th>3</th>\n",
       "      <td>3</td>\n",
       "      <td>m06</td>\n",
       "      <td>1.195</td>\n",
       "      <td>1.109</td>\n",
       "      <td>1.077547</td>\n",
       "      <td>ADNI1</td>\n",
       "      <td>0.0</td>\n",
       "      <td>2006-03-13</td>\n",
       "      <td>2006-03-13</td>\n",
       "      <td>2006-03-13</td>\n",
       "      <td>2006-03-13</td>\n",
       "      <td>2006-03-13</td>\n",
       "      <td>AD</td>\n",
       "    </tr>\n",
       "    <tr>\n",
       "      <th>4</th>\n",
       "      <td>3</td>\n",
       "      <td>m12</td>\n",
       "      <td>1.186</td>\n",
       "      <td>1.062</td>\n",
       "      <td>1.116761</td>\n",
       "      <td>ADNI1</td>\n",
       "      <td>0.0</td>\n",
       "      <td>2006-09-12</td>\n",
       "      <td>2006-09-12</td>\n",
       "      <td>2006-09-12</td>\n",
       "      <td>2006-09-12</td>\n",
       "      <td>2006-09-13</td>\n",
       "      <td>AD</td>\n",
       "    </tr>\n",
       "  </tbody>\n",
       "</table>\n",
       "</div>"
      ],
      "text/plain": [
       "   RID VISCODE2  MetaROI  Top50PonsVermis   ROInorm  Phase  NPID     VISDATE  \\\n",
       "0    2       bl    1.252            0.937  1.336179  ADNI1   0.0  2005-09-08   \n",
       "1    2      m06    1.333            1.090  1.222936  ADNI1   0.0  2006-03-06   \n",
       "2    3       bl    1.222            1.102  1.108893  ADNI1   0.0  2005-09-12   \n",
       "3    3      m06    1.195            1.109  1.077547  ADNI1   0.0  2006-03-13   \n",
       "4    3      m12    1.186            1.062  1.116761  ADNI1   0.0  2006-09-12   \n",
       "\n",
       "  VISDATE_dt    USERDATE USERDATE_dt EXAMDATE_dt  DX  \n",
       "0 2005-09-08  2005-09-09  2005-09-09  2005-09-29  NL  \n",
       "1 2006-03-06  2006-03-07  2006-03-07  2006-03-06  NL  \n",
       "2 2005-09-12  2005-09-13  2005-09-13  2005-09-30  AD  \n",
       "3 2006-03-13  2006-03-13  2006-03-13  2006-03-13  AD  \n",
       "4 2006-09-12  2006-09-12  2006-09-12  2006-09-13  AD  "
      ]
     },
     "execution_count": 52,
     "metadata": {},
     "output_type": "execute_result"
    }
   ],
   "source": [
    "df_FDG_ROI_npiq_DX.head()"
   ]
  },
  {
   "cell_type": "code",
   "execution_count": 55,
   "id": "unlike-birthday",
   "metadata": {},
   "outputs": [],
   "source": [
    "df_FDG_ROI_npiq_DX.loc[df_FDG_ROI_npiq_DX['DX']=='MCI to AD','DX']='AD'\n",
    "df_FDG_ROI_npiq_DX.loc[df_FDG_ROI_npiq_DX['DX']=='NL to MCI','DX']='MCI'"
   ]
  },
  {
   "cell_type": "code",
   "execution_count": 58,
   "id": "perceived-columbia",
   "metadata": {},
   "outputs": [
    {
     "data": {
      "text/plain": [
       "DX   NPID\n",
       "AD   0.0     313\n",
       "     1.0     193\n",
       "MCI  0.0     737\n",
       "     1.0     222\n",
       "NL   0.0     472\n",
       "     1.0      43\n",
       "Name: ROInorm, dtype: int64"
      ]
     },
     "execution_count": 58,
     "metadata": {},
     "output_type": "execute_result"
    }
   ],
   "source": [
    "df_FDG_ROI_npiq_DX[(df_FDG_ROI_npiq_DX['DX'].isin(['NL','MCI','AD'])) & (df_FDG_ROI_npiq_DX['NPID'].isin([0,1]))].groupby(['DX','NPID']).ROInorm.count()"
   ]
  },
  {
   "cell_type": "code",
   "execution_count": 59,
   "id": "induced-penalty",
   "metadata": {},
   "outputs": [
    {
     "data": {
      "text/plain": [
       "DX   NPID\n",
       "AD   0.0     1.007670\n",
       "     1.0     1.019543\n",
       "MCI  0.0     1.178913\n",
       "     1.0     1.170802\n",
       "NL   0.0     1.263174\n",
       "     1.0     1.183447\n",
       "Name: ROInorm, dtype: float64"
      ]
     },
     "execution_count": 59,
     "metadata": {},
     "output_type": "execute_result"
    }
   ],
   "source": [
    "df_FDG_ROI_npiq_DX[(df_FDG_ROI_npiq_DX['DX'].isin(['NL','MCI','AD'])) & (df_FDG_ROI_npiq_DX['NPID'].isin([0,1]))].groupby(['DX','NPID']).ROInorm.mean()"
   ]
  },
  {
   "cell_type": "code",
   "execution_count": null,
   "id": "valued-guidance",
   "metadata": {},
   "outputs": [],
   "source": []
  }
 ],
 "metadata": {
  "kernelspec": {
   "display_name": "Python 3",
   "language": "python",
   "name": "python3"
  },
  "language_info": {
   "codemirror_mode": {
    "name": "ipython",
    "version": 3
   },
   "file_extension": ".py",
   "mimetype": "text/x-python",
   "name": "python",
   "nbconvert_exporter": "python",
   "pygments_lexer": "ipython3",
   "version": "3.8.8"
  }
 },
 "nbformat": 4,
 "nbformat_minor": 5
}
