{
 "cells": [
  {
   "cell_type": "code",
   "execution_count": 1,
   "id": "urban-bedroom",
   "metadata": {},
   "outputs": [
    {
     "name": "stderr",
     "output_type": "stream",
     "text": [
      "E:\\anaconda3\\envs\\tf\\lib\\site-packages\\scipy\\__init__.py:173: UserWarning: A NumPy version >=1.19.5 and <1.27.0 is required for this version of SciPy (detected version 1.19.2)\n",
      "  warnings.warn(f\"A NumPy version >={np_minversion} and <{np_maxversion}\"\n"
     ]
    }
   ],
   "source": [
    "# lstm model\n",
    "from numpy import mean\n",
    "from numpy import std\n",
    "from numpy import dstack\n",
    "from pandas import read_csv\n",
    "from keras.models import Sequential\n",
    "from keras.layers import Dense\n",
    "from keras.layers import Flatten\n",
    "from keras.layers import Dropout\n",
    "from keras.layers import LSTM\n",
    "from keras.utils import to_categorical\n",
    "from matplotlib import pyplot"
   ]
  },
  {
   "cell_type": "code",
   "execution_count": 2,
   "id": "contained-police",
   "metadata": {},
   "outputs": [],
   "source": [
    "import warnings\n",
    "warnings.filterwarnings('ignore')"
   ]
  },
  {
   "cell_type": "code",
   "execution_count": 3,
   "id": "terminal-scholarship",
   "metadata": {},
   "outputs": [],
   "source": [
    "import numpy as np\n",
    "import random\n",
    "import os\n",
    "import pandas as pd\n",
    "import seaborn as sns\n",
    "import matplotlib.pyplot as plt\n",
    "%matplotlib inline"
   ]
  },
  {
   "cell_type": "code",
   "execution_count": 4,
   "id": "looking-boston",
   "metadata": {},
   "outputs": [],
   "source": [
    "from sklearn.model_selection import train_test_split\n",
    "from sklearn.metrics import precision_score, recall_score, roc_auc_score, f1_score, confusion_matrix, ConfusionMatrixDisplay\n",
    "from sklearn.ensemble import RandomForestClassifier\n",
    "from sklearn.metrics import accuracy_score, classification_report"
   ]
  },
  {
   "cell_type": "code",
   "execution_count": 5,
   "id": "sapphire-honor",
   "metadata": {},
   "outputs": [
    {
     "data": {
      "text/plain": [
       "(3390, 32)"
      ]
     },
     "execution_count": 5,
     "metadata": {},
     "output_type": "execute_result"
    }
   ],
   "source": [
    "file_loc='../../ADNI_data/future_dx_prediction_alz_plos/'\n",
    "# df_all = pd.read_csv('step5_modified_mri_alz_future_prediction_plos.csv')\n",
    "df_all_step3 = pd.read_csv(file_loc + 'df_step3_addedmri_dep_fl.csv')\n",
    "df_all = pd.read_csv(file_loc + 'step5_modified_all_mri_imageidna_drop_alz_future_prediction_plos.csv')\n",
    "df_all.shape"
   ]
  },
  {
   "cell_type": "code",
   "execution_count": 6,
   "id": "collect-italy",
   "metadata": {},
   "outputs": [
    {
     "data": {
      "text/plain": [
       "Index(['RID', 'COLPROT', 'ORIGPROT', 'PTID', 'SITE', 'VISCODE', 'EXAMDATE',\n",
       "       'FLDSTRENG', 'FSVERSION', 'IMAGEUID', 'Years_bl', 'Month_bl', 'Month',\n",
       "       'M', 'update_stamp', 'AGE', 'PTGENDER', 'PTEDUCAT', 'PTETHCAT',\n",
       "       'PTRACCAT', 'PTMARRY', 'APOE4', 'CDRSB', 'FAQ', 'EcogPtMem',\n",
       "       'EcogPtLang', 'EcogPtVisspat', 'EcogPtPlan', 'EcogPtOrgan',\n",
       "       'EcogPtDivatt', 'EcogPtTotal', 'EcogSPMem', 'EcogSPLang',\n",
       "       'EcogSPVisspat', 'EcogSPPlan', 'EcogSPOrgan', 'EcogSPDivatt',\n",
       "       'EcogSPTotal', 'ADAS11', 'ADAS13', 'ADASQ4', 'MMSE', 'RAVLT_immediate',\n",
       "       'RAVLT_learning', 'RAVLT_forgetting', 'RAVLT_perc_forgetting',\n",
       "       'LDELTOTAL', 'DIGITSCOR', 'TRABSCOR', 'MOCA', 'mPACCdigit',\n",
       "       'mPACCtrailsB', 'ABETA', 'TAU', 'PTAU', 'FDG', 'PIB', 'AV45',\n",
       "       'Ventricles', 'Hippocampus', 'WholeBrain', 'Entorhinal', 'Fusiform',\n",
       "       'MidTemp', 'ICV', 'DX', 'FMonth_0', 'FMonth_1', 'FMonth_2', 'FMonth_3',\n",
       "       'FMonth_4', 'FMonth_5', 'FDX_0', 'FDX_1', 'FDX_2', 'FDX_3', 'FDX_4',\n",
       "       'FDX_5', 'TRAJ_LABEL', 'RightTemporalPole', 'RightParahippocampal',\n",
       "       'RightInferiorTemporal', 'RightInferiorParietal',\n",
       "       'RightIsthmusCingulate', 'RightBankssts', 'RightPrecuneus',\n",
       "       'RightAmygdala', 'RightAccumbensArea', 'RightMedialOrbitofrontal',\n",
       "       'RightPallidum', 'RightCaudalMiddleFrontal', 'RightPutamen',\n",
       "       'RightRostralAnteriorCingulate', 'RightParacentral', 'RightPrecentral',\n",
       "       'RightLingual', 'psycond', 'GDTOTAL'],\n",
       "      dtype='object')"
      ]
     },
     "execution_count": 6,
     "metadata": {},
     "output_type": "execute_result"
    }
   ],
   "source": [
    "df_all_step3.columns"
   ]
  },
  {
   "cell_type": "code",
   "execution_count": 7,
   "id": "alpha-founder",
   "metadata": {},
   "outputs": [],
   "source": [
    "df_pre_result = pd.read_csv('cm_list_fullmri_RNN_1d_1_full.csv')\n",
    "rdseed_pre_list = df_pre_result['rdseed_pre_list'].tolist()"
   ]
  },
  {
   "cell_type": "code",
   "execution_count": 8,
   "id": "auburn-dimension",
   "metadata": {},
   "outputs": [
    {
     "data": {
      "text/plain": [
       "(3381, 34)"
      ]
     },
     "execution_count": 8,
     "metadata": {},
     "output_type": "execute_result"
    }
   ],
   "source": [
    "df_all = df_all.merge(df_all_step3[['RID','AGE','MMSE']])\n",
    "df_all.shape"
   ]
  },
  {
   "cell_type": "code",
   "execution_count": 9,
   "id": "geological-interview",
   "metadata": {},
   "outputs": [],
   "source": [
    "df_all['age_norm'] = (df_all['AGE']-df_all['AGE'].mean())/df_all['AGE'].std()\n",
    "df_all['MMSE_norm'] = (df_all['MMSE']-df_all['MMSE'].mean())/df_all['MMSE'].std()"
   ]
  },
  {
   "cell_type": "code",
   "execution_count": 10,
   "id": "reserved-feedback",
   "metadata": {},
   "outputs": [],
   "source": [
    "# df_all_step3.columns"
   ]
  },
  {
   "cell_type": "code",
   "execution_count": 11,
   "id": "arranged-cookie",
   "metadata": {},
   "outputs": [],
   "source": [
    "feature_col_addmri=    [ 'RightParahippocampal', 'RightInferiorTemporal',\n",
    "       'RightInferiorParietal', 'RightIsthmusCingulate', 'RightBankssts',\n",
    "       'RightPrecuneus', 'RightAmygdala', 'RightAccumbensArea',\n",
    "       'RightMedialOrbitofrontal', 'RightPallidum', 'RightCaudalMiddleFrontal',\n",
    "       'RightPutamen', 'RightRostralAnteriorCingulate', 'RightParacentral',\n",
    "       'RightPrecentral', 'RightLingual' ]\n",
    "feature_target_col = ['Ventricles', 'Hippocampus', 'WholeBrain', 'Entorhinal', 'Fusiform','MidTemp', 'ICV','FollowupDX']\n",
    "feature_target_col = ['MMSE_norm'] +['age_norm'] + feature_target_col \n",
    "feature_col_2 = feature_col_addmri + feature_target_col\n",
    "# len(feature_col_addmri)"
   ]
  },
  {
   "cell_type": "code",
   "execution_count": 12,
   "id": "offensive-breast",
   "metadata": {},
   "outputs": [],
   "source": [
    "# data_cla_0 =df_all[(df_all['Yr_visit']==0) & ((df_all['DX']=='CN'))]\n",
    "data_cla_2 =df_all[(df_all['Yr_visit']==2) & ((df_all['DX']=='CN'))]"
   ]
  },
  {
   "cell_type": "code",
   "execution_count": 13,
   "id": "baking-moral",
   "metadata": {},
   "outputs": [],
   "source": [
    "df_fyear3_train = df_all[(df_all['TrainValTest'] == 'Train')&(df_all['FollowupYear'] == 5)&(df_all['DX'] == 'CN')]\n",
    "preprocessed_features_missingness_mask_T_year3_train = df_fyear3_train[df_fyear3_train.RID.isin(data_cla_2.RID.unique())][feature_col_2]\n",
    "df_fyear3_test = df_all[(df_all['TrainValTest'] == 'Test')&(df_all['FollowupYear'] == 5)&(df_all['DX'] == 'CN')]\n",
    "preprocessed_features_missingness_mask_T_year3_test = df_fyear3_test[df_fyear3_test.RID.isin(data_cla_2.RID.unique())][feature_col_2]\n",
    "df_fyear3_val = df_all[(df_all['TrainValTest'] == 'Val')&(df_all['FollowupYear'] == 5)&(df_all['DX'] == 'CN')]\n",
    "preprocessed_features_missingness_mask_T_year3_val = df_fyear3_val[df_fyear3_val.RID.isin(data_cla_2.RID.unique())][feature_col_2]"
   ]
  },
  {
   "cell_type": "code",
   "execution_count": 14,
   "id": "surrounded-apache",
   "metadata": {},
   "outputs": [
    {
     "data": {
      "text/html": [
       "<div>\n",
       "<style scoped>\n",
       "    .dataframe tbody tr th:only-of-type {\n",
       "        vertical-align: middle;\n",
       "    }\n",
       "\n",
       "    .dataframe tbody tr th {\n",
       "        vertical-align: top;\n",
       "    }\n",
       "\n",
       "    .dataframe thead th {\n",
       "        text-align: right;\n",
       "    }\n",
       "</style>\n",
       "<table border=\"1\" class=\"dataframe\">\n",
       "  <thead>\n",
       "    <tr style=\"text-align: right;\">\n",
       "      <th></th>\n",
       "      <th>RightParahippocampal</th>\n",
       "      <th>RightInferiorTemporal</th>\n",
       "      <th>RightInferiorParietal</th>\n",
       "      <th>RightIsthmusCingulate</th>\n",
       "      <th>RightBankssts</th>\n",
       "      <th>RightPrecuneus</th>\n",
       "      <th>RightAmygdala</th>\n",
       "      <th>RightAccumbensArea</th>\n",
       "      <th>RightMedialOrbitofrontal</th>\n",
       "      <th>RightPallidum</th>\n",
       "      <th>...</th>\n",
       "      <th>MMSE_norm</th>\n",
       "      <th>age_norm</th>\n",
       "      <th>Ventricles</th>\n",
       "      <th>Hippocampus</th>\n",
       "      <th>WholeBrain</th>\n",
       "      <th>Entorhinal</th>\n",
       "      <th>Fusiform</th>\n",
       "      <th>MidTemp</th>\n",
       "      <th>ICV</th>\n",
       "      <th>FollowupDX</th>\n",
       "    </tr>\n",
       "  </thead>\n",
       "  <tbody>\n",
       "    <tr>\n",
       "      <th>90</th>\n",
       "      <td>-0.211239</td>\n",
       "      <td>2.042429</td>\n",
       "      <td>1.494444</td>\n",
       "      <td>1.382734</td>\n",
       "      <td>-0.270029</td>\n",
       "      <td>-0.637940</td>\n",
       "      <td>1.828381</td>\n",
       "      <td>2.368334</td>\n",
       "      <td>0.665861</td>\n",
       "      <td>0.596508</td>\n",
       "      <td>...</td>\n",
       "      <td>-0.219303</td>\n",
       "      <td>-0.514165</td>\n",
       "      <td>-0.396759</td>\n",
       "      <td>1.095617</td>\n",
       "      <td>0.375022</td>\n",
       "      <td>1.208398</td>\n",
       "      <td>0.899075</td>\n",
       "      <td>1.186387</td>\n",
       "      <td>-0.024926</td>\n",
       "      <td>CN</td>\n",
       "    </tr>\n",
       "    <tr>\n",
       "      <th>91</th>\n",
       "      <td>-0.425309</td>\n",
       "      <td>2.453615</td>\n",
       "      <td>1.158252</td>\n",
       "      <td>0.826335</td>\n",
       "      <td>-1.413502</td>\n",
       "      <td>-0.618227</td>\n",
       "      <td>1.267068</td>\n",
       "      <td>1.845675</td>\n",
       "      <td>1.693179</td>\n",
       "      <td>1.270372</td>\n",
       "      <td>...</td>\n",
       "      <td>-0.219303</td>\n",
       "      <td>-0.514165</td>\n",
       "      <td>-0.432216</td>\n",
       "      <td>0.718853</td>\n",
       "      <td>0.360172</td>\n",
       "      <td>1.304657</td>\n",
       "      <td>0.679555</td>\n",
       "      <td>1.572723</td>\n",
       "      <td>-0.128111</td>\n",
       "      <td>CN</td>\n",
       "    </tr>\n",
       "    <tr>\n",
       "      <th>92</th>\n",
       "      <td>-0.335338</td>\n",
       "      <td>2.551874</td>\n",
       "      <td>1.297844</td>\n",
       "      <td>1.086335</td>\n",
       "      <td>-0.839068</td>\n",
       "      <td>-1.011659</td>\n",
       "      <td>1.495603</td>\n",
       "      <td>3.050990</td>\n",
       "      <td>1.092683</td>\n",
       "      <td>0.983525</td>\n",
       "      <td>...</td>\n",
       "      <td>-0.219303</td>\n",
       "      <td>-0.514165</td>\n",
       "      <td>-0.448063</td>\n",
       "      <td>1.072136</td>\n",
       "      <td>0.372410</td>\n",
       "      <td>0.375708</td>\n",
       "      <td>0.679022</td>\n",
       "      <td>0.612283</td>\n",
       "      <td>-0.008029</td>\n",
       "      <td>CN</td>\n",
       "    </tr>\n",
       "    <tr>\n",
       "      <th>141</th>\n",
       "      <td>0.821881</td>\n",
       "      <td>1.678183</td>\n",
       "      <td>0.925422</td>\n",
       "      <td>0.776935</td>\n",
       "      <td>2.027703</td>\n",
       "      <td>0.192456</td>\n",
       "      <td>-0.031969</td>\n",
       "      <td>0.832357</td>\n",
       "      <td>0.542229</td>\n",
       "      <td>0.077451</td>\n",
       "      <td>...</td>\n",
       "      <td>0.992237</td>\n",
       "      <td>-0.111038</td>\n",
       "      <td>0.262636</td>\n",
       "      <td>0.375141</td>\n",
       "      <td>1.221344</td>\n",
       "      <td>0.548680</td>\n",
       "      <td>0.050940</td>\n",
       "      <td>0.911834</td>\n",
       "      <td>1.625441</td>\n",
       "      <td>MCI</td>\n",
       "    </tr>\n",
       "    <tr>\n",
       "      <th>142</th>\n",
       "      <td>0.074187</td>\n",
       "      <td>1.037310</td>\n",
       "      <td>0.932348</td>\n",
       "      <td>0.753535</td>\n",
       "      <td>1.396636</td>\n",
       "      <td>0.105392</td>\n",
       "      <td>0.493259</td>\n",
       "      <td>0.907022</td>\n",
       "      <td>0.188997</td>\n",
       "      <td>0.113876</td>\n",
       "      <td>...</td>\n",
       "      <td>0.992237</td>\n",
       "      <td>-0.111038</td>\n",
       "      <td>0.410745</td>\n",
       "      <td>0.401336</td>\n",
       "      <td>1.073782</td>\n",
       "      <td>1.988435</td>\n",
       "      <td>-0.481186</td>\n",
       "      <td>0.468236</td>\n",
       "      <td>1.573915</td>\n",
       "      <td>MCI</td>\n",
       "    </tr>\n",
       "  </tbody>\n",
       "</table>\n",
       "<p>5 rows × 26 columns</p>\n",
       "</div>"
      ],
      "text/plain": [
       "     RightParahippocampal  RightInferiorTemporal  RightInferiorParietal  \\\n",
       "90              -0.211239               2.042429               1.494444   \n",
       "91              -0.425309               2.453615               1.158252   \n",
       "92              -0.335338               2.551874               1.297844   \n",
       "141              0.821881               1.678183               0.925422   \n",
       "142              0.074187               1.037310               0.932348   \n",
       "\n",
       "     RightIsthmusCingulate  RightBankssts  RightPrecuneus  RightAmygdala  \\\n",
       "90                1.382734      -0.270029       -0.637940       1.828381   \n",
       "91                0.826335      -1.413502       -0.618227       1.267068   \n",
       "92                1.086335      -0.839068       -1.011659       1.495603   \n",
       "141               0.776935       2.027703        0.192456      -0.031969   \n",
       "142               0.753535       1.396636        0.105392       0.493259   \n",
       "\n",
       "     RightAccumbensArea  RightMedialOrbitofrontal  RightPallidum  ...  \\\n",
       "90             2.368334                  0.665861       0.596508  ...   \n",
       "91             1.845675                  1.693179       1.270372  ...   \n",
       "92             3.050990                  1.092683       0.983525  ...   \n",
       "141            0.832357                  0.542229       0.077451  ...   \n",
       "142            0.907022                  0.188997       0.113876  ...   \n",
       "\n",
       "     MMSE_norm  age_norm  Ventricles  Hippocampus  WholeBrain  Entorhinal  \\\n",
       "90   -0.219303 -0.514165   -0.396759     1.095617    0.375022    1.208398   \n",
       "91   -0.219303 -0.514165   -0.432216     0.718853    0.360172    1.304657   \n",
       "92   -0.219303 -0.514165   -0.448063     1.072136    0.372410    0.375708   \n",
       "141   0.992237 -0.111038    0.262636     0.375141    1.221344    0.548680   \n",
       "142   0.992237 -0.111038    0.410745     0.401336    1.073782    1.988435   \n",
       "\n",
       "     Fusiform   MidTemp       ICV  FollowupDX  \n",
       "90   0.899075  1.186387 -0.024926          CN  \n",
       "91   0.679555  1.572723 -0.128111          CN  \n",
       "92   0.679022  0.612283 -0.008029          CN  \n",
       "141  0.050940  0.911834  1.625441         MCI  \n",
       "142 -0.481186  0.468236  1.573915         MCI  \n",
       "\n",
       "[5 rows x 26 columns]"
      ]
     },
     "execution_count": 14,
     "metadata": {},
     "output_type": "execute_result"
    }
   ],
   "source": [
    "preprocessed_features_missingness_mask_T_year3_val.head()"
   ]
  },
  {
   "cell_type": "code",
   "execution_count": 15,
   "id": "peripheral-recall",
   "metadata": {},
   "outputs": [],
   "source": [
    "# data_cla_2[(data_cla_2['RID'].isin(data_cla_2[data_cla_2['FollowupDX']=='MCI'].RID.unique()))&(data_cla_2['FollowupYear']==5)]"
   ]
  },
  {
   "cell_type": "code",
   "execution_count": 16,
   "id": "generic-marking",
   "metadata": {},
   "outputs": [],
   "source": [
    "data=[]\n",
    "history_size=3\n",
    "# step=3\n",
    "for i in range(3,int((preprocessed_features_missingness_mask_T_year3_train.shape[0])+1),3):\n",
    "    indices = range(i-history_size, i)\n",
    "#     print(indices)\n",
    "    data.append(preprocessed_features_missingness_mask_T_year3_train.values[indices])\n",
    "data_train=np.array(data)\n",
    "\n",
    "data=[]\n",
    "history_size=3\n",
    "for i in range(3,int((preprocessed_features_missingness_mask_T_year3_test.shape[0])+1),3):\n",
    "    indices = range(i-history_size, i)\n",
    "#     print(indices)\n",
    "    data.append(preprocessed_features_missingness_mask_T_year3_test.values[indices])\n",
    "data_test=np.array(data)\n",
    "\n",
    "data=[]\n",
    "history_size=3\n",
    "step=6\n",
    "for i in range(3,int((preprocessed_features_missingness_mask_T_year3_val.shape[0])+1),3):\n",
    "    indices = range(i-history_size, i)\n",
    "#     print(indices)\n",
    "    data.append(preprocessed_features_missingness_mask_T_year3_val.values[indices])\n",
    "data_val=np.array(data)"
   ]
  },
  {
   "cell_type": "code",
   "execution_count": 17,
   "id": "compact-sharp",
   "metadata": {},
   "outputs": [
    {
     "data": {
      "text/plain": [
       "((47, 3, 26), (22, 3, 26), (17, 3, 26))"
      ]
     },
     "execution_count": 17,
     "metadata": {},
     "output_type": "execute_result"
    }
   ],
   "source": [
    "data_train.shape,data_test.shape,data_val.shape"
   ]
  },
  {
   "cell_type": "code",
   "execution_count": 18,
   "id": "dried-poster",
   "metadata": {},
   "outputs": [
    {
     "data": {
      "text/plain": [
       "(223, 0.5739910313901345, 0.21973094170403587, 157, 86)"
      ]
     },
     "execution_count": 18,
     "metadata": {},
     "output_type": "execute_result"
    }
   ],
   "source": [
    "128+49+46,128/223,49/223,90+35+32, 47+22+17"
   ]
  },
  {
   "cell_type": "code",
   "execution_count": 19,
   "id": "boring-retirement",
   "metadata": {},
   "outputs": [
    {
     "data": {
      "text/plain": [
       "(86, 3, 26)"
      ]
     },
     "execution_count": 19,
     "metadata": {},
     "output_type": "execute_result"
    }
   ],
   "source": [
    "data_all = np.concatenate((data_train, data_val, data_test))\n",
    "data_all.shape"
   ]
  },
  {
   "cell_type": "code",
   "execution_count": 20,
   "id": "upper-patient",
   "metadata": {},
   "outputs": [
    {
     "data": {
      "text/plain": [
       "((86, 3, 25), (86,))"
      ]
     },
     "execution_count": 20,
     "metadata": {},
     "output_type": "execute_result"
    }
   ],
   "source": [
    "X=data_all[:,:,0:-1].astype('float64')\n",
    "y_pre =data_all[:,:,-1]\n",
    "y =y_pre[:,1]\n",
    "X.shape,y.shape"
   ]
  },
  {
   "cell_type": "code",
   "execution_count": 21,
   "id": "plain-phenomenon",
   "metadata": {},
   "outputs": [
    {
     "data": {
      "text/plain": [
       "18"
      ]
     },
     "execution_count": 21,
     "metadata": {},
     "output_type": "execute_result"
    }
   ],
   "source": [
    "# mapping = {'MCI': 0, 'Dementia': 1}\n",
    "# y_train_single=pd.DataFrame(y_train_single).replace({0: mapping})[0].values\n",
    "\n",
    "# mapping = {'CN': 0, 'MCI': 1}\n",
    "# y_train_single=pd.DataFrame(y_train_single).replace({0: mapping})[0].values\n",
    "\n",
    "mapping = {'CN': 0, 'MCI': 1}\n",
    "y=pd.DataFrame(y).replace({0: mapping})[0].values\n",
    "y.sum()"
   ]
  },
  {
   "cell_type": "code",
   "execution_count": 22,
   "id": "consolidated-desktop",
   "metadata": {},
   "outputs": [],
   "source": [
    "x_train_single, x_test_single, y_train_single, y_test_single = train_test_split(X.astype(np.float), y, test_size=0.2, shuffle=True, random_state=4)\n"
   ]
  },
  {
   "cell_type": "code",
   "execution_count": 23,
   "id": "bibliographic-great",
   "metadata": {},
   "outputs": [
    {
     "data": {
      "text/plain": [
       "(64, 3, 26)"
      ]
     },
     "execution_count": 23,
     "metadata": {},
     "output_type": "execute_result"
    }
   ],
   "source": [
    "data_train_val = np.concatenate((data_train, data_val))\n",
    "data_train_val.shape"
   ]
  },
  {
   "cell_type": "code",
   "execution_count": 24,
   "id": "tight-framework",
   "metadata": {},
   "outputs": [
    {
     "data": {
      "text/plain": [
       "((68, 3, 25), (68,), 13)"
      ]
     },
     "execution_count": 24,
     "metadata": {},
     "output_type": "execute_result"
    }
   ],
   "source": [
    "# x_train_single=data_train[:,:,0:-1].astype('float64')\n",
    "# y_train_single_pre =data_train[:,:,-1]\n",
    "# y_train_single =y_train_single_pre[:,1]\n",
    "# x_train_single.shape,y_train_single.shape\n",
    "\n",
    "# x_train_single=data_train_val[:,:,0:-1].astype('float64')\n",
    "# y_train_single_pre =data_train_val[:,:,-1]\n",
    "# y_train_single =y_train_single_pre[:,1]\n",
    "x_train_single.shape,y_train_single.shape,y_train_single.sum()"
   ]
  },
  {
   "cell_type": "code",
   "execution_count": 25,
   "id": "personalized-texture",
   "metadata": {},
   "outputs": [
    {
     "data": {
      "text/plain": [
       "array([0, 1, 0, 0, 0, 0, 0, 0, 1, 0, 0, 0, 0, 0, 0, 1, 0, 0, 0, 1, 0, 0,\n",
       "       0, 1, 1, 0, 1, 0, 0, 0, 0, 1, 0, 0, 0, 1, 1, 0, 0, 0, 0, 0, 0, 0,\n",
       "       0, 0, 0, 0, 0, 0, 0, 0, 0, 0, 0, 0, 1, 1, 0, 0, 0, 0, 0, 0, 0, 0,\n",
       "       1, 0], dtype=int64)"
      ]
     },
     "execution_count": 25,
     "metadata": {},
     "output_type": "execute_result"
    }
   ],
   "source": [
    "y_train_single"
   ]
  },
  {
   "cell_type": "code",
   "execution_count": 26,
   "id": "intense-failing",
   "metadata": {},
   "outputs": [],
   "source": [
    "# y_train_single"
   ]
  },
  {
   "cell_type": "code",
   "execution_count": 27,
   "id": "upset-locking",
   "metadata": {},
   "outputs": [],
   "source": [
    "# mapping = {'CN': 0, 'MCI': 1}\n",
    "# y_train_single=pd.DataFrame(y_train_single).replace({0: mapping})[0].values\n"
   ]
  },
  {
   "cell_type": "code",
   "execution_count": 28,
   "id": "patient-tunisia",
   "metadata": {},
   "outputs": [
    {
     "data": {
      "text/plain": [
       "((18, 3, 25), (18,), 5)"
      ]
     },
     "execution_count": 28,
     "metadata": {},
     "output_type": "execute_result"
    }
   ],
   "source": [
    "# x_test_single=data_test[:,:,0:-1].astype('float64')\n",
    "# y_test_single_pre =data_test[:,:,-1]\n",
    "# y_test_single =y_test_single_pre[:,1]\n",
    "x_test_single.shape,y_test_single.shape,y_test_single.sum()"
   ]
  },
  {
   "cell_type": "code",
   "execution_count": 29,
   "id": "meaningful-audit",
   "metadata": {},
   "outputs": [],
   "source": [
    "# mapping = {'MCI': 0, 'Dementia': 1}\n",
    "# y_test_single=pd.DataFrame(y_test_single).replace({0: mapping})[0].values\n",
    "\n",
    "# mapping = {'CN': 0, 'MCI': 1}\n",
    "# y_test_single=pd.DataFrame(y_test_single).replace({0: mapping})[0].values"
   ]
  },
  {
   "cell_type": "code",
   "execution_count": 30,
   "id": "moral-korea",
   "metadata": {},
   "outputs": [],
   "source": [
    "# x_val_single=data_val[:,:,0:-1].astype('float64')\n",
    "# y_val_single_pre =data_val[:,:,-1]\n",
    "# y_val_single =y_val_single_pre[:,1]\n",
    "# print(x_val_single.shape)\n",
    "# y_val_single.shape"
   ]
  },
  {
   "cell_type": "code",
   "execution_count": 31,
   "id": "nonprofit-christopher",
   "metadata": {},
   "outputs": [],
   "source": [
    "# mapping = {'MCI': 0, 'Dementia': 1}\n",
    "# y_val_single=pd.DataFrame(y_val_single).replace({0: mapping})[0].values"
   ]
  },
  {
   "cell_type": "code",
   "execution_count": 32,
   "id": "swedish-cookbook",
   "metadata": {},
   "outputs": [],
   "source": [
    "# one hot encode y\n",
    "# y_train_single = to_categorical(y_train_single)\n",
    "# y_test_single = to_categorical(y_test_single)"
   ]
  },
  {
   "cell_type": "code",
   "execution_count": 33,
   "id": "friendly-suggestion",
   "metadata": {},
   "outputs": [],
   "source": [
    "from sklearn.utils.class_weight import compute_class_weight\n",
    "weights = compute_class_weight(class_weight = \"balanced\", classes= np.unique(y_train_single), y= y_train_single)\n"
   ]
  },
  {
   "cell_type": "code",
   "execution_count": 34,
   "id": "rational-middle",
   "metadata": {},
   "outputs": [
    {
     "data": {
      "text/plain": [
       "{0: 0.6181818181818182, 1: 2.6153846153846154}"
      ]
     },
     "execution_count": 34,
     "metadata": {},
     "output_type": "execute_result"
    }
   ],
   "source": [
    "weights_dict={0: weights[0], 1: weights[1]}\n",
    "weights_dict"
   ]
  },
  {
   "cell_type": "code",
   "execution_count": 35,
   "id": "tamil-russell",
   "metadata": {},
   "outputs": [
    {
     "name": "stdout",
     "output_type": "stream",
     "text": [
      "Epoch 1/10\n",
      "5/5 [==============================] - 0s 34ms/step - loss: 0.6893 - accuracy: 0.4853\n",
      "Epoch 2/10\n",
      "5/5 [==============================] - 0s 13ms/step - loss: 0.6685 - accuracy: 0.5735\n",
      "Epoch 3/10\n",
      "5/5 [==============================] - 0s 16ms/step - loss: 0.6290 - accuracy: 0.8088\n",
      "Epoch 4/10\n",
      "5/5 [==============================] - 0s 12ms/step - loss: 0.6147 - accuracy: 0.8529\n",
      "Epoch 5/10\n",
      "5/5 [==============================] - 0s 14ms/step - loss: 0.6025 - accuracy: 0.8235\n",
      "Epoch 6/10\n",
      "5/5 [==============================] - 0s 25ms/step - loss: 0.5545 - accuracy: 0.8529\n",
      "Epoch 7/10\n",
      "5/5 [==============================] - 0s 50ms/step - loss: 0.5380 - accuracy: 0.7794\n",
      "Epoch 8/10\n",
      "5/5 [==============================] - 0s 35ms/step - loss: 0.5309 - accuracy: 0.7941\n",
      "Epoch 9/10\n",
      "5/5 [==============================] - 0s 31ms/step - loss: 0.4961 - accuracy: 0.8676\n",
      "Epoch 10/10\n",
      "5/5 [==============================] - 0s 32ms/step - loss: 0.4738 - accuracy: 0.7647\n"
     ]
    },
    {
     "data": {
      "text/plain": [
       "<tensorflow.python.keras.callbacks.History at 0x1e537490>"
      ]
     },
     "execution_count": 35,
     "metadata": {},
     "output_type": "execute_result"
    }
   ],
   "source": [
    "verbose, epochs, batch_size = 1, 10, 16\n",
    "n_timesteps, n_features, n_outputs = x_train_single.shape[1], x_train_single.shape[2], 1\n",
    "model = Sequential()\n",
    "model.add(LSTM(100, input_shape=(n_timesteps,n_features)))\n",
    "model.add(Dropout(0.5))\n",
    "model.add(Dense(100, activation='relu'))\n",
    "model.add(Dense(1, activation='sigmoid'))\n",
    "# model.compile(loss='categorical_crossentropy', optimizer='adam', metrics=['accuracy'])\n",
    "model.compile(loss='binary_crossentropy', optimizer='adam', metrics=['accuracy'])\n",
    "# fit network\n",
    "model.fit(x_train_single, y_train_single, epochs=epochs, batch_size=batch_size, class_weight=weights_dict,verbose=verbose)\n"
   ]
  },
  {
   "cell_type": "code",
   "execution_count": 36,
   "id": "civil-glory",
   "metadata": {},
   "outputs": [
    {
     "data": {
      "text/plain": [
       "0.6111111044883728"
      ]
     },
     "execution_count": 36,
     "metadata": {},
     "output_type": "execute_result"
    }
   ],
   "source": [
    "_, accuracy = model.evaluate(x_test_single, y_test_single, batch_size=batch_size, verbose=0)\n",
    "accuracy"
   ]
  },
  {
   "cell_type": "code",
   "execution_count": 37,
   "id": "intended-boards",
   "metadata": {},
   "outputs": [],
   "source": [
    "# _, accuracy = model.evaluate(x_val_single, y_val_single, batch_size=batch_size, verbose=0)\n",
    "# accuracy"
   ]
  },
  {
   "cell_type": "code",
   "execution_count": 38,
   "id": "extraordinary-rebound",
   "metadata": {},
   "outputs": [
    {
     "data": {
      "text/plain": [
       "0.8529411554336548"
      ]
     },
     "execution_count": 38,
     "metadata": {},
     "output_type": "execute_result"
    }
   ],
   "source": [
    "_, accuracy = model.evaluate(x_train_single, y_train_single, batch_size=batch_size, verbose=0)\n",
    "accuracy"
   ]
  },
  {
   "cell_type": "code",
   "execution_count": 39,
   "id": "coral-donor",
   "metadata": {},
   "outputs": [],
   "source": [
    "y_predict=model.predict(x_test_single)\n",
    "# y_predict=model.predict(x_val_single)"
   ]
  },
  {
   "cell_type": "code",
   "execution_count": 40,
   "id": "acceptable-accuracy",
   "metadata": {},
   "outputs": [
    {
     "data": {
      "text/plain": [
       "((18, 1), (18,), 5)"
      ]
     },
     "execution_count": 40,
     "metadata": {},
     "output_type": "execute_result"
    }
   ],
   "source": [
    "pd.DataFrame(y_predict).shape,y_test_single.shape,y_test_single.sum()\n",
    "# pd.DataFrame(y_predict).shape,y_val_single.shape"
   ]
  },
  {
   "cell_type": "code",
   "execution_count": 41,
   "id": "considerable-slovenia",
   "metadata": {},
   "outputs": [
    {
     "data": {
      "text/html": [
       "<div>\n",
       "<style scoped>\n",
       "    .dataframe tbody tr th:only-of-type {\n",
       "        vertical-align: middle;\n",
       "    }\n",
       "\n",
       "    .dataframe tbody tr th {\n",
       "        vertical-align: top;\n",
       "    }\n",
       "\n",
       "    .dataframe thead th {\n",
       "        text-align: right;\n",
       "    }\n",
       "</style>\n",
       "<table border=\"1\" class=\"dataframe\">\n",
       "  <thead>\n",
       "    <tr style=\"text-align: right;\">\n",
       "      <th></th>\n",
       "      <th>observed</th>\n",
       "      <th>predict</th>\n",
       "    </tr>\n",
       "  </thead>\n",
       "  <tbody>\n",
       "    <tr>\n",
       "      <th>0</th>\n",
       "      <td>1</td>\n",
       "      <td>1.0</td>\n",
       "    </tr>\n",
       "    <tr>\n",
       "      <th>1</th>\n",
       "      <td>0</td>\n",
       "      <td>0.0</td>\n",
       "    </tr>\n",
       "    <tr>\n",
       "      <th>2</th>\n",
       "      <td>0</td>\n",
       "      <td>0.0</td>\n",
       "    </tr>\n",
       "    <tr>\n",
       "      <th>3</th>\n",
       "      <td>0</td>\n",
       "      <td>0.0</td>\n",
       "    </tr>\n",
       "    <tr>\n",
       "      <th>4</th>\n",
       "      <td>1</td>\n",
       "      <td>0.0</td>\n",
       "    </tr>\n",
       "  </tbody>\n",
       "</table>\n",
       "</div>"
      ],
      "text/plain": [
       "   observed  predict\n",
       "0         1      1.0\n",
       "1         0      0.0\n",
       "2         0      0.0\n",
       "3         0      0.0\n",
       "4         1      0.0"
      ]
     },
     "execution_count": 41,
     "metadata": {},
     "output_type": "execute_result"
    }
   ],
   "source": [
    "# df_test_results=pd.DataFrame(y_test_single[:,0],np.round(pd.DataFrame(y_predict))).rename(columns={0:'observed'}).reset_index().rename(columns={0:'predict'})\n",
    "df_test_results=pd.concat([pd.DataFrame(y_test_single).rename(columns={0:'observed'}),np.round(pd.DataFrame(y_predict)).rename(columns={0:'predict'})],axis=1)\n",
    "# df_test_results=pd.concat([pd.DataFrame(y_val_single).rename(columns={0:'observed'}),np.round(pd.DataFrame(y_predict)).rename(columns={0:'predict'})],axis=1)\n",
    "\n",
    "df_test_results.head()"
   ]
  },
  {
   "cell_type": "code",
   "execution_count": 42,
   "id": "vanilla-approval",
   "metadata": {},
   "outputs": [
    {
     "data": {
      "image/png": "[encoded data removed]",
      "text/plain": [
       "<Figure size 432x288 with 2 Axes>"
      ]
     },
     "metadata": {
      "needs_background": "light"
     },
     "output_type": "display_data"
    }
   ],
   "source": [
    "fix, ax = plt.subplots(figsize=(6, 4))\n",
    "cm = confusion_matrix(df_test_results['observed'], df_test_results['predict'])\n",
    "sns.heatmap(cm, annot=True, cmap=\"Blues\", fmt=\".1f\", ax=ax)\n",
    "ax.set_xlabel(\"Predicted Labels\")\n",
    "ax.set_ylabel(\"True Labels\")\n",
    "ax.set_title('Confusion Matrix')\n",
    "plt.show()"
   ]
  },
  {
   "cell_type": "code",
   "execution_count": 43,
   "id": "infrared-manchester",
   "metadata": {},
   "outputs": [
    {
     "name": "stdout",
     "output_type": "stream",
     "text": [
      "Accuracy:  0.6111111111111112\n",
      "              precision    recall  f1-score   support\n",
      "\n",
      "           0       0.75      0.69      0.72        13\n",
      "           1       0.33      0.40      0.36         5\n",
      "\n",
      "    accuracy                           0.61        18\n",
      "   macro avg       0.54      0.55      0.54        18\n",
      "weighted avg       0.63      0.61      0.62        18\n",
      "\n"
     ]
    }
   ],
   "source": [
    "print(\"Accuracy: \", accuracy_score(df_test_results['observed'], df_test_results['predict']))\n",
    "print(classification_report(df_test_results['observed'], df_test_results['predict']))"
   ]
  },
  {
   "cell_type": "code",
   "execution_count": 44,
   "id": "independent-chance",
   "metadata": {},
   "outputs": [],
   "source": [
    "# y.sum()"
   ]
  },
  {
   "cell_type": "code",
   "execution_count": null,
   "id": "based-mystery",
   "metadata": {},
   "outputs": [],
   "source": []
  },
  {
   "cell_type": "code",
   "execution_count": 45,
   "id": "overall-things",
   "metadata": {},
   "outputs": [
    {
     "name": "stdout",
     "output_type": "stream",
     "text": [
      "154\n",
      "[[12  3]\n",
      " [ 0  3]]\n",
      ">#1: 44.444\n",
      "9283\n",
      "[[11  2]\n",
      " [ 3  2]]\n",
      ">#2: 50.000\n",
      "5843\n",
      "[[13  2]\n",
      " [ 1  2]]\n",
      ">#3: 77.778\n",
      "3650\n",
      "WARNING:tensorflow:5 out of the last 14 calls to <function Model.make_test_function.<locals>.test_function at 0x0000000022ED9E50> triggered tf.function retracing. Tracing is expensive and the excessive number of tracings could be due to (1) creating @tf.function repeatedly in a loop, (2) passing tensors with different shapes, (3) passing Python objects instead of tensors. For (1), please define your @tf.function outside of the loop. For (2), @tf.function has experimental_relax_shapes=True option that relaxes argument shapes that can avoid unnecessary retracing. For (3), please refer to https://www.tensorflow.org/tutorials/customization/performance#python_or_tensor_args and https://www.tensorflow.org/api_docs/python/tf/function for  more details.\n",
      "[[8 4]\n",
      " [1 5]]\n",
      ">#4: 38.889\n",
      "760\n",
      "WARNING:tensorflow:6 out of the last 16 calls to <function Model.make_test_function.<locals>.test_function at 0x000000002E1F5C10> triggered tf.function retracing. Tracing is expensive and the excessive number of tracings could be due to (1) creating @tf.function repeatedly in a loop, (2) passing tensors with different shapes, (3) passing Python objects instead of tensors. For (1), please define your @tf.function outside of the loop. For (2), @tf.function has experimental_relax_shapes=True option that relaxes argument shapes that can avoid unnecessary retracing. For (3), please refer to https://www.tensorflow.org/tutorials/customization/performance#python_or_tensor_args and https://www.tensorflow.org/api_docs/python/tf/function for  more details.\n",
      "[[10  3]\n",
      " [ 3  2]]\n",
      ">#5: 61.111\n",
      "3704\n",
      "WARNING:tensorflow:6 out of the last 11 calls to <function Model.make_test_function.<locals>.test_function at 0x000000002335B940> triggered tf.function retracing. Tracing is expensive and the excessive number of tracings could be due to (1) creating @tf.function repeatedly in a loop, (2) passing tensors with different shapes, (3) passing Python objects instead of tensors. For (1), please define your @tf.function outside of the loop. For (2), @tf.function has experimental_relax_shapes=True option that relaxes argument shapes that can avoid unnecessary retracing. For (3), please refer to https://www.tensorflow.org/tutorials/customization/performance#python_or_tensor_args and https://www.tensorflow.org/api_docs/python/tf/function for  more details.\n",
      "[[13  2]\n",
      " [ 2  1]]\n",
      ">#6: 77.778\n",
      "4929\n",
      "WARNING:tensorflow:6 out of the last 11 calls to <function Model.make_test_function.<locals>.test_function at 0x000000001FCD2CA0> triggered tf.function retracing. Tracing is expensive and the excessive number of tracings could be due to (1) creating @tf.function repeatedly in a loop, (2) passing tensors with different shapes, (3) passing Python objects instead of tensors. For (1), please define your @tf.function outside of the loop. For (2), @tf.function has experimental_relax_shapes=True option that relaxes argument shapes that can avoid unnecessary retracing. For (3), please refer to https://www.tensorflow.org/tutorials/customization/performance#python_or_tensor_args and https://www.tensorflow.org/api_docs/python/tf/function for  more details.\n",
      "[[15  0]\n",
      " [ 0  3]]\n",
      ">#7: 61.111\n",
      "2632\n",
      "WARNING:tensorflow:6 out of the last 11 calls to <function Model.make_test_function.<locals>.test_function at 0x000000002319A0D0> triggered tf.function retracing. Tracing is expensive and the excessive number of tracings could be due to (1) creating @tf.function repeatedly in a loop, (2) passing tensors with different shapes, (3) passing Python objects instead of tensors. For (1), please define your @tf.function outside of the loop. For (2), @tf.function has experimental_relax_shapes=True option that relaxes argument shapes that can avoid unnecessary retracing. For (3), please refer to https://www.tensorflow.org/tutorials/customization/performance#python_or_tensor_args and https://www.tensorflow.org/api_docs/python/tf/function for  more details.\n",
      "[[9 3]\n",
      " [0 6]]\n",
      ">#8: 61.111\n",
      "1882\n",
      "WARNING:tensorflow:6 out of the last 11 calls to <function Model.make_test_function.<locals>.test_function at 0x000000001EB75F70> triggered tf.function retracing. Tracing is expensive and the excessive number of tracings could be due to (1) creating @tf.function repeatedly in a loop, (2) passing tensors with different shapes, (3) passing Python objects instead of tensors. For (1), please define your @tf.function outside of the loop. For (2), @tf.function has experimental_relax_shapes=True option that relaxes argument shapes that can avoid unnecessary retracing. For (3), please refer to https://www.tensorflow.org/tutorials/customization/performance#python_or_tensor_args and https://www.tensorflow.org/api_docs/python/tf/function for  more details.\n",
      "[[13  3]\n",
      " [ 0  2]]\n",
      ">#9: 66.667\n",
      "8268\n",
      "WARNING:tensorflow:6 out of the last 11 calls to <function Model.make_test_function.<locals>.test_function at 0x000000002ABB4670> triggered tf.function retracing. Tracing is expensive and the excessive number of tracings could be due to (1) creating @tf.function repeatedly in a loop, (2) passing tensors with different shapes, (3) passing Python objects instead of tensors. For (1), please define your @tf.function outside of the loop. For (2), @tf.function has experimental_relax_shapes=True option that relaxes argument shapes that can avoid unnecessary retracing. For (3), please refer to https://www.tensorflow.org/tutorials/customization/performance#python_or_tensor_args and https://www.tensorflow.org/api_docs/python/tf/function for  more details.\n",
      "[[14  2]\n",
      " [ 0  2]]\n",
      ">#10: 72.222\n",
      "4647\n",
      "WARNING:tensorflow:6 out of the last 11 calls to <function Model.make_test_function.<locals>.test_function at 0x000000002A779F70> triggered tf.function retracing. Tracing is expensive and the excessive number of tracings could be due to (1) creating @tf.function repeatedly in a loop, (2) passing tensors with different shapes, (3) passing Python objects instead of tensors. For (1), please define your @tf.function outside of the loop. For (2), @tf.function has experimental_relax_shapes=True option that relaxes argument shapes that can avoid unnecessary retracing. For (3), please refer to https://www.tensorflow.org/tutorials/customization/performance#python_or_tensor_args and https://www.tensorflow.org/api_docs/python/tf/function for  more details.\n",
      "[[14  2]\n",
      " [ 1  1]]\n",
      ">#11: 55.556\n",
      "6639\n",
      "WARNING:tensorflow:6 out of the last 11 calls to <function Model.make_test_function.<locals>.test_function at 0x000000002A779280> triggered tf.function retracing. Tracing is expensive and the excessive number of tracings could be due to (1) creating @tf.function repeatedly in a loop, (2) passing tensors with different shapes, (3) passing Python objects instead of tensors. For (1), please define your @tf.function outside of the loop. For (2), @tf.function has experimental_relax_shapes=True option that relaxes argument shapes that can avoid unnecessary retracing. For (3), please refer to https://www.tensorflow.org/tutorials/customization/performance#python_or_tensor_args and https://www.tensorflow.org/api_docs/python/tf/function for  more details.\n",
      "[[14  2]\n",
      " [ 1  1]]\n",
      ">#12: 77.778\n",
      "6775\n",
      "WARNING:tensorflow:6 out of the last 11 calls to <function Model.make_test_function.<locals>.test_function at 0x0000000022ED9F70> triggered tf.function retracing. Tracing is expensive and the excessive number of tracings could be due to (1) creating @tf.function repeatedly in a loop, (2) passing tensors with different shapes, (3) passing Python objects instead of tensors. For (1), please define your @tf.function outside of the loop. For (2), @tf.function has experimental_relax_shapes=True option that relaxes argument shapes that can avoid unnecessary retracing. For (3), please refer to https://www.tensorflow.org/tutorials/customization/performance#python_or_tensor_args and https://www.tensorflow.org/api_docs/python/tf/function for  more details.\n",
      "[[11  4]\n",
      " [ 0  3]]\n",
      ">#13: 50.000\n",
      "6192\n",
      "WARNING:tensorflow:6 out of the last 11 calls to <function Model.make_test_function.<locals>.test_function at 0x000000002E59AE50> triggered tf.function retracing. Tracing is expensive and the excessive number of tracings could be due to (1) creating @tf.function repeatedly in a loop, (2) passing tensors with different shapes, (3) passing Python objects instead of tensors. For (1), please define your @tf.function outside of the loop. For (2), @tf.function has experimental_relax_shapes=True option that relaxes argument shapes that can avoid unnecessary retracing. For (3), please refer to https://www.tensorflow.org/tutorials/customization/performance#python_or_tensor_args and https://www.tensorflow.org/api_docs/python/tf/function for  more details.\n"
     ]
    },
    {
     "name": "stdout",
     "output_type": "stream",
     "text": [
      "[[12  2]\n",
      " [ 0  4]]\n",
      ">#14: 55.556\n",
      "9679\n",
      "WARNING:tensorflow:6 out of the last 11 calls to <function Model.make_test_function.<locals>.test_function at 0x0000000022ED9F70> triggered tf.function retracing. Tracing is expensive and the excessive number of tracings could be due to (1) creating @tf.function repeatedly in a loop, (2) passing tensors with different shapes, (3) passing Python objects instead of tensors. For (1), please define your @tf.function outside of the loop. For (2), @tf.function has experimental_relax_shapes=True option that relaxes argument shapes that can avoid unnecessary retracing. For (3), please refer to https://www.tensorflow.org/tutorials/customization/performance#python_or_tensor_args and https://www.tensorflow.org/api_docs/python/tf/function for  more details.\n",
      "[[15  1]\n",
      " [ 0  2]]\n",
      ">#15: 66.667\n",
      "102\n",
      "WARNING:tensorflow:6 out of the last 11 calls to <function Model.make_test_function.<locals>.test_function at 0x000000002749F4C0> triggered tf.function retracing. Tracing is expensive and the excessive number of tracings could be due to (1) creating @tf.function repeatedly in a loop, (2) passing tensors with different shapes, (3) passing Python objects instead of tensors. For (1), please define your @tf.function outside of the loop. For (2), @tf.function has experimental_relax_shapes=True option that relaxes argument shapes that can avoid unnecessary retracing. For (3), please refer to https://www.tensorflow.org/tutorials/customization/performance#python_or_tensor_args and https://www.tensorflow.org/api_docs/python/tf/function for  more details.\n",
      "[[12  1]\n",
      " [ 1  4]]\n",
      ">#16: 72.222\n",
      "3823\n",
      "WARNING:tensorflow:6 out of the last 11 calls to <function Model.make_test_function.<locals>.test_function at 0x000000002A731160> triggered tf.function retracing. Tracing is expensive and the excessive number of tracings could be due to (1) creating @tf.function repeatedly in a loop, (2) passing tensors with different shapes, (3) passing Python objects instead of tensors. For (1), please define your @tf.function outside of the loop. For (2), @tf.function has experimental_relax_shapes=True option that relaxes argument shapes that can avoid unnecessary retracing. For (3), please refer to https://www.tensorflow.org/tutorials/customization/performance#python_or_tensor_args and https://www.tensorflow.org/api_docs/python/tf/function for  more details.\n",
      "[[10  4]\n",
      " [ 1  3]]\n",
      ">#17: 61.111\n",
      "6577\n",
      "WARNING:tensorflow:6 out of the last 11 calls to <function Model.make_test_function.<locals>.test_function at 0x000000002A779790> triggered tf.function retracing. Tracing is expensive and the excessive number of tracings could be due to (1) creating @tf.function repeatedly in a loop, (2) passing tensors with different shapes, (3) passing Python objects instead of tensors. For (1), please define your @tf.function outside of the loop. For (2), @tf.function has experimental_relax_shapes=True option that relaxes argument shapes that can avoid unnecessary retracing. For (3), please refer to https://www.tensorflow.org/tutorials/customization/performance#python_or_tensor_args and https://www.tensorflow.org/api_docs/python/tf/function for  more details.\n",
      "[[12  2]\n",
      " [ 3  1]]\n",
      ">#18: 66.667\n",
      "2061\n",
      "WARNING:tensorflow:6 out of the last 11 calls to <function Model.make_test_function.<locals>.test_function at 0x000000002AC4A820> triggered tf.function retracing. Tracing is expensive and the excessive number of tracings could be due to (1) creating @tf.function repeatedly in a loop, (2) passing tensors with different shapes, (3) passing Python objects instead of tensors. For (1), please define your @tf.function outside of the loop. For (2), @tf.function has experimental_relax_shapes=True option that relaxes argument shapes that can avoid unnecessary retracing. For (3), please refer to https://www.tensorflow.org/tutorials/customization/performance#python_or_tensor_args and https://www.tensorflow.org/api_docs/python/tf/function for  more details.\n",
      "[[11  2]\n",
      " [ 2  3]]\n",
      ">#19: 72.222\n",
      "3891\n",
      "WARNING:tensorflow:6 out of the last 11 calls to <function Model.make_test_function.<locals>.test_function at 0x0000000032B758B0> triggered tf.function retracing. Tracing is expensive and the excessive number of tracings could be due to (1) creating @tf.function repeatedly in a loop, (2) passing tensors with different shapes, (3) passing Python objects instead of tensors. For (1), please define your @tf.function outside of the loop. For (2), @tf.function has experimental_relax_shapes=True option that relaxes argument shapes that can avoid unnecessary retracing. For (3), please refer to https://www.tensorflow.org/tutorials/customization/performance#python_or_tensor_args and https://www.tensorflow.org/api_docs/python/tf/function for  more details.\n",
      "[[13  1]\n",
      " [ 0  4]]\n",
      ">#20: 66.667\n",
      "9310\n",
      "WARNING:tensorflow:6 out of the last 11 calls to <function Model.make_test_function.<locals>.test_function at 0x000000002AD329D0> triggered tf.function retracing. Tracing is expensive and the excessive number of tracings could be due to (1) creating @tf.function repeatedly in a loop, (2) passing tensors with different shapes, (3) passing Python objects instead of tensors. For (1), please define your @tf.function outside of the loop. For (2), @tf.function has experimental_relax_shapes=True option that relaxes argument shapes that can avoid unnecessary retracing. For (3), please refer to https://www.tensorflow.org/tutorials/customization/performance#python_or_tensor_args and https://www.tensorflow.org/api_docs/python/tf/function for  more details.\n",
      "[[15  0]\n",
      " [ 0  3]]\n",
      ">#21: 55.556\n",
      "567\n",
      "WARNING:tensorflow:6 out of the last 11 calls to <function Model.make_test_function.<locals>.test_function at 0x00000000274C4550> triggered tf.function retracing. Tracing is expensive and the excessive number of tracings could be due to (1) creating @tf.function repeatedly in a loop, (2) passing tensors with different shapes, (3) passing Python objects instead of tensors. For (1), please define your @tf.function outside of the loop. For (2), @tf.function has experimental_relax_shapes=True option that relaxes argument shapes that can avoid unnecessary retracing. For (3), please refer to https://www.tensorflow.org/tutorials/customization/performance#python_or_tensor_args and https://www.tensorflow.org/api_docs/python/tf/function for  more details.\n",
      "[[11  5]\n",
      " [ 1  1]]\n",
      ">#22: 61.111\n",
      "1948\n",
      "WARNING:tensorflow:6 out of the last 11 calls to <function Model.make_test_function.<locals>.test_function at 0x000000002E357310> triggered tf.function retracing. Tracing is expensive and the excessive number of tracings could be due to (1) creating @tf.function repeatedly in a loop, (2) passing tensors with different shapes, (3) passing Python objects instead of tensors. For (1), please define your @tf.function outside of the loop. For (2), @tf.function has experimental_relax_shapes=True option that relaxes argument shapes that can avoid unnecessary retracing. For (3), please refer to https://www.tensorflow.org/tutorials/customization/performance#python_or_tensor_args and https://www.tensorflow.org/api_docs/python/tf/function for  more details.\n",
      "[[12  3]\n",
      " [ 1  2]]\n",
      ">#23: 44.444\n",
      "5514\n",
      "WARNING:tensorflow:6 out of the last 11 calls to <function Model.make_test_function.<locals>.test_function at 0x000000002749FE50> triggered tf.function retracing. Tracing is expensive and the excessive number of tracings could be due to (1) creating @tf.function repeatedly in a loop, (2) passing tensors with different shapes, (3) passing Python objects instead of tensors. For (1), please define your @tf.function outside of the loop. For (2), @tf.function has experimental_relax_shapes=True option that relaxes argument shapes that can avoid unnecessary retracing. For (3), please refer to https://www.tensorflow.org/tutorials/customization/performance#python_or_tensor_args and https://www.tensorflow.org/api_docs/python/tf/function for  more details.\n",
      "[[10  5]\n",
      " [ 2  1]]\n",
      ">#24: 55.556\n",
      "6554\n",
      "WARNING:tensorflow:6 out of the last 11 calls to <function Model.make_test_function.<locals>.test_function at 0x0000000022ED9D30> triggered tf.function retracing. Tracing is expensive and the excessive number of tracings could be due to (1) creating @tf.function repeatedly in a loop, (2) passing tensors with different shapes, (3) passing Python objects instead of tensors. For (1), please define your @tf.function outside of the loop. For (2), @tf.function has experimental_relax_shapes=True option that relaxes argument shapes that can avoid unnecessary retracing. For (3), please refer to https://www.tensorflow.org/tutorials/customization/performance#python_or_tensor_args and https://www.tensorflow.org/api_docs/python/tf/function for  more details.\n"
     ]
    },
    {
     "name": "stdout",
     "output_type": "stream",
     "text": [
      "[[7 5]\n",
      " [3 3]]\n",
      ">#25: 55.556\n",
      "6792\n",
      "WARNING:tensorflow:6 out of the last 11 calls to <function Model.make_test_function.<locals>.test_function at 0x000000003299F8B0> triggered tf.function retracing. Tracing is expensive and the excessive number of tracings could be due to (1) creating @tf.function repeatedly in a loop, (2) passing tensors with different shapes, (3) passing Python objects instead of tensors. For (1), please define your @tf.function outside of the loop. For (2), @tf.function has experimental_relax_shapes=True option that relaxes argument shapes that can avoid unnecessary retracing. For (3), please refer to https://www.tensorflow.org/tutorials/customization/performance#python_or_tensor_args and https://www.tensorflow.org/api_docs/python/tf/function for  more details.\n",
      "[[10  2]\n",
      " [ 1  5]]\n",
      ">#26: 61.111\n",
      "2080\n",
      "WARNING:tensorflow:6 out of the last 11 calls to <function Model.make_test_function.<locals>.test_function at 0x000000002E80CF70> triggered tf.function retracing. Tracing is expensive and the excessive number of tracings could be due to (1) creating @tf.function repeatedly in a loop, (2) passing tensors with different shapes, (3) passing Python objects instead of tensors. For (1), please define your @tf.function outside of the loop. For (2), @tf.function has experimental_relax_shapes=True option that relaxes argument shapes that can avoid unnecessary retracing. For (3), please refer to https://www.tensorflow.org/tutorials/customization/performance#python_or_tensor_args and https://www.tensorflow.org/api_docs/python/tf/function for  more details.\n",
      "[[13  1]\n",
      " [ 1  3]]\n",
      ">#27: 72.222\n",
      "7162\n",
      "WARNING:tensorflow:6 out of the last 11 calls to <function Model.make_test_function.<locals>.test_function at 0x000000002E61A820> triggered tf.function retracing. Tracing is expensive and the excessive number of tracings could be due to (1) creating @tf.function repeatedly in a loop, (2) passing tensors with different shapes, (3) passing Python objects instead of tensors. For (1), please define your @tf.function outside of the loop. For (2), @tf.function has experimental_relax_shapes=True option that relaxes argument shapes that can avoid unnecessary retracing. For (3), please refer to https://www.tensorflow.org/tutorials/customization/performance#python_or_tensor_args and https://www.tensorflow.org/api_docs/python/tf/function for  more details.\n",
      "[[13  1]\n",
      " [ 1  3]]\n",
      ">#28: 66.667\n",
      "7261\n",
      "WARNING:tensorflow:6 out of the last 11 calls to <function Model.make_test_function.<locals>.test_function at 0x000000002E36ADC0> triggered tf.function retracing. Tracing is expensive and the excessive number of tracings could be due to (1) creating @tf.function repeatedly in a loop, (2) passing tensors with different shapes, (3) passing Python objects instead of tensors. For (1), please define your @tf.function outside of the loop. For (2), @tf.function has experimental_relax_shapes=True option that relaxes argument shapes that can avoid unnecessary retracing. For (3), please refer to https://www.tensorflow.org/tutorials/customization/performance#python_or_tensor_args and https://www.tensorflow.org/api_docs/python/tf/function for  more details.\n",
      "[[14  1]\n",
      " [ 2  1]]\n",
      ">#29: 72.222\n",
      "198\n",
      "WARNING:tensorflow:6 out of the last 11 calls to <function Model.make_test_function.<locals>.test_function at 0x000000002E47B820> triggered tf.function retracing. Tracing is expensive and the excessive number of tracings could be due to (1) creating @tf.function repeatedly in a loop, (2) passing tensors with different shapes, (3) passing Python objects instead of tensors. For (1), please define your @tf.function outside of the loop. For (2), @tf.function has experimental_relax_shapes=True option that relaxes argument shapes that can avoid unnecessary retracing. For (3), please refer to https://www.tensorflow.org/tutorials/customization/performance#python_or_tensor_args and https://www.tensorflow.org/api_docs/python/tf/function for  more details.\n",
      "[[14  2]\n",
      " [ 0  2]]\n",
      ">#30: 83.333\n",
      "6413\n",
      "WARNING:tensorflow:6 out of the last 11 calls to <function Model.make_test_function.<locals>.test_function at 0x0000000027453160> triggered tf.function retracing. Tracing is expensive and the excessive number of tracings could be due to (1) creating @tf.function repeatedly in a loop, (2) passing tensors with different shapes, (3) passing Python objects instead of tensors. For (1), please define your @tf.function outside of the loop. For (2), @tf.function has experimental_relax_shapes=True option that relaxes argument shapes that can avoid unnecessary retracing. For (3), please refer to https://www.tensorflow.org/tutorials/customization/performance#python_or_tensor_args and https://www.tensorflow.org/api_docs/python/tf/function for  more details.\n",
      "[[13  1]\n",
      " [ 1  3]]\n",
      ">#31: 72.222\n",
      "810\n",
      "WARNING:tensorflow:6 out of the last 11 calls to <function Model.make_test_function.<locals>.test_function at 0x000000002E5561F0> triggered tf.function retracing. Tracing is expensive and the excessive number of tracings could be due to (1) creating @tf.function repeatedly in a loop, (2) passing tensors with different shapes, (3) passing Python objects instead of tensors. For (1), please define your @tf.function outside of the loop. For (2), @tf.function has experimental_relax_shapes=True option that relaxes argument shapes that can avoid unnecessary retracing. For (3), please refer to https://www.tensorflow.org/tutorials/customization/performance#python_or_tensor_args and https://www.tensorflow.org/api_docs/python/tf/function for  more details.\n",
      "[[11  1]\n",
      " [ 1  5]]\n",
      ">#32: 66.667\n",
      "4525\n",
      "WARNING:tensorflow:6 out of the last 11 calls to <function Model.make_test_function.<locals>.test_function at 0x000000002AC4AF70> triggered tf.function retracing. Tracing is expensive and the excessive number of tracings could be due to (1) creating @tf.function repeatedly in a loop, (2) passing tensors with different shapes, (3) passing Python objects instead of tensors. For (1), please define your @tf.function outside of the loop. For (2), @tf.function has experimental_relax_shapes=True option that relaxes argument shapes that can avoid unnecessary retracing. For (3), please refer to https://www.tensorflow.org/tutorials/customization/performance#python_or_tensor_args and https://www.tensorflow.org/api_docs/python/tf/function for  more details.\n",
      "[[8 3]\n",
      " [2 5]]\n",
      ">#33: 55.556\n",
      "9001\n",
      "WARNING:tensorflow:6 out of the last 11 calls to <function Model.make_test_function.<locals>.test_function at 0x000000002AB8E4C0> triggered tf.function retracing. Tracing is expensive and the excessive number of tracings could be due to (1) creating @tf.function repeatedly in a loop, (2) passing tensors with different shapes, (3) passing Python objects instead of tensors. For (1), please define your @tf.function outside of the loop. For (2), @tf.function has experimental_relax_shapes=True option that relaxes argument shapes that can avoid unnecessary retracing. For (3), please refer to https://www.tensorflow.org/tutorials/customization/performance#python_or_tensor_args and https://www.tensorflow.org/api_docs/python/tf/function for  more details.\n",
      "[[11  4]\n",
      " [ 0  3]]\n",
      ">#34: 50.000\n",
      "2197\n",
      "WARNING:tensorflow:6 out of the last 11 calls to <function Model.make_test_function.<locals>.test_function at 0x000000002E47BA60> triggered tf.function retracing. Tracing is expensive and the excessive number of tracings could be due to (1) creating @tf.function repeatedly in a loop, (2) passing tensors with different shapes, (3) passing Python objects instead of tensors. For (1), please define your @tf.function outside of the loop. For (2), @tf.function has experimental_relax_shapes=True option that relaxes argument shapes that can avoid unnecessary retracing. For (3), please refer to https://www.tensorflow.org/tutorials/customization/performance#python_or_tensor_args and https://www.tensorflow.org/api_docs/python/tf/function for  more details.\n",
      "[[12  3]\n",
      " [ 2  1]]\n",
      ">#35: 55.556\n",
      "5954\n",
      "WARNING:tensorflow:6 out of the last 11 calls to <function Model.make_test_function.<locals>.test_function at 0x0000000035DC3DC0> triggered tf.function retracing. Tracing is expensive and the excessive number of tracings could be due to (1) creating @tf.function repeatedly in a loop, (2) passing tensors with different shapes, (3) passing Python objects instead of tensors. For (1), please define your @tf.function outside of the loop. For (2), @tf.function has experimental_relax_shapes=True option that relaxes argument shapes that can avoid unnecessary retracing. For (3), please refer to https://www.tensorflow.org/tutorials/customization/performance#python_or_tensor_args and https://www.tensorflow.org/api_docs/python/tf/function for  more details.\n"
     ]
    },
    {
     "name": "stdout",
     "output_type": "stream",
     "text": [
      "[[10  4]\n",
      " [ 1  3]]\n",
      ">#36: 77.778\n",
      "5734\n",
      "WARNING:tensorflow:6 out of the last 11 calls to <function Model.make_test_function.<locals>.test_function at 0x0000000022C25CA0> triggered tf.function retracing. Tracing is expensive and the excessive number of tracings could be due to (1) creating @tf.function repeatedly in a loop, (2) passing tensors with different shapes, (3) passing Python objects instead of tensors. For (1), please define your @tf.function outside of the loop. For (2), @tf.function has experimental_relax_shapes=True option that relaxes argument shapes that can avoid unnecessary retracing. For (3), please refer to https://www.tensorflow.org/tutorials/customization/performance#python_or_tensor_args and https://www.tensorflow.org/api_docs/python/tf/function for  more details.\n",
      "[[12  2]\n",
      " [ 2  2]]\n",
      ">#37: 61.111\n",
      "5386\n",
      "WARNING:tensorflow:6 out of the last 11 calls to <function Model.make_test_function.<locals>.test_function at 0x0000000022B3A0D0> triggered tf.function retracing. Tracing is expensive and the excessive number of tracings could be due to (1) creating @tf.function repeatedly in a loop, (2) passing tensors with different shapes, (3) passing Python objects instead of tensors. For (1), please define your @tf.function outside of the loop. For (2), @tf.function has experimental_relax_shapes=True option that relaxes argument shapes that can avoid unnecessary retracing. For (3), please refer to https://www.tensorflow.org/tutorials/customization/performance#python_or_tensor_args and https://www.tensorflow.org/api_docs/python/tf/function for  more details.\n",
      "[[12  2]\n",
      " [ 1  3]]\n",
      ">#38: 66.667\n",
      "5310\n",
      "WARNING:tensorflow:6 out of the last 11 calls to <function Model.make_test_function.<locals>.test_function at 0x000000002E5568B0> triggered tf.function retracing. Tracing is expensive and the excessive number of tracings could be due to (1) creating @tf.function repeatedly in a loop, (2) passing tensors with different shapes, (3) passing Python objects instead of tensors. For (1), please define your @tf.function outside of the loop. For (2), @tf.function has experimental_relax_shapes=True option that relaxes argument shapes that can avoid unnecessary retracing. For (3), please refer to https://www.tensorflow.org/tutorials/customization/performance#python_or_tensor_args and https://www.tensorflow.org/api_docs/python/tf/function for  more details.\n",
      "[[13  2]\n",
      " [ 1  2]]\n",
      ">#39: 61.111\n",
      "8600\n",
      "WARNING:tensorflow:6 out of the last 11 calls to <function Model.make_test_function.<locals>.test_function at 0x000000002AD32D30> triggered tf.function retracing. Tracing is expensive and the excessive number of tracings could be due to (1) creating @tf.function repeatedly in a loop, (2) passing tensors with different shapes, (3) passing Python objects instead of tensors. For (1), please define your @tf.function outside of the loop. For (2), @tf.function has experimental_relax_shapes=True option that relaxes argument shapes that can avoid unnecessary retracing. For (3), please refer to https://www.tensorflow.org/tutorials/customization/performance#python_or_tensor_args and https://www.tensorflow.org/api_docs/python/tf/function for  more details.\n",
      "[[12  2]\n",
      " [ 1  3]]\n",
      ">#40: 66.667\n",
      "7889\n",
      "WARNING:tensorflow:6 out of the last 11 calls to <function Model.make_test_function.<locals>.test_function at 0x000000002E80CD30> triggered tf.function retracing. Tracing is expensive and the excessive number of tracings could be due to (1) creating @tf.function repeatedly in a loop, (2) passing tensors with different shapes, (3) passing Python objects instead of tensors. For (1), please define your @tf.function outside of the loop. For (2), @tf.function has experimental_relax_shapes=True option that relaxes argument shapes that can avoid unnecessary retracing. For (3), please refer to https://www.tensorflow.org/tutorials/customization/performance#python_or_tensor_args and https://www.tensorflow.org/api_docs/python/tf/function for  more details.\n",
      "[[12  1]\n",
      " [ 1  4]]\n",
      ">#41: 61.111\n",
      "4305\n",
      "WARNING:tensorflow:6 out of the last 11 calls to <function Model.make_test_function.<locals>.test_function at 0x000000003720F670> triggered tf.function retracing. Tracing is expensive and the excessive number of tracings could be due to (1) creating @tf.function repeatedly in a loop, (2) passing tensors with different shapes, (3) passing Python objects instead of tensors. For (1), please define your @tf.function outside of the loop. For (2), @tf.function has experimental_relax_shapes=True option that relaxes argument shapes that can avoid unnecessary retracing. For (3), please refer to https://www.tensorflow.org/tutorials/customization/performance#python_or_tensor_args and https://www.tensorflow.org/api_docs/python/tf/function for  more details.\n",
      "[[12  2]\n",
      " [ 2  2]]\n",
      ">#42: 66.667\n",
      "2889\n",
      "WARNING:tensorflow:6 out of the last 11 calls to <function Model.make_test_function.<locals>.test_function at 0x000000003890D0D0> triggered tf.function retracing. Tracing is expensive and the excessive number of tracings could be due to (1) creating @tf.function repeatedly in a loop, (2) passing tensors with different shapes, (3) passing Python objects instead of tensors. For (1), please define your @tf.function outside of the loop. For (2), @tf.function has experimental_relax_shapes=True option that relaxes argument shapes that can avoid unnecessary retracing. For (3), please refer to https://www.tensorflow.org/tutorials/customization/performance#python_or_tensor_args and https://www.tensorflow.org/api_docs/python/tf/function for  more details.\n",
      "[[10  3]\n",
      " [ 0  5]]\n",
      ">#43: 50.000\n",
      "4029\n",
      "WARNING:tensorflow:6 out of the last 11 calls to <function Model.make_test_function.<locals>.test_function at 0x000000003890DDC0> triggered tf.function retracing. Tracing is expensive and the excessive number of tracings could be due to (1) creating @tf.function repeatedly in a loop, (2) passing tensors with different shapes, (3) passing Python objects instead of tensors. For (1), please define your @tf.function outside of the loop. For (2), @tf.function has experimental_relax_shapes=True option that relaxes argument shapes that can avoid unnecessary retracing. For (3), please refer to https://www.tensorflow.org/tutorials/customization/performance#python_or_tensor_args and https://www.tensorflow.org/api_docs/python/tf/function for  more details.\n",
      "[[13  4]\n",
      " [ 0  1]]\n",
      ">#44: 66.667\n",
      "7221\n",
      "WARNING:tensorflow:6 out of the last 11 calls to <function Model.make_test_function.<locals>.test_function at 0x000000002A833EE0> triggered tf.function retracing. Tracing is expensive and the excessive number of tracings could be due to (1) creating @tf.function repeatedly in a loop, (2) passing tensors with different shapes, (3) passing Python objects instead of tensors. For (1), please define your @tf.function outside of the loop. For (2), @tf.function has experimental_relax_shapes=True option that relaxes argument shapes that can avoid unnecessary retracing. For (3), please refer to https://www.tensorflow.org/tutorials/customization/performance#python_or_tensor_args and https://www.tensorflow.org/api_docs/python/tf/function for  more details.\n",
      "[[9 3]\n",
      " [0 6]]\n",
      ">#45: 72.222\n",
      "2601\n",
      "WARNING:tensorflow:6 out of the last 11 calls to <function Model.make_test_function.<locals>.test_function at 0x0000000035FD94C0> triggered tf.function retracing. Tracing is expensive and the excessive number of tracings could be due to (1) creating @tf.function repeatedly in a loop, (2) passing tensors with different shapes, (3) passing Python objects instead of tensors. For (1), please define your @tf.function outside of the loop. For (2), @tf.function has experimental_relax_shapes=True option that relaxes argument shapes that can avoid unnecessary retracing. For (3), please refer to https://www.tensorflow.org/tutorials/customization/performance#python_or_tensor_args and https://www.tensorflow.org/api_docs/python/tf/function for  more details.\n",
      "[[12  3]\n",
      " [ 1  2]]\n",
      ">#46: 66.667\n",
      "4628\n",
      "WARNING:tensorflow:6 out of the last 11 calls to <function Model.make_test_function.<locals>.test_function at 0x0000000037092A60> triggered tf.function retracing. Tracing is expensive and the excessive number of tracings could be due to (1) creating @tf.function repeatedly in a loop, (2) passing tensors with different shapes, (3) passing Python objects instead of tensors. For (1), please define your @tf.function outside of the loop. For (2), @tf.function has experimental_relax_shapes=True option that relaxes argument shapes that can avoid unnecessary retracing. For (3), please refer to https://www.tensorflow.org/tutorials/customization/performance#python_or_tensor_args and https://www.tensorflow.org/api_docs/python/tf/function for  more details.\n"
     ]
    },
    {
     "name": "stdout",
     "output_type": "stream",
     "text": [
      "[[11  3]\n",
      " [ 2  2]]\n",
      ">#47: 61.111\n",
      "2503\n",
      "WARNING:tensorflow:6 out of the last 11 calls to <function Model.make_test_function.<locals>.test_function at 0x0000000027734040> triggered tf.function retracing. Tracing is expensive and the excessive number of tracings could be due to (1) creating @tf.function repeatedly in a loop, (2) passing tensors with different shapes, (3) passing Python objects instead of tensors. For (1), please define your @tf.function outside of the loop. For (2), @tf.function has experimental_relax_shapes=True option that relaxes argument shapes that can avoid unnecessary retracing. For (3), please refer to https://www.tensorflow.org/tutorials/customization/performance#python_or_tensor_args and https://www.tensorflow.org/api_docs/python/tf/function for  more details.\n",
      "[[12  2]\n",
      " [ 0  4]]\n",
      ">#48: 44.444\n",
      "9708\n",
      "WARNING:tensorflow:6 out of the last 11 calls to <function Model.make_test_function.<locals>.test_function at 0x000000003720F700> triggered tf.function retracing. Tracing is expensive and the excessive number of tracings could be due to (1) creating @tf.function repeatedly in a loop, (2) passing tensors with different shapes, (3) passing Python objects instead of tensors. For (1), please define your @tf.function outside of the loop. For (2), @tf.function has experimental_relax_shapes=True option that relaxes argument shapes that can avoid unnecessary retracing. For (3), please refer to https://www.tensorflow.org/tutorials/customization/performance#python_or_tensor_args and https://www.tensorflow.org/api_docs/python/tf/function for  more details.\n",
      "[[13  1]\n",
      " [ 2  2]]\n",
      ">#49: 77.778\n",
      "557\n",
      "WARNING:tensorflow:6 out of the last 11 calls to <function Model.make_test_function.<locals>.test_function at 0x00000000205E3430> triggered tf.function retracing. Tracing is expensive and the excessive number of tracings could be due to (1) creating @tf.function repeatedly in a loop, (2) passing tensors with different shapes, (3) passing Python objects instead of tensors. For (1), please define your @tf.function outside of the loop. For (2), @tf.function has experimental_relax_shapes=True option that relaxes argument shapes that can avoid unnecessary retracing. For (3), please refer to https://www.tensorflow.org/tutorials/customization/performance#python_or_tensor_args and https://www.tensorflow.org/api_docs/python/tf/function for  more details.\n",
      "[[11  4]\n",
      " [ 1  2]]\n",
      ">#50: 66.667\n",
      "[44.44444477558136, 50.0, 77.77777910232544, 38.88888955116272, 61.11111044883728, 77.77777910232544, 61.11111044883728, 61.11111044883728, 66.66666865348816, 72.22222089767456, 55.55555820465088, 77.77777910232544, 50.0, 55.55555820465088, 66.66666865348816, 72.22222089767456, 61.11111044883728, 66.66666865348816, 72.22222089767456, 66.66666865348816, 55.55555820465088, 61.11111044883728, 44.44444477558136, 55.55555820465088, 55.55555820465088, 61.11111044883728, 72.22222089767456, 66.66666865348816, 72.22222089767456, 83.33333134651184, 72.22222089767456, 66.66666865348816, 55.55555820465088, 50.0, 55.55555820465088, 77.77777910232544, 61.11111044883728, 66.66666865348816, 61.11111044883728, 66.66666865348816, 61.11111044883728, 66.66666865348816, 50.0, 66.66666865348816, 72.22222089767456, 66.66666865348816, 61.11111044883728, 44.44444477558136, 77.77777910232544, 66.66666865348816]\n",
      "Accuracy: 63.000% (+/-9.976)\n",
      "[[11.8   2.4 ]\n",
      " [ 1.04  2.76]]\n"
     ]
    }
   ],
   "source": [
    "# fit and evaluate a model\n",
    "def evaluate_model(trainX, trainy, testX, testy,weights_dict):\n",
    "    verbose, epochs, batch_size = 0, 10, 16\n",
    "#     n_timesteps, n_features, n_outputs = trainX.shape[1], trainX.shape[2], trainy.shape[1]\n",
    "    n_timesteps, n_features, n_outputs = trainX.shape[1], trainX.shape[2], 1\n",
    "    model = Sequential()\n",
    "    model.add(LSTM(100, input_shape=(n_timesteps,n_features)))\n",
    "    model.add(Dropout(0.5))\n",
    "    model.add(Dense(100, activation='relu'))\n",
    "#     model.add(Dense(n_outputs, activation='softmax'))\n",
    "#     model.compile(loss='categorical_crossentropy', optimizer='adam', metrics=['accuracy'])\n",
    "#     # fit network\n",
    "#     model.fit(trainX, trainy, epochs=epochs, batch_size=batch_size,verbose=verbose)\n",
    "#     # evaluate model\n",
    "#     _, accuracy = model.evaluate(testX, testy, batch_size=batch_size, verbose=0)\n",
    "    model.add(Dense(n_outputs, activation='sigmoid'))\n",
    "    model.compile(loss='binary_crossentropy', optimizer='adam', metrics=['accuracy'])\n",
    "    # fit network\n",
    "    model.fit(trainX, trainy, epochs=epochs, batch_size=batch_size, class_weight=weights_dict,verbose=verbose)\n",
    "    # evaluate model\n",
    "    _, accuracy = model.evaluate(testX, testy, batch_size=batch_size, verbose=0)\n",
    "    \n",
    "    return accuracy\n",
    "# summarize scores\n",
    "def summarize_results(scores):\n",
    "\tprint(scores)\n",
    "\tm, s = mean(scores), std(scores)\n",
    "\tprint('Accuracy: %.3f%% (+/-%.3f)' % (m, s))\n",
    "\n",
    "# run an experiment\n",
    "def run_experiment(repeats=50):\n",
    "#     # load data\n",
    "#     trainX, trainy, testX, testy = load_dataset()\n",
    "    # repeat experiment\n",
    "    scores = list()\n",
    "    cm_lt=[]\n",
    "    rdseed_list = []\n",
    "    for r in range(repeats):\n",
    "#         rdseed=random.randint(0, 10000)\n",
    "        rdseed = rdseed_pre_list[r]\n",
    "        print(rdseed)\n",
    "        x_train_single, x_test_single, y_train_single, y_test_single = train_test_split(X.astype(np.float), y, test_size=0.2, shuffle=True, random_state=rdseed)\n",
    "\n",
    "#         mapping = {'CN': 0, 'MCI': 1}\n",
    "#         y_train_single=pd.DataFrame(y_train_single).replace({0: mapping})[0].values\n",
    "#         y_test_single=pd.DataFrame(y_test_single).replace({0: mapping})[0].values\n",
    "        weights = compute_class_weight(class_weight = \"balanced\", classes= np.unique(y_train_single), y= y_train_single)\n",
    "        weights_dict={0: weights[0], 1: weights[1]}\n",
    "        \n",
    "        score = evaluate_model(x_train_single, y_train_single, x_test_single, y_test_single,weights_dict)\n",
    "        score = score * 100.0\n",
    "        \n",
    "        y_predict=model.predict(x_test_single)\n",
    "        df_test_results=pd.concat([pd.DataFrame(y_test_single).rename(columns={0:'observed'}),np.round(pd.DataFrame(y_predict)).rename(columns={0:'predict'})],axis=1)\n",
    "        cm = confusion_matrix(df_test_results['observed'], df_test_results['predict'])\n",
    "        \n",
    "        cm_lt.append(cm)\n",
    "        print(cm)\n",
    "        \n",
    "        rdseed_list.append(rdseed)\n",
    "        \n",
    "        print('>#%d: %.3f' % (r+1, score))\n",
    "        scores.append(score)\n",
    "    # summarize results\n",
    "    summarize_results(scores)\n",
    "    \n",
    "    print(np.mean(cm_lt,axis=0))\n",
    "    return(scores,cm_lt,rdseed_list)\n",
    "# run the experiment\n",
    "scores,cm_list,rdseed_list = run_experiment()"
   ]
  },
  {
   "cell_type": "code",
   "execution_count": 46,
   "id": "voluntary-norwegian",
   "metadata": {},
   "outputs": [],
   "source": [
    "# # cm_lt\n",
    "cm_list_fullmri_RNN_1d=[]\n",
    "# cm_list_fullmri_RNN_1d_pre=[]\n",
    "\n",
    "for  i in range(len(cm_list)):\n",
    "    cm_list_fullmri_RNN_1d.append(cm_list[i].reshape(1,4)[0])\n",
    "#     cm_list_fullmri_RNN_1d_pre.append(cm_list_pre[i].reshape(1,4)[0])"
   ]
  },
  {
   "cell_type": "code",
   "execution_count": 47,
   "id": "subject-plaintiff",
   "metadata": {},
   "outputs": [],
   "source": [
    "# rdseed_pre_list = rdseed_list\n",
    "# acc_list_pre=scores\n",
    "# cm_list_pre=cm_list"
   ]
  },
  {
   "cell_type": "code",
   "execution_count": 48,
   "id": "southwest-investor",
   "metadata": {},
   "outputs": [],
   "source": [
    "# pd.concat([pd.DataFrame(rdseed_pre_list,columns=['rdseed_pre_list']),pd.DataFrame(cm_list_fullmri_RNN_1d),pd.DataFrame(scores,columns=['acc_list']),pd.DataFrame(cm_list_fullmri_RNN_1d_pre),pd.DataFrame(acc_list_pre,columns=['acc_list_pre'])],axis=1)"
   ]
  },
  {
   "cell_type": "code",
   "execution_count": 49,
   "id": "criminal-backing",
   "metadata": {},
   "outputs": [
    {
     "data": {
      "text/plain": [
       "0    11.80\n",
       "1     2.40\n",
       "2     1.04\n",
       "3     2.76\n",
       "dtype: float64"
      ]
     },
     "execution_count": 49,
     "metadata": {},
     "output_type": "execute_result"
    }
   ],
   "source": [
    "pd.DataFrame(cm_list_fullmri_RNN_1d).mean()\n",
    "# pd.DataFrame(cm_list_fullmri_RNN_1d).to_csv('cm_list_fullmri_RNN_1d_1.csv')"
   ]
  },
  {
   "cell_type": "code",
   "execution_count": 50,
   "id": "bibliographic-journal",
   "metadata": {},
   "outputs": [],
   "source": [
    "# rdseed_list"
   ]
  },
  {
   "cell_type": "code",
   "execution_count": 51,
   "id": "caroline-robin",
   "metadata": {},
   "outputs": [
    {
     "data": {
      "text/plain": [
       "63.00000065565109"
      ]
     },
     "execution_count": 51,
     "metadata": {},
     "output_type": "execute_result"
    }
   ],
   "source": [
    "np.mean(scores)\n",
    "# np.mean(acc_list_pre)"
   ]
  },
  {
   "cell_type": "code",
   "execution_count": 52,
   "id": "swiss-fellow",
   "metadata": {},
   "outputs": [],
   "source": [
    "# rdseed_pre_list"
   ]
  },
  {
   "cell_type": "code",
   "execution_count": 53,
   "id": "entire-restaurant",
   "metadata": {},
   "outputs": [],
   "source": [
    "# plt.hist(acc_list_pre)"
   ]
  },
  {
   "cell_type": "code",
   "execution_count": 54,
   "id": "decreased-attachment",
   "metadata": {},
   "outputs": [
    {
     "data": {
      "text/plain": [
       "(array([ 1.,  3.,  4.,  7.,  0., 10., 12.,  7.,  5.,  1.]),\n",
       " array([38.88888955, 43.33333373, 47.77777791, 52.22222209, 56.66666627,\n",
       "        61.11111045, 65.55555463, 69.99999881, 74.44444299, 78.88888717,\n",
       "        83.33333135]),\n",
       " <BarContainer object of 10 artists>)"
      ]
     },
     "execution_count": 54,
     "metadata": {},
     "output_type": "execute_result"
    },
    {
     "data": {
      "image/png": "[encoded data removed]",
      "text/plain": [
       "<Figure size 432x288 with 1 Axes>"
      ]
     },
     "metadata": {
      "needs_background": "light"
     },
     "output_type": "display_data"
    }
   ],
   "source": [
    "plt.hist(scores)"
   ]
  },
  {
   "cell_type": "code",
   "execution_count": null,
   "id": "unable-mechanics",
   "metadata": {},
   "outputs": [],
   "source": []
  }
 ],
 "metadata": {
  "kernelspec": {
   "display_name": "Python 3",
   "language": "python",
   "name": "python3"
  },
  "language_info": {
   "codemirror_mode": {
    "name": "ipython",
    "version": 3
   },
   "file_extension": ".py",
   "mimetype": "text/x-python",
   "name": "python",
   "nbconvert_exporter": "python",
   "pygments_lexer": "ipython3",
   "version": "3.8.8"
  }
 },
 "nbformat": 4,
 "nbformat_minor": 5
}
