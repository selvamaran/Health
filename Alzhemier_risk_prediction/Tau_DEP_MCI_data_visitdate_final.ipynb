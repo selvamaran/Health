{
 "cells": [
  {
   "cell_type": "code",
   "execution_count": 56,
   "id": "suspended-smile",
   "metadata": {},
   "outputs": [],
   "source": [
    "import pandas as pd\n",
    "import matplotlib.pyplot as plt\n",
    "import seaborn as sns\n",
    "%matplotlib inline\n",
    "from scipy import stats\n",
    "import numpy as np\n",
    "from datetime import datetime, timedelta"
   ]
  },
  {
   "cell_type": "code",
   "execution_count": 57,
   "id": "distant-inventory",
   "metadata": {},
   "outputs": [
    {
     "data": {
      "text/plain": [
       "(1638, 338)"
      ]
     },
     "execution_count": 57,
     "metadata": {},
     "output_type": "execute_result"
    }
   ],
   "source": [
    "# \n",
    "file_loc0 = \"../../ADNI_data/\"\n",
    "df_tau=pd.read_csv(file_loc0 + 'UCBERKELEY_TAU_6MM_23Apr2024.csv')\n",
    "df_NPIQ=pd.read_csv(file_loc0 + 'NPIQ_05Mar2024.csv')\n",
    "df_DX = pd.read_csv(file_loc0 + 'DXSUM_PDXCONV_ADNIALL_Diagnostic Summary_standardised.csv')\n",
    "df_tau.shape"
   ]
  },
  {
   "cell_type": "code",
   "execution_count": 58,
   "id": "global-tragedy",
   "metadata": {},
   "outputs": [],
   "source": [
    "df_Fpet = df_tau.copy()"
   ]
  },
  {
   "cell_type": "code",
   "execution_count": 59,
   "id": "worst-frame",
   "metadata": {},
   "outputs": [],
   "source": [
    "#convert to data time for manipulation\n",
    "df_Fpet['SCANDATE_dt']=pd.to_datetime(df_Fpet.SCANDATE, format='%Y-%m-%d')\n",
    "\n",
    "df_NPIQ['VISDATE_dt']=pd.to_datetime(df_NPIQ.VISDATE, format='%Y-%m-%d')\n",
    "df_NPIQ['USERDATE_dt']=pd.to_datetime(df_NPIQ.USERDATE, format='%Y-%m-%d')\n",
    "\n",
    "df_DX['EXAMDATE_dt']=pd.to_datetime(df_DX.EXAMDATE, format='%m/%d/%Y')"
   ]
  },
  {
   "cell_type": "code",
   "execution_count": 60,
   "id": "moderate-summary",
   "metadata": {},
   "outputs": [
    {
     "data": {
      "text/plain": [
       " 0.0    5525\n",
       " 1.0    1494\n",
       " 2.0      20\n",
       "-1.0      18\n",
       "Name: NPID, dtype: int64"
      ]
     },
     "execution_count": 60,
     "metadata": {},
     "output_type": "execute_result"
    }
   ],
   "source": [
    "df_NPIQ.NPID.value_counts()"
   ]
  },
  {
   "cell_type": "code",
   "execution_count": 61,
   "id": "automatic-arabic",
   "metadata": {},
   "outputs": [],
   "source": [
    "df_Fpet_selcol_lt  = ['RID','SCANDATE','SCANDATE_dt','qc_flag']"
   ]
  },
  {
   "cell_type": "code",
   "execution_count": 62,
   "id": "complimentary-smart",
   "metadata": {},
   "outputs": [
    {
     "data": {
      "text/html": [
       "<div>\n",
       "<style scoped>\n",
       "    .dataframe tbody tr th:only-of-type {\n",
       "        vertical-align: middle;\n",
       "    }\n",
       "\n",
       "    .dataframe tbody tr th {\n",
       "        vertical-align: top;\n",
       "    }\n",
       "\n",
       "    .dataframe thead th {\n",
       "        text-align: right;\n",
       "    }\n",
       "</style>\n",
       "<table border=\"1\" class=\"dataframe\">\n",
       "  <thead>\n",
       "    <tr style=\"text-align: right;\">\n",
       "      <th></th>\n",
       "      <th>RID</th>\n",
       "      <th>SCANDATE</th>\n",
       "      <th>SCANDATE_dt</th>\n",
       "      <th>qc_flag</th>\n",
       "    </tr>\n",
       "  </thead>\n",
       "  <tbody>\n",
       "    <tr>\n",
       "      <th>0</th>\n",
       "      <td>21</td>\n",
       "      <td>2018-02-02</td>\n",
       "      <td>2018-02-02</td>\n",
       "      <td>2</td>\n",
       "    </tr>\n",
       "    <tr>\n",
       "      <th>1</th>\n",
       "      <td>31</td>\n",
       "      <td>2018-04-24</td>\n",
       "      <td>2018-04-24</td>\n",
       "      <td>2</td>\n",
       "    </tr>\n",
       "    <tr>\n",
       "      <th>2</th>\n",
       "      <td>31</td>\n",
       "      <td>2019-04-23</td>\n",
       "      <td>2019-04-23</td>\n",
       "      <td>2</td>\n",
       "    </tr>\n",
       "    <tr>\n",
       "      <th>3</th>\n",
       "      <td>56</td>\n",
       "      <td>2018-02-20</td>\n",
       "      <td>2018-02-20</td>\n",
       "      <td>2</td>\n",
       "    </tr>\n",
       "    <tr>\n",
       "      <th>4</th>\n",
       "      <td>56</td>\n",
       "      <td>2019-01-10</td>\n",
       "      <td>2019-01-10</td>\n",
       "      <td>2</td>\n",
       "    </tr>\n",
       "  </tbody>\n",
       "</table>\n",
       "</div>"
      ],
      "text/plain": [
       "   RID    SCANDATE SCANDATE_dt  qc_flag\n",
       "0   21  2018-02-02  2018-02-02        2\n",
       "1   31  2018-04-24  2018-04-24        2\n",
       "2   31  2019-04-23  2019-04-23        2\n",
       "3   56  2018-02-20  2018-02-20        2\n",
       "4   56  2019-01-10  2019-01-10        2"
      ]
     },
     "execution_count": 62,
     "metadata": {},
     "output_type": "execute_result"
    }
   ],
   "source": [
    "df_Fpet_selcol=df_Fpet[df_Fpet_selcol_lt].sort_values(by=['RID','SCANDATE_dt'])\n",
    "df_Fpet_selcol.head()"
   ]
  },
  {
   "cell_type": "code",
   "execution_count": 63,
   "id": "romance-cream",
   "metadata": {},
   "outputs": [
    {
     "data": {
      "text/plain": [
       "(1638, 2)"
      ]
     },
     "execution_count": 63,
     "metadata": {},
     "output_type": "execute_result"
    }
   ],
   "source": [
    "df_Fpet_selcol[['RID','SCANDATE']].drop_duplicates().shape"
   ]
  },
  {
   "cell_type": "code",
   "execution_count": 64,
   "id": "under-popularity",
   "metadata": {},
   "outputs": [],
   "source": [
    "df_NPIQ_selcol_lt=['RID','Phase','VISCODE2','NPID','VISDATE','VISDATE_dt','USERDATE','USERDATE_dt']"
   ]
  },
  {
   "cell_type": "code",
   "execution_count": 65,
   "id": "convertible-profit",
   "metadata": {},
   "outputs": [
    {
     "data": {
      "text/plain": [
       "((668, 41), (7093, 41))"
      ]
     },
     "execution_count": 65,
     "metadata": {},
     "output_type": "execute_result"
    }
   ],
   "source": [
    "df_NPIQ[df_NPIQ['VISDATE_dt']>(df_Fpet_selcol.SCANDATE_dt.min()-timedelta(days=365))].shape,df_NPIQ.shape"
   ]
  },
  {
   "cell_type": "code",
   "execution_count": 66,
   "id": "legendary-assets",
   "metadata": {},
   "outputs": [
    {
     "data": {
      "text/plain": [
       "((1079, 6), (1638, 2), (7093, 41), (654, 41))"
      ]
     },
     "execution_count": 66,
     "metadata": {},
     "output_type": "execute_result"
    }
   ],
   "source": [
    "#merging on RID\n",
    "df_Fpet_npiq=df_NPIQ[(df_NPIQ['NPID']>=0)&(df_NPIQ['VISDATE_dt']>(df_Fpet_selcol.SCANDATE_dt.min()-timedelta(days=365)))][['RID','VISCODE2','USERDATE_dt','VISDATE_dt','NPID']].merge(df_Fpet_selcol[['RID','SCANDATE_dt']].drop_duplicates()).sort_values(by=['RID','SCANDATE_dt'])\n",
    "df_Fpet_npiq.shape,df_Fpet_selcol[['RID','SCANDATE_dt']].shape,df_NPIQ.shape,df_NPIQ[df_NPIQ['VISDATE_dt']>(df_Fpet_selcol.SCANDATE_dt.min()-timedelta(days=182))].shape"
   ]
  },
  {
   "cell_type": "code",
   "execution_count": 67,
   "id": "blessed-music",
   "metadata": {},
   "outputs": [
    {
     "data": {
      "text/plain": [
       "(678, 2)"
      ]
     },
     "execution_count": 67,
     "metadata": {},
     "output_type": "execute_result"
    }
   ],
   "source": [
    "df_Fpet_npiq[['RID','SCANDATE_dt']].drop_duplicates().shape"
   ]
  },
  {
   "cell_type": "code",
   "execution_count": 68,
   "id": "graduate-pharmacy",
   "metadata": {},
   "outputs": [],
   "source": [
    "df_Fpet_npiq['diff_dt']=df_Fpet_npiq['VISDATE_dt']-df_Fpet_npiq['SCANDATE_dt']\n",
    "df_Fpet_npiq['diff_dt_abs']=df_Fpet_npiq['diff_dt'].abs()"
   ]
  },
  {
   "cell_type": "code",
   "execution_count": 69,
   "id": "greater-queensland",
   "metadata": {},
   "outputs": [],
   "source": [
    "# df_Fpet_npiq.diff_dt.value_counts()"
   ]
  },
  {
   "cell_type": "code",
   "execution_count": 70,
   "id": "expressed-slovak",
   "metadata": {},
   "outputs": [
    {
     "data": {
      "text/plain": [
       "(252, 8)"
      ]
     },
     "execution_count": 70,
     "metadata": {},
     "output_type": "execute_result"
    }
   ],
   "source": [
    "df_Fpet_selcol_62days=df_Fpet_npiq[ (df_Fpet_npiq['diff_dt_abs'] < '365 days')] # 182\n",
    "df_Fpet_selcol_62days.shape"
   ]
  },
  {
   "cell_type": "code",
   "execution_count": 71,
   "id": "beautiful-batch",
   "metadata": {},
   "outputs": [
    {
     "data": {
      "text/plain": [
       "(247, 2)"
      ]
     },
     "execution_count": 71,
     "metadata": {},
     "output_type": "execute_result"
    }
   ],
   "source": [
    "df_Fpet_selcol_62days[['RID','SCANDATE_dt']].drop_duplicates().shape"
   ]
  },
  {
   "cell_type": "code",
   "execution_count": 72,
   "id": "separated-symbol",
   "metadata": {},
   "outputs": [
    {
     "data": {
      "text/html": [
       "<div>\n",
       "<style scoped>\n",
       "    .dataframe tbody tr th:only-of-type {\n",
       "        vertical-align: middle;\n",
       "    }\n",
       "\n",
       "    .dataframe tbody tr th {\n",
       "        vertical-align: top;\n",
       "    }\n",
       "\n",
       "    .dataframe thead th {\n",
       "        text-align: right;\n",
       "    }\n",
       "</style>\n",
       "<table border=\"1\" class=\"dataframe\">\n",
       "  <thead>\n",
       "    <tr style=\"text-align: right;\">\n",
       "      <th></th>\n",
       "      <th>RID</th>\n",
       "      <th>VISCODE2</th>\n",
       "      <th>USERDATE_dt</th>\n",
       "      <th>VISDATE_dt</th>\n",
       "      <th>NPID</th>\n",
       "      <th>SCANDATE_dt</th>\n",
       "      <th>diff_dt</th>\n",
       "      <th>diff_dt_abs</th>\n",
       "    </tr>\n",
       "  </thead>\n",
       "  <tbody>\n",
       "    <tr>\n",
       "      <th>1039</th>\n",
       "      <td>89</td>\n",
       "      <td>m180</td>\n",
       "      <td>2022-08-17</td>\n",
       "      <td>2021-02-19</td>\n",
       "      <td>0.0</td>\n",
       "      <td>2020-08-25</td>\n",
       "      <td>178 days</td>\n",
       "      <td>178 days</td>\n",
       "    </tr>\n",
       "    <tr>\n",
       "      <th>10</th>\n",
       "      <td>96</td>\n",
       "      <td>m144</td>\n",
       "      <td>2018-03-06</td>\n",
       "      <td>2018-03-06</td>\n",
       "      <td>0.0</td>\n",
       "      <td>2017-03-16</td>\n",
       "      <td>355 days</td>\n",
       "      <td>355 days</td>\n",
       "    </tr>\n",
       "    <tr>\n",
       "      <th>16</th>\n",
       "      <td>96</td>\n",
       "      <td>m168</td>\n",
       "      <td>2020-03-19</td>\n",
       "      <td>2020-03-16</td>\n",
       "      <td>0.0</td>\n",
       "      <td>2021-03-02</td>\n",
       "      <td>-351 days</td>\n",
       "      <td>351 days</td>\n",
       "    </tr>\n",
       "    <tr>\n",
       "      <th>864</th>\n",
       "      <td>205</td>\n",
       "      <td>m174</td>\n",
       "      <td>2021-05-01</td>\n",
       "      <td>2021-05-01</td>\n",
       "      <td>0.0</td>\n",
       "      <td>2021-10-05</td>\n",
       "      <td>-157 days</td>\n",
       "      <td>157 days</td>\n",
       "    </tr>\n",
       "    <tr>\n",
       "      <th>639</th>\n",
       "      <td>337</td>\n",
       "      <td>m168</td>\n",
       "      <td>2020-05-21</td>\n",
       "      <td>2020-05-21</td>\n",
       "      <td>0.0</td>\n",
       "      <td>2021-05-19</td>\n",
       "      <td>-363 days</td>\n",
       "      <td>363 days</td>\n",
       "    </tr>\n",
       "  </tbody>\n",
       "</table>\n",
       "</div>"
      ],
      "text/plain": [
       "      RID VISCODE2 USERDATE_dt VISDATE_dt  NPID SCANDATE_dt   diff_dt  \\\n",
       "1039   89     m180  2022-08-17 2021-02-19   0.0  2020-08-25  178 days   \n",
       "10     96     m144  2018-03-06 2018-03-06   0.0  2017-03-16  355 days   \n",
       "16     96     m168  2020-03-19 2020-03-16   0.0  2021-03-02 -351 days   \n",
       "864   205     m174  2021-05-01 2021-05-01   0.0  2021-10-05 -157 days   \n",
       "639   337     m168  2020-05-21 2020-05-21   0.0  2021-05-19 -363 days   \n",
       "\n",
       "     diff_dt_abs  \n",
       "1039    178 days  \n",
       "10      355 days  \n",
       "16      351 days  \n",
       "864     157 days  \n",
       "639     363 days  "
      ]
     },
     "execution_count": 72,
     "metadata": {},
     "output_type": "execute_result"
    }
   ],
   "source": [
    "df_Fpet_selcol_62days.head()"
   ]
  },
  {
   "cell_type": "code",
   "execution_count": 73,
   "id": "unable-studio",
   "metadata": {},
   "outputs": [
    {
     "data": {
      "text/plain": [
       "(247, 8)"
      ]
     },
     "execution_count": 73,
     "metadata": {},
     "output_type": "execute_result"
    }
   ],
   "source": [
    "df_Fpet_selcol_62days_first=df_Fpet_selcol_62days.merge(pd.DataFrame(df_Fpet_selcol_62days[['RID','SCANDATE_dt','diff_dt_abs']].groupby(['RID','SCANDATE_dt']).diff_dt_abs.min()).reset_index(),on=['RID','SCANDATE_dt','diff_dt_abs']).sort_values(by='diff_dt')\n",
    "df_Fpet_selcol_62days_first.shape"
   ]
  },
  {
   "cell_type": "code",
   "execution_count": 74,
   "id": "infrared-adams",
   "metadata": {},
   "outputs": [],
   "source": [
    "# df_Fpet_selcol_62days_first"
   ]
  },
  {
   "cell_type": "code",
   "execution_count": 75,
   "id": "satisfied-heating",
   "metadata": {},
   "outputs": [
    {
     "data": {
      "text/plain": [
       "(247, 2)"
      ]
     },
     "execution_count": 75,
     "metadata": {},
     "output_type": "execute_result"
    }
   ],
   "source": [
    "df_Fpet_selcol_62days_first[['RID','SCANDATE_dt']].drop_duplicates().shape"
   ]
  },
  {
   "cell_type": "code",
   "execution_count": 76,
   "id": "prerequisite-factory",
   "metadata": {},
   "outputs": [
    {
     "data": {
      "text/plain": [
       "(13491, 4)"
      ]
     },
     "execution_count": 76,
     "metadata": {},
     "output_type": "execute_result"
    }
   ],
   "source": [
    "df_DX_adapt = df_DX[['RID','VISCODE2','EXAMDATE_dt','DX']].drop_duplicates().sort_values(by=['RID','EXAMDATE_dt']).rename(columns={'VISCODE2':'VISCODE2_dx'})\n",
    "df_DX_adapt.shape"
   ]
  },
  {
   "cell_type": "code",
   "execution_count": 77,
   "id": "legendary-coalition",
   "metadata": {},
   "outputs": [
    {
     "data": {
      "text/plain": [
       "((848, 11), (6283, 7))"
      ]
     },
     "execution_count": 77,
     "metadata": {},
     "output_type": "execute_result"
    }
   ],
   "source": [
    "# Merging all three\n",
    "df_Fpet_npiq_DX=df_Fpet_selcol_62days_first.merge(df_DX_adapt[df_DX_adapt['EXAMDATE_dt']>(df_Fpet_selcol_62days_first.SCANDATE_dt.min()-timedelta(days=365))]).sort_values(by=['RID','SCANDATE_dt'])\n",
    "df_Fpet_DX=df_Fpet_selcol.merge(df_DX_adapt[df_DX_adapt['EXAMDATE_dt']>(df_Fpet_selcol.SCANDATE_dt.min()-timedelta(days=182))]).sort_values(by=['RID','SCANDATE_dt'])\n",
    "\n",
    "df_Fpet_npiq_DX.shape,df_Fpet_DX.shape"
   ]
  },
  {
   "cell_type": "code",
   "execution_count": 78,
   "id": "binding-fancy",
   "metadata": {},
   "outputs": [],
   "source": [
    "df_Fpet_npiq_DX['diff_dx_dt']=df_Fpet_npiq_DX['EXAMDATE_dt']-df_Fpet_npiq_DX['SCANDATE_dt']\n",
    "df_Fpet_DX['diff_dx_dt']=df_Fpet_DX['EXAMDATE_dt']-df_Fpet_DX['SCANDATE_dt']"
   ]
  },
  {
   "cell_type": "code",
   "execution_count": 79,
   "id": "challenging-malaysia",
   "metadata": {},
   "outputs": [],
   "source": [
    "df_Fpet_npiq_DX['diff_dx_dt_abs']=df_Fpet_npiq_DX['diff_dx_dt'].abs()\n",
    "df_Fpet_DX['diff_dx_dt_abs']=df_Fpet_DX['diff_dx_dt'].abs()\n"
   ]
  },
  {
   "cell_type": "code",
   "execution_count": 80,
   "id": "chemical-separate",
   "metadata": {},
   "outputs": [
    {
     "data": {
      "text/plain": [
       "((358, 13), (2129, 9))"
      ]
     },
     "execution_count": 80,
     "metadata": {},
     "output_type": "execute_result"
    }
   ],
   "source": [
    "df_Fpet_DX_62days=df_Fpet_DX[ (df_Fpet_DX['diff_dx_dt_abs'] < '182 days')].sort_values(by='RID')\n",
    "\n",
    "df_Fpet_npiq_DX_62days=df_Fpet_npiq_DX[ (df_Fpet_npiq_DX['diff_dx_dt_abs'] < '365 days')].sort_values(by='RID')\n",
    "df_Fpet_npiq_DX_62days.shape,df_Fpet_DX_62days.shape"
   ]
  },
  {
   "cell_type": "code",
   "execution_count": 81,
   "id": "entire-recruitment",
   "metadata": {},
   "outputs": [
    {
     "data": {
      "text/plain": [
       "(1566, 9)"
      ]
     },
     "execution_count": 81,
     "metadata": {},
     "output_type": "execute_result"
    }
   ],
   "source": [
    "df_Fpet_DX_62days_first=df_Fpet_DX_62days.merge(pd.DataFrame(df_Fpet_DX_62days[['RID','SCANDATE_dt','diff_dx_dt_abs']].groupby(['RID','SCANDATE_dt']).diff_dx_dt_abs.min()).reset_index(),on=['RID','SCANDATE_dt','diff_dx_dt_abs']).sort_values(by='diff_dx_dt')\n",
    "df_Fpet_DX_62days_first.shape"
   ]
  },
  {
   "cell_type": "code",
   "execution_count": 82,
   "id": "australian-barrel",
   "metadata": {},
   "outputs": [
    {
     "data": {
      "text/plain": [
       "(358, 14)"
      ]
     },
     "execution_count": 82,
     "metadata": {},
     "output_type": "execute_result"
    }
   ],
   "source": [
    "df_Fpet_npiq_DX_62days['diff_ED_VD_dt']=df_Fpet_npiq_DX_62days['VISDATE_dt']-df_Fpet_npiq_DX_62days['EXAMDATE_dt']\n",
    "df_Fpet_npiq_DX_62days.shape"
   ]
  },
  {
   "cell_type": "code",
   "execution_count": 83,
   "id": "strategic-teens",
   "metadata": {},
   "outputs": [
    {
     "data": {
      "text/plain": [
       "(191, 14)"
      ]
     },
     "execution_count": 83,
     "metadata": {},
     "output_type": "execute_result"
    }
   ],
   "source": [
    "df_Fpet_npiq_DX_62days_final1=df_Fpet_npiq_DX_62days[(df_Fpet_npiq_DX_62days['diff_ED_VD_dt']> '-365 days') & (df_Fpet_npiq_DX_62days['diff_ED_VD_dt']<'365 days')].sort_values(by='diff_ED_VD_dt')\n",
    "df_Fpet_npiq_DX_62days_final1.shape"
   ]
  },
  {
   "cell_type": "code",
   "execution_count": 84,
   "id": "heated-contemporary",
   "metadata": {},
   "outputs": [
    {
     "data": {
      "text/plain": [
       "(183, 14)"
      ]
     },
     "execution_count": 84,
     "metadata": {},
     "output_type": "execute_result"
    }
   ],
   "source": [
    "df_Fpet_npiq_DX_62days_final3=df_Fpet_npiq_DX_62days_final1.merge(pd.DataFrame(df_Fpet_npiq_DX_62days_final1[['RID','SCANDATE_dt','diff_dx_dt_abs']].groupby(['RID','SCANDATE_dt']).diff_dx_dt_abs.min()).reset_index(),on=['RID','SCANDATE_dt','diff_dx_dt_abs']).sort_values(by='diff_ED_VD_dt')\n",
    "df_Fpet_npiq_DX_62days_final3.shape"
   ]
  },
  {
   "cell_type": "code",
   "execution_count": 85,
   "id": "educational-lithuania",
   "metadata": {},
   "outputs": [],
   "source": [
    "# df_Fpet_npiq_DX_62days_final3"
   ]
  },
  {
   "cell_type": "code",
   "execution_count": 86,
   "id": "ecological-reform",
   "metadata": {},
   "outputs": [
    {
     "data": {
      "text/plain": [
       "(183, 2)"
      ]
     },
     "execution_count": 86,
     "metadata": {},
     "output_type": "execute_result"
    }
   ],
   "source": [
    "df_Fpet_npiq_DX_62days_final3[['RID','SCANDATE_dt']].drop_duplicates().shape"
   ]
  },
  {
   "cell_type": "code",
   "execution_count": 87,
   "id": "loving-cruise",
   "metadata": {},
   "outputs": [
    {
     "data": {
      "text/html": [
       "<div>\n",
       "<style scoped>\n",
       "    .dataframe tbody tr th:only-of-type {\n",
       "        vertical-align: middle;\n",
       "    }\n",
       "\n",
       "    .dataframe tbody tr th {\n",
       "        vertical-align: top;\n",
       "    }\n",
       "\n",
       "    .dataframe thead th {\n",
       "        text-align: right;\n",
       "    }\n",
       "</style>\n",
       "<table border=\"1\" class=\"dataframe\">\n",
       "  <thead>\n",
       "    <tr style=\"text-align: right;\">\n",
       "      <th></th>\n",
       "      <th>RID</th>\n",
       "      <th>VISCODE2</th>\n",
       "      <th>USERDATE_dt</th>\n",
       "      <th>VISDATE_dt</th>\n",
       "      <th>NPID</th>\n",
       "      <th>SCANDATE_dt</th>\n",
       "      <th>diff_dt</th>\n",
       "      <th>diff_dt_abs</th>\n",
       "      <th>VISCODE2_dx</th>\n",
       "      <th>EXAMDATE_dt</th>\n",
       "      <th>DX</th>\n",
       "      <th>diff_dx_dt</th>\n",
       "      <th>diff_dx_dt_abs</th>\n",
       "      <th>diff_ED_VD_dt</th>\n",
       "    </tr>\n",
       "  </thead>\n",
       "  <tbody>\n",
       "    <tr>\n",
       "      <th>0</th>\n",
       "      <td>6069</td>\n",
       "      <td>m36</td>\n",
       "      <td>2020-10-09</td>\n",
       "      <td>2020-10-01</td>\n",
       "      <td>0.0</td>\n",
       "      <td>2021-09-08</td>\n",
       "      <td>-342 days</td>\n",
       "      <td>342 days</td>\n",
       "      <td>m48</td>\n",
       "      <td>2021-09-30</td>\n",
       "      <td>NL</td>\n",
       "      <td>22 days</td>\n",
       "      <td>22 days</td>\n",
       "      <td>-364 days</td>\n",
       "    </tr>\n",
       "    <tr>\n",
       "      <th>1</th>\n",
       "      <td>4441</td>\n",
       "      <td>m96</td>\n",
       "      <td>2021-09-20</td>\n",
       "      <td>2020-04-10</td>\n",
       "      <td>0.0</td>\n",
       "      <td>2021-04-08</td>\n",
       "      <td>-363 days</td>\n",
       "      <td>363 days</td>\n",
       "      <td>m108</td>\n",
       "      <td>2021-04-08</td>\n",
       "      <td>NL</td>\n",
       "      <td>0 days</td>\n",
       "      <td>0 days</td>\n",
       "      <td>-363 days</td>\n",
       "    </tr>\n",
       "    <tr>\n",
       "      <th>2</th>\n",
       "      <td>6547</td>\n",
       "      <td>m36</td>\n",
       "      <td>2021-09-30</td>\n",
       "      <td>2021-09-30</td>\n",
       "      <td>0.0</td>\n",
       "      <td>2022-09-29</td>\n",
       "      <td>-364 days</td>\n",
       "      <td>364 days</td>\n",
       "      <td>m48</td>\n",
       "      <td>2022-09-28</td>\n",
       "      <td>NL</td>\n",
       "      <td>-1 days</td>\n",
       "      <td>1 days</td>\n",
       "      <td>-363 days</td>\n",
       "    </tr>\n",
       "    <tr>\n",
       "      <th>3</th>\n",
       "      <td>6094</td>\n",
       "      <td>m42</td>\n",
       "      <td>2021-02-22</td>\n",
       "      <td>2021-02-22</td>\n",
       "      <td>0.0</td>\n",
       "      <td>2022-02-15</td>\n",
       "      <td>-358 days</td>\n",
       "      <td>358 days</td>\n",
       "      <td>m54</td>\n",
       "      <td>2022-02-15</td>\n",
       "      <td>NL</td>\n",
       "      <td>0 days</td>\n",
       "      <td>0 days</td>\n",
       "      <td>-358 days</td>\n",
       "    </tr>\n",
       "    <tr>\n",
       "      <th>4</th>\n",
       "      <td>5228</td>\n",
       "      <td>m90</td>\n",
       "      <td>2020-12-04</td>\n",
       "      <td>2020-11-30</td>\n",
       "      <td>0.0</td>\n",
       "      <td>2021-11-18</td>\n",
       "      <td>-353 days</td>\n",
       "      <td>353 days</td>\n",
       "      <td>m102</td>\n",
       "      <td>2021-11-23</td>\n",
       "      <td>NL</td>\n",
       "      <td>5 days</td>\n",
       "      <td>5 days</td>\n",
       "      <td>-358 days</td>\n",
       "    </tr>\n",
       "  </tbody>\n",
       "</table>\n",
       "</div>"
      ],
      "text/plain": [
       "    RID VISCODE2 USERDATE_dt VISDATE_dt  NPID SCANDATE_dt   diff_dt  \\\n",
       "0  6069      m36  2020-10-09 2020-10-01   0.0  2021-09-08 -342 days   \n",
       "1  4441      m96  2021-09-20 2020-04-10   0.0  2021-04-08 -363 days   \n",
       "2  6547      m36  2021-09-30 2021-09-30   0.0  2022-09-29 -364 days   \n",
       "3  6094      m42  2021-02-22 2021-02-22   0.0  2022-02-15 -358 days   \n",
       "4  5228      m90  2020-12-04 2020-11-30   0.0  2021-11-18 -353 days   \n",
       "\n",
       "  diff_dt_abs VISCODE2_dx EXAMDATE_dt  DX diff_dx_dt diff_dx_dt_abs  \\\n",
       "0    342 days         m48  2021-09-30  NL    22 days        22 days   \n",
       "1    363 days        m108  2021-04-08  NL     0 days         0 days   \n",
       "2    364 days         m48  2022-09-28  NL    -1 days         1 days   \n",
       "3    358 days         m54  2022-02-15  NL     0 days         0 days   \n",
       "4    353 days        m102  2021-11-23  NL     5 days         5 days   \n",
       "\n",
       "  diff_ED_VD_dt  \n",
       "0     -364 days  \n",
       "1     -363 days  \n",
       "2     -363 days  \n",
       "3     -358 days  \n",
       "4     -358 days  "
      ]
     },
     "execution_count": 87,
     "metadata": {},
     "output_type": "execute_result"
    }
   ],
   "source": [
    "df_Fpet_npiq_DX_62days_final3.head()"
   ]
  },
  {
   "cell_type": "code",
   "execution_count": 88,
   "id": "capital-reform",
   "metadata": {},
   "outputs": [],
   "source": [
    "df_Fpet_npiq_DX_62days_final3['diff_ud-vd']=df_Fpet_npiq_DX_62days_final3['USERDATE_dt']-df_Fpet_npiq_DX_62days_final3['VISDATE_dt']"
   ]
  },
  {
   "cell_type": "code",
   "execution_count": 89,
   "id": "disciplinary-marsh",
   "metadata": {},
   "outputs": [
    {
     "data": {
      "text/plain": [
       "(183, 342)"
      ]
     },
     "execution_count": 89,
     "metadata": {},
     "output_type": "execute_result"
    }
   ],
   "source": [
    "df_Fpet_npiq_DX_62days_final3_Fpet=df_Fpet_npiq_DX_62days_final3[['RID','SCANDATE_dt','VISCODE2_dx','DX','NPID']].merge(df_Fpet,on=['RID','SCANDATE_dt'])\n",
    "df_Fpet_npiq_DX_62days_final3_Fpet.shape"
   ]
  },
  {
   "cell_type": "code",
   "execution_count": 90,
   "id": "spoken-bermuda",
   "metadata": {},
   "outputs": [
    {
     "data": {
      "text/plain": [
       "0.0    170\n",
       "1.0     13\n",
       "Name: NPID, dtype: int64"
      ]
     },
     "execution_count": 90,
     "metadata": {},
     "output_type": "execute_result"
    }
   ],
   "source": [
    "df_Fpet_npiq_DX_62days_final3_Fpet.NPID.value_counts()"
   ]
  },
  {
   "cell_type": "code",
   "execution_count": 91,
   "id": "caring-mobile",
   "metadata": {},
   "outputs": [
    {
     "data": {
      "text/plain": [
       "NL           848\n",
       "MCI          507\n",
       "AD           203\n",
       "MCI to AD      4\n",
       "MCI to NL      2\n",
       "AD to MCI      1\n",
       "NL to MCI      1\n",
       "Name: DX, dtype: int64"
      ]
     },
     "execution_count": 91,
     "metadata": {},
     "output_type": "execute_result"
    }
   ],
   "source": [
    "df_Fpet_DX_62days_first.DX.value_counts()"
   ]
  },
  {
   "cell_type": "code",
   "execution_count": 92,
   "id": "exotic-belly",
   "metadata": {},
   "outputs": [
    {
     "data": {
      "text/plain": [
       "(1566, 9)"
      ]
     },
     "execution_count": 92,
     "metadata": {},
     "output_type": "execute_result"
    }
   ],
   "source": [
    "df_Fpet_DX_62days_first.shape"
   ]
  },
  {
   "cell_type": "code",
   "execution_count": 93,
   "id": "excellent-agreement",
   "metadata": {},
   "outputs": [
    {
     "data": {
      "text/html": [
       "<div>\n",
       "<style scoped>\n",
       "    .dataframe tbody tr th:only-of-type {\n",
       "        vertical-align: middle;\n",
       "    }\n",
       "\n",
       "    .dataframe tbody tr th {\n",
       "        vertical-align: top;\n",
       "    }\n",
       "\n",
       "    .dataframe thead th {\n",
       "        text-align: right;\n",
       "    }\n",
       "</style>\n",
       "<table border=\"1\" class=\"dataframe\">\n",
       "  <thead>\n",
       "    <tr style=\"text-align: right;\">\n",
       "      <th></th>\n",
       "      <th>RID</th>\n",
       "      <th>SCANDATE</th>\n",
       "      <th>SCANDATE_dt</th>\n",
       "      <th>qc_flag</th>\n",
       "      <th>VISCODE2_dx</th>\n",
       "      <th>EXAMDATE_dt</th>\n",
       "      <th>DX</th>\n",
       "      <th>diff_dx_dt</th>\n",
       "      <th>diff_dx_dt_abs</th>\n",
       "    </tr>\n",
       "  </thead>\n",
       "  <tbody>\n",
       "    <tr>\n",
       "      <th>797</th>\n",
       "      <td>6206</td>\n",
       "      <td>2019-11-12</td>\n",
       "      <td>2019-11-12</td>\n",
       "      <td>2</td>\n",
       "      <td>m12</td>\n",
       "      <td>2019-05-16</td>\n",
       "      <td>MCI</td>\n",
       "      <td>-180 days</td>\n",
       "      <td>180 days</td>\n",
       "    </tr>\n",
       "    <tr>\n",
       "      <th>535</th>\n",
       "      <td>5169</td>\n",
       "      <td>2017-11-16</td>\n",
       "      <td>2017-11-16</td>\n",
       "      <td>2</td>\n",
       "      <td>m48</td>\n",
       "      <td>2017-05-25</td>\n",
       "      <td>NL</td>\n",
       "      <td>-175 days</td>\n",
       "      <td>175 days</td>\n",
       "    </tr>\n",
       "    <tr>\n",
       "      <th>156</th>\n",
       "      <td>4028</td>\n",
       "      <td>2016-01-12</td>\n",
       "      <td>2016-01-12</td>\n",
       "      <td>2</td>\n",
       "      <td>m48</td>\n",
       "      <td>2015-07-23</td>\n",
       "      <td>NL</td>\n",
       "      <td>-173 days</td>\n",
       "      <td>173 days</td>\n",
       "    </tr>\n",
       "    <tr>\n",
       "      <th>1219</th>\n",
       "      <td>6618</td>\n",
       "      <td>2019-07-23</td>\n",
       "      <td>2019-07-23</td>\n",
       "      <td>2</td>\n",
       "      <td>bl</td>\n",
       "      <td>2019-02-04</td>\n",
       "      <td>MCI</td>\n",
       "      <td>-169 days</td>\n",
       "      <td>169 days</td>\n",
       "    </tr>\n",
       "    <tr>\n",
       "      <th>633</th>\n",
       "      <td>6027</td>\n",
       "      <td>2017-11-07</td>\n",
       "      <td>2017-11-07</td>\n",
       "      <td>2</td>\n",
       "      <td>sc</td>\n",
       "      <td>2017-05-23</td>\n",
       "      <td>NL</td>\n",
       "      <td>-168 days</td>\n",
       "      <td>168 days</td>\n",
       "    </tr>\n",
       "  </tbody>\n",
       "</table>\n",
       "</div>"
      ],
      "text/plain": [
       "       RID    SCANDATE SCANDATE_dt  qc_flag VISCODE2_dx EXAMDATE_dt   DX  \\\n",
       "797   6206  2019-11-12  2019-11-12        2         m12  2019-05-16  MCI   \n",
       "535   5169  2017-11-16  2017-11-16        2         m48  2017-05-25   NL   \n",
       "156   4028  2016-01-12  2016-01-12        2         m48  2015-07-23   NL   \n",
       "1219  6618  2019-07-23  2019-07-23        2          bl  2019-02-04  MCI   \n",
       "633   6027  2017-11-07  2017-11-07        2          sc  2017-05-23   NL   \n",
       "\n",
       "     diff_dx_dt diff_dx_dt_abs  \n",
       "797   -180 days       180 days  \n",
       "535   -175 days       175 days  \n",
       "156   -173 days       173 days  \n",
       "1219  -169 days       169 days  \n",
       "633   -168 days       168 days  "
      ]
     },
     "execution_count": 93,
     "metadata": {},
     "output_type": "execute_result"
    }
   ],
   "source": [
    "df_Fpet_DX_62days_first.head()"
   ]
  },
  {
   "cell_type": "code",
   "execution_count": null,
   "id": "equivalent-caution",
   "metadata": {},
   "outputs": [],
   "source": []
  },
  {
   "cell_type": "code",
   "execution_count": 94,
   "id": "reduced-offering",
   "metadata": {},
   "outputs": [
    {
     "data": {
      "text/plain": [
       "(1566, 341)"
      ]
     },
     "execution_count": 94,
     "metadata": {},
     "output_type": "execute_result"
    }
   ],
   "source": [
    "df_Fpet_DX_62days_first_Fpet=df_Fpet_DX_62days_first[['RID','SCANDATE_dt','VISCODE2_dx','DX']].merge(df_Fpet,on=['RID','SCANDATE_dt'])\n",
    "df_Fpet_DX_62days_first_Fpet.shape"
   ]
  },
  {
   "cell_type": "code",
   "execution_count": 95,
   "id": "determined-crest",
   "metadata": {},
   "outputs": [
    {
     "data": {
      "text/plain": [
       "919"
      ]
     },
     "execution_count": 95,
     "metadata": {},
     "output_type": "execute_result"
    }
   ],
   "source": [
    "df_Fpet_DX_62days_first_Fpet.RID.nunique()"
   ]
  },
  {
   "cell_type": "code",
   "execution_count": 96,
   "id": "viral-assembly",
   "metadata": {},
   "outputs": [
    {
     "data": {
      "text/plain": [
       "1    507\n",
       "2    242\n",
       "3    114\n",
       "4     47\n",
       "5      9\n",
       "Name: RID, dtype: int64"
      ]
     },
     "execution_count": 96,
     "metadata": {},
     "output_type": "execute_result"
    }
   ],
   "source": [
    "df_Fpet_DX_62days_first_Fpet.RID.value_counts().value_counts()"
   ]
  },
  {
   "cell_type": "code",
   "execution_count": 97,
   "id": "close-socket",
   "metadata": {},
   "outputs": [
    {
     "data": {
      "text/plain": [
       "DX\n",
       "AD           201\n",
       "AD to MCI      1\n",
       "MCI          505\n",
       "MCI to AD      4\n",
       "MCI to NL      2\n",
       "NL           843\n",
       "NL to MCI      1\n",
       "Name: CTX_ENTORHINAL_SUVR, dtype: int64"
      ]
     },
     "execution_count": 97,
     "metadata": {},
     "output_type": "execute_result"
    }
   ],
   "source": [
    "df_Fpet_DX_62days_first_Fpet.groupby('DX')['CTX_ENTORHINAL_SUVR'].count()"
   ]
  },
  {
   "cell_type": "code",
   "execution_count": 98,
   "id": "adolescent-farmer",
   "metadata": {},
   "outputs": [
    {
     "data": {
      "text/plain": [
       "DX\n",
       "AD     1.566701\n",
       "MCI    1.321861\n",
       "NL     1.174024\n",
       "Name: CTX_ENTORHINAL_SUVR, dtype: float64"
      ]
     },
     "execution_count": 98,
     "metadata": {},
     "output_type": "execute_result"
    }
   ],
   "source": [
    "df_Fpet_DX_62days_first_Fpet[df_Fpet_DX_62days_first_Fpet['DX'].isin(['NL','MCI','AD'])].groupby('DX')['CTX_ENTORHINAL_SUVR'].mean()"
   ]
  },
  {
   "cell_type": "code",
   "execution_count": 99,
   "id": "atomic-economy",
   "metadata": {},
   "outputs": [
    {
     "data": {
      "text/plain": [
       "DX\n",
       "AD     1.458808\n",
       "MCI    1.350216\n",
       "NL     1.312368\n",
       "Name: RIGHT_ACCUMBENS_AREA_SUVR, dtype: float64"
      ]
     },
     "execution_count": 99,
     "metadata": {},
     "output_type": "execute_result"
    }
   ],
   "source": [
    "df_Fpet_DX_62days_first_Fpet[df_Fpet_DX_62days_first_Fpet['DX'].isin(['NL','MCI','AD'])].groupby('DX')['RIGHT_ACCUMBENS_AREA_SUVR'].mean()"
   ]
  },
  {
   "cell_type": "code",
   "execution_count": 100,
   "id": "agricultural-queensland",
   "metadata": {},
   "outputs": [
    {
     "data": {
      "text/plain": [
       "DX\n",
       "AD     198\n",
       "MCI    459\n",
       "NL     807\n",
       "Name: RIGHT_AMYGDALA_SUVR, dtype: int64"
      ]
     },
     "execution_count": 100,
     "metadata": {},
     "output_type": "execute_result"
    }
   ],
   "source": [
    "df_Fpet_DX_62days_first_Fpet[df_Fpet_DX_62days_first_Fpet['DX'].isin(['NL','MCI','AD'])].groupby('DX')['RIGHT_AMYGDALA_SUVR'].count()"
   ]
  },
  {
   "cell_type": "code",
   "execution_count": 101,
   "id": "exterior-timer",
   "metadata": {},
   "outputs": [
    {
     "data": {
      "text/plain": [
       "DX\n",
       "AD     1.613601\n",
       "MCI    1.379532\n",
       "NL     1.229020\n",
       "Name: RIGHT_AMYGDALA_SUVR, dtype: float64"
      ]
     },
     "execution_count": 101,
     "metadata": {},
     "output_type": "execute_result"
    }
   ],
   "source": [
    "df_Fpet_DX_62days_first_Fpet[df_Fpet_DX_62days_first_Fpet['DX'].isin(['NL','MCI','AD'])].groupby('DX')['RIGHT_AMYGDALA_SUVR'].mean()"
   ]
  },
  {
   "cell_type": "code",
   "execution_count": 102,
   "id": "velvet-killing",
   "metadata": {},
   "outputs": [],
   "source": [
    "# df_Fpet_DX_62days_first_Fpet.RID.value_counts().head(9).index.values"
   ]
  },
  {
   "cell_type": "code",
   "execution_count": 103,
   "id": "living-switzerland",
   "metadata": {},
   "outputs": [],
   "source": [
    "# df_Fpet_DX_62days_first_Fpet[df_Fpet_DX_62days_first_Fpet.RID.isin(df_Fpet_DX_62days_first_Fpet.RID.value_counts().head(9).index.values)][['RID','DX','RIGHT_AMYGDALA_SUVR']].sort_values(by='RID')"
   ]
  },
  {
   "cell_type": "code",
   "execution_count": 104,
   "id": "fuzzy-director",
   "metadata": {},
   "outputs": [],
   "source": [
    "# df_Fpet_DX_62days_first_Fpet[df_Fpet_DX_62days_first_Fpet.RID.isin(df_Fpet_DX_62days_first_Fpet.RID.value_counts().head(9).index.values)][['RID','DX','RIGHT_AMYGDALA_SUVR']].groupby('DX').RIGHT_AMYGDALA_SUVR.mean()"
   ]
  },
  {
   "cell_type": "code",
   "execution_count": 105,
   "id": "appointed-thickness",
   "metadata": {},
   "outputs": [
    {
     "data": {
      "text/plain": [
       "((6, 347), (1566, 341))"
      ]
     },
     "execution_count": 105,
     "metadata": {},
     "output_type": "execute_result"
    }
   ],
   "source": [
    "df_Fpet_DX_62days_first_Fpet_NPID=df_Fpet_DX_62days_first_Fpet.merge(df_NPIQ[df_NPIQ_selcol_lt].rename(columns={'VISCODE2':'VISCODE2_dx'}),on=['RID','VISCODE2_dx'])\n",
    "df_Fpet_DX_62days_first_Fpet_NPID.shape,df_Fpet_DX_62days_first_Fpet.shape"
   ]
  },
  {
   "cell_type": "code",
   "execution_count": 106,
   "id": "civilian-cocktail",
   "metadata": {},
   "outputs": [
    {
     "data": {
      "text/plain": [
       "((2877, 348), (1566, 341))"
      ]
     },
     "execution_count": 106,
     "metadata": {},
     "output_type": "execute_result"
    }
   ],
   "source": [
    "df_Fpet_DX_62days_first_Fpet_NPID=df_Fpet_DX_62days_first_Fpet.merge(df_NPIQ[df_NPIQ_selcol_lt].rename(columns={'VISCODE2':'VISCODE2_dx'}),on=['RID'])\n",
    "df_Fpet_DX_62days_first_Fpet_NPID.shape,df_Fpet_DX_62days_first_Fpet.shape"
   ]
  },
  {
   "cell_type": "code",
   "execution_count": 107,
   "id": "amber-prophet",
   "metadata": {},
   "outputs": [
    {
     "data": {
      "text/plain": [
       "(981, 2)"
      ]
     },
     "execution_count": 107,
     "metadata": {},
     "output_type": "execute_result"
    }
   ],
   "source": [
    "df_Fpet_DX_62days_first_Fpet_NPID[['RID','SCANDATE_dt']].drop_duplicates().shape"
   ]
  },
  {
   "cell_type": "code",
   "execution_count": 108,
   "id": "treated-atlantic",
   "metadata": {},
   "outputs": [
    {
     "data": {
      "text/plain": [
       "NPID\n",
       "-1.0       3\n",
       " 0.0    2213\n",
       " 1.0     373\n",
       " 2.0       5\n",
       "Name: RIGHT_AMYGDALA_SUVR, dtype: int64"
      ]
     },
     "execution_count": 108,
     "metadata": {},
     "output_type": "execute_result"
    }
   ],
   "source": [
    "df_Fpet_DX_62days_first_Fpet_NPID.groupby('NPID')['RIGHT_AMYGDALA_SUVR'].count()"
   ]
  },
  {
   "cell_type": "code",
   "execution_count": 109,
   "id": "referenced-infection",
   "metadata": {},
   "outputs": [
    {
     "data": {
      "text/plain": [
       "NPID\n",
       "0.0    1.293255\n",
       "1.0    1.300507\n",
       "Name: RIGHT_AMYGDALA_SUVR, dtype: float64"
      ]
     },
     "execution_count": 109,
     "metadata": {},
     "output_type": "execute_result"
    }
   ],
   "source": [
    "df_Fpet_DX_62days_first_Fpet_NPID[df_Fpet_DX_62days_first_Fpet_NPID.NPID.isin([0,1])].groupby('NPID')['RIGHT_AMYGDALA_SUVR'].mean()"
   ]
  },
  {
   "cell_type": "code",
   "execution_count": 110,
   "id": "liable-retro",
   "metadata": {},
   "outputs": [
    {
     "data": {
      "text/plain": [
       "NPID\n",
       "0.0    1.228127\n",
       "1.0    1.243933\n",
       "Name: CTX_ENTORHINAL_SUVR, dtype: float64"
      ]
     },
     "execution_count": 110,
     "metadata": {},
     "output_type": "execute_result"
    }
   ],
   "source": [
    "df_Fpet_DX_62days_first_Fpet_NPID[df_Fpet_DX_62days_first_Fpet_NPID.NPID.isin([0,1])].groupby('NPID')['CTX_ENTORHINAL_SUVR'].mean()"
   ]
  },
  {
   "cell_type": "code",
   "execution_count": 111,
   "id": "functioning-protocol",
   "metadata": {},
   "outputs": [
    {
     "data": {
      "text/plain": [
       "NPID\n",
       "0.0    169\n",
       "1.0     12\n",
       "Name: CTX_ENTORHINAL_SUVR, dtype: int64"
      ]
     },
     "execution_count": 111,
     "metadata": {},
     "output_type": "execute_result"
    }
   ],
   "source": [
    "df_Fpet_npiq_DX_62days_final3_Fpet.groupby('NPID')['CTX_ENTORHINAL_SUVR'].count()"
   ]
  },
  {
   "cell_type": "code",
   "execution_count": 112,
   "id": "green-impact",
   "metadata": {},
   "outputs": [
    {
     "data": {
      "text/plain": [
       "NPID\n",
       "0.0    1.179609\n",
       "1.0    1.189917\n",
       "Name: CTX_ENTORHINAL_SUVR, dtype: float64"
      ]
     },
     "execution_count": 112,
     "metadata": {},
     "output_type": "execute_result"
    }
   ],
   "source": [
    "df_Fpet_npiq_DX_62days_final3_Fpet.groupby('NPID')['CTX_ENTORHINAL_SUVR'].mean()"
   ]
  },
  {
   "cell_type": "code",
   "execution_count": 113,
   "id": "residential-battlefield",
   "metadata": {},
   "outputs": [
    {
     "data": {
      "text/plain": [
       "NPID\n",
       "0.0    160\n",
       "1.0     11\n",
       "Name: RIGHT_AMYGDALA_SUVR, dtype: int64"
      ]
     },
     "execution_count": 113,
     "metadata": {},
     "output_type": "execute_result"
    }
   ],
   "source": [
    "df_Fpet_npiq_DX_62days_final3_Fpet.groupby('NPID')['RIGHT_AMYGDALA_SUVR'].count()"
   ]
  },
  {
   "cell_type": "code",
   "execution_count": 114,
   "id": "adaptive-pacific",
   "metadata": {},
   "outputs": [
    {
     "data": {
      "text/plain": [
       "NPID\n",
       "0.0    1.234587\n",
       "1.0    1.236727\n",
       "Name: RIGHT_AMYGDALA_SUVR, dtype: float64"
      ]
     },
     "execution_count": 114,
     "metadata": {},
     "output_type": "execute_result"
    }
   ],
   "source": [
    "df_Fpet_npiq_DX_62days_final3_Fpet.groupby('NPID')['RIGHT_AMYGDALA_SUVR'].mean()"
   ]
  },
  {
   "cell_type": "code",
   "execution_count": 153,
   "id": "religious-adult",
   "metadata": {},
   "outputs": [
    {
     "data": {
      "text/plain": [
       "1.2780052631578946"
      ]
     },
     "execution_count": 153,
     "metadata": {},
     "output_type": "execute_result"
    }
   ],
   "source": [
    "df_Fpet_DX_62days_first_Fpet[(df_Fpet_DX_62days_first_Fpet['DX']=='MCI')& (df_Fpet_DX_62days_first_Fpet.RID.isin(df_NPIQ[df_NPIQ['NPID']==0].RID))]['CTX_ENTORHINAL_SUVR'].mean()"
   ]
  },
  {
   "cell_type": "code",
   "execution_count": 151,
   "id": "capital-daniel",
   "metadata": {},
   "outputs": [
    {
     "data": {
      "text/plain": [
       "1.2533692307692308"
      ]
     },
     "execution_count": 151,
     "metadata": {},
     "output_type": "execute_result"
    }
   ],
   "source": [
    "df_Fpet_DX_62days_first_Fpet[(df_Fpet_DX_62days_first_Fpet['DX']=='MCI')& (df_Fpet_DX_62days_first_Fpet.RID.isin(df_NPIQ[df_NPIQ['NPID']==1].RID))]['CTX_ENTORHINAL_SUVR'].mean()"
   ]
  },
  {
   "cell_type": "code",
   "execution_count": null,
   "id": "measured-million",
   "metadata": {},
   "outputs": [],
   "source": []
  }
 ],
 "metadata": {
  "kernelspec": {
   "display_name": "Python 3",
   "language": "python",
   "name": "python3"
  },
  "language_info": {
   "codemirror_mode": {
    "name": "ipython",
    "version": 3
   },
   "file_extension": ".py",
   "mimetype": "text/x-python",
   "name": "python",
   "nbconvert_exporter": "python",
   "pygments_lexer": "ipython3",
   "version": "3.8.8"
  }
 },
 "nbformat": 4,
 "nbformat_minor": 5
}
