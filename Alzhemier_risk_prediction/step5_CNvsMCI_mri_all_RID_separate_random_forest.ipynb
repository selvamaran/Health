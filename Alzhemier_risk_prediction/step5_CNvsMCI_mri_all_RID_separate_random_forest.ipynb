{
 "cells": [
  {
   "cell_type": "code",
   "execution_count": 1,
   "id": "judicial-measure",
   "metadata": {},
   "outputs": [],
   "source": [
    "import numpy as np\n",
    "import os\n",
    "import pandas as pd\n",
    "import seaborn as sns\n",
    "import random\n",
    "import matplotlib.pyplot as plt\n",
    "%matplotlib inline"
   ]
  },
  {
   "cell_type": "code",
   "execution_count": 2,
   "id": "optimum-hormone",
   "metadata": {},
   "outputs": [],
   "source": [
    "# import torch\n",
    "# import torch.nn as nn\n",
    "# import torch.nn.functional as F\n",
    "# import torch.optim as optim\n",
    "# from torch.utils.data import DataLoader"
   ]
  },
  {
   "cell_type": "code",
   "execution_count": 3,
   "id": "occupied-hypothesis",
   "metadata": {},
   "outputs": [],
   "source": [
    "from keras.utils import to_categorical"
   ]
  },
  {
   "cell_type": "code",
   "execution_count": 4,
   "id": "infectious-edgar",
   "metadata": {},
   "outputs": [],
   "source": [
    "from sklearn.preprocessing import LabelEncoder\n",
    "from sklearn.model_selection import train_test_split\n",
    "from sklearn.metrics import precision_score, recall_score, roc_auc_score, f1_score, confusion_matrix, ConfusionMatrixDisplay\n",
    "from sklearn.ensemble import RandomForestClassifier\n",
    "from sklearn.metrics import accuracy_score, classification_report"
   ]
  },
  {
   "cell_type": "code",
   "execution_count": 5,
   "id": "rapid-drinking",
   "metadata": {},
   "outputs": [],
   "source": [
    "from sklearn.model_selection import cross_val_score\n",
    "from sklearn.model_selection import RepeatedStratifiedKFold\n",
    "from imblearn.ensemble import BalancedRandomForestClassifier"
   ]
  },
  {
   "cell_type": "code",
   "execution_count": 6,
   "id": "talented-camcorder",
   "metadata": {},
   "outputs": [],
   "source": [
    "# file_loc='../../ADNI_data/future_dx_prediction_alz_plos/'\n",
    "# # df_all = pd.read_csv('step5_modified_mri_alz_future_prediction_plos.csv')\n",
    "# # df_all = pd.read_csv('step5_modified_all_mri_alz_future_prediction_plos.csv')\n",
    "# df_all = pd.read_csv(file_loc + 'step5_modified_all_mri_imageidna_drop_alz_future_prediction_plos.csv')"
   ]
  },
  {
   "cell_type": "code",
   "execution_count": 7,
   "id": "overall-british",
   "metadata": {},
   "outputs": [
    {
     "data": {
      "text/plain": [
       "((3390, 32), (3390, 38), (1419, 98))"
      ]
     },
     "execution_count": 7,
     "metadata": {},
     "output_type": "execute_result"
    }
   ],
   "source": [
    "file_loc='../../ADNI_data/future_dx_prediction_alz_plos/'\n",
    "# df_all = pd.read_csv('step5_modified_mri_alz_future_prediction_plos.csv')\n",
    "df_all_step3 = pd.read_csv(file_loc + 'df_step3_addedmri_dep_fl.csv')\n",
    "df_all_raw = pd.read_csv(file_loc + 'step5_modified_all_mri_imageidna_drop_alz_future_prediction_plos.csv')\n",
    "df_all_absvol = pd.read_csv(file_loc + 'df_all_mri_absvol_ploscomp.csv')\n",
    "\n",
    "df_all_raw.shape,df_all_absvol.shape,df_all_step3.shape"
   ]
  },
  {
   "cell_type": "code",
   "execution_count": 8,
   "id": "fitted-regular",
   "metadata": {},
   "outputs": [
    {
     "data": {
      "text/plain": [
       "Index(['RID', 'COLPROT', 'ORIGPROT', 'PTID', 'SITE', 'VISCODE', 'EXAMDATE',\n",
       "       'FLDSTRENG', 'FSVERSION', 'IMAGEUID', 'Years_bl', 'Month_bl', 'Month',\n",
       "       'M', 'update_stamp', 'AGE', 'PTGENDER', 'PTEDUCAT', 'PTETHCAT',\n",
       "       'PTRACCAT', 'PTMARRY', 'APOE4', 'CDRSB', 'FAQ', 'EcogPtMem',\n",
       "       'EcogPtLang', 'EcogPtVisspat', 'EcogPtPlan', 'EcogPtOrgan',\n",
       "       'EcogPtDivatt', 'EcogPtTotal', 'EcogSPMem', 'EcogSPLang',\n",
       "       'EcogSPVisspat', 'EcogSPPlan', 'EcogSPOrgan', 'EcogSPDivatt',\n",
       "       'EcogSPTotal', 'ADAS11', 'ADAS13', 'ADASQ4', 'MMSE', 'RAVLT_immediate',\n",
       "       'RAVLT_learning', 'RAVLT_forgetting', 'RAVLT_perc_forgetting',\n",
       "       'LDELTOTAL', 'DIGITSCOR', 'TRABSCOR', 'MOCA', 'mPACCdigit',\n",
       "       'mPACCtrailsB', 'ABETA', 'TAU', 'PTAU', 'FDG', 'PIB', 'AV45',\n",
       "       'Ventricles', 'Hippocampus', 'WholeBrain', 'Entorhinal', 'Fusiform',\n",
       "       'MidTemp', 'ICV', 'DX', 'FMonth_0', 'FMonth_1', 'FMonth_2', 'FMonth_3',\n",
       "       'FMonth_4', 'FMonth_5', 'FDX_0', 'FDX_1', 'FDX_2', 'FDX_3', 'FDX_4',\n",
       "       'FDX_5', 'TRAJ_LABEL', 'RightTemporalPole', 'RightParahippocampal',\n",
       "       'RightInferiorTemporal', 'RightInferiorParietal',\n",
       "       'RightIsthmusCingulate', 'RightBankssts', 'RightPrecuneus',\n",
       "       'RightAmygdala', 'RightAccumbensArea', 'RightMedialOrbitofrontal',\n",
       "       'RightPallidum', 'RightCaudalMiddleFrontal', 'RightPutamen',\n",
       "       'RightRostralAnteriorCingulate', 'RightParacentral', 'RightPrecentral',\n",
       "       'RightLingual', 'psycond', 'GDTOTAL'],\n",
       "      dtype='object')"
      ]
     },
     "execution_count": 8,
     "metadata": {},
     "output_type": "execute_result"
    }
   ],
   "source": [
    "df_all_step3.columns"
   ]
  },
  {
   "cell_type": "code",
   "execution_count": 9,
   "id": "green-pursuit",
   "metadata": {},
   "outputs": [
    {
     "data": {
      "text/plain": [
       "Index(['RID', 'Yr_visit', 'DX', 'FollowupYear', 'FollowupDX', 'IMAGEUID',\n",
       "       'RightEntorhinal', 'RightTemporalPole', 'RightParahippocampal',\n",
       "       'RightInferiorTemporal', 'RightMiddleTemporal', 'RightFusiform',\n",
       "       'RightInferiorParietal', 'RightIsthmusCingulate', 'RightBankssts',\n",
       "       'RightPrecuneus', 'RightHippocampus', 'RightAmygdala',\n",
       "       'RightAccumbensArea', 'RightMedialOrbitofrontal', 'RightPallidum',\n",
       "       'RightCaudalMiddleFrontal', 'RightPutamen',\n",
       "       'RightRostralAnteriorCingulate', 'RightParacentral', 'RightPrecentral',\n",
       "       'RightLingual', 'LeftEntorhinal', 'LeftHippocampus', 'LeftFusiform',\n",
       "       'LeftMiddleTemporal', 'Ventricles', 'Hippocampus', 'WholeBrain',\n",
       "       'Entorhinal', 'Fusiform', 'MidTemp', 'ICV'],\n",
       "      dtype='object')"
      ]
     },
     "execution_count": 9,
     "metadata": {},
     "output_type": "execute_result"
    }
   ],
   "source": [
    "df_all_absvol.columns"
   ]
  },
  {
   "cell_type": "code",
   "execution_count": 10,
   "id": "unsigned-influence",
   "metadata": {},
   "outputs": [
    {
     "data": {
      "text/plain": [
       "[2792, 6701, 2764, 9009, 1642]"
      ]
     },
     "execution_count": 10,
     "metadata": {},
     "output_type": "execute_result"
    }
   ],
   "source": [
    "df_pre_result = pd.read_csv('df_CNvsMCI_mri_all_absvol_RID_separate_random_forest.csv')\n",
    "rdseed_pre_list = df_pre_result['rdseed_list'].tolist()\n",
    "# rdseed_pre_list = [4781, 595, 8440, 7931, 1045, 1968, 5143, 6628, 6109, 7361]\n",
    "# df_pre_result['rdseed_list']\n",
    "rdseed_pre_list[0:5]"
   ]
  },
  {
   "cell_type": "code",
   "execution_count": 11,
   "id": "ceramic-license",
   "metadata": {},
   "outputs": [],
   "source": [
    "# df_all=df_all_raw.copy()\n",
    "# df_all=df_all_absvol.copy()"
   ]
  },
  {
   "cell_type": "code",
   "execution_count": 12,
   "id": "duplicate-rogers",
   "metadata": {},
   "outputs": [
    {
     "data": {
      "text/plain": [
       "Index(['RID', 'Yr_visit', 'GDTOTAL', 'IMAGEUID', 'RightTemporalPole',\n",
       "       'RightParahippocampal', 'RightInferiorTemporal',\n",
       "       'RightInferiorParietal', 'RightIsthmusCingulate', 'RightBankssts',\n",
       "       'RightPrecuneus', 'RightAmygdala', 'RightAccumbensArea',\n",
       "       'RightMedialOrbitofrontal', 'RightPallidum', 'RightCaudalMiddleFrontal',\n",
       "       'RightPutamen', 'RightRostralAnteriorCingulate', 'RightParacentral',\n",
       "       'RightPrecentral', 'RightLingual', 'Ventricles', 'Hippocampus',\n",
       "       'WholeBrain', 'Entorhinal', 'Fusiform', 'MidTemp', 'ICV', 'DX',\n",
       "       'FollowupYear', 'FollowupDX', 'TrainValTest'],\n",
       "      dtype='object')"
      ]
     },
     "execution_count": 12,
     "metadata": {},
     "output_type": "execute_result"
    }
   ],
   "source": [
    "df_all_raw.columns"
   ]
  },
  {
   "cell_type": "code",
   "execution_count": 13,
   "id": "crucial-hungarian",
   "metadata": {},
   "outputs": [
    {
     "data": {
      "text/plain": [
       "Index(['RID', 'Yr_visit', 'DX', 'FollowupYear', 'FollowupDX', 'IMAGEUID',\n",
       "       'RightEntorhinal', 'RightTemporalPole', 'RightParahippocampal',\n",
       "       'RightInferiorTemporal', 'RightMiddleTemporal', 'RightFusiform',\n",
       "       'RightInferiorParietal', 'RightIsthmusCingulate', 'RightBankssts',\n",
       "       'RightPrecuneus', 'RightHippocampus', 'RightAmygdala',\n",
       "       'RightAccumbensArea', 'RightMedialOrbitofrontal', 'RightPallidum',\n",
       "       'RightCaudalMiddleFrontal', 'RightPutamen',\n",
       "       'RightRostralAnteriorCingulate', 'RightParacentral', 'RightPrecentral',\n",
       "       'RightLingual', 'LeftEntorhinal', 'LeftHippocampus', 'LeftFusiform',\n",
       "       'LeftMiddleTemporal', 'Ventricles', 'Hippocampus', 'WholeBrain',\n",
       "       'Entorhinal', 'Fusiform', 'MidTemp', 'ICV'],\n",
       "      dtype='object')"
      ]
     },
     "execution_count": 13,
     "metadata": {},
     "output_type": "execute_result"
    }
   ],
   "source": [
    "df_all_absvol.columns"
   ]
  },
  {
   "cell_type": "code",
   "execution_count": 14,
   "id": "sticky-nigeria",
   "metadata": {},
   "outputs": [],
   "source": [
    "df_all = df_all_absvol.merge(df_all_step3[['RID','AGE','PTEDUCAT','GDTOTAL']])"
   ]
  },
  {
   "cell_type": "code",
   "execution_count": 15,
   "id": "radio-extent",
   "metadata": {},
   "outputs": [
    {
     "data": {
      "text/plain": [
       "(3372, 3381, 3381)"
      ]
     },
     "execution_count": 15,
     "metadata": {},
     "output_type": "execute_result"
    }
   ],
   "source": [
    "df_all['GDTOTAL'].count(),df_all['PTEDUCAT'].count(),df_all['AGE'].count()"
   ]
  },
  {
   "cell_type": "code",
   "execution_count": 16,
   "id": "durable-usage",
   "metadata": {},
   "outputs": [],
   "source": [
    "# df_all['GDTOTAL'].value_counts()"
   ]
  },
  {
   "cell_type": "code",
   "execution_count": 17,
   "id": "ceramic-interim",
   "metadata": {},
   "outputs": [],
   "source": [
    "df_all['GDTOTAL'] = df_all['GDTOTAL'].fillna(df_all['GDTOTAL'].mode())"
   ]
  },
  {
   "cell_type": "code",
   "execution_count": 18,
   "id": "authorized-excess",
   "metadata": {},
   "outputs": [
    {
     "data": {
      "text/plain": [
       "(3372, 3381, 3381)"
      ]
     },
     "execution_count": 18,
     "metadata": {},
     "output_type": "execute_result"
    }
   ],
   "source": [
    "df_all['GDTOTAL'].count(),df_all['PTEDUCAT'].count(),df_all['AGE'].count()"
   ]
  },
  {
   "cell_type": "code",
   "execution_count": 19,
   "id": "facial-christian",
   "metadata": {},
   "outputs": [
    {
     "data": {
      "text/plain": [
       "(3381, 44)"
      ]
     },
     "execution_count": 19,
     "metadata": {},
     "output_type": "execute_result"
    }
   ],
   "source": [
    "# df_all['MMSE_norm'] = (df_all['MMSE']-df_all['MMSE'].mean())/df_all['MMSE'].std()\n",
    "df_all['GDTOTAL_norm'] = (df_all['GDTOTAL']-df_all['GDTOTAL'].mean())/df_all['GDTOTAL'].std()\n",
    "df_all['age_norm'] = (df_all['AGE']-df_all['AGE'].mean())/df_all['AGE'].std()\n",
    "df_all['PTEDUCAT_norm'] = (df_all['PTEDUCAT']-df_all['PTEDUCAT'].mean())/df_all['PTEDUCAT'].std()\n",
    "df_all.shape"
   ]
  },
  {
   "cell_type": "code",
   "execution_count": 20,
   "id": "stopped-reproduction",
   "metadata": {},
   "outputs": [],
   "source": [
    "# df_all['GDTOTAL'].describe()"
   ]
  },
  {
   "cell_type": "code",
   "execution_count": 21,
   "id": "verbal-praise",
   "metadata": {},
   "outputs": [],
   "source": [
    "# # Initializing Input vector \n",
    "# class_vector =[2, 5, 6, 1, 4, 2, 3, 2] \n",
    "# print(class_vector) \n",
    "  \n",
    "# # Applying the function on input class vector \n",
    "# from keras.utils import to_categorical \n",
    "# output_matrix = to_categorical(class_vector, num_classes = 7, dtype =\"int32\") \n",
    "  \n",
    "# print(output_matrix) "
   ]
  },
  {
   "cell_type": "code",
   "execution_count": 22,
   "id": "reduced-rings",
   "metadata": {},
   "outputs": [
    {
     "data": {
      "text/plain": [
       "0.0    805\n",
       "1.0    476\n",
       "2.0    112\n",
       "Name: APOE4, dtype: int64"
      ]
     },
     "execution_count": 22,
     "metadata": {},
     "output_type": "execute_result"
    }
   ],
   "source": [
    "df_all_step3['APOE4'].value_counts()"
   ]
  },
  {
   "cell_type": "code",
   "execution_count": 23,
   "id": "suburban-economy",
   "metadata": {},
   "outputs": [
    {
     "data": {
      "text/plain": [
       "(1393, 2)"
      ]
     },
     "execution_count": 23,
     "metadata": {},
     "output_type": "execute_result"
    }
   ],
   "source": [
    "df_all_step3[['RID','APOE4']].dropna().shape"
   ]
  },
  {
   "cell_type": "code",
   "execution_count": 24,
   "id": "armed-packet",
   "metadata": {},
   "outputs": [],
   "source": [
    "df_apoe4=pd.concat([df_all_step3[['RID','APOE4']].dropna().reset_index(drop=True),pd.DataFrame(to_categorical(df_all_step3['APOE4'].dropna().tolist(), num_classes = 3, dtype =\"int32\"))],axis=1)"
   ]
  },
  {
   "cell_type": "code",
   "execution_count": 25,
   "id": "dental-marketing",
   "metadata": {},
   "outputs": [],
   "source": [
    "df_apoe4.rename(columns={0:'apoe4_0',1:'apoe4_1',2:'apoe4_2'}, inplace = True)"
   ]
  },
  {
   "cell_type": "code",
   "execution_count": 26,
   "id": "naked-flesh",
   "metadata": {},
   "outputs": [
    {
     "data": {
      "text/html": [
       "<div>\n",
       "<style scoped>\n",
       "    .dataframe tbody tr th:only-of-type {\n",
       "        vertical-align: middle;\n",
       "    }\n",
       "\n",
       "    .dataframe tbody tr th {\n",
       "        vertical-align: top;\n",
       "    }\n",
       "\n",
       "    .dataframe thead th {\n",
       "        text-align: right;\n",
       "    }\n",
       "</style>\n",
       "<table border=\"1\" class=\"dataframe\">\n",
       "  <thead>\n",
       "    <tr style=\"text-align: right;\">\n",
       "      <th></th>\n",
       "      <th>RID</th>\n",
       "      <th>APOE4</th>\n",
       "      <th>apoe4_0</th>\n",
       "      <th>apoe4_1</th>\n",
       "      <th>apoe4_2</th>\n",
       "    </tr>\n",
       "  </thead>\n",
       "  <tbody>\n",
       "    <tr>\n",
       "      <th>0</th>\n",
       "      <td>4</td>\n",
       "      <td>0.0</td>\n",
       "      <td>1</td>\n",
       "      <td>0</td>\n",
       "      <td>0</td>\n",
       "    </tr>\n",
       "    <tr>\n",
       "      <th>1</th>\n",
       "      <td>5</td>\n",
       "      <td>0.0</td>\n",
       "      <td>1</td>\n",
       "      <td>0</td>\n",
       "      <td>0</td>\n",
       "    </tr>\n",
       "  </tbody>\n",
       "</table>\n",
       "</div>"
      ],
      "text/plain": [
       "   RID  APOE4  apoe4_0  apoe4_1  apoe4_2\n",
       "0    4    0.0        1        0        0\n",
       "1    5    0.0        1        0        0"
      ]
     },
     "execution_count": 26,
     "metadata": {},
     "output_type": "execute_result"
    }
   ],
   "source": [
    "df_apoe4.head(2)"
   ]
  },
  {
   "cell_type": "code",
   "execution_count": 27,
   "id": "primary-liberty",
   "metadata": {},
   "outputs": [
    {
     "data": {
      "text/plain": [
       "(3381, 47)"
      ]
     },
     "execution_count": 27,
     "metadata": {},
     "output_type": "execute_result"
    }
   ],
   "source": [
    "df_all = df_all.merge(df_apoe4[['RID','apoe4_0','apoe4_1','apoe4_2']])\n",
    "df_all.shape"
   ]
  },
  {
   "cell_type": "code",
   "execution_count": 28,
   "id": "drawn-charity",
   "metadata": {},
   "outputs": [],
   "source": [
    "# pd.DataFrame(to_categorical(df_all_step3['APOE4'].dropna().tolist(), num_classes = 3, dtype =\"int32\"))"
   ]
  },
  {
   "cell_type": "code",
   "execution_count": 29,
   "id": "compliant-devices",
   "metadata": {},
   "outputs": [
    {
     "data": {
      "text/html": [
       "<div>\n",
       "<style scoped>\n",
       "    .dataframe tbody tr th:only-of-type {\n",
       "        vertical-align: middle;\n",
       "    }\n",
       "\n",
       "    .dataframe tbody tr th {\n",
       "        vertical-align: top;\n",
       "    }\n",
       "\n",
       "    .dataframe thead th {\n",
       "        text-align: right;\n",
       "    }\n",
       "</style>\n",
       "<table border=\"1\" class=\"dataframe\">\n",
       "  <thead>\n",
       "    <tr style=\"text-align: right;\">\n",
       "      <th></th>\n",
       "      <th>RID</th>\n",
       "      <th>Yr_visit</th>\n",
       "      <th>DX</th>\n",
       "      <th>FollowupYear</th>\n",
       "      <th>FollowupDX</th>\n",
       "      <th>IMAGEUID</th>\n",
       "      <th>RightEntorhinal</th>\n",
       "      <th>RightTemporalPole</th>\n",
       "      <th>RightParahippocampal</th>\n",
       "      <th>RightInferiorTemporal</th>\n",
       "      <th>...</th>\n",
       "      <th>ICV</th>\n",
       "      <th>AGE</th>\n",
       "      <th>PTEDUCAT</th>\n",
       "      <th>GDTOTAL</th>\n",
       "      <th>GDTOTAL_norm</th>\n",
       "      <th>age_norm</th>\n",
       "      <th>PTEDUCAT_norm</th>\n",
       "      <th>apoe4_0</th>\n",
       "      <th>apoe4_1</th>\n",
       "      <th>apoe4_2</th>\n",
       "    </tr>\n",
       "  </thead>\n",
       "  <tbody>\n",
       "    <tr>\n",
       "      <th>0</th>\n",
       "      <td>5</td>\n",
       "      <td>0</td>\n",
       "      <td>CN</td>\n",
       "      <td>3</td>\n",
       "      <td>CN</td>\n",
       "      <td>32246</td>\n",
       "      <td>2525.0</td>\n",
       "      <td>1999.0</td>\n",
       "      <td>2305.0</td>\n",
       "      <td>9870.0</td>\n",
       "      <td>...</td>\n",
       "      <td>1640770.0</td>\n",
       "      <td>73.7</td>\n",
       "      <td>16</td>\n",
       "      <td>0.0</td>\n",
       "      <td>-0.951953</td>\n",
       "      <td>-0.033514</td>\n",
       "      <td>-0.001623</td>\n",
       "      <td>1</td>\n",
       "      <td>0</td>\n",
       "      <td>0</td>\n",
       "    </tr>\n",
       "    <tr>\n",
       "      <th>1</th>\n",
       "      <td>5</td>\n",
       "      <td>1</td>\n",
       "      <td>CN</td>\n",
       "      <td>3</td>\n",
       "      <td>CN</td>\n",
       "      <td>31906</td>\n",
       "      <td>2009.0</td>\n",
       "      <td>1843.0</td>\n",
       "      <td>2037.0</td>\n",
       "      <td>10008.0</td>\n",
       "      <td>...</td>\n",
       "      <td>1631430.0</td>\n",
       "      <td>73.7</td>\n",
       "      <td>16</td>\n",
       "      <td>0.0</td>\n",
       "      <td>-0.951953</td>\n",
       "      <td>-0.033514</td>\n",
       "      <td>-0.001623</td>\n",
       "      <td>1</td>\n",
       "      <td>0</td>\n",
       "      <td>0</td>\n",
       "    </tr>\n",
       "    <tr>\n",
       "      <th>2</th>\n",
       "      <td>5</td>\n",
       "      <td>2</td>\n",
       "      <td>CN</td>\n",
       "      <td>3</td>\n",
       "      <td>CN</td>\n",
       "      <td>200385</td>\n",
       "      <td>2731.0</td>\n",
       "      <td>1950.0</td>\n",
       "      <td>2088.0</td>\n",
       "      <td>10405.0</td>\n",
       "      <td>...</td>\n",
       "      <td>1634180.0</td>\n",
       "      <td>73.7</td>\n",
       "      <td>16</td>\n",
       "      <td>0.0</td>\n",
       "      <td>-0.951953</td>\n",
       "      <td>-0.033514</td>\n",
       "      <td>-0.001623</td>\n",
       "      <td>1</td>\n",
       "      <td>0</td>\n",
       "      <td>0</td>\n",
       "    </tr>\n",
       "    <tr>\n",
       "      <th>3</th>\n",
       "      <td>14</td>\n",
       "      <td>0</td>\n",
       "      <td>CN</td>\n",
       "      <td>3</td>\n",
       "      <td>CN</td>\n",
       "      <td>59375</td>\n",
       "      <td>1786.0</td>\n",
       "      <td>1279.0</td>\n",
       "      <td>1621.0</td>\n",
       "      <td>8240.0</td>\n",
       "      <td>...</td>\n",
       "      <td>1269540.0</td>\n",
       "      <td>78.5</td>\n",
       "      <td>12</td>\n",
       "      <td>0.0</td>\n",
       "      <td>-0.951953</td>\n",
       "      <td>0.710720</td>\n",
       "      <td>-1.464905</td>\n",
       "      <td>1</td>\n",
       "      <td>0</td>\n",
       "      <td>0</td>\n",
       "    </tr>\n",
       "    <tr>\n",
       "      <th>4</th>\n",
       "      <td>14</td>\n",
       "      <td>1</td>\n",
       "      <td>CN</td>\n",
       "      <td>3</td>\n",
       "      <td>CN</td>\n",
       "      <td>59391</td>\n",
       "      <td>1830.0</td>\n",
       "      <td>1378.0</td>\n",
       "      <td>1414.0</td>\n",
       "      <td>8849.0</td>\n",
       "      <td>...</td>\n",
       "      <td>1264890.0</td>\n",
       "      <td>78.5</td>\n",
       "      <td>12</td>\n",
       "      <td>0.0</td>\n",
       "      <td>-0.951953</td>\n",
       "      <td>0.710720</td>\n",
       "      <td>-1.464905</td>\n",
       "      <td>1</td>\n",
       "      <td>0</td>\n",
       "      <td>0</td>\n",
       "    </tr>\n",
       "  </tbody>\n",
       "</table>\n",
       "<p>5 rows × 47 columns</p>\n",
       "</div>"
      ],
      "text/plain": [
       "   RID  Yr_visit  DX  FollowupYear FollowupDX  IMAGEUID  RightEntorhinal  \\\n",
       "0    5         0  CN             3         CN     32246           2525.0   \n",
       "1    5         1  CN             3         CN     31906           2009.0   \n",
       "2    5         2  CN             3         CN    200385           2731.0   \n",
       "3   14         0  CN             3         CN     59375           1786.0   \n",
       "4   14         1  CN             3         CN     59391           1830.0   \n",
       "\n",
       "   RightTemporalPole  RightParahippocampal  RightInferiorTemporal  ...  \\\n",
       "0             1999.0                2305.0                 9870.0  ...   \n",
       "1             1843.0                2037.0                10008.0  ...   \n",
       "2             1950.0                2088.0                10405.0  ...   \n",
       "3             1279.0                1621.0                 8240.0  ...   \n",
       "4             1378.0                1414.0                 8849.0  ...   \n",
       "\n",
       "         ICV   AGE  PTEDUCAT  GDTOTAL  GDTOTAL_norm  age_norm  PTEDUCAT_norm  \\\n",
       "0  1640770.0  73.7        16      0.0     -0.951953 -0.033514      -0.001623   \n",
       "1  1631430.0  73.7        16      0.0     -0.951953 -0.033514      -0.001623   \n",
       "2  1634180.0  73.7        16      0.0     -0.951953 -0.033514      -0.001623   \n",
       "3  1269540.0  78.5        12      0.0     -0.951953  0.710720      -1.464905   \n",
       "4  1264890.0  78.5        12      0.0     -0.951953  0.710720      -1.464905   \n",
       "\n",
       "   apoe4_0  apoe4_1  apoe4_2  \n",
       "0        1        0        0  \n",
       "1        1        0        0  \n",
       "2        1        0        0  \n",
       "3        1        0        0  \n",
       "4        1        0        0  \n",
       "\n",
       "[5 rows x 47 columns]"
      ]
     },
     "execution_count": 29,
     "metadata": {},
     "output_type": "execute_result"
    }
   ],
   "source": [
    "df_all.head()"
   ]
  },
  {
   "cell_type": "code",
   "execution_count": 30,
   "id": "toxic-westminster",
   "metadata": {},
   "outputs": [],
   "source": [
    "# data_cla_0 = df_all[(df_all['Yr_visit']==0) & ((df_all['DX']=='CN'))]\n",
    "# data_cla_0 = data_cla_0[data_cla_0['FollowupYear']==5]\n",
    "# data_cla_0.shape\n",
    "# data_cla_1 = df_all[(df_all['RID'].isin(data_cla_0['RID'])) & ((df_all['Yr_visit']==1))]\n",
    "# data_cla_1 = data_cla_1[data_cla_1['FollowupYear']==5]\n",
    "# data_cla_1.shape\n",
    "# data_cla_2 = df_all[(df_all['RID'].isin(data_cla_0['RID'])) & ((df_all['Yr_visit']==2))]\n",
    "# data_cla_2 = data_cla_2[data_cla_2['FollowupYear']==5]\n",
    "# data_cla_0.shape,data_cla_1.shape,data_cla_2.shape"
   ]
  },
  {
   "cell_type": "code",
   "execution_count": 31,
   "id": "intellectual-novelty",
   "metadata": {},
   "outputs": [],
   "source": [
    "# data_cla=pd.DataFrame()\n",
    "# j=0\n",
    "# for i in range(data_cla_0.shape[0]):    \n",
    "#     data_cla[j]=data_cla_0.iloc[i,:].tolist()\n",
    "#     data_cla[j+1]=data_cla_1.iloc[i,:].tolist()\n",
    "#     data_cla[j+2]=data_cla_2.iloc[i,:].tolist()\n",
    "#     j=j+3\n",
    "# data_cla=data_cla.T\n",
    "# data_cla.set_axis(df_all.columns.tolist(), axis=1,inplace=True)\n"
   ]
  },
  {
   "cell_type": "code",
   "execution_count": 32,
   "id": "damaged-reply",
   "metadata": {},
   "outputs": [
    {
     "data": {
      "text/plain": [
       "(3381, 47)"
      ]
     },
     "execution_count": 32,
     "metadata": {},
     "output_type": "execute_result"
    }
   ],
   "source": [
    "# data_cla=df_all[df_all['Yr_visit']==0].copy()\n",
    "data_cla=df_all.copy()\n",
    "data_cla.shape"
   ]
  },
  {
   "cell_type": "code",
   "execution_count": 33,
   "id": "hired-motivation",
   "metadata": {},
   "outputs": [
    {
     "data": {
      "text/html": [
       "<div>\n",
       "<style scoped>\n",
       "    .dataframe tbody tr th:only-of-type {\n",
       "        vertical-align: middle;\n",
       "    }\n",
       "\n",
       "    .dataframe tbody tr th {\n",
       "        vertical-align: top;\n",
       "    }\n",
       "\n",
       "    .dataframe thead th {\n",
       "        text-align: right;\n",
       "    }\n",
       "</style>\n",
       "<table border=\"1\" class=\"dataframe\">\n",
       "  <thead>\n",
       "    <tr style=\"text-align: right;\">\n",
       "      <th></th>\n",
       "      <th>RID</th>\n",
       "      <th>Yr_visit</th>\n",
       "      <th>DX</th>\n",
       "      <th>FollowupYear</th>\n",
       "      <th>FollowupDX</th>\n",
       "      <th>IMAGEUID</th>\n",
       "      <th>RightEntorhinal</th>\n",
       "      <th>RightTemporalPole</th>\n",
       "      <th>RightParahippocampal</th>\n",
       "      <th>RightInferiorTemporal</th>\n",
       "      <th>...</th>\n",
       "      <th>ICV</th>\n",
       "      <th>AGE</th>\n",
       "      <th>PTEDUCAT</th>\n",
       "      <th>GDTOTAL</th>\n",
       "      <th>GDTOTAL_norm</th>\n",
       "      <th>age_norm</th>\n",
       "      <th>PTEDUCAT_norm</th>\n",
       "      <th>apoe4_0</th>\n",
       "      <th>apoe4_1</th>\n",
       "      <th>apoe4_2</th>\n",
       "    </tr>\n",
       "  </thead>\n",
       "  <tbody>\n",
       "    <tr>\n",
       "      <th>0</th>\n",
       "      <td>5</td>\n",
       "      <td>0</td>\n",
       "      <td>CN</td>\n",
       "      <td>3</td>\n",
       "      <td>CN</td>\n",
       "      <td>32246</td>\n",
       "      <td>2525.0</td>\n",
       "      <td>1999.0</td>\n",
       "      <td>2305.0</td>\n",
       "      <td>9870.0</td>\n",
       "      <td>...</td>\n",
       "      <td>1640770.0</td>\n",
       "      <td>73.7</td>\n",
       "      <td>16</td>\n",
       "      <td>0.0</td>\n",
       "      <td>-0.951953</td>\n",
       "      <td>-0.033514</td>\n",
       "      <td>-0.001623</td>\n",
       "      <td>1</td>\n",
       "      <td>0</td>\n",
       "      <td>0</td>\n",
       "    </tr>\n",
       "    <tr>\n",
       "      <th>1</th>\n",
       "      <td>5</td>\n",
       "      <td>1</td>\n",
       "      <td>CN</td>\n",
       "      <td>3</td>\n",
       "      <td>CN</td>\n",
       "      <td>31906</td>\n",
       "      <td>2009.0</td>\n",
       "      <td>1843.0</td>\n",
       "      <td>2037.0</td>\n",
       "      <td>10008.0</td>\n",
       "      <td>...</td>\n",
       "      <td>1631430.0</td>\n",
       "      <td>73.7</td>\n",
       "      <td>16</td>\n",
       "      <td>0.0</td>\n",
       "      <td>-0.951953</td>\n",
       "      <td>-0.033514</td>\n",
       "      <td>-0.001623</td>\n",
       "      <td>1</td>\n",
       "      <td>0</td>\n",
       "      <td>0</td>\n",
       "    </tr>\n",
       "    <tr>\n",
       "      <th>2</th>\n",
       "      <td>5</td>\n",
       "      <td>2</td>\n",
       "      <td>CN</td>\n",
       "      <td>3</td>\n",
       "      <td>CN</td>\n",
       "      <td>200385</td>\n",
       "      <td>2731.0</td>\n",
       "      <td>1950.0</td>\n",
       "      <td>2088.0</td>\n",
       "      <td>10405.0</td>\n",
       "      <td>...</td>\n",
       "      <td>1634180.0</td>\n",
       "      <td>73.7</td>\n",
       "      <td>16</td>\n",
       "      <td>0.0</td>\n",
       "      <td>-0.951953</td>\n",
       "      <td>-0.033514</td>\n",
       "      <td>-0.001623</td>\n",
       "      <td>1</td>\n",
       "      <td>0</td>\n",
       "      <td>0</td>\n",
       "    </tr>\n",
       "    <tr>\n",
       "      <th>3</th>\n",
       "      <td>14</td>\n",
       "      <td>0</td>\n",
       "      <td>CN</td>\n",
       "      <td>3</td>\n",
       "      <td>CN</td>\n",
       "      <td>59375</td>\n",
       "      <td>1786.0</td>\n",
       "      <td>1279.0</td>\n",
       "      <td>1621.0</td>\n",
       "      <td>8240.0</td>\n",
       "      <td>...</td>\n",
       "      <td>1269540.0</td>\n",
       "      <td>78.5</td>\n",
       "      <td>12</td>\n",
       "      <td>0.0</td>\n",
       "      <td>-0.951953</td>\n",
       "      <td>0.710720</td>\n",
       "      <td>-1.464905</td>\n",
       "      <td>1</td>\n",
       "      <td>0</td>\n",
       "      <td>0</td>\n",
       "    </tr>\n",
       "    <tr>\n",
       "      <th>4</th>\n",
       "      <td>14</td>\n",
       "      <td>1</td>\n",
       "      <td>CN</td>\n",
       "      <td>3</td>\n",
       "      <td>CN</td>\n",
       "      <td>59391</td>\n",
       "      <td>1830.0</td>\n",
       "      <td>1378.0</td>\n",
       "      <td>1414.0</td>\n",
       "      <td>8849.0</td>\n",
       "      <td>...</td>\n",
       "      <td>1264890.0</td>\n",
       "      <td>78.5</td>\n",
       "      <td>12</td>\n",
       "      <td>0.0</td>\n",
       "      <td>-0.951953</td>\n",
       "      <td>0.710720</td>\n",
       "      <td>-1.464905</td>\n",
       "      <td>1</td>\n",
       "      <td>0</td>\n",
       "      <td>0</td>\n",
       "    </tr>\n",
       "    <tr>\n",
       "      <th>5</th>\n",
       "      <td>14</td>\n",
       "      <td>2</td>\n",
       "      <td>CN</td>\n",
       "      <td>3</td>\n",
       "      <td>CN</td>\n",
       "      <td>87012</td>\n",
       "      <td>1678.0</td>\n",
       "      <td>1441.0</td>\n",
       "      <td>1482.0</td>\n",
       "      <td>9186.0</td>\n",
       "      <td>...</td>\n",
       "      <td>1262440.0</td>\n",
       "      <td>78.5</td>\n",
       "      <td>12</td>\n",
       "      <td>0.0</td>\n",
       "      <td>-0.951953</td>\n",
       "      <td>0.710720</td>\n",
       "      <td>-1.464905</td>\n",
       "      <td>1</td>\n",
       "      <td>0</td>\n",
       "      <td>0</td>\n",
       "    </tr>\n",
       "    <tr>\n",
       "      <th>6</th>\n",
       "      <td>16</td>\n",
       "      <td>0</td>\n",
       "      <td>CN</td>\n",
       "      <td>3</td>\n",
       "      <td>CN</td>\n",
       "      <td>32306</td>\n",
       "      <td>1719.0</td>\n",
       "      <td>2169.0</td>\n",
       "      <td>1813.0</td>\n",
       "      <td>6866.0</td>\n",
       "      <td>...</td>\n",
       "      <td>1352000.0</td>\n",
       "      <td>65.4</td>\n",
       "      <td>9</td>\n",
       "      <td>1.0</td>\n",
       "      <td>-0.208901</td>\n",
       "      <td>-1.320418</td>\n",
       "      <td>-2.562366</td>\n",
       "      <td>0</td>\n",
       "      <td>1</td>\n",
       "      <td>0</td>\n",
       "    </tr>\n",
       "  </tbody>\n",
       "</table>\n",
       "<p>7 rows × 47 columns</p>\n",
       "</div>"
      ],
      "text/plain": [
       "   RID  Yr_visit  DX  FollowupYear FollowupDX  IMAGEUID  RightEntorhinal  \\\n",
       "0    5         0  CN             3         CN     32246           2525.0   \n",
       "1    5         1  CN             3         CN     31906           2009.0   \n",
       "2    5         2  CN             3         CN    200385           2731.0   \n",
       "3   14         0  CN             3         CN     59375           1786.0   \n",
       "4   14         1  CN             3         CN     59391           1830.0   \n",
       "5   14         2  CN             3         CN     87012           1678.0   \n",
       "6   16         0  CN             3         CN     32306           1719.0   \n",
       "\n",
       "   RightTemporalPole  RightParahippocampal  RightInferiorTemporal  ...  \\\n",
       "0             1999.0                2305.0                 9870.0  ...   \n",
       "1             1843.0                2037.0                10008.0  ...   \n",
       "2             1950.0                2088.0                10405.0  ...   \n",
       "3             1279.0                1621.0                 8240.0  ...   \n",
       "4             1378.0                1414.0                 8849.0  ...   \n",
       "5             1441.0                1482.0                 9186.0  ...   \n",
       "6             2169.0                1813.0                 6866.0  ...   \n",
       "\n",
       "         ICV   AGE  PTEDUCAT  GDTOTAL  GDTOTAL_norm  age_norm  PTEDUCAT_norm  \\\n",
       "0  1640770.0  73.7        16      0.0     -0.951953 -0.033514      -0.001623   \n",
       "1  1631430.0  73.7        16      0.0     -0.951953 -0.033514      -0.001623   \n",
       "2  1634180.0  73.7        16      0.0     -0.951953 -0.033514      -0.001623   \n",
       "3  1269540.0  78.5        12      0.0     -0.951953  0.710720      -1.464905   \n",
       "4  1264890.0  78.5        12      0.0     -0.951953  0.710720      -1.464905   \n",
       "5  1262440.0  78.5        12      0.0     -0.951953  0.710720      -1.464905   \n",
       "6  1352000.0  65.4         9      1.0     -0.208901 -1.320418      -2.562366   \n",
       "\n",
       "   apoe4_0  apoe4_1  apoe4_2  \n",
       "0        1        0        0  \n",
       "1        1        0        0  \n",
       "2        1        0        0  \n",
       "3        1        0        0  \n",
       "4        1        0        0  \n",
       "5        1        0        0  \n",
       "6        0        1        0  \n",
       "\n",
       "[7 rows x 47 columns]"
      ]
     },
     "execution_count": 33,
     "metadata": {},
     "output_type": "execute_result"
    }
   ],
   "source": [
    "data_cla.head(7)"
   ]
  },
  {
   "cell_type": "code",
   "execution_count": 34,
   "id": "described-clarity",
   "metadata": {},
   "outputs": [
    {
     "data": {
      "text/plain": [
       "2    561\n",
       "1    561\n",
       "0    561\n",
       "Name: Yr_visit, dtype: int64"
      ]
     },
     "execution_count": 34,
     "metadata": {},
     "output_type": "execute_result"
    }
   ],
   "source": [
    "data_cla[['RID','Yr_visit']].drop_duplicates().Yr_visit.value_counts()"
   ]
  },
  {
   "cell_type": "code",
   "execution_count": 35,
   "id": "cognitive-suspension",
   "metadata": {},
   "outputs": [
    {
     "data": {
      "text/plain": [
       "Yr_visit  DX \n",
       "0         MCI    307\n",
       "          CN     254\n",
       "1         MCI    312\n",
       "          CN     249\n",
       "2         MCI    319\n",
       "          CN     242\n",
       "Name: DX, dtype: int64"
      ]
     },
     "execution_count": 35,
     "metadata": {},
     "output_type": "execute_result"
    }
   ],
   "source": [
    "data_cla[['RID','Yr_visit','DX']].drop_duplicates().groupby('Yr_visit').DX.value_counts()"
   ]
  },
  {
   "cell_type": "code",
   "execution_count": 36,
   "id": "southwest-preference",
   "metadata": {},
   "outputs": [],
   "source": [
    "# data_cla_cn_rid_list=data_cla[(data_cla['Yr_visit']==0)&(data_cla['DX']=='CN')][['RID','DX']].drop_duplicates().RID.unique()\n",
    "data_cla_cn_rid_list=data_cla[(data_cla['Yr_visit']==2)&(data_cla['DX']=='CN')][['RID','DX']].drop_duplicates().RID.unique()"
   ]
  },
  {
   "cell_type": "code",
   "execution_count": 37,
   "id": "absent-serum",
   "metadata": {},
   "outputs": [],
   "source": [
    "# data_cla[(data_cla.RID.isin(data_cla_cn_rid_list))&(data_cla['Yr_visit']==0)&(data_cla['FollowupYear']==5)].FollowupDX.value_counts()"
   ]
  },
  {
   "cell_type": "code",
   "execution_count": 38,
   "id": "industrial-reply",
   "metadata": {},
   "outputs": [],
   "source": [
    "data_cla_mci_rid_list=data_cla[(data_cla['Yr_visit']==0)&(data_cla['DX']=='MCI')][['RID','DX']].drop_duplicates().RID.nunique()"
   ]
  },
  {
   "cell_type": "code",
   "execution_count": 39,
   "id": "adjacent-heading",
   "metadata": {},
   "outputs": [
    {
     "data": {
      "text/plain": [
       "549"
      ]
     },
     "execution_count": 39,
     "metadata": {},
     "output_type": "execute_result"
    }
   ],
   "source": [
    "data_cla_cnmci_rid_list_all=data_cla[((data_cla['Yr_visit']==2)&(data_cla['DX']=='CN'))|((data_cla['Yr_visit']==0)&(data_cla['DX']=='MCI'))][['RID','DX']].drop_duplicates().RID.unique()\n",
    "len(data_cla_cnmci_rid_list_all)"
   ]
  },
  {
   "cell_type": "code",
   "execution_count": 40,
   "id": "verified-cholesterol",
   "metadata": {},
   "outputs": [],
   "source": [
    "# data_cla.groupby('Yr_visit')['FollowupDX'].value_counts()"
   ]
  },
  {
   "cell_type": "code",
   "execution_count": 41,
   "id": "contained-intervention",
   "metadata": {},
   "outputs": [],
   "source": [
    "data_cla['Yr_visit_norm']=(data_cla['Yr_visit']-data_cla['Yr_visit'].mean())/data_cla['Yr_visit'].std()"
   ]
  },
  {
   "cell_type": "code",
   "execution_count": 42,
   "id": "middle-lancaster",
   "metadata": {},
   "outputs": [
    {
     "data": {
      "text/plain": [
       "(16, 18, 34)"
      ]
     },
     "execution_count": 42,
     "metadata": {},
     "output_type": "execute_result"
    }
   ],
   "source": [
    "feature_col_addmri=    [ 'RightParahippocampal', 'RightInferiorTemporal',\n",
    "       'RightInferiorParietal', 'RightIsthmusCingulate', 'RightBankssts',\n",
    "       'RightPrecuneus', 'RightAmygdala', 'RightAccumbensArea',\n",
    "       'RightMedialOrbitofrontal', 'RightPallidum', 'RightCaudalMiddleFrontal',\n",
    "       'RightPutamen', 'RightRostralAnteriorCingulate', 'RightParacentral',\n",
    "       'RightPrecentral', 'RightLingual' ]\n",
    "feature_col = ['LeftEntorhinal', 'LeftHippocampus', 'LeftFusiform', 'LeftMiddleTemporal','RightEntorhinal','RightHippocampus','RightMiddleTemporal', 'RightFusiform']\n",
    "# feature_col = ['Ventricles', 'Hippocampus', 'WholeBrain', 'Entorhinal', 'Fusiform','MidTemp', 'ICV']\n",
    "\n",
    "feature_col = feature_col + ['Yr_visit_norm','Ventricles',  'WholeBrain', 'ICV']\n",
    "feature_col = ['apoe4_0','apoe4_1','apoe4_2'] + ['age_norm','PTEDUCAT_norm','GDTOTAL_norm']+ feature_col\n",
    "feature_col_2 = feature_col_addmri + feature_col\n",
    "len(feature_col_addmri),len(feature_col),len(feature_col_2)"
   ]
  },
  {
   "cell_type": "code",
   "execution_count": 43,
   "id": "sealed-reading",
   "metadata": {},
   "outputs": [
    {
     "data": {
      "text/plain": [
       "18"
      ]
     },
     "execution_count": 43,
     "metadata": {},
     "output_type": "execute_result"
    }
   ],
   "source": [
    "len(feature_col)"
   ]
  },
  {
   "cell_type": "code",
   "execution_count": 44,
   "id": "portable-sellers",
   "metadata": {},
   "outputs": [
    {
     "data": {
      "text/plain": [
       "(1647, 37)"
      ]
     },
     "execution_count": 44,
     "metadata": {},
     "output_type": "execute_result"
    }
   ],
   "source": [
    "# data= data_cla[data_cla.RID.isin(data_cla_cnmci_rid_list)][['RID','Yr_visit']+feature_col_2 + ['DX']].drop_duplicates()\n",
    "data= data_cla[['RID','Yr_visit']+feature_col_2 + ['DX']].drop_duplicates()\n",
    "data = data[data.RID.isin(data_cla_cnmci_rid_list_all)]\n",
    "data.shape"
   ]
  },
  {
   "cell_type": "code",
   "execution_count": 45,
   "id": "korean-continent",
   "metadata": {},
   "outputs": [
    {
     "data": {
      "text/plain": [
       "Ventricles                       1562\n",
       "WholeBrain                       1609\n",
       "RightLingual                     1639\n",
       "LeftFusiform                     1643\n",
       "RightInferiorTemporal            1643\n",
       "RightMiddleTemporal              1643\n",
       "RightFusiform                    1643\n",
       "LeftMiddleTemporal               1643\n",
       "RightInferiorParietal            1644\n",
       "GDTOTAL_norm                     1644\n",
       "RightParacentral                 1644\n",
       "RightRostralAnteriorCingulate    1646\n",
       "LeftHippocampus                  1646\n",
       "LeftEntorhinal                   1646\n",
       "RightHippocampus                 1646\n",
       "RightPrecentral                  1646\n",
       "RightEntorhinal                  1646\n",
       "RightCaudalMiddleFrontal         1646\n",
       "RightPallidum                    1646\n",
       "RightMedialOrbitofrontal         1646\n",
       "RightAccumbensArea               1646\n",
       "RightAmygdala                    1646\n",
       "RightPrecuneus                   1646\n",
       "RightBankssts                    1646\n",
       "RightIsthmusCingulate            1646\n",
       "RightParahippocampal             1646\n",
       "RightPutamen                     1646\n",
       "Yr_visit_norm                    1647\n",
       "RID                              1647\n",
       "apoe4_0                          1647\n",
       "age_norm                         1647\n",
       "apoe4_2                          1647\n",
       "apoe4_1                          1647\n",
       "ICV                              1647\n",
       "Yr_visit                         1647\n",
       "PTEDUCAT_norm                    1647\n",
       "DX                               1647\n",
       "dtype: int64"
      ]
     },
     "execution_count": 45,
     "metadata": {},
     "output_type": "execute_result"
    }
   ],
   "source": [
    "data.count().sort_values()"
   ]
  },
  {
   "cell_type": "code",
   "execution_count": 46,
   "id": "running-toronto",
   "metadata": {},
   "outputs": [],
   "source": [
    "data= data.fillna(data.mean())\n",
    "# data['Ventricles'] = data['Ventricles'].fillna(data['Ventricles'].mean())\n",
    "# data['WholeBrain'] = data['WholeBrain'].fillna(data['WholeBrain'].mean())\n",
    "\n",
    "# data['RightLingual'] = data['RightLingual'].fillna(data['RightLingual'].mean())"
   ]
  },
  {
   "cell_type": "code",
   "execution_count": 47,
   "id": "enabling-preserve",
   "metadata": {},
   "outputs": [
    {
     "data": {
      "text/plain": [
       "((726, 37), (921, 37))"
      ]
     },
     "execution_count": 47,
     "metadata": {},
     "output_type": "execute_result"
    }
   ],
   "source": [
    "data_cn=data[data.DX=='CN']\n",
    "data_mci=data[data.DX=='MCI']\n",
    "data_cn.shape,data_mci.shape"
   ]
  },
  {
   "cell_type": "code",
   "execution_count": 48,
   "id": "tough-traveler",
   "metadata": {},
   "outputs": [
    {
     "data": {
      "text/plain": [
       "((726, 37), (726, 37))"
      ]
     },
     "execution_count": 48,
     "metadata": {},
     "output_type": "execute_result"
    }
   ],
   "source": [
    "data_cn_bal=data[data.DX=='CN']\n",
    "data_mci_bal=data[data.DX=='MCI'].iloc[:726,:]\n",
    "data_cn_bal.shape,data_mci_bal.shape"
   ]
  },
  {
   "cell_type": "code",
   "execution_count": 49,
   "id": "spiritual-circuit",
   "metadata": {},
   "outputs": [
    {
     "data": {
      "text/plain": [
       "(1452, 37)"
      ]
     },
     "execution_count": 49,
     "metadata": {},
     "output_type": "execute_result"
    }
   ],
   "source": [
    "data_cnmci_bal = pd.concat([data_cn,data_mci.iloc[:726,:]]).sample(frac = 1)\n",
    "data_cnmci_bal.shape"
   ]
  },
  {
   "cell_type": "code",
   "execution_count": 50,
   "id": "tracked-rubber",
   "metadata": {},
   "outputs": [],
   "source": [
    "# data_cnmci_bal.count()"
   ]
  },
  {
   "cell_type": "code",
   "execution_count": 51,
   "id": "agricultural-uganda",
   "metadata": {},
   "outputs": [
    {
     "data": {
      "text/plain": [
       "484"
      ]
     },
     "execution_count": 51,
     "metadata": {},
     "output_type": "execute_result"
    }
   ],
   "source": [
    "data_cla_cnmci_rid_list = data_cnmci_bal.RID.unique().tolist()\n",
    "len(data_cla_cnmci_rid_list)"
   ]
  },
  {
   "cell_type": "code",
   "execution_count": 52,
   "id": "personal-minneapolis",
   "metadata": {},
   "outputs": [
    {
     "data": {
      "text/plain": [
       "(242, 242)"
      ]
     },
     "execution_count": 52,
     "metadata": {},
     "output_type": "execute_result"
    }
   ],
   "source": [
    "data_cla_cn_rid_list = data_cn_bal.RID.unique().tolist()\n",
    "data_cla_mci_rid_list = data_mci_bal.RID.unique().tolist()\n",
    "len(data_cla_cn_rid_list),len(data_cla_mci_rid_list)\n"
   ]
  },
  {
   "cell_type": "code",
   "execution_count": 53,
   "id": "reserved-transmission",
   "metadata": {},
   "outputs": [],
   "source": [
    "# def train_test_split_rid(data_cla_cnmci_rid_list,data):\n",
    "def train_test_split_rid(data_cla_cn_rid_list,data_cla_mci_rid_list,data_cn_bal,data_mci_bal,rdseed):    \n",
    "# def train_test_split_rid(data_cla_cnmci_rid_list,data,rdseed):\n",
    "    rdseed1=random.randint(0, 10000)\n",
    "#     rdseed1 = rdseed\n",
    "    # rdseed2=rdseed1+1\n",
    "    print(rdseed1)\n",
    "    \n",
    "    rid_train_test_split_list_cn=np.random.RandomState(seed=rdseed1).permutation(data_cla_cn_rid_list)\n",
    "    rid_train_test_split_list_mci=np.random.RandomState(seed=rdseed1).permutation(data_cla_mci_rid_list)\n",
    "\n",
    "#     print(rid_train_test_split_list[0:5])\n",
    "\n",
    "    train=pd.DataFrame()\n",
    "    train_cn=pd.DataFrame()\n",
    "    train_mci=pd.DataFrame()\n",
    "    for i in range(len(rid_train_test_split_list_cn[0:200])):\n",
    "    #     train=pd.concat([train,data[(data['Yr_visit']==2)&(data['RID']==rid_train_test_split_list[i])]])\n",
    "        train_cn=pd.concat([train_cn,data[(data['RID']==rid_train_test_split_list_cn[i])]])\n",
    "        train_mci=pd.concat([train_mci,data[(data['RID']==rid_train_test_split_list_mci[i])]])\n",
    "        train = pd.concat([train_mci,train_cn])\n",
    "#     print(train.RID.head())\n",
    "    \n",
    "    test=pd.DataFrame()\n",
    "    test_cn=pd.DataFrame()\n",
    "    test_mci=pd.DataFrame()\n",
    "    for i in range(len(rid_train_test_split_list_cn[200:])):\n",
    "    #     test=pd.concat([test,data[(data['Yr_visit']==2)&(data['RID']==rid_train_test_split_list[440+i])]])\n",
    "#         test=pd.concat([test,data[(data['RID']==rid_train_test_split_list[440+i])]])\n",
    "        test_cn=pd.concat([test_cn,data[(data['RID']==rid_train_test_split_list_cn[200+i])]])\n",
    "        test_mci=pd.concat([test_mci,data[(data['RID']==rid_train_test_split_list_mci[200+i])]])\n",
    "        test = pd.concat([test_mci,test_cn])\n",
    "        \n",
    "#     print(test.head())\n",
    "#     print(test.RID.head())\n",
    "    train = train.sample(frac = 1)\n",
    "    test = test.sample(frac = 1)\n",
    "#     print(train.RID.head())\n",
    "#     print(test.RID.head())\n",
    "    \n",
    "    x_train = train[feature_col_2].astype(np.float).values\n",
    "#     x_train = train[feature_col].astype(np.float).values\n",
    "#     print(x_train.shape)\n",
    "    y_train_pre1 = train['DX']\n",
    "    mapping = { 'CN':0, 'MCI':1}\n",
    "    # mapping = { 'MCI':0, 'Dementia':1}\n",
    "    y_train_pre2=y_train_pre1.reset_index().replace({'DX': mapping})\n",
    "    y_train=np.array(y_train_pre2['DX'].tolist())\n",
    "\n",
    "\n",
    "    x_test = test[feature_col_2].astype(np.float).values\n",
    "#     x_test = test[feature_col].astype(np.float).values\n",
    "#     print(x_test.shape)\n",
    "    y_test_pre1 = test['DX']\n",
    "    mapping = { 'CN':0, 'MCI':1}\n",
    "    # mapping = { 'MCI':0, 'Dementia':1}\n",
    "    y_test_pre2=y_test_pre1.reset_index().replace({'DX': mapping})\n",
    "    y_test=np.array(y_test_pre2['DX'].tolist())\n",
    "    #     print(y_test.shape)\n",
    "\n",
    "    print(x_train.shape,y_train.sum(),x_test.shape,y_test.sum())\n",
    "    \n",
    "    return(x_train,y_train,x_test,y_test,rdseed1)"
   ]
  },
  {
   "cell_type": "code",
   "execution_count": 54,
   "id": "studied-marker",
   "metadata": {},
   "outputs": [],
   "source": [
    "# X_train,y_train,X_test,y_test,rdseed = train_test_split_rid(data_cla_cnmci_rid_list,data_cnmci_bal)\n",
    "# X_train,y_train,X_test,y_test,rdseed = train_test_split_rid(data_cla_cn_rid_list,data_cla_mci_rid_list,data_cn_bal,data_mci_bal)"
   ]
  },
  {
   "cell_type": "code",
   "execution_count": 55,
   "id": "expected-albert",
   "metadata": {},
   "outputs": [],
   "source": [
    "# print(\"Train size: \", X_train.shape)\n",
    "# print(\"Test size: \", X_test.shape)\n",
    "# print(\"Train size: \", y_train.shape)\n",
    "# print(\"Test size: \", y_test.shape)\n",
    "\n",
    "# print(\"y_train_value_counts\",y_train.sum())\n",
    "# print(\"y_test_value_counts\",y_test.sum())\n"
   ]
  },
  {
   "cell_type": "code",
   "execution_count": 56,
   "id": "fourth-toronto",
   "metadata": {},
   "outputs": [],
   "source": [
    "def run_experiment():\n",
    "    \n",
    "    X_train,y_train,X_test,y_test,rdseed = train_test_split_rid(data_cla_cn_rid_list,data_cla_mci_rid_list,data_cn_bal,data_mci_bal,rdseed_pre_list[r])\n",
    "    \n",
    "    rf_classifier = RandomForestClassifier(class_weight='balanced_subsample')\n",
    "    # rf_classifier = BalancedRandomForestClassifier()\n",
    "    rf_classifier.fit(X_train, y_train)\n",
    "    y_pred = rf_classifier.predict(X_test)\n",
    "\n",
    "\n",
    "    accuracy=accuracy_score(y_pred, y_test)\n",
    "    print(\"Accuracy: \", accuracy_score(y_pred, y_test))\n",
    "#     print(classification_report(y_pred, y_test))\n",
    "\n",
    "\n",
    "\n",
    "    # fix, ax = plt.subplots(figsize=(6, 4))\n",
    "    cm = confusion_matrix(y_test, y_pred)\n",
    "    # sns.heatmap(cm, annot=True, cmap=\"Blues\", fmt=\".1f\", ax=ax)\n",
    "    # ax.set_xlabel(\"Predicted Labels\")\n",
    "    # ax.set_ylabel(\"True Labels\")\n",
    "    # ax.set_title('Confusion Matrix')\n",
    "    # plt.show()\n",
    "\n",
    "    feature_imp = pd.Series(rf_classifier.feature_importances_, index = feature_col_2).sort_values(ascending = False)\n",
    "    # feature_imp_df=pd.DataFrame(feature_imp).reset_index().rename(columns={'index':'ADNI Code',0:'feat_val'})\n",
    "    # feature_imp_df_names=feature_imp_df.merge(df_major_regions)\n",
    "    # feature_imp_df_names\n",
    "    # feature_imp\n",
    "    return(accuracy,cm,feature_imp,rdseed)"
   ]
  },
  {
   "cell_type": "code",
   "execution_count": 57,
   "id": "charming-burner",
   "metadata": {},
   "outputs": [],
   "source": [
    "# cv = RepeatedStratifiedKFold(n_splits=2, n_repeats=1, random_state=1)\n",
    "# scores = cross_val_score(rf_classifier, data_cnmci_bal[feature_col_2].astype(np.float).values, data_cnmci_bal['DX'], scoring='roc_auc', cv=cv, n_jobs=-1)\n",
    "# scores"
   ]
  },
  {
   "cell_type": "code",
   "execution_count": 58,
   "id": "authorized-relevance",
   "metadata": {},
   "outputs": [
    {
     "name": "stdout",
     "output_type": "stream",
     "text": [
      "0\n",
      "3611\n",
      "(1200, 34) 600 (252, 34) 126\n",
      "Accuracy:  0.6944444444444444\n",
      "1\n",
      "1050\n",
      "(1200, 34) 600 (252, 34) 126\n",
      "Accuracy:  0.7182539682539683\n",
      "2\n",
      "49\n",
      "(1200, 34) 600 (252, 34) 126\n",
      "Accuracy:  0.6904761904761905\n",
      "3\n",
      "5130\n",
      "(1200, 34) 600 (252, 34) 126\n",
      "Accuracy:  0.6825396825396826\n",
      "4\n",
      "3508\n",
      "(1200, 34) 600 (252, 34) 126\n",
      "Accuracy:  0.6666666666666666\n",
      "5\n",
      "2135\n",
      "(1200, 34) 600 (252, 34) 126\n",
      "Accuracy:  0.6785714285714286\n",
      "6\n",
      "1801\n",
      "(1200, 34) 600 (252, 34) 126\n",
      "Accuracy:  0.746031746031746\n",
      "7\n",
      "9372\n",
      "(1200, 34) 600 (252, 34) 126\n",
      "Accuracy:  0.6507936507936508\n",
      "8\n",
      "496\n",
      "(1200, 34) 600 (252, 34) 126\n",
      "Accuracy:  0.6984126984126984\n",
      "9\n",
      "8642\n",
      "(1200, 34) 600 (252, 34) 126\n",
      "Accuracy:  0.6626984126984127\n",
      "10\n",
      "8728\n",
      "(1200, 34) 600 (252, 34) 126\n",
      "Accuracy:  0.6587301587301587\n",
      "11\n",
      "8244\n",
      "(1200, 34) 600 (252, 34) 126\n",
      "Accuracy:  0.7063492063492064\n",
      "12\n",
      "1782\n",
      "(1200, 34) 600 (252, 34) 126\n",
      "Accuracy:  0.6944444444444444\n",
      "13\n",
      "91\n",
      "(1200, 34) 600 (252, 34) 126\n",
      "Accuracy:  0.7619047619047619\n",
      "14\n",
      "4540\n",
      "(1200, 34) 600 (252, 34) 126\n",
      "Accuracy:  0.6468253968253969\n",
      "15\n",
      "5117\n",
      "(1200, 34) 600 (252, 34) 126\n",
      "Accuracy:  0.6825396825396826\n",
      "16\n",
      "9871\n",
      "(1200, 34) 600 (252, 34) 126\n",
      "Accuracy:  0.6428571428571429\n",
      "17\n",
      "4468\n",
      "(1200, 34) 600 (252, 34) 126\n",
      "Accuracy:  0.7222222222222222\n",
      "18\n",
      "2774\n",
      "(1200, 34) 600 (252, 34) 126\n",
      "Accuracy:  0.6468253968253969\n",
      "19\n",
      "4343\n",
      "(1200, 34) 600 (252, 34) 126\n",
      "Accuracy:  0.7380952380952381\n",
      "20\n",
      "9072\n",
      "(1200, 34) 600 (252, 34) 126\n",
      "Accuracy:  0.6666666666666666\n",
      "21\n",
      "6597\n",
      "(1200, 34) 600 (252, 34) 126\n",
      "Accuracy:  0.6666666666666666\n",
      "22\n",
      "7206\n",
      "(1200, 34) 600 (252, 34) 126\n",
      "Accuracy:  0.746031746031746\n",
      "23\n",
      "5368\n",
      "(1200, 34) 600 (252, 34) 126\n",
      "Accuracy:  0.6865079365079365\n",
      "24\n",
      "5436\n",
      "(1200, 34) 600 (252, 34) 126\n",
      "Accuracy:  0.6666666666666666\n",
      "25\n",
      "4237\n",
      "(1200, 34) 600 (252, 34) 126\n",
      "Accuracy:  0.6706349206349206\n",
      "26\n",
      "8311\n",
      "(1200, 34) 600 (252, 34) 126\n",
      "Accuracy:  0.6944444444444444\n",
      "27\n",
      "8216\n",
      "(1200, 34) 600 (252, 34) 126\n",
      "Accuracy:  0.7380952380952381\n",
      "28\n",
      "6631\n",
      "(1200, 34) 600 (252, 34) 126\n",
      "Accuracy:  0.7261904761904762\n",
      "29\n",
      "5592\n",
      "(1200, 34) 600 (252, 34) 126\n",
      "Accuracy:  0.6626984126984127\n"
     ]
    }
   ],
   "source": [
    "repeats = 30\n",
    "acc_list=[]\n",
    "cm_list=[]\n",
    "feature_imp_list=[]\n",
    "rdseed_list=[]\n",
    "for r in range(repeats):\n",
    "    print(r)\n",
    "    accuracy,cm,feature_imp,rdseed = run_experiment()\n",
    "    \n",
    "    acc_list.append(accuracy)\n",
    "    cm_list.append(cm)\n",
    "    feature_imp_list.append(feature_imp)\n",
    "    rdseed_list.append(rdseed)    "
   ]
  },
  {
   "cell_type": "code",
   "execution_count": 59,
   "id": "saved-component",
   "metadata": {},
   "outputs": [
    {
     "data": {
      "text/plain": [
       "(array([4., 7., 1., 4., 5., 1., 2., 1., 4., 1.]),\n",
       " array([0.64285714, 0.6547619 , 0.66666667, 0.67857143, 0.69047619,\n",
       "        0.70238095, 0.71428571, 0.72619048, 0.73809524, 0.75      ,\n",
       "        0.76190476]),\n",
       " <BarContainer object of 10 artists>)"
      ]
     },
     "execution_count": 59,
     "metadata": {},
     "output_type": "execute_result"
    },
    {
     "data": {
      "image/png": "[encoded data removed]",
      "text/plain": [
       "<Figure size 432x288 with 1 Axes>"
      ]
     },
     "metadata": {
      "needs_background": "light"
     },
     "output_type": "display_data"
    }
   ],
   "source": [
    "plt.hist(acc_list)"
   ]
  },
  {
   "cell_type": "code",
   "execution_count": 60,
   "id": "horizontal-campaign",
   "metadata": {},
   "outputs": [
    {
     "data": {
      "text/plain": [
       "(0.6904761904761904, 0.032851135611164844)"
      ]
     },
     "execution_count": 60,
     "metadata": {},
     "output_type": "execute_result"
    }
   ],
   "source": [
    "np.mean(acc_list),np.std(acc_list)"
   ]
  },
  {
   "cell_type": "code",
   "execution_count": 61,
   "id": "imported-penalty",
   "metadata": {},
   "outputs": [],
   "source": [
    "# # cm_lt\n",
    "cm_list_fullmri_RNN_1d=[]\n",
    "# cm_list_fullmri_RNN_1d_pre=[]\n",
    "for  i in range(len(cm_list)):\n",
    "    cm_list_fullmri_RNN_1d.append(cm_list[i].reshape(1,4)[0])\n",
    "#     cm_list_fullmri_RNN_1d_pre.append(cm_list_pre[i].reshape(1,4)[0])"
   ]
  },
  {
   "cell_type": "code",
   "execution_count": 62,
   "id": "interested-keeping",
   "metadata": {},
   "outputs": [],
   "source": [
    "df_CNvsMCI_mri_all_absvol_RID_separate_random_forest = pd.concat([pd.DataFrame(rdseed_list,columns=['rdseed_list']),pd.DataFrame(cm_list_fullmri_RNN_1d),pd.DataFrame(acc_list,columns=['acc_list']),pd.DataFrame(feature_imp_list)],axis=1)"
   ]
  },
  {
   "cell_type": "code",
   "execution_count": 63,
   "id": "saving-conference",
   "metadata": {},
   "outputs": [],
   "source": [
    "# df_CNvsMCI_mri_all_absvol_RID_separate_random_forest.to_csv('df_CNvsMCI_mri_all_absvol_RID_separate_random_forest_edu.csv',index=False)"
   ]
  },
  {
   "cell_type": "code",
   "execution_count": 64,
   "id": "after-nelson",
   "metadata": {},
   "outputs": [
    {
     "data": {
      "text/plain": [
       "rdseed_list                      5080.600000\n",
       "0                                  88.766667\n",
       "1                                  37.233333\n",
       "2                                  40.766667\n",
       "3                                  85.233333\n",
       "acc_list                            0.690476\n",
       "GDTOTAL_norm                        0.081877\n",
       "age_norm                            0.060423\n",
       "LeftHippocampus                     0.057155\n",
       "RightHippocampus                    0.047319\n",
       "RightIsthmusCingulate               0.036143\n",
       "RightEntorhinal                     0.032086\n",
       "RightParacentral                    0.033648\n",
       "Ventricles                          0.037577\n",
       "RightLingual                        0.030939\n",
       "ICV                                 0.035882\n",
       "LeftEntorhinal                      0.032792\n",
       "RightMiddleTemporal                 0.026351\n",
       "RightAmygdala                       0.029337\n",
       "RightInferiorTemporal               0.025315\n",
       "LeftMiddleTemporal                  0.026168\n",
       "RightMedialOrbitofrontal            0.029374\n",
       "RightPutamen                        0.026089\n",
       "RightRostralAnteriorCingulate       0.026705\n",
       "WholeBrain                          0.029696\n",
       "RightPrecuneus                      0.027999\n",
       "LeftFusiform                        0.024395\n",
       "RightCaudalMiddleFrontal            0.028031\n",
       "RightParahippocampal                0.029573\n",
       "RightInferiorParietal               0.025064\n",
       "RightBankssts                       0.025901\n",
       "RightFusiform                       0.024457\n",
       "RightAccumbensArea                  0.022434\n",
       "RightPrecentral                     0.021488\n",
       "PTEDUCAT_norm                       0.020579\n",
       "RightPallidum                       0.023934\n",
       "apoe4_0                             0.010809\n",
       "apoe4_1                             0.005657\n",
       "Yr_visit_norm                       0.002303\n",
       "apoe4_2                             0.002503\n",
       "dtype: float64"
      ]
     },
     "execution_count": 64,
     "metadata": {},
     "output_type": "execute_result"
    }
   ],
   "source": [
    "df_CNvsMCI_mri_all_absvol_RID_separate_random_forest.mean()"
   ]
  },
  {
   "cell_type": "code",
   "execution_count": 65,
   "id": "frequent-absolute",
   "metadata": {},
   "outputs": [
    {
     "data": {
      "text/plain": [
       "GDTOTAL_norm                     0.081877\n",
       "age_norm                         0.060423\n",
       "LeftHippocampus                  0.057155\n",
       "RightHippocampus                 0.047319\n",
       "Ventricles                       0.037577\n",
       "RightIsthmusCingulate            0.036143\n",
       "ICV                              0.035882\n",
       "RightParacentral                 0.033648\n",
       "LeftEntorhinal                   0.032792\n",
       "RightEntorhinal                  0.032086\n",
       "RightLingual                     0.030939\n",
       "WholeBrain                       0.029696\n",
       "RightParahippocampal             0.029573\n",
       "RightMedialOrbitofrontal         0.029374\n",
       "RightAmygdala                    0.029337\n",
       "RightCaudalMiddleFrontal         0.028031\n",
       "RightPrecuneus                   0.027999\n",
       "RightRostralAnteriorCingulate    0.026705\n",
       "RightMiddleTemporal              0.026351\n",
       "LeftMiddleTemporal               0.026168\n",
       "RightPutamen                     0.026089\n",
       "RightBankssts                    0.025901\n",
       "RightInferiorTemporal            0.025315\n",
       "RightInferiorParietal            0.025064\n",
       "RightFusiform                    0.024457\n",
       "LeftFusiform                     0.024395\n",
       "RightPallidum                    0.023934\n",
       "RightAccumbensArea               0.022434\n",
       "RightPrecentral                  0.021488\n",
       "PTEDUCAT_norm                    0.020579\n",
       "apoe4_0                          0.010809\n",
       "apoe4_1                          0.005657\n",
       "apoe4_2                          0.002503\n",
       "Yr_visit_norm                    0.002303\n",
       "dtype: float64"
      ]
     },
     "execution_count": 65,
     "metadata": {},
     "output_type": "execute_result"
    }
   ],
   "source": [
    "pd.DataFrame(feature_imp_list).mean().sort_values(ascending=False)"
   ]
  },
  {
   "cell_type": "code",
   "execution_count": 66,
   "id": "duplicate-luxembourg",
   "metadata": {},
   "outputs": [],
   "source": [
    "# len(feature_imp_list)"
   ]
  },
  {
   "cell_type": "code",
   "execution_count": 80,
   "id": "optimum-distributor",
   "metadata": {},
   "outputs": [
    {
     "data": {
      "text/plain": [
       "(4258.792011019284, 4434.15510835995)"
      ]
     },
     "execution_count": 80,
     "metadata": {},
     "output_type": "execute_result"
    }
   ],
   "source": [
    "data_cn['RightMedialOrbitofrontal'].mean(),data_mci['RightMedialOrbitofrontal'].mean()"
   ]
  },
  {
   "cell_type": "code",
   "execution_count": 82,
   "id": "adjacent-south",
   "metadata": {},
   "outputs": [
    {
     "data": {
      "text/plain": [
       "count     726.000000\n",
       "mean     4258.792011\n",
       "std       691.071689\n",
       "min      2438.000000\n",
       "25%      3783.500000\n",
       "50%      4225.500000\n",
       "75%      4702.000000\n",
       "max      6803.000000\n",
       "Name: RightMedialOrbitofrontal, dtype: float64"
      ]
     },
     "execution_count": 82,
     "metadata": {},
     "output_type": "execute_result"
    }
   ],
   "source": [
    "data_cn['RightMedialOrbitofrontal'].describe()"
   ]
  },
  {
   "cell_type": "code",
   "execution_count": 81,
   "id": "economic-attack",
   "metadata": {},
   "outputs": [
    {
     "data": {
      "text/plain": [
       "count     921.000000\n",
       "mean     4434.155108\n",
       "std       698.310422\n",
       "min      2342.000000\n",
       "25%      3963.000000\n",
       "50%      4453.000000\n",
       "75%      4901.000000\n",
       "max      7963.000000\n",
       "Name: RightMedialOrbitofrontal, dtype: float64"
      ]
     },
     "execution_count": 81,
     "metadata": {},
     "output_type": "execute_result"
    }
   ],
   "source": [
    "data_mci['RightMedialOrbitofrontal'].describe()"
   ]
  },
  {
   "cell_type": "code",
   "execution_count": null,
   "id": "protected-sphere",
   "metadata": {},
   "outputs": [],
   "source": []
  }
 ],
 "metadata": {
  "kernelspec": {
   "display_name": "Python 3",
   "language": "python",
   "name": "python3"
  },
  "language_info": {
   "codemirror_mode": {
    "name": "ipython",
    "version": 3
   },
   "file_extension": ".py",
   "mimetype": "text/x-python",
   "name": "python",
   "nbconvert_exporter": "python",
   "pygments_lexer": "ipython3",
   "version": "3.8.8"
  }
 },
 "nbformat": 4,
 "nbformat_minor": 5
}
