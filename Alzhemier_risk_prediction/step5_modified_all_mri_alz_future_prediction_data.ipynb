{
 "cells": [
  {
   "cell_type": "code",
   "execution_count": 1,
   "id": "conscious-volleyball",
   "metadata": {},
   "outputs": [],
   "source": [
    "import numpy as np\n",
    "import os\n",
    "import pandas as pd\n",
    "import seaborn as sns\n",
    "import matplotlib.pyplot as plt\n",
    "%matplotlib inline"
   ]
  },
  {
   "cell_type": "code",
   "execution_count": 2,
   "id": "cardiac-moore",
   "metadata": {},
   "outputs": [],
   "source": [
    "file_loc='../ADNI_data/future_dx_prediction_alz_plos/'\n",
    "df_all = pd.read_csv(file_loc+'step5_modified_mri_alz_future_prediction_plos.csv')"
   ]
  },
  {
   "cell_type": "code",
   "execution_count": 3,
   "id": "thrown-broadway",
   "metadata": {},
   "outputs": [
    {
     "name": "stderr",
     "output_type": "stream",
     "text": [
      "E:\\anaconda3\\envs\\tf\\lib\\site-packages\\IPython\\core\\interactiveshell.py:3165: DtypeWarning: Columns (7,8) have mixed types.Specify dtype option on import or set low_memory=False.\n",
      "  has_raised = await self.run_ast_nodes(code_ast.body, cell_name,\n"
     ]
    }
   ],
   "source": [
    "# file_loc3 = \"../../../../data_evaluation_curation/\"\n",
    "df_DX_EDU_APOE=pd.read_csv('df_step1_addedmri_dep_fl.csv')"
   ]
  },
  {
   "cell_type": "code",
   "execution_count": 4,
   "id": "empty-framework",
   "metadata": {},
   "outputs": [
    {
     "data": {
      "text/plain": [
       "(1256, 174)"
      ]
     },
     "execution_count": 4,
     "metadata": {},
     "output_type": "execute_result"
    }
   ],
   "source": [
    "path_to_read = '../ADNI_data/future_dx_prediction_alz_plos/plos_final_output_data/'\n",
    "sample_points = pd.read_csv(path_to_read+'sample_points.csv', low_memory=False)\n",
    "sample_points.shape"
   ]
  },
  {
   "cell_type": "code",
   "execution_count": 5,
   "id": "better-horizontal",
   "metadata": {},
   "outputs": [],
   "source": [
    "df_DX_EDU_APOE['psy_edu_status']=df_DX_EDU_APOE['psycond']+ '_' + df_DX_EDU_APOE['edu_status']\n",
    "\n",
    "feature_col= ['GDTOTAL','IMAGEUID'] +  df_DX_EDU_APOE.columns[66:-4].tolist() \n",
    "feature_col_1= ['GDTOTAL'] +  df_DX_EDU_APOE.columns[66:-4].tolist() \n",
    "feature_col_2=df_DX_EDU_APOE.columns[58:65].tolist() +  ['GDTOTAL']"
   ]
  },
  {
   "cell_type": "code",
   "execution_count": 6,
   "id": "interior-portsmouth",
   "metadata": {},
   "outputs": [],
   "source": [
    "df_DX_EDU_APOE_fc=df_DX_EDU_APOE[feature_col]"
   ]
  },
  {
   "cell_type": "code",
   "execution_count": 7,
   "id": "musical-houston",
   "metadata": {},
   "outputs": [],
   "source": [
    "imageid=[]\n",
    "for i in range(1256):\n",
    "    imageid.append(sample_points.loc[i,'IMAGEUID'])\n",
    "    imageid.append(sample_points.loc[i,'IMAGEUID.1'])\n",
    "    imageid.append(sample_points.loc[i,'IMAGEUID.2'])"
   ]
  },
  {
   "cell_type": "code",
   "execution_count": 8,
   "id": "finite-growth",
   "metadata": {},
   "outputs": [],
   "source": [
    "df_all_imageid=pd.concat([df_all,pd.DataFrame(imageid)],axis=1).rename(columns={0:'IMAGEUID'})"
   ]
  },
  {
   "cell_type": "code",
   "execution_count": 9,
   "id": "labeled-mainstream",
   "metadata": {},
   "outputs": [],
   "source": [
    "df_all_mri=df_DX_EDU_APOE[feature_col].dropna().merge(df_all_imageid,on = 'IMAGEUID',how='right')"
   ]
  },
  {
   "cell_type": "code",
   "execution_count": 10,
   "id": "excess-louisville",
   "metadata": {},
   "outputs": [
    {
     "data": {
      "text/plain": [
       "((3768, 32), (3586, 18))"
      ]
     },
     "execution_count": 10,
     "metadata": {},
     "output_type": "execute_result"
    }
   ],
   "source": [
    "df_all_mri.shape,df_all_mri[feature_col_1].dropna().shape"
   ]
  },
  {
   "cell_type": "code",
   "execution_count": 11,
   "id": "infinite-laser",
   "metadata": {},
   "outputs": [
    {
     "data": {
      "text/plain": [
       "3613"
      ]
     },
     "execution_count": 11,
     "metadata": {},
     "output_type": "execute_result"
    }
   ],
   "source": [
    "df_all_mri.IMAGEUID.count()"
   ]
  },
  {
   "cell_type": "code",
   "execution_count": 12,
   "id": "surface-engagement",
   "metadata": {},
   "outputs": [],
   "source": [
    "# 3768-3613 = 155\n",
    "# 3768-3586"
   ]
  },
  {
   "cell_type": "code",
   "execution_count": 13,
   "id": "musical-cholesterol",
   "metadata": {},
   "outputs": [],
   "source": [
    "# df_all_mri[feature_col_1].dropna().head(50)"
   ]
  },
  {
   "cell_type": "code",
   "execution_count": 14,
   "id": "collectible-rubber",
   "metadata": {},
   "outputs": [
    {
     "data": {
      "text/plain": [
       "GDTOTAL                              1.413274\n",
       "RightTemporalPole                 2000.606804\n",
       "RightParahippocampal              1921.087563\n",
       "RightInferiorTemporal             9665.565254\n",
       "RightInferiorParietal            12964.072504\n",
       "RightIsthmusCingulate             2125.177914\n",
       "RightBankssts                     2108.126882\n",
       "RightPrecuneus                    8411.686280\n",
       "RightAmygdala                     1375.973648\n",
       "RightAccumbensArea                 478.965393\n",
       "RightMedialOrbitofrontal          4304.588399\n",
       "RightPallidum                     1437.989431\n",
       "RightCaudalMiddleFrontal          5123.440045\n",
       "RightPutamen                      4624.298215\n",
       "RightRostralAnteriorCingulate     1834.241216\n",
       "RightParacentral                  3390.566090\n",
       "RightPrecentral                  11386.471835\n",
       "RightLingual                      5873.482989\n",
       "dtype: float64"
      ]
     },
     "execution_count": 14,
     "metadata": {},
     "output_type": "execute_result"
    }
   ],
   "source": [
    "mean = df_all_mri.filter(feature_col_1).mean()\n",
    "mean"
   ]
  },
  {
   "cell_type": "code",
   "execution_count": 15,
   "id": "negative-niger",
   "metadata": {},
   "outputs": [],
   "source": [
    "df_all_mri[feature_col_1]=df_all_mri[feature_col_1].fillna(mean)"
   ]
  },
  {
   "cell_type": "code",
   "execution_count": 16,
   "id": "fifth-cosmetic",
   "metadata": {},
   "outputs": [
    {
     "data": {
      "text/plain": [
       "((3768, 32), (3768, 18))"
      ]
     },
     "execution_count": 16,
     "metadata": {},
     "output_type": "execute_result"
    }
   ],
   "source": [
    "df_all_mri.shape,df_all_mri[feature_col_1].dropna().shape"
   ]
  },
  {
   "cell_type": "code",
   "execution_count": 17,
   "id": "meaningful-singles",
   "metadata": {},
   "outputs": [
    {
     "data": {
      "text/html": [
       "<div>\n",
       "<style scoped>\n",
       "    .dataframe tbody tr th:only-of-type {\n",
       "        vertical-align: middle;\n",
       "    }\n",
       "\n",
       "    .dataframe tbody tr th {\n",
       "        vertical-align: top;\n",
       "    }\n",
       "\n",
       "    .dataframe thead th {\n",
       "        text-align: right;\n",
       "    }\n",
       "</style>\n",
       "<table border=\"1\" class=\"dataframe\">\n",
       "  <thead>\n",
       "    <tr style=\"text-align: right;\">\n",
       "      <th></th>\n",
       "      <th>GDTOTAL</th>\n",
       "      <th>IMAGEUID</th>\n",
       "      <th>RightTemporalPole</th>\n",
       "      <th>RightParahippocampal</th>\n",
       "      <th>RightInferiorTemporal</th>\n",
       "      <th>RightInferiorParietal</th>\n",
       "      <th>RightIsthmusCingulate</th>\n",
       "      <th>RightBankssts</th>\n",
       "      <th>RightPrecuneus</th>\n",
       "      <th>RightAmygdala</th>\n",
       "      <th>...</th>\n",
       "      <th>Hippocampus</th>\n",
       "      <th>WholeBrain</th>\n",
       "      <th>Entorhinal</th>\n",
       "      <th>Fusiform</th>\n",
       "      <th>MidTemp</th>\n",
       "      <th>ICV</th>\n",
       "      <th>DX</th>\n",
       "      <th>FollowupYear</th>\n",
       "      <th>FollowupDX</th>\n",
       "      <th>TrainValTest</th>\n",
       "    </tr>\n",
       "  </thead>\n",
       "  <tbody>\n",
       "    <tr>\n",
       "      <th>0</th>\n",
       "      <td>0.000000</td>\n",
       "      <td>32246.0</td>\n",
       "      <td>1999.000000</td>\n",
       "      <td>2305.000000</td>\n",
       "      <td>9870.000000</td>\n",
       "      <td>14826.000000</td>\n",
       "      <td>2096.000000</td>\n",
       "      <td>2497.000000</td>\n",
       "      <td>9306.00000</td>\n",
       "      <td>1159.000000</td>\n",
       "      <td>...</td>\n",
       "      <td>-0.120875</td>\n",
       "      <td>0.745614</td>\n",
       "      <td>1.090645e+00</td>\n",
       "      <td>3.236834e+00</td>\n",
       "      <td>5.530345e-01</td>\n",
       "      <td>6.861566e-01</td>\n",
       "      <td>CN</td>\n",
       "      <td>3</td>\n",
       "      <td>CN</td>\n",
       "      <td>Train</td>\n",
       "    </tr>\n",
       "    <tr>\n",
       "      <th>1</th>\n",
       "      <td>0.000000</td>\n",
       "      <td>31906.0</td>\n",
       "      <td>1843.000000</td>\n",
       "      <td>2037.000000</td>\n",
       "      <td>10008.000000</td>\n",
       "      <td>14374.000000</td>\n",
       "      <td>2056.000000</td>\n",
       "      <td>2480.000000</td>\n",
       "      <td>8836.00000</td>\n",
       "      <td>1219.000000</td>\n",
       "      <td>...</td>\n",
       "      <td>-0.290017</td>\n",
       "      <td>0.718848</td>\n",
       "      <td>-7.250730e-02</td>\n",
       "      <td>3.097285e+00</td>\n",
       "      <td>2.464277e-01</td>\n",
       "      <td>6.243322e-01</td>\n",
       "      <td>CN</td>\n",
       "      <td>3</td>\n",
       "      <td>CN</td>\n",
       "      <td>Train</td>\n",
       "    </tr>\n",
       "    <tr>\n",
       "      <th>2</th>\n",
       "      <td>0.000000</td>\n",
       "      <td>200385.0</td>\n",
       "      <td>1950.000000</td>\n",
       "      <td>2088.000000</td>\n",
       "      <td>10405.000000</td>\n",
       "      <td>14361.000000</td>\n",
       "      <td>2024.000000</td>\n",
       "      <td>2211.000000</td>\n",
       "      <td>8871.00000</td>\n",
       "      <td>1231.000000</td>\n",
       "      <td>...</td>\n",
       "      <td>-0.382065</td>\n",
       "      <td>0.757268</td>\n",
       "      <td>1.118476e+00</td>\n",
       "      <td>2.827450e+00</td>\n",
       "      <td>-8.716197e-03</td>\n",
       "      <td>6.582306e-01</td>\n",
       "      <td>CN</td>\n",
       "      <td>3</td>\n",
       "      <td>CN</td>\n",
       "      <td>Train</td>\n",
       "    </tr>\n",
       "    <tr>\n",
       "      <th>3</th>\n",
       "      <td>0.000000</td>\n",
       "      <td>33025.0</td>\n",
       "      <td>1766.000000</td>\n",
       "      <td>1612.000000</td>\n",
       "      <td>6909.000000</td>\n",
       "      <td>12710.000000</td>\n",
       "      <td>2756.000000</td>\n",
       "      <td>2723.000000</td>\n",
       "      <td>8562.00000</td>\n",
       "      <td>897.000000</td>\n",
       "      <td>...</td>\n",
       "      <td>-1.851419</td>\n",
       "      <td>-1.114426</td>\n",
       "      <td>-2.164168e+00</td>\n",
       "      <td>3.875731e-02</td>\n",
       "      <td>-1.077173e+00</td>\n",
       "      <td>-3.243469e-01</td>\n",
       "      <td>MCI</td>\n",
       "      <td>3</td>\n",
       "      <td>MCI</td>\n",
       "      <td>Train</td>\n",
       "    </tr>\n",
       "    <tr>\n",
       "      <th>4</th>\n",
       "      <td>0.000000</td>\n",
       "      <td>62348.0</td>\n",
       "      <td>1536.000000</td>\n",
       "      <td>1678.000000</td>\n",
       "      <td>7301.000000</td>\n",
       "      <td>13140.000000</td>\n",
       "      <td>2972.000000</td>\n",
       "      <td>2962.000000</td>\n",
       "      <td>8517.00000</td>\n",
       "      <td>963.000000</td>\n",
       "      <td>...</td>\n",
       "      <td>-1.550377</td>\n",
       "      <td>-0.817731</td>\n",
       "      <td>-1.976517e+00</td>\n",
       "      <td>4.384277e-02</td>\n",
       "      <td>-7.487493e-01</td>\n",
       "      <td>-1.680326e-01</td>\n",
       "      <td>MCI</td>\n",
       "      <td>3</td>\n",
       "      <td>MCI</td>\n",
       "      <td>Train</td>\n",
       "    </tr>\n",
       "    <tr>\n",
       "      <th>5</th>\n",
       "      <td>1.413274</td>\n",
       "      <td>NaN</td>\n",
       "      <td>2000.606804</td>\n",
       "      <td>1921.087563</td>\n",
       "      <td>9665.565254</td>\n",
       "      <td>12964.072504</td>\n",
       "      <td>2125.177914</td>\n",
       "      <td>2108.126882</td>\n",
       "      <td>8411.68628</td>\n",
       "      <td>1375.973648</td>\n",
       "      <td>...</td>\n",
       "      <td>0.000000</td>\n",
       "      <td>0.000000</td>\n",
       "      <td>2.000000e-14</td>\n",
       "      <td>-2.080000e-14</td>\n",
       "      <td>2.590000e-14</td>\n",
       "      <td>7.730000e-15</td>\n",
       "      <td>MCI</td>\n",
       "      <td>3</td>\n",
       "      <td>MCI</td>\n",
       "      <td>Train</td>\n",
       "    </tr>\n",
       "    <tr>\n",
       "      <th>6</th>\n",
       "      <td>1.413274</td>\n",
       "      <td>NaN</td>\n",
       "      <td>2000.606804</td>\n",
       "      <td>1921.087563</td>\n",
       "      <td>9665.565254</td>\n",
       "      <td>12964.072504</td>\n",
       "      <td>2125.177914</td>\n",
       "      <td>2108.126882</td>\n",
       "      <td>8411.68628</td>\n",
       "      <td>1375.973648</td>\n",
       "      <td>...</td>\n",
       "      <td>0.000000</td>\n",
       "      <td>0.000000</td>\n",
       "      <td>2.000000e-14</td>\n",
       "      <td>-2.080000e-14</td>\n",
       "      <td>2.590000e-14</td>\n",
       "      <td>7.730000e-15</td>\n",
       "      <td>CN</td>\n",
       "      <td>3</td>\n",
       "      <td>CN</td>\n",
       "      <td>Test</td>\n",
       "    </tr>\n",
       "    <tr>\n",
       "      <th>7</th>\n",
       "      <td>1.413274</td>\n",
       "      <td>NaN</td>\n",
       "      <td>2000.606804</td>\n",
       "      <td>1921.087563</td>\n",
       "      <td>9665.565254</td>\n",
       "      <td>12964.072504</td>\n",
       "      <td>2125.177914</td>\n",
       "      <td>2108.126882</td>\n",
       "      <td>8411.68628</td>\n",
       "      <td>1375.973648</td>\n",
       "      <td>...</td>\n",
       "      <td>0.000000</td>\n",
       "      <td>0.000000</td>\n",
       "      <td>2.000000e-14</td>\n",
       "      <td>-2.080000e-14</td>\n",
       "      <td>2.590000e-14</td>\n",
       "      <td>7.730000e-15</td>\n",
       "      <td>CN</td>\n",
       "      <td>3</td>\n",
       "      <td>CN</td>\n",
       "      <td>Train</td>\n",
       "    </tr>\n",
       "    <tr>\n",
       "      <th>8</th>\n",
       "      <td>1.413274</td>\n",
       "      <td>NaN</td>\n",
       "      <td>2000.606804</td>\n",
       "      <td>1921.087563</td>\n",
       "      <td>9665.565254</td>\n",
       "      <td>12964.072504</td>\n",
       "      <td>2125.177914</td>\n",
       "      <td>2108.126882</td>\n",
       "      <td>8411.68628</td>\n",
       "      <td>1375.973648</td>\n",
       "      <td>...</td>\n",
       "      <td>0.000000</td>\n",
       "      <td>0.000000</td>\n",
       "      <td>2.000000e-14</td>\n",
       "      <td>-2.080000e-14</td>\n",
       "      <td>2.590000e-14</td>\n",
       "      <td>7.730000e-15</td>\n",
       "      <td>MCI</td>\n",
       "      <td>3</td>\n",
       "      <td>MCI</td>\n",
       "      <td>Val</td>\n",
       "    </tr>\n",
       "    <tr>\n",
       "      <th>9</th>\n",
       "      <td>1.413274</td>\n",
       "      <td>NaN</td>\n",
       "      <td>2000.606804</td>\n",
       "      <td>1921.087563</td>\n",
       "      <td>9665.565254</td>\n",
       "      <td>12964.072504</td>\n",
       "      <td>2125.177914</td>\n",
       "      <td>2108.126882</td>\n",
       "      <td>8411.68628</td>\n",
       "      <td>1375.973648</td>\n",
       "      <td>...</td>\n",
       "      <td>0.000000</td>\n",
       "      <td>0.000000</td>\n",
       "      <td>2.000000e-14</td>\n",
       "      <td>-2.080000e-14</td>\n",
       "      <td>2.590000e-14</td>\n",
       "      <td>7.730000e-15</td>\n",
       "      <td>MCI</td>\n",
       "      <td>3</td>\n",
       "      <td>Dementia</td>\n",
       "      <td>Train</td>\n",
       "    </tr>\n",
       "  </tbody>\n",
       "</table>\n",
       "<p>10 rows × 32 columns</p>\n",
       "</div>"
      ],
      "text/plain": [
       "    GDTOTAL  IMAGEUID  RightTemporalPole  RightParahippocampal  \\\n",
       "0  0.000000   32246.0        1999.000000           2305.000000   \n",
       "1  0.000000   31906.0        1843.000000           2037.000000   \n",
       "2  0.000000  200385.0        1950.000000           2088.000000   \n",
       "3  0.000000   33025.0        1766.000000           1612.000000   \n",
       "4  0.000000   62348.0        1536.000000           1678.000000   \n",
       "5  1.413274       NaN        2000.606804           1921.087563   \n",
       "6  1.413274       NaN        2000.606804           1921.087563   \n",
       "7  1.413274       NaN        2000.606804           1921.087563   \n",
       "8  1.413274       NaN        2000.606804           1921.087563   \n",
       "9  1.413274       NaN        2000.606804           1921.087563   \n",
       "\n",
       "   RightInferiorTemporal  RightInferiorParietal  RightIsthmusCingulate  \\\n",
       "0            9870.000000           14826.000000            2096.000000   \n",
       "1           10008.000000           14374.000000            2056.000000   \n",
       "2           10405.000000           14361.000000            2024.000000   \n",
       "3            6909.000000           12710.000000            2756.000000   \n",
       "4            7301.000000           13140.000000            2972.000000   \n",
       "5            9665.565254           12964.072504            2125.177914   \n",
       "6            9665.565254           12964.072504            2125.177914   \n",
       "7            9665.565254           12964.072504            2125.177914   \n",
       "8            9665.565254           12964.072504            2125.177914   \n",
       "9            9665.565254           12964.072504            2125.177914   \n",
       "\n",
       "   RightBankssts  RightPrecuneus  RightAmygdala  ...  Hippocampus  WholeBrain  \\\n",
       "0    2497.000000      9306.00000    1159.000000  ...    -0.120875    0.745614   \n",
       "1    2480.000000      8836.00000    1219.000000  ...    -0.290017    0.718848   \n",
       "2    2211.000000      8871.00000    1231.000000  ...    -0.382065    0.757268   \n",
       "3    2723.000000      8562.00000     897.000000  ...    -1.851419   -1.114426   \n",
       "4    2962.000000      8517.00000     963.000000  ...    -1.550377   -0.817731   \n",
       "5    2108.126882      8411.68628    1375.973648  ...     0.000000    0.000000   \n",
       "6    2108.126882      8411.68628    1375.973648  ...     0.000000    0.000000   \n",
       "7    2108.126882      8411.68628    1375.973648  ...     0.000000    0.000000   \n",
       "8    2108.126882      8411.68628    1375.973648  ...     0.000000    0.000000   \n",
       "9    2108.126882      8411.68628    1375.973648  ...     0.000000    0.000000   \n",
       "\n",
       "     Entorhinal      Fusiform       MidTemp           ICV   DX  FollowupYear  \\\n",
       "0  1.090645e+00  3.236834e+00  5.530345e-01  6.861566e-01   CN             3   \n",
       "1 -7.250730e-02  3.097285e+00  2.464277e-01  6.243322e-01   CN             3   \n",
       "2  1.118476e+00  2.827450e+00 -8.716197e-03  6.582306e-01   CN             3   \n",
       "3 -2.164168e+00  3.875731e-02 -1.077173e+00 -3.243469e-01  MCI             3   \n",
       "4 -1.976517e+00  4.384277e-02 -7.487493e-01 -1.680326e-01  MCI             3   \n",
       "5  2.000000e-14 -2.080000e-14  2.590000e-14  7.730000e-15  MCI             3   \n",
       "6  2.000000e-14 -2.080000e-14  2.590000e-14  7.730000e-15   CN             3   \n",
       "7  2.000000e-14 -2.080000e-14  2.590000e-14  7.730000e-15   CN             3   \n",
       "8  2.000000e-14 -2.080000e-14  2.590000e-14  7.730000e-15  MCI             3   \n",
       "9  2.000000e-14 -2.080000e-14  2.590000e-14  7.730000e-15  MCI             3   \n",
       "\n",
       "   FollowupDX  TrainValTest  \n",
       "0          CN         Train  \n",
       "1          CN         Train  \n",
       "2          CN         Train  \n",
       "3         MCI         Train  \n",
       "4         MCI         Train  \n",
       "5         MCI         Train  \n",
       "6          CN          Test  \n",
       "7          CN         Train  \n",
       "8         MCI           Val  \n",
       "9    Dementia         Train  \n",
       "\n",
       "[10 rows x 32 columns]"
      ]
     },
     "execution_count": 17,
     "metadata": {},
     "output_type": "execute_result"
    }
   ],
   "source": [
    "df_all_mri.head(10)"
   ]
  },
  {
   "cell_type": "code",
   "execution_count": 18,
   "id": "freelance-intermediate",
   "metadata": {},
   "outputs": [],
   "source": [
    "df_all_mri[feature_col_1]=(df_all_mri[feature_col_1]-df_all_mri[feature_col_1].mean())/df_all_mri[feature_col_1].std()"
   ]
  },
  {
   "cell_type": "code",
   "execution_count": 19,
   "id": "pursuant-fence",
   "metadata": {},
   "outputs": [
    {
     "data": {
      "text/plain": [
       "Index(['GDTOTAL', 'IMAGEUID', 'RightTemporalPole', 'RightParahippocampal',\n",
       "       'RightInferiorTemporal', 'RightInferiorParietal',\n",
       "       'RightIsthmusCingulate', 'RightBankssts', 'RightPrecuneus',\n",
       "       'RightAmygdala', 'RightAccumbensArea', 'RightMedialOrbitofrontal',\n",
       "       'RightPallidum', 'RightCaudalMiddleFrontal', 'RightPutamen',\n",
       "       'RightRostralAnteriorCingulate', 'RightParacentral', 'RightPrecentral',\n",
       "       'RightLingual', 'RID', 'Yr_visit', 'Ventricles', 'Hippocampus',\n",
       "       'WholeBrain', 'Entorhinal', 'Fusiform', 'MidTemp', 'ICV', 'DX',\n",
       "       'FollowupYear', 'FollowupDX', 'TrainValTest'],\n",
       "      dtype='object')"
      ]
     },
     "execution_count": 19,
     "metadata": {},
     "output_type": "execute_result"
    }
   ],
   "source": [
    "df_all_mri.columns"
   ]
  },
  {
   "cell_type": "code",
   "execution_count": 38,
   "id": "incorrect-uncertainty",
   "metadata": {},
   "outputs": [
    {
     "data": {
      "text/plain": [
       "(3768, 32)"
      ]
     },
     "execution_count": 38,
     "metadata": {},
     "output_type": "execute_result"
    }
   ],
   "source": [
    "df_all_mri.shape"
   ]
  },
  {
   "cell_type": "code",
   "execution_count": 43,
   "id": "isolated-extension",
   "metadata": {},
   "outputs": [
    {
     "data": {
      "text/plain": [
       "((3613, 32), 155)"
      ]
     },
     "execution_count": 43,
     "metadata": {},
     "output_type": "execute_result"
    }
   ],
   "source": [
    "df_all_mri_imageidna_drop=df_all_mri.dropna(subset=['IMAGEUID'])\n",
    "df_all_mri_imageidna_drop.shape,3768-3613"
   ]
  },
  {
   "cell_type": "code",
   "execution_count": 23,
   "id": "radio-burns",
   "metadata": {},
   "outputs": [],
   "source": [
    "# df_all_mri_imageidna_drop.head(20)"
   ]
  },
  {
   "cell_type": "code",
   "execution_count": 24,
   "id": "boxed-isolation",
   "metadata": {},
   "outputs": [
    {
     "data": {
      "text/plain": [
       "453"
      ]
     },
     "execution_count": 24,
     "metadata": {},
     "output_type": "execute_result"
    }
   ],
   "source": [
    "df_all_mri_imageidna_drop_visit_count_fy_3=pd.DataFrame(df_all_mri_imageidna_drop[df_all_mri_imageidna_drop['FollowupYear']==3].RID.value_counts()).rename(columns={'RID':'Yr_visit_ct'}).reset_index().rename(columns={'index':'RID'})\n",
    "fy_3_visit_count_3_rid_list=df_all_mri_imageidna_drop_visit_count_fy_3[df_all_mri_imageidna_drop_visit_count_fy_3['Yr_visit_ct']==3]['RID'].tolist()\n",
    "len(fy_3_visit_count_3_rid_list)"
   ]
  },
  {
   "cell_type": "code",
   "execution_count": 25,
   "id": "impressive-ceiling",
   "metadata": {},
   "outputs": [
    {
     "data": {
      "text/plain": [
       "422"
      ]
     },
     "execution_count": 25,
     "metadata": {},
     "output_type": "execute_result"
    }
   ],
   "source": [
    "df_all_mri_imageidna_drop_visit_count_fy_4=pd.DataFrame(df_all_mri_imageidna_drop[df_all_mri_imageidna_drop['FollowupYear']==4].RID.value_counts()).rename(columns={'RID':'Yr_visit_ct'}).reset_index().rename(columns={'index':'RID'})\n",
    "fy_4_visit_count_3_rid_list=df_all_mri_imageidna_drop_visit_count_fy_4[df_all_mri_imageidna_drop_visit_count_fy_4['Yr_visit_ct']==3]['RID'].tolist()\n",
    "len(fy_4_visit_count_3_rid_list)"
   ]
  },
  {
   "cell_type": "code",
   "execution_count": 26,
   "id": "national-knock",
   "metadata": {},
   "outputs": [
    {
     "data": {
      "text/plain": [
       "255"
      ]
     },
     "execution_count": 26,
     "metadata": {},
     "output_type": "execute_result"
    }
   ],
   "source": [
    "df_all_mri_imageidna_drop_visit_count_fy_5=pd.DataFrame(df_all_mri_imageidna_drop[df_all_mri_imageidna_drop['FollowupYear']==5].RID.value_counts()).rename(columns={'RID':'Yr_visit_ct'}).reset_index().rename(columns={'index':'RID'})\n",
    "fy_5_visit_count_3_rid_list=df_all_mri_imageidna_drop_visit_count_fy_5[df_all_mri_imageidna_drop_visit_count_fy_5['Yr_visit_ct']==3]['RID'].tolist()\n",
    "len(fy_5_visit_count_3_rid_list)"
   ]
  },
  {
   "cell_type": "code",
   "execution_count": 27,
   "id": "subjective-bundle",
   "metadata": {},
   "outputs": [
    {
     "data": {
      "text/plain": [
       "1130"
      ]
     },
     "execution_count": 27,
     "metadata": {},
     "output_type": "execute_result"
    }
   ],
   "source": [
    "visit_count_3_rid_list = fy_3_visit_count_3_rid_list + fy_4_visit_count_3_rid_list +fy_5_visit_count_3_rid_list\n",
    "len(visit_count_3_rid_list)"
   ]
  },
  {
   "cell_type": "code",
   "execution_count": 28,
   "id": "acceptable-bulletin",
   "metadata": {},
   "outputs": [
    {
     "data": {
      "text/plain": [
       "1130"
      ]
     },
     "execution_count": 28,
     "metadata": {},
     "output_type": "execute_result"
    }
   ],
   "source": [
    "453+422+255"
   ]
  },
  {
   "cell_type": "code",
   "execution_count": 45,
   "id": "governing-compound",
   "metadata": {},
   "outputs": [
    {
     "data": {
      "text/plain": [
       "633"
      ]
     },
     "execution_count": 45,
     "metadata": {},
     "output_type": "execute_result"
    }
   ],
   "source": [
    "df_all_mri_imageidna_drop.RID.nunique()"
   ]
  },
  {
   "cell_type": "code",
   "execution_count": 29,
   "id": "honest-highlight",
   "metadata": {},
   "outputs": [
    {
     "data": {
      "text/plain": [
       "3    453\n",
       "2     45\n",
       "1      9\n",
       "Name: RID, dtype: int64"
      ]
     },
     "execution_count": 29,
     "metadata": {},
     "output_type": "execute_result"
    }
   ],
   "source": [
    "df_all_mri_imageidna_drop[df_all_mri_imageidna_drop['FollowupYear']==3].RID.value_counts().value_counts()"
   ]
  },
  {
   "cell_type": "code",
   "execution_count": 30,
   "id": "dominican-original",
   "metadata": {},
   "outputs": [
    {
     "data": {
      "text/plain": [
       "3    422\n",
       "2     34\n",
       "1      7\n",
       "Name: RID, dtype: int64"
      ]
     },
     "execution_count": 30,
     "metadata": {},
     "output_type": "execute_result"
    }
   ],
   "source": [
    "df_all_mri_imageidna_drop[df_all_mri_imageidna_drop['FollowupYear']==4].RID.value_counts().value_counts()"
   ]
  },
  {
   "cell_type": "code",
   "execution_count": 31,
   "id": "gross-bumper",
   "metadata": {},
   "outputs": [
    {
     "data": {
      "text/plain": [
       "3    255\n",
       "2     22\n",
       "1      5\n",
       "Name: RID, dtype: int64"
      ]
     },
     "execution_count": 31,
     "metadata": {},
     "output_type": "execute_result"
    }
   ],
   "source": [
    "df_all_mri_imageidna_drop[df_all_mri_imageidna_drop['FollowupYear']==5].RID.value_counts().value_counts()"
   ]
  },
  {
   "cell_type": "code",
   "execution_count": 32,
   "id": "basic-classics",
   "metadata": {},
   "outputs": [],
   "source": [
    "visit_count_3_rid_list_final=pd.DataFrame(visit_count_3_rid_list).drop_duplicates()[0].tolist()"
   ]
  },
  {
   "cell_type": "code",
   "execution_count": 33,
   "id": "frozen-morgan",
   "metadata": {},
   "outputs": [
    {
     "data": {
      "text/plain": [
       "(3390, 32)"
      ]
     },
     "execution_count": 33,
     "metadata": {},
     "output_type": "execute_result"
    }
   ],
   "source": [
    "df_all_mri_imageidna_drop_all3visits=df_all_mri_imageidna_drop[df_all_mri_imageidna_drop['RID'].isin(visit_count_3_rid_list_final)].sort_values(by=['FollowupYear','RID','Yr_visit'])\n",
    "df_all_mri_imageidna_drop_all3visits.shape"
   ]
  },
  {
   "cell_type": "code",
   "execution_count": 35,
   "id": "formal-pattern",
   "metadata": {},
   "outputs": [
    {
     "data": {
      "text/plain": [
       " 1.0    2260\n",
       "-2.0    1129\n",
       "Name: Yr_visit, dtype: int64"
      ]
     },
     "execution_count": 35,
     "metadata": {},
     "output_type": "execute_result"
    }
   ],
   "source": [
    "df_all_mri_imageidna_drop_all3visits['Yr_visit'].diff().value_counts()"
   ]
  },
  {
   "cell_type": "code",
   "execution_count": 36,
   "id": "agricultural-violence",
   "metadata": {},
   "outputs": [
    {
     "data": {
      "text/plain": [
       "3387"
      ]
     },
     "execution_count": 36,
     "metadata": {},
     "output_type": "execute_result"
    }
   ],
   "source": [
    "1129*3"
   ]
  },
  {
   "cell_type": "code",
   "execution_count": 42,
   "id": "effective-regard",
   "metadata": {},
   "outputs": [
    {
     "data": {
      "text/plain": [
       "(3390, 32)"
      ]
     },
     "execution_count": 42,
     "metadata": {},
     "output_type": "execute_result"
    }
   ],
   "source": [
    "df_all_mri_imageidna_drop_all3visits.shape"
   ]
  },
  {
   "cell_type": "code",
   "execution_count": null,
   "id": "initial-wages",
   "metadata": {},
   "outputs": [],
   "source": [
    "'RightTemporalPole', 'RightParahippocampal'"
   ]
  },
  {
   "cell_type": "code",
   "execution_count": 46,
   "id": "weighted-belarus",
   "metadata": {},
   "outputs": [
    {
     "data": {
      "text/html": [
       "<div>\n",
       "<style scoped>\n",
       "    .dataframe tbody tr th:only-of-type {\n",
       "        vertical-align: middle;\n",
       "    }\n",
       "\n",
       "    .dataframe tbody tr th {\n",
       "        vertical-align: top;\n",
       "    }\n",
       "\n",
       "    .dataframe thead th {\n",
       "        text-align: right;\n",
       "    }\n",
       "</style>\n",
       "<table border=\"1\" class=\"dataframe\">\n",
       "  <thead>\n",
       "    <tr style=\"text-align: right;\">\n",
       "      <th></th>\n",
       "      <th>RightAmygdala</th>\n",
       "      <th>RightParahippocampal</th>\n",
       "    </tr>\n",
       "  </thead>\n",
       "  <tbody>\n",
       "    <tr>\n",
       "      <th>RightAmygdala</th>\n",
       "      <td>1.000000</td>\n",
       "      <td>0.502297</td>\n",
       "    </tr>\n",
       "    <tr>\n",
       "      <th>RightParahippocampal</th>\n",
       "      <td>0.502297</td>\n",
       "      <td>1.000000</td>\n",
       "    </tr>\n",
       "  </tbody>\n",
       "</table>\n",
       "</div>"
      ],
      "text/plain": [
       "                      RightAmygdala  RightParahippocampal\n",
       "RightAmygdala              1.000000              0.502297\n",
       "RightParahippocampal       0.502297              1.000000"
      ]
     },
     "execution_count": 46,
     "metadata": {},
     "output_type": "execute_result"
    }
   ],
   "source": [
    "df_all_mri[['RightAmygdala','RightParahippocampal']].corr()"
   ]
  },
  {
   "cell_type": "code",
   "execution_count": 49,
   "id": "fancy-company",
   "metadata": {},
   "outputs": [
    {
     "data": {
      "text/html": [
       "<div>\n",
       "<style scoped>\n",
       "    .dataframe tbody tr th:only-of-type {\n",
       "        vertical-align: middle;\n",
       "    }\n",
       "\n",
       "    .dataframe tbody tr th {\n",
       "        vertical-align: top;\n",
       "    }\n",
       "\n",
       "    .dataframe thead th {\n",
       "        text-align: right;\n",
       "    }\n",
       "</style>\n",
       "<table border=\"1\" class=\"dataframe\">\n",
       "  <thead>\n",
       "    <tr style=\"text-align: right;\">\n",
       "      <th></th>\n",
       "      <th>RightAmygdala</th>\n",
       "      <th>RightParahippocampal</th>\n",
       "    </tr>\n",
       "  </thead>\n",
       "  <tbody>\n",
       "    <tr>\n",
       "      <th>RightAmygdala</th>\n",
       "      <td>1.000000</td>\n",
       "      <td>0.501675</td>\n",
       "    </tr>\n",
       "    <tr>\n",
       "      <th>RightParahippocampal</th>\n",
       "      <td>0.501675</td>\n",
       "      <td>1.000000</td>\n",
       "    </tr>\n",
       "  </tbody>\n",
       "</table>\n",
       "</div>"
      ],
      "text/plain": [
       "                      RightAmygdala  RightParahippocampal\n",
       "RightAmygdala              1.000000              0.501675\n",
       "RightParahippocampal       0.501675              1.000000"
      ]
     },
     "execution_count": 49,
     "metadata": {},
     "output_type": "execute_result"
    }
   ],
   "source": [
    "df_all_mri_imageidna_drop_all3visits[['RightAmygdala','RightParahippocampal']].corr()"
   ]
  },
  {
   "cell_type": "code",
   "execution_count": 47,
   "id": "artistic-continent",
   "metadata": {},
   "outputs": [
    {
     "data": {
      "text/plain": [
       "[<matplotlib.lines.Line2D at 0x5802e80>]"
      ]
     },
     "execution_count": 47,
     "metadata": {},
     "output_type": "execute_result"
    },
    {
     "data": {
      "image/png": "[encoded data removed]",
      "text/plain": [
       "<Figure size 432x288 with 1 Axes>"
      ]
     },
     "metadata": {
      "needs_background": "light"
     },
     "output_type": "display_data"
    }
   ],
   "source": [
    "plt.plot(df_all_mri['RightAmygdala'],df_all_mri['RightParahippocampal'],'*')"
   ]
  },
  {
   "cell_type": "code",
   "execution_count": 48,
   "id": "concerned-render",
   "metadata": {},
   "outputs": [
    {
     "data": {
      "text/plain": [
       "[<matplotlib.lines.Line2D at 0x5864670>]"
      ]
     },
     "execution_count": 48,
     "metadata": {},
     "output_type": "execute_result"
    },
    {
     "data": {
      "image/png": "[encoded data removed]",
      "text/plain": [
       "<Figure size 432x288 with 1 Axes>"
      ]
     },
     "metadata": {
      "needs_background": "light"
     },
     "output_type": "display_data"
    }
   ],
   "source": [
    "plt.plot(df_all_mri_imageidna_drop_all3visits['RightAmygdala'],df_all_mri_imageidna_drop_all3visits['RightParahippocampal'],'*')"
   ]
  },
  {
   "cell_type": "code",
   "execution_count": 41,
   "id": "frank-shirt",
   "metadata": {},
   "outputs": [
    {
     "data": {
      "text/plain": [
       "(378, 126.0)"
      ]
     },
     "execution_count": 41,
     "metadata": {},
     "output_type": "execute_result"
    }
   ],
   "source": [
    "3768-3390,378/3"
   ]
  },
  {
   "cell_type": "code",
   "execution_count": 61,
   "id": "detected-oxide",
   "metadata": {},
   "outputs": [
    {
     "data": {
      "text/plain": [
       "562"
      ]
     },
     "execution_count": 61,
     "metadata": {},
     "output_type": "execute_result"
    }
   ],
   "source": [
    "df_all_mri_imageidna_drop_all3visits.RID.nunique()"
   ]
  },
  {
   "cell_type": "code",
   "execution_count": 79,
   "id": "spatial-detroit",
   "metadata": {},
   "outputs": [
    {
     "data": {
      "text/plain": [
       "Index(['RightTemporalPole', 'RightParahippocampal', 'RightInferiorTemporal',\n",
       "       'RightInferiorParietal', 'RightIsthmusCingulate', 'RightBankssts',\n",
       "       'RightPrecuneus', 'RightAmygdala', 'RightAccumbensArea',\n",
       "       'RightMedialOrbitofrontal', 'RightPallidum', 'RightCaudalMiddleFrontal',\n",
       "       'RightPutamen', 'RightRostralAnteriorCingulate', 'RightParacentral',\n",
       "       'RightPrecentral', 'RightLingual', 'RID', 'Yr_visit', 'Ventricles',\n",
       "       'Hippocampus', 'WholeBrain', 'Entorhinal', 'Fusiform', 'MidTemp', 'ICV',\n",
       "       'DX'],\n",
       "      dtype='object')"
      ]
     },
     "execution_count": 79,
     "metadata": {},
     "output_type": "execute_result"
    }
   ],
   "source": [
    "df_all_mri_imageidna_drop_all3visits.columns[2:-3]"
   ]
  },
  {
   "cell_type": "code",
   "execution_count": 82,
   "id": "invalid-biotechnology",
   "metadata": {},
   "outputs": [
    {
     "data": {
      "text/plain": [
       "((1686, 27), 562)"
      ]
     },
     "execution_count": 82,
     "metadata": {},
     "output_type": "execute_result"
    }
   ],
   "source": [
    "df_all_mri_RID_unique_plos=df_all_mri_imageidna_drop_all3visits[df_all_mri_imageidna_drop_all3visits.columns[2:-3]].drop_duplicates()\n",
    "df_all_mri_RID_unique_plos.shape,df_all_mri_RID_unique_plos.RID.nunique()"
   ]
  },
  {
   "cell_type": "code",
   "execution_count": 83,
   "id": "geographic-awareness",
   "metadata": {},
   "outputs": [],
   "source": [
    "df_pivot_followupyr_dx=pd.pivot(data=df_all_mri_imageidna_drop_all3visits[['RID','FollowupYear','FollowupDX']].drop_duplicates(),index='RID',columns='FollowupYear',values='FollowupDX')"
   ]
  },
  {
   "cell_type": "code",
   "execution_count": 85,
   "id": "polish-subscriber",
   "metadata": {},
   "outputs": [
    {
     "data": {
      "text/plain": [
       "(1686, 30)"
      ]
     },
     "execution_count": 85,
     "metadata": {},
     "output_type": "execute_result"
    }
   ],
   "source": [
    "df_all_mri_RID_unique_plos_fyr345=df_all_mri_RID_unique_plos.merge(df_pivot_followupyr_dx,on='RID')\n",
    "df_all_mri_RID_unique_plos_fyr345.shape"
   ]
  },
  {
   "cell_type": "code",
   "execution_count": 70,
   "id": "exclusive-sweden",
   "metadata": {},
   "outputs": [
    {
     "data": {
      "text/plain": [
       "1686"
      ]
     },
     "execution_count": 70,
     "metadata": {},
     "output_type": "execute_result"
    }
   ],
   "source": [
    "562*3"
   ]
  },
  {
   "cell_type": "code",
   "execution_count": 88,
   "id": "entertaining-mount",
   "metadata": {},
   "outputs": [],
   "source": [
    "df_all_mri_RID_unique_plos_fyr345.rename(columns={3:'FYR3DX',4:'FYR4DX',5:'FYR5DX'},inplace=True)"
   ]
  },
  {
   "cell_type": "code",
   "execution_count": 34,
   "id": "genetic-demand",
   "metadata": {},
   "outputs": [],
   "source": [
    "# df_all_mri.to_csv('step5_modified_all_mri_alz_future_prediction_plos.csv',index=False)\n",
    "\n",
    "# df_all_mri_imageidna_drop_all3visits.to_csv('step5_modified_all_mri_imageidna_drop_alz_future_prediction_plos.csv',index=False)"
   ]
  },
  {
   "cell_type": "code",
   "execution_count": 89,
   "id": "inappropriate-gasoline",
   "metadata": {},
   "outputs": [],
   "source": [
    "# df_all_mri_RID_unique_plos_fyr345.to_csv('df_all_mri_RID_unique_plos_fyr345.csv',index=False)"
   ]
  },
  {
   "cell_type": "code",
   "execution_count": null,
   "id": "casual-stamp",
   "metadata": {},
   "outputs": [],
   "source": []
  }
 ],
 "metadata": {
  "kernelspec": {
   "display_name": "Python 3",
   "language": "python",
   "name": "python3"
  },
  "language_info": {
   "codemirror_mode": {
    "name": "ipython",
    "version": 3
   },
   "file_extension": ".py",
   "mimetype": "text/x-python",
   "name": "python",
   "nbconvert_exporter": "python",
   "pygments_lexer": "ipython3",
   "version": "3.8.8"
  }
 },
 "nbformat": 4,
 "nbformat_minor": 5
}
