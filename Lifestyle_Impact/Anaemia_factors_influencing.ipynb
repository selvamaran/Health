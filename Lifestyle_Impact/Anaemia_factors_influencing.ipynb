{
 "cells": [
  {
   "cell_type": "code",
   "execution_count": 1,
   "id": "african-character",
   "metadata": {},
   "outputs": [],
   "source": [
    "import xport\n",
    "import numpy as np\n",
    "import pandas as pd\n",
    "import os\n",
    "\n",
    "import matplotlib.pyplot as plt\n",
    "import seaborn as sns\n",
    "%matplotlib inline"
   ]
  },
  {
   "cell_type": "code",
   "execution_count": 2,
   "id": "silver-flower",
   "metadata": {},
   "outputs": [],
   "source": [
    "file_loc = '../nhanes_data_files/'\n",
    "df_CBC_J = pd.read_sas(file_loc +'CBC_J_2017_2018.xpt')\n",
    "df_FOLATE_J = pd.read_sas(file_loc +'FOLATE_J_2017_2018.xpt')\n",
    "df_FERTIN_J = pd.read_sas(file_loc +'FERTIN_J_2017_2018.xpt')\n",
    "df_FETIB_J = pd.read_sas(file_loc +'FETIB_J_2017_2018.xpt')\n",
    "df_FOLFMS_J = pd.read_sas(file_loc +'FOLFMS_J_2017_2018.xpt')\n",
    "df_BIOPRO_J = pd.read_sas(file_loc +'BIOPRO_J_2017_2018.xpt')\n",
    "df_BPX_J = pd.read_sas(file_loc +'BPX_J_2017_2018.xpt')\n",
    "# FOLFMS_J_2017_2018.XPT\n",
    "# FETIB_J_2017_2018.XPT\n",
    "# FERTIN_J_2017_2018\n",
    "# FOLATE_J_2017_2018"
   ]
  },
  {
   "cell_type": "code",
   "execution_count": 3,
   "id": "wooden-evanescence",
   "metadata": {},
   "outputs": [],
   "source": [
    "df_RXQ_RX_J = pd.read_sas(file_loc +'RXQ_RX_J_2017_2018.xpt')"
   ]
  },
  {
   "cell_type": "code",
   "execution_count": null,
   "id": "identified-benjamin",
   "metadata": {},
   "outputs": [],
   "source": []
  },
  {
   "cell_type": "code",
   "execution_count": 4,
   "id": "wicked-method",
   "metadata": {},
   "outputs": [
    {
     "data": {
      "text/plain": [
       "Index(['SEQN', 'LBXWBCSI', 'LBXLYPCT', 'LBXMOPCT', 'LBXNEPCT', 'LBXEOPCT',\n",
       "       'LBXBAPCT', 'LBDLYMNO', 'LBDMONO', 'LBDNENO', 'LBDEONO', 'LBDBANO',\n",
       "       'LBXRBCSI', 'LBXHGB', 'LBXHCT', 'LBXMCVSI', 'LBXMCHSI', 'LBXMC',\n",
       "       'LBXRDW', 'LBXPLTSI', 'LBXMPSI', 'LBXNRBC'],\n",
       "      dtype='object')"
      ]
     },
     "execution_count": 4,
     "metadata": {},
     "output_type": "execute_result"
    }
   ],
   "source": [
    "df_CBC_J.columns"
   ]
  },
  {
   "cell_type": "code",
   "execution_count": 5,
   "id": "varied-harvey",
   "metadata": {},
   "outputs": [
    {
     "data": {
      "text/plain": [
       "Index(['SEQN', 'WTFOL2YR', 'LBDRFO', 'LBDRFOSI'], dtype='object')"
      ]
     },
     "execution_count": 5,
     "metadata": {},
     "output_type": "execute_result"
    }
   ],
   "source": [
    "df_FOLATE_J.columns"
   ]
  },
  {
   "cell_type": "code",
   "execution_count": 6,
   "id": "informational-parish",
   "metadata": {},
   "outputs": [
    {
     "data": {
      "text/plain": [
       "Index(['SEQN', 'LBXFER', 'LBDFERSI'], dtype='object')"
      ]
     },
     "execution_count": 6,
     "metadata": {},
     "output_type": "execute_result"
    }
   ],
   "source": [
    "df_FERTIN_J.columns"
   ]
  },
  {
   "cell_type": "code",
   "execution_count": 7,
   "id": "preliminary-municipality",
   "metadata": {},
   "outputs": [
    {
     "data": {
      "text/plain": [
       "Index(['SEQN', 'LBXIRN', 'LBDIRNSI', 'LBXUIB', 'LBDUIBLC', 'LBDUIBSI',\n",
       "       'LBDTIB', 'LBDTIBSI', 'LBDPCT'],\n",
       "      dtype='object')"
      ]
     },
     "execution_count": 7,
     "metadata": {},
     "output_type": "execute_result"
    }
   ],
   "source": [
    "df_FETIB_J.columns"
   ]
  },
  {
   "cell_type": "code",
   "execution_count": 8,
   "id": "critical-trash",
   "metadata": {},
   "outputs": [
    {
     "data": {
      "text/plain": [
       "Index(['SEQN', 'WTFOL2YR', 'LBDFOTSI', 'LBDFOT', 'LBXSF1SI', 'LBDSF1LC',\n",
       "       'LBXSF2SI', 'LBDSF2LC', 'LBXSF3SI', 'LBDSF3LC', 'LBXSF4SI', 'LBDSF4LC',\n",
       "       'LBXSF5SI', 'LBDSF5LC', 'LBXSF6SI', 'LBDSF6LC'],\n",
       "      dtype='object')"
      ]
     },
     "execution_count": 8,
     "metadata": {},
     "output_type": "execute_result"
    }
   ],
   "source": [
    "df_FOLFMS_J.columns"
   ]
  },
  {
   "cell_type": "code",
   "execution_count": 9,
   "id": "affiliated-cooling",
   "metadata": {},
   "outputs": [
    {
     "data": {
      "text/plain": [
       "Index(['SEQN', 'LBXSATSI', 'LBDSATLC', 'LBXSAL', 'LBDSALSI', 'LBXSAPSI',\n",
       "       'LBXSASSI', 'LBXSC3SI', 'LBXSBU', 'LBDSBUSI', 'LBXSCLSI', 'LBXSCK',\n",
       "       'LBXSCR', 'LBDSCRSI', 'LBXSGB', 'LBDSGBSI', 'LBXSGL', 'LBDSGLSI',\n",
       "       'LBXSGTSI', 'LBDSGTLC', 'LBXSIR', 'LBDSIRSI', 'LBXSLDSI', 'LBXSOSSI',\n",
       "       'LBXSPH', 'LBDSPHSI', 'LBXSKSI', 'LBXSNASI', 'LBXSTB', 'LBDSTBSI',\n",
       "       'LBDSTBLC', 'LBXSCA', 'LBDSCASI', 'LBXSCH', 'LBDSCHSI', 'LBXSTP',\n",
       "       'LBDSTPSI', 'LBXSTR', 'LBDSTRSI', 'LBXSUA', 'LBDSUASI'],\n",
       "      dtype='object')"
      ]
     },
     "execution_count": 9,
     "metadata": {},
     "output_type": "execute_result"
    }
   ],
   "source": [
    "df_BIOPRO_J.columns"
   ]
  },
  {
   "cell_type": "code",
   "execution_count": 10,
   "id": "together-oriental",
   "metadata": {},
   "outputs": [
    {
     "data": {
      "text/plain": [
       "Index(['SEQN', 'PEASCCT1', 'BPXCHR', 'BPAARM', 'BPACSZ', 'BPXPLS', 'BPXPULS',\n",
       "       'BPXPTY', 'BPXML1', 'BPXSY1', 'BPXDI1', 'BPAEN1', 'BPXSY2', 'BPXDI2',\n",
       "       'BPAEN2', 'BPXSY3', 'BPXDI3', 'BPAEN3', 'BPXSY4', 'BPXDI4', 'BPAEN4'],\n",
       "      dtype='object')"
      ]
     },
     "execution_count": 10,
     "metadata": {},
     "output_type": "execute_result"
    }
   ],
   "source": [
    "df_BPX_J.columns"
   ]
  },
  {
   "cell_type": "code",
   "execution_count": 11,
   "id": "committed-leave",
   "metadata": {},
   "outputs": [
    {
     "data": {
      "text/html": [
       "<div>\n",
       "<style scoped>\n",
       "    .dataframe tbody tr th:only-of-type {\n",
       "        vertical-align: middle;\n",
       "    }\n",
       "\n",
       "    .dataframe tbody tr th {\n",
       "        vertical-align: top;\n",
       "    }\n",
       "\n",
       "    .dataframe thead th {\n",
       "        text-align: right;\n",
       "    }\n",
       "</style>\n",
       "<table border=\"1\" class=\"dataframe\">\n",
       "  <thead>\n",
       "    <tr style=\"text-align: right;\">\n",
       "      <th></th>\n",
       "    </tr>\n",
       "  </thead>\n",
       "  <tbody>\n",
       "    <tr>\n",
       "      <th>0</th>\n",
       "    </tr>\n",
       "    <tr>\n",
       "      <th>1</th>\n",
       "    </tr>\n",
       "    <tr>\n",
       "      <th>2</th>\n",
       "    </tr>\n",
       "    <tr>\n",
       "      <th>3</th>\n",
       "    </tr>\n",
       "    <tr>\n",
       "      <th>4</th>\n",
       "    </tr>\n",
       "  </tbody>\n",
       "</table>\n",
       "</div>"
      ],
      "text/plain": [
       "Empty DataFrame\n",
       "Columns: []\n",
       "Index: [0, 1, 2, 3, 4]"
      ]
     },
     "execution_count": 11,
     "metadata": {},
     "output_type": "execute_result"
    }
   ],
   "source": [
    "df_BPX_J[[]].head()"
   ]
  },
  {
   "cell_type": "code",
   "execution_count": 33,
   "id": "legislative-spell",
   "metadata": {},
   "outputs": [],
   "source": [
    "df_merge_J=df_CBC_J[['SEQN','LBXHGB','LBXRDW','LBXMCVSI', 'LBXMCHSI', 'LBXMC']].merge(df_FOLATE_J[['SEQN','LBDRFOSI']]).merge(df_FERTIN_J[['SEQN','LBDFERSI']]).merge(df_FETIB_J[['SEQN','LBXIRN','LBXUIB','LBDTIB', 'LBDPCT']]).merge(df_FOLFMS_J[['SEQN', 'LBDFOT', 'LBXSF1SI', 'LBXSF2SI',  'LBXSF3SI',  'LBXSF4SI','LBXSF5SI', 'LBXSF6SI'] ]).merge(df_BIOPRO_J[['SEQN','LBXSAL']]).merge(df_BPX_J[['SEQN','BPXPLS','BPXSY2','BPXDI2']])"
   ]
  },
  {
   "cell_type": "code",
   "execution_count": 34,
   "id": "scientific-softball",
   "metadata": {},
   "outputs": [
    {
     "data": {
      "text/html": [
       "<div>\n",
       "<style scoped>\n",
       "    .dataframe tbody tr th:only-of-type {\n",
       "        vertical-align: middle;\n",
       "    }\n",
       "\n",
       "    .dataframe tbody tr th {\n",
       "        vertical-align: top;\n",
       "    }\n",
       "\n",
       "    .dataframe thead th {\n",
       "        text-align: right;\n",
       "    }\n",
       "</style>\n",
       "<table border=\"1\" class=\"dataframe\">\n",
       "  <thead>\n",
       "    <tr style=\"text-align: right;\">\n",
       "      <th></th>\n",
       "      <th>SEQN</th>\n",
       "      <th>LBXHGB</th>\n",
       "      <th>LBXRDW</th>\n",
       "      <th>LBXMCVSI</th>\n",
       "      <th>LBXMCHSI</th>\n",
       "      <th>LBXMC</th>\n",
       "      <th>LBDRFOSI</th>\n",
       "      <th>LBDFERSI</th>\n",
       "      <th>LBXIRN</th>\n",
       "      <th>LBXUIB</th>\n",
       "      <th>...</th>\n",
       "      <th>LBXSF1SI</th>\n",
       "      <th>LBXSF2SI</th>\n",
       "      <th>LBXSF3SI</th>\n",
       "      <th>LBXSF4SI</th>\n",
       "      <th>LBXSF5SI</th>\n",
       "      <th>LBXSF6SI</th>\n",
       "      <th>LBXSAL</th>\n",
       "      <th>BPXPLS</th>\n",
       "      <th>BPXSY2</th>\n",
       "      <th>BPXDI2</th>\n",
       "    </tr>\n",
       "  </thead>\n",
       "  <tbody>\n",
       "    <tr>\n",
       "      <th>0</th>\n",
       "      <td>93706.0</td>\n",
       "      <td>16.3</td>\n",
       "      <td>12.2</td>\n",
       "      <td>89.7</td>\n",
       "      <td>31.1</td>\n",
       "      <td>34.7</td>\n",
       "      <td>712.0</td>\n",
       "      <td>284.0</td>\n",
       "      <td>164.0</td>\n",
       "      <td>155.0</td>\n",
       "      <td>...</td>\n",
       "      <td>38.8</td>\n",
       "      <td>0.400</td>\n",
       "      <td>0.141</td>\n",
       "      <td>0.417</td>\n",
       "      <td>0.141</td>\n",
       "      <td>0.831</td>\n",
       "      <td>4.4</td>\n",
       "      <td>82.0</td>\n",
       "      <td>114.0</td>\n",
       "      <td>70.0</td>\n",
       "    </tr>\n",
       "    <tr>\n",
       "      <th>1</th>\n",
       "      <td>93707.0</td>\n",
       "      <td>14.5</td>\n",
       "      <td>13.6</td>\n",
       "      <td>83.9</td>\n",
       "      <td>28.9</td>\n",
       "      <td>34.4</td>\n",
       "      <td>1440.0</td>\n",
       "      <td>49.3</td>\n",
       "      <td>91.0</td>\n",
       "      <td>340.0</td>\n",
       "      <td>...</td>\n",
       "      <td>40.2</td>\n",
       "      <td>0.511</td>\n",
       "      <td>0.141</td>\n",
       "      <td>0.307</td>\n",
       "      <td>0.141</td>\n",
       "      <td>3.620</td>\n",
       "      <td>5.2</td>\n",
       "      <td>100.0</td>\n",
       "      <td>128.0</td>\n",
       "      <td>46.0</td>\n",
       "    </tr>\n",
       "    <tr>\n",
       "      <th>2</th>\n",
       "      <td>93708.0</td>\n",
       "      <td>13.2</td>\n",
       "      <td>13.4</td>\n",
       "      <td>86.8</td>\n",
       "      <td>28.8</td>\n",
       "      <td>33.1</td>\n",
       "      <td>1110.0</td>\n",
       "      <td>109.0</td>\n",
       "      <td>90.0</td>\n",
       "      <td>195.0</td>\n",
       "      <td>...</td>\n",
       "      <td>87.8</td>\n",
       "      <td>1.360</td>\n",
       "      <td>0.141</td>\n",
       "      <td>1.880</td>\n",
       "      <td>0.312</td>\n",
       "      <td>1.220</td>\n",
       "      <td>3.9</td>\n",
       "      <td>68.0</td>\n",
       "      <td>138.0</td>\n",
       "      <td>78.0</td>\n",
       "    </tr>\n",
       "  </tbody>\n",
       "</table>\n",
       "<p>3 rows × 23 columns</p>\n",
       "</div>"
      ],
      "text/plain": [
       "      SEQN  LBXHGB  LBXRDW  LBXMCVSI  LBXMCHSI  LBXMC  LBDRFOSI  LBDFERSI  \\\n",
       "0  93706.0    16.3    12.2      89.7      31.1   34.7     712.0     284.0   \n",
       "1  93707.0    14.5    13.6      83.9      28.9   34.4    1440.0      49.3   \n",
       "2  93708.0    13.2    13.4      86.8      28.8   33.1    1110.0     109.0   \n",
       "\n",
       "   LBXIRN  LBXUIB  ...  LBXSF1SI  LBXSF2SI  LBXSF3SI  LBXSF4SI  LBXSF5SI  \\\n",
       "0   164.0   155.0  ...      38.8     0.400     0.141     0.417     0.141   \n",
       "1    91.0   340.0  ...      40.2     0.511     0.141     0.307     0.141   \n",
       "2    90.0   195.0  ...      87.8     1.360     0.141     1.880     0.312   \n",
       "\n",
       "   LBXSF6SI  LBXSAL  BPXPLS  BPXSY2  BPXDI2  \n",
       "0     0.831     4.4    82.0   114.0    70.0  \n",
       "1     3.620     5.2   100.0   128.0    46.0  \n",
       "2     1.220     3.9    68.0   138.0    78.0  \n",
       "\n",
       "[3 rows x 23 columns]"
      ]
     },
     "execution_count": 34,
     "metadata": {},
     "output_type": "execute_result"
    }
   ],
   "source": [
    "df_merge_J.head(3)"
   ]
  },
  {
   "cell_type": "code",
   "execution_count": 35,
   "id": "desirable-alabama",
   "metadata": {},
   "outputs": [
    {
     "data": {
      "text/plain": [
       "count    3814.000000\n",
       "mean       51.064499\n",
       "std        17.491567\n",
       "min        16.000000\n",
       "25%        40.000000\n",
       "50%        48.000000\n",
       "75%        58.000000\n",
       "max       174.000000\n",
       "Name: BPXPP, dtype: float64"
      ]
     },
     "execution_count": 35,
     "metadata": {},
     "output_type": "execute_result"
    }
   ],
   "source": [
    "df_merge_J['BPXPP']=df_merge_J['BPXSY2']-df_merge_J['BPXDI2']\n",
    "df_merge_J['BPXPP'].describe()"
   ]
  },
  {
   "cell_type": "code",
   "execution_count": 15,
   "id": "hollow-kitchen",
   "metadata": {},
   "outputs": [
    {
     "data": {
      "text/plain": [
       "<AxesSubplot:>"
      ]
     },
     "execution_count": 15,
     "metadata": {},
     "output_type": "execute_result"
    },
    {
     "data": {
      "image/png": "[encoded data removed]",
      "text/plain": [
       "<Figure size 432x288 with 1 Axes>"
      ]
     },
     "metadata": {
      "needs_background": "light"
     },
     "output_type": "display_data"
    }
   ],
   "source": [
    "df_merge_J['BPXPP'].hist(bins=40)"
   ]
  },
  {
   "cell_type": "code",
   "execution_count": 16,
   "id": "phantom-integral",
   "metadata": {},
   "outputs": [
    {
     "data": {
      "text/plain": [
       "<bound method hist_series of 0       44.0\n",
       "1       82.0\n",
       "2       60.0\n",
       "3       52.0\n",
       "4       26.0\n",
       "        ... \n",
       "4095    20.0\n",
       "4096    42.0\n",
       "4097    46.0\n",
       "4098    54.0\n",
       "4099    54.0\n",
       "Name: BPXPP, Length: 4100, dtype: float64>"
      ]
     },
     "execution_count": 16,
     "metadata": {},
     "output_type": "execute_result"
    }
   ],
   "source": [
    "df_merge_J['BPXPP'].hist"
   ]
  },
  {
   "cell_type": "code",
   "execution_count": 36,
   "id": "earlier-kennedy",
   "metadata": {},
   "outputs": [
    {
     "data": {
      "text/html": [
       "<div>\n",
       "<style scoped>\n",
       "    .dataframe tbody tr th:only-of-type {\n",
       "        vertical-align: middle;\n",
       "    }\n",
       "\n",
       "    .dataframe tbody tr th {\n",
       "        vertical-align: top;\n",
       "    }\n",
       "\n",
       "    .dataframe thead th {\n",
       "        text-align: right;\n",
       "    }\n",
       "</style>\n",
       "<table border=\"1\" class=\"dataframe\">\n",
       "  <thead>\n",
       "    <tr style=\"text-align: right;\">\n",
       "      <th></th>\n",
       "      <th>LBDFERSI</th>\n",
       "      <th>LBXIRN</th>\n",
       "      <th>LBXUIB</th>\n",
       "      <th>LBDTIB</th>\n",
       "      <th>LBDPCT</th>\n",
       "      <th>LBDRFOSI</th>\n",
       "      <th>LBDFOT</th>\n",
       "      <th>LBXSAL</th>\n",
       "      <th>BPXPLS</th>\n",
       "      <th>BPXSY2</th>\n",
       "      <th>BPXDI2</th>\n",
       "      <th>BPXPP</th>\n",
       "      <th>LBXHGB</th>\n",
       "      <th>LBXRDW</th>\n",
       "      <th>LBXMCVSI</th>\n",
       "      <th>LBXMCHSI</th>\n",
       "      <th>LBXMC</th>\n",
       "    </tr>\n",
       "  </thead>\n",
       "  <tbody>\n",
       "    <tr>\n",
       "      <th>LBDFERSI</th>\n",
       "      <td>1.000000</td>\n",
       "      <td>0.224434</td>\n",
       "      <td>-0.420069</td>\n",
       "      <td>-0.385327</td>\n",
       "      <td>0.340006</td>\n",
       "      <td>0.088851</td>\n",
       "      <td>0.011527</td>\n",
       "      <td>0.021880</td>\n",
       "      <td>-0.053485</td>\n",
       "      <td>0.233516</td>\n",
       "      <td>0.136889</td>\n",
       "      <td>0.154855</td>\n",
       "      <td>0.242783</td>\n",
       "      <td>-0.087037</td>\n",
       "      <td>0.208751</td>\n",
       "      <td>0.214380</td>\n",
       "      <td>0.136088</td>\n",
       "    </tr>\n",
       "    <tr>\n",
       "      <th>LBXIRN</th>\n",
       "      <td>0.224434</td>\n",
       "      <td>1.000000</td>\n",
       "      <td>-0.612079</td>\n",
       "      <td>-0.094547</td>\n",
       "      <td>0.932547</td>\n",
       "      <td>-0.021504</td>\n",
       "      <td>0.094145</td>\n",
       "      <td>0.230620</td>\n",
       "      <td>-0.067022</td>\n",
       "      <td>0.009342</td>\n",
       "      <td>0.066435</td>\n",
       "      <td>-0.038709</td>\n",
       "      <td>0.425547</td>\n",
       "      <td>-0.351980</td>\n",
       "      <td>0.355408</td>\n",
       "      <td>0.386549</td>\n",
       "      <td>0.310667</td>\n",
       "    </tr>\n",
       "    <tr>\n",
       "      <th>LBXUIB</th>\n",
       "      <td>-0.420069</td>\n",
       "      <td>-0.612079</td>\n",
       "      <td>1.000000</td>\n",
       "      <td>0.849395</td>\n",
       "      <td>-0.813358</td>\n",
       "      <td>0.020227</td>\n",
       "      <td>-0.031002</td>\n",
       "      <td>-0.093669</td>\n",
       "      <td>0.187315</td>\n",
       "      <td>-0.111924</td>\n",
       "      <td>-0.104018</td>\n",
       "      <td>-0.046355</td>\n",
       "      <td>-0.417283</td>\n",
       "      <td>0.397089</td>\n",
       "      <td>-0.455538</td>\n",
       "      <td>-0.475590</td>\n",
       "      <td>-0.342235</td>\n",
       "    </tr>\n",
       "    <tr>\n",
       "      <th>LBDTIB</th>\n",
       "      <td>-0.385327</td>\n",
       "      <td>-0.094547</td>\n",
       "      <td>0.849395</td>\n",
       "      <td>1.000000</td>\n",
       "      <td>-0.399093</td>\n",
       "      <td>0.010618</td>\n",
       "      <td>0.024398</td>\n",
       "      <td>0.039087</td>\n",
       "      <td>0.190473</td>\n",
       "      <td>-0.135630</td>\n",
       "      <td>-0.086224</td>\n",
       "      <td>-0.085533</td>\n",
       "      <td>-0.236738</td>\n",
       "      <td>0.261347</td>\n",
       "      <td>-0.333193</td>\n",
       "      <td>-0.337395</td>\n",
       "      <td>-0.221010</td>\n",
       "    </tr>\n",
       "    <tr>\n",
       "      <th>LBDPCT</th>\n",
       "      <td>0.340006</td>\n",
       "      <td>0.932547</td>\n",
       "      <td>-0.813358</td>\n",
       "      <td>-0.399093</td>\n",
       "      <td>1.000000</td>\n",
       "      <td>-0.012710</td>\n",
       "      <td>0.077910</td>\n",
       "      <td>0.182330</td>\n",
       "      <td>-0.131526</td>\n",
       "      <td>0.059076</td>\n",
       "      <td>0.091636</td>\n",
       "      <td>-0.002590</td>\n",
       "      <td>0.437298</td>\n",
       "      <td>-0.366330</td>\n",
       "      <td>0.411586</td>\n",
       "      <td>0.437436</td>\n",
       "      <td>0.324348</td>\n",
       "    </tr>\n",
       "    <tr>\n",
       "      <th>LBDRFOSI</th>\n",
       "      <td>0.088851</td>\n",
       "      <td>-0.021504</td>\n",
       "      <td>0.020227</td>\n",
       "      <td>0.010618</td>\n",
       "      <td>-0.012710</td>\n",
       "      <td>1.000000</td>\n",
       "      <td>0.613817</td>\n",
       "      <td>-0.068419</td>\n",
       "      <td>0.009279</td>\n",
       "      <td>0.157581</td>\n",
       "      <td>0.014102</td>\n",
       "      <td>0.162897</td>\n",
       "      <td>-0.042778</td>\n",
       "      <td>0.047325</td>\n",
       "      <td>0.047114</td>\n",
       "      <td>0.056111</td>\n",
       "      <td>0.046932</td>\n",
       "    </tr>\n",
       "    <tr>\n",
       "      <th>LBDFOT</th>\n",
       "      <td>0.011527</td>\n",
       "      <td>0.094145</td>\n",
       "      <td>-0.031002</td>\n",
       "      <td>0.024398</td>\n",
       "      <td>0.077910</td>\n",
       "      <td>0.613817</td>\n",
       "      <td>1.000000</td>\n",
       "      <td>0.067896</td>\n",
       "      <td>0.008303</td>\n",
       "      <td>0.035874</td>\n",
       "      <td>-0.107120</td>\n",
       "      <td>0.118559</td>\n",
       "      <td>-0.018056</td>\n",
       "      <td>-0.052151</td>\n",
       "      <td>0.086810</td>\n",
       "      <td>0.085091</td>\n",
       "      <td>0.048606</td>\n",
       "    </tr>\n",
       "    <tr>\n",
       "      <th>LBXSAL</th>\n",
       "      <td>0.021880</td>\n",
       "      <td>0.230620</td>\n",
       "      <td>-0.093669</td>\n",
       "      <td>0.039087</td>\n",
       "      <td>0.182330</td>\n",
       "      <td>-0.068419</td>\n",
       "      <td>0.067896</td>\n",
       "      <td>1.000000</td>\n",
       "      <td>0.022447</td>\n",
       "      <td>-0.121086</td>\n",
       "      <td>-0.029102</td>\n",
       "      <td>-0.111612</td>\n",
       "      <td>0.366599</td>\n",
       "      <td>-0.283489</td>\n",
       "      <td>0.053429</td>\n",
       "      <td>0.114514</td>\n",
       "      <td>0.236556</td>\n",
       "    </tr>\n",
       "    <tr>\n",
       "      <th>BPXPLS</th>\n",
       "      <td>-0.053485</td>\n",
       "      <td>-0.067022</td>\n",
       "      <td>0.187315</td>\n",
       "      <td>0.190473</td>\n",
       "      <td>-0.131526</td>\n",
       "      <td>0.009279</td>\n",
       "      <td>0.008303</td>\n",
       "      <td>0.022447</td>\n",
       "      <td>1.000000</td>\n",
       "      <td>-0.131912</td>\n",
       "      <td>0.019848</td>\n",
       "      <td>-0.160967</td>\n",
       "      <td>-0.032800</td>\n",
       "      <td>0.046048</td>\n",
       "      <td>-0.127124</td>\n",
       "      <td>-0.111552</td>\n",
       "      <td>-0.022311</td>\n",
       "    </tr>\n",
       "    <tr>\n",
       "      <th>BPXSY2</th>\n",
       "      <td>0.233516</td>\n",
       "      <td>0.009342</td>\n",
       "      <td>-0.111924</td>\n",
       "      <td>-0.135630</td>\n",
       "      <td>0.059076</td>\n",
       "      <td>0.157581</td>\n",
       "      <td>0.035874</td>\n",
       "      <td>-0.121086</td>\n",
       "      <td>-0.131912</td>\n",
       "      <td>1.000000</td>\n",
       "      <td>0.474368</td>\n",
       "      <td>0.754161</td>\n",
       "      <td>0.070900</td>\n",
       "      <td>0.117552</td>\n",
       "      <td>0.083498</td>\n",
       "      <td>0.051325</td>\n",
       "      <td>-0.061170</td>\n",
       "    </tr>\n",
       "    <tr>\n",
       "      <th>BPXDI2</th>\n",
       "      <td>0.136889</td>\n",
       "      <td>0.066435</td>\n",
       "      <td>-0.104018</td>\n",
       "      <td>-0.086224</td>\n",
       "      <td>0.091636</td>\n",
       "      <td>0.014102</td>\n",
       "      <td>-0.107120</td>\n",
       "      <td>-0.029102</td>\n",
       "      <td>0.019848</td>\n",
       "      <td>0.474368</td>\n",
       "      <td>1.000000</td>\n",
       "      <td>-0.220351</td>\n",
       "      <td>0.192899</td>\n",
       "      <td>0.005977</td>\n",
       "      <td>0.055210</td>\n",
       "      <td>0.051181</td>\n",
       "      <td>0.019284</td>\n",
       "    </tr>\n",
       "    <tr>\n",
       "      <th>BPXPP</th>\n",
       "      <td>0.154855</td>\n",
       "      <td>-0.038709</td>\n",
       "      <td>-0.046355</td>\n",
       "      <td>-0.085533</td>\n",
       "      <td>-0.002590</td>\n",
       "      <td>0.162897</td>\n",
       "      <td>0.118559</td>\n",
       "      <td>-0.111612</td>\n",
       "      <td>-0.160967</td>\n",
       "      <td>0.754161</td>\n",
       "      <td>-0.220351</td>\n",
       "      <td>1.000000</td>\n",
       "      <td>-0.064688</td>\n",
       "      <td>0.124659</td>\n",
       "      <td>0.050887</td>\n",
       "      <td>0.018538</td>\n",
       "      <td>-0.081416</td>\n",
       "    </tr>\n",
       "    <tr>\n",
       "      <th>LBXHGB</th>\n",
       "      <td>0.242783</td>\n",
       "      <td>0.425547</td>\n",
       "      <td>-0.417283</td>\n",
       "      <td>-0.236738</td>\n",
       "      <td>0.437298</td>\n",
       "      <td>-0.042778</td>\n",
       "      <td>-0.018056</td>\n",
       "      <td>0.366599</td>\n",
       "      <td>-0.032800</td>\n",
       "      <td>0.070900</td>\n",
       "      <td>0.192899</td>\n",
       "      <td>-0.064688</td>\n",
       "      <td>1.000000</td>\n",
       "      <td>-0.499476</td>\n",
       "      <td>0.404555</td>\n",
       "      <td>0.491503</td>\n",
       "      <td>0.542765</td>\n",
       "    </tr>\n",
       "    <tr>\n",
       "      <th>LBXRDW</th>\n",
       "      <td>-0.087037</td>\n",
       "      <td>-0.351980</td>\n",
       "      <td>0.397089</td>\n",
       "      <td>0.261347</td>\n",
       "      <td>-0.366330</td>\n",
       "      <td>0.047325</td>\n",
       "      <td>-0.052151</td>\n",
       "      <td>-0.283489</td>\n",
       "      <td>0.046048</td>\n",
       "      <td>0.117552</td>\n",
       "      <td>0.005977</td>\n",
       "      <td>0.124659</td>\n",
       "      <td>-0.499476</td>\n",
       "      <td>1.000000</td>\n",
       "      <td>-0.529943</td>\n",
       "      <td>-0.608729</td>\n",
       "      <td>-0.612243</td>\n",
       "    </tr>\n",
       "    <tr>\n",
       "      <th>LBXMCVSI</th>\n",
       "      <td>0.208751</td>\n",
       "      <td>0.355408</td>\n",
       "      <td>-0.455538</td>\n",
       "      <td>-0.333193</td>\n",
       "      <td>0.411586</td>\n",
       "      <td>0.047114</td>\n",
       "      <td>0.086810</td>\n",
       "      <td>0.053429</td>\n",
       "      <td>-0.127124</td>\n",
       "      <td>0.083498</td>\n",
       "      <td>0.055210</td>\n",
       "      <td>0.050887</td>\n",
       "      <td>0.404555</td>\n",
       "      <td>-0.529943</td>\n",
       "      <td>1.000000</td>\n",
       "      <td>0.962769</td>\n",
       "      <td>0.484349</td>\n",
       "    </tr>\n",
       "    <tr>\n",
       "      <th>LBXMCHSI</th>\n",
       "      <td>0.214380</td>\n",
       "      <td>0.386549</td>\n",
       "      <td>-0.475590</td>\n",
       "      <td>-0.337395</td>\n",
       "      <td>0.437436</td>\n",
       "      <td>0.056111</td>\n",
       "      <td>0.085091</td>\n",
       "      <td>0.114514</td>\n",
       "      <td>-0.111552</td>\n",
       "      <td>0.051325</td>\n",
       "      <td>0.051181</td>\n",
       "      <td>0.018538</td>\n",
       "      <td>0.491503</td>\n",
       "      <td>-0.608729</td>\n",
       "      <td>0.962769</td>\n",
       "      <td>1.000000</td>\n",
       "      <td>0.697462</td>\n",
       "    </tr>\n",
       "    <tr>\n",
       "      <th>LBXMC</th>\n",
       "      <td>0.136088</td>\n",
       "      <td>0.310667</td>\n",
       "      <td>-0.342235</td>\n",
       "      <td>-0.221010</td>\n",
       "      <td>0.324348</td>\n",
       "      <td>0.046932</td>\n",
       "      <td>0.048606</td>\n",
       "      <td>0.236556</td>\n",
       "      <td>-0.022311</td>\n",
       "      <td>-0.061170</td>\n",
       "      <td>0.019284</td>\n",
       "      <td>-0.081416</td>\n",
       "      <td>0.542765</td>\n",
       "      <td>-0.612243</td>\n",
       "      <td>0.484349</td>\n",
       "      <td>0.697462</td>\n",
       "      <td>1.000000</td>\n",
       "    </tr>\n",
       "  </tbody>\n",
       "</table>\n",
       "</div>"
      ],
      "text/plain": [
       "          LBDFERSI    LBXIRN    LBXUIB    LBDTIB    LBDPCT  LBDRFOSI  \\\n",
       "LBDFERSI  1.000000  0.224434 -0.420069 -0.385327  0.340006  0.088851   \n",
       "LBXIRN    0.224434  1.000000 -0.612079 -0.094547  0.932547 -0.021504   \n",
       "LBXUIB   -0.420069 -0.612079  1.000000  0.849395 -0.813358  0.020227   \n",
       "LBDTIB   -0.385327 -0.094547  0.849395  1.000000 -0.399093  0.010618   \n",
       "LBDPCT    0.340006  0.932547 -0.813358 -0.399093  1.000000 -0.012710   \n",
       "LBDRFOSI  0.088851 -0.021504  0.020227  0.010618 -0.012710  1.000000   \n",
       "LBDFOT    0.011527  0.094145 -0.031002  0.024398  0.077910  0.613817   \n",
       "LBXSAL    0.021880  0.230620 -0.093669  0.039087  0.182330 -0.068419   \n",
       "BPXPLS   -0.053485 -0.067022  0.187315  0.190473 -0.131526  0.009279   \n",
       "BPXSY2    0.233516  0.009342 -0.111924 -0.135630  0.059076  0.157581   \n",
       "BPXDI2    0.136889  0.066435 -0.104018 -0.086224  0.091636  0.014102   \n",
       "BPXPP     0.154855 -0.038709 -0.046355 -0.085533 -0.002590  0.162897   \n",
       "LBXHGB    0.242783  0.425547 -0.417283 -0.236738  0.437298 -0.042778   \n",
       "LBXRDW   -0.087037 -0.351980  0.397089  0.261347 -0.366330  0.047325   \n",
       "LBXMCVSI  0.208751  0.355408 -0.455538 -0.333193  0.411586  0.047114   \n",
       "LBXMCHSI  0.214380  0.386549 -0.475590 -0.337395  0.437436  0.056111   \n",
       "LBXMC     0.136088  0.310667 -0.342235 -0.221010  0.324348  0.046932   \n",
       "\n",
       "            LBDFOT    LBXSAL    BPXPLS    BPXSY2    BPXDI2     BPXPP  \\\n",
       "LBDFERSI  0.011527  0.021880 -0.053485  0.233516  0.136889  0.154855   \n",
       "LBXIRN    0.094145  0.230620 -0.067022  0.009342  0.066435 -0.038709   \n",
       "LBXUIB   -0.031002 -0.093669  0.187315 -0.111924 -0.104018 -0.046355   \n",
       "LBDTIB    0.024398  0.039087  0.190473 -0.135630 -0.086224 -0.085533   \n",
       "LBDPCT    0.077910  0.182330 -0.131526  0.059076  0.091636 -0.002590   \n",
       "LBDRFOSI  0.613817 -0.068419  0.009279  0.157581  0.014102  0.162897   \n",
       "LBDFOT    1.000000  0.067896  0.008303  0.035874 -0.107120  0.118559   \n",
       "LBXSAL    0.067896  1.000000  0.022447 -0.121086 -0.029102 -0.111612   \n",
       "BPXPLS    0.008303  0.022447  1.000000 -0.131912  0.019848 -0.160967   \n",
       "BPXSY2    0.035874 -0.121086 -0.131912  1.000000  0.474368  0.754161   \n",
       "BPXDI2   -0.107120 -0.029102  0.019848  0.474368  1.000000 -0.220351   \n",
       "BPXPP     0.118559 -0.111612 -0.160967  0.754161 -0.220351  1.000000   \n",
       "LBXHGB   -0.018056  0.366599 -0.032800  0.070900  0.192899 -0.064688   \n",
       "LBXRDW   -0.052151 -0.283489  0.046048  0.117552  0.005977  0.124659   \n",
       "LBXMCVSI  0.086810  0.053429 -0.127124  0.083498  0.055210  0.050887   \n",
       "LBXMCHSI  0.085091  0.114514 -0.111552  0.051325  0.051181  0.018538   \n",
       "LBXMC     0.048606  0.236556 -0.022311 -0.061170  0.019284 -0.081416   \n",
       "\n",
       "            LBXHGB    LBXRDW  LBXMCVSI  LBXMCHSI     LBXMC  \n",
       "LBDFERSI  0.242783 -0.087037  0.208751  0.214380  0.136088  \n",
       "LBXIRN    0.425547 -0.351980  0.355408  0.386549  0.310667  \n",
       "LBXUIB   -0.417283  0.397089 -0.455538 -0.475590 -0.342235  \n",
       "LBDTIB   -0.236738  0.261347 -0.333193 -0.337395 -0.221010  \n",
       "LBDPCT    0.437298 -0.366330  0.411586  0.437436  0.324348  \n",
       "LBDRFOSI -0.042778  0.047325  0.047114  0.056111  0.046932  \n",
       "LBDFOT   -0.018056 -0.052151  0.086810  0.085091  0.048606  \n",
       "LBXSAL    0.366599 -0.283489  0.053429  0.114514  0.236556  \n",
       "BPXPLS   -0.032800  0.046048 -0.127124 -0.111552 -0.022311  \n",
       "BPXSY2    0.070900  0.117552  0.083498  0.051325 -0.061170  \n",
       "BPXDI2    0.192899  0.005977  0.055210  0.051181  0.019284  \n",
       "BPXPP    -0.064688  0.124659  0.050887  0.018538 -0.081416  \n",
       "LBXHGB    1.000000 -0.499476  0.404555  0.491503  0.542765  \n",
       "LBXRDW   -0.499476  1.000000 -0.529943 -0.608729 -0.612243  \n",
       "LBXMCVSI  0.404555 -0.529943  1.000000  0.962769  0.484349  \n",
       "LBXMCHSI  0.491503 -0.608729  0.962769  1.000000  0.697462  \n",
       "LBXMC     0.542765 -0.612243  0.484349  0.697462  1.000000  "
      ]
     },
     "execution_count": 36,
     "metadata": {},
     "output_type": "execute_result"
    }
   ],
   "source": [
    "df_merge_J[['LBDFERSI','LBXIRN','LBXUIB','LBDTIB', 'LBDPCT','LBDRFOSI','LBDFOT','LBXSAL','BPXPLS','BPXSY2','BPXDI2','BPXPP','LBXHGB','LBXRDW','LBXMCVSI', 'LBXMCHSI', 'LBXMC']].corr()"
   ]
  },
  {
   "cell_type": "code",
   "execution_count": 18,
   "id": "rational-prior",
   "metadata": {},
   "outputs": [
    {
     "data": {
      "text/plain": [
       "[<matplotlib.lines.Line2D at 0x1aa0e5e0>]"
      ]
     },
     "execution_count": 18,
     "metadata": {},
     "output_type": "execute_result"
    },
    {
     "data": {
      "image/png": "[encoded data removed]",
      "text/plain": [
       "<Figure size 432x288 with 1 Axes>"
      ]
     },
     "metadata": {
      "needs_background": "light"
     },
     "output_type": "display_data"
    }
   ],
   "source": [
    "plt.plot(df_merge_J['LBDFERSI'],df_merge_J['LBXMCVSI'],'*')"
   ]
  },
  {
   "cell_type": "code",
   "execution_count": 19,
   "id": "polyphonic-violence",
   "metadata": {},
   "outputs": [
    {
     "data": {
      "text/plain": [
       "[<matplotlib.lines.Line2D at 0x1d04c2b0>]"
      ]
     },
     "execution_count": 19,
     "metadata": {},
     "output_type": "execute_result"
    },
    {
     "data": {
      "image/png": "[encoded data removed]",
      "text/plain": [
       "<Figure size 432x288 with 1 Axes>"
      ]
     },
     "metadata": {
      "needs_background": "light"
     },
     "output_type": "display_data"
    }
   ],
   "source": [
    "plt.plot(np.log(df_merge_J['LBDFERSI']),df_merge_J['LBXMCVSI'],'*')"
   ]
  },
  {
   "cell_type": "code",
   "execution_count": 20,
   "id": "governing-blair",
   "metadata": {},
   "outputs": [
    {
     "data": {
      "text/plain": [
       "[<matplotlib.lines.Line2D at 0x1d0a97f0>]"
      ]
     },
     "execution_count": 20,
     "metadata": {},
     "output_type": "execute_result"
    },
    {
     "data": {
      "image/png": "[encoded data removed]",
      "text/plain": [
       "<Figure size 432x288 with 1 Axes>"
      ]
     },
     "metadata": {
      "needs_background": "light"
     },
     "output_type": "display_data"
    }
   ],
   "source": [
    "plt.plot(np.log(df_merge_J['LBDFERSI']),df_merge_J['LBXRDW'],'*')"
   ]
  },
  {
   "cell_type": "code",
   "execution_count": 21,
   "id": "proud-handle",
   "metadata": {},
   "outputs": [
    {
     "data": {
      "text/plain": [
       "[<matplotlib.lines.Line2D at 0x1d107af0>]"
      ]
     },
     "execution_count": 21,
     "metadata": {},
     "output_type": "execute_result"
    },
    {
     "data": {
      "image/png": "[encoded data removed]",
      "text/plain": [
       "<Figure size 432x288 with 1 Axes>"
      ]
     },
     "metadata": {
      "needs_background": "light"
     },
     "output_type": "display_data"
    }
   ],
   "source": [
    "plt.plot(df_merge_J['LBXUIB'],df_merge_J['LBXRDW'],'*')"
   ]
  },
  {
   "cell_type": "code",
   "execution_count": 22,
   "id": "revised-metropolitan",
   "metadata": {},
   "outputs": [
    {
     "data": {
      "text/plain": [
       "[<matplotlib.lines.Line2D at 0x1d16c490>]"
      ]
     },
     "execution_count": 22,
     "metadata": {},
     "output_type": "execute_result"
    },
    {
     "data": {
      "image/png": "[encoded data removed]",
      "text/plain": [
       "<Figure size 432x288 with 1 Axes>"
      ]
     },
     "metadata": {
      "needs_background": "light"
     },
     "output_type": "display_data"
    }
   ],
   "source": [
    "plt.plot(df_merge_J['LBXSAL'],df_merge_J['LBXRDW'],'*')"
   ]
  },
  {
   "cell_type": "code",
   "execution_count": 23,
   "id": "naked-survivor",
   "metadata": {},
   "outputs": [
    {
     "data": {
      "text/plain": [
       "[<matplotlib.lines.Line2D at 0x1d1c82b0>]"
      ]
     },
     "execution_count": 23,
     "metadata": {},
     "output_type": "execute_result"
    },
    {
     "data": {
      "image/png": "[encoded data removed]",
      "text/plain": [
       "<Figure size 432x288 with 1 Axes>"
      ]
     },
     "metadata": {
      "needs_background": "light"
     },
     "output_type": "display_data"
    }
   ],
   "source": [
    "plt.plot(df_merge_J['BPXPP'],df_merge_J['LBXRDW'],'*')"
   ]
  },
  {
   "cell_type": "code",
   "execution_count": 39,
   "id": "excessive-banana",
   "metadata": {},
   "outputs": [
    {
     "data": {
      "text/plain": [
       "[<matplotlib.lines.Line2D at 0x1d7ddd00>]"
      ]
     },
     "execution_count": 39,
     "metadata": {},
     "output_type": "execute_result"
    },
    {
     "data": {
      "image/png": "[encoded data removed]",
      "text/plain": [
       "<Figure size 432x288 with 1 Axes>"
      ]
     },
     "metadata": {
      "needs_background": "light"
     },
     "output_type": "display_data"
    }
   ],
   "source": [
    "plt.plot(df_merge_J['LBXHGB'],df_merge_J['LBXRDW'],'*')"
   ]
  },
  {
   "cell_type": "code",
   "execution_count": 40,
   "id": "passive-fetish",
   "metadata": {},
   "outputs": [
    {
     "data": {
      "text/plain": [
       "[<matplotlib.lines.Line2D at 0x1d0856a0>]"
      ]
     },
     "execution_count": 40,
     "metadata": {},
     "output_type": "execute_result"
    },
    {
     "data": {
      "image/png": "[encoded data removed]",
      "text/plain": [
       "<Figure size 432x288 with 1 Axes>"
      ]
     },
     "metadata": {
      "needs_background": "light"
     },
     "output_type": "display_data"
    }
   ],
   "source": [
    "plt.plot(df_merge_J['LBXIRN'],df_merge_J['LBXHGB'],'*')"
   ]
  },
  {
   "cell_type": "code",
   "execution_count": 24,
   "id": "falling-supervision",
   "metadata": {},
   "outputs": [],
   "source": [
    "# ['SEQN', 'LBDFOT', 'LBXSF1SI', 'LBXSF2SI',  'LBXSF3SI',  'LBXSF4SI','LBXSF5SI', 'LBXSF6SI'] "
   ]
  },
  {
   "cell_type": "code",
   "execution_count": 25,
   "id": "informational-leisure",
   "metadata": {},
   "outputs": [
    {
     "data": {
      "text/plain": [
       "Index(['SEQN', 'LBXRDW', 'LBXMCVSI', 'LBXMCHSI', 'LBXMC', 'LBDRFOSI',\n",
       "       'LBDFERSI', 'LBXIRN', 'LBXUIB', 'LBDTIB', 'LBDPCT', 'LBDFOT',\n",
       "       'LBXSF1SI', 'LBXSF2SI', 'LBXSF3SI', 'LBXSF4SI', 'LBXSF5SI', 'LBXSF6SI',\n",
       "       'LBXSAL', 'BPXPLS', 'BPXSY2', 'BPXDI2', 'BPXPP'],\n",
       "      dtype='object')"
      ]
     },
     "execution_count": 25,
     "metadata": {},
     "output_type": "execute_result"
    }
   ],
   "source": [
    "df_merge_J.columns"
   ]
  },
  {
   "cell_type": "code",
   "execution_count": 32,
   "id": "still-courtesy",
   "metadata": {},
   "outputs": [
    {
     "ename": "KeyError",
     "evalue": "\"['LBXHGB'] not in index\"",
     "output_type": "error",
     "traceback": [
      "\u001b[1;31m---------------------------------------------------------------------------\u001b[0m",
      "\u001b[1;31mKeyError\u001b[0m                                  Traceback (most recent call last)",
      "\u001b[1;32m<ipython-input-32-f0087598a8c7>\u001b[0m in \u001b[0;36m<module>\u001b[1;34m\u001b[0m\n\u001b[1;32m----> 1\u001b[1;33m \u001b[0mdf_merge_J\u001b[0m\u001b[1;33m[\u001b[0m\u001b[1;33m[\u001b[0m\u001b[1;34m'LBDFOT'\u001b[0m\u001b[1;33m,\u001b[0m\u001b[1;34m'LBXSF1SI'\u001b[0m\u001b[1;33m,\u001b[0m \u001b[1;34m'LBXSF2SI'\u001b[0m\u001b[1;33m,\u001b[0m \u001b[1;34m'LBXSF3SI'\u001b[0m\u001b[1;33m,\u001b[0m \u001b[1;34m'LBXSF4SI'\u001b[0m\u001b[1;33m,\u001b[0m \u001b[1;34m'LBXSF5SI'\u001b[0m\u001b[1;33m,\u001b[0m \u001b[1;34m'LBXSF6SI'\u001b[0m\u001b[1;33m,\u001b[0m\u001b[1;34m'LBXHGB'\u001b[0m\u001b[1;33m,\u001b[0m\u001b[1;34m'LBXRDW'\u001b[0m\u001b[1;33m,\u001b[0m\u001b[1;34m'LBXMCVSI'\u001b[0m\u001b[1;33m,\u001b[0m \u001b[1;34m'LBXMCHSI'\u001b[0m\u001b[1;33m,\u001b[0m \u001b[1;34m'LBXMC'\u001b[0m\u001b[1;33m]\u001b[0m\u001b[1;33m]\u001b[0m\u001b[1;33m.\u001b[0m\u001b[0mcorr\u001b[0m\u001b[1;33m(\u001b[0m\u001b[1;33m)\u001b[0m\u001b[1;33m\u001b[0m\u001b[1;33m\u001b[0m\u001b[0m\n\u001b[0m",
      "\u001b[1;32mE:\\anaconda3\\envs\\tf\\lib\\site-packages\\pandas\\core\\frame.py\u001b[0m in \u001b[0;36m__getitem__\u001b[1;34m(self, key)\u001b[0m\n\u001b[0;32m   3028\u001b[0m             \u001b[1;32mif\u001b[0m \u001b[0mis_iterator\u001b[0m\u001b[1;33m(\u001b[0m\u001b[0mkey\u001b[0m\u001b[1;33m)\u001b[0m\u001b[1;33m:\u001b[0m\u001b[1;33m\u001b[0m\u001b[1;33m\u001b[0m\u001b[0m\n\u001b[0;32m   3029\u001b[0m                 \u001b[0mkey\u001b[0m \u001b[1;33m=\u001b[0m \u001b[0mlist\u001b[0m\u001b[1;33m(\u001b[0m\u001b[0mkey\u001b[0m\u001b[1;33m)\u001b[0m\u001b[1;33m\u001b[0m\u001b[1;33m\u001b[0m\u001b[0m\n\u001b[1;32m-> 3030\u001b[1;33m             \u001b[0mindexer\u001b[0m \u001b[1;33m=\u001b[0m \u001b[0mself\u001b[0m\u001b[1;33m.\u001b[0m\u001b[0mloc\u001b[0m\u001b[1;33m.\u001b[0m\u001b[0m_get_listlike_indexer\u001b[0m\u001b[1;33m(\u001b[0m\u001b[0mkey\u001b[0m\u001b[1;33m,\u001b[0m \u001b[0maxis\u001b[0m\u001b[1;33m=\u001b[0m\u001b[1;36m1\u001b[0m\u001b[1;33m,\u001b[0m \u001b[0mraise_missing\u001b[0m\u001b[1;33m=\u001b[0m\u001b[1;32mTrue\u001b[0m\u001b[1;33m)\u001b[0m\u001b[1;33m[\u001b[0m\u001b[1;36m1\u001b[0m\u001b[1;33m]\u001b[0m\u001b[1;33m\u001b[0m\u001b[1;33m\u001b[0m\u001b[0m\n\u001b[0m\u001b[0;32m   3031\u001b[0m \u001b[1;33m\u001b[0m\u001b[0m\n\u001b[0;32m   3032\u001b[0m         \u001b[1;31m# take() does not accept boolean indexers\u001b[0m\u001b[1;33m\u001b[0m\u001b[1;33m\u001b[0m\u001b[1;33m\u001b[0m\u001b[0m\n",
      "\u001b[1;32mE:\\anaconda3\\envs\\tf\\lib\\site-packages\\pandas\\core\\indexing.py\u001b[0m in \u001b[0;36m_get_listlike_indexer\u001b[1;34m(self, key, axis, raise_missing)\u001b[0m\n\u001b[0;32m   1264\u001b[0m             \u001b[0mkeyarr\u001b[0m\u001b[1;33m,\u001b[0m \u001b[0mindexer\u001b[0m\u001b[1;33m,\u001b[0m \u001b[0mnew_indexer\u001b[0m \u001b[1;33m=\u001b[0m \u001b[0max\u001b[0m\u001b[1;33m.\u001b[0m\u001b[0m_reindex_non_unique\u001b[0m\u001b[1;33m(\u001b[0m\u001b[0mkeyarr\u001b[0m\u001b[1;33m)\u001b[0m\u001b[1;33m\u001b[0m\u001b[1;33m\u001b[0m\u001b[0m\n\u001b[0;32m   1265\u001b[0m \u001b[1;33m\u001b[0m\u001b[0m\n\u001b[1;32m-> 1266\u001b[1;33m         \u001b[0mself\u001b[0m\u001b[1;33m.\u001b[0m\u001b[0m_validate_read_indexer\u001b[0m\u001b[1;33m(\u001b[0m\u001b[0mkeyarr\u001b[0m\u001b[1;33m,\u001b[0m \u001b[0mindexer\u001b[0m\u001b[1;33m,\u001b[0m \u001b[0maxis\u001b[0m\u001b[1;33m,\u001b[0m \u001b[0mraise_missing\u001b[0m\u001b[1;33m=\u001b[0m\u001b[0mraise_missing\u001b[0m\u001b[1;33m)\u001b[0m\u001b[1;33m\u001b[0m\u001b[1;33m\u001b[0m\u001b[0m\n\u001b[0m\u001b[0;32m   1267\u001b[0m         \u001b[1;32mreturn\u001b[0m \u001b[0mkeyarr\u001b[0m\u001b[1;33m,\u001b[0m \u001b[0mindexer\u001b[0m\u001b[1;33m\u001b[0m\u001b[1;33m\u001b[0m\u001b[0m\n\u001b[0;32m   1268\u001b[0m \u001b[1;33m\u001b[0m\u001b[0m\n",
      "\u001b[1;32mE:\\anaconda3\\envs\\tf\\lib\\site-packages\\pandas\\core\\indexing.py\u001b[0m in \u001b[0;36m_validate_read_indexer\u001b[1;34m(self, key, indexer, axis, raise_missing)\u001b[0m\n\u001b[0;32m   1314\u001b[0m             \u001b[1;32mif\u001b[0m \u001b[0mraise_missing\u001b[0m\u001b[1;33m:\u001b[0m\u001b[1;33m\u001b[0m\u001b[1;33m\u001b[0m\u001b[0m\n\u001b[0;32m   1315\u001b[0m                 \u001b[0mnot_found\u001b[0m \u001b[1;33m=\u001b[0m \u001b[0mlist\u001b[0m\u001b[1;33m(\u001b[0m\u001b[0mset\u001b[0m\u001b[1;33m(\u001b[0m\u001b[0mkey\u001b[0m\u001b[1;33m)\u001b[0m \u001b[1;33m-\u001b[0m \u001b[0mset\u001b[0m\u001b[1;33m(\u001b[0m\u001b[0max\u001b[0m\u001b[1;33m)\u001b[0m\u001b[1;33m)\u001b[0m\u001b[1;33m\u001b[0m\u001b[1;33m\u001b[0m\u001b[0m\n\u001b[1;32m-> 1316\u001b[1;33m                 \u001b[1;32mraise\u001b[0m \u001b[0mKeyError\u001b[0m\u001b[1;33m(\u001b[0m\u001b[1;34mf\"{not_found} not in index\"\u001b[0m\u001b[1;33m)\u001b[0m\u001b[1;33m\u001b[0m\u001b[1;33m\u001b[0m\u001b[0m\n\u001b[0m\u001b[0;32m   1317\u001b[0m \u001b[1;33m\u001b[0m\u001b[0m\n\u001b[0;32m   1318\u001b[0m             \u001b[0mnot_found\u001b[0m \u001b[1;33m=\u001b[0m \u001b[0mkey\u001b[0m\u001b[1;33m[\u001b[0m\u001b[0mmissing_mask\u001b[0m\u001b[1;33m]\u001b[0m\u001b[1;33m\u001b[0m\u001b[1;33m\u001b[0m\u001b[0m\n",
      "\u001b[1;31mKeyError\u001b[0m: \"['LBXHGB'] not in index\""
     ]
    }
   ],
   "source": [
    "df_merge_J[['LBDFOT','LBXSF1SI', 'LBXSF2SI', 'LBXSF3SI', 'LBXSF4SI', 'LBXSF5SI', 'LBXSF6SI','LBXHGB','LBXRDW','LBXMCVSI', 'LBXMCHSI', 'LBXMC']].corr()"
   ]
  },
  {
   "cell_type": "code",
   "execution_count": 27,
   "id": "valued-philosophy",
   "metadata": {},
   "outputs": [
    {
     "data": {
      "text/html": [
       "<div>\n",
       "<style scoped>\n",
       "    .dataframe tbody tr th:only-of-type {\n",
       "        vertical-align: middle;\n",
       "    }\n",
       "\n",
       "    .dataframe tbody tr th {\n",
       "        vertical-align: top;\n",
       "    }\n",
       "\n",
       "    .dataframe thead th {\n",
       "        text-align: right;\n",
       "    }\n",
       "</style>\n",
       "<table border=\"1\" class=\"dataframe\">\n",
       "  <thead>\n",
       "    <tr style=\"text-align: right;\">\n",
       "      <th></th>\n",
       "      <th>SEQN</th>\n",
       "      <th>RXDUSE</th>\n",
       "      <th>RXDDRUG</th>\n",
       "      <th>RXDDRGID</th>\n",
       "      <th>RXQSEEN</th>\n",
       "      <th>RXDDAYS</th>\n",
       "      <th>RXDRSC1</th>\n",
       "      <th>RXDRSC2</th>\n",
       "      <th>RXDRSC3</th>\n",
       "      <th>RXDRSD1</th>\n",
       "      <th>RXDRSD2</th>\n",
       "      <th>RXDRSD3</th>\n",
       "      <th>RXDCOUNT</th>\n",
       "    </tr>\n",
       "  </thead>\n",
       "  <tbody>\n",
       "    <tr>\n",
       "      <th>0</th>\n",
       "      <td>93703.0</td>\n",
       "      <td>2.0</td>\n",
       "      <td>b''</td>\n",
       "      <td>b''</td>\n",
       "      <td>NaN</td>\n",
       "      <td>NaN</td>\n",
       "      <td>b''</td>\n",
       "      <td>b''</td>\n",
       "      <td>b''</td>\n",
       "      <td>b''</td>\n",
       "      <td>b''</td>\n",
       "      <td>b''</td>\n",
       "      <td>NaN</td>\n",
       "    </tr>\n",
       "    <tr>\n",
       "      <th>1</th>\n",
       "      <td>93704.0</td>\n",
       "      <td>2.0</td>\n",
       "      <td>b''</td>\n",
       "      <td>b''</td>\n",
       "      <td>NaN</td>\n",
       "      <td>NaN</td>\n",
       "      <td>b''</td>\n",
       "      <td>b''</td>\n",
       "      <td>b''</td>\n",
       "      <td>b''</td>\n",
       "      <td>b''</td>\n",
       "      <td>b''</td>\n",
       "      <td>NaN</td>\n",
       "    </tr>\n",
       "    <tr>\n",
       "      <th>2</th>\n",
       "      <td>93705.0</td>\n",
       "      <td>1.0</td>\n",
       "      <td>b'ENALAPRIL; HYDROCHLOROTHIAZIDE'</td>\n",
       "      <td>b'd03740'</td>\n",
       "      <td>1.0</td>\n",
       "      <td>5475.0</td>\n",
       "      <td>b'I10'</td>\n",
       "      <td>b''</td>\n",
       "      <td>b''</td>\n",
       "      <td>b'Essential (primary) hypertension'</td>\n",
       "      <td>b''</td>\n",
       "      <td>b''</td>\n",
       "      <td>3.0</td>\n",
       "    </tr>\n",
       "    <tr>\n",
       "      <th>3</th>\n",
       "      <td>93705.0</td>\n",
       "      <td>1.0</td>\n",
       "      <td>b'MELOXICAM'</td>\n",
       "      <td>b'd04532'</td>\n",
       "      <td>1.0</td>\n",
       "      <td>61.0</td>\n",
       "      <td>b'M06.9'</td>\n",
       "      <td>b''</td>\n",
       "      <td>b''</td>\n",
       "      <td>b'Rheumatoid arthritis, unspecified'</td>\n",
       "      <td>b''</td>\n",
       "      <td>b''</td>\n",
       "      <td>3.0</td>\n",
       "    </tr>\n",
       "    <tr>\n",
       "      <th>4</th>\n",
       "      <td>93705.0</td>\n",
       "      <td>1.0</td>\n",
       "      <td>b'OMEPRAZOLE'</td>\n",
       "      <td>b'd00325'</td>\n",
       "      <td>1.0</td>\n",
       "      <td>3650.0</td>\n",
       "      <td>b'R12'</td>\n",
       "      <td>b''</td>\n",
       "      <td>b''</td>\n",
       "      <td>b'Heartburn'</td>\n",
       "      <td>b''</td>\n",
       "      <td>b''</td>\n",
       "      <td>3.0</td>\n",
       "    </tr>\n",
       "  </tbody>\n",
       "</table>\n",
       "</div>"
      ],
      "text/plain": [
       "      SEQN  RXDUSE                            RXDDRUG   RXDDRGID  RXQSEEN  \\\n",
       "0  93703.0     2.0                                b''        b''      NaN   \n",
       "1  93704.0     2.0                                b''        b''      NaN   \n",
       "2  93705.0     1.0  b'ENALAPRIL; HYDROCHLOROTHIAZIDE'  b'd03740'      1.0   \n",
       "3  93705.0     1.0                       b'MELOXICAM'  b'd04532'      1.0   \n",
       "4  93705.0     1.0                      b'OMEPRAZOLE'  b'd00325'      1.0   \n",
       "\n",
       "   RXDDAYS   RXDRSC1 RXDRSC2 RXDRSC3                               RXDRSD1  \\\n",
       "0      NaN       b''     b''     b''                                   b''   \n",
       "1      NaN       b''     b''     b''                                   b''   \n",
       "2   5475.0    b'I10'     b''     b''   b'Essential (primary) hypertension'   \n",
       "3     61.0  b'M06.9'     b''     b''  b'Rheumatoid arthritis, unspecified'   \n",
       "4   3650.0    b'R12'     b''     b''                          b'Heartburn'   \n",
       "\n",
       "  RXDRSD2 RXDRSD3  RXDCOUNT  \n",
       "0     b''     b''       NaN  \n",
       "1     b''     b''       NaN  \n",
       "2     b''     b''       3.0  \n",
       "3     b''     b''       3.0  \n",
       "4     b''     b''       3.0  "
      ]
     },
     "execution_count": 27,
     "metadata": {},
     "output_type": "execute_result"
    }
   ],
   "source": [
    "df_RXQ_RX_J.head()"
   ]
  },
  {
   "cell_type": "code",
   "execution_count": 28,
   "id": "inclusive-treat",
   "metadata": {},
   "outputs": [
    {
     "data": {
      "text/plain": [
       "Series([], Name: RXDDRUG, dtype: int64)"
      ]
     },
     "execution_count": 28,
     "metadata": {},
     "output_type": "execute_result"
    }
   ],
   "source": [
    "\n",
    "df_RXQ_RX_J[df_RXQ_RX_J['RXDRSC1']=='E78.0'].RXDDRUG.value_counts()"
   ]
  },
  {
   "cell_type": "code",
   "execution_count": 29,
   "id": "right-travel",
   "metadata": {},
   "outputs": [
    {
     "data": {
      "text/plain": [
       "b''         5335\n",
       "b'I10'      2470\n",
       "b'E78.0'    1182\n",
       "b'E11'      1060\n",
       "b'F32.9'     497\n",
       "b'99999'     451\n",
       "b'K21'       432\n",
       "b'J45'       363\n",
       "b'E03.9'     345\n",
       "b'F41.9'     330\n",
       "Name: RXDRSC1, dtype: int64"
      ]
     },
     "execution_count": 29,
     "metadata": {},
     "output_type": "execute_result"
    }
   ],
   "source": [
    "df_RXQ_RX_J['RXDRSC1'].value_counts().head(10)"
   ]
  },
  {
   "cell_type": "code",
   "execution_count": 30,
   "id": "incorporate-remedy",
   "metadata": {},
   "outputs": [],
   "source": [
    "df_RXQ_RX_J['RXDRSC1']=df_RXQ_RX_J[['RXDRSC1']].apply(lambda x: x.str.decode('utf-8'))"
   ]
  },
  {
   "cell_type": "code",
   "execution_count": 31,
   "id": "convinced-reader",
   "metadata": {},
   "outputs": [],
   "source": [
    "df_RXQ_RX_J['RXDRSD1']=df_RXQ_RX_J[['RXDRSD1']].apply(lambda x: x.str.decode('utf-8'))"
   ]
  },
  {
   "cell_type": "code",
   "execution_count": null,
   "id": "capable-accident",
   "metadata": {},
   "outputs": [],
   "source": []
  }
 ],
 "metadata": {
  "kernelspec": {
   "display_name": "Python 3",
   "language": "python",
   "name": "python3"
  },
  "language_info": {
   "codemirror_mode": {
    "name": "ipython",
    "version": 3
   },
   "file_extension": ".py",
   "mimetype": "text/x-python",
   "name": "python",
   "nbconvert_exporter": "python",
   "pygments_lexer": "ipython3",
   "version": "3.8.8"
  }
 },
 "nbformat": 4,
 "nbformat_minor": 5
}
