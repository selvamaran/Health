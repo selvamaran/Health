{
 "cells": [
  {
   "cell_type": "markdown",
   "id": "sufficient-scratch",
   "metadata": {},
   "source": [
    "# Data Analysis of Lifestyle factors that influence Body Mass Index and its risk factors"
   ]
  },
  {
   "cell_type": "markdown",
   "id": "adjustable-funds",
   "metadata": {},
   "source": [
    "## Motivation for the project\n",
    "#### Chronic diseases are becoming major pandemic affecting both mortality as well as quality of life. The lifestyle factors (in addition to genetic factors) are major risk factors for chronic diseases. People do regular screening tests and track other measures but interpreting data in a meaningful way is scarce. The reason is that cause to effect in case of chronic diseases are complex and happens over long time. For example a single risk factor can influence multiple health parameters and a single health parameter can be influenced by multiple risk factors. A holisitic interdisciplinary approach (Medicine, Datascience and Artificial Intelligence, Computational and complex Science) is critical to provide people meaningful actions to tackle chronic diseases.\n",
    "#### Pathological obesity is one of the major risk factor for many chronic diseases. The project aims to get quantitative details of various factors that influence the body mass index\n",
    "\n",
    "## AIM of the project\n",
    "\n",
    "#### To analyze lifestyle factors that influence Body Mass Index and its intermediary risk factors (fatty liver (steatosis), fibrotic liver, fat mass etc) using data analytic tools with rigorous scientific methods\n",
    "#### To get quantitative details to build realistic computational models and personal preventive precision AI models \n",
    "\n",
    "#### DataSource: NHANES (National Health and Nutrition Examination Survey). https://www.cdc.gov/nchs/nhanes/about_nhanes.htm. \n",
    "\n",
    "# References\n",
    "1) Slentz CA, Duscha BD, Johnson JL, Ketchum K, Aiken LB, Samsa GP, Houmard JA, Bales CW, Kraus WE. Effects of the amount of exercise on body weight, body composition, and measures of central obesity: STRRIDE--a randomized controlled study. Arch Intern Med. 2004 Jan 12;164(1):31-9. doi: 10.1001/archinte.164.1.31. PMID: 14718319.\n",
    "\n",
    "2)Hughes VA, Frontera WR, Roubenoff R, Evans WJ, Singh MA. Longitudinal changes in body composition in older men and women: role of body weight change and physical activity. Am J Clin Nutr. 2002 Aug;76(2):473-81. doi: 10.1093/ajcn/76.2.473. PMID: 12145025.\n",
    "\n",
    "3) Jackson AS, Janssen I, Sui X, Church TS, Blair SN. Longitudinal changes in body composition associated with healthy ageing: men, aged 20-96 years. Br J Nutr. 2012 Apr;107(7):1085-91. doi: 10.1017/S0007114511003886. Epub 2011 Aug 3. PMID: 21810289.\n",
    "\n",
    "###### Thanks to the US government policies to enable regular tracking of health and lifestyle factors of people and making data available as open source. The data provided is applicable not only to US population but to global population in general."
   ]
  },
  {
   "cell_type": "code",
   "execution_count": 1,
   "id": "happy-clerk",
   "metadata": {},
   "outputs": [],
   "source": [
    "import xport\n",
    "import numpy as np\n",
    "import pandas as pd\n",
    "import os\n",
    "\n",
    "import matplotlib.pyplot as plt\n",
    "import seaborn as sns\n",
    "%matplotlib inline\n",
    "\n",
    "import statsmodels.api as sm\n",
    "import statsmodels.formula.api as smf\n",
    "from statsmodels.stats import weightstats as stests\n",
    "from scipy import stats\n",
    "\n",
    "from sklearn.model_selection import train_test_split\n",
    "from sklearn.ensemble import RandomForestRegressor\n",
    "from sklearn.metrics import r2_score"
   ]
  },
  {
   "cell_type": "markdown",
   "id": "occupied-gibson",
   "metadata": {},
   "source": [
    "#### Data Loading"
   ]
  },
  {
   "cell_type": "code",
   "execution_count": 2,
   "id": "respected-express",
   "metadata": {},
   "outputs": [],
   "source": [
    "file_loc = '../nhanes_data_files/'\n",
    "df_PAQ_2017_2018 = pd.read_sas(file_loc +'PAQ_J_2017_2018.xpt')\n",
    "df_DBQ_2017_2018 = pd.read_sas(file_loc +'DBQ_J_2017_2018.xpt')\n",
    "\n",
    "df_demog_2017_2018 = pd.read_sas(file_loc + 'DEMO_J_2017_2018.xpt')\n",
    "df_DXX_2017_2018 = pd.read_sas(file_loc +'DXX_J_2017_2018.xpt')\n",
    "df_BMX_2017_2018 = pd.read_sas(file_loc +'BMX_J_2017_2018.xpt')\n",
    "df_LUX_2017_2018 = pd.read_sas(file_loc + 'LUX_J_2017_2018.xpt')\n",
    "\n",
    "df_I_2017_2018 = pd.read_sas(file_loc +'INS_J_2017_2018.xpt')"
   ]
  },
  {
   "cell_type": "markdown",
   "id": "existing-marsh",
   "metadata": {},
   "source": [
    "#### Selecting relevant datasets and merging them\n",
    "##### Note: Since insulin dataset measurements are less two separate dataframes are created\n",
    "##### Note:  Since insulin values have long tail, the log values provide better normal distribution."
   ]
  },
  {
   "cell_type": "code",
   "execution_count": 3,
   "id": "proper-retrieval",
   "metadata": {},
   "outputs": [
    {
     "data": {
      "text/plain": [
       "((3175, 71), (2502, 68))"
      ]
     },
     "execution_count": 3,
     "metadata": {},
     "output_type": "execute_result"
    }
   ],
   "source": [
    "dfage_2017_2018=df_demog_2017_2018[['SEQN','RIDAGEYR']].copy()\n",
    "dfage_20_2017_2018=dfage_2017_2018[dfage_2017_2018['RIDAGEYR']>20].copy()\n",
    "dfbmi=df_BMX_2017_2018[['SEQN','BMXWT','BMXBMI','BMXWAIST']].copy()\n",
    "\n",
    "df_merge_paq_dbq=dfage_20_2017_2018.merge(dfbmi,on='SEQN')\n",
    "df_merge_paq_dbq_I=df_merge_paq_dbq.merge(df_I_2017_2018[['SEQN','LBXIN']],on='SEQN')\n",
    "df_merge_paq_dbq_I['loge_LBXIN']=np.log(df_merge_paq_dbq_I['LBXIN'])\n",
    "\n",
    "df_merge_paq_dbq=df_merge_paq_dbq.merge(df_LUX_2017_2018[['SEQN','LUXSMED','LUXCAPM']],on='SEQN')\n",
    "df_merge_paq_dbq=df_merge_paq_dbq.merge(df_DXX_2017_2018[['SEQN','DXDTRPF','DXDTOPF','DXDTOLI']],on='SEQN')\n",
    "\n",
    "df_merge_paq_dbq=df_merge_paq_dbq.merge(df_PAQ_2017_2018,on='SEQN')\n",
    "df_merge_paq_dbq=df_merge_paq_dbq.merge(df_DBQ_2017_2018,on='SEQN')\n",
    "df_merge_paq_dbq_I=df_merge_paq_dbq_I.merge(df_PAQ_2017_2018,on='SEQN')\n",
    "df_merge_paq_dbq_I=df_merge_paq_dbq_I.merge(df_DBQ_2017_2018,on='SEQN')\n",
    "\n",
    "#Final Dataframes\n",
    "df_merge_paq_dbq.shape,df_merge_paq_dbq_I.shape\n"
   ]
  },
  {
   "cell_type": "markdown",
   "id": "worst-bubble",
   "metadata": {},
   "source": [
    "### Overall data description"
   ]
  },
  {
   "cell_type": "code",
   "execution_count": 4,
   "id": "previous-kinase",
   "metadata": {},
   "outputs": [
    {
     "data": {
      "text/html": [
       "<div>\n",
       "<style scoped>\n",
       "    .dataframe tbody tr th:only-of-type {\n",
       "        vertical-align: middle;\n",
       "    }\n",
       "\n",
       "    .dataframe tbody tr th {\n",
       "        vertical-align: top;\n",
       "    }\n",
       "\n",
       "    .dataframe thead th {\n",
       "        text-align: right;\n",
       "    }\n",
       "</style>\n",
       "<table border=\"1\" class=\"dataframe\">\n",
       "  <thead>\n",
       "    <tr style=\"text-align: right;\">\n",
       "      <th></th>\n",
       "      <th>RIDAGEYR</th>\n",
       "      <th>BMXBMI</th>\n",
       "      <th>BMXWAIST</th>\n",
       "      <th>DXDTOLI</th>\n",
       "      <th>DXDTRPF</th>\n",
       "      <th>DXDTOPF</th>\n",
       "      <th>LUXSMED</th>\n",
       "      <th>LUXCAPM</th>\n",
       "      <th>PAQ655</th>\n",
       "      <th>PAD660</th>\n",
       "      <th>PAD680</th>\n",
       "      <th>DBD895</th>\n",
       "      <th>DBQ700</th>\n",
       "    </tr>\n",
       "  </thead>\n",
       "  <tbody>\n",
       "    <tr>\n",
       "      <th>count</th>\n",
       "      <td>3175.000000</td>\n",
       "      <td>3140.000000</td>\n",
       "      <td>3017.000000</td>\n",
       "      <td>2202.000000</td>\n",
       "      <td>2351.000000</td>\n",
       "      <td>2202.000000</td>\n",
       "      <td>2968.000000</td>\n",
       "      <td>2967.000000</td>\n",
       "      <td>971.000000</td>\n",
       "      <td>968.000000</td>\n",
       "      <td>3167.000000</td>\n",
       "      <td>3.175000e+03</td>\n",
       "      <td>3175.000000</td>\n",
       "    </tr>\n",
       "    <tr>\n",
       "      <th>mean</th>\n",
       "      <td>40.414803</td>\n",
       "      <td>30.110510</td>\n",
       "      <td>99.617799</td>\n",
       "      <td>53430.545913</td>\n",
       "      <td>32.605827</td>\n",
       "      <td>33.584105</td>\n",
       "      <td>5.828032</td>\n",
       "      <td>262.758342</td>\n",
       "      <td>3.486097</td>\n",
       "      <td>72.729339</td>\n",
       "      <td>361.035049</td>\n",
       "      <td>2.608409e+01</td>\n",
       "      <td>3.133228</td>\n",
       "    </tr>\n",
       "    <tr>\n",
       "      <th>std</th>\n",
       "      <td>11.351250</td>\n",
       "      <td>7.852552</td>\n",
       "      <td>17.956221</td>\n",
       "      <td>13049.614331</td>\n",
       "      <td>8.685784</td>\n",
       "      <td>8.511506</td>\n",
       "      <td>5.175513</td>\n",
       "      <td>63.722737</td>\n",
       "      <td>3.463590</td>\n",
       "      <td>50.197202</td>\n",
       "      <td>604.495504</td>\n",
       "      <td>4.558422e+02</td>\n",
       "      <td>1.014179</td>\n",
       "    </tr>\n",
       "    <tr>\n",
       "      <th>min</th>\n",
       "      <td>21.000000</td>\n",
       "      <td>14.800000</td>\n",
       "      <td>57.900000</td>\n",
       "      <td>21324.700000</td>\n",
       "      <td>10.100000</td>\n",
       "      <td>12.100000</td>\n",
       "      <td>1.700000</td>\n",
       "      <td>100.000000</td>\n",
       "      <td>1.000000</td>\n",
       "      <td>10.000000</td>\n",
       "      <td>2.000000</td>\n",
       "      <td>5.397605e-79</td>\n",
       "      <td>1.000000</td>\n",
       "    </tr>\n",
       "    <tr>\n",
       "      <th>25%</th>\n",
       "      <td>31.000000</td>\n",
       "      <td>24.600000</td>\n",
       "      <td>86.600000</td>\n",
       "      <td>42866.475000</td>\n",
       "      <td>26.900000</td>\n",
       "      <td>27.325000</td>\n",
       "      <td>4.000000</td>\n",
       "      <td>215.000000</td>\n",
       "      <td>2.000000</td>\n",
       "      <td>40.000000</td>\n",
       "      <td>180.000000</td>\n",
       "      <td>1.000000e+00</td>\n",
       "      <td>3.000000</td>\n",
       "    </tr>\n",
       "    <tr>\n",
       "      <th>50%</th>\n",
       "      <td>40.000000</td>\n",
       "      <td>28.800000</td>\n",
       "      <td>97.500000</td>\n",
       "      <td>52056.650000</td>\n",
       "      <td>33.100000</td>\n",
       "      <td>33.500000</td>\n",
       "      <td>4.900000</td>\n",
       "      <td>261.000000</td>\n",
       "      <td>3.000000</td>\n",
       "      <td>60.000000</td>\n",
       "      <td>300.000000</td>\n",
       "      <td>3.000000e+00</td>\n",
       "      <td>3.000000</td>\n",
       "    </tr>\n",
       "    <tr>\n",
       "      <th>75%</th>\n",
       "      <td>51.000000</td>\n",
       "      <td>34.000000</td>\n",
       "      <td>110.200000</td>\n",
       "      <td>62266.450000</td>\n",
       "      <td>39.300000</td>\n",
       "      <td>40.600000</td>\n",
       "      <td>6.100000</td>\n",
       "      <td>306.000000</td>\n",
       "      <td>4.000000</td>\n",
       "      <td>90.000000</td>\n",
       "      <td>480.000000</td>\n",
       "      <td>5.000000e+00</td>\n",
       "      <td>4.000000</td>\n",
       "    </tr>\n",
       "    <tr>\n",
       "      <th>max</th>\n",
       "      <td>59.000000</td>\n",
       "      <td>86.200000</td>\n",
       "      <td>169.500000</td>\n",
       "      <td>108410.700000</td>\n",
       "      <td>56.400000</td>\n",
       "      <td>56.100000</td>\n",
       "      <td>75.000000</td>\n",
       "      <td>400.000000</td>\n",
       "      <td>99.000000</td>\n",
       "      <td>480.000000</td>\n",
       "      <td>9999.000000</td>\n",
       "      <td>9.999000e+03</td>\n",
       "      <td>9.000000</td>\n",
       "    </tr>\n",
       "  </tbody>\n",
       "</table>\n",
       "</div>"
      ],
      "text/plain": [
       "          RIDAGEYR       BMXBMI     BMXWAIST        DXDTOLI      DXDTRPF  \\\n",
       "count  3175.000000  3140.000000  3017.000000    2202.000000  2351.000000   \n",
       "mean     40.414803    30.110510    99.617799   53430.545913    32.605827   \n",
       "std      11.351250     7.852552    17.956221   13049.614331     8.685784   \n",
       "min      21.000000    14.800000    57.900000   21324.700000    10.100000   \n",
       "25%      31.000000    24.600000    86.600000   42866.475000    26.900000   \n",
       "50%      40.000000    28.800000    97.500000   52056.650000    33.100000   \n",
       "75%      51.000000    34.000000   110.200000   62266.450000    39.300000   \n",
       "max      59.000000    86.200000   169.500000  108410.700000    56.400000   \n",
       "\n",
       "           DXDTOPF      LUXSMED      LUXCAPM      PAQ655      PAD660  \\\n",
       "count  2202.000000  2968.000000  2967.000000  971.000000  968.000000   \n",
       "mean     33.584105     5.828032   262.758342    3.486097   72.729339   \n",
       "std       8.511506     5.175513    63.722737    3.463590   50.197202   \n",
       "min      12.100000     1.700000   100.000000    1.000000   10.000000   \n",
       "25%      27.325000     4.000000   215.000000    2.000000   40.000000   \n",
       "50%      33.500000     4.900000   261.000000    3.000000   60.000000   \n",
       "75%      40.600000     6.100000   306.000000    4.000000   90.000000   \n",
       "max      56.100000    75.000000   400.000000   99.000000  480.000000   \n",
       "\n",
       "            PAD680        DBD895       DBQ700  \n",
       "count  3167.000000  3.175000e+03  3175.000000  \n",
       "mean    361.035049  2.608409e+01     3.133228  \n",
       "std     604.495504  4.558422e+02     1.014179  \n",
       "min       2.000000  5.397605e-79     1.000000  \n",
       "25%     180.000000  1.000000e+00     3.000000  \n",
       "50%     300.000000  3.000000e+00     3.000000  \n",
       "75%     480.000000  5.000000e+00     4.000000  \n",
       "max    9999.000000  9.999000e+03     9.000000  "
      ]
     },
     "execution_count": 4,
     "metadata": {},
     "output_type": "execute_result"
    }
   ],
   "source": [
    "#physical activity\n",
    "#PAQ655 - Days vigorous recreational activities\n",
    "#PAD660 - Minutes vigorous recreational activities\n",
    "#PAD680 - Minutes sedentary activity\n",
    "\n",
    "#Diet\n",
    "#DBD895 - # of meals not home prepared\n",
    "#DBQ700 - How healthy is the diet (HIgher values its poor)\n",
    "\n",
    "#BMXBMI - body mass index\n",
    "#BMXWAIST - Waist cricumference\n",
    "#DXDTOLI - Lean body mass\n",
    "#DXDTRPF - Trunk percent fat \n",
    "# DXDTOPF - Total body percent fat\n",
    "# LUXSMED - smed values for fibrotic liverl assessment\n",
    "# LUXCAPM - capm values for hepatic staeatosis (fatty liver) assessment \n",
    "\n",
    "df_merge_paq_dbq[['RIDAGEYR','BMXBMI','BMXWAIST','DXDTOLI','DXDTRPF','DXDTOPF','LUXSMED','LUXCAPM','PAQ655','PAD660','PAD680','DBD895','DBQ700']].describe()"
   ]
  },
  {
   "cell_type": "code",
   "execution_count": 5,
   "id": "processed-works",
   "metadata": {},
   "outputs": [],
   "source": [
    "# df_merge_paq_dbq[df_merge_paq_dbq['PAD660']<200]['PAD660'].hist(bins=100)\n",
    "# df_merge_paq_dbq['PAD660'].hist(bins=100)"
   ]
  },
  {
   "cell_type": "markdown",
   "id": "sweet-money",
   "metadata": {},
   "source": [
    "#### Correlation Analysis"
   ]
  },
  {
   "cell_type": "code",
   "execution_count": 6,
   "id": "bigger-cleanup",
   "metadata": {},
   "outputs": [
    {
     "data": {
      "text/html": [
       "<div>\n",
       "<style scoped>\n",
       "    .dataframe tbody tr th:only-of-type {\n",
       "        vertical-align: middle;\n",
       "    }\n",
       "\n",
       "    .dataframe tbody tr th {\n",
       "        vertical-align: top;\n",
       "    }\n",
       "\n",
       "    .dataframe thead th {\n",
       "        text-align: right;\n",
       "    }\n",
       "</style>\n",
       "<table border=\"1\" class=\"dataframe\">\n",
       "  <thead>\n",
       "    <tr style=\"text-align: right;\">\n",
       "      <th></th>\n",
       "      <th>BMXBMI</th>\n",
       "      <th>BMXWAIST</th>\n",
       "      <th>DXDTOLI</th>\n",
       "      <th>DXDTRPF</th>\n",
       "      <th>DXDTOPF</th>\n",
       "      <th>LUXSMED</th>\n",
       "      <th>LUXCAPM</th>\n",
       "      <th>PAQ655</th>\n",
       "      <th>PAD660</th>\n",
       "      <th>PAD680</th>\n",
       "      <th>DBD895</th>\n",
       "      <th>DBQ700</th>\n",
       "    </tr>\n",
       "  </thead>\n",
       "  <tbody>\n",
       "    <tr>\n",
       "      <th>BMXBMI</th>\n",
       "      <td>1.000000</td>\n",
       "      <td>0.922032</td>\n",
       "      <td>0.590514</td>\n",
       "      <td>0.648821</td>\n",
       "      <td>0.574562</td>\n",
       "      <td>0.315358</td>\n",
       "      <td>0.557092</td>\n",
       "      <td>-0.051934</td>\n",
       "      <td>0.006572</td>\n",
       "      <td>0.037365</td>\n",
       "      <td>-0.012376</td>\n",
       "      <td>0.258495</td>\n",
       "    </tr>\n",
       "    <tr>\n",
       "      <th>BMXWAIST</th>\n",
       "      <td>0.922032</td>\n",
       "      <td>1.000000</td>\n",
       "      <td>0.654738</td>\n",
       "      <td>0.620683</td>\n",
       "      <td>0.504889</td>\n",
       "      <td>0.304943</td>\n",
       "      <td>0.621077</td>\n",
       "      <td>-0.100340</td>\n",
       "      <td>-0.022575</td>\n",
       "      <td>0.037633</td>\n",
       "      <td>-0.020114</td>\n",
       "      <td>0.258075</td>\n",
       "    </tr>\n",
       "    <tr>\n",
       "      <th>DXDTOLI</th>\n",
       "      <td>0.590514</td>\n",
       "      <td>0.654738</td>\n",
       "      <td>1.000000</td>\n",
       "      <td>-0.093611</td>\n",
       "      <td>-0.218424</td>\n",
       "      <td>0.196366</td>\n",
       "      <td>0.398651</td>\n",
       "      <td>-0.017465</td>\n",
       "      <td>0.145283</td>\n",
       "      <td>0.008319</td>\n",
       "      <td>0.020844</td>\n",
       "      <td>0.146189</td>\n",
       "    </tr>\n",
       "    <tr>\n",
       "      <th>DXDTRPF</th>\n",
       "      <td>0.648821</td>\n",
       "      <td>0.620683</td>\n",
       "      <td>-0.093611</td>\n",
       "      <td>1.000000</td>\n",
       "      <td>0.953194</td>\n",
       "      <td>0.123633</td>\n",
       "      <td>0.421996</td>\n",
       "      <td>-0.099048</td>\n",
       "      <td>-0.184775</td>\n",
       "      <td>0.058961</td>\n",
       "      <td>-0.041469</td>\n",
       "      <td>0.191127</td>\n",
       "    </tr>\n",
       "    <tr>\n",
       "      <th>DXDTOPF</th>\n",
       "      <td>0.574562</td>\n",
       "      <td>0.504889</td>\n",
       "      <td>-0.218424</td>\n",
       "      <td>0.953194</td>\n",
       "      <td>1.000000</td>\n",
       "      <td>0.082020</td>\n",
       "      <td>0.292859</td>\n",
       "      <td>-0.090814</td>\n",
       "      <td>-0.186635</td>\n",
       "      <td>0.045196</td>\n",
       "      <td>-0.045538</td>\n",
       "      <td>0.169893</td>\n",
       "    </tr>\n",
       "    <tr>\n",
       "      <th>LUXSMED</th>\n",
       "      <td>0.315358</td>\n",
       "      <td>0.304943</td>\n",
       "      <td>0.196366</td>\n",
       "      <td>0.123633</td>\n",
       "      <td>0.082020</td>\n",
       "      <td>1.000000</td>\n",
       "      <td>0.262383</td>\n",
       "      <td>-0.045329</td>\n",
       "      <td>0.000519</td>\n",
       "      <td>0.016474</td>\n",
       "      <td>-0.002698</td>\n",
       "      <td>0.085970</td>\n",
       "    </tr>\n",
       "    <tr>\n",
       "      <th>LUXCAPM</th>\n",
       "      <td>0.557092</td>\n",
       "      <td>0.621077</td>\n",
       "      <td>0.398651</td>\n",
       "      <td>0.421996</td>\n",
       "      <td>0.292859</td>\n",
       "      <td>0.262383</td>\n",
       "      <td>1.000000</td>\n",
       "      <td>-0.056877</td>\n",
       "      <td>-0.027610</td>\n",
       "      <td>0.018916</td>\n",
       "      <td>-0.023048</td>\n",
       "      <td>0.168744</td>\n",
       "    </tr>\n",
       "    <tr>\n",
       "      <th>PAQ655</th>\n",
       "      <td>-0.051934</td>\n",
       "      <td>-0.100340</td>\n",
       "      <td>-0.017465</td>\n",
       "      <td>-0.099048</td>\n",
       "      <td>-0.090814</td>\n",
       "      <td>-0.045329</td>\n",
       "      <td>-0.056877</td>\n",
       "      <td>1.000000</td>\n",
       "      <td>0.067699</td>\n",
       "      <td>-0.052833</td>\n",
       "      <td>-0.005331</td>\n",
       "      <td>-0.088624</td>\n",
       "    </tr>\n",
       "    <tr>\n",
       "      <th>PAD660</th>\n",
       "      <td>0.006572</td>\n",
       "      <td>-0.022575</td>\n",
       "      <td>0.145283</td>\n",
       "      <td>-0.184775</td>\n",
       "      <td>-0.186635</td>\n",
       "      <td>0.000519</td>\n",
       "      <td>-0.027610</td>\n",
       "      <td>0.067699</td>\n",
       "      <td>1.000000</td>\n",
       "      <td>-0.093959</td>\n",
       "      <td>-0.025995</td>\n",
       "      <td>0.075925</td>\n",
       "    </tr>\n",
       "    <tr>\n",
       "      <th>PAD680</th>\n",
       "      <td>0.037365</td>\n",
       "      <td>0.037633</td>\n",
       "      <td>0.008319</td>\n",
       "      <td>0.058961</td>\n",
       "      <td>0.045196</td>\n",
       "      <td>0.016474</td>\n",
       "      <td>0.018916</td>\n",
       "      <td>-0.052833</td>\n",
       "      <td>-0.093959</td>\n",
       "      <td>1.000000</td>\n",
       "      <td>0.212382</td>\n",
       "      <td>0.012412</td>\n",
       "    </tr>\n",
       "    <tr>\n",
       "      <th>DBD895</th>\n",
       "      <td>-0.012376</td>\n",
       "      <td>-0.020114</td>\n",
       "      <td>0.020844</td>\n",
       "      <td>-0.041469</td>\n",
       "      <td>-0.045538</td>\n",
       "      <td>-0.002698</td>\n",
       "      <td>-0.023048</td>\n",
       "      <td>-0.005331</td>\n",
       "      <td>-0.025995</td>\n",
       "      <td>0.212382</td>\n",
       "      <td>1.000000</td>\n",
       "      <td>0.043532</td>\n",
       "    </tr>\n",
       "    <tr>\n",
       "      <th>DBQ700</th>\n",
       "      <td>0.258495</td>\n",
       "      <td>0.258075</td>\n",
       "      <td>0.146189</td>\n",
       "      <td>0.191127</td>\n",
       "      <td>0.169893</td>\n",
       "      <td>0.085970</td>\n",
       "      <td>0.168744</td>\n",
       "      <td>-0.088624</td>\n",
       "      <td>0.075925</td>\n",
       "      <td>0.012412</td>\n",
       "      <td>0.043532</td>\n",
       "      <td>1.000000</td>\n",
       "    </tr>\n",
       "  </tbody>\n",
       "</table>\n",
       "</div>"
      ],
      "text/plain": [
       "            BMXBMI  BMXWAIST   DXDTOLI   DXDTRPF   DXDTOPF   LUXSMED  \\\n",
       "BMXBMI    1.000000  0.922032  0.590514  0.648821  0.574562  0.315358   \n",
       "BMXWAIST  0.922032  1.000000  0.654738  0.620683  0.504889  0.304943   \n",
       "DXDTOLI   0.590514  0.654738  1.000000 -0.093611 -0.218424  0.196366   \n",
       "DXDTRPF   0.648821  0.620683 -0.093611  1.000000  0.953194  0.123633   \n",
       "DXDTOPF   0.574562  0.504889 -0.218424  0.953194  1.000000  0.082020   \n",
       "LUXSMED   0.315358  0.304943  0.196366  0.123633  0.082020  1.000000   \n",
       "LUXCAPM   0.557092  0.621077  0.398651  0.421996  0.292859  0.262383   \n",
       "PAQ655   -0.051934 -0.100340 -0.017465 -0.099048 -0.090814 -0.045329   \n",
       "PAD660    0.006572 -0.022575  0.145283 -0.184775 -0.186635  0.000519   \n",
       "PAD680    0.037365  0.037633  0.008319  0.058961  0.045196  0.016474   \n",
       "DBD895   -0.012376 -0.020114  0.020844 -0.041469 -0.045538 -0.002698   \n",
       "DBQ700    0.258495  0.258075  0.146189  0.191127  0.169893  0.085970   \n",
       "\n",
       "           LUXCAPM    PAQ655    PAD660    PAD680    DBD895    DBQ700  \n",
       "BMXBMI    0.557092 -0.051934  0.006572  0.037365 -0.012376  0.258495  \n",
       "BMXWAIST  0.621077 -0.100340 -0.022575  0.037633 -0.020114  0.258075  \n",
       "DXDTOLI   0.398651 -0.017465  0.145283  0.008319  0.020844  0.146189  \n",
       "DXDTRPF   0.421996 -0.099048 -0.184775  0.058961 -0.041469  0.191127  \n",
       "DXDTOPF   0.292859 -0.090814 -0.186635  0.045196 -0.045538  0.169893  \n",
       "LUXSMED   0.262383 -0.045329  0.000519  0.016474 -0.002698  0.085970  \n",
       "LUXCAPM   1.000000 -0.056877 -0.027610  0.018916 -0.023048  0.168744  \n",
       "PAQ655   -0.056877  1.000000  0.067699 -0.052833 -0.005331 -0.088624  \n",
       "PAD660   -0.027610  0.067699  1.000000 -0.093959 -0.025995  0.075925  \n",
       "PAD680    0.018916 -0.052833 -0.093959  1.000000  0.212382  0.012412  \n",
       "DBD895   -0.023048 -0.005331 -0.025995  0.212382  1.000000  0.043532  \n",
       "DBQ700    0.168744 -0.088624  0.075925  0.012412  0.043532  1.000000  "
      ]
     },
     "execution_count": 6,
     "metadata": {},
     "output_type": "execute_result"
    }
   ],
   "source": [
    "df_merge_paq_dbq[['BMXBMI','BMXWAIST','DXDTOLI','DXDTRPF','DXDTOPF','LUXSMED','LUXCAPM','PAQ655','PAD660','PAD680','DBD895','DBQ700']].corr()"
   ]
  },
  {
   "cell_type": "code",
   "execution_count": 7,
   "id": "protecting-marathon",
   "metadata": {},
   "outputs": [],
   "source": [
    "#### Graphical plots"
   ]
  },
  {
   "cell_type": "code",
   "execution_count": 8,
   "id": "together-gardening",
   "metadata": {},
   "outputs": [
    {
     "data": {
      "text/plain": [
       "Text(0, 0.5, 'Trunk percent Fat')"
      ]
     },
     "execution_count": 8,
     "metadata": {},
     "output_type": "execute_result"
    },
    {
     "data": {
      "image/png": "[encoded data removed]",
      "text/plain": [
       "<Figure size 432x288 with 1 Axes>"
      ]
     },
     "metadata": {
      "needs_background": "light"
     },
     "output_type": "display_data"
    }
   ],
   "source": [
    "df_merge_paq_dbq[['DBQ700','DXDTRPF']].groupby(df_merge_paq_dbq['DBQ700']).mean().plot(marker='*',x='DBQ700',y='DXDTRPF')\n",
    "plt.xlabel('Diet healthiness(Higher values indicates poor)')\n",
    "plt.ylabel('Trunk percent Fat')\n",
    "#"
   ]
  },
  {
   "cell_type": "markdown",
   "id": "primary-library",
   "metadata": {},
   "source": [
    "#### Linear Regression model Analysis"
   ]
  },
  {
   "cell_type": "code",
   "execution_count": 9,
   "id": "dated-campbell",
   "metadata": {},
   "outputs": [],
   "source": [
    "### Research Question: Is there an association between Trunk Fat percentage and healthiness of diet?\n",
    "# Testing done using Ordinary Least Square (OLS) regression. Dependant variable: Trunk Fat percentage\n",
    "###     Null hypothesis (H0): There is NO association;\n",
    "###     Alternative hypothesis (H1): There is an association.\n"
   ]
  },
  {
   "cell_type": "code",
   "execution_count": 10,
   "id": "suburban-nevada",
   "metadata": {},
   "outputs": [
    {
     "name": "stdout",
     "output_type": "stream",
     "text": [
      "                            OLS Regression Results                            \n",
      "==============================================================================\n",
      "Dep. Variable:                DXDTRPF   R-squared:                       0.037\n",
      "Model:                            OLS   Adj. R-squared:                  0.036\n",
      "Method:                 Least Squares   F-statistic:                     89.06\n",
      "Date:                Fri, 10 Dec 2021   Prob (F-statistic):           8.88e-21\n",
      "Time:                        08:05:22   Log-Likelihood:                -8373.8\n",
      "No. Observations:                2351   AIC:                         1.675e+04\n",
      "Df Residuals:                    2349   BIC:                         1.676e+04\n",
      "Df Model:                           1                                         \n",
      "Covariance Type:            nonrobust                                         \n",
      "==============================================================================\n",
      "                 coef    std err          t      P>|t|      [0.025      0.975]\n",
      "------------------------------------------------------------------------------\n",
      "Intercept     27.4323      0.576     47.648      0.000      26.303      28.561\n",
      "DBQ700         1.6598      0.176      9.437      0.000       1.315       2.005\n",
      "==============================================================================\n",
      "Omnibus:                       55.651   Durbin-Watson:                   2.041\n",
      "Prob(Omnibus):                  0.000   Jarque-Bera (JB):               45.277\n",
      "Skew:                          -0.264   Prob(JB):                     1.47e-10\n",
      "Kurtosis:                       2.571   Cond. No.                         11.6\n",
      "==============================================================================\n",
      "\n",
      "Notes:\n",
      "[1] Standard Errors assume that the covariance matrix of the errors is correctly specified.\n"
     ]
    }
   ],
   "source": [
    "model = smf.ols(formula=\"DXDTRPF ~ DBQ700\", data=df_merge_paq_dbq).fit()\n",
    "print(model.summary())"
   ]
  },
  {
   "cell_type": "code",
   "execution_count": 11,
   "id": "through-avatar",
   "metadata": {},
   "outputs": [],
   "source": [
    "### R-squared = 0.041, meaning 4% of the outcome variability is explained by the model.\n",
    "### t-ratio (for a t-distribution) of 10.576 (fourth column) which gives a p-value <0.001 (fifth column),\n",
    "### 95% confidence interval for the beta coefficient between 1.475(lower bound, sixth column) and 2.147 (upper bound, seventh column\n",
    "\n",
    "### We can reject the null hypothesis. There is a positive (beta coefficient>1.0) association, which is statistically significant (p<0.01 and 95% CI does not include a coefficient=0.0) "
   ]
  },
  {
   "cell_type": "code",
   "execution_count": 12,
   "id": "statutory-perfume",
   "metadata": {},
   "outputs": [
    {
     "data": {
      "text/plain": [
       "[<matplotlib.lines.Line2D at 0x1cd502b0>]"
      ]
     },
     "execution_count": 12,
     "metadata": {},
     "output_type": "execute_result"
    },
    {
     "data": {
      "image/png": "[encoded data removed]",
      "text/plain": [
       "<Figure size 432x288 with 1 Axes>"
      ]
     },
     "metadata": {
      "needs_background": "light"
     },
     "output_type": "display_data"
    }
   ],
   "source": [
    "x=[i for i in range(0,6)]\n",
    "\n",
    "y=[model.params[0]+i*model.params[1] for i in x]\n",
    "\n",
    "plt.plot(df_merge_paq_dbq['DBQ700'],df_merge_paq_dbq['DXDTRPF'],'*')\n",
    "plt.plot(x,y,'r')"
   ]
  },
  {
   "cell_type": "code",
   "execution_count": 13,
   "id": "recorded-stations",
   "metadata": {},
   "outputs": [],
   "source": [
    "### Research Question: Is there an association between Trunk Fat percentage and amount of time spent on vigorous recreational activities?"
   ]
  },
  {
   "cell_type": "code",
   "execution_count": 14,
   "id": "equal-model",
   "metadata": {},
   "outputs": [
    {
     "data": {
      "text/plain": [
       "Text(0, 0.5, 'Trunk percent Fat')"
      ]
     },
     "execution_count": 14,
     "metadata": {},
     "output_type": "execute_result"
    },
    {
     "data": {
      "image/png": "[encoded data removed]",
      "text/plain": [
       "<Figure size 432x288 with 1 Axes>"
      ]
     },
     "metadata": {
      "needs_background": "light"
     },
     "output_type": "display_data"
    }
   ],
   "source": [
    "df_merge_paq_dbq[['PAD660','DXDTRPF']].groupby(pd.cut(df_merge_paq_dbq['PAD660'], [df_merge_paq_dbq['PAD660'].min(),df_merge_paq_dbq['PAD660'].describe()['25%'], df_merge_paq_dbq['PAD660'].describe()['50%'],df_merge_paq_dbq['PAD660'].describe()['75%'],df_merge_paq_dbq['PAD660'].max()])).mean().plot(marker='*',x='PAD660',y='DXDTRPF')\n",
    "plt.xlabel('Minutes vigorous recreational activities')\n",
    "plt.ylabel('Trunk percent Fat')"
   ]
  },
  {
   "cell_type": "code",
   "execution_count": 15,
   "id": "combined-limitation",
   "metadata": {},
   "outputs": [
    {
     "name": "stdout",
     "output_type": "stream",
     "text": [
      "                            OLS Regression Results                            \n",
      "==============================================================================\n",
      "Dep. Variable:                DXDTRPF   R-squared:                       0.034\n",
      "Model:                            OLS   Adj. R-squared:                  0.033\n",
      "Method:                 Least Squares   F-statistic:                     27.68\n",
      "Date:                Fri, 10 Dec 2021   Prob (F-statistic):           1.85e-07\n",
      "Time:                        08:05:25   Log-Likelihood:                -2785.9\n",
      "No. Observations:                 785   AIC:                             5576.\n",
      "Df Residuals:                     783   BIC:                             5585.\n",
      "Df Model:                           1                                         \n",
      "Covariance Type:            nonrobust                                         \n",
      "==============================================================================\n",
      "                 coef    std err          t      P>|t|      [0.025      0.975]\n",
      "------------------------------------------------------------------------------\n",
      "Intercept     31.9062      0.526     60.622      0.000      30.873      32.939\n",
      "PAD660        -0.0312      0.006     -5.261      0.000      -0.043      -0.020\n",
      "==============================================================================\n",
      "Omnibus:                       21.092   Durbin-Watson:                   2.067\n",
      "Prob(Omnibus):                  0.000   Jarque-Bera (JB):               11.025\n",
      "Skew:                           0.052   Prob(JB):                      0.00404\n",
      "Kurtosis:                       2.429   Cond. No.                         155.\n",
      "==============================================================================\n",
      "\n",
      "Notes:\n",
      "[1] Standard Errors assume that the covariance matrix of the errors is correctly specified.\n"
     ]
    }
   ],
   "source": [
    "model = smf.ols(formula=\"DXDTRPF ~ PAD660\", data=df_merge_paq_dbq).fit()\n",
    "print(model.summary())"
   ]
  },
  {
   "cell_type": "code",
   "execution_count": 16,
   "id": "confirmed-ukraine",
   "metadata": {},
   "outputs": [
    {
     "data": {
      "text/plain": [
       "[<matplotlib.lines.Line2D at 0x1d01ec70>]"
      ]
     },
     "execution_count": 16,
     "metadata": {},
     "output_type": "execute_result"
    },
    {
     "data": {
      "image/png": "[encoded data removed]",
      "text/plain": [
       "<Figure size 432x288 with 1 Axes>"
      ]
     },
     "metadata": {
      "needs_background": "light"
     },
     "output_type": "display_data"
    }
   ],
   "source": [
    "x=[i for i in range(10,481)]\n",
    "\n",
    "y=[model.params[0]+i*model.params[1] for i in x]\n",
    "\n",
    "plt.plot(df_merge_paq_dbq['PAD660'],df_merge_paq_dbq['DXDTRPF'],'*')\n",
    "plt.plot(x,y,'r')"
   ]
  },
  {
   "cell_type": "code",
   "execution_count": 17,
   "id": "sixth-alloy",
   "metadata": {},
   "outputs": [],
   "source": [
    "### Research Question: Is there an association between Trunk Fat percentage and the healthiness of diet plus amount of time spent on vigorous recreational activities?\n",
    "### Multilinear regression Analysis"
   ]
  },
  {
   "cell_type": "code",
   "execution_count": 18,
   "id": "removed-limitation",
   "metadata": {},
   "outputs": [
    {
     "name": "stdout",
     "output_type": "stream",
     "text": [
      "                            OLS Regression Results                            \n",
      "==============================================================================\n",
      "Dep. Variable:                DXDTRPF   R-squared:                       0.073\n",
      "Model:                            OLS   Adj. R-squared:                  0.070\n",
      "Method:                 Least Squares   F-statistic:                     30.69\n",
      "Date:                Fri, 10 Dec 2021   Prob (F-statistic):           1.48e-13\n",
      "Time:                        08:05:27   Log-Likelihood:                -2769.8\n",
      "No. Observations:                 785   AIC:                             5546.\n",
      "Df Residuals:                     782   BIC:                             5560.\n",
      "Df Model:                           2                                         \n",
      "Covariance Type:            nonrobust                                         \n",
      "==============================================================================\n",
      "                 coef    std err          t      P>|t|      [0.025      0.975]\n",
      "------------------------------------------------------------------------------\n",
      "Intercept     27.0206      0.999     27.035      0.000      25.059      28.983\n",
      "PAD660        -0.0337      0.006     -5.767      0.000      -0.045      -0.022\n",
      "DBQ700         1.7763      0.311      5.708      0.000       1.165       2.387\n",
      "==============================================================================\n",
      "Omnibus:                       18.377   Durbin-Watson:                   2.099\n",
      "Prob(Omnibus):                  0.000   Jarque-Bera (JB):                9.848\n",
      "Skew:                           0.015   Prob(JB):                      0.00727\n",
      "Kurtosis:                       2.452   Cond. No.                         311.\n",
      "==============================================================================\n",
      "\n",
      "Notes:\n",
      "[1] Standard Errors assume that the covariance matrix of the errors is correctly specified.\n"
     ]
    }
   ],
   "source": [
    "model = smf.ols(formula=\"DXDTRPF ~ PAD660+DBQ700\", data=df_merge_paq_dbq).fit()\n",
    "print(model.summary())"
   ]
  },
  {
   "cell_type": "code",
   "execution_count": 19,
   "id": "vertical-productivity",
   "metadata": {},
   "outputs": [
    {
     "data": {
      "text/html": [
       "<div>\n",
       "<style scoped>\n",
       "    .dataframe tbody tr th:only-of-type {\n",
       "        vertical-align: middle;\n",
       "    }\n",
       "\n",
       "    .dataframe tbody tr th {\n",
       "        vertical-align: top;\n",
       "    }\n",
       "\n",
       "    .dataframe thead th {\n",
       "        text-align: right;\n",
       "    }\n",
       "</style>\n",
       "<table border=\"1\" class=\"dataframe\">\n",
       "  <thead>\n",
       "    <tr style=\"text-align: right;\">\n",
       "      <th></th>\n",
       "      <th>BMXBMI</th>\n",
       "      <th>BMXWAIST</th>\n",
       "      <th>LBXIN</th>\n",
       "      <th>loge_LBXIN</th>\n",
       "      <th>PAD660</th>\n",
       "      <th>PAD680</th>\n",
       "      <th>PAQ655</th>\n",
       "      <th>DBD895</th>\n",
       "      <th>DBQ700</th>\n",
       "    </tr>\n",
       "  </thead>\n",
       "  <tbody>\n",
       "    <tr>\n",
       "      <th>count</th>\n",
       "      <td>2455.000000</td>\n",
       "      <td>2353.000000</td>\n",
       "      <td>2352.000000</td>\n",
       "      <td>2352.000000</td>\n",
       "      <td>565.000000</td>\n",
       "      <td>2.498000e+03</td>\n",
       "      <td>566.000000</td>\n",
       "      <td>2.502000e+03</td>\n",
       "      <td>2502.000000</td>\n",
       "    </tr>\n",
       "    <tr>\n",
       "      <th>mean</th>\n",
       "      <td>29.848065</td>\n",
       "      <td>100.706672</td>\n",
       "      <td>14.708406</td>\n",
       "      <td>2.335207</td>\n",
       "      <td>88.959292</td>\n",
       "      <td>3.806209e+02</td>\n",
       "      <td>3.402827</td>\n",
       "      <td>2.529616e+01</td>\n",
       "      <td>3.057154</td>\n",
       "    </tr>\n",
       "    <tr>\n",
       "      <th>std</th>\n",
       "      <td>7.438616</td>\n",
       "      <td>16.923761</td>\n",
       "      <td>21.165400</td>\n",
       "      <td>0.772702</td>\n",
       "      <td>420.742185</td>\n",
       "      <td>7.235781e+02</td>\n",
       "      <td>1.554984</td>\n",
       "      <td>4.600016e+02</td>\n",
       "      <td>1.013469</td>\n",
       "    </tr>\n",
       "    <tr>\n",
       "      <th>min</th>\n",
       "      <td>14.900000</td>\n",
       "      <td>63.200000</td>\n",
       "      <td>0.710000</td>\n",
       "      <td>-0.342490</td>\n",
       "      <td>10.000000</td>\n",
       "      <td>5.397605e-79</td>\n",
       "      <td>1.000000</td>\n",
       "      <td>5.397605e-79</td>\n",
       "      <td>1.000000</td>\n",
       "    </tr>\n",
       "    <tr>\n",
       "      <th>25%</th>\n",
       "      <td>24.700000</td>\n",
       "      <td>88.400000</td>\n",
       "      <td>6.237500</td>\n",
       "      <td>1.830579</td>\n",
       "      <td>40.000000</td>\n",
       "      <td>1.800000e+02</td>\n",
       "      <td>2.000000</td>\n",
       "      <td>1.000000e+00</td>\n",
       "      <td>2.000000</td>\n",
       "    </tr>\n",
       "    <tr>\n",
       "      <th>50%</th>\n",
       "      <td>28.500000</td>\n",
       "      <td>99.200000</td>\n",
       "      <td>9.955000</td>\n",
       "      <td>2.298075</td>\n",
       "      <td>60.000000</td>\n",
       "      <td>3.000000e+02</td>\n",
       "      <td>3.000000</td>\n",
       "      <td>2.000000e+00</td>\n",
       "      <td>3.000000</td>\n",
       "    </tr>\n",
       "    <tr>\n",
       "      <th>75%</th>\n",
       "      <td>33.600000</td>\n",
       "      <td>111.300000</td>\n",
       "      <td>16.405000</td>\n",
       "      <td>2.797586</td>\n",
       "      <td>90.000000</td>\n",
       "      <td>4.800000e+02</td>\n",
       "      <td>4.000000</td>\n",
       "      <td>4.000000e+00</td>\n",
       "      <td>4.000000</td>\n",
       "    </tr>\n",
       "    <tr>\n",
       "      <th>max</th>\n",
       "      <td>86.200000</td>\n",
       "      <td>169.500000</td>\n",
       "      <td>485.100000</td>\n",
       "      <td>6.184355</td>\n",
       "      <td>9999.000000</td>\n",
       "      <td>9.999000e+03</td>\n",
       "      <td>7.000000</td>\n",
       "      <td>9.999000e+03</td>\n",
       "      <td>5.000000</td>\n",
       "    </tr>\n",
       "  </tbody>\n",
       "</table>\n",
       "</div>"
      ],
      "text/plain": [
       "            BMXBMI     BMXWAIST        LBXIN   loge_LBXIN       PAD660  \\\n",
       "count  2455.000000  2353.000000  2352.000000  2352.000000   565.000000   \n",
       "mean     29.848065   100.706672    14.708406     2.335207    88.959292   \n",
       "std       7.438616    16.923761    21.165400     0.772702   420.742185   \n",
       "min      14.900000    63.200000     0.710000    -0.342490    10.000000   \n",
       "25%      24.700000    88.400000     6.237500     1.830579    40.000000   \n",
       "50%      28.500000    99.200000     9.955000     2.298075    60.000000   \n",
       "75%      33.600000   111.300000    16.405000     2.797586    90.000000   \n",
       "max      86.200000   169.500000   485.100000     6.184355  9999.000000   \n",
       "\n",
       "             PAD680      PAQ655        DBD895       DBQ700  \n",
       "count  2.498000e+03  566.000000  2.502000e+03  2502.000000  \n",
       "mean   3.806209e+02    3.402827  2.529616e+01     3.057154  \n",
       "std    7.235781e+02    1.554984  4.600016e+02     1.013469  \n",
       "min    5.397605e-79    1.000000  5.397605e-79     1.000000  \n",
       "25%    1.800000e+02    2.000000  1.000000e+00     2.000000  \n",
       "50%    3.000000e+02    3.000000  2.000000e+00     3.000000  \n",
       "75%    4.800000e+02    4.000000  4.000000e+00     4.000000  \n",
       "max    9.999000e+03    7.000000  9.999000e+03     5.000000  "
      ]
     },
     "execution_count": 19,
     "metadata": {},
     "output_type": "execute_result"
    }
   ],
   "source": [
    "df_merge_paq_dbq_I[['BMXBMI','BMXWAIST','LBXIN','loge_LBXIN','PAD660','PAD680','PAQ655','DBD895','DBQ700']].describe()"
   ]
  },
  {
   "cell_type": "code",
   "execution_count": 20,
   "id": "anonymous-messaging",
   "metadata": {},
   "outputs": [
    {
     "data": {
      "text/html": [
       "<div>\n",
       "<style scoped>\n",
       "    .dataframe tbody tr th:only-of-type {\n",
       "        vertical-align: middle;\n",
       "    }\n",
       "\n",
       "    .dataframe tbody tr th {\n",
       "        vertical-align: top;\n",
       "    }\n",
       "\n",
       "    .dataframe thead th {\n",
       "        text-align: right;\n",
       "    }\n",
       "</style>\n",
       "<table border=\"1\" class=\"dataframe\">\n",
       "  <thead>\n",
       "    <tr style=\"text-align: right;\">\n",
       "      <th></th>\n",
       "      <th>BMXBMI</th>\n",
       "      <th>BMXWAIST</th>\n",
       "      <th>LBXIN</th>\n",
       "      <th>loge_LBXIN</th>\n",
       "      <th>PAQ655</th>\n",
       "      <th>PAD660</th>\n",
       "      <th>PAD680</th>\n",
       "      <th>DBD895</th>\n",
       "      <th>DBQ700</th>\n",
       "    </tr>\n",
       "  </thead>\n",
       "  <tbody>\n",
       "    <tr>\n",
       "      <th>BMXBMI</th>\n",
       "      <td>1.000000</td>\n",
       "      <td>0.903447</td>\n",
       "      <td>0.305328</td>\n",
       "      <td>0.545119</td>\n",
       "      <td>-0.081733</td>\n",
       "      <td>-0.027775</td>\n",
       "      <td>0.024277</td>\n",
       "      <td>-0.006525</td>\n",
       "      <td>0.227851</td>\n",
       "    </tr>\n",
       "    <tr>\n",
       "      <th>BMXWAIST</th>\n",
       "      <td>0.903447</td>\n",
       "      <td>1.000000</td>\n",
       "      <td>0.310940</td>\n",
       "      <td>0.561232</td>\n",
       "      <td>-0.105622</td>\n",
       "      <td>-0.019130</td>\n",
       "      <td>0.036838</td>\n",
       "      <td>-0.022677</td>\n",
       "      <td>0.209447</td>\n",
       "    </tr>\n",
       "    <tr>\n",
       "      <th>LBXIN</th>\n",
       "      <td>0.305328</td>\n",
       "      <td>0.310940</td>\n",
       "      <td>1.000000</td>\n",
       "      <td>0.711160</td>\n",
       "      <td>-0.115817</td>\n",
       "      <td>-0.004591</td>\n",
       "      <td>0.049172</td>\n",
       "      <td>-0.014067</td>\n",
       "      <td>0.101363</td>\n",
       "    </tr>\n",
       "    <tr>\n",
       "      <th>loge_LBXIN</th>\n",
       "      <td>0.545119</td>\n",
       "      <td>0.561232</td>\n",
       "      <td>0.711160</td>\n",
       "      <td>1.000000</td>\n",
       "      <td>-0.145211</td>\n",
       "      <td>0.012615</td>\n",
       "      <td>0.036482</td>\n",
       "      <td>-0.015960</td>\n",
       "      <td>0.179484</td>\n",
       "    </tr>\n",
       "    <tr>\n",
       "      <th>PAQ655</th>\n",
       "      <td>-0.081733</td>\n",
       "      <td>-0.105622</td>\n",
       "      <td>-0.115817</td>\n",
       "      <td>-0.145211</td>\n",
       "      <td>1.000000</td>\n",
       "      <td>0.099000</td>\n",
       "      <td>-0.037666</td>\n",
       "      <td>-0.011553</td>\n",
       "      <td>-0.218666</td>\n",
       "    </tr>\n",
       "    <tr>\n",
       "      <th>PAD660</th>\n",
       "      <td>-0.027775</td>\n",
       "      <td>-0.019130</td>\n",
       "      <td>-0.004591</td>\n",
       "      <td>0.012615</td>\n",
       "      <td>0.099000</td>\n",
       "      <td>1.000000</td>\n",
       "      <td>-0.011007</td>\n",
       "      <td>-0.006185</td>\n",
       "      <td>0.022668</td>\n",
       "    </tr>\n",
       "    <tr>\n",
       "      <th>PAD680</th>\n",
       "      <td>0.024277</td>\n",
       "      <td>0.036838</td>\n",
       "      <td>0.049172</td>\n",
       "      <td>0.036482</td>\n",
       "      <td>-0.037666</td>\n",
       "      <td>-0.011007</td>\n",
       "      <td>1.000000</td>\n",
       "      <td>0.226232</td>\n",
       "      <td>0.050207</td>\n",
       "    </tr>\n",
       "    <tr>\n",
       "      <th>DBD895</th>\n",
       "      <td>-0.006525</td>\n",
       "      <td>-0.022677</td>\n",
       "      <td>-0.014067</td>\n",
       "      <td>-0.015960</td>\n",
       "      <td>-0.011553</td>\n",
       "      <td>-0.006185</td>\n",
       "      <td>0.226232</td>\n",
       "      <td>1.000000</td>\n",
       "      <td>0.045905</td>\n",
       "    </tr>\n",
       "    <tr>\n",
       "      <th>DBQ700</th>\n",
       "      <td>0.227851</td>\n",
       "      <td>0.209447</td>\n",
       "      <td>0.101363</td>\n",
       "      <td>0.179484</td>\n",
       "      <td>-0.218666</td>\n",
       "      <td>0.022668</td>\n",
       "      <td>0.050207</td>\n",
       "      <td>0.045905</td>\n",
       "      <td>1.000000</td>\n",
       "    </tr>\n",
       "  </tbody>\n",
       "</table>\n",
       "</div>"
      ],
      "text/plain": [
       "              BMXBMI  BMXWAIST     LBXIN  loge_LBXIN    PAQ655    PAD660  \\\n",
       "BMXBMI      1.000000  0.903447  0.305328    0.545119 -0.081733 -0.027775   \n",
       "BMXWAIST    0.903447  1.000000  0.310940    0.561232 -0.105622 -0.019130   \n",
       "LBXIN       0.305328  0.310940  1.000000    0.711160 -0.115817 -0.004591   \n",
       "loge_LBXIN  0.545119  0.561232  0.711160    1.000000 -0.145211  0.012615   \n",
       "PAQ655     -0.081733 -0.105622 -0.115817   -0.145211  1.000000  0.099000   \n",
       "PAD660     -0.027775 -0.019130 -0.004591    0.012615  0.099000  1.000000   \n",
       "PAD680      0.024277  0.036838  0.049172    0.036482 -0.037666 -0.011007   \n",
       "DBD895     -0.006525 -0.022677 -0.014067   -0.015960 -0.011553 -0.006185   \n",
       "DBQ700      0.227851  0.209447  0.101363    0.179484 -0.218666  0.022668   \n",
       "\n",
       "              PAD680    DBD895    DBQ700  \n",
       "BMXBMI      0.024277 -0.006525  0.227851  \n",
       "BMXWAIST    0.036838 -0.022677  0.209447  \n",
       "LBXIN       0.049172 -0.014067  0.101363  \n",
       "loge_LBXIN  0.036482 -0.015960  0.179484  \n",
       "PAQ655     -0.037666 -0.011553 -0.218666  \n",
       "PAD660     -0.011007 -0.006185  0.022668  \n",
       "PAD680      1.000000  0.226232  0.050207  \n",
       "DBD895      0.226232  1.000000  0.045905  \n",
       "DBQ700      0.050207  0.045905  1.000000  "
      ]
     },
     "execution_count": 20,
     "metadata": {},
     "output_type": "execute_result"
    }
   ],
   "source": [
    "df_merge_paq_dbq_I[['BMXBMI','BMXWAIST','LBXIN','loge_LBXIN','PAQ655','PAD660','PAD680','DBD895','DBQ700']].corr()"
   ]
  },
  {
   "cell_type": "code",
   "execution_count": 21,
   "id": "monetary-miracle",
   "metadata": {},
   "outputs": [
    {
     "data": {
      "text/plain": [
       "<AxesSubplot:xlabel='DBQ700'>"
      ]
     },
     "execution_count": 21,
     "metadata": {},
     "output_type": "execute_result"
    },
    {
     "data": {
      "image/png": "[encoded data removed]",
      "text/plain": [
       "<Figure size 432x288 with 1 Axes>"
      ]
     },
     "metadata": {
      "needs_background": "light"
     },
     "output_type": "display_data"
    }
   ],
   "source": [
    "df_merge_paq_dbq_I[['DBQ700','loge_LBXIN']].groupby(df_merge_paq_dbq_I['DBQ700']).mean().plot(marker='*',x='DBQ700',y='loge_LBXIN')"
   ]
  },
  {
   "cell_type": "code",
   "execution_count": 22,
   "id": "satellite-station",
   "metadata": {},
   "outputs": [
    {
     "data": {
      "text/plain": [
       "<AxesSubplot:xlabel='DBQ700'>"
      ]
     },
     "execution_count": 22,
     "metadata": {},
     "output_type": "execute_result"
    },
    {
     "data": {
      "image/png": "[encoded data removed]",
      "text/plain": [
       "<Figure size 432x288 with 1 Axes>"
      ]
     },
     "metadata": {
      "needs_background": "light"
     },
     "output_type": "display_data"
    }
   ],
   "source": [
    "df_merge_paq_dbq_I[['DBQ700','LBXIN']].groupby(df_merge_paq_dbq_I['DBQ700']).mean().plot(marker='*',x='DBQ700',y='LBXIN')"
   ]
  },
  {
   "cell_type": "code",
   "execution_count": 23,
   "id": "legitimate-sector",
   "metadata": {},
   "outputs": [
    {
     "name": "stdout",
     "output_type": "stream",
     "text": [
      "                            OLS Regression Results                            \n",
      "==============================================================================\n",
      "Dep. Variable:             loge_LBXIN   R-squared:                       0.032\n",
      "Model:                            OLS   Adj. R-squared:                  0.032\n",
      "Method:                 Least Squares   F-statistic:                     78.22\n",
      "Date:                Fri, 10 Dec 2021   Prob (F-statistic):           1.77e-18\n",
      "Time:                        08:05:30   Log-Likelihood:                -2691.8\n",
      "No. Observations:                2352   AIC:                             5388.\n",
      "Df Residuals:                    2350   BIC:                             5399.\n",
      "Df Model:                           1                                         \n",
      "Covariance Type:            nonrobust                                         \n",
      "==============================================================================\n",
      "                 coef    std err          t      P>|t|      [0.025      0.975]\n",
      "------------------------------------------------------------------------------\n",
      "Intercept      1.9163      0.050     38.413      0.000       1.819       2.014\n",
      "DBQ700         0.1368      0.015      8.844      0.000       0.106       0.167\n",
      "==============================================================================\n",
      "Omnibus:                      133.029   Durbin-Watson:                   1.928\n",
      "Prob(Omnibus):                  0.000   Jarque-Bera (JB):              263.089\n",
      "Skew:                           0.395   Prob(JB):                     7.43e-58\n",
      "Kurtosis:                       4.436   Cond. No.                         11.2\n",
      "==============================================================================\n",
      "\n",
      "Notes:\n",
      "[1] Standard Errors assume that the covariance matrix of the errors is correctly specified.\n"
     ]
    }
   ],
   "source": [
    "model = smf.ols(formula=\"loge_LBXIN ~ DBQ700\", data=df_merge_paq_dbq_I).fit()\n",
    "print(model.summary())"
   ]
  },
  {
   "cell_type": "code",
   "execution_count": 24,
   "id": "varying-crowd",
   "metadata": {},
   "outputs": [
    {
     "data": {
      "text/plain": [
       "[<matplotlib.lines.Line2D at 0x1d13a1f0>]"
      ]
     },
     "execution_count": 24,
     "metadata": {},
     "output_type": "execute_result"
    },
    {
     "data": {
      "image/png": "[encoded data removed]",
      "text/plain": [
       "<Figure size 432x288 with 1 Axes>"
      ]
     },
     "metadata": {
      "needs_background": "light"
     },
     "output_type": "display_data"
    }
   ],
   "source": [
    "x=[i for i in range(0,6)]\n",
    "\n",
    "y=[model.params[0]+i*model.params[1] for i in x]\n",
    "\n",
    "plt.plot(df_merge_paq_dbq_I['DBQ700'],df_merge_paq_dbq_I['loge_LBXIN'],'*')\n",
    "plt.plot(x,y,'r')"
   ]
  },
  {
   "cell_type": "code",
   "execution_count": 25,
   "id": "double-brake",
   "metadata": {},
   "outputs": [
    {
     "name": "stdout",
     "output_type": "stream",
     "text": [
      "(532, 3)\n"
     ]
    },
    {
     "data": {
      "text/html": [
       "<div>\n",
       "<style scoped>\n",
       "    .dataframe tbody tr th:only-of-type {\n",
       "        vertical-align: middle;\n",
       "    }\n",
       "\n",
       "    .dataframe tbody tr th {\n",
       "        vertical-align: top;\n",
       "    }\n",
       "\n",
       "    .dataframe thead th {\n",
       "        text-align: right;\n",
       "    }\n",
       "</style>\n",
       "<table border=\"1\" class=\"dataframe\">\n",
       "  <thead>\n",
       "    <tr style=\"text-align: right;\">\n",
       "      <th></th>\n",
       "      <th>PAQ655</th>\n",
       "      <th>loge_LBXIN</th>\n",
       "      <th>LBXIN</th>\n",
       "    </tr>\n",
       "  </thead>\n",
       "  <tbody>\n",
       "    <tr>\n",
       "      <th>PAQ655</th>\n",
       "      <td>1.000000</td>\n",
       "      <td>-0.145211</td>\n",
       "      <td>-0.115817</td>\n",
       "    </tr>\n",
       "    <tr>\n",
       "      <th>loge_LBXIN</th>\n",
       "      <td>-0.145211</td>\n",
       "      <td>1.000000</td>\n",
       "      <td>0.834166</td>\n",
       "    </tr>\n",
       "    <tr>\n",
       "      <th>LBXIN</th>\n",
       "      <td>-0.115817</td>\n",
       "      <td>0.834166</td>\n",
       "      <td>1.000000</td>\n",
       "    </tr>\n",
       "  </tbody>\n",
       "</table>\n",
       "</div>"
      ],
      "text/plain": [
       "              PAQ655  loge_LBXIN     LBXIN\n",
       "PAQ655      1.000000   -0.145211 -0.115817\n",
       "loge_LBXIN -0.145211    1.000000  0.834166\n",
       "LBXIN      -0.115817    0.834166  1.000000"
      ]
     },
     "execution_count": 25,
     "metadata": {},
     "output_type": "execute_result"
    }
   ],
   "source": [
    "print(df_merge_paq_dbq_I[['PAQ655','loge_LBXIN','LBXIN']].dropna().shape)\n",
    "df_merge_paq_dbq_I[['PAQ655','loge_LBXIN','LBXIN']].dropna().corr()"
   ]
  },
  {
   "cell_type": "code",
   "execution_count": 26,
   "id": "labeled-midwest",
   "metadata": {},
   "outputs": [
    {
     "data": {
      "text/plain": [
       "<AxesSubplot:xlabel='PAQ655'>"
      ]
     },
     "execution_count": 26,
     "metadata": {},
     "output_type": "execute_result"
    },
    {
     "data": {
      "image/png": "[encoded data removed]",
      "text/plain": [
       "<Figure size 432x288 with 1 Axes>"
      ]
     },
     "metadata": {
      "needs_background": "light"
     },
     "output_type": "display_data"
    }
   ],
   "source": [
    "df_merge_paq_dbq_I[['PAQ655','loge_LBXIN']].groupby(df_merge_paq_dbq_I['PAQ655']).mean().plot(marker='*',x='PAQ655',y='loge_LBXIN')"
   ]
  },
  {
   "cell_type": "code",
   "execution_count": 27,
   "id": "limiting-class",
   "metadata": {},
   "outputs": [
    {
     "data": {
      "text/plain": [
       "<AxesSubplot:xlabel='PAQ655'>"
      ]
     },
     "execution_count": 27,
     "metadata": {},
     "output_type": "execute_result"
    },
    {
     "data": {
      "image/png": "[encoded data removed]",
      "text/plain": [
       "<Figure size 432x288 with 1 Axes>"
      ]
     },
     "metadata": {
      "needs_background": "light"
     },
     "output_type": "display_data"
    }
   ],
   "source": [
    "df_merge_paq_dbq_I[['PAQ655','LBXIN']].groupby(df_merge_paq_dbq_I['PAQ655']).mean().plot(marker='*',x='PAQ655',y='LBXIN')"
   ]
  },
  {
   "cell_type": "code",
   "execution_count": 28,
   "id": "lovely-leone",
   "metadata": {},
   "outputs": [
    {
     "name": "stdout",
     "output_type": "stream",
     "text": [
      "                            OLS Regression Results                            \n",
      "==============================================================================\n",
      "Dep. Variable:             loge_LBXIN   R-squared:                       0.021\n",
      "Model:                            OLS   Adj. R-squared:                  0.019\n",
      "Method:                 Least Squares   F-statistic:                     11.42\n",
      "Date:                Fri, 10 Dec 2021   Prob (F-statistic):           0.000782\n",
      "Time:                        08:05:35   Log-Likelihood:                -584.17\n",
      "No. Observations:                 532   AIC:                             1172.\n",
      "Df Residuals:                     530   BIC:                             1181.\n",
      "Df Model:                           1                                         \n",
      "Covariance Type:            nonrobust                                         \n",
      "==============================================================================\n",
      "                 coef    std err          t      P>|t|      [0.025      0.975]\n",
      "------------------------------------------------------------------------------\n",
      "Intercept      2.4025      0.076     31.684      0.000       2.254       2.551\n",
      "PAQ655        -0.0683      0.020     -3.379      0.001      -0.108      -0.029\n",
      "==============================================================================\n",
      "Omnibus:                       15.444   Durbin-Watson:                   2.018\n",
      "Prob(Omnibus):                  0.000   Jarque-Bera (JB):               17.414\n",
      "Skew:                           0.344   Prob(JB):                     0.000165\n",
      "Kurtosis:                       3.558   Cond. No.                         9.56\n",
      "==============================================================================\n",
      "\n",
      "Notes:\n",
      "[1] Standard Errors assume that the covariance matrix of the errors is correctly specified.\n"
     ]
    }
   ],
   "source": [
    "model = smf.ols(formula=\"loge_LBXIN ~ PAQ655\", data=df_merge_paq_dbq_I).fit()\n",
    "print(model.summary())"
   ]
  },
  {
   "cell_type": "code",
   "execution_count": 29,
   "id": "perceived-preservation",
   "metadata": {},
   "outputs": [
    {
     "data": {
      "text/plain": [
       "[<matplotlib.lines.Line2D at 0x1d79bc40>]"
      ]
     },
     "execution_count": 29,
     "metadata": {},
     "output_type": "execute_result"
    },
    {
     "data": {
      "image/png": "[encoded data removed]",
      "text/plain": [
       "<Figure size 432x288 with 1 Axes>"
      ]
     },
     "metadata": {
      "needs_background": "light"
     },
     "output_type": "display_data"
    }
   ],
   "source": [
    "x=[i for i in range(0,8)]\n",
    "\n",
    "y=[model.params[0]+i*model.params[1] for i in x]\n",
    "\n",
    "plt.plot(df_merge_paq_dbq_I['PAQ655'],df_merge_paq_dbq_I['loge_LBXIN'],'*')\n",
    "plt.plot(x,y,'r')"
   ]
  },
  {
   "cell_type": "code",
   "execution_count": 30,
   "id": "electronic-france",
   "metadata": {},
   "outputs": [
    {
     "name": "stdout",
     "output_type": "stream",
     "text": [
      "                            OLS Regression Results                            \n",
      "==============================================================================\n",
      "Dep. Variable:             loge_LBXIN   R-squared:                       0.079\n",
      "Model:                            OLS   Adj. R-squared:                  0.075\n",
      "Method:                 Least Squares   F-statistic:                     22.62\n",
      "Date:                Fri, 10 Dec 2021   Prob (F-statistic):           3.76e-10\n",
      "Time:                        08:05:37   Log-Likelihood:                -568.02\n",
      "No. Observations:                 532   AIC:                             1142.\n",
      "Df Residuals:                     529   BIC:                             1155.\n",
      "Df Model:                           2                                         \n",
      "Covariance Type:            nonrobust                                         \n",
      "==============================================================================\n",
      "                 coef    std err          t      P>|t|      [0.025      0.975]\n",
      "------------------------------------------------------------------------------\n",
      "Intercept      1.8002      0.128     14.069      0.000       1.549       2.052\n",
      "PAQ655        -0.0435      0.020     -2.167      0.031      -0.083      -0.004\n",
      "DBQ700         0.1854      0.032      5.756      0.000       0.122       0.249\n",
      "==============================================================================\n",
      "Omnibus:                       27.718   Durbin-Watson:                   2.037\n",
      "Prob(Omnibus):                  0.000   Jarque-Bera (JB):               37.997\n",
      "Skew:                           0.441   Prob(JB):                     5.61e-09\n",
      "Kurtosis:                       3.968   Cond. No.                         20.1\n",
      "==============================================================================\n",
      "\n",
      "Notes:\n",
      "[1] Standard Errors assume that the covariance matrix of the errors is correctly specified.\n"
     ]
    }
   ],
   "source": [
    "model = smf.ols(formula=\"loge_LBXIN ~ PAQ655 + DBQ700\", data=df_merge_paq_dbq_I).fit()\n",
    "print(model.summary())"
   ]
  },
  {
   "cell_type": "code",
   "execution_count": 31,
   "id": "skilled-laugh",
   "metadata": {},
   "outputs": [
    {
     "name": "stdout",
     "output_type": "stream",
     "text": [
      "(531, 3)\n"
     ]
    },
    {
     "data": {
      "text/html": [
       "<div>\n",
       "<style scoped>\n",
       "    .dataframe tbody tr th:only-of-type {\n",
       "        vertical-align: middle;\n",
       "    }\n",
       "\n",
       "    .dataframe tbody tr th {\n",
       "        vertical-align: top;\n",
       "    }\n",
       "\n",
       "    .dataframe thead th {\n",
       "        text-align: right;\n",
       "    }\n",
       "</style>\n",
       "<table border=\"1\" class=\"dataframe\">\n",
       "  <thead>\n",
       "    <tr style=\"text-align: right;\">\n",
       "      <th></th>\n",
       "      <th>PAD660</th>\n",
       "      <th>loge_LBXIN</th>\n",
       "      <th>LBXIN</th>\n",
       "    </tr>\n",
       "  </thead>\n",
       "  <tbody>\n",
       "    <tr>\n",
       "      <th>PAD660</th>\n",
       "      <td>1.000000</td>\n",
       "      <td>0.012615</td>\n",
       "      <td>-0.004591</td>\n",
       "    </tr>\n",
       "    <tr>\n",
       "      <th>loge_LBXIN</th>\n",
       "      <td>0.012615</td>\n",
       "      <td>1.000000</td>\n",
       "      <td>0.834073</td>\n",
       "    </tr>\n",
       "    <tr>\n",
       "      <th>LBXIN</th>\n",
       "      <td>-0.004591</td>\n",
       "      <td>0.834073</td>\n",
       "      <td>1.000000</td>\n",
       "    </tr>\n",
       "  </tbody>\n",
       "</table>\n",
       "</div>"
      ],
      "text/plain": [
       "              PAD660  loge_LBXIN     LBXIN\n",
       "PAD660      1.000000    0.012615 -0.004591\n",
       "loge_LBXIN  0.012615    1.000000  0.834073\n",
       "LBXIN      -0.004591    0.834073  1.000000"
      ]
     },
     "execution_count": 31,
     "metadata": {},
     "output_type": "execute_result"
    }
   ],
   "source": [
    "print(df_merge_paq_dbq_I[['PAD660','loge_LBXIN','LBXIN']].dropna().shape)\n",
    "df_merge_paq_dbq_I[['PAD660','loge_LBXIN','LBXIN']].dropna().corr()"
   ]
  },
  {
   "cell_type": "code",
   "execution_count": 32,
   "id": "caroline-constitution",
   "metadata": {},
   "outputs": [
    {
     "data": {
      "text/plain": [
       "<AxesSubplot:xlabel='PAD660'>"
      ]
     },
     "execution_count": 32,
     "metadata": {},
     "output_type": "execute_result"
    },
    {
     "data": {
      "image/png": "[encoded data removed]",
      "text/plain": [
       "<Figure size 432x288 with 1 Axes>"
      ]
     },
     "metadata": {
      "needs_background": "light"
     },
     "output_type": "display_data"
    }
   ],
   "source": [
    "df_merge_paq_dbq_I[['PAD660','loge_LBXIN']].groupby(pd.cut(df_merge_paq_dbq_I['PAD660'], [df_merge_paq_dbq_I['PAD660'].min(),df_merge_paq_dbq_I['PAD660'].describe()['25%'], df_merge_paq_dbq_I['PAD660'].describe()['50%'],df_merge_paq_dbq_I['PAD660'].describe()['75%'],df_merge_paq_dbq_I['PAD660'].max()])).mean().plot(marker='*',x='PAD660',y='loge_LBXIN')"
   ]
  },
  {
   "cell_type": "code",
   "execution_count": 33,
   "id": "funded-spouse",
   "metadata": {},
   "outputs": [
    {
     "data": {
      "text/plain": [
       "<AxesSubplot:xlabel='PAD660'>"
      ]
     },
     "execution_count": 33,
     "metadata": {},
     "output_type": "execute_result"
    },
    {
     "data": {
      "image/png": "[encoded data removed]",
      "text/plain": [
       "<Figure size 432x288 with 1 Axes>"
      ]
     },
     "metadata": {
      "needs_background": "light"
     },
     "output_type": "display_data"
    }
   ],
   "source": [
    "df_merge_paq_dbq_I[['PAD660','LBXIN']].groupby(pd.cut(df_merge_paq_dbq_I['PAD660'], [df_merge_paq_dbq_I['PAD660'].min(),df_merge_paq_dbq_I['PAD660'].describe()['25%'], df_merge_paq_dbq_I['PAD660'].describe()['50%'],df_merge_paq_dbq_I['PAD660'].describe()['75%'],df_merge_paq_dbq_I['PAD660'].max()])).mean().plot(marker='*',x='PAD660',y='LBXIN')"
   ]
  },
  {
   "cell_type": "code",
   "execution_count": 34,
   "id": "outstanding-mountain",
   "metadata": {},
   "outputs": [
    {
     "name": "stdout",
     "output_type": "stream",
     "text": [
      "                            OLS Regression Results                            \n",
      "==============================================================================\n",
      "Dep. Variable:             loge_LBXIN   R-squared:                       0.000\n",
      "Model:                            OLS   Adj. R-squared:                 -0.002\n",
      "Method:                 Least Squares   F-statistic:                   0.08420\n",
      "Date:                Fri, 10 Dec 2021   Prob (F-statistic):              0.772\n",
      "Time:                        08:05:41   Log-Likelihood:                -588.77\n",
      "No. Observations:                 531   AIC:                             1182.\n",
      "Df Residuals:                     529   BIC:                             1190.\n",
      "Df Model:                           1                                         \n",
      "Covariance Type:            nonrobust                                         \n",
      "==============================================================================\n",
      "                 coef    std err          t      P>|t|      [0.025      0.975]\n",
      "------------------------------------------------------------------------------\n",
      "Intercept      2.1688      0.033     66.613      0.000       2.105       2.233\n",
      "PAD660      2.135e-05   7.36e-05      0.290      0.772      -0.000       0.000\n",
      "==============================================================================\n",
      "Omnibus:                       16.190   Durbin-Watson:                   2.004\n",
      "Prob(Omnibus):                  0.000   Jarque-Bera (JB):               17.499\n",
      "Skew:                           0.378   Prob(JB):                     0.000159\n",
      "Kurtosis:                       3.467   Cond. No.                         452.\n",
      "==============================================================================\n",
      "\n",
      "Notes:\n",
      "[1] Standard Errors assume that the covariance matrix of the errors is correctly specified.\n"
     ]
    }
   ],
   "source": [
    "model = smf.ols(formula=\"loge_LBXIN ~PAD660 \", data=df_merge_paq_dbq_I).fit()\n",
    "print(model.summary())"
   ]
  },
  {
   "cell_type": "code",
   "execution_count": 35,
   "id": "sapphire-medicare",
   "metadata": {},
   "outputs": [
    {
     "name": "stdout",
     "output_type": "stream",
     "text": [
      "                            OLS Regression Results                            \n",
      "==============================================================================\n",
      "Dep. Variable:                DXDTRPF   R-squared:                       0.084\n",
      "Model:                            OLS   Adj. R-squared:                  0.078\n",
      "Method:                 Least Squares   F-statistic:                     14.26\n",
      "Date:                Fri, 10 Dec 2021   Prob (F-statistic):           2.27e-13\n",
      "Time:                        08:05:42   Log-Likelihood:                -2765.1\n",
      "No. Observations:                 785   AIC:                             5542.\n",
      "Df Residuals:                     779   BIC:                             5570.\n",
      "Df Model:                           5                                         \n",
      "Covariance Type:            nonrobust                                         \n",
      "==============================================================================\n",
      "                 coef    std err          t      P>|t|      [0.025      0.975]\n",
      "------------------------------------------------------------------------------\n",
      "Intercept     26.7281      1.385     19.304      0.000      24.010      29.446\n",
      "PAQ655        -0.2274      0.187     -1.218      0.223      -0.594       0.139\n",
      "PAD660        -0.0325      0.006     -5.547      0.000      -0.044      -0.021\n",
      "PAD680         0.0032      0.001      2.149      0.032       0.000       0.006\n",
      "DBD895        -0.0014      0.001     -1.668      0.096      -0.003       0.000\n",
      "DBQ700         1.7409      0.318      5.477      0.000       1.117       2.365\n",
      "==============================================================================\n",
      "Omnibus:                       18.942   Durbin-Watson:                   2.086\n",
      "Prob(Omnibus):                  0.000   Jarque-Bera (JB):               10.133\n",
      "Skew:                           0.034   Prob(JB):                      0.00630\n",
      "Kurtosis:                       2.448   Cond. No.                     1.92e+03\n",
      "==============================================================================\n",
      "\n",
      "Notes:\n",
      "[1] Standard Errors assume that the covariance matrix of the errors is correctly specified.\n",
      "[2] The condition number is large, 1.92e+03. This might indicate that there are\n",
      "strong multicollinearity or other numerical problems.\n"
     ]
    }
   ],
   "source": [
    "\n",
    "model = smf.ols(formula=\"DXDTRPF ~ PAQ655+PAD660+PAD680+DBD895+DBQ700\", data=df_merge_paq_dbq).fit()\n",
    "print(model.summary())"
   ]
  },
  {
   "cell_type": "code",
   "execution_count": 36,
   "id": "continent-flower",
   "metadata": {},
   "outputs": [
    {
     "name": "stdout",
     "output_type": "stream",
     "text": [
      "                            OLS Regression Results                            \n",
      "==============================================================================\n",
      "Dep. Variable:             loge_LBXIN   R-squared:                       0.083\n",
      "Model:                            OLS   Adj. R-squared:                  0.075\n",
      "Method:                 Least Squares   F-statistic:                     9.560\n",
      "Date:                Fri, 10 Dec 2021   Prob (F-statistic):           9.63e-09\n",
      "Time:                        08:05:42   Log-Likelihood:                -565.68\n",
      "No. Observations:                 531   AIC:                             1143.\n",
      "Df Residuals:                     525   BIC:                             1169.\n",
      "Df Model:                           5                                         \n",
      "Covariance Type:            nonrobust                                         \n",
      "==============================================================================\n",
      "                 coef    std err          t      P>|t|      [0.025      0.975]\n",
      "------------------------------------------------------------------------------\n",
      "Intercept      1.7691      0.130     13.636      0.000       1.514       2.024\n",
      "PAQ655        -0.0429      0.020     -2.118      0.035      -0.083      -0.003\n",
      "PAD660       2.73e-05   7.12e-05      0.384      0.701      -0.000       0.000\n",
      "PAD680      5.326e-05   4.91e-05      1.084      0.279   -4.33e-05       0.000\n",
      "DBD895     -5.657e-05   7.11e-05     -0.796      0.427      -0.000    8.31e-05\n",
      "DBQ700         0.1887      0.032      5.808      0.000       0.125       0.253\n",
      "==============================================================================\n",
      "Omnibus:                       29.104   Durbin-Watson:                   2.043\n",
      "Prob(Omnibus):                  0.000   Jarque-Bera (JB):               40.631\n",
      "Skew:                           0.452   Prob(JB):                     1.50e-09\n",
      "Kurtosis:                       4.010   Cond. No.                     3.17e+03\n",
      "==============================================================================\n",
      "\n",
      "Notes:\n",
      "[1] Standard Errors assume that the covariance matrix of the errors is correctly specified.\n",
      "[2] The condition number is large, 3.17e+03. This might indicate that there are\n",
      "strong multicollinearity or other numerical problems.\n"
     ]
    }
   ],
   "source": [
    "model = smf.ols(formula=\"loge_LBXIN ~ PAQ655+PAD660+PAD680+DBD895+DBQ700\", data=df_merge_paq_dbq_I).fit()\n",
    "print(model.summary())"
   ]
  },
  {
   "cell_type": "code",
   "execution_count": 37,
   "id": "moving-newfoundland",
   "metadata": {},
   "outputs": [
    {
     "data": {
      "text/plain": [
       "((628, 5), (157, 5))"
      ]
     },
     "execution_count": 37,
     "metadata": {},
     "output_type": "execute_result"
    }
   ],
   "source": [
    "dataset_ai=df_merge_paq_dbq[['PAQ655','PAD660','PAD680','DBD895','DBQ700','DXDTRPF']].dropna()\n",
    "X = dataset_ai[['PAQ655','PAD660','PAD680','DBD895','DBQ700']]\n",
    "y = dataset_ai['DXDTRPF']\n",
    "train_X, val_X, train_y, val_y = train_test_split(X, y,test_size=0.2, random_state=1)\n",
    "train_X.shape,val_X.shape"
   ]
  },
  {
   "cell_type": "code",
   "execution_count": 38,
   "id": "false-albany",
   "metadata": {},
   "outputs": [],
   "source": [
    "# create regressor object \n",
    "regressor = RandomForestRegressor(n_estimators = 100, random_state = 0) \n",
    "  \n",
    "# fit the regressor with x and y data \n",
    "my_model =regressor.fit(train_X, train_y)"
   ]
  },
  {
   "cell_type": "code",
   "execution_count": 39,
   "id": "threaded-bloom",
   "metadata": {},
   "outputs": [
    {
     "data": {
      "text/plain": [
       "0.008247339666505593"
      ]
     },
     "execution_count": 39,
     "metadata": {},
     "output_type": "execute_result"
    }
   ],
   "source": [
    "y_pred = my_model.predict(val_X)\n",
    "\n",
    "from sklearn.metrics import r2_score\n",
    "rsquare = r2_score(val_y, y_pred) #can be negative as the AI model are not linear regressors \n",
    "rsquare"
   ]
  },
  {
   "cell_type": "code",
   "execution_count": 40,
   "id": "conceptual-laundry",
   "metadata": {},
   "outputs": [],
   "source": [
    "#Conclusions\n",
    "#Further work that were done - Indepth Analysis (Specific food type)"
   ]
  },
  {
   "cell_type": "code",
   "execution_count": null,
   "id": "breathing-growing",
   "metadata": {},
   "outputs": [],
   "source": []
  }
 ],
 "metadata": {
  "kernelspec": {
   "display_name": "Python 3",
   "language": "python",
   "name": "python3"
  },
  "language_info": {
   "codemirror_mode": {
    "name": "ipython",
    "version": 3
   },
   "file_extension": ".py",
   "mimetype": "text/x-python",
   "name": "python",
   "nbconvert_exporter": "python",
   "pygments_lexer": "ipython3",
   "version": "3.8.8"
  }
 },
 "nbformat": 4,
 "nbformat_minor": 5
}
