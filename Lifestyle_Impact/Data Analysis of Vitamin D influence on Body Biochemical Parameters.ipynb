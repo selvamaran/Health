{
 "cells": [
  {
   "cell_type": "markdown",
   "id": "charming-transformation",
   "metadata": {},
   "source": [
    "### Motivation:\n",
    "Vitmain D is one of the most prevalent yet underappreciated deficiency in adults especially with more people spending time  indoors. The project specificaally looks is there any statistically significant relationship between vitamin D and serum Alkaline phosphatase\n",
    "#### references:\n",
    "1) Bellastella G, Scappaticcio L, Longo M, Carotenuto R, Carbone C, Caruso P, Maio A, Paglionico VA, Vietri MT, Maiorino MI, Esposito K. New insights into vitamin D regulation: is there a role for alkaline phosphatase? J Endocrinol Invest. 2021 Sep;44(9):1891-1896. doi: 10.1007/s40618-021-01503-w. Epub 2021 Jan 25. PMID: 33492600; PMCID: PMC8357672."
   ]
  },
  {
   "cell_type": "code",
   "execution_count": 1,
   "id": "controversial-webmaster",
   "metadata": {},
   "outputs": [],
   "source": [
    "import xport\n",
    "import numpy as np\n",
    "import pandas as pd\n",
    "import os"
   ]
  },
  {
   "cell_type": "code",
   "execution_count": 2,
   "id": "analyzed-average",
   "metadata": {},
   "outputs": [],
   "source": [
    "import matplotlib.pyplot as plt\n",
    "import seaborn as sns\n",
    "%matplotlib inline\n",
    "\n",
    "import statsmodels.api as sm\n",
    "import statsmodels.formula.api as smf\n",
    "from statsmodels.stats import weightstats as stests\n",
    "from scipy import stats\n",
    "\n",
    "from sklearn.model_selection import train_test_split\n",
    "from sklearn.ensemble import RandomForestRegressor\n",
    "from sklearn.metrics import r2_score\n"
   ]
  },
  {
   "cell_type": "code",
   "execution_count": 3,
   "id": "frozen-justice",
   "metadata": {},
   "outputs": [],
   "source": [
    "file_loc = '../nhanes_data_files/'\n",
    "\n",
    "df_demog_E = pd.read_sas(file_loc + 'DEMO_E_2007_2008.xpt')\n",
    "df_demog_F = pd.read_sas(file_loc + 'DEMO_F_2009_2010.xpt')\n",
    "df_demog_G = pd.read_sas(file_loc + 'DEMO_G_2011_2012.xpt')\n",
    "df_demog_H = pd.read_sas(file_loc + 'DEMO_H_2013_2014.xpt')\n",
    "df_demog_I = pd.read_sas(file_loc + 'DEMO_I_2015_2016.xpt')\n",
    "\n",
    "df_BIOPRO_E = pd.read_sas(file_loc +'BIOPRO_E_2007_2008.xpt')\n",
    "df_VID_E = pd.read_sas(file_loc +'VID_E_2007_2008.xpt')\n",
    "\n",
    "df_BIOPRO_F = pd.read_sas(file_loc +'BIOPRO_F_2009_2010.xpt')\n",
    "df_VID_F = pd.read_sas(file_loc +'VID_F_2009_2010.xpt')\n",
    "\n",
    "df_BIOPRO_G = pd.read_sas(file_loc +'BIOPRO_G_2011_2012.xpt')\n",
    "df_VID_G = pd.read_sas(file_loc +'VID_G_2011_2012.xpt')\n",
    "\n",
    "df_BIOPRO_H = pd.read_sas(file_loc +'BIOPRO_H_2013_2014.xpt')\n",
    "df_VID_H = pd.read_sas(file_loc +'VID_H_2013_2014.xpt')\n",
    "\n",
    "df_BIOPRO_I = pd.read_sas(file_loc +'BIOPRO_I_2015_2016.xpt')\n",
    "df_VID_I = pd.read_sas(file_loc +'VID_I_2015_2016.xpt')"
   ]
  },
  {
   "cell_type": "code",
   "execution_count": 4,
   "id": "worse-serum",
   "metadata": {},
   "outputs": [
    {
     "data": {
      "text/html": [
       "<div>\n",
       "<style scoped>\n",
       "    .dataframe tbody tr th:only-of-type {\n",
       "        vertical-align: middle;\n",
       "    }\n",
       "\n",
       "    .dataframe tbody tr th {\n",
       "        vertical-align: top;\n",
       "    }\n",
       "\n",
       "    .dataframe thead th {\n",
       "        text-align: right;\n",
       "    }\n",
       "</style>\n",
       "<table border=\"1\" class=\"dataframe\">\n",
       "  <thead>\n",
       "    <tr style=\"text-align: right;\">\n",
       "      <th></th>\n",
       "      <th>SEQN</th>\n",
       "      <th>LBXSAPSI</th>\n",
       "    </tr>\n",
       "  </thead>\n",
       "  <tbody>\n",
       "    <tr>\n",
       "      <th>0</th>\n",
       "      <td>41475.0</td>\n",
       "      <td>113.0</td>\n",
       "    </tr>\n",
       "    <tr>\n",
       "      <th>1</th>\n",
       "      <td>41477.0</td>\n",
       "      <td>44.0</td>\n",
       "    </tr>\n",
       "    <tr>\n",
       "      <th>2</th>\n",
       "      <td>41479.0</td>\n",
       "      <td>78.0</td>\n",
       "    </tr>\n",
       "    <tr>\n",
       "      <th>3</th>\n",
       "      <td>41481.0</td>\n",
       "      <td>NaN</td>\n",
       "    </tr>\n",
       "    <tr>\n",
       "      <th>4</th>\n",
       "      <td>41482.0</td>\n",
       "      <td>85.0</td>\n",
       "    </tr>\n",
       "  </tbody>\n",
       "</table>\n",
       "</div>"
      ],
      "text/plain": [
       "      SEQN  LBXSAPSI\n",
       "0  41475.0     113.0\n",
       "1  41477.0      44.0\n",
       "2  41479.0      78.0\n",
       "3  41481.0       NaN\n",
       "4  41482.0      85.0"
      ]
     },
     "execution_count": 4,
     "metadata": {},
     "output_type": "execute_result"
    }
   ],
   "source": [
    "df_ALP_E=df_BIOPRO_E[['SEQN','LBXSAPSI']].copy()\n",
    "df_ALP_F=df_BIOPRO_F[['SEQN','LBXSAPSI']].copy()\n",
    "df_ALP_G=df_BIOPRO_G[['SEQN','LBXSAPSI']].copy()\n",
    "df_ALP_H=df_BIOPRO_H[['SEQN','LBXSAPSI']].copy()\n",
    "df_ALP_I=df_BIOPRO_I[['SEQN','LBXSAPSI']].copy()\n",
    "df_ALP_E.head()"
   ]
  },
  {
   "cell_type": "code",
   "execution_count": 5,
   "id": "genuine-charity",
   "metadata": {},
   "outputs": [
    {
     "data": {
      "text/html": [
       "<div>\n",
       "<style scoped>\n",
       "    .dataframe tbody tr th:only-of-type {\n",
       "        vertical-align: middle;\n",
       "    }\n",
       "\n",
       "    .dataframe tbody tr th {\n",
       "        vertical-align: top;\n",
       "    }\n",
       "\n",
       "    .dataframe thead th {\n",
       "        text-align: right;\n",
       "    }\n",
       "</style>\n",
       "<table border=\"1\" class=\"dataframe\">\n",
       "  <thead>\n",
       "    <tr style=\"text-align: right;\">\n",
       "      <th></th>\n",
       "      <th>SEQN</th>\n",
       "      <th>LBXVIDMS</th>\n",
       "      <th>LBDVIDLC</th>\n",
       "      <th>LBXVD2MS</th>\n",
       "      <th>LBDVD2LC</th>\n",
       "      <th>LBXVD3MS</th>\n",
       "      <th>LBDVD3LC</th>\n",
       "      <th>LBXVE3MS</th>\n",
       "      <th>LBDVE3LC</th>\n",
       "    </tr>\n",
       "  </thead>\n",
       "  <tbody>\n",
       "    <tr>\n",
       "      <th>0</th>\n",
       "      <td>41475.0</td>\n",
       "      <td>58.8</td>\n",
       "      <td>5.397605e-79</td>\n",
       "      <td>1.45</td>\n",
       "      <td>1.0</td>\n",
       "      <td>57.3</td>\n",
       "      <td>5.397605e-79</td>\n",
       "      <td>4.17</td>\n",
       "      <td>5.397605e-79</td>\n",
       "    </tr>\n",
       "    <tr>\n",
       "      <th>1</th>\n",
       "      <td>41476.0</td>\n",
       "      <td>80.9</td>\n",
       "      <td>5.397605e-79</td>\n",
       "      <td>1.45</td>\n",
       "      <td>1.0</td>\n",
       "      <td>79.4</td>\n",
       "      <td>5.397605e-79</td>\n",
       "      <td>5.52</td>\n",
       "      <td>5.397605e-79</td>\n",
       "    </tr>\n",
       "    <tr>\n",
       "      <th>2</th>\n",
       "      <td>41477.0</td>\n",
       "      <td>81.8</td>\n",
       "      <td>5.397605e-79</td>\n",
       "      <td>1.45</td>\n",
       "      <td>1.0</td>\n",
       "      <td>80.3</td>\n",
       "      <td>5.397605e-79</td>\n",
       "      <td>2.42</td>\n",
       "      <td>5.397605e-79</td>\n",
       "    </tr>\n",
       "    <tr>\n",
       "      <th>3</th>\n",
       "      <td>41478.0</td>\n",
       "      <td>NaN</td>\n",
       "      <td>NaN</td>\n",
       "      <td>NaN</td>\n",
       "      <td>NaN</td>\n",
       "      <td>NaN</td>\n",
       "      <td>NaN</td>\n",
       "      <td>NaN</td>\n",
       "      <td>NaN</td>\n",
       "    </tr>\n",
       "    <tr>\n",
       "      <th>4</th>\n",
       "      <td>41479.0</td>\n",
       "      <td>78.4</td>\n",
       "      <td>5.397605e-79</td>\n",
       "      <td>1.45</td>\n",
       "      <td>1.0</td>\n",
       "      <td>76.9</td>\n",
       "      <td>5.397605e-79</td>\n",
       "      <td>3.07</td>\n",
       "      <td>5.397605e-79</td>\n",
       "    </tr>\n",
       "  </tbody>\n",
       "</table>\n",
       "</div>"
      ],
      "text/plain": [
       "      SEQN  LBXVIDMS      LBDVIDLC  LBXVD2MS  LBDVD2LC  LBXVD3MS  \\\n",
       "0  41475.0      58.8  5.397605e-79      1.45       1.0      57.3   \n",
       "1  41476.0      80.9  5.397605e-79      1.45       1.0      79.4   \n",
       "2  41477.0      81.8  5.397605e-79      1.45       1.0      80.3   \n",
       "3  41478.0       NaN           NaN       NaN       NaN       NaN   \n",
       "4  41479.0      78.4  5.397605e-79      1.45       1.0      76.9   \n",
       "\n",
       "       LBDVD3LC  LBXVE3MS      LBDVE3LC  \n",
       "0  5.397605e-79      4.17  5.397605e-79  \n",
       "1  5.397605e-79      5.52  5.397605e-79  \n",
       "2  5.397605e-79      2.42  5.397605e-79  \n",
       "3           NaN       NaN           NaN  \n",
       "4  5.397605e-79      3.07  5.397605e-79  "
      ]
     },
     "execution_count": 5,
     "metadata": {},
     "output_type": "execute_result"
    }
   ],
   "source": [
    "df_VID_E.head()"
   ]
  },
  {
   "cell_type": "code",
   "execution_count": 6,
   "id": "separate-clearance",
   "metadata": {},
   "outputs": [
    {
     "data": {
      "text/html": [
       "<div>\n",
       "<style scoped>\n",
       "    .dataframe tbody tr th:only-of-type {\n",
       "        vertical-align: middle;\n",
       "    }\n",
       "\n",
       "    .dataframe tbody tr th {\n",
       "        vertical-align: top;\n",
       "    }\n",
       "\n",
       "    .dataframe thead th {\n",
       "        text-align: right;\n",
       "    }\n",
       "</style>\n",
       "<table border=\"1\" class=\"dataframe\">\n",
       "  <thead>\n",
       "    <tr style=\"text-align: right;\">\n",
       "      <th></th>\n",
       "      <th>SEQN</th>\n",
       "      <th>RIDAGEYR</th>\n",
       "      <th>LBXVIDMS</th>\n",
       "      <th>LBXSAPSI</th>\n",
       "      <th>loge_LBXSAPSI</th>\n",
       "    </tr>\n",
       "  </thead>\n",
       "  <tbody>\n",
       "    <tr>\n",
       "      <th>0</th>\n",
       "      <td>41475.0</td>\n",
       "      <td>62.0</td>\n",
       "      <td>58.8</td>\n",
       "      <td>113.0</td>\n",
       "      <td>4.727388</td>\n",
       "    </tr>\n",
       "    <tr>\n",
       "      <th>1</th>\n",
       "      <td>41477.0</td>\n",
       "      <td>71.0</td>\n",
       "      <td>81.8</td>\n",
       "      <td>44.0</td>\n",
       "      <td>3.784190</td>\n",
       "    </tr>\n",
       "    <tr>\n",
       "      <th>2</th>\n",
       "      <td>41479.0</td>\n",
       "      <td>52.0</td>\n",
       "      <td>78.4</td>\n",
       "      <td>78.0</td>\n",
       "      <td>4.356709</td>\n",
       "    </tr>\n",
       "    <tr>\n",
       "      <th>3</th>\n",
       "      <td>41481.0</td>\n",
       "      <td>21.0</td>\n",
       "      <td>NaN</td>\n",
       "      <td>NaN</td>\n",
       "      <td>NaN</td>\n",
       "    </tr>\n",
       "    <tr>\n",
       "      <th>4</th>\n",
       "      <td>41482.0</td>\n",
       "      <td>64.0</td>\n",
       "      <td>61.9</td>\n",
       "      <td>85.0</td>\n",
       "      <td>4.442651</td>\n",
       "    </tr>\n",
       "  </tbody>\n",
       "</table>\n",
       "</div>"
      ],
      "text/plain": [
       "      SEQN  RIDAGEYR  LBXVIDMS  LBXSAPSI  loge_LBXSAPSI\n",
       "0  41475.0      62.0      58.8     113.0       4.727388\n",
       "1  41477.0      71.0      81.8      44.0       3.784190\n",
       "2  41479.0      52.0      78.4      78.0       4.356709\n",
       "3  41481.0      21.0       NaN       NaN            NaN\n",
       "4  41482.0      64.0      61.9      85.0       4.442651"
      ]
     },
     "execution_count": 6,
     "metadata": {},
     "output_type": "execute_result"
    }
   ],
   "source": [
    "df_VID_SALP_E =df_demog_E[['SEQN','RIDAGEYR']].merge( df_VID_E[['SEQN','LBXVIDMS']]).merge(df_ALP_E)\n",
    "df_VID_SALP_E=df_VID_SALP_E[df_VID_SALP_E['RIDAGEYR']>20].copy()\n",
    "df_VID_SALP_E['loge_LBXSAPSI']=np.log(df_VID_SALP_E['LBXSAPSI'])\n",
    "# df_VID_SALP_E['loge_LBXVIDMS']=np.log(df_VID_SALP_E['LBXVIDMS'])\n",
    "\n",
    "df_VID_SALP_F = df_demog_F[['SEQN','RIDAGEYR']].merge(df_VID_F[['SEQN','LBXVIDMS']]).merge(df_ALP_F)\n",
    "df_VID_SALP_F=df_VID_SALP_F[df_VID_SALP_F['RIDAGEYR']>20].copy()\n",
    "\n",
    "df_VID_SALP_F['loge_LBXSAPSI']=np.log(df_VID_SALP_F['LBXSAPSI'])\n",
    "\n",
    "df_VID_SALP_G = df_demog_G[['SEQN','RIDAGEYR']].merge(df_VID_G[['SEQN','LBXVIDMS']]).merge(df_ALP_G)\n",
    "df_VID_SALP_G=df_VID_SALP_G[df_VID_SALP_G['RIDAGEYR']>20].copy()\n",
    "\n",
    "df_VID_SALP_G['loge_LBXSAPSI']=np.log(df_VID_SALP_G['LBXSAPSI'])\n",
    "\n",
    "df_VID_SALP_H = df_demog_H[['SEQN','RIDAGEYR']].merge(df_VID_H[['SEQN','LBXVIDMS']]).merge(df_ALP_H)\n",
    "df_VID_SALP_H=df_VID_SALP_H[df_VID_SALP_H['RIDAGEYR']>20].copy()\n",
    "\n",
    "df_VID_SALP_H['loge_LBXSAPSI']=np.log(df_VID_SALP_H['LBXSAPSI'])\n",
    "\n",
    "df_VID_SALP_I = df_demog_I[['SEQN','RIDAGEYR']].merge(df_VID_I[['SEQN','LBXVIDMS']]).merge(df_ALP_I)\n",
    "df_VID_SALP_I=df_VID_SALP_I[df_VID_SALP_I['RIDAGEYR']>20].copy()\n",
    "\n",
    "df_VID_SALP_I['loge_LBXSAPSI']=np.log(df_VID_SALP_I['LBXSAPSI'])\n",
    "df_VID_SALP_E.head()"
   ]
  },
  {
   "cell_type": "code",
   "execution_count": 7,
   "id": "welsh-elevation",
   "metadata": {},
   "outputs": [
    {
     "data": {
      "text/html": [
       "<div>\n",
       "<style scoped>\n",
       "    .dataframe tbody tr th:only-of-type {\n",
       "        vertical-align: middle;\n",
       "    }\n",
       "\n",
       "    .dataframe tbody tr th {\n",
       "        vertical-align: top;\n",
       "    }\n",
       "\n",
       "    .dataframe thead th {\n",
       "        text-align: right;\n",
       "    }\n",
       "</style>\n",
       "<table border=\"1\" class=\"dataframe\">\n",
       "  <thead>\n",
       "    <tr style=\"text-align: right;\">\n",
       "      <th></th>\n",
       "      <th>LBXVIDMS</th>\n",
       "      <th>LBXSAPSI</th>\n",
       "      <th>loge_LBXSAPSI</th>\n",
       "    </tr>\n",
       "  </thead>\n",
       "  <tbody>\n",
       "    <tr>\n",
       "      <th>count</th>\n",
       "      <td>4534.000000</td>\n",
       "      <td>4534.000000</td>\n",
       "      <td>4534.000000</td>\n",
       "    </tr>\n",
       "    <tr>\n",
       "      <th>mean</th>\n",
       "      <td>61.401806</td>\n",
       "      <td>70.669166</td>\n",
       "      <td>4.208428</td>\n",
       "    </tr>\n",
       "    <tr>\n",
       "      <th>std</th>\n",
       "      <td>24.858852</td>\n",
       "      <td>24.975372</td>\n",
       "      <td>0.309142</td>\n",
       "    </tr>\n",
       "    <tr>\n",
       "      <th>min</th>\n",
       "      <td>5.410000</td>\n",
       "      <td>15.000000</td>\n",
       "      <td>2.708050</td>\n",
       "    </tr>\n",
       "    <tr>\n",
       "      <th>25%</th>\n",
       "      <td>43.100000</td>\n",
       "      <td>55.000000</td>\n",
       "      <td>4.007333</td>\n",
       "    </tr>\n",
       "    <tr>\n",
       "      <th>50%</th>\n",
       "      <td>60.200000</td>\n",
       "      <td>67.000000</td>\n",
       "      <td>4.204693</td>\n",
       "    </tr>\n",
       "    <tr>\n",
       "      <th>75%</th>\n",
       "      <td>76.875000</td>\n",
       "      <td>82.000000</td>\n",
       "      <td>4.406719</td>\n",
       "    </tr>\n",
       "    <tr>\n",
       "      <th>max</th>\n",
       "      <td>213.000000</td>\n",
       "      <td>626.000000</td>\n",
       "      <td>6.439350</td>\n",
       "    </tr>\n",
       "  </tbody>\n",
       "</table>\n",
       "</div>"
      ],
      "text/plain": [
       "          LBXVIDMS     LBXSAPSI  loge_LBXSAPSI\n",
       "count  4534.000000  4534.000000    4534.000000\n",
       "mean     61.401806    70.669166       4.208428\n",
       "std      24.858852    24.975372       0.309142\n",
       "min       5.410000    15.000000       2.708050\n",
       "25%      43.100000    55.000000       4.007333\n",
       "50%      60.200000    67.000000       4.204693\n",
       "75%      76.875000    82.000000       4.406719\n",
       "max     213.000000   626.000000       6.439350"
      ]
     },
     "execution_count": 7,
     "metadata": {},
     "output_type": "execute_result"
    }
   ],
   "source": [
    "df_VID_SALP_E[['LBXVIDMS','LBXSAPSI','loge_LBXSAPSI']].dropna().describe()"
   ]
  },
  {
   "cell_type": "code",
   "execution_count": 8,
   "id": "wooden-cardiff",
   "metadata": {},
   "outputs": [
    {
     "data": {
      "text/html": [
       "<div>\n",
       "<style scoped>\n",
       "    .dataframe tbody tr th:only-of-type {\n",
       "        vertical-align: middle;\n",
       "    }\n",
       "\n",
       "    .dataframe tbody tr th {\n",
       "        vertical-align: top;\n",
       "    }\n",
       "\n",
       "    .dataframe thead th {\n",
       "        text-align: right;\n",
       "    }\n",
       "</style>\n",
       "<table border=\"1\" class=\"dataframe\">\n",
       "  <thead>\n",
       "    <tr style=\"text-align: right;\">\n",
       "      <th></th>\n",
       "      <th>LBXVIDMS</th>\n",
       "      <th>LBXSAPSI</th>\n",
       "      <th>loge_LBXSAPSI</th>\n",
       "    </tr>\n",
       "  </thead>\n",
       "  <tbody>\n",
       "    <tr>\n",
       "      <th>LBXVIDMS</th>\n",
       "      <td>1.000000</td>\n",
       "      <td>-0.126035</td>\n",
       "      <td>-0.135331</td>\n",
       "    </tr>\n",
       "    <tr>\n",
       "      <th>LBXSAPSI</th>\n",
       "      <td>-0.126035</td>\n",
       "      <td>1.000000</td>\n",
       "      <td>0.933311</td>\n",
       "    </tr>\n",
       "    <tr>\n",
       "      <th>loge_LBXSAPSI</th>\n",
       "      <td>-0.135331</td>\n",
       "      <td>0.933311</td>\n",
       "      <td>1.000000</td>\n",
       "    </tr>\n",
       "  </tbody>\n",
       "</table>\n",
       "</div>"
      ],
      "text/plain": [
       "               LBXVIDMS  LBXSAPSI  loge_LBXSAPSI\n",
       "LBXVIDMS       1.000000 -0.126035      -0.135331\n",
       "LBXSAPSI      -0.126035  1.000000       0.933311\n",
       "loge_LBXSAPSI -0.135331  0.933311       1.000000"
      ]
     },
     "execution_count": 8,
     "metadata": {},
     "output_type": "execute_result"
    }
   ],
   "source": [
    "df_VID_SALP_E[['LBXVIDMS','LBXSAPSI','loge_LBXSAPSI']].dropna().corr()"
   ]
  },
  {
   "cell_type": "code",
   "execution_count": 9,
   "id": "textile-landscape",
   "metadata": {},
   "outputs": [
    {
     "data": {
      "text/html": [
       "<div>\n",
       "<style scoped>\n",
       "    .dataframe tbody tr th:only-of-type {\n",
       "        vertical-align: middle;\n",
       "    }\n",
       "\n",
       "    .dataframe tbody tr th {\n",
       "        vertical-align: top;\n",
       "    }\n",
       "\n",
       "    .dataframe thead th {\n",
       "        text-align: right;\n",
       "    }\n",
       "</style>\n",
       "<table border=\"1\" class=\"dataframe\">\n",
       "  <thead>\n",
       "    <tr style=\"text-align: right;\">\n",
       "      <th></th>\n",
       "      <th>LBXVIDMS</th>\n",
       "      <th>LBXSAPSI</th>\n",
       "      <th>loge_LBXSAPSI</th>\n",
       "    </tr>\n",
       "  </thead>\n",
       "  <tbody>\n",
       "    <tr>\n",
       "      <th>count</th>\n",
       "      <td>5574.000000</td>\n",
       "      <td>5574.000000</td>\n",
       "      <td>5574.000000</td>\n",
       "    </tr>\n",
       "    <tr>\n",
       "      <th>mean</th>\n",
       "      <td>63.571624</td>\n",
       "      <td>69.761033</td>\n",
       "      <td>4.195432</td>\n",
       "    </tr>\n",
       "    <tr>\n",
       "      <th>std</th>\n",
       "      <td>26.043048</td>\n",
       "      <td>24.132573</td>\n",
       "      <td>0.311027</td>\n",
       "    </tr>\n",
       "    <tr>\n",
       "      <th>min</th>\n",
       "      <td>7.430000</td>\n",
       "      <td>10.000000</td>\n",
       "      <td>2.302585</td>\n",
       "    </tr>\n",
       "    <tr>\n",
       "      <th>25%</th>\n",
       "      <td>44.700000</td>\n",
       "      <td>54.000000</td>\n",
       "      <td>3.988984</td>\n",
       "    </tr>\n",
       "    <tr>\n",
       "      <th>50%</th>\n",
       "      <td>61.400000</td>\n",
       "      <td>66.000000</td>\n",
       "      <td>4.189655</td>\n",
       "    </tr>\n",
       "    <tr>\n",
       "      <th>75%</th>\n",
       "      <td>79.300000</td>\n",
       "      <td>81.000000</td>\n",
       "      <td>4.394449</td>\n",
       "    </tr>\n",
       "    <tr>\n",
       "      <th>max</th>\n",
       "      <td>262.000000</td>\n",
       "      <td>633.000000</td>\n",
       "      <td>6.450470</td>\n",
       "    </tr>\n",
       "  </tbody>\n",
       "</table>\n",
       "</div>"
      ],
      "text/plain": [
       "          LBXVIDMS     LBXSAPSI  loge_LBXSAPSI\n",
       "count  5574.000000  5574.000000    5574.000000\n",
       "mean     63.571624    69.761033       4.195432\n",
       "std      26.043048    24.132573       0.311027\n",
       "min       7.430000    10.000000       2.302585\n",
       "25%      44.700000    54.000000       3.988984\n",
       "50%      61.400000    66.000000       4.189655\n",
       "75%      79.300000    81.000000       4.394449\n",
       "max     262.000000   633.000000       6.450470"
      ]
     },
     "execution_count": 9,
     "metadata": {},
     "output_type": "execute_result"
    }
   ],
   "source": [
    "df_VID_SALP_F[['LBXVIDMS','LBXSAPSI','loge_LBXSAPSI']].dropna().describe()"
   ]
  },
  {
   "cell_type": "code",
   "execution_count": 10,
   "id": "lightweight-moldova",
   "metadata": {},
   "outputs": [
    {
     "data": {
      "text/html": [
       "<div>\n",
       "<style scoped>\n",
       "    .dataframe tbody tr th:only-of-type {\n",
       "        vertical-align: middle;\n",
       "    }\n",
       "\n",
       "    .dataframe tbody tr th {\n",
       "        vertical-align: top;\n",
       "    }\n",
       "\n",
       "    .dataframe thead th {\n",
       "        text-align: right;\n",
       "    }\n",
       "</style>\n",
       "<table border=\"1\" class=\"dataframe\">\n",
       "  <thead>\n",
       "    <tr style=\"text-align: right;\">\n",
       "      <th></th>\n",
       "      <th>LBXVIDMS</th>\n",
       "      <th>LBXSAPSI</th>\n",
       "      <th>loge_LBXSAPSI</th>\n",
       "    </tr>\n",
       "  </thead>\n",
       "  <tbody>\n",
       "    <tr>\n",
       "      <th>LBXVIDMS</th>\n",
       "      <td>1.000000</td>\n",
       "      <td>-0.106372</td>\n",
       "      <td>-0.123762</td>\n",
       "    </tr>\n",
       "    <tr>\n",
       "      <th>LBXSAPSI</th>\n",
       "      <td>-0.106372</td>\n",
       "      <td>1.000000</td>\n",
       "      <td>0.941858</td>\n",
       "    </tr>\n",
       "    <tr>\n",
       "      <th>loge_LBXSAPSI</th>\n",
       "      <td>-0.123762</td>\n",
       "      <td>0.941858</td>\n",
       "      <td>1.000000</td>\n",
       "    </tr>\n",
       "  </tbody>\n",
       "</table>\n",
       "</div>"
      ],
      "text/plain": [
       "               LBXVIDMS  LBXSAPSI  loge_LBXSAPSI\n",
       "LBXVIDMS       1.000000 -0.106372      -0.123762\n",
       "LBXSAPSI      -0.106372  1.000000       0.941858\n",
       "loge_LBXSAPSI -0.123762  0.941858       1.000000"
      ]
     },
     "execution_count": 10,
     "metadata": {},
     "output_type": "execute_result"
    }
   ],
   "source": [
    "df_VID_SALP_F[['LBXVIDMS','LBXSAPSI','loge_LBXSAPSI']].dropna().corr()"
   ]
  },
  {
   "cell_type": "code",
   "execution_count": 11,
   "id": "separated-brazilian",
   "metadata": {},
   "outputs": [
    {
     "data": {
      "text/html": [
       "<div>\n",
       "<style scoped>\n",
       "    .dataframe tbody tr th:only-of-type {\n",
       "        vertical-align: middle;\n",
       "    }\n",
       "\n",
       "    .dataframe tbody tr th {\n",
       "        vertical-align: top;\n",
       "    }\n",
       "\n",
       "    .dataframe thead th {\n",
       "        text-align: right;\n",
       "    }\n",
       "</style>\n",
       "<table border=\"1\" class=\"dataframe\">\n",
       "  <thead>\n",
       "    <tr style=\"text-align: right;\">\n",
       "      <th></th>\n",
       "      <th>LBXVIDMS</th>\n",
       "      <th>LBXSAPSI</th>\n",
       "      <th>loge_LBXSAPSI</th>\n",
       "    </tr>\n",
       "  </thead>\n",
       "  <tbody>\n",
       "    <tr>\n",
       "      <th>count</th>\n",
       "      <td>4787.000000</td>\n",
       "      <td>4787.000000</td>\n",
       "      <td>4787.000000</td>\n",
       "    </tr>\n",
       "    <tr>\n",
       "      <th>mean</th>\n",
       "      <td>64.705482</td>\n",
       "      <td>67.809275</td>\n",
       "      <td>4.165930</td>\n",
       "    </tr>\n",
       "    <tr>\n",
       "      <th>std</th>\n",
       "      <td>28.792471</td>\n",
       "      <td>24.607240</td>\n",
       "      <td>0.312858</td>\n",
       "    </tr>\n",
       "    <tr>\n",
       "      <th>min</th>\n",
       "      <td>8.320000</td>\n",
       "      <td>7.000000</td>\n",
       "      <td>1.945910</td>\n",
       "    </tr>\n",
       "    <tr>\n",
       "      <th>25%</th>\n",
       "      <td>43.900000</td>\n",
       "      <td>53.000000</td>\n",
       "      <td>3.970292</td>\n",
       "    </tr>\n",
       "    <tr>\n",
       "      <th>50%</th>\n",
       "      <td>61.400000</td>\n",
       "      <td>64.000000</td>\n",
       "      <td>4.158883</td>\n",
       "    </tr>\n",
       "    <tr>\n",
       "      <th>75%</th>\n",
       "      <td>80.800000</td>\n",
       "      <td>78.000000</td>\n",
       "      <td>4.356709</td>\n",
       "    </tr>\n",
       "    <tr>\n",
       "      <th>max</th>\n",
       "      <td>375.000000</td>\n",
       "      <td>729.000000</td>\n",
       "      <td>6.591674</td>\n",
       "    </tr>\n",
       "  </tbody>\n",
       "</table>\n",
       "</div>"
      ],
      "text/plain": [
       "          LBXVIDMS     LBXSAPSI  loge_LBXSAPSI\n",
       "count  4787.000000  4787.000000    4787.000000\n",
       "mean     64.705482    67.809275       4.165930\n",
       "std      28.792471    24.607240       0.312858\n",
       "min       8.320000     7.000000       1.945910\n",
       "25%      43.900000    53.000000       3.970292\n",
       "50%      61.400000    64.000000       4.158883\n",
       "75%      80.800000    78.000000       4.356709\n",
       "max     375.000000   729.000000       6.591674"
      ]
     },
     "execution_count": 11,
     "metadata": {},
     "output_type": "execute_result"
    }
   ],
   "source": [
    "df_VID_SALP_G[['LBXVIDMS','LBXSAPSI','loge_LBXSAPSI']].dropna().describe()"
   ]
  },
  {
   "cell_type": "code",
   "execution_count": 12,
   "id": "solid-environment",
   "metadata": {},
   "outputs": [
    {
     "data": {
      "text/html": [
       "<div>\n",
       "<style scoped>\n",
       "    .dataframe tbody tr th:only-of-type {\n",
       "        vertical-align: middle;\n",
       "    }\n",
       "\n",
       "    .dataframe tbody tr th {\n",
       "        vertical-align: top;\n",
       "    }\n",
       "\n",
       "    .dataframe thead th {\n",
       "        text-align: right;\n",
       "    }\n",
       "</style>\n",
       "<table border=\"1\" class=\"dataframe\">\n",
       "  <thead>\n",
       "    <tr style=\"text-align: right;\">\n",
       "      <th></th>\n",
       "      <th>LBXVIDMS</th>\n",
       "      <th>LBXSAPSI</th>\n",
       "      <th>loge_LBXSAPSI</th>\n",
       "    </tr>\n",
       "  </thead>\n",
       "  <tbody>\n",
       "    <tr>\n",
       "      <th>LBXVIDMS</th>\n",
       "      <td>1.000000</td>\n",
       "      <td>-0.061443</td>\n",
       "      <td>-0.066158</td>\n",
       "    </tr>\n",
       "    <tr>\n",
       "      <th>LBXSAPSI</th>\n",
       "      <td>-0.061443</td>\n",
       "      <td>1.000000</td>\n",
       "      <td>0.921705</td>\n",
       "    </tr>\n",
       "    <tr>\n",
       "      <th>loge_LBXSAPSI</th>\n",
       "      <td>-0.066158</td>\n",
       "      <td>0.921705</td>\n",
       "      <td>1.000000</td>\n",
       "    </tr>\n",
       "  </tbody>\n",
       "</table>\n",
       "</div>"
      ],
      "text/plain": [
       "               LBXVIDMS  LBXSAPSI  loge_LBXSAPSI\n",
       "LBXVIDMS       1.000000 -0.061443      -0.066158\n",
       "LBXSAPSI      -0.061443  1.000000       0.921705\n",
       "loge_LBXSAPSI -0.066158  0.921705       1.000000"
      ]
     },
     "execution_count": 12,
     "metadata": {},
     "output_type": "execute_result"
    }
   ],
   "source": [
    "df_VID_SALP_G[['LBXVIDMS','LBXSAPSI','loge_LBXSAPSI']].dropna().corr()"
   ]
  },
  {
   "cell_type": "code",
   "execution_count": 13,
   "id": "alpine-significance",
   "metadata": {},
   "outputs": [
    {
     "data": {
      "text/html": [
       "<div>\n",
       "<style scoped>\n",
       "    .dataframe tbody tr th:only-of-type {\n",
       "        vertical-align: middle;\n",
       "    }\n",
       "\n",
       "    .dataframe tbody tr th {\n",
       "        vertical-align: top;\n",
       "    }\n",
       "\n",
       "    .dataframe thead th {\n",
       "        text-align: right;\n",
       "    }\n",
       "</style>\n",
       "<table border=\"1\" class=\"dataframe\">\n",
       "  <thead>\n",
       "    <tr style=\"text-align: right;\">\n",
       "      <th></th>\n",
       "      <th>LBXVIDMS</th>\n",
       "      <th>LBXSAPSI</th>\n",
       "      <th>loge_LBXSAPSI</th>\n",
       "    </tr>\n",
       "  </thead>\n",
       "  <tbody>\n",
       "    <tr>\n",
       "      <th>count</th>\n",
       "      <td>5230.000000</td>\n",
       "      <td>5230.000000</td>\n",
       "      <td>5230.000000</td>\n",
       "    </tr>\n",
       "    <tr>\n",
       "      <th>mean</th>\n",
       "      <td>65.888178</td>\n",
       "      <td>66.750669</td>\n",
       "      <td>4.148333</td>\n",
       "    </tr>\n",
       "    <tr>\n",
       "      <th>std</th>\n",
       "      <td>28.517465</td>\n",
       "      <td>26.321398</td>\n",
       "      <td>0.314332</td>\n",
       "    </tr>\n",
       "    <tr>\n",
       "      <th>min</th>\n",
       "      <td>9.370000</td>\n",
       "      <td>9.000000</td>\n",
       "      <td>2.197225</td>\n",
       "    </tr>\n",
       "    <tr>\n",
       "      <th>25%</th>\n",
       "      <td>46.125000</td>\n",
       "      <td>52.000000</td>\n",
       "      <td>3.951244</td>\n",
       "    </tr>\n",
       "    <tr>\n",
       "      <th>50%</th>\n",
       "      <td>63.000000</td>\n",
       "      <td>63.000000</td>\n",
       "      <td>4.143135</td>\n",
       "    </tr>\n",
       "    <tr>\n",
       "      <th>75%</th>\n",
       "      <td>81.500000</td>\n",
       "      <td>77.000000</td>\n",
       "      <td>4.343805</td>\n",
       "    </tr>\n",
       "    <tr>\n",
       "      <th>max</th>\n",
       "      <td>318.000000</td>\n",
       "      <td>907.000000</td>\n",
       "      <td>6.810142</td>\n",
       "    </tr>\n",
       "  </tbody>\n",
       "</table>\n",
       "</div>"
      ],
      "text/plain": [
       "          LBXVIDMS     LBXSAPSI  loge_LBXSAPSI\n",
       "count  5230.000000  5230.000000    5230.000000\n",
       "mean     65.888178    66.750669       4.148333\n",
       "std      28.517465    26.321398       0.314332\n",
       "min       9.370000     9.000000       2.197225\n",
       "25%      46.125000    52.000000       3.951244\n",
       "50%      63.000000    63.000000       4.143135\n",
       "75%      81.500000    77.000000       4.343805\n",
       "max     318.000000   907.000000       6.810142"
      ]
     },
     "execution_count": 13,
     "metadata": {},
     "output_type": "execute_result"
    }
   ],
   "source": [
    "df_VID_SALP_H[['LBXVIDMS','LBXSAPSI','loge_LBXSAPSI']].dropna().describe()"
   ]
  },
  {
   "cell_type": "code",
   "execution_count": 14,
   "id": "local-damage",
   "metadata": {},
   "outputs": [
    {
     "data": {
      "text/html": [
       "<div>\n",
       "<style scoped>\n",
       "    .dataframe tbody tr th:only-of-type {\n",
       "        vertical-align: middle;\n",
       "    }\n",
       "\n",
       "    .dataframe tbody tr th {\n",
       "        vertical-align: top;\n",
       "    }\n",
       "\n",
       "    .dataframe thead th {\n",
       "        text-align: right;\n",
       "    }\n",
       "</style>\n",
       "<table border=\"1\" class=\"dataframe\">\n",
       "  <thead>\n",
       "    <tr style=\"text-align: right;\">\n",
       "      <th></th>\n",
       "      <th>LBXVIDMS</th>\n",
       "      <th>LBXSAPSI</th>\n",
       "      <th>loge_LBXSAPSI</th>\n",
       "    </tr>\n",
       "  </thead>\n",
       "  <tbody>\n",
       "    <tr>\n",
       "      <th>LBXVIDMS</th>\n",
       "      <td>1.000000</td>\n",
       "      <td>-0.056290</td>\n",
       "      <td>-0.072727</td>\n",
       "    </tr>\n",
       "    <tr>\n",
       "      <th>LBXSAPSI</th>\n",
       "      <td>-0.056290</td>\n",
       "      <td>1.000000</td>\n",
       "      <td>0.891456</td>\n",
       "    </tr>\n",
       "    <tr>\n",
       "      <th>loge_LBXSAPSI</th>\n",
       "      <td>-0.072727</td>\n",
       "      <td>0.891456</td>\n",
       "      <td>1.000000</td>\n",
       "    </tr>\n",
       "  </tbody>\n",
       "</table>\n",
       "</div>"
      ],
      "text/plain": [
       "               LBXVIDMS  LBXSAPSI  loge_LBXSAPSI\n",
       "LBXVIDMS       1.000000 -0.056290      -0.072727\n",
       "LBXSAPSI      -0.056290  1.000000       0.891456\n",
       "loge_LBXSAPSI -0.072727  0.891456       1.000000"
      ]
     },
     "execution_count": 14,
     "metadata": {},
     "output_type": "execute_result"
    }
   ],
   "source": [
    "df_VID_SALP_H[['LBXVIDMS','LBXSAPSI','loge_LBXSAPSI']].dropna().corr()"
   ]
  },
  {
   "cell_type": "code",
   "execution_count": 15,
   "id": "analyzed-allah",
   "metadata": {},
   "outputs": [
    {
     "data": {
      "text/html": [
       "<div>\n",
       "<style scoped>\n",
       "    .dataframe tbody tr th:only-of-type {\n",
       "        vertical-align: middle;\n",
       "    }\n",
       "\n",
       "    .dataframe tbody tr th {\n",
       "        vertical-align: top;\n",
       "    }\n",
       "\n",
       "    .dataframe thead th {\n",
       "        text-align: right;\n",
       "    }\n",
       "</style>\n",
       "<table border=\"1\" class=\"dataframe\">\n",
       "  <thead>\n",
       "    <tr style=\"text-align: right;\">\n",
       "      <th></th>\n",
       "      <th>LBXVIDMS</th>\n",
       "      <th>LBXSAPSI</th>\n",
       "      <th>loge_LBXSAPSI</th>\n",
       "    </tr>\n",
       "  </thead>\n",
       "  <tbody>\n",
       "    <tr>\n",
       "      <th>count</th>\n",
       "      <td>5076.000000</td>\n",
       "      <td>5076.000000</td>\n",
       "      <td>5076.000000</td>\n",
       "    </tr>\n",
       "    <tr>\n",
       "      <th>mean</th>\n",
       "      <td>65.372898</td>\n",
       "      <td>69.832939</td>\n",
       "      <td>4.198262</td>\n",
       "    </tr>\n",
       "    <tr>\n",
       "      <th>std</th>\n",
       "      <td>28.743187</td>\n",
       "      <td>23.681775</td>\n",
       "      <td>0.303628</td>\n",
       "    </tr>\n",
       "    <tr>\n",
       "      <th>min</th>\n",
       "      <td>7.040000</td>\n",
       "      <td>23.000000</td>\n",
       "      <td>3.135494</td>\n",
       "    </tr>\n",
       "    <tr>\n",
       "      <th>25%</th>\n",
       "      <td>44.600000</td>\n",
       "      <td>54.000000</td>\n",
       "      <td>3.988984</td>\n",
       "    </tr>\n",
       "    <tr>\n",
       "      <th>50%</th>\n",
       "      <td>61.750000</td>\n",
       "      <td>66.000000</td>\n",
       "      <td>4.189655</td>\n",
       "    </tr>\n",
       "    <tr>\n",
       "      <th>75%</th>\n",
       "      <td>80.400000</td>\n",
       "      <td>81.000000</td>\n",
       "      <td>4.394449</td>\n",
       "    </tr>\n",
       "    <tr>\n",
       "      <th>max</th>\n",
       "      <td>253.000000</td>\n",
       "      <td>384.000000</td>\n",
       "      <td>5.950643</td>\n",
       "    </tr>\n",
       "  </tbody>\n",
       "</table>\n",
       "</div>"
      ],
      "text/plain": [
       "          LBXVIDMS     LBXSAPSI  loge_LBXSAPSI\n",
       "count  5076.000000  5076.000000    5076.000000\n",
       "mean     65.372898    69.832939       4.198262\n",
       "std      28.743187    23.681775       0.303628\n",
       "min       7.040000    23.000000       3.135494\n",
       "25%      44.600000    54.000000       3.988984\n",
       "50%      61.750000    66.000000       4.189655\n",
       "75%      80.400000    81.000000       4.394449\n",
       "max     253.000000   384.000000       5.950643"
      ]
     },
     "execution_count": 15,
     "metadata": {},
     "output_type": "execute_result"
    }
   ],
   "source": [
    "df_VID_SALP_I[['LBXVIDMS','LBXSAPSI','loge_LBXSAPSI']].dropna().describe()"
   ]
  },
  {
   "cell_type": "code",
   "execution_count": 16,
   "id": "reverse-notebook",
   "metadata": {},
   "outputs": [
    {
     "data": {
      "text/html": [
       "<div>\n",
       "<style scoped>\n",
       "    .dataframe tbody tr th:only-of-type {\n",
       "        vertical-align: middle;\n",
       "    }\n",
       "\n",
       "    .dataframe tbody tr th {\n",
       "        vertical-align: top;\n",
       "    }\n",
       "\n",
       "    .dataframe thead th {\n",
       "        text-align: right;\n",
       "    }\n",
       "</style>\n",
       "<table border=\"1\" class=\"dataframe\">\n",
       "  <thead>\n",
       "    <tr style=\"text-align: right;\">\n",
       "      <th></th>\n",
       "      <th>LBXVIDMS</th>\n",
       "      <th>LBXSAPSI</th>\n",
       "      <th>loge_LBXSAPSI</th>\n",
       "    </tr>\n",
       "  </thead>\n",
       "  <tbody>\n",
       "    <tr>\n",
       "      <th>LBXVIDMS</th>\n",
       "      <td>1.000000</td>\n",
       "      <td>-0.090762</td>\n",
       "      <td>-0.091647</td>\n",
       "    </tr>\n",
       "    <tr>\n",
       "      <th>LBXSAPSI</th>\n",
       "      <td>-0.090762</td>\n",
       "      <td>1.000000</td>\n",
       "      <td>0.952316</td>\n",
       "    </tr>\n",
       "    <tr>\n",
       "      <th>loge_LBXSAPSI</th>\n",
       "      <td>-0.091647</td>\n",
       "      <td>0.952316</td>\n",
       "      <td>1.000000</td>\n",
       "    </tr>\n",
       "  </tbody>\n",
       "</table>\n",
       "</div>"
      ],
      "text/plain": [
       "               LBXVIDMS  LBXSAPSI  loge_LBXSAPSI\n",
       "LBXVIDMS       1.000000 -0.090762      -0.091647\n",
       "LBXSAPSI      -0.090762  1.000000       0.952316\n",
       "loge_LBXSAPSI -0.091647  0.952316       1.000000"
      ]
     },
     "execution_count": 16,
     "metadata": {},
     "output_type": "execute_result"
    }
   ],
   "source": [
    "df_VID_SALP_I[['LBXVIDMS','LBXSAPSI','loge_LBXSAPSI']].dropna().corr()"
   ]
  },
  {
   "cell_type": "code",
   "execution_count": 17,
   "id": "widespread-chinese",
   "metadata": {},
   "outputs": [
    {
     "data": {
      "text/html": [
       "<div>\n",
       "<style scoped>\n",
       "    .dataframe tbody tr th:only-of-type {\n",
       "        vertical-align: middle;\n",
       "    }\n",
       "\n",
       "    .dataframe tbody tr th {\n",
       "        vertical-align: top;\n",
       "    }\n",
       "\n",
       "    .dataframe thead th {\n",
       "        text-align: right;\n",
       "    }\n",
       "</style>\n",
       "<table border=\"1\" class=\"dataframe\">\n",
       "  <thead>\n",
       "    <tr style=\"text-align: right;\">\n",
       "      <th></th>\n",
       "      <th>SEQN</th>\n",
       "      <th>RIDAGEYR</th>\n",
       "      <th>LBXVIDMS</th>\n",
       "      <th>LBXSAPSI</th>\n",
       "      <th>loge_LBXSAPSI</th>\n",
       "    </tr>\n",
       "  </thead>\n",
       "  <tbody>\n",
       "    <tr>\n",
       "      <th>count</th>\n",
       "      <td>25201.000000</td>\n",
       "      <td>25201.000000</td>\n",
       "      <td>25201.000000</td>\n",
       "      <td>25201.000000</td>\n",
       "      <td>25201.000000</td>\n",
       "    </tr>\n",
       "    <tr>\n",
       "      <th>mean</th>\n",
       "      <td>67884.708861</td>\n",
       "      <td>50.033888</td>\n",
       "      <td>64.240195</td>\n",
       "      <td>68.943415</td>\n",
       "      <td>4.182962</td>\n",
       "    </tr>\n",
       "    <tr>\n",
       "      <th>std</th>\n",
       "      <td>15113.075578</td>\n",
       "      <td>17.407045</td>\n",
       "      <td>27.498004</td>\n",
       "      <td>24.794901</td>\n",
       "      <td>0.311037</td>\n",
       "    </tr>\n",
       "    <tr>\n",
       "      <th>min</th>\n",
       "      <td>41475.000000</td>\n",
       "      <td>21.000000</td>\n",
       "      <td>5.410000</td>\n",
       "      <td>7.000000</td>\n",
       "      <td>1.945910</td>\n",
       "    </tr>\n",
       "    <tr>\n",
       "      <th>25%</th>\n",
       "      <td>54990.000000</td>\n",
       "      <td>35.000000</td>\n",
       "      <td>44.500000</td>\n",
       "      <td>54.000000</td>\n",
       "      <td>3.988984</td>\n",
       "    </tr>\n",
       "    <tr>\n",
       "      <th>50%</th>\n",
       "      <td>67298.000000</td>\n",
       "      <td>50.000000</td>\n",
       "      <td>61.500000</td>\n",
       "      <td>65.000000</td>\n",
       "      <td>4.174387</td>\n",
       "    </tr>\n",
       "    <tr>\n",
       "      <th>75%</th>\n",
       "      <td>81290.000000</td>\n",
       "      <td>64.000000</td>\n",
       "      <td>79.700000</td>\n",
       "      <td>80.000000</td>\n",
       "      <td>4.382027</td>\n",
       "    </tr>\n",
       "    <tr>\n",
       "      <th>max</th>\n",
       "      <td>93702.000000</td>\n",
       "      <td>80.000000</td>\n",
       "      <td>375.000000</td>\n",
       "      <td>907.000000</td>\n",
       "      <td>6.810142</td>\n",
       "    </tr>\n",
       "  </tbody>\n",
       "</table>\n",
       "</div>"
      ],
      "text/plain": [
       "               SEQN      RIDAGEYR      LBXVIDMS      LBXSAPSI  loge_LBXSAPSI\n",
       "count  25201.000000  25201.000000  25201.000000  25201.000000   25201.000000\n",
       "mean   67884.708861     50.033888     64.240195     68.943415       4.182962\n",
       "std    15113.075578     17.407045     27.498004     24.794901       0.311037\n",
       "min    41475.000000     21.000000      5.410000      7.000000       1.945910\n",
       "25%    54990.000000     35.000000     44.500000     54.000000       3.988984\n",
       "50%    67298.000000     50.000000     61.500000     65.000000       4.174387\n",
       "75%    81290.000000     64.000000     79.700000     80.000000       4.382027\n",
       "max    93702.000000     80.000000    375.000000    907.000000       6.810142"
      ]
     },
     "execution_count": 17,
     "metadata": {},
     "output_type": "execute_result"
    }
   ],
   "source": [
    "df_VID_SALP=pd.concat([df_VID_SALP_E,df_VID_SALP_F,df_VID_SALP_G,df_VID_SALP_H,df_VID_SALP_I])\n",
    "df_VID_SALP.dropna().describe()"
   ]
  },
  {
   "cell_type": "code",
   "execution_count": 18,
   "id": "differential-pursuit",
   "metadata": {},
   "outputs": [
    {
     "data": {
      "text/html": [
       "<div>\n",
       "<style scoped>\n",
       "    .dataframe tbody tr th:only-of-type {\n",
       "        vertical-align: middle;\n",
       "    }\n",
       "\n",
       "    .dataframe tbody tr th {\n",
       "        vertical-align: top;\n",
       "    }\n",
       "\n",
       "    .dataframe thead th {\n",
       "        text-align: right;\n",
       "    }\n",
       "</style>\n",
       "<table border=\"1\" class=\"dataframe\">\n",
       "  <thead>\n",
       "    <tr style=\"text-align: right;\">\n",
       "      <th></th>\n",
       "      <th>LBXVIDMS</th>\n",
       "      <th>LBXSAPSI</th>\n",
       "      <th>loge_LBXSAPSI</th>\n",
       "    </tr>\n",
       "  </thead>\n",
       "  <tbody>\n",
       "    <tr>\n",
       "      <th>LBXVIDMS</th>\n",
       "      <td>1.000000</td>\n",
       "      <td>-0.087982</td>\n",
       "      <td>-0.098565</td>\n",
       "    </tr>\n",
       "    <tr>\n",
       "      <th>LBXSAPSI</th>\n",
       "      <td>-0.087982</td>\n",
       "      <td>1.000000</td>\n",
       "      <td>0.926991</td>\n",
       "    </tr>\n",
       "    <tr>\n",
       "      <th>loge_LBXSAPSI</th>\n",
       "      <td>-0.098565</td>\n",
       "      <td>0.926991</td>\n",
       "      <td>1.000000</td>\n",
       "    </tr>\n",
       "  </tbody>\n",
       "</table>\n",
       "</div>"
      ],
      "text/plain": [
       "               LBXVIDMS  LBXSAPSI  loge_LBXSAPSI\n",
       "LBXVIDMS       1.000000 -0.087982      -0.098565\n",
       "LBXSAPSI      -0.087982  1.000000       0.926991\n",
       "loge_LBXSAPSI -0.098565  0.926991       1.000000"
      ]
     },
     "execution_count": 18,
     "metadata": {},
     "output_type": "execute_result"
    }
   ],
   "source": [
    "df_VID_SALP[['LBXVIDMS','LBXSAPSI','loge_LBXSAPSI']].dropna().corr()"
   ]
  },
  {
   "cell_type": "code",
   "execution_count": 19,
   "id": "smaller-jumping",
   "metadata": {},
   "outputs": [
    {
     "data": {
      "text/plain": [
       "array([[<AxesSubplot:title={'center':'LBXVIDMS'}>]], dtype=object)"
      ]
     },
     "execution_count": 19,
     "metadata": {},
     "output_type": "execute_result"
    },
    {
     "data": {
      "image/png": "[encoded data removed]",
      "text/plain": [
       "<Figure size 432x288 with 1 Axes>"
      ]
     },
     "metadata": {
      "needs_background": "light"
     },
     "output_type": "display_data"
    }
   ],
   "source": [
    "df_VID_SALP[['LBXVIDMS']].hist(bins=50)"
   ]
  },
  {
   "cell_type": "code",
   "execution_count": 20,
   "id": "superior-connection",
   "metadata": {},
   "outputs": [
    {
     "data": {
      "text/plain": [
       "<AxesSubplot:>"
      ]
     },
     "execution_count": 20,
     "metadata": {},
     "output_type": "execute_result"
    },
    {
     "data": {
      "image/png": "[encoded data removed]",
      "text/plain": [
       "<Figure size 432x288 with 1 Axes>"
      ]
     },
     "metadata": {
      "needs_background": "light"
     },
     "output_type": "display_data"
    }
   ],
   "source": [
    "df_VID_SALP[df_VID_SALP['LBXVIDMS']<150]['LBXVIDMS'].hist(bins=100)"
   ]
  },
  {
   "cell_type": "code",
   "execution_count": 21,
   "id": "completed-roller",
   "metadata": {},
   "outputs": [
    {
     "data": {
      "text/plain": [
       "array([[<AxesSubplot:title={'center':'LBXSAPSI'}>]], dtype=object)"
      ]
     },
     "execution_count": 21,
     "metadata": {},
     "output_type": "execute_result"
    },
    {
     "data": {
      "image/png": "[encoded data removed]",
      "text/plain": [
       "<Figure size 432x288 with 1 Axes>"
      ]
     },
     "metadata": {
      "needs_background": "light"
     },
     "output_type": "display_data"
    }
   ],
   "source": [
    "df_VID_SALP[['LBXSAPSI']].hist(bins=150)"
   ]
  },
  {
   "cell_type": "code",
   "execution_count": 22,
   "id": "inner-kuwait",
   "metadata": {},
   "outputs": [
    {
     "data": {
      "text/plain": [
       "<AxesSubplot:>"
      ]
     },
     "execution_count": 22,
     "metadata": {},
     "output_type": "execute_result"
    },
    {
     "data": {
      "image/png": "[encoded data removed]",
      "text/plain": [
       "<Figure size 432x288 with 1 Axes>"
      ]
     },
     "metadata": {
      "needs_background": "light"
     },
     "output_type": "display_data"
    }
   ],
   "source": [
    "df_VID_SALP[df_VID_SALP['LBXSAPSI']<200]['LBXSAPSI'].hist(bins=100)"
   ]
  },
  {
   "cell_type": "code",
   "execution_count": 23,
   "id": "trained-syndication",
   "metadata": {},
   "outputs": [
    {
     "data": {
      "text/plain": [
       "array([[<AxesSubplot:title={'center':'loge_LBXSAPSI'}>]], dtype=object)"
      ]
     },
     "execution_count": 23,
     "metadata": {},
     "output_type": "execute_result"
    },
    {
     "data": {
      "image/png": "[encoded data removed]",
      "text/plain": [
       "<Figure size 432x288 with 1 Axes>"
      ]
     },
     "metadata": {
      "needs_background": "light"
     },
     "output_type": "display_data"
    }
   ],
   "source": [
    "df_VID_SALP[['loge_LBXSAPSI']].hist(bins=50)"
   ]
  },
  {
   "cell_type": "code",
   "execution_count": 24,
   "id": "tired-graphics",
   "metadata": {},
   "outputs": [
    {
     "name": "stdout",
     "output_type": "stream",
     "text": [
      "                            OLS Regression Results                            \n",
      "==============================================================================\n",
      "Dep. Variable:          loge_LBXSAPSI   R-squared:                       0.010\n",
      "Model:                            OLS   Adj. R-squared:                  0.010\n",
      "Method:                 Least Squares   F-statistic:                     247.2\n",
      "Date:                Fri, 10 Dec 2021   Prob (F-statistic):           1.93e-55\n",
      "Time:                        07:47:02   Log-Likelihood:                -6204.4\n",
      "No. Observations:               25201   AIC:                         1.241e+04\n",
      "Df Residuals:                   25199   BIC:                         1.243e+04\n",
      "Df Model:                           1                                         \n",
      "Covariance Type:            nonrobust                                         \n",
      "==============================================================================\n",
      "                 coef    std err          t      P>|t|      [0.025      0.975]\n",
      "------------------------------------------------------------------------------\n",
      "Intercept      4.2546      0.005    858.653      0.000       4.245       4.264\n",
      "LBXVIDMS      -0.0011   7.09e-05    -15.723      0.000      -0.001      -0.001\n",
      "==============================================================================\n",
      "Omnibus:                     1150.191   Durbin-Watson:                   1.994\n",
      "Prob(Omnibus):                  0.000   Jarque-Bera (JB):             3134.382\n",
      "Skew:                           0.222   Prob(JB):                         0.00\n",
      "Kurtosis:                       4.670   Cond. No.                         178.\n",
      "==============================================================================\n",
      "\n",
      "Notes:\n",
      "[1] Standard Errors assume that the covariance matrix of the errors is correctly specified.\n"
     ]
    }
   ],
   "source": [
    "model = smf.ols(formula=\"loge_LBXSAPSI ~ LBXVIDMS\", data=df_VID_SALP).fit()\n",
    "print(model.summary())"
   ]
  },
  {
   "cell_type": "code",
   "execution_count": 25,
   "id": "prospective-hardware",
   "metadata": {},
   "outputs": [
    {
     "data": {
      "text/plain": [
       "[<matplotlib.lines.Line2D at 0x1fa4c6d0>]"
      ]
     },
     "execution_count": 25,
     "metadata": {},
     "output_type": "execute_result"
    },
    {
     "data": {
      "image/png": "[encoded data removed]",
      "text/plain": [
       "<Figure size 432x288 with 1 Axes>"
      ]
     },
     "metadata": {
      "needs_background": "light"
     },
     "output_type": "display_data"
    }
   ],
   "source": [
    "x=[i for i in range(0,350)]\n",
    "\n",
    "y=[model.params[0]+i*model.params[1] for i in x]\n",
    "\n",
    "plt.plot(df_VID_SALP['LBXVIDMS'],df_VID_SALP['loge_LBXSAPSI'],'*')\n",
    "plt.plot(x,y,'r')"
   ]
  },
  {
   "cell_type": "code",
   "execution_count": 26,
   "id": "animated-tunnel",
   "metadata": {},
   "outputs": [],
   "source": [
    "# df_merge_paq_dbq[['LBXVIDMS','LBXSAPSI']].groupby(df_merge_paq_dbq['LBXVIDMS']).mean().plot(marker='*',x='DBQ700',y='DXDTRPF')"
   ]
  },
  {
   "cell_type": "code",
   "execution_count": 27,
   "id": "affiliated-speed",
   "metadata": {},
   "outputs": [
    {
     "data": {
      "text/plain": [
       "<AxesSubplot:xlabel='LBXVIDMS'>"
      ]
     },
     "execution_count": 27,
     "metadata": {},
     "output_type": "execute_result"
    },
    {
     "data": {
      "image/png": "[encoded data removed]",
      "text/plain": [
       "<Figure size 432x288 with 1 Axes>"
      ]
     },
     "metadata": {
      "needs_background": "light"
     },
     "output_type": "display_data"
    }
   ],
   "source": [
    "df_VID_SALP[['LBXVIDMS','LBXSAPSI']].groupby(pd.cut(df_VID_SALP['LBXVIDMS'], [df_VID_SALP['LBXVIDMS'].min(),df_VID_SALP['LBXVIDMS'].describe()['25%'], df_VID_SALP['LBXVIDMS'].describe()['50%'],df_VID_SALP['LBXVIDMS'].describe()['75%'],df_VID_SALP['LBXVIDMS'].max()])).mean().plot(marker='*',x='LBXVIDMS',y='LBXSAPSI')"
   ]
  },
  {
   "cell_type": "code",
   "execution_count": 28,
   "id": "muslim-chester",
   "metadata": {},
   "outputs": [
    {
     "data": {
      "text/plain": [
       "<AxesSubplot:xlabel='LBXVIDMS'>"
      ]
     },
     "execution_count": 28,
     "metadata": {},
     "output_type": "execute_result"
    },
    {
     "data": {
      "image/png": "[encoded data removed]",
      "text/plain": [
       "<Figure size 432x288 with 1 Axes>"
      ]
     },
     "metadata": {
      "needs_background": "light"
     },
     "output_type": "display_data"
    }
   ],
   "source": [
    "df_VID_SALP[['LBXVIDMS','loge_LBXSAPSI']].groupby(pd.cut(df_VID_SALP['LBXVIDMS'], [df_VID_SALP['LBXVIDMS'].min(),df_VID_SALP['LBXVIDMS'].describe()['25%'], df_VID_SALP['LBXVIDMS'].describe()['50%'],df_VID_SALP['LBXVIDMS'].describe()['75%'],df_VID_SALP['LBXVIDMS'].max()])).mean().plot(marker='*',x='LBXVIDMS',y='loge_LBXSAPSI')"
   ]
  },
  {
   "cell_type": "code",
   "execution_count": 29,
   "id": "creative-paintball",
   "metadata": {},
   "outputs": [],
   "source": [
    "# 100*(32016-30180)/(32016)"
   ]
  },
  {
   "cell_type": "code",
   "execution_count": 30,
   "id": "jewish-fishing",
   "metadata": {},
   "outputs": [],
   "source": [
    "train_test_split?"
   ]
  },
  {
   "cell_type": "code",
   "execution_count": 31,
   "id": "speaking-discipline",
   "metadata": {},
   "outputs": [],
   "source": [
    "dataset_ai=df_VID_SALP[['LBXVIDMS','loge_LBXSAPSI']].dropna()\n",
    "X = dataset_ai[['LBXVIDMS']]\n",
    "y = dataset_ai['loge_LBXSAPSI']\n",
    "train_X, val_X, train_y, val_y = train_test_split(X, y,test_size=0.2, random_state=1)"
   ]
  },
  {
   "cell_type": "code",
   "execution_count": 32,
   "id": "streaming-northern",
   "metadata": {},
   "outputs": [],
   "source": [
    "# UNQ_C1 (UNIQUE CELL IDENTIFIER, DO NOT EDIT)\n",
    "def make_standard_normal(df_train, df_test):\n",
    "    \"\"\"\n",
    "    In order to make the data closer to a normal distribution, take log\n",
    "    transforms to reduce the skew.\n",
    "    Then standardize the distribution with a mean of zero and standard deviation of 1. \n",
    "  \n",
    "    Args:\n",
    "      df_train (dataframe): unnormalized training data.\n",
    "      df_test (dataframe): unnormalized test data.\n",
    "  \n",
    "    Returns:\n",
    "      df_train_normalized (dateframe): normalized training data.\n",
    "      df_test_normalized (dataframe): normalized test data.\n",
    "    \"\"\"\n",
    "    \n",
    "    ### START CODE HERE (REPLACE INSTANCES OF 'None' with your code) ###  \n",
    "    # Remove skew by applying the log function to the train set, and to the test set\n",
    "    df_train_unskewed = np.log(df_train)\n",
    "    df_test_unskewed = np.log(df_test)\n",
    "    \n",
    "    #calculate the mean and standard deviation of the training set\n",
    "    mean = np.mean(df_train_unskewed,axis=0)\n",
    "    stdev = df_train_unskewed.std(axis=0,ddof=1)\n",
    "#     stdev = np.std(df_train_unskewed,axis=0,ddof=1)\n",
    "    \n",
    "    # standardize the training set\n",
    "    df_train_standardized = (df_train_unskewed-mean)/stdev\n",
    "    \n",
    "    # standardize the test set (see instructions and hints above)\n",
    "    df_test_standardized = (df_test_unskewed-mean)/stdev\n",
    "    \n",
    "    ### END CODE HERE ###\n",
    "    return df_train_standardized, df_test_standardized"
   ]
  },
  {
   "cell_type": "code",
   "execution_count": 33,
   "id": "recorded-position",
   "metadata": {},
   "outputs": [],
   "source": [
    "X_train, X_test = make_standard_normal(train_X, val_X)"
   ]
  },
  {
   "cell_type": "code",
   "execution_count": 34,
   "id": "canadian-vocabulary",
   "metadata": {},
   "outputs": [
    {
     "data": {
      "text/plain": [
       "array([[<AxesSubplot:title={'center':'LBXVIDMS'}>]], dtype=object)"
      ]
     },
     "execution_count": 34,
     "metadata": {},
     "output_type": "execute_result"
    },
    {
     "data": {
      "image/png": "[encoded data removed]",
      "text/plain": [
       "<Figure size 432x288 with 1 Axes>"
      ]
     },
     "metadata": {
      "needs_background": "light"
     },
     "output_type": "display_data"
    }
   ],
   "source": [
    "train_X.hist(bins=100)"
   ]
  },
  {
   "cell_type": "code",
   "execution_count": 35,
   "id": "endangered-secret",
   "metadata": {},
   "outputs": [
    {
     "data": {
      "text/plain": [
       "array([[<AxesSubplot:title={'center':'LBXVIDMS'}>]], dtype=object)"
      ]
     },
     "execution_count": 35,
     "metadata": {},
     "output_type": "execute_result"
    },
    {
     "data": {
      "image/png": "[encoded data removed]",
      "text/plain": [
       "<Figure size 432x288 with 1 Axes>"
      ]
     },
     "metadata": {
      "needs_background": "light"
     },
     "output_type": "display_data"
    }
   ],
   "source": [
    "X_train.hist(bins=100)"
   ]
  },
  {
   "cell_type": "code",
   "execution_count": 36,
   "id": "nominated-compiler",
   "metadata": {},
   "outputs": [],
   "source": [
    "# create regressor object \n",
    "regressor = RandomForestRegressor(n_estimators = 100, random_state = 0) \n",
    "  \n",
    "# fit the regressor with x and y data \n",
    "my_model =regressor.fit(train_X, train_y)"
   ]
  },
  {
   "cell_type": "code",
   "execution_count": 37,
   "id": "mental-devil",
   "metadata": {},
   "outputs": [],
   "source": [
    "y_pred = my_model.predict(val_X)"
   ]
  },
  {
   "cell_type": "code",
   "execution_count": 39,
   "id": "parallel-tsunami",
   "metadata": {},
   "outputs": [
    {
     "data": {
      "text/plain": [
       "-0.0339448778437077"
      ]
     },
     "execution_count": 39,
     "metadata": {},
     "output_type": "execute_result"
    }
   ],
   "source": [
    "from sklearn.metrics import r2_score\n",
    "rsquare = r2_score(val_y, y_pred) #can be negative as the AI model are not linear regressors \n",
    "rsquare"
   ]
  },
  {
   "cell_type": "markdown",
   "id": "equipped-court",
   "metadata": {},
   "source": [
    "## Inference: \n",
    "#### There is small but statistically significant negative correlation between vit D and serum ALP. However the AI model couldn't predict weak correlation. "
   ]
  },
  {
   "cell_type": "code",
   "execution_count": null,
   "id": "organic-baseball",
   "metadata": {},
   "outputs": [],
   "source": []
  },
  {
   "cell_type": "code",
   "execution_count": null,
   "id": "treated-fifteen",
   "metadata": {},
   "outputs": [],
   "source": []
  }
 ],
 "metadata": {
  "kernelspec": {
   "display_name": "Python 3",
   "language": "python",
   "name": "python3"
  },
  "language_info": {
   "codemirror_mode": {
    "name": "ipython",
    "version": 3
   },
   "file_extension": ".py",
   "mimetype": "text/x-python",
   "name": "python",
   "nbconvert_exporter": "python",
   "pygments_lexer": "ipython3",
   "version": "3.8.8"
  }
 },
 "nbformat": 4,
 "nbformat_minor": 5
}
