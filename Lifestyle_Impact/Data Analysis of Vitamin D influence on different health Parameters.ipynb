{
 "cells": [
  {
   "cell_type": "markdown",
   "id": "intellectual-modification",
   "metadata": {},
   "source": [
    "# Motivation:\n",
    "\n",
    "Vitmain D deficiency is one of the most prevalent yet underappreciated deficiency in adults especially with more people spending time indoors. The project specifically explores the vitD deficiency impact on body mass index, Insulin, heart rate etc\n",
    "\n",
    "### References\n",
    "Jonasson TH, Costa TMDRL, Petterle RR, Moreira CA, Borba VZC. Body composition in nonobese individuals according to vitamin D level. PLoS One. 2020 Nov 9;15(11):e0241858. doi: 10.1371/journal.pone.0241858. PMID: 33166333; PMCID: PMC7652291.\n",
    "\n",
    "Zaidi SA, Singh G, Owojori O, Kela R, Spoors S, Abbas M, Barton F, Rogers C. Vitamin D Deficiency in Medical Inpatients: A Retrospective Study of Implications of Untreated Versus Treated Deficiency. Nutr Metab Insights. 2016 Sep 21;9:65-9. doi: 10.4137/NMI.S33747. PMID: 27688711; PMCID: PMC5033132.\n",
    "\n",
    "Ashtary-Larky D, Kheirollah A, Bagheri R, Ghaffari MA, Mard SA, Hashemi SJ, Mir I, Wong A. A single injection of vitamin D3 improves insulin sensitivity and β-cell function but not muscle damage or the inflammatory and cardiovascular responses to an acute bout of resistance exercise in vitamin D-deficient resistance-trained males. Br J Nutr. 2020 Feb 28;123(4):394-401. doi: 10.1017/S0007114519002770. Epub 2019 Nov 8. PMID: 31701851.\n",
    "\n",
    "Golzarand M, Hollis BW, Mirmiran P, Wagner CL, Shab-Bidar S. Vitamin D supplementation and body fat mass: a systematic review and meta-analysis. Eur J Clin Nutr. 2018 Oct;72(10):1345-1357. doi: 10.1038/s41430-018-0132-z. Epub 2018 Mar 21. PMID: 29563638.\n"
   ]
  },
  {
   "cell_type": "code",
   "execution_count": 1,
   "id": "controversial-webmaster",
   "metadata": {},
   "outputs": [],
   "source": [
    "import xport\n",
    "import numpy as np\n",
    "import pandas as pd\n",
    "import os"
   ]
  },
  {
   "cell_type": "code",
   "execution_count": 2,
   "id": "analyzed-average",
   "metadata": {},
   "outputs": [],
   "source": [
    "import matplotlib.pyplot as plt\n",
    "import seaborn as sns\n",
    "%matplotlib inline\n",
    "import statsmodels.api as sm\n",
    "import statsmodels.formula.api as smf\n",
    "from statsmodels.stats import weightstats as stests\n",
    "from scipy import stats"
   ]
  },
  {
   "cell_type": "code",
   "execution_count": 3,
   "id": "frozen-justice",
   "metadata": {},
   "outputs": [],
   "source": [
    "file_loc = '../nhanes_data_files/'\n",
    "df_demog_E = pd.read_sas(file_loc + 'DEMO_E_2007_2008.xpt')\n",
    "df_demog_F = pd.read_sas(file_loc + 'DEMO_F_2009_2010.xpt')\n",
    "df_demog_G = pd.read_sas(file_loc + 'DEMO_G_2011_2012.xpt')\n",
    "df_demog_H = pd.read_sas(file_loc + 'DEMO_H_2013_2014.xpt')\n",
    "df_demog_I = pd.read_sas(file_loc + 'DEMO_I_2015_2016.xpt')\n",
    "\n",
    "\n",
    "df_BMX_E = pd.read_sas(file_loc +'BMX_E_2007_2008.xpt')\n",
    "df_BIOPRO_E = pd.read_sas(file_loc +'BIOPRO_E_2007_2008.xpt')\n",
    "df_VID_E = pd.read_sas(file_loc +'VID_E_2007_2008.xpt')\n",
    "df_BPX_E = pd.read_sas(file_loc +'BPX_E_2007_2008.xpt')\n",
    "\n",
    "\n",
    "df_BMX_F = pd.read_sas(file_loc +'BMX_F_2009_2010.xpt')\n",
    "df_BIOPRO_F = pd.read_sas(file_loc +'BIOPRO_F_2009_2010.xpt')\n",
    "df_VID_F = pd.read_sas(file_loc +'VID_F_2009_2010.xpt')\n",
    "df_BPX_F = pd.read_sas(file_loc +'BPX_F_2009_2010.xpt')\n",
    "\n",
    "df_BMX_G = pd.read_sas(file_loc +'BMX_G_2011_2012.xpt')\n",
    "df_BIOPRO_G = pd.read_sas(file_loc +'BIOPRO_G_2011_2012.xpt')\n",
    "df_VID_G = pd.read_sas(file_loc +'VID_G_2011_2012.xpt')\n",
    "df_BPX_G = pd.read_sas(file_loc +'BPX_G_2011_2012.xpt')\n",
    "\n",
    "df_BMX_H = pd.read_sas(file_loc +'BMX_H_2013_2014.xpt')\n",
    "df_BIOPRO_H = pd.read_sas(file_loc +'BIOPRO_H_2013_2014.xpt')\n",
    "df_VID_H = pd.read_sas(file_loc +'VID_H_2013_2014.xpt')\n",
    "df_BPX_H = pd.read_sas(file_loc +'BPX_H_2013_2014.xpt')\n",
    "\n",
    "df_BMX_I = pd.read_sas(file_loc +'BMX_I_2015_2016.xpt')\n",
    "df_BIOPRO_I = pd.read_sas(file_loc +'BIOPRO_I_2015_2016.xpt')\n",
    "df_VID_I = pd.read_sas(file_loc +'VID_I_2015_2016.xpt')\n",
    "df_BPX_I = pd.read_sas(file_loc +'BPX_I_2015_2016.xpt')\n",
    "\n",
    "df_I_E = pd.read_sas(file_loc +'GLU_E_2007_2008.xpt')\n",
    "df_I_F = pd.read_sas(file_loc +'GLU_F_2009_2010.xpt')\n",
    "df_I_G = pd.read_sas(file_loc +'GLU_G_2011_2012.xpt')\n",
    "df_I_H = pd.read_sas(file_loc +'INS_H_2013_2014.xpt')\n",
    "df_I_I = pd.read_sas(file_loc +'INS_I_2015_2016.xpt')\n",
    "\n",
    "# df_BIOPRO_J = pd.read_sas(file_loc +'BIOPRO_J_2017_2018.xpt')\n",
    "# df_VID_J = pd.read_sas(file_loc +'VID_J_2017_2018.xpt')\n",
    "\n",
    "# df_BMX_2017_2018 = pd.read_sas(file_loc +'BMX_J_2017_2018.xpt')"
   ]
  },
  {
   "cell_type": "code",
   "execution_count": 4,
   "id": "german-intention",
   "metadata": {},
   "outputs": [],
   "source": [
    "# df_BPX_H.head(3)"
   ]
  },
  {
   "cell_type": "code",
   "execution_count": 5,
   "id": "gothic-earth",
   "metadata": {},
   "outputs": [
    {
     "data": {
      "text/html": [
       "<div>\n",
       "<style scoped>\n",
       "    .dataframe tbody tr th:only-of-type {\n",
       "        vertical-align: middle;\n",
       "    }\n",
       "\n",
       "    .dataframe tbody tr th {\n",
       "        vertical-align: top;\n",
       "    }\n",
       "\n",
       "    .dataframe thead th {\n",
       "        text-align: right;\n",
       "    }\n",
       "</style>\n",
       "<table border=\"1\" class=\"dataframe\">\n",
       "  <thead>\n",
       "    <tr style=\"text-align: right;\">\n",
       "      <th></th>\n",
       "      <th>SEQN</th>\n",
       "      <th>BMXWT</th>\n",
       "      <th>BMXBMI</th>\n",
       "      <th>BMXWAIST</th>\n",
       "    </tr>\n",
       "  </thead>\n",
       "  <tbody>\n",
       "    <tr>\n",
       "      <th>0</th>\n",
       "      <td>83732.0</td>\n",
       "      <td>94.8</td>\n",
       "      <td>27.8</td>\n",
       "      <td>101.1</td>\n",
       "    </tr>\n",
       "    <tr>\n",
       "      <th>1</th>\n",
       "      <td>83733.0</td>\n",
       "      <td>90.4</td>\n",
       "      <td>30.8</td>\n",
       "      <td>107.9</td>\n",
       "    </tr>\n",
       "    <tr>\n",
       "      <th>2</th>\n",
       "      <td>83734.0</td>\n",
       "      <td>83.4</td>\n",
       "      <td>28.8</td>\n",
       "      <td>116.5</td>\n",
       "    </tr>\n",
       "  </tbody>\n",
       "</table>\n",
       "</div>"
      ],
      "text/plain": [
       "      SEQN  BMXWT  BMXBMI  BMXWAIST\n",
       "0  83732.0   94.8    27.8     101.1\n",
       "1  83733.0   90.4    30.8     107.9\n",
       "2  83734.0   83.4    28.8     116.5"
      ]
     },
     "execution_count": 5,
     "metadata": {},
     "output_type": "execute_result"
    }
   ],
   "source": [
    "dfbmi_E=df_BMX_E[['SEQN','BMXWT','BMXBMI','BMXWAIST']].copy()\n",
    "dfbmi_F=df_BMX_F[['SEQN','BMXWT','BMXBMI','BMXWAIST']].copy()\n",
    "dfbmi_G=df_BMX_G[['SEQN','BMXWT','BMXBMI','BMXWAIST']].copy()\n",
    "dfbmi_H=df_BMX_H[['SEQN','BMXWT','BMXBMI','BMXWAIST']].copy()\n",
    "dfbmi_I=df_BMX_I[['SEQN','BMXWT','BMXBMI','BMXWAIST']].copy()\n",
    "dfbmi_I.head(3)"
   ]
  },
  {
   "cell_type": "code",
   "execution_count": 6,
   "id": "worse-serum",
   "metadata": {},
   "outputs": [
    {
     "data": {
      "text/html": [
       "<div>\n",
       "<style scoped>\n",
       "    .dataframe tbody tr th:only-of-type {\n",
       "        vertical-align: middle;\n",
       "    }\n",
       "\n",
       "    .dataframe tbody tr th {\n",
       "        vertical-align: top;\n",
       "    }\n",
       "\n",
       "    .dataframe thead th {\n",
       "        text-align: right;\n",
       "    }\n",
       "</style>\n",
       "<table border=\"1\" class=\"dataframe\">\n",
       "  <thead>\n",
       "    <tr style=\"text-align: right;\">\n",
       "      <th></th>\n",
       "      <th>SEQN</th>\n",
       "      <th>LBXSAPSI</th>\n",
       "    </tr>\n",
       "  </thead>\n",
       "  <tbody>\n",
       "    <tr>\n",
       "      <th>0</th>\n",
       "      <td>41475.0</td>\n",
       "      <td>113.0</td>\n",
       "    </tr>\n",
       "    <tr>\n",
       "      <th>1</th>\n",
       "      <td>41477.0</td>\n",
       "      <td>44.0</td>\n",
       "    </tr>\n",
       "    <tr>\n",
       "      <th>2</th>\n",
       "      <td>41479.0</td>\n",
       "      <td>78.0</td>\n",
       "    </tr>\n",
       "    <tr>\n",
       "      <th>3</th>\n",
       "      <td>41481.0</td>\n",
       "      <td>NaN</td>\n",
       "    </tr>\n",
       "    <tr>\n",
       "      <th>4</th>\n",
       "      <td>41482.0</td>\n",
       "      <td>85.0</td>\n",
       "    </tr>\n",
       "  </tbody>\n",
       "</table>\n",
       "</div>"
      ],
      "text/plain": [
       "      SEQN  LBXSAPSI\n",
       "0  41475.0     113.0\n",
       "1  41477.0      44.0\n",
       "2  41479.0      78.0\n",
       "3  41481.0       NaN\n",
       "4  41482.0      85.0"
      ]
     },
     "execution_count": 6,
     "metadata": {},
     "output_type": "execute_result"
    }
   ],
   "source": [
    "df_ALP_E=df_BIOPRO_E[['SEQN','LBXSAPSI']].copy()\n",
    "df_ALP_F=df_BIOPRO_F[['SEQN','LBXSAPSI']].copy()\n",
    "df_ALP_G=df_BIOPRO_G[['SEQN','LBXSAPSI']].copy()\n",
    "df_ALP_H=df_BIOPRO_H[['SEQN','LBXSAPSI']].copy()\n",
    "df_ALP_I=df_BIOPRO_I[['SEQN','LBXSAPSI']].copy()\n",
    "df_ALP_E.head()"
   ]
  },
  {
   "cell_type": "code",
   "execution_count": 7,
   "id": "genuine-charity",
   "metadata": {},
   "outputs": [],
   "source": [
    "# df_VID_E.head()"
   ]
  },
  {
   "cell_type": "code",
   "execution_count": 8,
   "id": "separate-clearance",
   "metadata": {},
   "outputs": [
    {
     "data": {
      "text/plain": [
       "((5628, 9), (5947, 9), (5206, 9), (5482, 9), (5395, 9))"
      ]
     },
     "execution_count": 8,
     "metadata": {},
     "output_type": "execute_result"
    }
   ],
   "source": [
    "df_VID_SALP_E = df_demog_E[['SEQN','RIDAGEYR']].merge(df_VID_E[['SEQN','LBXVIDMS']]).merge(df_ALP_E).merge(dfbmi_E).merge(df_BPX_E[['SEQN','BPXPLS']])\n",
    "df_VID_SALP_E=df_VID_SALP_E[df_VID_SALP_E['RIDAGEYR']>20].copy()\n",
    "df_VID_SALP_E['loge_LBXSAPSI']=np.log(df_VID_SALP_E['LBXSAPSI'])\n",
    "\n",
    "df_VID_SALP_F = df_demog_F[['SEQN','RIDAGEYR']].merge(df_VID_F[['SEQN','LBXVIDMS']]).merge(df_ALP_F).merge(dfbmi_F).merge(df_BPX_F[['SEQN','BPXPLS']])\n",
    "df_VID_SALP_F=df_VID_SALP_F[df_VID_SALP_F['RIDAGEYR']>20].copy()\n",
    "df_VID_SALP_F['loge_LBXSAPSI']=np.log(df_VID_SALP_F['LBXSAPSI'])\n",
    "\n",
    "df_VID_SALP_G = df_demog_G[['SEQN','RIDAGEYR']].merge(df_VID_G[['SEQN','LBXVIDMS']]).merge(df_ALP_G).merge(dfbmi_G).merge(df_BPX_G[['SEQN','BPXPLS']])\n",
    "df_VID_SALP_G=df_VID_SALP_G[df_VID_SALP_G['RIDAGEYR']>20].copy()\n",
    "df_VID_SALP_G['loge_LBXSAPSI']=np.log(df_VID_SALP_G['LBXSAPSI'])\n",
    "\n",
    "df_VID_SALP_H = df_demog_H[['SEQN','RIDAGEYR']].merge(df_VID_H[['SEQN','LBXVIDMS']]).merge(df_ALP_H).merge(dfbmi_H).merge(df_BPX_H[['SEQN','BPXPLS']])\n",
    "df_VID_SALP_H=df_VID_SALP_H[df_VID_SALP_H['RIDAGEYR']>20].copy()\n",
    "df_VID_SALP_H['loge_LBXSAPSI']=np.log(df_VID_SALP_H['LBXSAPSI'])\n",
    "\n",
    "df_VID_SALP_I = df_demog_I[['SEQN','RIDAGEYR']].merge(df_VID_I[['SEQN','LBXVIDMS']]).merge(df_ALP_I).merge(dfbmi_I).merge(df_BPX_I[['SEQN','BPXPLS']])\n",
    "df_VID_SALP_I=df_VID_SALP_I[df_VID_SALP_I['RIDAGEYR']>20].copy()\n",
    "df_VID_SALP_I['loge_LBXSAPSI']=np.log(df_VID_SALP_I['LBXSAPSI'])\n",
    "\n",
    "df_VID_SALP_E.shape,df_VID_SALP_F.shape,df_VID_SALP_G.shape,df_VID_SALP_H.shape,df_VID_SALP_I.shape"
   ]
  },
  {
   "cell_type": "code",
   "execution_count": 9,
   "id": "automatic-funds",
   "metadata": {},
   "outputs": [
    {
     "data": {
      "text/plain": [
       "((2742, 11), (2878, 11), (2573, 11), (2623, 11), (2563, 11))"
      ]
     },
     "execution_count": 9,
     "metadata": {},
     "output_type": "execute_result"
    }
   ],
   "source": [
    "df_VID_I_SALP_E = df_demog_E[['SEQN','RIDAGEYR']].merge(df_VID_E[['SEQN','LBXVIDMS']]).merge(dfbmi_E).merge(df_BPX_E[['SEQN','BPXPLS']]).merge(df_ALP_E).merge(df_I_E[['SEQN','LBXIN']])\n",
    "df_VID_I_SALP_E=df_VID_I_SALP_E[df_VID_I_SALP_E['RIDAGEYR']>20].copy()\n",
    "df_VID_I_SALP_E['loge_LBXIN']=np.log(df_VID_I_SALP_E['LBXIN'])\n",
    "df_VID_I_SALP_E['loge_LBXSAPSI']=np.log(df_VID_I_SALP_E['LBXSAPSI'])\n",
    "\n",
    "df_VID_I_SALP_F = df_demog_F[['SEQN','RIDAGEYR']].merge(df_VID_F[['SEQN','LBXVIDMS']]).merge(dfbmi_F).merge(df_BPX_F[['SEQN','BPXPLS']]).merge(df_ALP_F).merge(df_I_F[['SEQN','LBXIN']])\n",
    "df_VID_I_SALP_F=df_VID_I_SALP_F[df_VID_I_SALP_F['RIDAGEYR']>20].copy()\n",
    "df_VID_I_SALP_F['loge_LBXIN']=np.log(df_VID_I_SALP_F['LBXIN'])\n",
    "df_VID_I_SALP_F['loge_LBXSAPSI']=np.log(df_VID_I_SALP_F['LBXSAPSI'])\n",
    "\n",
    "df_VID_I_SALP_G = df_demog_G[['SEQN','RIDAGEYR']].merge(df_VID_G[['SEQN','LBXVIDMS']]).merge(dfbmi_G).merge(df_BPX_G[['SEQN','BPXPLS']]).merge(df_ALP_G).merge(df_I_G[['SEQN','LBXIN']])\n",
    "df_VID_I_SALP_G=df_VID_I_SALP_G[df_VID_I_SALP_G['RIDAGEYR']>20].copy()\n",
    "df_VID_I_SALP_G['loge_LBXIN']=np.log(df_VID_I_SALP_G['LBXIN'])\n",
    "df_VID_I_SALP_G['loge_LBXSAPSI']=np.log(df_VID_I_SALP_G['LBXSAPSI'])\n",
    "\n",
    "df_VID_I_SALP_H = df_demog_H[['SEQN','RIDAGEYR']].merge(df_VID_H[['SEQN','LBXVIDMS']]).merge(dfbmi_H).merge(df_BPX_H[['SEQN','BPXPLS']]).merge(df_ALP_H).merge(df_I_H[['SEQN','LBXIN']])\n",
    "df_VID_I_SALP_H=df_VID_I_SALP_H[df_VID_I_SALP_H['RIDAGEYR']>20].copy()\n",
    "df_VID_I_SALP_H['loge_LBXIN']=np.log(df_VID_I_SALP_H['LBXIN'])\n",
    "df_VID_I_SALP_H['loge_LBXSAPSI']=np.log(df_VID_I_SALP_H['LBXSAPSI'])\n",
    "\n",
    "df_VID_I_SALP_I = df_demog_I[['SEQN','RIDAGEYR']].merge(df_VID_I[['SEQN','LBXVIDMS']]).merge(dfbmi_I).merge(df_BPX_I[['SEQN','BPXPLS']]).merge(df_ALP_I).merge(df_I_I[['SEQN','LBXIN']])\n",
    "df_VID_I_SALP_I=df_VID_I_SALP_I[df_VID_I_SALP_I['RIDAGEYR']>20].copy()\n",
    "df_VID_I_SALP_I['loge_LBXIN']=np.log(df_VID_I_SALP_I['LBXIN'])\n",
    "df_VID_I_SALP_I['loge_LBXSAPSI']=np.log(df_VID_I_SALP_I['LBXSAPSI'])\n",
    "\n",
    "df_VID_I_SALP_E.shape,df_VID_I_SALP_F.shape,df_VID_I_SALP_G.shape,df_VID_I_SALP_H.shape,df_VID_I_SALP_I.shape"
   ]
  },
  {
   "cell_type": "code",
   "execution_count": 10,
   "id": "athletic-clinton",
   "metadata": {},
   "outputs": [
    {
     "data": {
      "text/html": [
       "<div>\n",
       "<style scoped>\n",
       "    .dataframe tbody tr th:only-of-type {\n",
       "        vertical-align: middle;\n",
       "    }\n",
       "\n",
       "    .dataframe tbody tr th {\n",
       "        vertical-align: top;\n",
       "    }\n",
       "\n",
       "    .dataframe thead th {\n",
       "        text-align: right;\n",
       "    }\n",
       "</style>\n",
       "<table border=\"1\" class=\"dataframe\">\n",
       "  <thead>\n",
       "    <tr style=\"text-align: right;\">\n",
       "      <th></th>\n",
       "      <th>RIDAGEYR</th>\n",
       "      <th>LBXVIDMS</th>\n",
       "      <th>BMXWT</th>\n",
       "      <th>BMXBMI</th>\n",
       "      <th>BMXWAIST</th>\n",
       "      <th>BPXPLS</th>\n",
       "      <th>LBXIN</th>\n",
       "      <th>loge_LBXIN</th>\n",
       "      <th>LBXSAPSI</th>\n",
       "      <th>loge_LBXSAPSI</th>\n",
       "    </tr>\n",
       "  </thead>\n",
       "  <tbody>\n",
       "    <tr>\n",
       "      <th>count</th>\n",
       "      <td>2072.000000</td>\n",
       "      <td>2072.000000</td>\n",
       "      <td>2072.000000</td>\n",
       "      <td>2072.000000</td>\n",
       "      <td>2072.000000</td>\n",
       "      <td>2072.000000</td>\n",
       "      <td>2072.000000</td>\n",
       "      <td>2072.000000</td>\n",
       "      <td>2072.000000</td>\n",
       "      <td>2072.000000</td>\n",
       "    </tr>\n",
       "    <tr>\n",
       "      <th>mean</th>\n",
       "      <td>51.402992</td>\n",
       "      <td>61.385714</td>\n",
       "      <td>80.786728</td>\n",
       "      <td>28.722177</td>\n",
       "      <td>98.954344</td>\n",
       "      <td>71.696911</td>\n",
       "      <td>12.959778</td>\n",
       "      <td>2.291300</td>\n",
       "      <td>70.255792</td>\n",
       "      <td>4.205888</td>\n",
       "    </tr>\n",
       "    <tr>\n",
       "      <th>std</th>\n",
       "      <td>17.461920</td>\n",
       "      <td>24.477860</td>\n",
       "      <td>19.707146</td>\n",
       "      <td>6.199049</td>\n",
       "      <td>15.174050</td>\n",
       "      <td>11.854291</td>\n",
       "      <td>11.192028</td>\n",
       "      <td>0.734144</td>\n",
       "      <td>22.630921</td>\n",
       "      <td>0.301611</td>\n",
       "    </tr>\n",
       "    <tr>\n",
       "      <th>min</th>\n",
       "      <td>21.000000</td>\n",
       "      <td>7.570000</td>\n",
       "      <td>32.400000</td>\n",
       "      <td>15.250000</td>\n",
       "      <td>59.100000</td>\n",
       "      <td>42.000000</td>\n",
       "      <td>1.000000</td>\n",
       "      <td>0.000000</td>\n",
       "      <td>24.000000</td>\n",
       "      <td>3.178054</td>\n",
       "    </tr>\n",
       "    <tr>\n",
       "      <th>25%</th>\n",
       "      <td>36.000000</td>\n",
       "      <td>43.400000</td>\n",
       "      <td>66.775000</td>\n",
       "      <td>24.360000</td>\n",
       "      <td>88.700000</td>\n",
       "      <td>64.000000</td>\n",
       "      <td>6.120000</td>\n",
       "      <td>1.811562</td>\n",
       "      <td>55.000000</td>\n",
       "      <td>4.007333</td>\n",
       "    </tr>\n",
       "    <tr>\n",
       "      <th>50%</th>\n",
       "      <td>51.000000</td>\n",
       "      <td>60.500000</td>\n",
       "      <td>78.450000</td>\n",
       "      <td>27.840000</td>\n",
       "      <td>98.200000</td>\n",
       "      <td>70.000000</td>\n",
       "      <td>9.655000</td>\n",
       "      <td>2.267476</td>\n",
       "      <td>67.000000</td>\n",
       "      <td>4.204693</td>\n",
       "    </tr>\n",
       "    <tr>\n",
       "      <th>75%</th>\n",
       "      <td>66.000000</td>\n",
       "      <td>76.300000</td>\n",
       "      <td>92.100000</td>\n",
       "      <td>32.017500</td>\n",
       "      <td>107.925000</td>\n",
       "      <td>78.000000</td>\n",
       "      <td>16.110000</td>\n",
       "      <td>2.779440</td>\n",
       "      <td>81.000000</td>\n",
       "      <td>4.394449</td>\n",
       "    </tr>\n",
       "    <tr>\n",
       "      <th>max</th>\n",
       "      <td>80.000000</td>\n",
       "      <td>213.000000</td>\n",
       "      <td>169.000000</td>\n",
       "      <td>64.800000</td>\n",
       "      <td>158.200000</td>\n",
       "      <td>122.000000</td>\n",
       "      <td>129.950000</td>\n",
       "      <td>4.867150</td>\n",
       "      <td>282.000000</td>\n",
       "      <td>5.641907</td>\n",
       "    </tr>\n",
       "  </tbody>\n",
       "</table>\n",
       "</div>"
      ],
      "text/plain": [
       "          RIDAGEYR     LBXVIDMS        BMXWT       BMXBMI     BMXWAIST  \\\n",
       "count  2072.000000  2072.000000  2072.000000  2072.000000  2072.000000   \n",
       "mean     51.402992    61.385714    80.786728    28.722177    98.954344   \n",
       "std      17.461920    24.477860    19.707146     6.199049    15.174050   \n",
       "min      21.000000     7.570000    32.400000    15.250000    59.100000   \n",
       "25%      36.000000    43.400000    66.775000    24.360000    88.700000   \n",
       "50%      51.000000    60.500000    78.450000    27.840000    98.200000   \n",
       "75%      66.000000    76.300000    92.100000    32.017500   107.925000   \n",
       "max      80.000000   213.000000   169.000000    64.800000   158.200000   \n",
       "\n",
       "            BPXPLS        LBXIN   loge_LBXIN     LBXSAPSI  loge_LBXSAPSI  \n",
       "count  2072.000000  2072.000000  2072.000000  2072.000000    2072.000000  \n",
       "mean     71.696911    12.959778     2.291300    70.255792       4.205888  \n",
       "std      11.854291    11.192028     0.734144    22.630921       0.301611  \n",
       "min      42.000000     1.000000     0.000000    24.000000       3.178054  \n",
       "25%      64.000000     6.120000     1.811562    55.000000       4.007333  \n",
       "50%      70.000000     9.655000     2.267476    67.000000       4.204693  \n",
       "75%      78.000000    16.110000     2.779440    81.000000       4.394449  \n",
       "max     122.000000   129.950000     4.867150   282.000000       5.641907  "
      ]
     },
     "execution_count": 10,
     "metadata": {},
     "output_type": "execute_result"
    }
   ],
   "source": [
    "df_VID_I_SALP_E[['RIDAGEYR','LBXVIDMS','BMXWT','BMXBMI','BMXWAIST','BPXPLS','LBXIN','loge_LBXIN','LBXSAPSI','loge_LBXSAPSI']].dropna().describe()"
   ]
  },
  {
   "cell_type": "code",
   "execution_count": 11,
   "id": "superb-perception",
   "metadata": {},
   "outputs": [
    {
     "data": {
      "text/plain": [
       "((2742, 11), (2878, 10), (2573, 10), (2623, 10), (2563, 10))"
      ]
     },
     "execution_count": 11,
     "metadata": {},
     "output_type": "execute_result"
    }
   ],
   "source": [
    "((2742, 11), (2878, 10), (2573, 10), (2623, 10), (2563, 10))"
   ]
  },
  {
   "cell_type": "code",
   "execution_count": 12,
   "id": "falling-default",
   "metadata": {},
   "outputs": [
    {
     "data": {
      "text/html": [
       "<div>\n",
       "<style scoped>\n",
       "    .dataframe tbody tr th:only-of-type {\n",
       "        vertical-align: middle;\n",
       "    }\n",
       "\n",
       "    .dataframe tbody tr th {\n",
       "        vertical-align: top;\n",
       "    }\n",
       "\n",
       "    .dataframe thead th {\n",
       "        text-align: right;\n",
       "    }\n",
       "</style>\n",
       "<table border=\"1\" class=\"dataframe\">\n",
       "  <thead>\n",
       "    <tr style=\"text-align: right;\">\n",
       "      <th></th>\n",
       "      <th>RIDAGEYR</th>\n",
       "      <th>LBXVIDMS</th>\n",
       "      <th>BMXWT</th>\n",
       "      <th>BMXBMI</th>\n",
       "      <th>BMXWAIST</th>\n",
       "      <th>BPXPLS</th>\n",
       "      <th>LBXIN</th>\n",
       "      <th>loge_LBXIN</th>\n",
       "      <th>LBXSAPSI</th>\n",
       "      <th>loge_LBXSAPSI</th>\n",
       "    </tr>\n",
       "  </thead>\n",
       "  <tbody>\n",
       "    <tr>\n",
       "      <th>RIDAGEYR</th>\n",
       "      <td>1.000000</td>\n",
       "      <td>0.081373</td>\n",
       "      <td>-0.084247</td>\n",
       "      <td>-0.004447</td>\n",
       "      <td>0.171777</td>\n",
       "      <td>-0.084048</td>\n",
       "      <td>0.013918</td>\n",
       "      <td>0.026150</td>\n",
       "      <td>0.148894</td>\n",
       "      <td>0.152569</td>\n",
       "    </tr>\n",
       "    <tr>\n",
       "      <th>LBXVIDMS</th>\n",
       "      <td>0.081373</td>\n",
       "      <td>1.000000</td>\n",
       "      <td>-0.167080</td>\n",
       "      <td>-0.238163</td>\n",
       "      <td>-0.168512</td>\n",
       "      <td>-0.077702</td>\n",
       "      <td>-0.148980</td>\n",
       "      <td>-0.174989</td>\n",
       "      <td>-0.108467</td>\n",
       "      <td>-0.113877</td>\n",
       "    </tr>\n",
       "    <tr>\n",
       "      <th>BMXWT</th>\n",
       "      <td>-0.084247</td>\n",
       "      <td>-0.167080</td>\n",
       "      <td>1.000000</td>\n",
       "      <td>0.857812</td>\n",
       "      <td>0.879720</td>\n",
       "      <td>0.058745</td>\n",
       "      <td>0.409647</td>\n",
       "      <td>0.467976</td>\n",
       "      <td>0.025525</td>\n",
       "      <td>0.047899</td>\n",
       "    </tr>\n",
       "    <tr>\n",
       "      <th>BMXBMI</th>\n",
       "      <td>-0.004447</td>\n",
       "      <td>-0.238163</td>\n",
       "      <td>0.857812</td>\n",
       "      <td>1.000000</td>\n",
       "      <td>0.882153</td>\n",
       "      <td>0.109515</td>\n",
       "      <td>0.471827</td>\n",
       "      <td>0.549222</td>\n",
       "      <td>0.089483</td>\n",
       "      <td>0.110015</td>\n",
       "    </tr>\n",
       "    <tr>\n",
       "      <th>BMXWAIST</th>\n",
       "      <td>0.171777</td>\n",
       "      <td>-0.168512</td>\n",
       "      <td>0.879720</td>\n",
       "      <td>0.882153</td>\n",
       "      <td>1.000000</td>\n",
       "      <td>0.098186</td>\n",
       "      <td>0.458944</td>\n",
       "      <td>0.543257</td>\n",
       "      <td>0.109331</td>\n",
       "      <td>0.134382</td>\n",
       "    </tr>\n",
       "    <tr>\n",
       "      <th>BPXPLS</th>\n",
       "      <td>-0.084048</td>\n",
       "      <td>-0.077702</td>\n",
       "      <td>0.058745</td>\n",
       "      <td>0.109515</td>\n",
       "      <td>0.098186</td>\n",
       "      <td>1.000000</td>\n",
       "      <td>0.172427</td>\n",
       "      <td>0.171583</td>\n",
       "      <td>0.081388</td>\n",
       "      <td>0.072941</td>\n",
       "    </tr>\n",
       "    <tr>\n",
       "      <th>LBXIN</th>\n",
       "      <td>0.013918</td>\n",
       "      <td>-0.148980</td>\n",
       "      <td>0.409647</td>\n",
       "      <td>0.471827</td>\n",
       "      <td>0.458944</td>\n",
       "      <td>0.172427</td>\n",
       "      <td>1.000000</td>\n",
       "      <td>0.860132</td>\n",
       "      <td>0.046177</td>\n",
       "      <td>0.056277</td>\n",
       "    </tr>\n",
       "    <tr>\n",
       "      <th>loge_LBXIN</th>\n",
       "      <td>0.026150</td>\n",
       "      <td>-0.174989</td>\n",
       "      <td>0.467976</td>\n",
       "      <td>0.549222</td>\n",
       "      <td>0.543257</td>\n",
       "      <td>0.171583</td>\n",
       "      <td>0.860132</td>\n",
       "      <td>1.000000</td>\n",
       "      <td>0.074182</td>\n",
       "      <td>0.090302</td>\n",
       "    </tr>\n",
       "    <tr>\n",
       "      <th>LBXSAPSI</th>\n",
       "      <td>0.148894</td>\n",
       "      <td>-0.108467</td>\n",
       "      <td>0.025525</td>\n",
       "      <td>0.089483</td>\n",
       "      <td>0.109331</td>\n",
       "      <td>0.081388</td>\n",
       "      <td>0.046177</td>\n",
       "      <td>0.074182</td>\n",
       "      <td>1.000000</td>\n",
       "      <td>0.964065</td>\n",
       "    </tr>\n",
       "    <tr>\n",
       "      <th>loge_LBXSAPSI</th>\n",
       "      <td>0.152569</td>\n",
       "      <td>-0.113877</td>\n",
       "      <td>0.047899</td>\n",
       "      <td>0.110015</td>\n",
       "      <td>0.134382</td>\n",
       "      <td>0.072941</td>\n",
       "      <td>0.056277</td>\n",
       "      <td>0.090302</td>\n",
       "      <td>0.964065</td>\n",
       "      <td>1.000000</td>\n",
       "    </tr>\n",
       "  </tbody>\n",
       "</table>\n",
       "</div>"
      ],
      "text/plain": [
       "               RIDAGEYR  LBXVIDMS     BMXWT    BMXBMI  BMXWAIST    BPXPLS  \\\n",
       "RIDAGEYR       1.000000  0.081373 -0.084247 -0.004447  0.171777 -0.084048   \n",
       "LBXVIDMS       0.081373  1.000000 -0.167080 -0.238163 -0.168512 -0.077702   \n",
       "BMXWT         -0.084247 -0.167080  1.000000  0.857812  0.879720  0.058745   \n",
       "BMXBMI        -0.004447 -0.238163  0.857812  1.000000  0.882153  0.109515   \n",
       "BMXWAIST       0.171777 -0.168512  0.879720  0.882153  1.000000  0.098186   \n",
       "BPXPLS        -0.084048 -0.077702  0.058745  0.109515  0.098186  1.000000   \n",
       "LBXIN          0.013918 -0.148980  0.409647  0.471827  0.458944  0.172427   \n",
       "loge_LBXIN     0.026150 -0.174989  0.467976  0.549222  0.543257  0.171583   \n",
       "LBXSAPSI       0.148894 -0.108467  0.025525  0.089483  0.109331  0.081388   \n",
       "loge_LBXSAPSI  0.152569 -0.113877  0.047899  0.110015  0.134382  0.072941   \n",
       "\n",
       "                  LBXIN  loge_LBXIN  LBXSAPSI  loge_LBXSAPSI  \n",
       "RIDAGEYR       0.013918    0.026150  0.148894       0.152569  \n",
       "LBXVIDMS      -0.148980   -0.174989 -0.108467      -0.113877  \n",
       "BMXWT          0.409647    0.467976  0.025525       0.047899  \n",
       "BMXBMI         0.471827    0.549222  0.089483       0.110015  \n",
       "BMXWAIST       0.458944    0.543257  0.109331       0.134382  \n",
       "BPXPLS         0.172427    0.171583  0.081388       0.072941  \n",
       "LBXIN          1.000000    0.860132  0.046177       0.056277  \n",
       "loge_LBXIN     0.860132    1.000000  0.074182       0.090302  \n",
       "LBXSAPSI       0.046177    0.074182  1.000000       0.964065  \n",
       "loge_LBXSAPSI  0.056277    0.090302  0.964065       1.000000  "
      ]
     },
     "execution_count": 12,
     "metadata": {},
     "output_type": "execute_result"
    }
   ],
   "source": [
    "df_VID_I_SALP_E[['RIDAGEYR','LBXVIDMS','BMXWT','BMXBMI','BMXWAIST','BPXPLS','LBXIN','loge_LBXIN','LBXSAPSI','loge_LBXSAPSI']].dropna().corr()"
   ]
  },
  {
   "cell_type": "code",
   "execution_count": 13,
   "id": "welsh-elevation",
   "metadata": {},
   "outputs": [
    {
     "data": {
      "text/html": [
       "<div>\n",
       "<style scoped>\n",
       "    .dataframe tbody tr th:only-of-type {\n",
       "        vertical-align: middle;\n",
       "    }\n",
       "\n",
       "    .dataframe tbody tr th {\n",
       "        vertical-align: top;\n",
       "    }\n",
       "\n",
       "    .dataframe thead th {\n",
       "        text-align: right;\n",
       "    }\n",
       "</style>\n",
       "<table border=\"1\" class=\"dataframe\">\n",
       "  <thead>\n",
       "    <tr style=\"text-align: right;\">\n",
       "      <th></th>\n",
       "      <th>RIDAGEYR</th>\n",
       "      <th>LBXVIDMS</th>\n",
       "      <th>LBXSAPSI</th>\n",
       "      <th>BMXWT</th>\n",
       "      <th>BMXBMI</th>\n",
       "      <th>BMXWAIST</th>\n",
       "      <th>BPXPLS</th>\n",
       "      <th>loge_LBXSAPSI</th>\n",
       "    </tr>\n",
       "  </thead>\n",
       "  <tbody>\n",
       "    <tr>\n",
       "      <th>count</th>\n",
       "      <td>4251.000000</td>\n",
       "      <td>4251.000000</td>\n",
       "      <td>4251.000000</td>\n",
       "      <td>4251.000000</td>\n",
       "      <td>4251.000000</td>\n",
       "      <td>4251.000000</td>\n",
       "      <td>4251.000000</td>\n",
       "      <td>4251.000000</td>\n",
       "    </tr>\n",
       "    <tr>\n",
       "      <th>mean</th>\n",
       "      <td>51.251470</td>\n",
       "      <td>61.899007</td>\n",
       "      <td>70.281816</td>\n",
       "      <td>81.364785</td>\n",
       "      <td>29.016991</td>\n",
       "      <td>99.509174</td>\n",
       "      <td>73.115032</td>\n",
       "      <td>4.203575</td>\n",
       "    </tr>\n",
       "    <tr>\n",
       "      <th>std</th>\n",
       "      <td>17.529445</td>\n",
       "      <td>24.915065</td>\n",
       "      <td>24.641956</td>\n",
       "      <td>20.527909</td>\n",
       "      <td>6.477529</td>\n",
       "      <td>15.790698</td>\n",
       "      <td>12.238750</td>\n",
       "      <td>0.307496</td>\n",
       "    </tr>\n",
       "    <tr>\n",
       "      <th>min</th>\n",
       "      <td>21.000000</td>\n",
       "      <td>6.310000</td>\n",
       "      <td>15.000000</td>\n",
       "      <td>32.400000</td>\n",
       "      <td>14.200000</td>\n",
       "      <td>59.100000</td>\n",
       "      <td>42.000000</td>\n",
       "      <td>2.708050</td>\n",
       "    </tr>\n",
       "    <tr>\n",
       "      <th>25%</th>\n",
       "      <td>37.000000</td>\n",
       "      <td>43.600000</td>\n",
       "      <td>55.000000</td>\n",
       "      <td>67.100000</td>\n",
       "      <td>24.510000</td>\n",
       "      <td>88.500000</td>\n",
       "      <td>64.000000</td>\n",
       "      <td>4.007333</td>\n",
       "    </tr>\n",
       "    <tr>\n",
       "      <th>50%</th>\n",
       "      <td>51.000000</td>\n",
       "      <td>60.800000</td>\n",
       "      <td>67.000000</td>\n",
       "      <td>78.600000</td>\n",
       "      <td>28.120000</td>\n",
       "      <td>98.500000</td>\n",
       "      <td>72.000000</td>\n",
       "      <td>4.204693</td>\n",
       "    </tr>\n",
       "    <tr>\n",
       "      <th>75%</th>\n",
       "      <td>66.000000</td>\n",
       "      <td>77.100000</td>\n",
       "      <td>81.000000</td>\n",
       "      <td>92.600000</td>\n",
       "      <td>32.255000</td>\n",
       "      <td>108.900000</td>\n",
       "      <td>80.000000</td>\n",
       "      <td>4.394449</td>\n",
       "    </tr>\n",
       "    <tr>\n",
       "      <th>max</th>\n",
       "      <td>80.000000</td>\n",
       "      <td>213.000000</td>\n",
       "      <td>626.000000</td>\n",
       "      <td>218.200000</td>\n",
       "      <td>71.830000</td>\n",
       "      <td>178.200000</td>\n",
       "      <td>142.000000</td>\n",
       "      <td>6.439350</td>\n",
       "    </tr>\n",
       "  </tbody>\n",
       "</table>\n",
       "</div>"
      ],
      "text/plain": [
       "          RIDAGEYR     LBXVIDMS     LBXSAPSI        BMXWT       BMXBMI  \\\n",
       "count  4251.000000  4251.000000  4251.000000  4251.000000  4251.000000   \n",
       "mean     51.251470    61.899007    70.281816    81.364785    29.016991   \n",
       "std      17.529445    24.915065    24.641956    20.527909     6.477529   \n",
       "min      21.000000     6.310000    15.000000    32.400000    14.200000   \n",
       "25%      37.000000    43.600000    55.000000    67.100000    24.510000   \n",
       "50%      51.000000    60.800000    67.000000    78.600000    28.120000   \n",
       "75%      66.000000    77.100000    81.000000    92.600000    32.255000   \n",
       "max      80.000000   213.000000   626.000000   218.200000    71.830000   \n",
       "\n",
       "          BMXWAIST       BPXPLS  loge_LBXSAPSI  \n",
       "count  4251.000000  4251.000000    4251.000000  \n",
       "mean     99.509174    73.115032       4.203575  \n",
       "std      15.790698    12.238750       0.307496  \n",
       "min      59.100000    42.000000       2.708050  \n",
       "25%      88.500000    64.000000       4.007333  \n",
       "50%      98.500000    72.000000       4.204693  \n",
       "75%     108.900000    80.000000       4.394449  \n",
       "max     178.200000   142.000000       6.439350  "
      ]
     },
     "execution_count": 13,
     "metadata": {},
     "output_type": "execute_result"
    }
   ],
   "source": [
    "df_VID_SALP_E[['RIDAGEYR','LBXVIDMS','LBXSAPSI','BMXWT','BMXBMI','BMXWAIST','BPXPLS','loge_LBXSAPSI']].dropna().describe()"
   ]
  },
  {
   "cell_type": "code",
   "execution_count": 14,
   "id": "wooden-cardiff",
   "metadata": {},
   "outputs": [
    {
     "data": {
      "text/html": [
       "<div>\n",
       "<style scoped>\n",
       "    .dataframe tbody tr th:only-of-type {\n",
       "        vertical-align: middle;\n",
       "    }\n",
       "\n",
       "    .dataframe tbody tr th {\n",
       "        vertical-align: top;\n",
       "    }\n",
       "\n",
       "    .dataframe thead th {\n",
       "        text-align: right;\n",
       "    }\n",
       "</style>\n",
       "<table border=\"1\" class=\"dataframe\">\n",
       "  <thead>\n",
       "    <tr style=\"text-align: right;\">\n",
       "      <th></th>\n",
       "      <th>RIDAGEYR</th>\n",
       "      <th>LBXVIDMS</th>\n",
       "      <th>LBXSAPSI</th>\n",
       "      <th>BMXWT</th>\n",
       "      <th>BMXBMI</th>\n",
       "      <th>BMXWAIST</th>\n",
       "      <th>BPXPLS</th>\n",
       "      <th>loge_LBXSAPSI</th>\n",
       "    </tr>\n",
       "  </thead>\n",
       "  <tbody>\n",
       "    <tr>\n",
       "      <th>RIDAGEYR</th>\n",
       "      <td>1.000000</td>\n",
       "      <td>0.086216</td>\n",
       "      <td>0.133098</td>\n",
       "      <td>-0.055042</td>\n",
       "      <td>0.008324</td>\n",
       "      <td>0.175858</td>\n",
       "      <td>-0.124272</td>\n",
       "      <td>0.134123</td>\n",
       "    </tr>\n",
       "    <tr>\n",
       "      <th>LBXVIDMS</th>\n",
       "      <td>0.086216</td>\n",
       "      <td>1.000000</td>\n",
       "      <td>-0.116274</td>\n",
       "      <td>-0.161752</td>\n",
       "      <td>-0.227262</td>\n",
       "      <td>-0.163572</td>\n",
       "      <td>-0.070484</td>\n",
       "      <td>-0.125933</td>\n",
       "    </tr>\n",
       "    <tr>\n",
       "      <th>LBXSAPSI</th>\n",
       "      <td>0.133098</td>\n",
       "      <td>-0.116274</td>\n",
       "      <td>1.000000</td>\n",
       "      <td>0.048901</td>\n",
       "      <td>0.112808</td>\n",
       "      <td>0.129947</td>\n",
       "      <td>0.084468</td>\n",
       "      <td>0.932526</td>\n",
       "    </tr>\n",
       "    <tr>\n",
       "      <th>BMXWT</th>\n",
       "      <td>-0.055042</td>\n",
       "      <td>-0.161752</td>\n",
       "      <td>0.048901</td>\n",
       "      <td>1.000000</td>\n",
       "      <td>0.870725</td>\n",
       "      <td>0.887878</td>\n",
       "      <td>0.108036</td>\n",
       "      <td>0.067185</td>\n",
       "    </tr>\n",
       "    <tr>\n",
       "      <th>BMXBMI</th>\n",
       "      <td>0.008324</td>\n",
       "      <td>-0.227262</td>\n",
       "      <td>0.112808</td>\n",
       "      <td>0.870725</td>\n",
       "      <td>1.000000</td>\n",
       "      <td>0.886201</td>\n",
       "      <td>0.158981</td>\n",
       "      <td>0.134127</td>\n",
       "    </tr>\n",
       "    <tr>\n",
       "      <th>BMXWAIST</th>\n",
       "      <td>0.175858</td>\n",
       "      <td>-0.163572</td>\n",
       "      <td>0.129947</td>\n",
       "      <td>0.887878</td>\n",
       "      <td>0.886201</td>\n",
       "      <td>1.000000</td>\n",
       "      <td>0.129325</td>\n",
       "      <td>0.156947</td>\n",
       "    </tr>\n",
       "    <tr>\n",
       "      <th>BPXPLS</th>\n",
       "      <td>-0.124272</td>\n",
       "      <td>-0.070484</td>\n",
       "      <td>0.084468</td>\n",
       "      <td>0.108036</td>\n",
       "      <td>0.158981</td>\n",
       "      <td>0.129325</td>\n",
       "      <td>1.000000</td>\n",
       "      <td>0.087657</td>\n",
       "    </tr>\n",
       "    <tr>\n",
       "      <th>loge_LBXSAPSI</th>\n",
       "      <td>0.134123</td>\n",
       "      <td>-0.125933</td>\n",
       "      <td>0.932526</td>\n",
       "      <td>0.067185</td>\n",
       "      <td>0.134127</td>\n",
       "      <td>0.156947</td>\n",
       "      <td>0.087657</td>\n",
       "      <td>1.000000</td>\n",
       "    </tr>\n",
       "  </tbody>\n",
       "</table>\n",
       "</div>"
      ],
      "text/plain": [
       "               RIDAGEYR  LBXVIDMS  LBXSAPSI     BMXWT    BMXBMI  BMXWAIST  \\\n",
       "RIDAGEYR       1.000000  0.086216  0.133098 -0.055042  0.008324  0.175858   \n",
       "LBXVIDMS       0.086216  1.000000 -0.116274 -0.161752 -0.227262 -0.163572   \n",
       "LBXSAPSI       0.133098 -0.116274  1.000000  0.048901  0.112808  0.129947   \n",
       "BMXWT         -0.055042 -0.161752  0.048901  1.000000  0.870725  0.887878   \n",
       "BMXBMI         0.008324 -0.227262  0.112808  0.870725  1.000000  0.886201   \n",
       "BMXWAIST       0.175858 -0.163572  0.129947  0.887878  0.886201  1.000000   \n",
       "BPXPLS        -0.124272 -0.070484  0.084468  0.108036  0.158981  0.129325   \n",
       "loge_LBXSAPSI  0.134123 -0.125933  0.932526  0.067185  0.134127  0.156947   \n",
       "\n",
       "                 BPXPLS  loge_LBXSAPSI  \n",
       "RIDAGEYR      -0.124272       0.134123  \n",
       "LBXVIDMS      -0.070484      -0.125933  \n",
       "LBXSAPSI       0.084468       0.932526  \n",
       "BMXWT          0.108036       0.067185  \n",
       "BMXBMI         0.158981       0.134127  \n",
       "BMXWAIST       0.129325       0.156947  \n",
       "BPXPLS         1.000000       0.087657  \n",
       "loge_LBXSAPSI  0.087657       1.000000  "
      ]
     },
     "execution_count": 14,
     "metadata": {},
     "output_type": "execute_result"
    }
   ],
   "source": [
    "df_VID_SALP_E[['RIDAGEYR','LBXVIDMS','LBXSAPSI','BMXWT','BMXBMI','BMXWAIST','BPXPLS','loge_LBXSAPSI']].dropna().corr()"
   ]
  },
  {
   "cell_type": "code",
   "execution_count": 15,
   "id": "widespread-chinese",
   "metadata": {},
   "outputs": [
    {
     "data": {
      "text/html": [
       "<div>\n",
       "<style scoped>\n",
       "    .dataframe tbody tr th:only-of-type {\n",
       "        vertical-align: middle;\n",
       "    }\n",
       "\n",
       "    .dataframe tbody tr th {\n",
       "        vertical-align: top;\n",
       "    }\n",
       "\n",
       "    .dataframe thead th {\n",
       "        text-align: right;\n",
       "    }\n",
       "</style>\n",
       "<table border=\"1\" class=\"dataframe\">\n",
       "  <thead>\n",
       "    <tr style=\"text-align: right;\">\n",
       "      <th></th>\n",
       "      <th>SEQN</th>\n",
       "      <th>RIDAGEYR</th>\n",
       "      <th>LBXVIDMS</th>\n",
       "      <th>LBXSAPSI</th>\n",
       "      <th>BMXWT</th>\n",
       "      <th>BMXBMI</th>\n",
       "      <th>BMXWAIST</th>\n",
       "      <th>BPXPLS</th>\n",
       "      <th>loge_LBXSAPSI</th>\n",
       "    </tr>\n",
       "  </thead>\n",
       "  <tbody>\n",
       "    <tr>\n",
       "      <th>count</th>\n",
       "      <td>23340.000000</td>\n",
       "      <td>23340.000000</td>\n",
       "      <td>23340.000000</td>\n",
       "      <td>23340.000000</td>\n",
       "      <td>23340.000000</td>\n",
       "      <td>23340.000000</td>\n",
       "      <td>23340.000000</td>\n",
       "      <td>23340.000000</td>\n",
       "      <td>23340.000000</td>\n",
       "    </tr>\n",
       "    <tr>\n",
       "      <th>mean</th>\n",
       "      <td>67836.262211</td>\n",
       "      <td>49.693745</td>\n",
       "      <td>64.347087</td>\n",
       "      <td>68.633633</td>\n",
       "      <td>81.578865</td>\n",
       "      <td>29.127405</td>\n",
       "      <td>99.520381</td>\n",
       "      <td>72.574379</td>\n",
       "      <td>4.179450</td>\n",
       "    </tr>\n",
       "    <tr>\n",
       "      <th>std</th>\n",
       "      <td>15140.833015</td>\n",
       "      <td>17.236860</td>\n",
       "      <td>27.311142</td>\n",
       "      <td>24.438187</td>\n",
       "      <td>21.064141</td>\n",
       "      <td>6.743016</td>\n",
       "      <td>16.189153</td>\n",
       "      <td>11.936906</td>\n",
       "      <td>0.308262</td>\n",
       "    </tr>\n",
       "    <tr>\n",
       "      <th>min</th>\n",
       "      <td>41475.000000</td>\n",
       "      <td>21.000000</td>\n",
       "      <td>6.310000</td>\n",
       "      <td>7.000000</td>\n",
       "      <td>29.100000</td>\n",
       "      <td>13.180000</td>\n",
       "      <td>55.500000</td>\n",
       "      <td>36.000000</td>\n",
       "      <td>1.945910</td>\n",
       "    </tr>\n",
       "    <tr>\n",
       "      <th>25%</th>\n",
       "      <td>54858.750000</td>\n",
       "      <td>35.000000</td>\n",
       "      <td>44.800000</td>\n",
       "      <td>53.000000</td>\n",
       "      <td>66.800000</td>\n",
       "      <td>24.400000</td>\n",
       "      <td>88.000000</td>\n",
       "      <td>64.000000</td>\n",
       "      <td>3.970292</td>\n",
       "    </tr>\n",
       "    <tr>\n",
       "      <th>50%</th>\n",
       "      <td>67236.500000</td>\n",
       "      <td>49.000000</td>\n",
       "      <td>61.700000</td>\n",
       "      <td>65.000000</td>\n",
       "      <td>78.600000</td>\n",
       "      <td>28.080000</td>\n",
       "      <td>98.150000</td>\n",
       "      <td>72.000000</td>\n",
       "      <td>4.174387</td>\n",
       "    </tr>\n",
       "    <tr>\n",
       "      <th>75%</th>\n",
       "      <td>81291.250000</td>\n",
       "      <td>63.000000</td>\n",
       "      <td>79.700000</td>\n",
       "      <td>79.000000</td>\n",
       "      <td>92.800000</td>\n",
       "      <td>32.500000</td>\n",
       "      <td>109.000000</td>\n",
       "      <td>80.000000</td>\n",
       "      <td>4.369448</td>\n",
       "    </tr>\n",
       "    <tr>\n",
       "      <th>max</th>\n",
       "      <td>93702.000000</td>\n",
       "      <td>80.000000</td>\n",
       "      <td>375.000000</td>\n",
       "      <td>907.000000</td>\n",
       "      <td>218.200000</td>\n",
       "      <td>84.870000</td>\n",
       "      <td>178.200000</td>\n",
       "      <td>172.000000</td>\n",
       "      <td>6.810142</td>\n",
       "    </tr>\n",
       "  </tbody>\n",
       "</table>\n",
       "</div>"
      ],
      "text/plain": [
       "               SEQN      RIDAGEYR      LBXVIDMS      LBXSAPSI         BMXWT  \\\n",
       "count  23340.000000  23340.000000  23340.000000  23340.000000  23340.000000   \n",
       "mean   67836.262211     49.693745     64.347087     68.633633     81.578865   \n",
       "std    15140.833015     17.236860     27.311142     24.438187     21.064141   \n",
       "min    41475.000000     21.000000      6.310000      7.000000     29.100000   \n",
       "25%    54858.750000     35.000000     44.800000     53.000000     66.800000   \n",
       "50%    67236.500000     49.000000     61.700000     65.000000     78.600000   \n",
       "75%    81291.250000     63.000000     79.700000     79.000000     92.800000   \n",
       "max    93702.000000     80.000000    375.000000    907.000000    218.200000   \n",
       "\n",
       "             BMXBMI      BMXWAIST        BPXPLS  loge_LBXSAPSI  \n",
       "count  23340.000000  23340.000000  23340.000000   23340.000000  \n",
       "mean      29.127405     99.520381     72.574379       4.179450  \n",
       "std        6.743016     16.189153     11.936906       0.308262  \n",
       "min       13.180000     55.500000     36.000000       1.945910  \n",
       "25%       24.400000     88.000000     64.000000       3.970292  \n",
       "50%       28.080000     98.150000     72.000000       4.174387  \n",
       "75%       32.500000    109.000000     80.000000       4.369448  \n",
       "max       84.870000    178.200000    172.000000       6.810142  "
      ]
     },
     "execution_count": 15,
     "metadata": {},
     "output_type": "execute_result"
    }
   ],
   "source": [
    "df_VID_SALP=pd.concat([df_VID_SALP_E,df_VID_SALP_F,df_VID_SALP_G,df_VID_SALP_H,df_VID_SALP_I])\n",
    "df_VID_SALP.dropna().describe()"
   ]
  },
  {
   "cell_type": "code",
   "execution_count": 16,
   "id": "differential-pursuit",
   "metadata": {},
   "outputs": [
    {
     "data": {
      "text/html": [
       "<div>\n",
       "<style scoped>\n",
       "    .dataframe tbody tr th:only-of-type {\n",
       "        vertical-align: middle;\n",
       "    }\n",
       "\n",
       "    .dataframe tbody tr th {\n",
       "        vertical-align: top;\n",
       "    }\n",
       "\n",
       "    .dataframe thead th {\n",
       "        text-align: right;\n",
       "    }\n",
       "</style>\n",
       "<table border=\"1\" class=\"dataframe\">\n",
       "  <thead>\n",
       "    <tr style=\"text-align: right;\">\n",
       "      <th></th>\n",
       "      <th>LBXVIDMS</th>\n",
       "      <th>BMXWT</th>\n",
       "      <th>BMXBMI</th>\n",
       "      <th>BMXWAIST</th>\n",
       "      <th>BPXPLS</th>\n",
       "      <th>LBXSAPSI</th>\n",
       "      <th>loge_LBXSAPSI</th>\n",
       "    </tr>\n",
       "  </thead>\n",
       "  <tbody>\n",
       "    <tr>\n",
       "      <th>LBXVIDMS</th>\n",
       "      <td>1.000000</td>\n",
       "      <td>-0.155335</td>\n",
       "      <td>-0.168543</td>\n",
       "      <td>-0.119829</td>\n",
       "      <td>-0.074130</td>\n",
       "      <td>-0.085821</td>\n",
       "      <td>-0.095983</td>\n",
       "    </tr>\n",
       "    <tr>\n",
       "      <th>BMXWT</th>\n",
       "      <td>-0.155335</td>\n",
       "      <td>1.000000</td>\n",
       "      <td>0.874940</td>\n",
       "      <td>0.892716</td>\n",
       "      <td>0.102215</td>\n",
       "      <td>0.076558</td>\n",
       "      <td>0.097559</td>\n",
       "    </tr>\n",
       "    <tr>\n",
       "      <th>BMXBMI</th>\n",
       "      <td>-0.168543</td>\n",
       "      <td>0.874940</td>\n",
       "      <td>1.000000</td>\n",
       "      <td>0.903030</td>\n",
       "      <td>0.139243</td>\n",
       "      <td>0.130851</td>\n",
       "      <td>0.155874</td>\n",
       "    </tr>\n",
       "    <tr>\n",
       "      <th>BMXWAIST</th>\n",
       "      <td>-0.119829</td>\n",
       "      <td>0.892716</td>\n",
       "      <td>0.903030</td>\n",
       "      <td>1.000000</td>\n",
       "      <td>0.128991</td>\n",
       "      <td>0.154693</td>\n",
       "      <td>0.181955</td>\n",
       "    </tr>\n",
       "    <tr>\n",
       "      <th>BPXPLS</th>\n",
       "      <td>-0.074130</td>\n",
       "      <td>0.102215</td>\n",
       "      <td>0.139243</td>\n",
       "      <td>0.128991</td>\n",
       "      <td>1.000000</td>\n",
       "      <td>0.099303</td>\n",
       "      <td>0.102872</td>\n",
       "    </tr>\n",
       "    <tr>\n",
       "      <th>LBXSAPSI</th>\n",
       "      <td>-0.085821</td>\n",
       "      <td>0.076558</td>\n",
       "      <td>0.130851</td>\n",
       "      <td>0.154693</td>\n",
       "      <td>0.099303</td>\n",
       "      <td>1.000000</td>\n",
       "      <td>0.925371</td>\n",
       "    </tr>\n",
       "    <tr>\n",
       "      <th>loge_LBXSAPSI</th>\n",
       "      <td>-0.095983</td>\n",
       "      <td>0.097559</td>\n",
       "      <td>0.155874</td>\n",
       "      <td>0.181955</td>\n",
       "      <td>0.102872</td>\n",
       "      <td>0.925371</td>\n",
       "      <td>1.000000</td>\n",
       "    </tr>\n",
       "  </tbody>\n",
       "</table>\n",
       "</div>"
      ],
      "text/plain": [
       "               LBXVIDMS     BMXWT    BMXBMI  BMXWAIST    BPXPLS  LBXSAPSI  \\\n",
       "LBXVIDMS       1.000000 -0.155335 -0.168543 -0.119829 -0.074130 -0.085821   \n",
       "BMXWT         -0.155335  1.000000  0.874940  0.892716  0.102215  0.076558   \n",
       "BMXBMI        -0.168543  0.874940  1.000000  0.903030  0.139243  0.130851   \n",
       "BMXWAIST      -0.119829  0.892716  0.903030  1.000000  0.128991  0.154693   \n",
       "BPXPLS        -0.074130  0.102215  0.139243  0.128991  1.000000  0.099303   \n",
       "LBXSAPSI      -0.085821  0.076558  0.130851  0.154693  0.099303  1.000000   \n",
       "loge_LBXSAPSI -0.095983  0.097559  0.155874  0.181955  0.102872  0.925371   \n",
       "\n",
       "               loge_LBXSAPSI  \n",
       "LBXVIDMS           -0.095983  \n",
       "BMXWT               0.097559  \n",
       "BMXBMI              0.155874  \n",
       "BMXWAIST            0.181955  \n",
       "BPXPLS              0.102872  \n",
       "LBXSAPSI            0.925371  \n",
       "loge_LBXSAPSI       1.000000  "
      ]
     },
     "execution_count": 16,
     "metadata": {},
     "output_type": "execute_result"
    }
   ],
   "source": [
    "df_VID_SALP[['LBXVIDMS','BMXWT','BMXBMI','BMXWAIST','BPXPLS','LBXSAPSI','loge_LBXSAPSI']].dropna().corr()"
   ]
  },
  {
   "cell_type": "code",
   "execution_count": 17,
   "id": "reverse-notebook",
   "metadata": {},
   "outputs": [
    {
     "data": {
      "text/html": [
       "<div>\n",
       "<style scoped>\n",
       "    .dataframe tbody tr th:only-of-type {\n",
       "        vertical-align: middle;\n",
       "    }\n",
       "\n",
       "    .dataframe tbody tr th {\n",
       "        vertical-align: top;\n",
       "    }\n",
       "\n",
       "    .dataframe thead th {\n",
       "        text-align: right;\n",
       "    }\n",
       "</style>\n",
       "<table border=\"1\" class=\"dataframe\">\n",
       "  <thead>\n",
       "    <tr style=\"text-align: right;\">\n",
       "      <th></th>\n",
       "      <th>LBXVIDMS</th>\n",
       "      <th>LBXSAPSI</th>\n",
       "      <th>BMXWT</th>\n",
       "      <th>BMXBMI</th>\n",
       "      <th>BMXWAIST</th>\n",
       "      <th>BPXPLS</th>\n",
       "      <th>loge_LBXSAPSI</th>\n",
       "    </tr>\n",
       "  </thead>\n",
       "  <tbody>\n",
       "    <tr>\n",
       "      <th>LBXVIDMS</th>\n",
       "      <td>1.000000</td>\n",
       "      <td>-0.085314</td>\n",
       "      <td>-0.151914</td>\n",
       "      <td>-0.154288</td>\n",
       "      <td>-0.096105</td>\n",
       "      <td>-0.087466</td>\n",
       "      <td>-0.081785</td>\n",
       "    </tr>\n",
       "    <tr>\n",
       "      <th>LBXSAPSI</th>\n",
       "      <td>-0.085314</td>\n",
       "      <td>1.000000</td>\n",
       "      <td>0.103405</td>\n",
       "      <td>0.160005</td>\n",
       "      <td>0.185125</td>\n",
       "      <td>0.092639</td>\n",
       "      <td>0.957997</td>\n",
       "    </tr>\n",
       "    <tr>\n",
       "      <th>BMXWT</th>\n",
       "      <td>-0.151914</td>\n",
       "      <td>0.103405</td>\n",
       "      <td>1.000000</td>\n",
       "      <td>0.877911</td>\n",
       "      <td>0.894218</td>\n",
       "      <td>0.120471</td>\n",
       "      <td>0.118452</td>\n",
       "    </tr>\n",
       "    <tr>\n",
       "      <th>BMXBMI</th>\n",
       "      <td>-0.154288</td>\n",
       "      <td>0.160005</td>\n",
       "      <td>0.877911</td>\n",
       "      <td>1.000000</td>\n",
       "      <td>0.909067</td>\n",
       "      <td>0.140174</td>\n",
       "      <td>0.177167</td>\n",
       "    </tr>\n",
       "    <tr>\n",
       "      <th>BMXWAIST</th>\n",
       "      <td>-0.096105</td>\n",
       "      <td>0.185125</td>\n",
       "      <td>0.894218</td>\n",
       "      <td>0.909067</td>\n",
       "      <td>1.000000</td>\n",
       "      <td>0.142901</td>\n",
       "      <td>0.204203</td>\n",
       "    </tr>\n",
       "    <tr>\n",
       "      <th>BPXPLS</th>\n",
       "      <td>-0.087466</td>\n",
       "      <td>0.092639</td>\n",
       "      <td>0.120471</td>\n",
       "      <td>0.140174</td>\n",
       "      <td>0.142901</td>\n",
       "      <td>1.000000</td>\n",
       "      <td>0.092140</td>\n",
       "    </tr>\n",
       "    <tr>\n",
       "      <th>loge_LBXSAPSI</th>\n",
       "      <td>-0.081785</td>\n",
       "      <td>0.957997</td>\n",
       "      <td>0.118452</td>\n",
       "      <td>0.177167</td>\n",
       "      <td>0.204203</td>\n",
       "      <td>0.092140</td>\n",
       "      <td>1.000000</td>\n",
       "    </tr>\n",
       "  </tbody>\n",
       "</table>\n",
       "</div>"
      ],
      "text/plain": [
       "               LBXVIDMS  LBXSAPSI     BMXWT    BMXBMI  BMXWAIST    BPXPLS  \\\n",
       "LBXVIDMS       1.000000 -0.085314 -0.151914 -0.154288 -0.096105 -0.087466   \n",
       "LBXSAPSI      -0.085314  1.000000  0.103405  0.160005  0.185125  0.092639   \n",
       "BMXWT         -0.151914  0.103405  1.000000  0.877911  0.894218  0.120471   \n",
       "BMXBMI        -0.154288  0.160005  0.877911  1.000000  0.909067  0.140174   \n",
       "BMXWAIST      -0.096105  0.185125  0.894218  0.909067  1.000000  0.142901   \n",
       "BPXPLS        -0.087466  0.092639  0.120471  0.140174  0.142901  1.000000   \n",
       "loge_LBXSAPSI -0.081785  0.957997  0.118452  0.177167  0.204203  0.092140   \n",
       "\n",
       "               loge_LBXSAPSI  \n",
       "LBXVIDMS           -0.081785  \n",
       "LBXSAPSI            0.957997  \n",
       "BMXWT               0.118452  \n",
       "BMXBMI              0.177167  \n",
       "BMXWAIST            0.204203  \n",
       "BPXPLS              0.092140  \n",
       "loge_LBXSAPSI       1.000000  "
      ]
     },
     "execution_count": 17,
     "metadata": {},
     "output_type": "execute_result"
    }
   ],
   "source": [
    "df_VID_SALP_I[['LBXVIDMS','LBXSAPSI','BMXWT','BMXBMI','BMXWAIST','BPXPLS','loge_LBXSAPSI']].dropna().corr()"
   ]
  },
  {
   "cell_type": "code",
   "execution_count": 18,
   "id": "excess-arrest",
   "metadata": {},
   "outputs": [
    {
     "data": {
      "text/html": [
       "<div>\n",
       "<style scoped>\n",
       "    .dataframe tbody tr th:only-of-type {\n",
       "        vertical-align: middle;\n",
       "    }\n",
       "\n",
       "    .dataframe tbody tr th {\n",
       "        vertical-align: top;\n",
       "    }\n",
       "\n",
       "    .dataframe thead th {\n",
       "        text-align: right;\n",
       "    }\n",
       "</style>\n",
       "<table border=\"1\" class=\"dataframe\">\n",
       "  <thead>\n",
       "    <tr style=\"text-align: right;\">\n",
       "      <th></th>\n",
       "      <th>SEQN</th>\n",
       "      <th>RIDAGEYR</th>\n",
       "      <th>LBXVIDMS</th>\n",
       "      <th>BMXWT</th>\n",
       "      <th>BMXBMI</th>\n",
       "      <th>BMXWAIST</th>\n",
       "      <th>BPXPLS</th>\n",
       "      <th>LBXSAPSI</th>\n",
       "      <th>LBXIN</th>\n",
       "      <th>loge_LBXIN</th>\n",
       "      <th>loge_LBXSAPSI</th>\n",
       "    </tr>\n",
       "  </thead>\n",
       "  <tbody>\n",
       "    <tr>\n",
       "      <th>count</th>\n",
       "      <td>11207.000000</td>\n",
       "      <td>11207.000000</td>\n",
       "      <td>11207.000000</td>\n",
       "      <td>11207.000000</td>\n",
       "      <td>11207.000000</td>\n",
       "      <td>11207.000000</td>\n",
       "      <td>11207.000000</td>\n",
       "      <td>11207.000000</td>\n",
       "      <td>11207.000000</td>\n",
       "      <td>11207.000000</td>\n",
       "      <td>11207.000000</td>\n",
       "    </tr>\n",
       "    <tr>\n",
       "      <th>mean</th>\n",
       "      <td>67652.886946</td>\n",
       "      <td>50.108325</td>\n",
       "      <td>64.546077</td>\n",
       "      <td>81.343366</td>\n",
       "      <td>29.006735</td>\n",
       "      <td>99.352530</td>\n",
       "      <td>71.548675</td>\n",
       "      <td>68.438119</td>\n",
       "      <td>13.790487</td>\n",
       "      <td>2.324039</td>\n",
       "      <td>4.176810</td>\n",
       "    </tr>\n",
       "    <tr>\n",
       "      <th>std</th>\n",
       "      <td>15097.283402</td>\n",
       "      <td>17.236718</td>\n",
       "      <td>27.276725</td>\n",
       "      <td>20.993255</td>\n",
       "      <td>6.691503</td>\n",
       "      <td>16.067825</td>\n",
       "      <td>11.653304</td>\n",
       "      <td>23.653661</td>\n",
       "      <td>17.027071</td>\n",
       "      <td>0.738984</td>\n",
       "      <td>0.309021</td>\n",
       "    </tr>\n",
       "    <tr>\n",
       "      <th>min</th>\n",
       "      <td>41479.000000</td>\n",
       "      <td>21.000000</td>\n",
       "      <td>7.570000</td>\n",
       "      <td>29.100000</td>\n",
       "      <td>13.400000</td>\n",
       "      <td>56.200000</td>\n",
       "      <td>36.000000</td>\n",
       "      <td>7.000000</td>\n",
       "      <td>0.140000</td>\n",
       "      <td>-1.966113</td>\n",
       "      <td>1.945910</td>\n",
       "    </tr>\n",
       "    <tr>\n",
       "      <th>25%</th>\n",
       "      <td>54835.000000</td>\n",
       "      <td>36.000000</td>\n",
       "      <td>45.100000</td>\n",
       "      <td>66.500000</td>\n",
       "      <td>24.300000</td>\n",
       "      <td>88.200000</td>\n",
       "      <td>64.000000</td>\n",
       "      <td>53.000000</td>\n",
       "      <td>6.300000</td>\n",
       "      <td>1.840550</td>\n",
       "      <td>3.970292</td>\n",
       "    </tr>\n",
       "    <tr>\n",
       "      <th>50%</th>\n",
       "      <td>66893.000000</td>\n",
       "      <td>50.000000</td>\n",
       "      <td>61.800000</td>\n",
       "      <td>78.400000</td>\n",
       "      <td>27.950000</td>\n",
       "      <td>98.000000</td>\n",
       "      <td>70.000000</td>\n",
       "      <td>65.000000</td>\n",
       "      <td>10.010000</td>\n",
       "      <td>2.303585</td>\n",
       "      <td>4.174387</td>\n",
       "    </tr>\n",
       "    <tr>\n",
       "      <th>75%</th>\n",
       "      <td>81100.500000</td>\n",
       "      <td>64.000000</td>\n",
       "      <td>79.750000</td>\n",
       "      <td>92.600000</td>\n",
       "      <td>32.400000</td>\n",
       "      <td>108.600000</td>\n",
       "      <td>78.000000</td>\n",
       "      <td>79.000000</td>\n",
       "      <td>16.290000</td>\n",
       "      <td>2.790551</td>\n",
       "      <td>4.369448</td>\n",
       "    </tr>\n",
       "    <tr>\n",
       "      <th>max</th>\n",
       "      <td>93695.000000</td>\n",
       "      <td>80.000000</td>\n",
       "      <td>375.000000</td>\n",
       "      <td>198.900000</td>\n",
       "      <td>84.870000</td>\n",
       "      <td>176.000000</td>\n",
       "      <td>140.000000</td>\n",
       "      <td>729.000000</td>\n",
       "      <td>682.480000</td>\n",
       "      <td>6.525733</td>\n",
       "      <td>6.591674</td>\n",
       "    </tr>\n",
       "  </tbody>\n",
       "</table>\n",
       "</div>"
      ],
      "text/plain": [
       "               SEQN      RIDAGEYR      LBXVIDMS         BMXWT        BMXBMI  \\\n",
       "count  11207.000000  11207.000000  11207.000000  11207.000000  11207.000000   \n",
       "mean   67652.886946     50.108325     64.546077     81.343366     29.006735   \n",
       "std    15097.283402     17.236718     27.276725     20.993255      6.691503   \n",
       "min    41479.000000     21.000000      7.570000     29.100000     13.400000   \n",
       "25%    54835.000000     36.000000     45.100000     66.500000     24.300000   \n",
       "50%    66893.000000     50.000000     61.800000     78.400000     27.950000   \n",
       "75%    81100.500000     64.000000     79.750000     92.600000     32.400000   \n",
       "max    93695.000000     80.000000    375.000000    198.900000     84.870000   \n",
       "\n",
       "           BMXWAIST        BPXPLS      LBXSAPSI         LBXIN    loge_LBXIN  \\\n",
       "count  11207.000000  11207.000000  11207.000000  11207.000000  11207.000000   \n",
       "mean      99.352530     71.548675     68.438119     13.790487      2.324039   \n",
       "std       16.067825     11.653304     23.653661     17.027071      0.738984   \n",
       "min       56.200000     36.000000      7.000000      0.140000     -1.966113   \n",
       "25%       88.200000     64.000000     53.000000      6.300000      1.840550   \n",
       "50%       98.000000     70.000000     65.000000     10.010000      2.303585   \n",
       "75%      108.600000     78.000000     79.000000     16.290000      2.790551   \n",
       "max      176.000000    140.000000    729.000000    682.480000      6.525733   \n",
       "\n",
       "       loge_LBXSAPSI  \n",
       "count   11207.000000  \n",
       "mean        4.176810  \n",
       "std         0.309021  \n",
       "min         1.945910  \n",
       "25%         3.970292  \n",
       "50%         4.174387  \n",
       "75%         4.369448  \n",
       "max         6.591674  "
      ]
     },
     "execution_count": 18,
     "metadata": {},
     "output_type": "execute_result"
    }
   ],
   "source": [
    "df_VID_I_SALP=pd.concat([df_VID_I_SALP_E,df_VID_I_SALP_F,df_VID_I_SALP_G,df_VID_I_SALP_H,df_VID_I_SALP_I])\n",
    "df_VID_I_SALP.dropna().describe()"
   ]
  },
  {
   "cell_type": "code",
   "execution_count": 19,
   "id": "written-suspect",
   "metadata": {},
   "outputs": [
    {
     "data": {
      "text/html": [
       "<div>\n",
       "<style scoped>\n",
       "    .dataframe tbody tr th:only-of-type {\n",
       "        vertical-align: middle;\n",
       "    }\n",
       "\n",
       "    .dataframe tbody tr th {\n",
       "        vertical-align: top;\n",
       "    }\n",
       "\n",
       "    .dataframe thead th {\n",
       "        text-align: right;\n",
       "    }\n",
       "</style>\n",
       "<table border=\"1\" class=\"dataframe\">\n",
       "  <thead>\n",
       "    <tr style=\"text-align: right;\">\n",
       "      <th></th>\n",
       "      <th>RIDAGEYR</th>\n",
       "      <th>LBXVIDMS</th>\n",
       "      <th>BMXWT</th>\n",
       "      <th>BMXBMI</th>\n",
       "      <th>BMXWAIST</th>\n",
       "      <th>BPXPLS</th>\n",
       "      <th>LBXIN</th>\n",
       "      <th>loge_LBXIN</th>\n",
       "      <th>LBXSAPSI</th>\n",
       "      <th>loge_LBXSAPSI</th>\n",
       "    </tr>\n",
       "  </thead>\n",
       "  <tbody>\n",
       "    <tr>\n",
       "      <th>RIDAGEYR</th>\n",
       "      <td>1.000000</td>\n",
       "      <td>0.228770</td>\n",
       "      <td>-0.046956</td>\n",
       "      <td>0.024627</td>\n",
       "      <td>0.176848</td>\n",
       "      <td>-0.133006</td>\n",
       "      <td>0.020301</td>\n",
       "      <td>0.030497</td>\n",
       "      <td>0.133162</td>\n",
       "      <td>0.141847</td>\n",
       "    </tr>\n",
       "    <tr>\n",
       "      <th>LBXVIDMS</th>\n",
       "      <td>0.228770</td>\n",
       "      <td>1.000000</td>\n",
       "      <td>-0.162121</td>\n",
       "      <td>-0.169276</td>\n",
       "      <td>-0.123770</td>\n",
       "      <td>-0.060350</td>\n",
       "      <td>-0.089162</td>\n",
       "      <td>-0.138106</td>\n",
       "      <td>-0.088785</td>\n",
       "      <td>-0.094512</td>\n",
       "    </tr>\n",
       "    <tr>\n",
       "      <th>BMXWT</th>\n",
       "      <td>-0.046956</td>\n",
       "      <td>-0.162121</td>\n",
       "      <td>1.000000</td>\n",
       "      <td>0.875483</td>\n",
       "      <td>0.892205</td>\n",
       "      <td>0.077466</td>\n",
       "      <td>0.347054</td>\n",
       "      <td>0.498555</td>\n",
       "      <td>0.068567</td>\n",
       "      <td>0.087058</td>\n",
       "    </tr>\n",
       "    <tr>\n",
       "      <th>BMXBMI</th>\n",
       "      <td>0.024627</td>\n",
       "      <td>-0.169276</td>\n",
       "      <td>0.875483</td>\n",
       "      <td>1.000000</td>\n",
       "      <td>0.902650</td>\n",
       "      <td>0.114890</td>\n",
       "      <td>0.365001</td>\n",
       "      <td>0.551776</td>\n",
       "      <td>0.120042</td>\n",
       "      <td>0.142090</td>\n",
       "    </tr>\n",
       "    <tr>\n",
       "      <th>BMXWAIST</th>\n",
       "      <td>0.176848</td>\n",
       "      <td>-0.123770</td>\n",
       "      <td>0.892205</td>\n",
       "      <td>0.902650</td>\n",
       "      <td>1.000000</td>\n",
       "      <td>0.104615</td>\n",
       "      <td>0.373766</td>\n",
       "      <td>0.564721</td>\n",
       "      <td>0.146803</td>\n",
       "      <td>0.169992</td>\n",
       "    </tr>\n",
       "    <tr>\n",
       "      <th>BPXPLS</th>\n",
       "      <td>-0.133006</td>\n",
       "      <td>-0.060350</td>\n",
       "      <td>0.077466</td>\n",
       "      <td>0.114890</td>\n",
       "      <td>0.104615</td>\n",
       "      <td>1.000000</td>\n",
       "      <td>0.133210</td>\n",
       "      <td>0.183077</td>\n",
       "      <td>0.099692</td>\n",
       "      <td>0.097637</td>\n",
       "    </tr>\n",
       "    <tr>\n",
       "      <th>LBXIN</th>\n",
       "      <td>0.020301</td>\n",
       "      <td>-0.089162</td>\n",
       "      <td>0.347054</td>\n",
       "      <td>0.365001</td>\n",
       "      <td>0.373766</td>\n",
       "      <td>0.133210</td>\n",
       "      <td>1.000000</td>\n",
       "      <td>0.709573</td>\n",
       "      <td>0.079732</td>\n",
       "      <td>0.090963</td>\n",
       "    </tr>\n",
       "    <tr>\n",
       "      <th>loge_LBXIN</th>\n",
       "      <td>0.030497</td>\n",
       "      <td>-0.138106</td>\n",
       "      <td>0.498555</td>\n",
       "      <td>0.551776</td>\n",
       "      <td>0.564721</td>\n",
       "      <td>0.183077</td>\n",
       "      <td>0.709573</td>\n",
       "      <td>1.000000</td>\n",
       "      <td>0.114188</td>\n",
       "      <td>0.138298</td>\n",
       "    </tr>\n",
       "    <tr>\n",
       "      <th>LBXSAPSI</th>\n",
       "      <td>0.133162</td>\n",
       "      <td>-0.088785</td>\n",
       "      <td>0.068567</td>\n",
       "      <td>0.120042</td>\n",
       "      <td>0.146803</td>\n",
       "      <td>0.099692</td>\n",
       "      <td>0.079732</td>\n",
       "      <td>0.114188</td>\n",
       "      <td>1.000000</td>\n",
       "      <td>0.940341</td>\n",
       "    </tr>\n",
       "    <tr>\n",
       "      <th>loge_LBXSAPSI</th>\n",
       "      <td>0.141847</td>\n",
       "      <td>-0.094512</td>\n",
       "      <td>0.087058</td>\n",
       "      <td>0.142090</td>\n",
       "      <td>0.169992</td>\n",
       "      <td>0.097637</td>\n",
       "      <td>0.090963</td>\n",
       "      <td>0.138298</td>\n",
       "      <td>0.940341</td>\n",
       "      <td>1.000000</td>\n",
       "    </tr>\n",
       "  </tbody>\n",
       "</table>\n",
       "</div>"
      ],
      "text/plain": [
       "               RIDAGEYR  LBXVIDMS     BMXWT    BMXBMI  BMXWAIST    BPXPLS  \\\n",
       "RIDAGEYR       1.000000  0.228770 -0.046956  0.024627  0.176848 -0.133006   \n",
       "LBXVIDMS       0.228770  1.000000 -0.162121 -0.169276 -0.123770 -0.060350   \n",
       "BMXWT         -0.046956 -0.162121  1.000000  0.875483  0.892205  0.077466   \n",
       "BMXBMI         0.024627 -0.169276  0.875483  1.000000  0.902650  0.114890   \n",
       "BMXWAIST       0.176848 -0.123770  0.892205  0.902650  1.000000  0.104615   \n",
       "BPXPLS        -0.133006 -0.060350  0.077466  0.114890  0.104615  1.000000   \n",
       "LBXIN          0.020301 -0.089162  0.347054  0.365001  0.373766  0.133210   \n",
       "loge_LBXIN     0.030497 -0.138106  0.498555  0.551776  0.564721  0.183077   \n",
       "LBXSAPSI       0.133162 -0.088785  0.068567  0.120042  0.146803  0.099692   \n",
       "loge_LBXSAPSI  0.141847 -0.094512  0.087058  0.142090  0.169992  0.097637   \n",
       "\n",
       "                  LBXIN  loge_LBXIN  LBXSAPSI  loge_LBXSAPSI  \n",
       "RIDAGEYR       0.020301    0.030497  0.133162       0.141847  \n",
       "LBXVIDMS      -0.089162   -0.138106 -0.088785      -0.094512  \n",
       "BMXWT          0.347054    0.498555  0.068567       0.087058  \n",
       "BMXBMI         0.365001    0.551776  0.120042       0.142090  \n",
       "BMXWAIST       0.373766    0.564721  0.146803       0.169992  \n",
       "BPXPLS         0.133210    0.183077  0.099692       0.097637  \n",
       "LBXIN          1.000000    0.709573  0.079732       0.090963  \n",
       "loge_LBXIN     0.709573    1.000000  0.114188       0.138298  \n",
       "LBXSAPSI       0.079732    0.114188  1.000000       0.940341  \n",
       "loge_LBXSAPSI  0.090963    0.138298  0.940341       1.000000  "
      ]
     },
     "execution_count": 19,
     "metadata": {},
     "output_type": "execute_result"
    }
   ],
   "source": [
    "df_VID_I_SALP[['RIDAGEYR','LBXVIDMS','BMXWT','BMXBMI','BMXWAIST','BPXPLS','LBXIN','loge_LBXIN','LBXSAPSI','loge_LBXSAPSI']].dropna().corr()"
   ]
  },
  {
   "cell_type": "code",
   "execution_count": 20,
   "id": "smaller-jumping",
   "metadata": {},
   "outputs": [
    {
     "data": {
      "text/plain": [
       "array([[<AxesSubplot:title={'center':'LBXVIDMS'}>]], dtype=object)"
      ]
     },
     "execution_count": 20,
     "metadata": {},
     "output_type": "execute_result"
    },
    {
     "data": {
      "image/png": "[encoded data removed]",
      "text/plain": [
       "<Figure size 432x288 with 1 Axes>"
      ]
     },
     "metadata": {
      "needs_background": "light"
     },
     "output_type": "display_data"
    }
   ],
   "source": [
    "df_VID_SALP[['LBXVIDMS']].hist(bins=50)"
   ]
  },
  {
   "cell_type": "code",
   "execution_count": 21,
   "id": "superior-connection",
   "metadata": {},
   "outputs": [
    {
     "data": {
      "text/plain": [
       "<AxesSubplot:>"
      ]
     },
     "execution_count": 21,
     "metadata": {},
     "output_type": "execute_result"
    },
    {
     "data": {
      "image/png": "[encoded data removed]",
      "text/plain": [
       "<Figure size 432x288 with 1 Axes>"
      ]
     },
     "metadata": {
      "needs_background": "light"
     },
     "output_type": "display_data"
    }
   ],
   "source": [
    "df_VID_SALP[df_VID_SALP['LBXVIDMS']<150]['LBXVIDMS'].hist(bins=100)"
   ]
  },
  {
   "cell_type": "code",
   "execution_count": 22,
   "id": "completed-roller",
   "metadata": {},
   "outputs": [
    {
     "data": {
      "text/plain": [
       "array([[<AxesSubplot:title={'center':'LBXSAPSI'}>]], dtype=object)"
      ]
     },
     "execution_count": 22,
     "metadata": {},
     "output_type": "execute_result"
    },
    {
     "data": {
      "image/png": "[encoded data removed]",
      "text/plain": [
       "<Figure size 432x288 with 1 Axes>"
      ]
     },
     "metadata": {
      "needs_background": "light"
     },
     "output_type": "display_data"
    }
   ],
   "source": [
    "df_VID_SALP[['LBXSAPSI']].hist(bins=150)"
   ]
  },
  {
   "cell_type": "code",
   "execution_count": 23,
   "id": "inner-kuwait",
   "metadata": {},
   "outputs": [
    {
     "data": {
      "text/plain": [
       "<AxesSubplot:>"
      ]
     },
     "execution_count": 23,
     "metadata": {},
     "output_type": "execute_result"
    },
    {
     "data": {
      "image/png": "[encoded data removed]",
      "text/plain": [
       "<Figure size 432x288 with 1 Axes>"
      ]
     },
     "metadata": {
      "needs_background": "light"
     },
     "output_type": "display_data"
    }
   ],
   "source": [
    "df_VID_SALP[df_VID_SALP['LBXSAPSI']<200]['LBXSAPSI'].hist(bins=100)"
   ]
  },
  {
   "cell_type": "code",
   "execution_count": 24,
   "id": "trained-syndication",
   "metadata": {},
   "outputs": [
    {
     "data": {
      "text/plain": [
       "array([[<AxesSubplot:title={'center':'loge_LBXSAPSI'}>]], dtype=object)"
      ]
     },
     "execution_count": 24,
     "metadata": {},
     "output_type": "execute_result"
    },
    {
     "data": {
      "image/png": "[encoded data removed]",
      "text/plain": [
       "<Figure size 432x288 with 1 Axes>"
      ]
     },
     "metadata": {
      "needs_background": "light"
     },
     "output_type": "display_data"
    }
   ],
   "source": [
    "df_VID_SALP[['loge_LBXSAPSI']].hist(bins=50)"
   ]
  },
  {
   "cell_type": "code",
   "execution_count": 25,
   "id": "animated-tunnel",
   "metadata": {},
   "outputs": [],
   "source": [
    "# df_merge_paq_dbq[['LBXVIDMS','LBXSAPSI']].groupby(df_merge_paq_dbq['LBXVIDMS']).mean().plot(marker='*',x='DBQ700',y='DXDTRPF')"
   ]
  },
  {
   "cell_type": "code",
   "execution_count": 26,
   "id": "affiliated-speed",
   "metadata": {},
   "outputs": [
    {
     "data": {
      "text/plain": [
       "<AxesSubplot:xlabel='LBXVIDMS'>"
      ]
     },
     "execution_count": 26,
     "metadata": {},
     "output_type": "execute_result"
    },
    {
     "data": {
      "image/png": "[encoded data removed]",
      "text/plain": [
       "<Figure size 432x288 with 1 Axes>"
      ]
     },
     "metadata": {
      "needs_background": "light"
     },
     "output_type": "display_data"
    }
   ],
   "source": [
    "df_VID_SALP[['LBXVIDMS','LBXSAPSI']].groupby(pd.cut(df_VID_SALP['LBXVIDMS'], [df_VID_SALP['LBXVIDMS'].min(),df_VID_SALP['LBXVIDMS'].describe()['25%'], df_VID_SALP['LBXVIDMS'].describe()['50%'],df_VID_SALP['LBXVIDMS'].describe()['75%'],df_VID_SALP['LBXVIDMS'].max()])).mean().plot(marker='*',x='LBXVIDMS',y='LBXSAPSI')"
   ]
  },
  {
   "cell_type": "code",
   "execution_count": 27,
   "id": "muslim-chester",
   "metadata": {},
   "outputs": [
    {
     "data": {
      "text/plain": [
       "<AxesSubplot:xlabel='LBXVIDMS'>"
      ]
     },
     "execution_count": 27,
     "metadata": {},
     "output_type": "execute_result"
    },
    {
     "data": {
      "image/png": "[encoded data removed]",
      "text/plain": [
       "<Figure size 432x288 with 1 Axes>"
      ]
     },
     "metadata": {
      "needs_background": "light"
     },
     "output_type": "display_data"
    }
   ],
   "source": [
    "df_VID_SALP[['LBXVIDMS','loge_LBXSAPSI']].groupby(pd.cut(df_VID_SALP['LBXVIDMS'], [df_VID_SALP['LBXVIDMS'].min(),df_VID_SALP['LBXVIDMS'].describe()['25%'], df_VID_SALP['LBXVIDMS'].describe()['50%'],df_VID_SALP['LBXVIDMS'].describe()['75%'],df_VID_SALP['LBXVIDMS'].max()])).mean().plot(marker='*',x='LBXVIDMS',y='loge_LBXSAPSI')"
   ]
  },
  {
   "cell_type": "code",
   "execution_count": 28,
   "id": "professional-nitrogen",
   "metadata": {},
   "outputs": [
    {
     "data": {
      "text/plain": [
       "<AxesSubplot:xlabel='LBXVIDMS'>"
      ]
     },
     "execution_count": 28,
     "metadata": {},
     "output_type": "execute_result"
    },
    {
     "data": {
      "image/png": "[encoded data removed]",
      "text/plain": [
       "<Figure size 432x288 with 1 Axes>"
      ]
     },
     "metadata": {
      "needs_background": "light"
     },
     "output_type": "display_data"
    }
   ],
   "source": [
    "df_VID_SALP[['LBXVIDMS','BMXBMI']].groupby(pd.cut(df_VID_SALP['LBXVIDMS'], [df_VID_SALP['LBXVIDMS'].min(),df_VID_SALP['LBXVIDMS'].describe()['25%'], df_VID_SALP['LBXVIDMS'].describe()['50%'],df_VID_SALP['LBXVIDMS'].describe()['75%'],df_VID_SALP['LBXVIDMS'].max()])).mean().plot(marker='*',x='LBXVIDMS',y='BMXBMI')"
   ]
  },
  {
   "cell_type": "code",
   "execution_count": 29,
   "id": "maritime-fellowship",
   "metadata": {},
   "outputs": [
    {
     "data": {
      "text/plain": [
       "<AxesSubplot:xlabel='LBXVIDMS'>"
      ]
     },
     "execution_count": 29,
     "metadata": {},
     "output_type": "execute_result"
    },
    {
     "data": {
      "image/png": "[encoded data removed]",
      "text/plain": [
       "<Figure size 432x288 with 1 Axes>"
      ]
     },
     "metadata": {
      "needs_background": "light"
     },
     "output_type": "display_data"
    }
   ],
   "source": [
    "df_VID_SALP[['LBXVIDMS','BMXWAIST']].groupby(pd.cut(df_VID_SALP['LBXVIDMS'], [df_VID_SALP['LBXVIDMS'].min(),df_VID_SALP['LBXVIDMS'].describe()['25%'], df_VID_SALP['LBXVIDMS'].describe()['50%'],df_VID_SALP['LBXVIDMS'].describe()['75%'],df_VID_SALP['LBXVIDMS'].max()])).mean().plot(marker='*',x='LBXVIDMS',y='BMXWAIST')"
   ]
  },
  {
   "cell_type": "code",
   "execution_count": 30,
   "id": "bigger-insulation",
   "metadata": {},
   "outputs": [
    {
     "data": {
      "text/plain": [
       "<AxesSubplot:xlabel='LBXVIDMS'>"
      ]
     },
     "execution_count": 30,
     "metadata": {},
     "output_type": "execute_result"
    },
    {
     "data": {
      "image/png": "[encoded data removed]",
      "text/plain": [
       "<Figure size 432x288 with 1 Axes>"
      ]
     },
     "metadata": {
      "needs_background": "light"
     },
     "output_type": "display_data"
    }
   ],
   "source": [
    "df_VID_I_SALP[['LBXVIDMS','loge_LBXIN']].groupby(pd.cut(df_VID_I_SALP['LBXVIDMS'], [df_VID_I_SALP['LBXVIDMS'].min(),df_VID_I_SALP['LBXVIDMS'].describe()['25%'], df_VID_I_SALP['LBXVIDMS'].describe()['50%'],df_VID_I_SALP['LBXVIDMS'].describe()['75%'],df_VID_I_SALP['LBXVIDMS'].max()])).mean().plot(marker='*',x='LBXVIDMS',y='loge_LBXIN')"
   ]
  },
  {
   "cell_type": "code",
   "execution_count": 31,
   "id": "aerial-acoustic",
   "metadata": {},
   "outputs": [
    {
     "data": {
      "text/plain": [
       "<AxesSubplot:xlabel='LBXVIDMS'>"
      ]
     },
     "execution_count": 31,
     "metadata": {},
     "output_type": "execute_result"
    },
    {
     "data": {
      "image/png": "[encoded data removed]",
      "text/plain": [
       "<Figure size 432x288 with 1 Axes>"
      ]
     },
     "metadata": {
      "needs_background": "light"
     },
     "output_type": "display_data"
    }
   ],
   "source": [
    "df_VID_I_SALP[['LBXVIDMS','LBXIN']].groupby(pd.cut(df_VID_I_SALP['LBXVIDMS'], [df_VID_I_SALP['LBXVIDMS'].min(),df_VID_I_SALP['LBXVIDMS'].describe()['25%'], df_VID_I_SALP['LBXVIDMS'].describe()['50%'],df_VID_I_SALP['LBXVIDMS'].describe()['75%'],df_VID_I_SALP['LBXVIDMS'].max()])).mean().plot(marker='*',x='LBXVIDMS',y='LBXIN')"
   ]
  },
  {
   "cell_type": "code",
   "execution_count": 32,
   "id": "protected-shelf",
   "metadata": {},
   "outputs": [
    {
     "data": {
      "text/plain": [
       "<AxesSubplot:xlabel='LBXVIDMS'>"
      ]
     },
     "execution_count": 32,
     "metadata": {},
     "output_type": "execute_result"
    },
    {
     "data": {
      "image/png": "[encoded data removed]",
      "text/plain": [
       "<Figure size 432x288 with 1 Axes>"
      ]
     },
     "metadata": {
      "needs_background": "light"
     },
     "output_type": "display_data"
    }
   ],
   "source": [
    "df_VID_I_SALP[['LBXVIDMS','BPXPLS']].groupby(pd.cut(df_VID_I_SALP['LBXVIDMS'], [df_VID_I_SALP['LBXVIDMS'].min(),df_VID_I_SALP['LBXVIDMS'].describe()['25%'], df_VID_I_SALP['LBXVIDMS'].describe()['50%'],df_VID_I_SALP['LBXVIDMS'].describe()['75%'],df_VID_I_SALP['LBXVIDMS'].max()])).mean().plot(marker='*',x='LBXVIDMS',y='BPXPLS')"
   ]
  },
  {
   "cell_type": "code",
   "execution_count": 33,
   "id": "exotic-sacramento",
   "metadata": {},
   "outputs": [
    {
     "data": {
      "text/plain": [
       "<AxesSubplot:xlabel='loge_LBXIN'>"
      ]
     },
     "execution_count": 33,
     "metadata": {},
     "output_type": "execute_result"
    },
    {
     "data": {
      "image/png": "[encoded data removed]",
      "text/plain": [
       "<Figure size 432x288 with 1 Axes>"
      ]
     },
     "metadata": {
      "needs_background": "light"
     },
     "output_type": "display_data"
    }
   ],
   "source": [
    "df_VID_I_SALP[['loge_LBXIN','BPXPLS']].groupby(pd.cut(df_VID_I_SALP['loge_LBXIN'], [df_VID_I_SALP['loge_LBXIN'].min(),df_VID_I_SALP['loge_LBXIN'].describe()['25%'], df_VID_I_SALP['loge_LBXIN'].describe()['50%'],df_VID_I_SALP['loge_LBXIN'].describe()['75%'],df_VID_I_SALP['loge_LBXIN'].max()])).mean().plot(marker='*',x='loge_LBXIN',y='BPXPLS')"
   ]
  },
  {
   "cell_type": "code",
   "execution_count": 34,
   "id": "verified-faith",
   "metadata": {},
   "outputs": [
    {
     "name": "stdout",
     "output_type": "stream",
     "text": [
      "                            OLS Regression Results                            \n",
      "==============================================================================\n",
      "Dep. Variable:             loge_LBXIN   R-squared:                       0.019\n",
      "Model:                            OLS   Adj. R-squared:                  0.019\n",
      "Method:                 Least Squares   F-statistic:                     229.5\n",
      "Date:                Wed, 08 Dec 2021   Prob (F-statistic):           2.22e-51\n",
      "Time:                        16:49:28   Log-Likelihood:                -13537.\n",
      "No. Observations:               12092   AIC:                         2.708e+04\n",
      "Df Residuals:                   12090   BIC:                         2.709e+04\n",
      "Df Model:                           1                                         \n",
      "Covariance Type:            nonrobust                                         \n",
      "==============================================================================\n",
      "                 coef    std err          t      P>|t|      [0.025      0.975]\n",
      "------------------------------------------------------------------------------\n",
      "Intercept      2.5720      0.017    149.490      0.000       2.538       2.606\n",
      "LBXVIDMS      -0.0037      0.000    -15.151      0.000      -0.004      -0.003\n",
      "==============================================================================\n",
      "Omnibus:                      411.238   Durbin-Watson:                   1.967\n",
      "Prob(Omnibus):                  0.000   Jarque-Bera (JB):             1019.749\n",
      "Skew:                           0.154   Prob(JB):                    3.67e-222\n",
      "Kurtosis:                       4.389   Cond. No.                         179.\n",
      "==============================================================================\n",
      "\n",
      "Notes:\n",
      "[1] Standard Errors assume that the covariance matrix of the errors is correctly specified.\n"
     ]
    }
   ],
   "source": [
    "model = smf.ols(formula=\"loge_LBXIN ~ LBXVIDMS\", data=df_VID_I_SALP).fit()\n",
    "print(model.summary())"
   ]
  },
  {
   "cell_type": "code",
   "execution_count": 35,
   "id": "assumed-senator",
   "metadata": {},
   "outputs": [
    {
     "name": "stdout",
     "output_type": "stream",
     "text": [
      "                            OLS Regression Results                            \n",
      "==============================================================================\n",
      "Dep. Variable:                 BPXPLS   R-squared:                       0.034\n",
      "Model:                            OLS   Adj. R-squared:                  0.034\n",
      "Method:                 Least Squares   F-statistic:                     423.3\n",
      "Date:                Wed, 08 Dec 2021   Prob (F-statistic):           1.83e-92\n",
      "Time:                        16:49:29   Log-Likelihood:                -46341.\n",
      "No. Observations:               11983   AIC:                         9.269e+04\n",
      "Df Residuals:                   11981   BIC:                         9.270e+04\n",
      "Df Model:                           1                                         \n",
      "Covariance Type:            nonrobust                                         \n",
      "==============================================================================\n",
      "                 coef    std err          t      P>|t|      [0.025      0.975]\n",
      "------------------------------------------------------------------------------\n",
      "Intercept     64.8721      0.346    187.400      0.000      64.194      65.551\n",
      "loge_LBXIN     2.9140      0.142     20.574      0.000       2.636       3.192\n",
      "==============================================================================\n",
      "Omnibus:                      870.010   Durbin-Watson:                   2.008\n",
      "Prob(Omnibus):                  0.000   Jarque-Bera (JB):             1243.682\n",
      "Skew:                           0.610   Prob(JB):                    8.67e-271\n",
      "Kurtosis:                       4.001   Cond. No.                         9.24\n",
      "==============================================================================\n",
      "\n",
      "Notes:\n",
      "[1] Standard Errors assume that the covariance matrix of the errors is correctly specified.\n"
     ]
    }
   ],
   "source": [
    "model = smf.ols(formula=\"BPXPLS ~ loge_LBXIN\", data=df_VID_I_SALP).fit()\n",
    "print(model.summary())"
   ]
  },
  {
   "cell_type": "code",
   "execution_count": 36,
   "id": "sitting-style",
   "metadata": {},
   "outputs": [
    {
     "data": {
      "text/plain": [
       "[<matplotlib.lines.Line2D at 0x25f148e0>]"
      ]
     },
     "execution_count": 36,
     "metadata": {},
     "output_type": "execute_result"
    },
    {
     "data": {
      "image/png": "[encoded data removed]",
      "text/plain": [
       "<Figure size 432x288 with 1 Axes>"
      ]
     },
     "metadata": {
      "needs_background": "light"
     },
     "output_type": "display_data"
    }
   ],
   "source": [
    "x=[i for i in range(0,7)]\n",
    "\n",
    "y=[model.params[0]+i*model.params[1] for i in x]\n",
    "\n",
    "plt.plot(df_VID_I_SALP['loge_LBXIN'],df_VID_I_SALP['BPXPLS'],'*')\n",
    "plt.plot(x,y,'r')"
   ]
  },
  {
   "cell_type": "markdown",
   "id": "necessary-timing",
   "metadata": {},
   "source": [
    "# Inference:\n",
    "Vit D statistically small but significant relationship with body mass index and various risk factors that affect BMI. Hence correcting Vit D deficiency is critcial to improve overall health of the individual."
   ]
  },
  {
   "cell_type": "code",
   "execution_count": null,
   "id": "horizontal-intention",
   "metadata": {},
   "outputs": [],
   "source": []
  }
 ],
 "metadata": {
  "kernelspec": {
   "display_name": "Python 3",
   "language": "python",
   "name": "python3"
  },
  "language_info": {
   "codemirror_mode": {
    "name": "ipython",
    "version": 3
   },
   "file_extension": ".py",
   "mimetype": "text/x-python",
   "name": "python",
   "nbconvert_exporter": "python",
   "pygments_lexer": "ipython3",
   "version": "3.8.8"
  }
 },
 "nbformat": 4,
 "nbformat_minor": 5
}
