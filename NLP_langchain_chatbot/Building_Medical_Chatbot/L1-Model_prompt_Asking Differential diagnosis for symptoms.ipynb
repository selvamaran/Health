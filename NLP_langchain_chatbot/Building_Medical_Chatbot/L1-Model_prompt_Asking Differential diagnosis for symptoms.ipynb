{
 "cells": [
  {
   "cell_type": "code",
   "execution_count": 1,
   "id": "furnished-surge",
   "metadata": {},
   "outputs": [],
   "source": [
    "import os\n",
    "os.environ['OPENAI_API_KEY']=''"
   ]
  },
  {
   "cell_type": "code",
   "execution_count": 2,
   "id": "educational-heater",
   "metadata": {},
   "outputs": [],
   "source": [
    "from langchain.callbacks import get_openai_callback\n",
    "from langchain.chat_models import ChatOpenAI\n",
    "from langchain.prompts import ChatPromptTemplate"
   ]
  },
  {
   "cell_type": "code",
   "execution_count": 38,
   "id": "accompanied-timothy",
   "metadata": {},
   "outputs": [],
   "source": [
    "chat = ChatOpenAI(temperature=0)"
   ]
  },
  {
   "cell_type": "code",
   "execution_count": 39,
   "id": "curious-affiliate",
   "metadata": {},
   "outputs": [],
   "source": [
    "template_string = \"\"\"Give top five differential diagnosis for the symptom written in text that is delimited by triple backticks \\\n",
    "text: ```{text}```\n",
    "\"\"\""
   ]
  },
  {
   "cell_type": "code",
   "execution_count": 40,
   "id": "foster-cricket",
   "metadata": {},
   "outputs": [
    {
     "data": {
      "text/plain": [
       "str"
      ]
     },
     "execution_count": 40,
     "metadata": {},
     "output_type": "execute_result"
    }
   ],
   "source": [
    "type(template_string)"
   ]
  },
  {
   "cell_type": "code",
   "execution_count": null,
   "id": "respiratory-deficit",
   "metadata": {},
   "outputs": [],
   "source": []
  },
  {
   "cell_type": "code",
   "execution_count": 41,
   "id": "fallen-secretariat",
   "metadata": {},
   "outputs": [
    {
     "data": {
      "text/plain": [
       "ChatPromptTemplate(input_variables=['text'], output_parser=None, partial_variables={}, messages=[HumanMessagePromptTemplate(prompt=PromptTemplate(input_variables=['text'], output_parser=None, partial_variables={}, template='Give top five differential diagnosis for the symptom written in text that is delimited by triple backticks text: ```{text}```\\n', template_format='f-string', validate_template=True), additional_kwargs={})])"
      ]
     },
     "execution_count": 41,
     "metadata": {},
     "output_type": "execute_result"
    }
   ],
   "source": [
    "### Able to extraprolate inputs from curly brackets\n",
    "prompt_template=ChatPromptTemplate.from_template(template_string)\n",
    "prompt_template"
   ]
  },
  {
   "cell_type": "code",
   "execution_count": 42,
   "id": "adjustable-madonna",
   "metadata": {},
   "outputs": [
    {
     "data": {
      "text/plain": [
       "PromptTemplate(input_variables=['text'], output_parser=None, partial_variables={}, template='Give top five differential diagnosis for the symptom written in text that is delimited by triple backticks text: ```{text}```\\n', template_format='f-string', validate_template=True)"
      ]
     },
     "execution_count": 42,
     "metadata": {},
     "output_type": "execute_result"
    }
   ],
   "source": [
    "prompt_template.messages[0].prompt"
   ]
  },
  {
   "cell_type": "code",
   "execution_count": 43,
   "id": "surprising-competition",
   "metadata": {},
   "outputs": [
    {
     "data": {
      "text/plain": [
       "['text']"
      ]
     },
     "execution_count": 43,
     "metadata": {},
     "output_type": "execute_result"
    }
   ],
   "source": [
    "prompt_template.messages[0].prompt.input_variables"
   ]
  },
  {
   "cell_type": "code",
   "execution_count": 44,
   "id": "hourly-equation",
   "metadata": {},
   "outputs": [
    {
     "data": {
      "text/plain": [
       "'Give top five differential diagnosis for the symptom written in text that is delimited by triple backticks text: ```{text}```\\n'"
      ]
     },
     "execution_count": 44,
     "metadata": {},
     "output_type": "execute_result"
    }
   ],
   "source": [
    "prompt_template.messages[0].prompt.template"
   ]
  },
  {
   "cell_type": "code",
   "execution_count": 45,
   "id": "champion-construction",
   "metadata": {},
   "outputs": [
    {
     "data": {
      "text/plain": [
       "'f-string'"
      ]
     },
     "execution_count": 45,
     "metadata": {},
     "output_type": "execute_result"
    }
   ],
   "source": [
    "prompt_template.messages[0].prompt.template_format"
   ]
  },
  {
   "cell_type": "code",
   "execution_count": 46,
   "id": "endless-comparative",
   "metadata": {},
   "outputs": [
    {
     "data": {
      "text/plain": [
       "'Give top five differential diagnosis for the symptom written in text that is delimited by triple backticks text: ```shortness of breath```\\n'"
      ]
     },
     "execution_count": 46,
     "metadata": {},
     "output_type": "execute_result"
    }
   ],
   "source": [
    "symptom = \"\"\"shortness of breath\"\"\"\n",
    "\n",
    "prompt = prompt_template.format_messages(\n",
    "\n",
    "                    text=symptom)\n",
    "prompt[0].content"
   ]
  },
  {
   "cell_type": "code",
   "execution_count": 47,
   "id": "sudden-observer",
   "metadata": {},
   "outputs": [
    {
     "name": "stdout",
     "output_type": "stream",
     "text": [
      "Tokens Used: 224\n",
      "\tPrompt Tokens: 34\n",
      "\tCompletion Tokens: 190\n",
      "Successful Requests: 1\n",
      "Total Cost (USD): $0.000431\n",
      "1. Asthma: Shortness of breath can be a symptom of asthma, a chronic respiratory condition characterized by inflammation and narrowing of the airways.\n",
      "2. Chronic obstructive pulmonary disease (COPD): COPD is a progressive lung disease that causes difficulty in breathing, including shortness of breath. It is commonly caused by long-term exposure to irritants such as cigarette smoke.\n",
      "3. Pulmonary embolism: This occurs when a blood clot blocks one of the arteries in the lungs, leading to sudden shortness of breath, chest pain, and sometimes coughing up blood.\n",
      "4. Heart failure: Shortness of breath can be a sign of heart failure, a condition where the heart is unable to pump blood efficiently, leading to fluid accumulation in the lungs.\n",
      "5. Pneumonia: An infection in the lungs, such as pneumonia, can cause shortness of breath along with symptoms like cough, fever, and chest pain.\n"
     ]
    }
   ],
   "source": [
    "# Call the LLM to translate to the style of the customer message\n",
    "with get_openai_callback() as cb:\n",
    "    response = chat(prompt)\n",
    "    print(cb)\n",
    "\n",
    "print(response.content)"
   ]
  },
  {
   "cell_type": "code",
   "execution_count": 50,
   "id": "pleasant-prevention",
   "metadata": {},
   "outputs": [
    {
     "data": {
      "text/plain": [
       "'Give top five differential diagnosis for the symptom written in text that is delimited by triple backticks text: ```right shoulder pain```\\n'"
      ]
     },
     "execution_count": 50,
     "metadata": {},
     "output_type": "execute_result"
    }
   ],
   "source": [
    "symptom = \"\"\"right shoulder pain\"\"\"\n",
    "\n",
    "prompt = prompt_template.format_messages(\n",
    "\n",
    "                    text=symptom)\n",
    "prompt[0].content"
   ]
  },
  {
   "cell_type": "code",
   "execution_count": 51,
   "id": "analyzed-festival",
   "metadata": {},
   "outputs": [
    {
     "name": "stdout",
     "output_type": "stream",
     "text": [
      "Tokens Used: 285\n",
      "\tPrompt Tokens: 33\n",
      "\tCompletion Tokens: 252\n",
      "Successful Requests: 1\n",
      "Total Cost (USD): $0.0005535\n",
      "1. Rotator cuff injury: This is a common cause of right shoulder pain, especially if there has been a recent injury or overuse of the shoulder joint. It can cause pain, weakness, and limited range of motion.\n",
      "\n",
      "2. Frozen shoulder (adhesive capsulitis): This condition involves the inflammation and thickening of the shoulder joint capsule, leading to pain and stiffness. It typically affects one shoulder at a time and can cause significant discomfort.\n",
      "\n",
      "3. Osteoarthritis: Shoulder osteoarthritis can cause pain, stiffness, and limited mobility in the joint. It is more common in older individuals and can be exacerbated by repetitive use or previous shoulder injuries.\n",
      "\n",
      "4. Bursitis: Inflammation of the bursa, a fluid-filled sac that cushions the shoulder joint, can result in pain and tenderness. Bursitis can be caused by repetitive motions, trauma, or underlying conditions such as rheumatoid arthritis.\n",
      "\n",
      "5. Gallbladder disease: Although not directly related to the shoulder joint, gallbladder issues can sometimes cause referred pain to the right shoulder. This can occur in conditions like gallstones or cholecystitis, and the pain may be accompanied by other digestive symptoms such as nausea or abdominal discomfort.\n"
     ]
    }
   ],
   "source": [
    "# Call the LLM to translate to the style of the customer message\n",
    "with get_openai_callback() as cb:\n",
    "    response = chat(prompt)\n",
    "    print(cb)\n",
    "\n",
    "print(response.content)"
   ]
  },
  {
   "cell_type": "code",
   "execution_count": 52,
   "id": "necessary-vector",
   "metadata": {},
   "outputs": [
    {
     "data": {
      "text/plain": [
       "'Give top five differential diagnosis for the symptom written in text that is delimited by triple backticks text: ```left shoulder radiating pain```\\n'"
      ]
     },
     "execution_count": 52,
     "metadata": {},
     "output_type": "execute_result"
    }
   ],
   "source": [
    "symptom = \"\"\"left shoulder radiating pain\"\"\"\n",
    "\n",
    "prompt = prompt_template.format_messages(\n",
    "\n",
    "                    text=symptom)\n",
    "prompt[0].content"
   ]
  },
  {
   "cell_type": "code",
   "execution_count": 53,
   "id": "binding-legislation",
   "metadata": {},
   "outputs": [
    {
     "name": "stdout",
     "output_type": "stream",
     "text": [
      "Tokens Used: 246\n",
      "\tPrompt Tokens: 35\n",
      "\tCompletion Tokens: 211\n",
      "Successful Requests: 1\n",
      "Total Cost (USD): $0.0004745\n",
      "1. Rotator cuff injury: A tear or strain in the muscles and tendons of the rotator cuff can cause pain in the left shoulder that may radiate down the arm.\n",
      "2. Frozen shoulder: Also known as adhesive capsulitis, this condition causes stiffness and pain in the shoulder joint, which can radiate to the upper arm.\n",
      "3. Heart attack: Left shoulder pain that radiates down the arm can be a symptom of a heart attack, especially in women. Other accompanying symptoms may include chest pain, shortness of breath, and nausea.\n",
      "4. Cervical radiculopathy: Compression or irritation of the nerves in the neck can cause pain that radiates from the shoulder down the arm. This condition is often caused by a herniated disc or spinal stenosis.\n",
      "5. Gallbladder disease: In some cases, gallbladder problems such as gallstones or inflammation can cause referred pain to the left shoulder, known as \"referred shoulder pain.\" Other symptoms may include abdominal pain, nausea, and vomiting.\n"
     ]
    }
   ],
   "source": [
    "# Call the LLM to translate to the style of the customer message\n",
    "with get_openai_callback() as cb:\n",
    "    response = chat(prompt)\n",
    "    print(cb)\n",
    "\n",
    "print(response.content)"
   ]
  },
  {
   "cell_type": "code",
   "execution_count": null,
   "id": "adopted-ghana",
   "metadata": {},
   "outputs": [],
   "source": []
  }
 ],
 "metadata": {
  "kernelspec": {
   "display_name": "Python 3",
   "language": "python",
   "name": "python3"
  },
  "language_info": {
   "codemirror_mode": {
    "name": "ipython",
    "version": 3
   },
   "file_extension": ".py",
   "mimetype": "text/x-python",
   "name": "python",
   "nbconvert_exporter": "python",
   "pygments_lexer": "ipython3",
   "version": "3.8.8"
  }
 },
 "nbformat": 4,
 "nbformat_minor": 5
}
