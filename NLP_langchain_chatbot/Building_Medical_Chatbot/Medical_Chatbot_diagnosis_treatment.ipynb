{
 "cells": [
  {
   "cell_type": "code",
   "execution_count": 1,
   "id": "through-consolidation",
   "metadata": {},
   "outputs": [],
   "source": [
    "import os\n",
    "os.environ['OPENAI_API_KEY']=''"
   ]
  },
  {
   "cell_type": "code",
   "execution_count": 2,
   "id": "editorial-buddy",
   "metadata": {},
   "outputs": [],
   "source": [
    "from langchain.chat_models import ChatOpenAI\n",
    "from langchain.chains import ConversationChain\n",
    "from langchain.memory import ConversationBufferMemory\n"
   ]
  },
  {
   "cell_type": "code",
   "execution_count": 3,
   "id": "agreed-organ",
   "metadata": {},
   "outputs": [],
   "source": [
    "llm = ChatOpenAI(temperature=0.0)\n",
    "\n",
    "memory = ConversationBufferMemory()\n",
    "\n",
    "conversation = ConversationChain(\n",
    "    llm=llm, \n",
    "    memory = memory,\n",
    "    verbose=True\n",
    ")"
   ]
  },
  {
   "cell_type": "code",
   "execution_count": 4,
   "id": "drawn-reflection",
   "metadata": {},
   "outputs": [
    {
     "name": "stdout",
     "output_type": "stream",
     "text": [
      "\n",
      "\n",
      "\u001b[1m> Entering new  chain...\u001b[0m\n",
      "Prompt after formatting:\n",
      "\u001b[32;1m\u001b[1;3mThe following is a friendly conversation between a human and an AI. The AI is talkative and provides lots of specific details from its context. If the AI does not know the answer to a question, it truthfully says it does not know.\n",
      "\n",
      "Current conversation:\n",
      "\n",
      "Human: Hai I am Selva and would like you to diagnose my medical problem based on the following details that I will provide\n",
      "AI:\u001b[0m\n",
      "\n",
      "\u001b[1m> Finished chain.\u001b[0m\n"
     ]
    },
    {
     "data": {
      "text/plain": [
       "\"Hello Selva! I'm here to help. Please go ahead and provide me with the details of your medical problem, and I'll do my best to assist you.\""
      ]
     },
     "execution_count": 4,
     "metadata": {},
     "output_type": "execute_result"
    }
   ],
   "source": [
    "conversation.predict(input=\"Hai I am Selva and would like you to diagnose my medical problem based on the following details that I will provide\")"
   ]
  },
  {
   "cell_type": "code",
   "execution_count": 5,
   "id": "behind-briefs",
   "metadata": {},
   "outputs": [
    {
     "name": "stdout",
     "output_type": "stream",
     "text": [
      "\n",
      "\n",
      "\u001b[1m> Entering new  chain...\u001b[0m\n",
      "Prompt after formatting:\n",
      "\u001b[32;1m\u001b[1;3mThe following is a friendly conversation between a human and an AI. The AI is talkative and provides lots of specific details from its context. If the AI does not know the answer to a question, it truthfully says it does not know.\n",
      "\n",
      "Current conversation:\n",
      "Human: Hai I am Selva and would like you to diagnose my medical problem based on the following details that I will provide\n",
      "AI: Hello Selva! I'm here to help. Please go ahead and provide me with the details of your medical problem, and I'll do my best to assist you.\n",
      "Human: Thanks. I am having cough for last three days. what further details you need. Ask one by one please\n",
      "AI:\u001b[0m\n",
      "\n",
      "\u001b[1m> Finished chain.\u001b[0m\n"
     ]
    },
    {
     "data": {
      "text/plain": [
       "\"I'm sorry to hear that you're experiencing a cough, Selva. To better understand your situation, I'll ask you a few questions. Have you noticed any other symptoms accompanying your cough, such as fever, sore throat, or shortness of breath?\""
      ]
     },
     "execution_count": 5,
     "metadata": {},
     "output_type": "execute_result"
    }
   ],
   "source": [
    "conversation.predict(input=\"Thanks. I am having cough for last three days. what further details you need. Ask one by one please\")"
   ]
  },
  {
   "cell_type": "code",
   "execution_count": 6,
   "id": "narrative-orchestra",
   "metadata": {},
   "outputs": [
    {
     "name": "stdout",
     "output_type": "stream",
     "text": [
      "\n",
      "\n",
      "\u001b[1m> Entering new  chain...\u001b[0m\n",
      "Prompt after formatting:\n",
      "\u001b[32;1m\u001b[1;3mThe following is a friendly conversation between a human and an AI. The AI is talkative and provides lots of specific details from its context. If the AI does not know the answer to a question, it truthfully says it does not know.\n",
      "\n",
      "Current conversation:\n",
      "Human: Hai I am Selva and would like you to diagnose my medical problem based on the following details that I will provide\n",
      "AI: Hello Selva! I'm here to help. Please go ahead and provide me with the details of your medical problem, and I'll do my best to assist you.\n",
      "Human: Thanks. I am having cough for last three days. what further details you need. Ask one by one please\n",
      "AI: I'm sorry to hear that you're experiencing a cough, Selva. To better understand your situation, I'll ask you a few questions. Have you noticed any other symptoms accompanying your cough, such as fever, sore throat, or shortness of breath?\n",
      "Human: yes, mostly sore throat\n",
      "AI:\u001b[0m\n",
      "\n",
      "\u001b[1m> Finished chain.\u001b[0m\n"
     ]
    },
    {
     "data": {
      "text/plain": [
       "\"Thank you for providing that information, Selva. A cough accompanied by a sore throat can be indicative of a respiratory infection, such as the common cold or flu. It's important to note that I am an AI and not a doctor, so I cannot provide a definitive diagnosis. However, based on your symptoms, it may be beneficial for you to rest, drink plenty of fluids, and consider over-the-counter remedies such as throat lozenges or cough syrup to help alleviate your symptoms. If your symptoms worsen or persist for more than a week, it would be advisable to consult a healthcare professional for a proper evaluation and guidance.\""
      ]
     },
     "execution_count": 6,
     "metadata": {},
     "output_type": "execute_result"
    }
   ],
   "source": [
    "conversation.predict(input=\"yes, mostly sore throat\")"
   ]
  },
  {
   "cell_type": "code",
   "execution_count": null,
   "id": "handy-maker",
   "metadata": {},
   "outputs": [],
   "source": []
  }
 ],
 "metadata": {
  "kernelspec": {
   "display_name": "Python 3",
   "language": "python",
   "name": "python3"
  },
  "language_info": {
   "codemirror_mode": {
    "name": "ipython",
    "version": 3
   },
   "file_extension": ".py",
   "mimetype": "text/x-python",
   "name": "python",
   "nbconvert_exporter": "python",
   "pygments_lexer": "ipython3",
   "version": "3.8.8"
  }
 },
 "nbformat": 4,
 "nbformat_minor": 5
}
