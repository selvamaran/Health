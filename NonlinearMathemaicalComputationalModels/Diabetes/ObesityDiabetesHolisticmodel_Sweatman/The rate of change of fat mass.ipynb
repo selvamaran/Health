{
 "cells": [
  {
   "cell_type": "code",
   "execution_count": 1,
   "id": "specific-judge",
   "metadata": {},
   "outputs": [],
   "source": [
    "import matplotlib.pyplot as plt    # import matplotlib\n",
    "import numpy as np                 # import numpy\n",
    "import time                        # import time\n",
    "import ipywidgets as widgets       # interactive display\n",
    "from scipy.stats import pearsonr   # import pearson correlation"
   ]
  },
  {
   "cell_type": "code",
   "execution_count": 2,
   "id": "shared-movement",
   "metadata": {},
   "outputs": [],
   "source": [
    "# rADNL(fLep- + 0.5)\n",
    "# 2y2\n",
    "# CHO\n",
    "# (1 + y2\n",
    "# CHO)\n",
    "# (fASIASI (t)I)."
   ]
  },
  {
   "cell_type": "code",
   "execution_count": 3,
   "id": "piano-inspiration",
   "metadata": {},
   "outputs": [
    {
     "data": {
      "text/plain": [
       "(1.154320987654321, 1.0, 0.5002119313342477)"
      ]
     },
     "execution_count": 3,
     "metadata": {},
     "output_type": "execute_result"
    }
   ],
   "source": [
    "#Modelling insulin sensitivity decreasing with increasing ectopic muscle lipid, a function\n",
    "x = 0\n",
    "\n",
    "def f(x):\n",
    "    n = 3.24\n",
    "    IS = 0.5 * ((n +1 )/(n+ np.power(x,2))) + 0.5\n",
    "    return (IS)\n",
    "f(0),f(1),f(100)"
   ]
  },
  {
   "cell_type": "code",
   "execution_count": 4,
   "id": "homeless-mailing",
   "metadata": {},
   "outputs": [],
   "source": [
    "# scaling of leptin sensitivity with VLDLTG and F\n",
    "def fsL(IF,VLDLTG,VLDLTG0,F,F0,p5,p6):\n",
    "    fval = IF*np.power((f(VLDLTG/(VLDLTG0))),p5)*np.power((f(F/(F0))),p6) + (1-IF)\n",
    "    return fval\n",
    "\n",
    "#represents a scaling of leptin sensitivity with VLDLTG and F,\n",
    "SL =1 #impact factor\n",
    "VLDLTG = 7 #VLDLTG\n",
    "VLDLTG0 =7 #VLDLTG0\n",
    "\n",
    "aL=1\n",
    "F0 = 15\n",
    "F = F0\n",
    "p5=1\n",
    "p6=1\n",
    "\n",
    "fsL_val=fsL(aL,VLDLTG,VLDLTG0,F,F0,p5,p6)\n",
    "\n",
    "L0=7\n",
    "L=L0\n",
    "def flep_plus_func(L,L0,fsL_val,SL): #gg0: 80 pg/ml during normal fasting or resting state\n",
    "    return( np.power(SL*fsL_val*L,2)/( np.power(SL*fsL_val*L,2) + np.power(L0,2) ))\n",
    "\n",
    "def flep_minus_func(L,L0,fsL_val,SL): #gg0: 80 pg/ml during normal fasting or resting state\n",
    "    return( np.power(L0,2)/( np.power(SL*fsL_val*L,2) + np.power(L0,2) ))"
   ]
  },
  {
   "cell_type": "code",
   "execution_count": 5,
   "id": "prescribed-alloy",
   "metadata": {},
   "outputs": [
    {
     "data": {
      "text/plain": [
       "1.0"
      ]
     },
     "execution_count": 5,
     "metadata": {},
     "output_type": "execute_result"
    }
   ],
   "source": [
    "CHOin0 = 220\n",
    "CHOin =CHOin0\n",
    "def ycho(CHOin,CHOin0):\n",
    "     return(CHOin/CHOin0)\n",
    "ycho(CHOin,CHOin0)"
   ]
  },
  {
   "cell_type": "code",
   "execution_count": 6,
   "id": "rolled-whale",
   "metadata": {},
   "outputs": [
    {
     "data": {
      "text/plain": [
       "(1.3324569425392472, 1.2264451851791038, 0.25000000041551995)"
      ]
     },
     "execution_count": 6,
     "metadata": {},
     "output_type": "execute_result"
    }
   ],
   "source": [
    "def fasi(IF,varval,varval0,pfac):\n",
    "    fasival = IF*np.power((f(varval/(2*varval0))),pfac) + (1-IF)\n",
    "    return fasival\n",
    "\n",
    "aA = 1\n",
    "p1=2\n",
    "fasi(aA,0,L0,p1),fasi(aA,L,L0,p1),fasi(aA,1000000,L0,p1) #(0.5)^2 = 0.25"
   ]
  },
  {
   "cell_type": "code",
   "execution_count": 7,
   "id": "plain-village",
   "metadata": {},
   "outputs": [
    {
     "data": {
      "text/plain": [
       "0.26616313408756914"
      ]
     },
     "execution_count": 7,
     "metadata": {},
     "output_type": "execute_result"
    }
   ],
   "source": [
    "rADNL = 0.7234\n",
    "I=0.3\n",
    "ASI =1\n",
    "\n",
    "ycho_val = ycho(CHOin,CHOin0)\n",
    "flep_minus_val=flep_minus_func(L,L0,fsL_val,SL)\n",
    "fASI_val = fasi(aA,L,L0,p1)\n",
    "def adnl_func(rADNL,flep_minus_val,ycho_val,ASI,fASI_val,I):\n",
    "    adnl_val = rADNL* (flep_minus_val+0.5)*(2*np.power(ycho_val,2)/(1+np.power(ycho_val,2)))*(ASI*fASI_val*I)\n",
    "    return (adnl_val)\n",
    "adnl_val=adnl_func(rADNL,flep_minus_val,ycho_val,ASI,fASI_val,I)\n",
    "adnl_val"
   ]
  },
  {
   "cell_type": "code",
   "execution_count": 8,
   "id": "mental-title",
   "metadata": {},
   "outputs": [
    {
     "data": {
      "text/plain": [
       "0.26616309390000004"
      ]
     },
     "execution_count": 8,
     "metadata": {},
     "output_type": "execute_result"
    }
   ],
   "source": [
    "0.7234*0.3*1.226445"
   ]
  },
  {
   "cell_type": "code",
   "execution_count": 9,
   "id": "specialized-extraction",
   "metadata": {},
   "outputs": [
    {
     "data": {
      "text/plain": [
       "1.2264451851791038"
      ]
     },
     "execution_count": 9,
     "metadata": {},
     "output_type": "execute_result"
    }
   ],
   "source": [
    "fASI_val"
   ]
  },
  {
   "cell_type": "code",
   "execution_count": 10,
   "id": "pretty-coordinate",
   "metadata": {},
   "outputs": [
    {
     "data": {
      "text/plain": [
       "(1.0, 1.0)"
      ]
     },
     "execution_count": 10,
     "metadata": {},
     "output_type": "execute_result"
    }
   ],
   "source": [
    "aCHO=3\n",
    "xCHO = 1 + (CHOin-CHOin0)/(aCHO*CHOin0)\n",
    "ffast = 2/(1 + np.power(xCHO,2))\n",
    "ffed = 2-ffast\n",
    "ffast,ffed"
   ]
  },
  {
   "cell_type": "code",
   "execution_count": 11,
   "id": "sixth-valley",
   "metadata": {},
   "outputs": [
    {
     "data": {
      "text/plain": [
       "157.5386481340876"
      ]
     },
     "execution_count": 11,
     "metadata": {},
     "output_type": "execute_result"
    }
   ],
   "source": [
    "TGin0 = 231.4833 #mg TG/dl/h dietary TG intake, 100g per day, 36 dl plasma\n",
    "TGin = TGin0\n",
    "XCMTG = 30\n",
    "\n",
    "rVLDLTGpfast = 27.78\n",
    "rVLDLTGpfed = 18.5185\n",
    "kVLDLTGpfast = 0.2773\n",
    "kVLDLTGpfed = 0.1540\n",
    "kCHO = 1\n",
    "\n",
    "VLDLTG0 =100\n",
    "VLDLTGpfast = VLDLTG0\n",
    "\n",
    "def fatplus_func(TGin,XCMTG,ffast,kVLDLTGpfast,VLDLTGpfast,ffed,kVLDLTGpfed,adnl_val):\n",
    "    dVLDLTGpfast = 0.5*ffast*kVLDLTGpfast*kCHO*VLDLTGpfast\n",
    "    dVLDLTGpfed = 0.5*ffed*kVLDLTGpfed*kCHO*1.2*VLDLTGpfast\n",
    "    fatplus_val = 0.45*TGin + XCMTG +dVLDLTGpfast +dVLDLTGpfed + ffed*adnl_val \n",
    "    return(fatplus_val)\n",
    "fatplus_func(TGin,XCMTG,ffast,kVLDLTGpfast,VLDLTGpfast,ffed,kVLDLTGpfed,adnl_val)"
   ]
  },
  {
   "cell_type": "code",
   "execution_count": 12,
   "id": "perceived-chassis",
   "metadata": {},
   "outputs": [
    {
     "data": {
      "text/plain": [
       "(13.865, 13.865, 13.865)"
      ]
     },
     "execution_count": 12,
     "metadata": {},
     "output_type": "execute_result"
    }
   ],
   "source": [
    "0.5*ffast*kVLDLTGpfast*kCHO*VLDLTGpfast,0.5*0.2773*100,27.73/2"
   ]
  },
  {
   "cell_type": "code",
   "execution_count": 13,
   "id": "impaired-savage",
   "metadata": {},
   "outputs": [
    {
     "data": {
      "text/plain": [
       "(9.24, 9.24, 9.25925)"
      ]
     },
     "execution_count": 13,
     "metadata": {},
     "output_type": "execute_result"
    }
   ],
   "source": [
    "0.5*ffed*kVLDLTGpfed*kCHO*1.2*VLDLTGpfast,0.5*0.1540*1.2*100,18.5185/2"
   ]
  },
  {
   "cell_type": "code",
   "execution_count": 14,
   "id": "necessary-password",
   "metadata": {},
   "outputs": [
    {
     "data": {
      "text/plain": [
       "(0.24113333333333337, 20.833333333333332)"
      ]
     },
     "execution_count": 14,
     "metadata": {},
     "output_type": "execute_result"
    }
   ],
   "source": [
    "0.7234*12/36,9*1000/(12*36)"
   ]
  },
  {
   "cell_type": "code",
   "execution_count": 15,
   "id": "mediterranean-damage",
   "metadata": {},
   "outputs": [
    {
     "data": {
      "text/plain": [
       "(27.77777777777778, 18.51851851851852)"
      ]
     },
     "execution_count": 15,
     "metadata": {},
     "output_type": "execute_result"
    }
   ],
   "source": [
    "1000/36,8*1000/(12*36)"
   ]
  },
  {
   "cell_type": "code",
   "execution_count": 16,
   "id": "injured-borough",
   "metadata": {},
   "outputs": [
    {
     "data": {
      "text/plain": [
       "(0.2772588722239781, 0.15403270679109896, 0.15405555555555556)"
      ]
     },
     "execution_count": 16,
     "metadata": {},
     "output_type": "execute_result"
    }
   ],
   "source": [
    "np.log(2)/2.5,np.log(2)/4.5,0.2773*(2.5/4.5)"
   ]
  },
  {
   "cell_type": "code",
   "execution_count": 17,
   "id": "southeast-stewart",
   "metadata": {},
   "outputs": [],
   "source": [
    "rLI0 = 152.80\n",
    "rLI = rLI0\n",
    "ATGox = 9.2593\n",
    "rLox0 =1\n",
    "rLox = rLox0\n",
    "I0=0.3\n",
    "flep_plus_val  = flep_plus_func(L,L0,fsL_val,SL)\n",
    "def fatminus_func(rLI,ffast,flep_plus_val,fASI_val,ASI,I,I0,F,F0,rLox,ATGox,ffed):\n",
    "    fNEFApI_val = (np.power(I0,2) / ( np.power(fASI_val*ASI*I,2) + np.power(I0,2))) + 0.5\n",
    "    lipolysis_val = 0.9 * rLI * ffast*(flep_plus_val+0.5)*fNEFApI_val*(( 1.6*np.power(F,2)/(np.power(F,2) + np.power(F0,2)) ) + 0.2)\n",
    "    TGoxi_val = rLox * ATGox * (flep_plus_val+0.5)*(F/F0)*((ffed*0.92/2.15)+(ffast*1.23/2.15))\n",
    "    fatminu_val = lipolysis_val + TGoxi_val\n",
    "    return(fatminu_val,TGoxi_val,lipolysis_val,fNEFApI_val)"
   ]
  },
  {
   "cell_type": "code",
   "execution_count": 18,
   "id": "scenic-punishment",
   "metadata": {},
   "outputs": [
    {
     "data": {
      "text/plain": [
       "(132.93574786170365, 9.2593, 123.67644786170364, 0.8993342631013934)"
      ]
     },
     "execution_count": 18,
     "metadata": {},
     "output_type": "execute_result"
    }
   ],
   "source": [
    "fatminus_func(rLI,ffast,flep_plus_val,fASI_val,ASI,I,I0,F,F0,rLox,ATGox,ffed)"
   ]
  },
  {
   "cell_type": "code",
   "execution_count": 19,
   "id": "periodic-disorder",
   "metadata": {},
   "outputs": [
    {
     "data": {
      "text/plain": [
       "0.39933426310139336"
      ]
     },
     "execution_count": 19,
     "metadata": {},
     "output_type": "execute_result"
    }
   ],
   "source": [
    "np.power(I0,2) / ( np.power(fASI_val*ASI*I,2) + np.power(I0,2))"
   ]
  },
  {
   "cell_type": "code",
   "execution_count": 20,
   "id": "seventh-sheffield",
   "metadata": {},
   "outputs": [
    {
     "data": {
      "text/plain": [
       "57456"
      ]
     },
     "execution_count": 20,
     "metadata": {},
     "output_type": "execute_result"
    }
   ],
   "source": [
    "133*36*12"
   ]
  },
  {
   "cell_type": "code",
   "execution_count": 22,
   "id": "curious-floor",
   "metadata": {},
   "outputs": [
    {
     "data": {
      "text/plain": [
       "68057.28"
      ]
     },
     "execution_count": 22,
     "metadata": {},
     "output_type": "execute_result"
    }
   ],
   "source": [
    "157.54*36*12"
   ]
  },
  {
   "cell_type": "code",
   "execution_count": null,
   "id": "reflected-roberts",
   "metadata": {},
   "outputs": [],
   "source": []
  }
 ],
 "metadata": {
  "kernelspec": {
   "display_name": "Python 3",
   "language": "python",
   "name": "python3"
  },
  "language_info": {
   "codemirror_mode": {
    "name": "ipython",
    "version": 3
   },
   "file_extension": ".py",
   "mimetype": "text/x-python",
   "name": "python",
   "nbconvert_exporter": "python",
   "pygments_lexer": "ipython3",
   "version": "3.8.8"
  }
 },
 "nbformat": 4,
 "nbformat_minor": 5
}
