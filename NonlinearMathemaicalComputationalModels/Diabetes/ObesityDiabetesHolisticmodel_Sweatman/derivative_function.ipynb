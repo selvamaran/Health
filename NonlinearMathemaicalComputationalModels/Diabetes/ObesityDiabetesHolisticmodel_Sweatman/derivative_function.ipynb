{
 "cells": [
  {
   "cell_type": "code",
   "execution_count": 1,
   "id": "virgin-crystal",
   "metadata": {},
   "outputs": [],
   "source": [
    "import matplotlib.pyplot as plt    # import matplotlib\n",
    "import numpy as np                 # import numpy\n",
    "import time                        # import time\n",
    "import ipywidgets as widgets       # interactive display\n",
    "from scipy.stats import pearsonr   # import pearson correlation\n",
    "\n",
    "fig_w, fig_h = (6, 4)\n",
    "plt.rcParams.update({'figure.figsize': (fig_w, fig_h)})"
   ]
  },
  {
   "cell_type": "code",
   "execution_count": 3,
   "id": "formal-torture",
   "metadata": {},
   "outputs": [],
   "source": [
    "slfinal=7\n",
    "slinitial = 10\n",
    "c = 2*(slfinal-slinitial)\n",
    "d = 2*slinitial-slfinal"
   ]
  },
  {
   "cell_type": "code",
   "execution_count": null,
   "id": "worst-intro",
   "metadata": {},
   "outputs": [],
   "source": [
    "m=0.01\n",
    "for i in range(0,10000):\n",
    "    f(i) = c*(  1/(1+(np.exp(-m*t(i)))) ) + d\n",
    "    derivef(i) = (m/c)*(f(i)-d)*(c-(f(i)-d))\n",
    "    t = t +m"
   ]
  },
  {
   "cell_type": "code",
   "execution_count": 22,
   "id": "obvious-fraction",
   "metadata": {},
   "outputs": [],
   "source": [
    "m=0.01\n",
    "t=0\n",
    "fappend=[]\n",
    "tappend=[]\n",
    "for i in range(0,100000):\n",
    "    f = c*(  1/(1+(np.exp(-m*t)) )) + d\n",
    "    derivef = (m/c)*(f-d)*(c-(f-d))\n",
    "    t = t +m\n",
    "    fappend.append(f)\n",
    "    tappend.append(t)\n",
    "   "
   ]
  },
  {
   "cell_type": "code",
   "execution_count": 23,
   "id": "covered-running",
   "metadata": {},
   "outputs": [
    {
     "data": {
      "text/plain": [
       "[<matplotlib.lines.Line2D at 0x1ce28b50>]"
      ]
     },
     "execution_count": 23,
     "metadata": {},
     "output_type": "execute_result"
    },
    {
     "data": {
      "image/png": "[encoded data removed]",
      "text/plain": [
       "<Figure size 432x288 with 1 Axes>"
      ]
     },
     "metadata": {
      "needs_background": "light"
     },
     "output_type": "display_data"
    }
   ],
   "source": [
    "plt.plot(tappend,fappend)\n"
   ]
  },
  {
   "cell_type": "code",
   "execution_count": 24,
   "id": "passive-horse",
   "metadata": {},
   "outputs": [
    {
     "data": {
      "text/plain": [
       "7.0002724144510635"
      ]
     },
     "execution_count": 24,
     "metadata": {},
     "output_type": "execute_result"
    }
   ],
   "source": [
    "fappend[-1]"
   ]
  },
  {
   "cell_type": "code",
   "execution_count": null,
   "id": "solar-starter",
   "metadata": {},
   "outputs": [],
   "source": []
  }
 ],
 "metadata": {
  "kernelspec": {
   "display_name": "Python 3",
   "language": "python",
   "name": "python3"
  },
  "language_info": {
   "codemirror_mode": {
    "name": "ipython",
    "version": 3
   },
   "file_extension": ".py",
   "mimetype": "text/x-python",
   "name": "python",
   "nbconvert_exporter": "python",
   "pygments_lexer": "ipython3",
   "version": "3.8.8"
  }
 },
 "nbformat": 4,
 "nbformat_minor": 5
}
