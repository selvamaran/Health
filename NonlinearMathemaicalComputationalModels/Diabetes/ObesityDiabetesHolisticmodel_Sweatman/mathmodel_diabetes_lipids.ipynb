{
 "cells": [
  {
   "cell_type": "code",
   "execution_count": 1,
   "id": "champion-navigation",
   "metadata": {},
   "outputs": [],
   "source": [
    "import matplotlib.pyplot as plt    # import matplotlib\n",
    "import numpy as np                 # import numpy\n",
    "import time                        # import time\n",
    "import ipywidgets as widgets       # interactive display\n",
    "from scipy.stats import pearsonr   # import pearson correlation\n",
    "\n",
    "fig_w, fig_h = (6, 4)\n",
    "plt.rcParams.update({'figure.figsize': (fig_w, fig_h)})"
   ]
  },
  {
   "cell_type": "code",
   "execution_count": 47,
   "id": "alert-lightweight",
   "metadata": {},
   "outputs": [],
   "source": [
    "#to model the dependence on variables\n",
    "# peripheral insulin sensitivity; for example to measure dependance on lipid\n",
    "x = 0\n",
    "\n",
    "def f(x):\n",
    "    n = 3.24\n",
    "    IS = 0.5 * ((n +1 )/(n+ np.power(x,2))) + 0.5\n",
    "    return (IS)\n"
   ]
  },
  {
   "cell_type": "code",
   "execution_count": 48,
   "id": "attractive-emerald",
   "metadata": {},
   "outputs": [
    {
     "data": {
      "text/plain": [
       "(1.154320987654321, 1.0, 0.5002119313342477)"
      ]
     },
     "execution_count": 48,
     "metadata": {},
     "output_type": "execute_result"
    }
   ],
   "source": [
    "f(0),f(1),f(100)"
   ]
  },
  {
   "cell_type": "code",
   "execution_count": 49,
   "id": "competent-venezuela",
   "metadata": {},
   "outputs": [],
   "source": [
    "xval=[]\n",
    "pinsval=[]\n",
    "for x in range(0,40):\n",
    "    pins = f(x)\n",
    "    xval.append(x)\n",
    "    pinsval.append(pins)"
   ]
  },
  {
   "cell_type": "code",
   "execution_count": 50,
   "id": "altered-analysis",
   "metadata": {},
   "outputs": [
    {
     "data": {
      "text/plain": [
       "[<matplotlib.lines.Line2D at 0x19e5d5b0>]"
      ]
     },
     "execution_count": 50,
     "metadata": {},
     "output_type": "execute_result"
    },
    {
     "data": {
      "image/png": "[encoded data removed]",
      "text/plain": [
       "<Figure size 432x288 with 1 Axes>"
      ]
     },
     "metadata": {
      "needs_background": "light"
     },
     "output_type": "display_data"
    }
   ],
   "source": [
    "plt.plot(xval,pinsval)"
   ]
  },
  {
   "cell_type": "code",
   "execution_count": 119,
   "id": "likely-estate",
   "metadata": {},
   "outputs": [],
   "source": [
    "IF =1 #impact factor\n",
    "varval = 14\n",
    "varval0 =7\n",
    "pfac = 2\n",
    "def func(IF,varval,varval0,pfac):\n",
    "    fval = IF*np.power((f(varval/(varval0))),pfac) + (1-IF)\n",
    "    return fval"
   ]
  },
  {
   "cell_type": "code",
   "execution_count": 120,
   "id": "postal-tuning",
   "metadata": {},
   "outputs": [
    {
     "data": {
      "text/plain": [
       "0.6285598730197491"
      ]
     },
     "execution_count": 120,
     "metadata": {},
     "output_type": "execute_result"
    }
   ],
   "source": [
    "func(IF,varval,varval0,pfac)"
   ]
  },
  {
   "cell_type": "code",
   "execution_count": 87,
   "id": "minute-broadway",
   "metadata": {},
   "outputs": [],
   "source": [
    "aA = 1\n",
    "L = 14\n",
    "L0 = 7\n",
    "p1=2\n",
    "def fasi(aA,L,L0,p1):\n",
    "    fasival = aA*np.power((f(L/(2*L0))),p1) + (1-aA)\n",
    "    return fasival"
   ]
  },
  {
   "cell_type": "code",
   "execution_count": 95,
   "id": "alpha-morgan",
   "metadata": {},
   "outputs": [
    {
     "data": {
      "text/plain": [
       "(0.2709563494202034, 0.5205346764819837)"
      ]
     },
     "execution_count": 95,
     "metadata": {},
     "output_type": "execute_result"
    }
   ],
   "source": [
    "L = 140\n",
    "fasi(aA,L,L0,p1),f(L/(2*L0))"
   ]
  },
  {
   "cell_type": "code",
   "execution_count": 65,
   "id": "inclusive-chorus",
   "metadata": {},
   "outputs": [],
   "source": [
    "xval=[]\n",
    "fasival=[]\n",
    "for L in range(0,100):\n",
    "    fasival1 = fasi(aA,L,L0,p1)\n",
    "    xval.append(L)\n",
    "    fasival.append(fasival1)"
   ]
  },
  {
   "cell_type": "code",
   "execution_count": 66,
   "id": "boring-printing",
   "metadata": {},
   "outputs": [
    {
     "data": {
      "text/plain": [
       "[<matplotlib.lines.Line2D at 0x1a0232e0>]"
      ]
     },
     "execution_count": 66,
     "metadata": {},
     "output_type": "execute_result"
    },
    {
     "data": {
      "image/png": "[encoded data removed]",
      "text/plain": [
       "<Figure size 432x288 with 1 Axes>"
      ]
     },
     "metadata": {
      "needs_background": "light"
     },
     "output_type": "display_data"
    }
   ],
   "source": [
    "plt.plot(xval,fasival)"
   ]
  },
  {
   "cell_type": "code",
   "execution_count": 82,
   "id": "fleet-playback",
   "metadata": {},
   "outputs": [],
   "source": [
    "#to model the dependence of insulin sensitivity on parameters\n",
    "def gsi(x):\n",
    "    gsi=((7/3)/((7/3)+np.power(x,2)))+0.3\n",
    "    return gsi"
   ]
  },
  {
   "cell_type": "code",
   "execution_count": 83,
   "id": "liked-strand",
   "metadata": {},
   "outputs": [
    {
     "data": {
      "text/plain": [
       "(1.3, 1.0, 0.3000023333278889)"
      ]
     },
     "execution_count": 83,
     "metadata": {},
     "output_type": "execute_result"
    }
   ],
   "source": [
    "gsi(0),gsi(1),gsi(1000)"
   ]
  },
  {
   "cell_type": "code",
   "execution_count": 140,
   "id": "progressive-testing",
   "metadata": {},
   "outputs": [
    {
     "data": {
      "text/plain": [
       "1.0"
      ]
     },
     "execution_count": 140,
     "metadata": {},
     "output_type": "execute_result"
    }
   ],
   "source": [
    "choin=260\n",
    "choin0=260\n",
    "ycho = choin/choin0\n",
    "ycho"
   ]
  },
  {
   "cell_type": "code",
   "execution_count": 103,
   "id": "existing-greene",
   "metadata": {},
   "outputs": [
    {
     "data": {
      "text/plain": [
       "1.0652005174644243"
      ]
     },
     "execution_count": 103,
     "metadata": {},
     "output_type": "execute_result"
    }
   ],
   "source": [
    "gsi(ycho)"
   ]
  },
  {
   "cell_type": "code",
   "execution_count": 104,
   "id": "competitive-rings",
   "metadata": {},
   "outputs": [
    {
     "data": {
      "text/plain": [
       "(1.0652005174644243, 1.0652005174644243, 1.0)"
      ]
     },
     "execution_count": 104,
     "metadata": {},
     "output_type": "execute_result"
    }
   ],
   "source": [
    "L=14\n",
    "Adisi = gsi(ycho) * fasi(aA,L,L0,p1)\n",
    "Adisi,gsi(ycho),fasi(aA,L,L0,p1)"
   ]
  },
  {
   "cell_type": "code",
   "execution_count": 135,
   "id": "opposed-auditor",
   "metadata": {},
   "outputs": [],
   "source": [
    "IF =1 #impact factor\n",
    "varval = 7\n",
    "varval0 =7\n",
    "pfac = 2\n",
    "F = 15\n",
    "F0 = 15\n",
    "p5=1\n",
    "p6=1\n",
    "def fsenlepin(IF,varval,varval0,F,F0,p5,p6):\n",
    "    fval = IF*np.power((f(varval/(varval0))),p5)*np.power((f(F/(F0))),p6) + (1-IF)\n",
    "    return fval"
   ]
  },
  {
   "cell_type": "code",
   "execution_count": 136,
   "id": "anticipated-newton",
   "metadata": {},
   "outputs": [
    {
     "data": {
      "text/plain": [
       "(1.0, 1.0, 1.0)"
      ]
     },
     "execution_count": 136,
     "metadata": {},
     "output_type": "execute_result"
    }
   ],
   "source": [
    "fsenlepin(IF,varval,varval0,F,F0,p5,p6),np.power((f(varval/(varval0))),p5),np.power((f(F/(F0))),p6)"
   ]
  },
  {
   "cell_type": "code",
   "execution_count": 130,
   "id": "devoted-rachel",
   "metadata": {},
   "outputs": [
    {
     "data": {
      "text/plain": [
       "0.69784"
      ]
     },
     "execution_count": 130,
     "metadata": {},
     "output_type": "execute_result"
    }
   ],
   "source": [
    "0.793*0.88"
   ]
  },
  {
   "cell_type": "code",
   "execution_count": 141,
   "id": "nonprofit-timothy",
   "metadata": {},
   "outputs": [
    {
     "data": {
      "text/plain": [
       "1.0"
      ]
     },
     "execution_count": 141,
     "metadata": {},
     "output_type": "execute_result"
    }
   ],
   "source": [
    "fsenlepinval=fsenlepin(IF,varval,varval0,F,F0,p5,p6)\n",
    "slfslgsl = fsenlepinval * gsi(ycho)\n",
    "slfslgsl"
   ]
  },
  {
   "cell_type": "code",
   "execution_count": 142,
   "id": "aggregate-jones",
   "metadata": {},
   "outputs": [
    {
     "data": {
      "text/plain": [
       "1.0"
      ]
     },
     "execution_count": 142,
     "metadata": {},
     "output_type": "execute_result"
    }
   ],
   "source": [
    "gsi(ycho)"
   ]
  },
  {
   "cell_type": "code",
   "execution_count": 2,
   "id": "productive-thousand",
   "metadata": {},
   "outputs": [
    {
     "data": {
      "text/plain": [
       "0.10791366906474817"
      ]
     },
     "execution_count": 2,
     "metadata": {},
     "output_type": "execute_result"
    }
   ],
   "source": [
    "(4/3)*0.3*0.3/(0.112+1)"
   ]
  },
  {
   "cell_type": "code",
   "execution_count": 3,
   "id": "consistent-defeat",
   "metadata": {},
   "outputs": [
    {
     "data": {
      "text/plain": [
       "0.17500000000000002"
      ]
     },
     "execution_count": 3,
     "metadata": {},
     "output_type": "execute_result"
    }
   ],
   "source": [
    "0.1*(7/4)"
   ]
  },
  {
   "cell_type": "code",
   "execution_count": null,
   "id": "verbal-canberra",
   "metadata": {},
   "outputs": [],
   "source": []
  }
 ],
 "metadata": {
  "kernelspec": {
   "display_name": "Python 3",
   "language": "python",
   "name": "python3"
  },
  "language_info": {
   "codemirror_mode": {
    "name": "ipython",
    "version": 3
   },
   "file_extension": ".py",
   "mimetype": "text/x-python",
   "name": "python",
   "nbconvert_exporter": "python",
   "pygments_lexer": "ipython3",
   "version": "3.8.8"
  }
 },
 "nbformat": 4,
 "nbformat_minor": 5
}
