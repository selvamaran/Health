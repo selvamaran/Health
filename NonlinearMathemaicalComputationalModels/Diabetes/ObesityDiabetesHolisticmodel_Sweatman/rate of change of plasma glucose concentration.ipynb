{
 "cells": [
  {
   "cell_type": "code",
   "execution_count": 1,
   "id": "constant-table",
   "metadata": {},
   "outputs": [],
   "source": [
    "import matplotlib.pyplot as plt    # import matplotlib\n",
    "import numpy as np                 # import numpy\n",
    "import time                        # import time\n",
    "import ipywidgets as widgets       # interactive display\n",
    "from scipy.stats import pearsonr   # import pearson correlation\n",
    "\n",
    "fig_w, fig_h = (6, 4)\n",
    "plt.rcParams.update({'figure.figsize': (fig_w, fig_h)})"
   ]
  },
  {
   "cell_type": "code",
   "execution_count": null,
   "id": "electoral-opera",
   "metadata": {},
   "outputs": [],
   "source": [
    "\n",
    "    "
   ]
  },
  {
   "cell_type": "code",
   "execution_count": 2,
   "id": "incomplete-musical",
   "metadata": {},
   "outputs": [],
   "source": [
    "# fhgpga(0,80),fhgpga(80,80),fhgpga(10000,80)"
   ]
  },
  {
   "cell_type": "code",
   "execution_count": 20,
   "id": "violent-satisfaction",
   "metadata": {},
   "outputs": [],
   "source": [
    "#to model the dependence on variables\n",
    "# peripheral insulin sensitivity; for example to measure dependance on lipid\n",
    "x = 0\n",
    "\n",
    "def f(x):\n",
    "    n = 3.24\n",
    "    IS = 0.5 * ((n +1 )/(n+ np.power(x,2))) + 0.5\n",
    "    return (IS)"
   ]
  },
  {
   "cell_type": "code",
   "execution_count": 21,
   "id": "acute-attachment",
   "metadata": {},
   "outputs": [],
   "source": [
    "IF =1 #impact factor\n",
    "varval = 14\n",
    "varval0 =7\n",
    "pfac = 2\n",
    "def func(IF,varval,varval0,pfac):\n",
    "    fval = IF*np.power((f(varval/(varval0))),pfac) + (1-IF)\n",
    "    return fval"
   ]
  },
  {
   "cell_type": "code",
   "execution_count": 25,
   "id": "postal-think",
   "metadata": {},
   "outputs": [
    {
     "data": {
      "text/plain": [
       "1.0"
      ]
     },
     "execution_count": 25,
     "metadata": {},
     "output_type": "execute_result"
    }
   ],
   "source": [
    "p3=2\n",
    "hlipid0= 1.39 #\n",
    "ah = 1\n",
    "hlipid = hlipid0#hlipid0\n",
    "func(ah,hlipid,hlipid0,p3)"
   ]
  },
  {
   "cell_type": "code",
   "execution_count": 6,
   "id": "corporate-right",
   "metadata": {},
   "outputs": [],
   "source": [
    "hsi_val=func(ah,hlipid,hlipid0,p3)\n",
    "def fhgpI( hsi_val,I,I0 ):\n",
    "    return( (7/4)*( (4/3)*np.power(I0,2)/( ((4/3)*np.power(I0,2)) + np.power(hsi_val*I,2)   )        )    )  "
   ]
  },
  {
   "cell_type": "code",
   "execution_count": 26,
   "id": "occupied-miracle",
   "metadata": {},
   "outputs": [
    {
     "data": {
      "text/plain": [
       "(1.0, 1.0)"
      ]
     },
     "execution_count": 26,
     "metadata": {},
     "output_type": "execute_result"
    }
   ],
   "source": [
    "I0=0.3\n",
    "I=I0\n",
    "fhgpI( hsi_val,I,I0 ),func(ah,hlipid,hlipid0,p3)"
   ]
  },
  {
   "cell_type": "code",
   "execution_count": 27,
   "id": "cathedral-startup",
   "metadata": {},
   "outputs": [],
   "source": [
    "gg0=80\n",
    "def fhgpga(gg,gg0): #gg0: 80 pg/ml during normal fasting or resting state\n",
    "    return((np.power(gg,2)/(np.power(gg,2)+np.power(gg0,2))) + 0.5)"
   ]
  },
  {
   "cell_type": "code",
   "execution_count": 11,
   "id": "ranking-marathon",
   "metadata": {},
   "outputs": [
    {
     "data": {
      "text/plain": [
       "(0.5, 1.0, 1.499936004095738)"
      ]
     },
     "execution_count": 11,
     "metadata": {},
     "output_type": "execute_result"
    }
   ],
   "source": [
    "fhgpga(0,80),fhgpga(80,80),fhgpga(10000,80)"
   ]
  },
  {
   "cell_type": "code",
   "execution_count": 40,
   "id": "beneficial-memorial",
   "metadata": {},
   "outputs": [],
   "source": [
    "L0=7\n",
    "L=L0\n",
    "def fhgpl(L,L0): #gg0: 80 pg/ml during normal fasting or resting state\n",
    "    return((np.power(L0,2)/(np.power(L,2)+np.power(L0,2))) + 0.5)"
   ]
  },
  {
   "cell_type": "code",
   "execution_count": 41,
   "id": "matched-anaheim",
   "metadata": {},
   "outputs": [
    {
     "data": {
      "text/plain": [
       "1.0"
      ]
     },
     "execution_count": 41,
     "metadata": {},
     "output_type": "execute_result"
    }
   ],
   "source": [
    "fhgpl(L,L0)"
   ]
  },
  {
   "cell_type": "code",
   "execution_count": 49,
   "id": "twenty-madison",
   "metadata": {},
   "outputs": [],
   "source": [
    "hgp0=250\n",
    "gg=gg0\n",
    "fhgpga_val=fhgpga(gg,gg0)\n",
    "fhgpI_val=fhgpI( hsi_val,I,I0 )\n",
    "fhgpl_val=fhgpl(L,L0)\n",
    "\n",
    "def hgp(hgp0,fhgpI_val,fhgpga_val,fhgpl_val):\n",
    "    return(hgp0*fhgpI_val*fhgpga_val*fhgpl_val)"
   ]
  },
  {
   "cell_type": "code",
   "execution_count": 50,
   "id": "norman-interface",
   "metadata": {},
   "outputs": [
    {
     "data": {
      "text/plain": [
       "250.0"
      ]
     },
     "execution_count": 50,
     "metadata": {},
     "output_type": "execute_result"
    }
   ],
   "source": [
    "hgp(hgp0,fhgpI_val,fhgpga_val,fhgpl_val)"
   ]
  },
  {
   "cell_type": "code",
   "execution_count": null,
   "id": "hawaiian-trinidad",
   "metadata": {},
   "outputs": [],
   "source": []
  }
 ],
 "metadata": {
  "kernelspec": {
   "display_name": "Python 3",
   "language": "python",
   "name": "python3"
  },
  "language_info": {
   "codemirror_mode": {
    "name": "ipython",
    "version": 3
   },
   "file_extension": ".py",
   "mimetype": "text/x-python",
   "name": "python",
   "nbconvert_exporter": "python",
   "pygments_lexer": "ipython3",
   "version": "3.8.8"
  }
 },
 "nbformat": 4,
 "nbformat_minor": 5
}
