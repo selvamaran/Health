{
 "cells": [
  {
   "cell_type": "code",
   "execution_count": 1,
   "id": "modular-trouble",
   "metadata": {},
   "outputs": [],
   "source": [
    "import matplotlib.pyplot as plt    # import matplotlib\n",
    "import numpy as np                 # import numpy"
   ]
  },
  {
   "cell_type": "code",
   "execution_count": 2,
   "id": "violent-decline",
   "metadata": {},
   "outputs": [],
   "source": [
    "from sweatman_model_variables_parameters import *\n",
    "import sweatman_model_functions\n",
    "from sweatman_model_functions import *"
   ]
  },
  {
   "cell_type": "code",
   "execution_count": 3,
   "id": "tight-chest",
   "metadata": {},
   "outputs": [],
   "source": [
    "# def dvdt()\n",
    "# vsigma_all=[] \n",
    "dv_F_all=[]\n",
    "T, dt = 7000, 0.01\n",
    "range_t = np.arange(0, T, dt)\n",
    "Lt = range_t.size\n",
    "\n",
    "G = np.zeros(Lt)\n",
    "Gg = np.zeros(Lt)\n",
    "I = np.zeros(Lt)\n",
    "NEFAp = np.zeros(Lt)\n",
    "VLDLTG = np.zeros(Lt)\n",
    "L = np.zeros(Lt)\n",
    "F = np.zeros(Lt)\n",
    "\n",
    "G[0] =78.64593588448656#78.7 #100\n",
    "Gg[0] =67.12688214885546 # 67 % 80\n",
    "I[0] =0.28670621602452484 # 0.312 \n",
    "NEFAp[0]  = 13.44\n",
    "VLDLTG[0] = VLDLTG0 #VLDLTG\n",
    "L[0]=L0\n",
    "F[0] = F0\n",
    "\n",
    "MLipid =MLipid0\n",
    "HLipid =HLipid0\n",
    "CHOin = 360\n",
    "\n",
    "vSL0=1\n",
    "vASI0 = 1\n",
    "rLI = rLI0\n",
    "rLox = rLox0\n",
    "TGin = TGin0\n",
    "for it in range(Lt-1):\n",
    "#     vASI = ASI  * fASi(aA,L,L0,p1) * gSi(CHOin,CHOin0)\n",
    "    vyCHO = yCHO(CHOin,CHOin0)\n",
    "    vASI = fASi(aA,L[it],L0,p1)\n",
    "    vPSI = fXLIPIDSi(aP,MLipid,MLipid0,p2)\n",
    "    vHSI = fXLIPIDSi(aH,HLipid,HLipid0,p3)\n",
    "    \n",
    "    vSL = fSL(aL,VLDLTG[it],VLDLTG0,F[it],F0,p5,p6)\n",
    "    vLep_minus=fLep_minus(L[it],L0,vSL,SL)\n",
    "    vLep_plus=fLep_plus(L[it],L0,vSL,SL)\n",
    "#     vLep_minus=fLep_minus(L0,L0,vSL0,SL)\n",
    "#     vLep_plus=fLep_plus(L0,L0,vSL0,SL)\n",
    "    vfast = ffast(CHOin,CHOin0,aCHO)\n",
    "    vfed = ffed(vfast)\n",
    "    \n",
    "    vHGPI=fHGPI( vHSI,I[it],I0 )\n",
    "    vHGPL=fHGPL(vLep_minus)\n",
    "    vHGPGg = fHGPGg(Gg[it],Gg0)\n",
    "    \n",
    "    vHGP=HGP(HGP0,vHGPI,vHGPGg,vHGPL)\n",
    "    vGlu_eff=fGlu_eff(EG0,vSL,SL,L[it],L0,G[it])\n",
    "    vmuscle_glu_intake=fmuscle_glu_intake(PSI,vPSI,vLep_plus,I[it],G[it])\n",
    "    vadipose_glu_intake=fadipose_glu_intake(ASI,vASI,vLep_minus,SI0,F[it],F0,I[it],G[it])\n",
    "    \n",
    "    vsigma=fsigma(sigma_r,vLep_minus,G[it],alpha_gi)\n",
    "    \n",
    "    vNEFApI=fNEFApI(vASI,ASI,I[it],I0)\n",
    "    vVLDLTGI=fVLDLTGI(HSI,vHSI,I[it],I0)\n",
    "    vLI=fLI(KL,vASI,ASI,I[it],I0) #insulin effect\n",
    "    \n",
    "    vADNL=fADNL(rADNL,vLep_minus,vyCHO,ASI,vASI,I[it])\n",
    "    vfatplus=ffatplus(TGin,XCMTG,vfast,kVLDLTGpfast,VLDLTG[it],vfed,kVLDLTGpfed,vADNL,kCHO)\n",
    "    vfatminus=ffatminus(rLI,vfast,vLep_plus,vASI,ASI,I[it],I0,F[it],F0,rLox,ATGox,vfed)\n",
    "#     vADNL=fADNL(rADNL,vLep_minus,vyCHO,ASI,vASI0,I0)\n",
    "#     vfatplus=ffatplus(TGin,XCMTG,vfast,kVLDLTGpfast,VLDLTG0,vfed,kVLDLTGpfed,vADNL,kCHO)\n",
    "#     vfatminus=ffatminus(rLI,vfast,vLep_plus,vASI0,ASI,I0,I0,F[it],F0,rLox,ATGox,vfed)    \n",
    "    \n",
    "    dv_G =dG_dt(vfast,vHGP , KGP ,U0 , vGlu_eff , vmuscle_glu_intake , vadipose_glu_intake)*dt\n",
    "    dv_I =dI_dt(vfast,beta, vsigma,LBM,Vplbm,lambdaI, I[it],Iin)*dt\n",
    "    dv_Gg =dGgp_dt(vfast,sigma_Gg, vLep_minus, ACSI,vASI, I[it], I0, lambda_Gg,Gg[it],Ggin)*dt\n",
    "    dv_NEFAp =dNEFAp_dt(vfast,rLI, vLep_plus, vNEFApI, F[it], F0, kNEFApfast, NEFAp[it])*dt\n",
    "    dv_VLDLTGpfast = dVLDLTGpfast_dt(vfast,rVLDLTGpfast,vVLDLTGI,vLep_plus,HLipid,HLipid0,kVLDLTGpfast,kCHO,VLDLTG[it])*dt\n",
    "    dv_L =dL_dt(vfast,rL,vLI,F[it],F0,L[it],hL,leptin_in)*dt\n",
    "    dv_F = dF_dt(c,vfatplus,vfatminus,LBM)*dt\n",
    "#     vsigma_all.append(vsigma)\n",
    "    dv_F_all.append(dv_F)\n",
    "#     update\n",
    "    I[it+1] = I[it] + dv_I\n",
    "    G[it+1] = G[it] + dv_G\n",
    "    Gg[it+1] = Gg[it] + dv_Gg\n",
    "    NEFAp[it+1] = NEFAp[it] + dv_NEFAp\n",
    "    VLDLTG[it+1] = VLDLTG[it] + dv_VLDLTGpfast\n",
    "    L[it+1] = L[it] + dv_L\n",
    "    F[it+1] = F[it] + dv_F"
   ]
  },
  {
   "cell_type": "code",
   "execution_count": 4,
   "id": "passive-departure",
   "metadata": {},
   "outputs": [
    {
     "data": {
      "text/plain": [
       "-1.602246183933528e-07"
      ]
     },
     "execution_count": 4,
     "metadata": {},
     "output_type": "execute_result"
    }
   ],
   "source": [
    "dv_F"
   ]
  },
  {
   "cell_type": "code",
   "execution_count": 5,
   "id": "meaning-draft",
   "metadata": {},
   "outputs": [],
   "source": [
    "# G[5000],Gg[5000],I[5000],NEFAp[5000],L[5000]"
   ]
  },
  {
   "cell_type": "code",
   "execution_count": 6,
   "id": "allied-combination",
   "metadata": {},
   "outputs": [
    {
     "data": {
      "text/plain": [
       "[<matplotlib.lines.Line2D at 0x125a8af0>]"
      ]
     },
     "execution_count": 6,
     "metadata": {},
     "output_type": "execute_result"
    },
    {
     "data": {
      "image/png": "[encoded data removed]",
      "text/plain": [
       "<Figure size 432x288 with 1 Axes>"
      ]
     },
     "metadata": {
      "needs_background": "light"
     },
     "output_type": "display_data"
    }
   ],
   "source": [
    "plt.plot(Gg[:720000])\n",
    "# plt.plot(Gg)"
   ]
  },
  {
   "cell_type": "code",
   "execution_count": 7,
   "id": "conservative-lucas",
   "metadata": {},
   "outputs": [
    {
     "data": {
      "text/plain": [
       "[<matplotlib.lines.Line2D at 0x1267ebe0>]"
      ]
     },
     "execution_count": 7,
     "metadata": {},
     "output_type": "execute_result"
    },
    {
     "data": {
      "image/png": "[encoded data removed]",
      "text/plain": [
       "<Figure size 432x288 with 1 Axes>"
      ]
     },
     "metadata": {
      "needs_background": "light"
     },
     "output_type": "display_data"
    }
   ],
   "source": [
    "# plt.plot(I[5000:])\n",
    "plt.plot(I)"
   ]
  },
  {
   "cell_type": "code",
   "execution_count": 8,
   "id": "removable-office",
   "metadata": {},
   "outputs": [
    {
     "data": {
      "text/plain": [
       "[<matplotlib.lines.Line2D at 0x126e74f0>]"
      ]
     },
     "execution_count": 8,
     "metadata": {},
     "output_type": "execute_result"
    },
    {
     "data": {
      "image/png": "[encoded data removed]",
      "text/plain": [
       "<Figure size 432x288 with 1 Axes>"
      ]
     },
     "metadata": {
      "needs_background": "light"
     },
     "output_type": "display_data"
    }
   ],
   "source": [
    "# plt.plot(G[5000:])\n",
    "plt.plot(G)"
   ]
  },
  {
   "cell_type": "code",
   "execution_count": 9,
   "id": "republican-stockholm",
   "metadata": {},
   "outputs": [
    {
     "data": {
      "text/plain": [
       "[<matplotlib.lines.Line2D at 0x1273e6d0>]"
      ]
     },
     "execution_count": 9,
     "metadata": {},
     "output_type": "execute_result"
    },
    {
     "data": {
      "image/png": "[encoded data removed]",
      "text/plain": [
       "<Figure size 432x288 with 1 Axes>"
      ]
     },
     "metadata": {
      "needs_background": "light"
     },
     "output_type": "display_data"
    }
   ],
   "source": [
    "# plt.plot(NEFAp[5000:])\n",
    "plt.plot(NEFAp)"
   ]
  },
  {
   "cell_type": "code",
   "execution_count": 10,
   "id": "fifty-mechanics",
   "metadata": {},
   "outputs": [
    {
     "data": {
      "text/plain": [
       "[<matplotlib.lines.Line2D at 0x12795070>]"
      ]
     },
     "execution_count": 10,
     "metadata": {},
     "output_type": "execute_result"
    },
    {
     "data": {
      "image/png": "[encoded data removed]",
      "text/plain": [
       "<Figure size 432x288 with 1 Axes>"
      ]
     },
     "metadata": {
      "needs_background": "light"
     },
     "output_type": "display_data"
    }
   ],
   "source": [
    "# plt.plot(VLDLTG[5000:])\n",
    "# plt.plot(11*L[5000:])\n",
    "plt.plot(VLDLTG)"
   ]
  },
  {
   "cell_type": "code",
   "execution_count": 11,
   "id": "beginning-perry",
   "metadata": {},
   "outputs": [
    {
     "data": {
      "text/plain": [
       "[<matplotlib.lines.Line2D at 0x127e2ee0>]"
      ]
     },
     "execution_count": 11,
     "metadata": {},
     "output_type": "execute_result"
    },
    {
     "data": {
      "image/png": "[encoded data removed]",
      "text/plain": [
       "<Figure size 432x288 with 1 Axes>"
      ]
     },
     "metadata": {
      "needs_background": "light"
     },
     "output_type": "display_data"
    }
   ],
   "source": [
    "plt.plot(L[:720000])\n",
    "# plt.plot(L)"
   ]
  },
  {
   "cell_type": "code",
   "execution_count": 12,
   "id": "regulated-hypothesis",
   "metadata": {},
   "outputs": [
    {
     "data": {
      "text/plain": [
       "[<matplotlib.lines.Line2D at 0x12843820>]"
      ]
     },
     "execution_count": 12,
     "metadata": {},
     "output_type": "execute_result"
    },
    {
     "data": {
      "image/png": "[encoded data removed]",
      "text/plain": [
       "<Figure size 432x288 with 1 Axes>"
      ]
     },
     "metadata": {
      "needs_background": "light"
     },
     "output_type": "display_data"
    }
   ],
   "source": [
    "plt.plot(F[:720000])\n",
    "# plt.plot(F)"
   ]
  },
  {
   "cell_type": "code",
   "execution_count": 13,
   "id": "dressed-bermuda",
   "metadata": {},
   "outputs": [
    {
     "data": {
      "text/plain": [
       "[<matplotlib.lines.Line2D at 0x128b7820>]"
      ]
     },
     "execution_count": 13,
     "metadata": {},
     "output_type": "execute_result"
    },
    {
     "data": {
      "image/png": "[encoded data removed]",
      "text/plain": [
       "<Figure size 432x288 with 1 Axes>"
      ]
     },
     "metadata": {
      "needs_background": "light"
     },
     "output_type": "display_data"
    }
   ],
   "source": [
    "plt.plot(VLDLTG[5000:])\n",
    "plt.plot(11*L[5000:])\n",
    "plt.plot(6*NEFAp[5000:])\n",
    "plt.plot(300*I[5000:])\n",
    "plt.plot(G[5000:])\n",
    "plt.plot(Gg[5000:])\n",
    "plt.plot(6*F[5000:])"
   ]
  },
  {
   "cell_type": "code",
   "execution_count": 14,
   "id": "operational-cream",
   "metadata": {},
   "outputs": [],
   "source": [
    "# vSL0"
   ]
  },
  {
   "cell_type": "code",
   "execution_count": 15,
   "id": "secondary-indiana",
   "metadata": {},
   "outputs": [
    {
     "data": {
      "text/plain": [
       "0.5857707233471154"
      ]
     },
     "execution_count": 15,
     "metadata": {},
     "output_type": "execute_result"
    }
   ],
   "source": [
    "vLep_plus"
   ]
  },
  {
   "cell_type": "code",
   "execution_count": 16,
   "id": "planned-commodity",
   "metadata": {},
   "outputs": [
    {
     "data": {
      "text/plain": [
       "1.203014215486797"
      ]
     },
     "execution_count": 16,
     "metadata": {},
     "output_type": "execute_result"
    }
   ],
   "source": [
    "vASI"
   ]
  },
  {
   "cell_type": "code",
   "execution_count": 17,
   "id": "hearing-cincinnati",
   "metadata": {},
   "outputs": [
    {
     "data": {
      "text/plain": [
       "(0.7234, 0.4142292766528845, 1.6363636363636365, 1, 1, 0.3)"
      ]
     },
     "execution_count": 17,
     "metadata": {},
     "output_type": "execute_result"
    }
   ],
   "source": [
    "rADNL,vLep_minus,vyCHO,ASI,vASI0,I0"
   ]
  },
  {
   "cell_type": "code",
   "execution_count": 18,
   "id": "bigger-canvas",
   "metadata": {},
   "outputs": [
    {
     "data": {
      "text/plain": [
       "(152.8,\n",
       " 0.8099665303086648,\n",
       " 0.5857707233471154,\n",
       " 1.203014215486797,\n",
       " 1,\n",
       " 0.3,\n",
       " 0.3,\n",
       " 14.298267903003373,\n",
       " 15,\n",
       " 1,\n",
       " 9.2593,\n",
       " 1.1900334696913353)"
      ]
     },
     "execution_count": 18,
     "metadata": {},
     "output_type": "execute_result"
    }
   ],
   "source": [
    "rLI,vfast,vLep_plus,vASI,ASI,I0,I0,F[it],F0,rLox,ATGox,vfed"
   ]
  },
  {
   "cell_type": "code",
   "execution_count": 19,
   "id": "collective-handle",
   "metadata": {},
   "outputs": [
    {
     "data": {
      "text/plain": [
       "[<matplotlib.lines.Line2D at 0x12916760>]"
      ]
     },
     "execution_count": 19,
     "metadata": {},
     "output_type": "execute_result"
    },
    {
     "data": {
      "image/png": "[encoded data removed]",
      "text/plain": [
       "<Figure size 432x288 with 1 Axes>"
      ]
     },
     "metadata": {
      "needs_background": "light"
     },
     "output_type": "display_data"
    }
   ],
   "source": [
    "plt.plot(dv_F_all)"
   ]
  },
  {
   "cell_type": "code",
   "execution_count": 20,
   "id": "concrete-membership",
   "metadata": {},
   "outputs": [
    {
     "data": {
      "text/plain": [
       "1"
      ]
     },
     "execution_count": 20,
     "metadata": {},
     "output_type": "execute_result"
    }
   ],
   "source": [
    "SL"
   ]
  },
  {
   "cell_type": "code",
   "execution_count": 21,
   "id": "historic-vietnam",
   "metadata": {},
   "outputs": [
    {
     "data": {
      "text/plain": [
       "0.30679469750101834"
      ]
     },
     "execution_count": 21,
     "metadata": {},
     "output_type": "execute_result"
    }
   ],
   "source": [
    "vADNL"
   ]
  },
  {
   "cell_type": "code",
   "execution_count": 22,
   "id": "third-elder",
   "metadata": {},
   "outputs": [
    {
     "data": {
      "text/plain": [
       "(231.4833,\n",
       " 0,\n",
       " 0.8099665303086648,\n",
       " 0.2773,\n",
       " 100,\n",
       " 1.1900334696913353,\n",
       " 0.154,\n",
       " 0.30679469750101834,\n",
       " 1)"
      ]
     },
     "execution_count": 22,
     "metadata": {},
     "output_type": "execute_result"
    }
   ],
   "source": [
    "TGin,XCMTG,vfast,kVLDLTGpfast,VLDLTG0,vfed,kVLDLTGpfed,vADNL,kCHO"
   ]
  },
  {
   "cell_type": "code",
   "execution_count": null,
   "id": "homeless-yeast",
   "metadata": {},
   "outputs": [],
   "source": []
  }
 ],
 "metadata": {
  "kernelspec": {
   "display_name": "Python 3",
   "language": "python",
   "name": "python3"
  },
  "language_info": {
   "codemirror_mode": {
    "name": "ipython",
    "version": 3
   },
   "file_extension": ".py",
   "mimetype": "text/x-python",
   "name": "python",
   "nbconvert_exporter": "python",
   "pygments_lexer": "ipython3",
   "version": "3.8.8"
  }
 },
 "nbformat": 4,
 "nbformat_minor": 5
}
