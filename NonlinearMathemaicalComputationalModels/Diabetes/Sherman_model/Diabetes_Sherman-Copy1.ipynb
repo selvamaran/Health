{
 "cells": [
  {
   "cell_type": "code",
   "execution_count": 1,
   "id": "greek-bidding",
   "metadata": {},
   "outputs": [],
   "source": [
    "import matplotlib.pyplot as plt    # import matplotlib\n",
    "import numpy as np                 # import numpy\n",
    "import time                        # import time\n",
    "import ipywidgets as widgets       # interactive display\n",
    "from scipy.stats import pearsonr   # import pearson correlation\n",
    "\n",
    "fig_w, fig_h = (6, 4)\n",
    "plt.rcParams.update({'figure.figsize': (fig_w, fig_h)})"
   ]
  },
  {
   "cell_type": "code",
   "execution_count": null,
   "id": "rapid-repair",
   "metadata": {},
   "outputs": [],
   "source": [
    "def default_pars( **kwargs):\n",
    "    pars = {}\n",
    "    pars['R0'] = 864\n",
    "    pars['Ego'] = 1.44\n",
    "#     pars['S0'] = 864\n",
    "    pars['V'] = 0.01\n",
    "    pars['k'] = 700\n",
    "    \n",
    "    \n",
    "    pars['KM'] = 2\n",
    "    pars['alphaM'] = 150\n",
    "    \n",
    "    pars['KISR'] = 2\n",
    "    pars['alphaISR'] = 1.2\n",
    "    \n",
    "    pars['gamma_s'] = 99.9\n",
    "    pars['gamma_n'] = 1\n",
    "    pars['gamma_0'] = 0.1\n",
    "    pars['gamma_max'] = 0.2    \n",
    "    \n",
    "    \n",
    "    "
   ]
  },
  {
   "cell_type": "code",
   "execution_count": null,
   "id": "responsible-manchester",
   "metadata": {},
   "outputs": [],
   "source": [
    "def run_diabetes(pars):\n",
    "    for it in range(Lt-1):\n",
    "        #calculate the increment\n",
    "        \n",
    "        M = np.power(G,KM) /((np.power(alphaM,KM))+(np.power(G,KM)))\n",
    "        ISR = sigma * ((np.power(M+gamma,kISR))/(np.power(alphaISR,KISR)+(np.power(M+gamma,kISR))))\n",
    "        \n",
    "        \n",
    "        \n",
    "        gamma_inf = (gamma_max/(1+exp((G-gamma_s)/gamma_n)))-gamma_0 \n",
    "        \n",
    "        \n",
    "        dsigma = ((sigma_inf-sigma)/tau_sigma)*dt\n",
    "        \n",
    "        dgamma[it] = ((gamma_inf - gamma)/ tau_gamma)*dt\n",
    "        dSI = ((S0-SI)/tauSI)*dt\n",
    "        \n",
    "        dG[it] = (R0-(Ego+SI*I)*G) *dt\n",
    "        \n",
    "        dI = ((beta/V)*ISR - k*I)*dt"
   ]
  },
  {
   "cell_type": "code",
   "execution_count": 3,
   "id": "technical-presence",
   "metadata": {},
   "outputs": [
    {
     "data": {
      "text/plain": [
       "2.718281828459045"
      ]
     },
     "execution_count": 3,
     "metadata": {},
     "output_type": "execute_result"
    }
   ],
   "source": [
    "# np.exp(1)"
   ]
  },
  {
   "cell_type": "code",
   "execution_count": null,
   "id": "above-immigration",
   "metadata": {},
   "outputs": [],
   "source": []
  }
 ],
 "metadata": {
  "kernelspec": {
   "display_name": "Python 3",
   "language": "python",
   "name": "python3"
  },
  "language_info": {
   "codemirror_mode": {
    "name": "ipython",
    "version": 3
   },
   "file_extension": ".py",
   "mimetype": "text/x-python",
   "name": "python",
   "nbconvert_exporter": "python",
   "pygments_lexer": "ipython3",
   "version": "3.8.8"
  }
 },
 "nbformat": 4,
 "nbformat_minor": 5
}
