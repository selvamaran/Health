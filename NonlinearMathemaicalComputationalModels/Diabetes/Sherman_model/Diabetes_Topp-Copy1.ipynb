{
 "cells": [
  {
   "cell_type": "code",
   "execution_count": 1,
   "id": "solid-democrat",
   "metadata": {},
   "outputs": [],
   "source": [
    "import matplotlib.pyplot as plt    # import matplotlib\n",
    "import numpy as np                 # import numpy\n",
    "import time                        # import time\n",
    "import ipywidgets as widgets       # interactive display\n",
    "from scipy.stats import pearsonr   # import pearson correlation\n",
    "\n",
    "fig_w, fig_h = (6, 4)\n",
    "plt.rcParams.update({'figure.figsize': (fig_w, fig_h)})"
   ]
  },
  {
   "cell_type": "code",
   "execution_count": 2,
   "id": "recent-province",
   "metadata": {},
   "outputs": [],
   "source": [
    "def default_pars( **kwargs):\n",
    "    pars = {}\n",
    "    pars['R0'] = 864\n",
    "    pars['Ego'] = 1.44\n",
    "    pars['SI'] = 0.72\n",
    "    pars['sigma'] = 43.2\n",
    "    pars['alpha'] = 20000  \n",
    "    pars['k'] = 432\n",
    "    \n",
    "    pars['d0'] = 0.06\n",
    "    pars['R1'] = 0.84/np.power(10,3)\n",
    "    pars['R2'] = 0.24/np.power(10,5)\n",
    "    \n",
    "    ### simulation parameters ###\n",
    "    pars['T'] = 1000.0 # Total duration of simulation [ms]\n",
    "    pars['dt'] = .001  # Simulation time step [ms]\n",
    "\n",
    "    ### external parameters if any ###\n",
    "    for k in kwargs:\n",
    "        pars[k] = kwargs[k]\n",
    "    \n",
    "    pars['range_t'] = np.arange(0, pars['T'], pars['dt']) # Vector of discretized time points [ms]\n",
    "        \n",
    "    return pars"
   ]
  },
  {
   "cell_type": "code",
   "execution_count": 3,
   "id": "positive-armstrong",
   "metadata": {},
   "outputs": [],
   "source": [
    "def run_diabetes(pars,R1_param):\n",
    "    \n",
    "    R0 = pars['R0']\n",
    "    Ego = pars['Ego']\n",
    "    SI = pars['SI']\n",
    "    sigma = pars['sigma']\n",
    "    alpha = pars['alpha']\n",
    "    k = pars['k']\n",
    "    \n",
    "    beta =300\n",
    "\n",
    "    dt, range_t = pars['dt'], pars['range_t']\n",
    "    Lt = range_t.size\n",
    " \n",
    "    # Initialize \n",
    "    G = np.zeros(Lt) # pathogen levels\n",
    "    G[0] =400\n",
    "    I = np.zeros(Lt) # pathogen levels\n",
    "    I[0] =10  \n",
    "    diet=0\n",
    "    for it in range(Lt-1):\n",
    "        \n",
    "#         if (it > 400)&(diet==0):\n",
    "#             G[it]=400\n",
    "#             diet=1\n",
    "        dG = (R0-(Ego+SI*I[it])*G[it]) *dt\n",
    "        dI = ( (beta*sigma*  ( np.power(G[it],2)/(alpha+np.power(G[it],2)) ))-k*I[it]) *dt\n",
    "\n",
    "        \n",
    "        #update\n",
    "        G[it+1] = G[it] + dG\n",
    "        I[it+1] = I[it] + dI\n",
    "    return G,I"
   ]
  },
  {
   "cell_type": "code",
   "execution_count": 4,
   "id": "explicit-colombia",
   "metadata": {},
   "outputs": [],
   "source": [
    "pars = default_pars()\n",
    "R1_param = 0.84/np.power(10,3)\n",
    "\n",
    "G,I =run_diabetes(pars,R1_param)"
   ]
  },
  {
   "cell_type": "code",
   "execution_count": 5,
   "id": "italic-roads",
   "metadata": {},
   "outputs": [],
   "source": [
    "def bifurcation_dia(pars,beta_param):\n",
    "    R0 = pars['R0']\n",
    "    Ego = pars['Ego']\n",
    "    SI = pars['SI']\n",
    "    sigma = pars['sigma']\n",
    "    alpha = pars['alpha']\n",
    "    k = pars['k']\n",
    "    \n",
    "    beta =beta_param#150 #300\n",
    "    \n",
    "    dG_append=[]\n",
    "    I_append = []\n",
    "\n",
    "    dI_append=[]\n",
    "    G_append = []\n",
    "    \n",
    "    G_init=0\n",
    "    I_init=0    \n",
    "    for i in range(0,3000):\n",
    "\n",
    "        I =(I_init + i * 0.01)\n",
    "        G =(G_init + i * 0.2)\n",
    "        \n",
    "        dG = R0/(Ego+SI*I)\n",
    "#         dI = ( (beta*sigma*  ( np.power(G[it],2)/(alpha+np.power(G[it],2)) ))-k*I[it])\n",
    "        dI = (beta*sigma* np.power(G,2))/((alpha+np.power(G,2)) *k)\n",
    "    \n",
    "        I_append.append(I)\n",
    "        dG_append.append(dG)\n",
    "        G_append.append(G)\n",
    "        dI_append.append(dI)\n",
    "        \n",
    "    return(I_append,dG_append,G_append,dI_append)\n"
   ]
  },
  {
   "cell_type": "code",
   "execution_count": 6,
   "id": "august-produce",
   "metadata": {},
   "outputs": [],
   "source": [
    "# pars = default_pars()\n",
    "beta_param=300\n",
    "I_bif0,dG_bif0,G_bif0,dI_bif0 =bifurcation_dia(pars,beta_param)"
   ]
  },
  {
   "cell_type": "code",
   "execution_count": 7,
   "id": "blank-ethernet",
   "metadata": {},
   "outputs": [
    {
     "data": {
      "text/plain": [
       "[<matplotlib.lines.Line2D at 0x198ce460>]"
      ]
     },
     "execution_count": 7,
     "metadata": {},
     "output_type": "execute_result"
    },
    {
     "data": {
      "image/png": "[encoded data removed]",
      "text/plain": [
       "<Figure size 432x288 with 1 Axes>"
      ]
     },
     "metadata": {
      "needs_background": "light"
     },
     "output_type": "display_data"
    }
   ],
   "source": [
    "plt.plot(G)"
   ]
  },
  {
   "cell_type": "code",
   "execution_count": 8,
   "id": "weekly-vancouver",
   "metadata": {},
   "outputs": [
    {
     "data": {
      "text/plain": [
       "[<matplotlib.lines.Line2D at 0x1dfc6280>]"
      ]
     },
     "execution_count": 8,
     "metadata": {},
     "output_type": "execute_result"
    },
    {
     "data": {
      "image/png": "[encoded data removed]",
      "text/plain": [
       "<Figure size 432x288 with 1 Axes>"
      ]
     },
     "metadata": {
      "needs_background": "light"
     },
     "output_type": "display_data"
    }
   ],
   "source": [
    "plt.plot(I)"
   ]
  },
  {
   "cell_type": "code",
   "execution_count": 10,
   "id": "structured-channels",
   "metadata": {},
   "outputs": [
    {
     "data": {
      "text/plain": [
       "[<matplotlib.lines.Line2D at 0x6cc4a60>]"
      ]
     },
     "execution_count": 10,
     "metadata": {},
     "output_type": "execute_result"
    },
    {
     "data": {
      "image/png": "[encoded data removed]",
      "text/plain": [
       "<Figure size 432x288 with 1 Axes>"
      ]
     },
     "metadata": {
      "needs_background": "light"
     },
     "output_type": "display_data"
    }
   ],
   "source": [
    "plt.plot(I_bif0,dG_bif0)\n",
    "plt.plot(dI_bif0,G_bif0)\n",
    "plt.plot(I,G,'*')"
   ]
  },
  {
   "cell_type": "code",
   "execution_count": 11,
   "id": "hazardous-charlotte",
   "metadata": {},
   "outputs": [],
   "source": [
    "def run_betaInsulinGlu_model(pars,R1_param):\n",
    "    \n",
    "    R0 = pars['R0']\n",
    "    Ego = pars['Ego']\n",
    "    SI = pars['SI']\n",
    "    sigma = pars['sigma']\n",
    "    alpha = pars['alpha']\n",
    "    k = pars['k']\n",
    "    d0 = pars['d0']\n",
    "    R1 = R1_param\n",
    "    R2 = pars['R2']\n",
    "\n",
    "    dt, range_t = pars['dt'], pars['range_t']\n",
    "    Lt = range_t.size    \n",
    "    \n",
    "    # Initialize \n",
    "    G = np.zeros(Lt) # pathogen levels\n",
    "    G[0] =100\n",
    "    I = np.zeros(Lt) # pathogen levels\n",
    "    I[0] =(((R0/G[0])-Ego)/SI)  \n",
    "    beta= np.zeros(Lt) # pathogen levels\n",
    "#     beta[0] =200   \n",
    "    beta[0] =(k*I[0]*(alpha+np.power(G[0],2)))/ (sigma*np.power(G[0],2))\n",
    "    print(G[0],I[0],beta[0])\n",
    "\n",
    "    for it in range(Lt-1):        \n",
    "        dG = (R0-(Ego+SI*I[it])*G[it]) *dt\n",
    "        dI = ( (beta[it]*sigma*  ( np.power(G[it],2)/(alpha+np.power(G[it],2)) ))-k*I[it]) *dt\n",
    "        dbeta = (-d0+R1*G[it]-R2*np.power(G[it],2))*beta[it] *dt      \n",
    "        #update\n",
    "        beta[it+1] = beta[it] + dbeta\n",
    "        G[it+1] = G[it] + dG\n",
    "        I[it+1] = I[it] + dI\n",
    "    return G,I,beta"
   ]
  },
  {
   "cell_type": "code",
   "execution_count": 23,
   "id": "sudden-desert",
   "metadata": {},
   "outputs": [
    {
     "name": "stdout",
     "output_type": "stream",
     "text": [
      "100.0 10.000000000000002 300.00000000000006\n"
     ]
    }
   ],
   "source": [
    "pars = default_pars()\n",
    "R1_param = 0.8/np.power(10,3)\n",
    "G,I,beta =run_betaInsulinGlu_model(pars,R1_param)"
   ]
  },
  {
   "cell_type": "code",
   "execution_count": 24,
   "id": "certain-headset",
   "metadata": {},
   "outputs": [
    {
     "data": {
      "text/plain": [
       "(113.96192969476006, 8.52983221172314, 216.6546185479258)"
      ]
     },
     "execution_count": 24,
     "metadata": {},
     "output_type": "execute_result"
    }
   ],
   "source": [
    "G[-1],I[-1],beta[-1]"
   ]
  },
  {
   "cell_type": "code",
   "execution_count": 25,
   "id": "computational-transcript",
   "metadata": {},
   "outputs": [
    {
     "data": {
      "text/plain": [
       "Text(0, 0.5, 'Beta')"
      ]
     },
     "execution_count": 25,
     "metadata": {},
     "output_type": "execute_result"
    },
    {
     "data": {
      "image/png": "[encoded data removed]",
      "text/plain": [
       "<Figure size 432x288 with 1 Axes>"
      ]
     },
     "metadata": {
      "needs_background": "light"
     },
     "output_type": "display_data"
    }
   ],
   "source": [
    "plt.plot(beta)\n",
    "plt.xlabel('Time(Minutes)')\n",
    "plt.ylabel('Beta')"
   ]
  },
  {
   "cell_type": "code",
   "execution_count": 26,
   "id": "executive-calculation",
   "metadata": {},
   "outputs": [
    {
     "data": {
      "text/plain": [
       "Text(0, 0.5, 'Glucose')"
      ]
     },
     "execution_count": 26,
     "metadata": {},
     "output_type": "execute_result"
    },
    {
     "data": {
      "image/png": "[encoded data removed]",
      "text/plain": [
       "<Figure size 432x288 with 1 Axes>"
      ]
     },
     "metadata": {
      "needs_background": "light"
     },
     "output_type": "display_data"
    }
   ],
   "source": [
    "plt.plot(G)\n",
    "plt.xlabel('Time(Minutes)')\n",
    "plt.ylabel('Glucose')"
   ]
  },
  {
   "cell_type": "code",
   "execution_count": 28,
   "id": "younger-fraction",
   "metadata": {},
   "outputs": [
    {
     "data": {
      "text/plain": [
       "Text(0, 0.5, 'Insulin')"
      ]
     },
     "execution_count": 28,
     "metadata": {},
     "output_type": "execute_result"
    },
    {
     "data": {
      "image/png": "[encoded data removed]",
      "text/plain": [
       "<Figure size 432x288 with 1 Axes>"
      ]
     },
     "metadata": {
      "needs_background": "light"
     },
     "output_type": "display_data"
    }
   ],
   "source": [
    "plt.plot(I)\n",
    "plt.xlabel('Time(Minutes)')\n",
    "plt.ylabel('Insulin')"
   ]
  },
  {
   "cell_type": "code",
   "execution_count": 12,
   "id": "standing-paintball",
   "metadata": {},
   "outputs": [
    {
     "name": "stdout",
     "output_type": "stream",
     "text": [
      "100.0 10.000000000000002 300.00000000000006\n"
     ]
    }
   ],
   "source": [
    "pars = default_pars()\n",
    "R1_param = 0.75/np.power(10,3)\n",
    "G,I,beta =run_betaInsulinGlu_model(pars,R1_param)"
   ]
  },
  {
   "cell_type": "code",
   "execution_count": 13,
   "id": "honest-interview",
   "metadata": {},
   "outputs": [],
   "source": [
    "# 0.84/np.power(10,3)"
   ]
  },
  {
   "cell_type": "code",
   "execution_count": 14,
   "id": "liked-format",
   "metadata": {},
   "outputs": [
    {
     "data": {
      "text/plain": [
       "(599.9999999999607, 3.724586721933817e-72, 3.927194468314719e-71)"
      ]
     },
     "execution_count": 14,
     "metadata": {},
     "output_type": "execute_result"
    }
   ],
   "source": [
    "G[-1],I[-1],beta[-1]"
   ]
  },
  {
   "cell_type": "code",
   "execution_count": 21,
   "id": "sound-scott",
   "metadata": {},
   "outputs": [
    {
     "data": {
      "text/plain": [
       "Text(0, 0.5, 'Beta')"
      ]
     },
     "execution_count": 21,
     "metadata": {},
     "output_type": "execute_result"
    },
    {
     "data": {
      "image/png": "[encoded data removed]",
      "text/plain": [
       "<Figure size 432x288 with 1 Axes>"
      ]
     },
     "metadata": {
      "needs_background": "light"
     },
     "output_type": "display_data"
    }
   ],
   "source": [
    "plt.plot(beta)\n",
    "plt.xlabel('Time(Minutes)')\n",
    "plt.ylabel('Beta')"
   ]
  },
  {
   "cell_type": "code",
   "execution_count": 20,
   "id": "legislative-separation",
   "metadata": {},
   "outputs": [
    {
     "data": {
      "text/plain": [
       "Text(0, 0.5, 'Glucose')"
      ]
     },
     "execution_count": 20,
     "metadata": {},
     "output_type": "execute_result"
    },
    {
     "data": {
      "image/png": "[encoded data removed]",
      "text/plain": [
       "<Figure size 432x288 with 1 Axes>"
      ]
     },
     "metadata": {
      "needs_background": "light"
     },
     "output_type": "display_data"
    }
   ],
   "source": [
    "plt.plot(G)\n",
    "plt.xlabel('Time(Minutes)')\n",
    "plt.ylabel('Glucose')"
   ]
  },
  {
   "cell_type": "code",
   "execution_count": 22,
   "id": "fluid-device",
   "metadata": {},
   "outputs": [
    {
     "data": {
      "text/plain": [
       "Text(0, 0.5, 'Insulin')"
      ]
     },
     "execution_count": 22,
     "metadata": {},
     "output_type": "execute_result"
    },
    {
     "data": {
      "image/png": "[encoded data removed]",
      "text/plain": [
       "<Figure size 432x288 with 1 Axes>"
      ]
     },
     "metadata": {
      "needs_background": "light"
     },
     "output_type": "display_data"
    }
   ],
   "source": [
    "plt.plot(I)\n",
    "plt.xlabel('Time(Minutes)')\n",
    "plt.ylabel('Insulin')"
   ]
  },
  {
   "cell_type": "code",
   "execution_count": 18,
   "id": "polar-mechanics",
   "metadata": {},
   "outputs": [],
   "source": [
    "# pars = default_pars()\n",
    "beta_param=216\n",
    "I_bif,dG_bif,G_bif,dI_bif =bifurcation_dia(pars,beta_param)"
   ]
  },
  {
   "cell_type": "code",
   "execution_count": 19,
   "id": "aerial-timeline",
   "metadata": {},
   "outputs": [
    {
     "data": {
      "text/plain": [
       "[<matplotlib.lines.Line2D at 0x58cbc70>]"
      ]
     },
     "execution_count": 19,
     "metadata": {},
     "output_type": "execute_result"
    },
    {
     "data": {
      "image/png": "[encoded data removed]",
      "text/plain": [
       "<Figure size 432x288 with 1 Axes>"
      ]
     },
     "metadata": {
      "needs_background": "light"
     },
     "output_type": "display_data"
    }
   ],
   "source": [
    "plt.plot(I_bif0[500:1500],dG_bif0[500:1500])\n",
    "plt.plot(dI_bif0[300:800],G_bif0[300:800])\n",
    "\n",
    "plt.plot(I_bif[500:1500],dG_bif[500:1500])\n",
    "plt.plot(dI_bif[300:800],G_bif[300:800])\n",
    "plt.plot(I,G,'*')"
   ]
  },
  {
   "cell_type": "code",
   "execution_count": null,
   "id": "married-morrison",
   "metadata": {},
   "outputs": [],
   "source": []
  }
 ],
 "metadata": {
  "kernelspec": {
   "display_name": "Python 3",
   "language": "python",
   "name": "python3"
  },
  "language_info": {
   "codemirror_mode": {
    "name": "ipython",
    "version": 3
   },
   "file_extension": ".py",
   "mimetype": "text/x-python",
   "name": "python",
   "nbconvert_exporter": "python",
   "pygments_lexer": "ipython3",
   "version": "3.8.8"
  }
 },
 "nbformat": 4,
 "nbformat_minor": 5
}
