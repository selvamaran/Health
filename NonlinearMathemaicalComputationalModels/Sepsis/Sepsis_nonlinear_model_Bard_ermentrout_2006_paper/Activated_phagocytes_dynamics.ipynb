{
 "cells": [
  {
   "cell_type": "code",
   "execution_count": 1,
   "id": "copyrighted-country",
   "metadata": {},
   "outputs": [],
   "source": [
    "import pandas as pd\n",
    "import matplotlib.pyplot as plt    # import matplotlib\n",
    "import numpy as np                 # import numpy\n",
    "import time                        # import time\n",
    "import ipywidgets as widgets       # interactive display\n",
    "from scipy.stats import pearsonr   # import pearson correlation\n",
    "\n",
    "fig_w, fig_h = (6, 4)\n",
    "plt.rcParams.update({'figure.figsize': (fig_w, fig_h)})"
   ]
  },
  {
   "cell_type": "code",
   "execution_count": 2,
   "id": "backed-utilization",
   "metadata": {},
   "outputs": [],
   "source": [
    "def default_pars( **kwargs):\n",
    "    pars = {}\n",
    "    \n",
    "    pars['snr']    = 0.08 #Source of resting phagocytes\n",
    "    pars['unr']    = 0.12 #Decay rate of resting phagocytes\n",
    "\n",
    "    pars['kpn']    = 1.8 #Rate at which activated phagocytes (N*) consume pathogen\n",
    "    pars['knp']    = 0.1 # Activation of resting phagocytes (NR) by pathogen\n",
    "    pars['knn']    = 0.01 # Activation of resting phagocytes by previously activated phagocytes and their cytokines\n",
    "    pars['un']    = 0.05 #Decay rate of activated phagocytes\n",
    "    \n",
    "    \n",
    "    ### simulation parameters ###\n",
    "    pars['T'] = 200. # Total duration of simulation [ms]\n",
    "    pars['dt'] = .01  # Simulation time step [ms]\n",
    "\n",
    "    ### external parameters if any ###\n",
    "    for k in kwargs:\n",
    "        pars[k] = kwargs[k]\n",
    "    \n",
    "    pars['range_t'] = np.arange(0, pars['T'], pars['dt']) # Vector of discretized time points [ms]\n",
    "        \n",
    "    return pars    "
   ]
  },
  {
   "cell_type": "code",
   "execution_count": 23,
   "id": "fewer-seventh",
   "metadata": {},
   "outputs": [],
   "source": [
    "def run_phagoctye_model(pars,Nact_init,P):\n",
    "    \n",
    "        # Set parameters\n",
    "    snr = pars['snr']\n",
    "    unr = pars['unr']\n",
    "    \n",
    "#     kpn = pars['kpn']    \n",
    "    knp = pars['knp']    \n",
    "    knn = pars['knn']\n",
    "    un = pars['un']\n",
    "    \n",
    "    dt, range_t = pars['dt'], pars['range_t']\n",
    "    Lt = range_t.size\n",
    "    \n",
    "    Nact = np.zeros(Lt) # non-specific local response levels\n",
    "    NR = np.zeros(Lt)\n",
    "    \n",
    "    Nact[0]= Nact_init    \n",
    "    \n",
    "    for it in range(Lt-1):                \n",
    "        R1 = knn* Nact[it] + knp*P\n",
    "        dNact = ((snr*R1/(unr+R1)) - un*Nact[it]) *dt\n",
    "        NR[it] = snr/(unr+R1)\n",
    "        #update\n",
    "        Nact[it+1] = Nact[it] + dNact\n",
    "    return(Nact,NR)"
   ]
  },
  {
   "cell_type": "code",
   "execution_count": 45,
   "id": "several-chase",
   "metadata": {},
   "outputs": [
    {
     "data": {
      "text/plain": [
       "(0.0003636363636363636,\n",
       " 0.36363035321730225,\n",
       " 0.7562270205369346,\n",
       " array([0.35155213]))"
      ]
     },
     "execution_count": 45,
     "metadata": {},
     "output_type": "execute_result"
    },
    {
     "data": {
      "image/png": "[encoded data removed]",
      "text/plain": [
       "<Figure size 432x288 with 1 Axes>"
      ]
     },
     "metadata": {
      "needs_background": "light"
     },
     "output_type": "display_data"
    }
   ],
   "source": [
    "pars = default_pars()\n",
    "Nact_init=0\n",
    "P=1\n",
    "Nact,NR =run_phagoctye_model(pars,Nact_init,P)\n",
    "plt.plot(Nact)\n",
    "plt.plot(NR[:-1])\n",
    "Nact[1],NR[1],Nact[-1],NR[-2:-1]"
   ]
  },
  {
   "cell_type": "code",
   "execution_count": 46,
   "id": "mental-attitude",
   "metadata": {},
   "outputs": [
    {
     "data": {
      "text/plain": [
       "(0.0, array([0.66666667]))"
      ]
     },
     "execution_count": 46,
     "metadata": {},
     "output_type": "execute_result"
    },
    {
     "data": {
      "image/png": "[encoded data removed]",
      "text/plain": [
       "<Figure size 432x288 with 1 Axes>"
      ]
     },
     "metadata": {
      "needs_background": "light"
     },
     "output_type": "display_data"
    }
   ],
   "source": [
    "pars = default_pars()\n",
    "Nact_init=0\n",
    "P=0\n",
    "Nact,NR =run_phagoctye_model(pars,Nact_init,P)\n",
    "plt.plot(Nact)\n",
    "plt.plot(NR[:-1])\n",
    "Nact[-1],NR[-2:-1]"
   ]
  },
  {
   "cell_type": "code",
   "execution_count": 5,
   "id": "hybrid-wheel",
   "metadata": {},
   "outputs": [],
   "source": [
    "\n",
    "# def NR_steady_state(pars,Nact,P):\n",
    "#     snr = pars['snr']   \n",
    "#     unr = pars['unr']\n",
    "#     knp = pars['knp']    \n",
    "#     knn = pars['knn']    \n",
    "#     un = pars['un']\n",
    "    \n",
    "#     b = (un*knp*P - snr*knn +un*unr)\n",
    "#     a = un*knn\n",
    "#     c = -snr*knp*P\n",
    "    \n",
    "#     Nact_steady1 = (-b + np.sqrt(np.power(b,2)-4*a*c))/2*a\n",
    "#     Nact_steady2 = (-b - np.sqrt(np.power(b,2)-4*a*c))/2*a\n",
    "#     return(Nact_steady1,Nact_steady2)"
   ]
  },
  {
   "cell_type": "code",
   "execution_count": 6,
   "id": "adult-injection",
   "metadata": {},
   "outputs": [],
   "source": [
    "# pars = default_pars()\n",
    "# Nact=0\n",
    "# P=2\n",
    "# NR_steady_state(pars,Nact,P)"
   ]
  },
  {
   "cell_type": "code",
   "execution_count": 7,
   "id": "wanted-indiana",
   "metadata": {},
   "outputs": [],
   "source": [
    "# un*Nact*knn* Nact + un*Nact*knp*P - snr*knn* Nact +un*Nact*unr -snr*knp*P\n",
    "\n",
    "# un*knn *Nact^2 + (un*knp*P - snr*knn +un*unr) * Nact - snr*knp*P"
   ]
  },
  {
   "cell_type": "code",
   "execution_count": 8,
   "id": "empirical-canadian",
   "metadata": {},
   "outputs": [],
   "source": [
    "# un*knn *Nact^2 + (un*knp*P - snr*knn +un*unr) * Nact - snr*knp*P\n",
    "# b = (un*knp*P - snr*knn +un*unr)\n",
    "# a = un*knn\n",
    "# c = snr*knp*P"
   ]
  },
  {
   "cell_type": "code",
   "execution_count": 35,
   "id": "computational-graham",
   "metadata": {},
   "outputs": [],
   "source": [
    "# 0.08/0.12"
   ]
  },
  {
   "cell_type": "code",
   "execution_count": null,
   "id": "statutory-appraisal",
   "metadata": {},
   "outputs": [],
   "source": []
  }
 ],
 "metadata": {
  "kernelspec": {
   "display_name": "Python 3",
   "language": "python",
   "name": "python3"
  },
  "language_info": {
   "codemirror_mode": {
    "name": "ipython",
    "version": 3
   },
   "file_extension": ".py",
   "mimetype": "text/x-python",
   "name": "python",
   "nbconvert_exporter": "python",
   "pygments_lexer": "ipython3",
   "version": "3.8.8"
  }
 },
 "nbformat": 4,
 "nbformat_minor": 5
}
