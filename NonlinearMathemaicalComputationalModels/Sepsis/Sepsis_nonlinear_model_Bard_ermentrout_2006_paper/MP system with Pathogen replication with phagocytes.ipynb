{
 "cells": [
  {
   "cell_type": "code",
   "execution_count": 1,
   "id": "copyrighted-country",
   "metadata": {},
   "outputs": [],
   "source": [
    "import pandas as pd\n",
    "import matplotlib.pyplot as plt    # import matplotlib\n",
    "import numpy as np                 # import numpy\n",
    "import time                        # import time\n",
    "import ipywidgets as widgets       # interactive display\n",
    "from scipy.stats import pearsonr   # import pearson correlation\n",
    "\n",
    "fig_w, fig_h = (6, 4)\n",
    "plt.rcParams.update({'figure.figsize': (fig_w, fig_h)})"
   ]
  },
  {
   "cell_type": "code",
   "execution_count": 2,
   "id": "backed-utilization",
   "metadata": {},
   "outputs": [],
   "source": [
    "def default_pars( **kwargs):\n",
    "    pars = {}\n",
    "    pars['sm']    = 0.005 #Source of non-specific local response\n",
    "    pars['um']    = 0.002 #Decay rate for the non-specific local response\n",
    "    \n",
    "    pars['kpm']    =  0.6  #Rate at which the non-specific local response (M) eliminates pathogen\n",
    "    pars['kmp']    = 0.01  # Rate at which the non-specific local response is exhausted by pathogen (P)\n",
    "    \n",
    "    pars['Pinf'] = 20 \n",
    "    \n",
    "    pars['kpn']    = 1.8 #Rate at which activated phagocytes (N*) consume pathogen\n",
    "    pars['knp']    = 0.1 # Activation of resting phagocytes (NR) by pathogen\n",
    "    pars['knn']    = 0.01 # Activation of resting phagocytes by previously activated phagocytes and their cytokines\n",
    "    \n",
    "    pars['snr']    = 0.08 #Source of resting phagocytes\n",
    "    \n",
    "    pars['unr']    = 0.12 #Decay rate of resting phagocytes    \n",
    "    pars['un']    = 0.05 #Decay rate of activated phagocytes\n",
    "    \n",
    "    \n",
    "#     pars['kpg']    = 0.062 #0.059\n",
    "    ### simulation parameters ###\n",
    "    pars['T'] = 3000. # Total duration of simulation [ms]\n",
    "    pars['dt'] = .1  # Simulation time step [ms]\n",
    "\n",
    "    ### external parameters if any ###\n",
    "    for k in kwargs:\n",
    "        pars[k] = kwargs[k]\n",
    "    \n",
    "    pars['range_t'] = np.arange(0, pars['T'], pars['dt']) # Vector of discretized time points [ms]\n",
    "        \n",
    "    return pars    "
   ]
  },
  {
   "cell_type": "code",
   "execution_count": 8,
   "id": "fewer-seventh",
   "metadata": {},
   "outputs": [],
   "source": [
    "def bifurcation_p(pars,kpg_param):\n",
    "    \n",
    "        # Set parameters\n",
    "    sm, um = pars['sm'],pars['um']\n",
    "    kpm,kmp = pars['kpm'],pars['kmp']\n",
    "    \n",
    "#     kpg = pars['kpg']\n",
    "    Pinf = pars['Pinf']\n",
    "#     P_init = pars['P_init']   \n",
    "    \n",
    "    P_append=[]\n",
    "    dp_append = []\n",
    "    \n",
    "    kpg=kpg_param\n",
    "    P_init=0\n",
    "    \n",
    "    for i in range(0,20000):\n",
    "#         kpg=0.1+kpg\n",
    "\n",
    "        P =(P_init + i * 0.001)        \n",
    "        M= sm / (um + kmp*P)  #For simplicity, they assumed that the local response reaches quasi-steady state\n",
    "        dP = (kpg*P*(1-(P/Pinf)) - kpm * M *  P)  # Adding a logistic growth term\n",
    "        \n",
    "        P_append.append(P)\n",
    "        dp_append.append(dP)\n",
    "    return(P_append,dp_append)"
   ]
  },
  {
   "cell_type": "code",
   "execution_count": 13,
   "id": "imposed-explosion",
   "metadata": {},
   "outputs": [
    {
     "data": {
      "text/plain": [
       "20000"
      ]
     },
     "execution_count": 13,
     "metadata": {},
     "output_type": "execute_result"
    }
   ],
   "source": []
  },
  {
   "cell_type": "code",
   "execution_count": 16,
   "id": "ancient-stage",
   "metadata": {},
   "outputs": [
    {
     "data": {
      "text/plain": [
       "[<matplotlib.lines.Line2D at 0x1d146850>]"
      ]
     },
     "execution_count": 16,
     "metadata": {},
     "output_type": "execute_result"
    },
    {
     "data": {
      "image/png": "[encoded data removed]",
      "text/plain": [
       "<Figure size 432x288 with 1 Axes>"
      ]
     },
     "metadata": {
      "needs_background": "light"
     },
     "output_type": "display_data"
    }
   ],
   "source": [
    "pars = default_pars()\n",
    "kpg_param = 0.05\n",
    "P_bif,dp_bif =bifurcation_p(pars,kpg_param)\n",
    "plt.plot(P_bif,dp_bif)\n",
    "kpg_param = 0.059\n",
    "P_bif,dp_bif =bifurcation_p(pars,kpg_param)\n",
    "plt.plot(P_bif,dp_bif)\n",
    "kpg_param = 0.07\n",
    "P_bif,dp_bif =bifurcation_p(pars,kpg_param)\n",
    "plt.plot(P_bif,dp_bif)\n",
    "dpdt = np.zeros(len(P_bif))\n",
    "plt.plot(P_bif,dpdt)"
   ]
  },
  {
   "cell_type": "code",
   "execution_count": 17,
   "id": "indoor-sentence",
   "metadata": {},
   "outputs": [],
   "source": [
    "def run_sepsis_model(pars,P_init_param,kpg_param):\n",
    "    # Set parameters\n",
    "    sm, um = pars['sm'],pars['um']\n",
    "    kpm,kmp = pars['kpm'],pars['kmp']\n",
    "    Pinf = pars['Pinf']\n",
    "    kpg = kpg_param\n",
    "    dt, range_t = pars['dt'], pars['range_t']\n",
    "    Lt = range_t.size\n",
    "    \n",
    "    M = np.zeros(Lt) # non-specific local response levels\n",
    "    P = np.zeros(Lt) # pathogen levels\n",
    "    M[0]= 0  \n",
    "    P[0]= P_init_param\n",
    "    for it in range(Lt-1):\n",
    "        \n",
    "#         dM = (sm-um*M[it]-kmp * M[it] *  P[it] )* dt\n",
    "\n",
    "        M[it]= sm / (um + kmp*P[it])  #For simplicity, they assumed that the local response reaches quasi-steady state\n",
    "#         dP =  -kpm * M[it] *  P[it] * dt\n",
    "#         dM = (sm-um*M[it]-kmp * M[it] *  P[it] )* dt\n",
    "        dP = (kpg*P[it]*(1-(P[it]/Pinf)) - kpm * M[it] *  P[it]) * dt  # Adding a logistic growth term        \n",
    "        #update\n",
    "        P[it+1] = P[it] + dP\n",
    "        M[it+1] = M[it] \n",
    "#         M[it+1] = M[it] + dM\n",
    "\n",
    "    return M,P"
   ]
  },
  {
   "cell_type": "code",
   "execution_count": 37,
   "id": "otherwise-custom",
   "metadata": {},
   "outputs": [
    {
     "data": {
      "text/plain": [
       "[<matplotlib.lines.Line2D at 0x1f539af0>]"
      ]
     },
     "execution_count": 37,
     "metadata": {},
     "output_type": "execute_result"
    },
    {
     "data": {
      "image/png": "[encoded data removed]",
      "text/plain": [
       "<Figure size 432x288 with 1 Axes>"
      ]
     },
     "metadata": {
      "needs_background": "light"
     },
     "output_type": "display_data"
    }
   ],
   "source": [
    "pars = default_pars()\n",
    "M,P =run_sepsis_model(pars,7.5,0.06)\n",
    "plt.plot(P[0:3000])\n",
    "plt.plot(M[0:3000])\n",
    "pars = default_pars()\n",
    "M,P =run_sepsis_model(pars,9.5,0.06)\n",
    "plt.plot(P[0:3000])\n",
    "plt.plot(M[0:3000])\n",
    "pars = default_pars()\n",
    "M,P =run_sepsis_model(pars,1.5,0.06)\n",
    "plt.plot(P[0:3000])\n",
    "plt.plot(M[0:3000])"
   ]
  },
  {
   "cell_type": "code",
   "execution_count": 38,
   "id": "arbitrary-turner",
   "metadata": {},
   "outputs": [
    {
     "data": {
      "text/plain": [
       "[<matplotlib.lines.Line2D at 0x1f5ab070>]"
      ]
     },
     "execution_count": 38,
     "metadata": {},
     "output_type": "execute_result"
    },
    {
     "data": {
      "image/png": "[encoded data removed]",
      "text/plain": [
       "<Figure size 432x288 with 1 Axes>"
      ]
     },
     "metadata": {
      "needs_background": "light"
     },
     "output_type": "display_data"
    }
   ],
   "source": [
    "pars = default_pars()\n",
    "M,P =run_sepsis_model(pars,7.5,0.05)\n",
    "plt.plot(P[0:3000])\n",
    "plt.plot(M[0:3000])\n",
    "pars = default_pars()\n",
    "M,P =run_sepsis_model(pars,9.5,0.05)\n",
    "plt.plot(P[0:3000])\n",
    "plt.plot(M[0:3000])\n",
    "pars = default_pars()\n",
    "pars = default_pars()\n",
    "M,P =run_sepsis_model(pars,1.5,0.05)\n",
    "plt.plot(P[0:3000])\n",
    "plt.plot(M[0:3000])\n"
   ]
  },
  {
   "cell_type": "code",
   "execution_count": 35,
   "id": "sharp-zambia",
   "metadata": {},
   "outputs": [
    {
     "name": "stdout",
     "output_type": "stream",
     "text": [
      "0.05881776296441525\n"
     ]
    }
   ],
   "source": [
    "pars = default_pars()\n",
    "def kpg_value(pars):\n",
    "    sm, um = pars['sm'],pars['um']\n",
    "    kpm,kmp = pars['kpm'],pars['kmp']\n",
    "    Pinf = pars['Pinf']\n",
    "    \n",
    "    kpg = (4* kmp*kpm*sm*Pinf)/np.power(Pinf*kmp + um,2)\n",
    "    print(kpg)\n",
    "kpg_value(pars)"
   ]
  },
  {
   "cell_type": "code",
   "execution_count": null,
   "id": "several-chase",
   "metadata": {},
   "outputs": [],
   "source": []
  }
 ],
 "metadata": {
  "kernelspec": {
   "display_name": "Python 3",
   "language": "python",
   "name": "python3"
  },
  "language_info": {
   "codemirror_mode": {
    "name": "ipython",
    "version": 3
   },
   "file_extension": ".py",
   "mimetype": "text/x-python",
   "name": "python",
   "nbconvert_exporter": "python",
   "pygments_lexer": "ipython3",
   "version": "3.8.8"
  }
 },
 "nbformat": 4,
 "nbformat_minor": 5
}
