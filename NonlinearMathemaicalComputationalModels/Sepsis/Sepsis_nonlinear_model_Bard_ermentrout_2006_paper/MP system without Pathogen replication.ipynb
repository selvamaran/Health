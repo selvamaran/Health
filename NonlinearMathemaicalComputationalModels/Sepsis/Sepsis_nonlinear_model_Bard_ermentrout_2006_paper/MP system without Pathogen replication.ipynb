{
 "cells": [
  {
   "cell_type": "code",
   "execution_count": 1,
   "id": "copyrighted-country",
   "metadata": {},
   "outputs": [],
   "source": [
    "import pandas as pd\n",
    "import matplotlib.pyplot as plt    # import matplotlib\n",
    "import numpy as np                 # import numpy\n",
    "import time                        # import time\n",
    "import ipywidgets as widgets       # interactive display\n",
    "from scipy.stats import pearsonr   # import pearson correlation\n",
    "\n",
    "fig_w, fig_h = (6, 4)\n",
    "plt.rcParams.update({'figure.figsize': (fig_w, fig_h)})"
   ]
  },
  {
   "cell_type": "code",
   "execution_count": 2,
   "id": "backed-utilization",
   "metadata": {},
   "outputs": [],
   "source": [
    "def default_pars( **kwargs):\n",
    "    pars = {}\n",
    "    pars['sm']    = 0.005 #Source of non-specific local response\n",
    "    pars['um']    = 0.002 #Decay rate for the non-specific local response\n",
    "    \n",
    "    pars['kpm']    =  0.6  #Rate at which the non-specific local response (M) eliminates pathogen\n",
    "    pars['kmp']    = 0.01  # Rate at which the non-specific local response is exhausted by pathogen (P)\n",
    "    \n",
    "    \n",
    "    ### simulation parameters ###\n",
    "    pars['T'] = 3000. # Total duration of simulation [ms]\n",
    "    pars['dt'] = .1  # Simulation time step [ms]\n",
    "\n",
    "    ### external parameters if any ###\n",
    "    for k in kwargs:\n",
    "        pars[k] = kwargs[k]\n",
    "    \n",
    "    pars['range_t'] = np.arange(0, pars['T'], pars['dt']) # Vector of discretized time points [ms]\n",
    "        \n",
    "    return pars    "
   ]
  },
  {
   "cell_type": "code",
   "execution_count": 6,
   "id": "indoor-sentence",
   "metadata": {},
   "outputs": [],
   "source": [
    "def run_sepsis_model(pars):\n",
    "    # Set parameters\n",
    "    sm, um = pars['sm'],pars['um']\n",
    "    kpm,kmp = pars['kpm'],pars['kmp']    \n",
    "    dt, range_t = pars['dt'], pars['range_t']\n",
    "    Lt = range_t.size\n",
    "    \n",
    "    M = np.zeros(Lt) # non-specific local response levels\n",
    "    P = np.zeros(Lt) # pathogen levels\n",
    "    M[0]= 0  \n",
    "    P[0]= 13\n",
    "    for it in range(Lt-1):\n",
    "        \n",
    "#         dM = (sm-um*M[it]-kmp * M[it] *  P[it] )* dt\n",
    "\n",
    "        M[it]= sm / (um + kmp*P[it])  #For simplicity, they assumed that the local response reaches quasi-steady state\n",
    "        dP =  -kpm * M[it] *  P[it] * dt\n",
    "#         dM = (sm-um*M[it]-kmp * M[it] *  P[it] )* dt\n",
    "        \n",
    "        #update\n",
    "        P[it+1] = P[it] + dP\n",
    "        M[it+1] = M[it] \n",
    "#         M[it+1] = M[it] + dM\n",
    "\n",
    "    return M,P"
   ]
  },
  {
   "cell_type": "code",
   "execution_count": 7,
   "id": "otherwise-custom",
   "metadata": {},
   "outputs": [],
   "source": [
    "pars = default_pars()\n",
    "M,P =run_sepsis_model(pars)"
   ]
  },
  {
   "cell_type": "code",
   "execution_count": 9,
   "id": "educational-logging",
   "metadata": {},
   "outputs": [
    {
     "data": {
      "text/plain": [
       "[<matplotlib.lines.Line2D at 0x1bc20490>]"
      ]
     },
     "execution_count": 9,
     "metadata": {},
     "output_type": "execute_result"
    },
    {
     "data": {
      "image/png": "[encoded data removed]",
      "text/plain": [
       "<Figure size 432x288 with 1 Axes>"
      ]
     },
     "metadata": {
      "needs_background": "light"
     },
     "output_type": "display_data"
    }
   ],
   "source": [
    "plt.plot(P[0:1000]) # Pathogen Not replinishing itself\n",
    "plt.plot(M[0:1000]) "
   ]
  },
  {
   "cell_type": "code",
   "execution_count": null,
   "id": "engaging-productivity",
   "metadata": {},
   "outputs": [],
   "source": []
  }
 ],
 "metadata": {
  "kernelspec": {
   "display_name": "Python 3",
   "language": "python",
   "name": "python3"
  },
  "language_info": {
   "codemirror_mode": {
    "name": "ipython",
    "version": 3
   },
   "file_extension": ".py",
   "mimetype": "text/x-python",
   "name": "python",
   "nbconvert_exporter": "python",
   "pygments_lexer": "ipython3",
   "version": "3.8.8"
  }
 },
 "nbformat": 4,
 "nbformat_minor": 5
}
