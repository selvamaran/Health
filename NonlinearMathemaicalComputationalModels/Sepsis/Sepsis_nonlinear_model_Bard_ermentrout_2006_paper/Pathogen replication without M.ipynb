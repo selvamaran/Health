{
 "cells": [
  {
   "cell_type": "code",
   "execution_count": 1,
   "id": "copyrighted-country",
   "metadata": {},
   "outputs": [],
   "source": [
    "import pandas as pd\n",
    "import matplotlib.pyplot as plt    # import matplotlib\n",
    "import numpy as np                 # import numpy\n",
    "import time                        # import time\n",
    "import ipywidgets as widgets       # interactive display\n",
    "from scipy.stats import pearsonr   # import pearson correlation\n",
    "\n",
    "fig_w, fig_h = (6, 4)\n",
    "plt.rcParams.update({'figure.figsize': (fig_w, fig_h)})"
   ]
  },
  {
   "cell_type": "code",
   "execution_count": 2,
   "id": "backed-utilization",
   "metadata": {},
   "outputs": [],
   "source": [
    "def default_pars( **kwargs):\n",
    "    pars = {}    \n",
    "    pars['Pinf'] = 20 #*10^6 units\n",
    "    \n",
    "    pars['kpg']    = 0.062 #0.059\n",
    "    ### simulation parameters ###\n",
    "    pars['T'] = 3000. # Total duration of simulation [ms]\n",
    "    pars['dt'] = .1  # Simulation time step [ms]\n",
    "\n",
    "    ### external parameters if any ###\n",
    "    for k in kwargs:\n",
    "        pars[k] = kwargs[k]\n",
    "    \n",
    "    pars['range_t'] = np.arange(0, pars['T'], pars['dt']) # Vector of discretized time points [ms]\n",
    "        \n",
    "    return pars    "
   ]
  },
  {
   "cell_type": "code",
   "execution_count": 3,
   "id": "indoor-sentence",
   "metadata": {},
   "outputs": [],
   "source": [
    "def run_sepsis_model(pars):\n",
    "    # Set parameters\n",
    "    Pinf = pars['Pinf']\n",
    "    kpg = pars['kpg']\n",
    "    dt, range_t = pars['dt'], pars['range_t']\n",
    "    Lt = range_t.size\n",
    "    \n",
    "    P = np.zeros(Lt) # pathogen levels\n",
    "    \n",
    "    P[0]= 1\n",
    "    for it in range(Lt-1):\n",
    "        \n",
    "\n",
    "        dP = (kpg*P[it]*(1-(P[it]/Pinf))) * dt  # Adding a logistic growth term        \n",
    "        #update\n",
    "        P[it+1] = P[it] + dP\n",
    "\n",
    "    return P"
   ]
  },
  {
   "cell_type": "code",
   "execution_count": 4,
   "id": "otherwise-custom",
   "metadata": {},
   "outputs": [],
   "source": [
    "pars = default_pars()\n",
    "P =run_sepsis_model(pars)"
   ]
  },
  {
   "cell_type": "code",
   "execution_count": 5,
   "id": "educational-logging",
   "metadata": {},
   "outputs": [
    {
     "data": {
      "text/plain": [
       "[<matplotlib.lines.Line2D at 0x1acef580>]"
      ]
     },
     "execution_count": 5,
     "metadata": {},
     "output_type": "execute_result"
    },
    {
     "data": {
      "image/png": "[encoded data removed]",
      "text/plain": [
       "<Figure size 432x288 with 1 Axes>"
      ]
     },
     "metadata": {
      "needs_background": "light"
     },
     "output_type": "display_data"
    }
   ],
   "source": [
    "# plt.plot(P)\n",
    "plt.plot(P[0:2000])"
   ]
  },
  {
   "cell_type": "code",
   "execution_count": 6,
   "id": "engaging-productivity",
   "metadata": {},
   "outputs": [],
   "source": [
    "#Fixed points\n",
    "#P*(1-(P/Pinf))=0 => dp/dt = 0 at P=0 and (1-(P/Pinf))=0 => dp/dt = 0 at P=0 and P=Pinf"
   ]
  },
  {
   "cell_type": "code",
   "execution_count": null,
   "id": "sharing-photograph",
   "metadata": {},
   "outputs": [],
   "source": []
  }
 ],
 "metadata": {
  "kernelspec": {
   "display_name": "Python 3",
   "language": "python",
   "name": "python3"
  },
  "language_info": {
   "codemirror_mode": {
    "name": "ipython",
    "version": 3
   },
   "file_extension": ".py",
   "mimetype": "text/x-python",
   "name": "python",
   "nbconvert_exporter": "python",
   "pygments_lexer": "ipython3",
   "version": "3.8.8"
  }
 },
 "nbformat": 4,
 "nbformat_minor": 5
}
