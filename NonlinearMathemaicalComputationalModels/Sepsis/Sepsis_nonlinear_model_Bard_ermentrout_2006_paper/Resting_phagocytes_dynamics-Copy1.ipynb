{
 "cells": [
  {
   "cell_type": "code",
   "execution_count": 1,
   "id": "copyrighted-country",
   "metadata": {},
   "outputs": [],
   "source": [
    "import pandas as pd\n",
    "import matplotlib.pyplot as plt    # import matplotlib\n",
    "import numpy as np                 # import numpy\n",
    "import time                        # import time\n",
    "import ipywidgets as widgets       # interactive display\n",
    "from scipy.stats import pearsonr   # import pearson correlation\n",
    "\n",
    "fig_w, fig_h = (6, 4)\n",
    "plt.rcParams.update({'figure.figsize': (fig_w, fig_h)})"
   ]
  },
  {
   "cell_type": "code",
   "execution_count": 19,
   "id": "backed-utilization",
   "metadata": {},
   "outputs": [],
   "source": [
    "def default_pars( **kwargs):\n",
    "    pars = {}\n",
    "    \n",
    "    pars['snr']    = 0.08 #Source of resting phagocytes\n",
    "    pars['unr']    = 0.12 #Decay rate of resting phagocytes\n",
    "    \n",
    "    ### simulation parameters ###\n",
    "    pars['T'] = 100. # Total duration of simulation [ms]\n",
    "    pars['dt'] = .1  # Simulation time step [ms]\n",
    "\n",
    "    ### external parameters if any ###\n",
    "    for k in kwargs:\n",
    "        pars[k] = kwargs[k]\n",
    "    \n",
    "    pars['range_t'] = np.arange(0, pars['T'], pars['dt']) # Vector of discretized time points [ms]\n",
    "        \n",
    "    return pars    "
   ]
  },
  {
   "cell_type": "code",
   "execution_count": 20,
   "id": "fewer-seventh",
   "metadata": {},
   "outputs": [],
   "source": [
    "def run_phagoctye_model(pars):\n",
    "    \n",
    "        # Set parameters\n",
    "    snr = pars['snr']\n",
    "    unr = pars['unr']\n",
    "    \n",
    "    dt, range_t = pars['dt'], pars['range_t']\n",
    "    Lt = range_t.size\n",
    "    \n",
    "    NR = np.zeros(Lt) # non-specific local response levels\n",
    "    NR[0]= 0    \n",
    "    for it in range(Lt-1):\n",
    "        dNR = (snr-unr *NR[it] )* dt\n",
    "\n",
    "        #update\n",
    "        NR[it+1] = NR[it] + dNR\n",
    "    return(NR)"
   ]
  },
  {
   "cell_type": "code",
   "execution_count": 21,
   "id": "several-chase",
   "metadata": {},
   "outputs": [
    {
     "data": {
      "text/plain": [
       "[<matplotlib.lines.Line2D at 0x1b9e7910>]"
      ]
     },
     "execution_count": 21,
     "metadata": {},
     "output_type": "execute_result"
    },
    {
     "data": {
      "image/png": "[encoded data removed]",
      "text/plain": [
       "<Figure size 432x288 with 1 Axes>"
      ]
     },
     "metadata": {
      "needs_background": "light"
     },
     "output_type": "display_data"
    }
   ],
   "source": [
    "pars = default_pars()\n",
    "NR =run_phagoctye_model(pars)\n",
    "plt.plot(NR)"
   ]
  },
  {
   "cell_type": "code",
   "execution_count": 15,
   "id": "appropriate-spread",
   "metadata": {},
   "outputs": [],
   "source": [
    "# 0.08/0.12 - steady state"
   ]
  },
  {
   "cell_type": "code",
   "execution_count": null,
   "id": "adjusted-joshua",
   "metadata": {},
   "outputs": [],
   "source": []
  }
 ],
 "metadata": {
  "kernelspec": {
   "display_name": "Python 3",
   "language": "python",
   "name": "python3"
  },
  "language_info": {
   "codemirror_mode": {
    "name": "ipython",
    "version": 3
   },
   "file_extension": ".py",
   "mimetype": "text/x-python",
   "name": "python",
   "nbconvert_exporter": "python",
   "pygments_lexer": "ipython3",
   "version": "3.8.8"
  }
 },
 "nbformat": 4,
 "nbformat_minor": 5
}
