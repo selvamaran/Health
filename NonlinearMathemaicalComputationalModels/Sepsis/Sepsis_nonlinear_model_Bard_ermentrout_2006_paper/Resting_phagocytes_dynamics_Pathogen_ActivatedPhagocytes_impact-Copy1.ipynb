{
 "cells": [
  {
   "cell_type": "code",
   "execution_count": 1,
   "id": "copyrighted-country",
   "metadata": {},
   "outputs": [],
   "source": [
    "import pandas as pd\n",
    "import matplotlib.pyplot as plt    # import matplotlib\n",
    "import numpy as np                 # import numpy\n",
    "import time                        # import time\n",
    "import ipywidgets as widgets       # interactive display\n",
    "from scipy.stats import pearsonr   # import pearson correlation\n",
    "\n",
    "fig_w, fig_h = (6, 4)\n",
    "plt.rcParams.update({'figure.figsize': (fig_w, fig_h)})"
   ]
  },
  {
   "cell_type": "code",
   "execution_count": 2,
   "id": "backed-utilization",
   "metadata": {},
   "outputs": [],
   "source": [
    "def default_pars( **kwargs):\n",
    "    pars = {}\n",
    "    \n",
    "    pars['snr']    = 0.08 #Source of resting phagocytes\n",
    "    pars['unr']    = 0.12 #Decay rate of resting phagocytes\n",
    "\n",
    "    pars['kpn']    = 1.8 #Rate at which activated phagocytes (N*) consume pathogen\n",
    "    pars['knp']    = 0.1 # Activation of resting phagocytes (NR) by pathogen\n",
    "    pars['knn']    = 0.01 # Activation of resting phagocytes by previously activated phagocytes and their cytokines\n",
    "    pars['un']    = 0.05 #Decay rate of activated phagocytes\n",
    "    \n",
    "    \n",
    "    ### simulation parameters ###\n",
    "    pars['T'] = 100. # Total duration of simulation [ms]\n",
    "    pars['dt'] = .1  # Simulation time step [ms]\n",
    "\n",
    "    ### external parameters if any ###\n",
    "    for k in kwargs:\n",
    "        pars[k] = kwargs[k]\n",
    "    \n",
    "    pars['range_t'] = np.arange(0, pars['T'], pars['dt']) # Vector of discretized time points [ms]\n",
    "        \n",
    "    return pars    "
   ]
  },
  {
   "cell_type": "code",
   "execution_count": 3,
   "id": "fewer-seventh",
   "metadata": {},
   "outputs": [],
   "source": [
    "def run_phagoctye_model(pars,Nact,P):\n",
    "    \n",
    "        # Set parameters\n",
    "    snr = pars['snr']\n",
    "    unr = pars['unr']\n",
    "    \n",
    "#     kpn = pars['kpn']    \n",
    "    knp = pars['knp']    \n",
    "    knn = pars['knn']\n",
    "    \n",
    "    dt, range_t = pars['dt'], pars['range_t']\n",
    "    Lt = range_t.size\n",
    "    \n",
    "    NR = np.zeros(Lt) # non-specific local response levels\n",
    "    \n",
    "    NR[0]= 0    \n",
    "    \n",
    "    for it in range(Lt-1):                \n",
    "        R1 = knn* Nact + knp*P\n",
    "        \n",
    "        dNR = (snr-unr *NR[it] - R1*NR[it] )* dt\n",
    "\n",
    "        #update\n",
    "        NR[it+1] = NR[it] + dNR\n",
    "    return(NR)"
   ]
  },
  {
   "cell_type": "code",
   "execution_count": 4,
   "id": "several-chase",
   "metadata": {},
   "outputs": [
    {
     "data": {
      "text/plain": [
       "0.34782608692859424"
      ]
     },
     "execution_count": 4,
     "metadata": {},
     "output_type": "execute_result"
    },
    {
     "data": {
      "image/png": "[encoded data removed]",
      "text/plain": [
       "<Figure size 432x288 with 1 Axes>"
      ]
     },
     "metadata": {
      "needs_background": "light"
     },
     "output_type": "display_data"
    }
   ],
   "source": [
    "pars = default_pars()\n",
    "Nact=1\n",
    "P=1\n",
    "NR =run_phagoctye_model(pars,Nact,P)\n",
    "plt.plot(NR)\n",
    "NR[-1]"
   ]
  },
  {
   "cell_type": "code",
   "execution_count": 5,
   "id": "naughty-consultancy",
   "metadata": {},
   "outputs": [],
   "source": [
    "\n",
    "def NR_steady_state(pars,Nact,P):\n",
    "    snr = pars['snr']   \n",
    "    unr = pars['unr']\n",
    "    knp = pars['knp']    \n",
    "    knn = pars['knn']    \n",
    "    \n",
    "    R1 = knn* Nact + knp*P\n",
    "    NR = snr/(unr+R1)\n",
    "    return(NR)"
   ]
  },
  {
   "cell_type": "code",
   "execution_count": 6,
   "id": "infrared-adjustment",
   "metadata": {},
   "outputs": [
    {
     "data": {
      "text/plain": [
       "0.3478260869565218"
      ]
     },
     "execution_count": 6,
     "metadata": {},
     "output_type": "execute_result"
    }
   ],
   "source": [
    "pars = default_pars()\n",
    "Nact=1\n",
    "P=1\n",
    "NR_steady_state(pars,Nact,P)"
   ]
  },
  {
   "cell_type": "code",
   "execution_count": null,
   "id": "possible-leader",
   "metadata": {},
   "outputs": [],
   "source": []
  }
 ],
 "metadata": {
  "kernelspec": {
   "display_name": "Python 3",
   "language": "python",
   "name": "python3"
  },
  "language_info": {
   "codemirror_mode": {
    "name": "ipython",
    "version": 3
   },
   "file_extension": ".py",
   "mimetype": "text/x-python",
   "name": "python",
   "nbconvert_exporter": "python",
   "pygments_lexer": "ipython3",
   "version": "3.8.8"
  }
 },
 "nbformat": 4,
 "nbformat_minor": 5
}
