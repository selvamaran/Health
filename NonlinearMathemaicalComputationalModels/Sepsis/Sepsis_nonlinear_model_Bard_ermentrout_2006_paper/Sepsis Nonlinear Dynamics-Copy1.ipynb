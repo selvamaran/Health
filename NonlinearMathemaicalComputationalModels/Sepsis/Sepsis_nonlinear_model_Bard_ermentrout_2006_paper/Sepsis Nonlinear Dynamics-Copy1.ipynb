{
 "cells": [
  {
   "cell_type": "code",
   "execution_count": 1,
   "id": "seven-black",
   "metadata": {},
   "outputs": [],
   "source": [
    "import matplotlib.pyplot as plt    # import matplotlib\n",
    "import numpy as np                 # import numpy\n",
    "import time                        # import time\n",
    "import ipywidgets as widgets       # interactive display\n",
    "from scipy.stats import pearsonr   # import pearson correlation\n",
    "\n",
    "fig_w, fig_h = (6, 4)\n",
    "plt.rcParams.update({'figure.figsize': (fig_w, fig_h)})"
   ]
  },
  {
   "cell_type": "code",
   "execution_count": 8,
   "id": "charitable-aurora",
   "metadata": {},
   "outputs": [],
   "source": [
    "def default_pars( **kwargs):\n",
    "    pars = {}\n",
    "    \n",
    "    pars['kpm']    =  0.6  #Rate at which the non-specific local response (M) eliminates pathogen\n",
    "    pars['kmp']    = 0.01  # Rate at which the non-specific local response is exhausted by pathogen (P)\n",
    "    \n",
    "    pars['sm']    = 0.005 #Source of non-specific local response\n",
    "    pars['um']    = 0.002 #Decay rate for the non-specific local response\n",
    "\n",
    "    pars['kpg']    = 0 #0.5#0.026 #0.025#0.024#0.06#0.021 #various 0.021–2.44; The growth rate of pathogen\n",
    "    pars['Pinf']    = 20*np.power(10,6)   # Maximum pathogen population\n",
    "    pars['P_init']  = 0.39#0.18#0.175#0.17\n",
    "    \n",
    "    pars['kpn']    = 1.8 #Rate at which activated phagocytes (N*) consume pathogen\n",
    "    pars['knp']    = 0.1 # Activation of resting phagocytes (NR) by pathogen\n",
    "    pars['knn']    = 0.01 # Activation of resting phagocytes by previously activated phagocytes and their cytokines\n",
    "    \n",
    "    pars['snr']    = 0.08 #Source of resting phagocytes\n",
    "    \n",
    "    pars['unr']    = 0.12 #Decay rate of resting phagocytes    \n",
    "    pars['un']    = 0.05 #Decay rate of activated phagocytes\n",
    "    \n",
    "    pars['Cinf']    = 0.28 # Controls the strength of the antiinflammatory mediator (CA)\n",
    "    pars['Ca']    = 0.2 #\n",
    "    ### simulation parameters ###\n",
    "    pars['T'] = 40. # Total duration of simulation [ms]\n",
    "    pars['dt'] = .1  # Simulation time step [ms]\n",
    "\n",
    "    ### external parameters if any ###\n",
    "    for k in kwargs:\n",
    "        pars[k] = kwargs[k]\n",
    "    \n",
    "    pars['range_t'] = np.arange(0, pars['T'], pars['dt']) # Vector of discretized time points [ms]\n",
    "        \n",
    "    return pars    \n",
    "    "
   ]
  },
  {
   "cell_type": "code",
   "execution_count": 9,
   "id": "bigger-arctic",
   "metadata": {},
   "outputs": [],
   "source": [
    "def run_sepsis_model(pars):\n",
    "    \n",
    "    # Set parameters\n",
    "    sm, um = pars['sm'],pars['um']\n",
    "    kpm,kmp = pars['kpm'],pars['kmp']\n",
    "    \n",
    "    kpg = pars['kpg']\n",
    "    Pinf = pars['Pinf']\n",
    "    \n",
    "    P_init = pars['P_init']\n",
    "    \n",
    "    kpn = pars['kpn']    \n",
    "    knp = pars['knp']    \n",
    "    knn = pars['knn']    \n",
    "    \n",
    "    snr = pars['snr']    \n",
    "    \n",
    "    unr = pars['unr']      \n",
    "    un = pars['un']   \n",
    "    \n",
    "    Cinf = pars['Cinf']      \n",
    "    Ca = pars['Ca']     \n",
    "    \n",
    "    dt, range_t = pars['dt'], pars['range_t']\n",
    "    Lt = range_t.size\n",
    "    \n",
    "    # Initialize \n",
    "    P = np.zeros(Lt) # pathogen levels\n",
    "    M = np.zeros(Lt) # non-specific local response levels\n",
    "    \n",
    "    Nact = np.zeros(Lt)\n",
    "    dNact = np.zeros(Lt)\n",
    "    dP = np.zeros(Lt)\n",
    "    \n",
    "    R1 = np.zeros(Lt) # \n",
    "    P[0] = P_init        \n",
    "    M[0]= sm / (um + kmp*P[0])\n",
    "    \n",
    "    Nact_init = 0\n",
    "    Nact[0] = Nact_init\n",
    "    R1[0] = knn* Nact[0] + knp*P[0]\n",
    "    \n",
    "    for it in range(Lt-1):\n",
    "        #calculate the increment\n",
    "        M[it]= sm / (um + kmp*P[it])  #For simplicity, they assumed that the local response reaches quasi-steady state\n",
    "        #dP =  -kpm * M[it] *  P[it] * dt\n",
    "#         dP = (kpg*P[it]*(1-(P[it]/Pinf)) - kpm * M[it] *  P[it]) * dt  # Adding a logistic growth term\n",
    "        \n",
    "        dP[it] = (kpg*P[it]*(1-(P[it]/Pinf)) - kpm * M[it] *  P[it] - kpn*Nact[it]*P[it]) * dt  # Adding a logistic growth term\n",
    "        \n",
    "        R1[it] = knn* Nact[it] + knp*P[it]\n",
    "        R1[it] = R1[it] /(1+np.power(Ca/Cinf,2))\n",
    "        dNact[it] = (snr*R1[it]/(unr+R1[it]) - un*Nact[it]) *dt\n",
    "       \n",
    "        #update\n",
    "        P[it+1] = P[it] + dP[it] \n",
    "        Nact[it+1] = Nact[it] + dNact[it]\n",
    "        Nact[it+1] = Nact[it+1] /(1+np.power(Ca/Cinf,2))\n",
    "#         print(P)\n",
    "    return P, M,Nact, R1"
   ]
  },
  {
   "cell_type": "code",
   "execution_count": 10,
   "id": "champion-programming",
   "metadata": {},
   "outputs": [],
   "source": [
    "pars = default_pars()\n",
    "P,M, Nact,R1 =run_sepsis_model(pars)"
   ]
  },
  {
   "cell_type": "code",
   "execution_count": 11,
   "id": "dried-uncertainty",
   "metadata": {},
   "outputs": [],
   "source": [
    "# pars"
   ]
  },
  {
   "cell_type": "code",
   "execution_count": 12,
   "id": "understanding-soundtrack",
   "metadata": {},
   "outputs": [
    {
     "data": {
      "text/plain": [
       "[<matplotlib.lines.Line2D at 0x17e57910>]"
      ]
     },
     "execution_count": 12,
     "metadata": {},
     "output_type": "execute_result"
    },
    {
     "data": {
      "image/png": "[encoded data removed]",
      "text/plain": [
       "<Figure size 432x288 with 1 Axes>"
      ]
     },
     "metadata": {
      "needs_background": "light"
     },
     "output_type": "display_data"
    }
   ],
   "source": [
    "plt.plot(pars['range_t'], P, 'b')"
   ]
  },
  {
   "cell_type": "code",
   "execution_count": 13,
   "id": "confidential-pioneer",
   "metadata": {},
   "outputs": [
    {
     "data": {
      "text/plain": [
       "[<matplotlib.lines.Line2D at 0x17f453d0>]"
      ]
     },
     "execution_count": 13,
     "metadata": {},
     "output_type": "execute_result"
    },
    {
     "data": {
      "image/png": "[encoded data removed]",
      "text/plain": [
       "<Figure size 432x288 with 1 Axes>"
      ]
     },
     "metadata": {
      "needs_background": "light"
     },
     "output_type": "display_data"
    }
   ],
   "source": [
    "plt.plot(pars['range_t'][0:-1], M[0:-1], 'b')"
   ]
  },
  {
   "cell_type": "code",
   "execution_count": 14,
   "id": "hungry-vatican",
   "metadata": {},
   "outputs": [],
   "source": [
    "# plt.plot(pars['range_t'], Nact, 'b')"
   ]
  },
  {
   "cell_type": "code",
   "execution_count": 15,
   "id": "first-newfoundland",
   "metadata": {},
   "outputs": [
    {
     "data": {
      "text/plain": [
       "[<matplotlib.lines.Line2D at 0x17fa9190>]"
      ]
     },
     "execution_count": 15,
     "metadata": {},
     "output_type": "execute_result"
    },
    {
     "data": {
      "image/png": "[encoded data removed]",
      "text/plain": [
       "<Figure size 432x288 with 1 Axes>"
      ]
     },
     "metadata": {
      "needs_background": "light"
     },
     "output_type": "display_data"
    }
   ],
   "source": [
    "plt.plot(pars['range_t'], Nact, 'b')"
   ]
  },
  {
   "cell_type": "code",
   "execution_count": null,
   "id": "removed-insider",
   "metadata": {},
   "outputs": [],
   "source": [
    "# plt.plot(pars['range_t'], R1, 'b')"
   ]
  },
  {
   "cell_type": "code",
   "execution_count": 16,
   "id": "trying-april",
   "metadata": {},
   "outputs": [
    {
     "data": {
      "text/plain": [
       "[<matplotlib.lines.Line2D at 0x17fc3580>]"
      ]
     },
     "execution_count": 16,
     "metadata": {},
     "output_type": "execute_result"
    },
    {
     "data": {
      "image/png": "[encoded data removed]",
      "text/plain": [
       "<Figure size 432x288 with 1 Axes>"
      ]
     },
     "metadata": {
      "needs_background": "light"
     },
     "output_type": "display_data"
    }
   ],
   "source": [
    "plt.plot(pars['range_t'], R1, 'b')"
   ]
  },
  {
   "cell_type": "code",
   "execution_count": null,
   "id": "spare-preserve",
   "metadata": {},
   "outputs": [],
   "source": [
    "20*np.power(10,6)"
   ]
  },
  {
   "cell_type": "code",
   "execution_count": 17,
   "id": "suspected-violence",
   "metadata": {},
   "outputs": [],
   "source": [
    "#bifurcation diagram\n",
    "def bifurcation_kpg(pars):\n",
    "    \n",
    "        # Set parameters\n",
    "    sm, um = pars['sm'],pars['um']\n",
    "    kpm,kmp = pars['kpm'],pars['kmp']\n",
    "    \n",
    "#     kpg = pars['kpg']\n",
    "    Pinf = pars['Pinf']\n",
    "    P_init = pars['P_init']\n",
    "    \n",
    "    kpn = pars['kpn']    \n",
    "    knp = pars['knp']    \n",
    "    knn = pars['knn']    \n",
    "    \n",
    "    snr = pars['snr']    \n",
    "    \n",
    "    unr = pars['unr']      \n",
    "    un = pars['un']   \n",
    "    \n",
    "    Cinf = pars['Cinf']      \n",
    "    Ca = pars['Ca']     \n",
    "    kpg_append=[]\n",
    "    dNact_append = []\n",
    "    \n",
    "    kpg=1.2\n",
    "    P_init=0\n",
    "    for i in range(0,100):\n",
    "#         kpg=0.1+kpg\n",
    "\n",
    "        P =P_init + i * 0.01        \n",
    "        M= sm / (um + kmp*P)\n",
    "\n",
    "        Nact_init = 0\n",
    "        Nact = Nact_init\n",
    "\n",
    "#         M= sm / (um + kmp*P)  #For simplicity, they assumed that the local response reaches quasi-steady state\n",
    "#         #dP =  -kpm * M[it] *  P[it] * dt\n",
    "#     #         dP = (kpg*P[it]*(1-(P[it]/Pinf)) - kpm * M[it] *  P[it]) * dt  # Adding a logistic growth term\n",
    "\n",
    "#         dP = (kpg*P*(1-(P/Pinf)) - kpm * M *  P - kpn*Nact*P)  # Adding a logistic growth term\n",
    "\n",
    "#         P = P +dP\n",
    "        R1 = knn* Nact + knp*P\n",
    "        R1 = R1 /(1+np.power(Ca/Cinf,2))\n",
    "        dNact = (snr*R1/(unr+R1) - un*Nact)     \n",
    "        kpg_append.append(P)\n",
    "        dNact_append.append(dNact)\n",
    "    return(kpg_append,dNact_append)"
   ]
  },
  {
   "cell_type": "code",
   "execution_count": 18,
   "id": "taken-notification",
   "metadata": {},
   "outputs": [],
   "source": [
    "kpg,dNact=bifurcation_kpg(pars)"
   ]
  },
  {
   "cell_type": "code",
   "execution_count": null,
   "id": "religious-bullet",
   "metadata": {},
   "outputs": [],
   "source": [
    "# dNact"
   ]
  },
  {
   "cell_type": "code",
   "execution_count": null,
   "id": "spoken-lecture",
   "metadata": {},
   "outputs": [],
   "source": [
    "\n",
    "# kpg=0\n",
    "# kpg_append=[]\n",
    "# Nact_append = []\n",
    "\n",
    "# # pars['kpg']    = 0.1\n",
    "\n",
    "# for i in range(0,35):\n",
    "#     pars = default_pars()\n",
    "\n",
    "#     kpg    = kpg + 0.1\n",
    "#     P,M, Nact,R1 =run_sepsis_model(pars,kpg)\n",
    "#     kpg_append.append(kpg)\n",
    "#     Nact_append.append(Nact[-1])    "
   ]
  },
  {
   "cell_type": "code",
   "execution_count": 19,
   "id": "blocked-facial",
   "metadata": {},
   "outputs": [
    {
     "data": {
      "text/plain": [
       "[<matplotlib.lines.Line2D at 0x18022a30>]"
      ]
     },
     "execution_count": 19,
     "metadata": {},
     "output_type": "execute_result"
    },
    {
     "data": {
      "image/png": "[encoded data removed]",
      "text/plain": [
       "<Figure size 432x288 with 1 Axes>"
      ]
     },
     "metadata": {
      "needs_background": "light"
     },
     "output_type": "display_data"
    }
   ],
   "source": [
    "plt.plot(kpg,dNact)"
   ]
  },
  {
   "cell_type": "code",
   "execution_count": null,
   "id": "twelve-sigma",
   "metadata": {},
   "outputs": [],
   "source": []
  }
 ],
 "metadata": {
  "kernelspec": {
   "display_name": "Python 3",
   "language": "python",
   "name": "python3"
  },
  "language_info": {
   "codemirror_mode": {
    "name": "ipython",
    "version": 3
   },
   "file_extension": ".py",
   "mimetype": "text/x-python",
   "name": "python",
   "nbconvert_exporter": "python",
   "pygments_lexer": "ipython3",
   "version": "3.8.8"
  }
 },
 "nbformat": 4,
 "nbformat_minor": 5
}
