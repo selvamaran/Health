{
 "cells": [
  {
   "cell_type": "code",
   "execution_count": 3,
   "id": "surprised-slovak",
   "metadata": {},
   "outputs": [],
   "source": [
    "import pandas as pd\n",
    "import matplotlib.pyplot as plt    # import matplotlib\n",
    "import numpy as np                 # import numpy\n",
    "import time                        # import time\n",
    "import ipywidgets as widgets       # interactive display\n",
    "from scipy.stats import pearsonr   # import pearson correlation\n",
    "\n",
    "fig_w, fig_h = (6, 4)\n",
    "plt.rcParams.update({'figure.figsize': (fig_w, fig_h)})"
   ]
  },
  {
   "cell_type": "code",
   "execution_count": 31,
   "id": "occupied-merchant",
   "metadata": {},
   "outputs": [],
   "source": [
    "def default_pars( **kwargs):\n",
    "    pars = {}\n",
    "    pars['sm']    = 0.005 #Source of non-specific local response\n",
    "    pars['um']    = 0.002 #Decay rate for the non-specific local response\n",
    "    \n",
    "    ### simulation parameters ###\n",
    "    pars['T'] = 3000. # Total duration of simulation [ms]\n",
    "    pars['dt'] = .1  # Simulation time step [ms]\n",
    "\n",
    "    ### external parameters if any ###\n",
    "    for k in kwargs:\n",
    "        pars[k] = kwargs[k]\n",
    "    \n",
    "    pars['range_t'] = np.arange(0, pars['T'], pars['dt']) # Vector of discretized time points [ms]\n",
    "        \n",
    "    return pars    "
   ]
  },
  {
   "cell_type": "code",
   "execution_count": 35,
   "id": "pharmaceutical-disclosure",
   "metadata": {},
   "outputs": [],
   "source": [
    "def run_sepsis_model(pars):\n",
    "    # Set parameters\n",
    "    sm, um = pars['sm'],pars['um']\n",
    "    \n",
    "    dt, range_t = pars['dt'], pars['range_t']\n",
    "    Lt = range_t.size\n",
    "    \n",
    "    M = np.zeros(Lt) # non-specific local response levels\n",
    "    M[0]= 0    \n",
    "    for it in range(Lt-1):\n",
    "        dM = (sm-um*M[it] )* dt\n",
    "\n",
    "        #update\n",
    "        M[it+1] = M[it] + dM\n",
    "    return(M)"
   ]
  },
  {
   "cell_type": "code",
   "execution_count": 36,
   "id": "promising-muslim",
   "metadata": {},
   "outputs": [],
   "source": [
    "pars = default_pars()\n",
    "M =run_sepsis_model(pars)"
   ]
  },
  {
   "cell_type": "code",
   "execution_count": 37,
   "id": "moderate-survivor",
   "metadata": {},
   "outputs": [
    {
     "data": {
      "text/plain": [
       "[<matplotlib.lines.Line2D at 0x1bbd4070>]"
      ]
     },
     "execution_count": 37,
     "metadata": {},
     "output_type": "execute_result"
    },
    {
     "data": {
      "image/png": "[encoded data removed]",
      "text/plain": [
       "<Figure size 432x288 with 1 Axes>"
      ]
     },
     "metadata": {
      "needs_background": "light"
     },
     "output_type": "display_data"
    }
   ],
   "source": [
    "plt.plot(M)"
   ]
  },
  {
   "cell_type": "code",
   "execution_count": null,
   "id": "powerful-malawi",
   "metadata": {},
   "outputs": [],
   "source": []
  }
 ],
 "metadata": {
  "kernelspec": {
   "display_name": "Python 3",
   "language": "python",
   "name": "python3"
  },
  "language_info": {
   "codemirror_mode": {
    "name": "ipython",
    "version": 3
   },
   "file_extension": ".py",
   "mimetype": "text/x-python",
   "name": "python",
   "nbconvert_exporter": "python",
   "pygments_lexer": "ipython3",
   "version": "3.8.8"
  }
 },
 "nbformat": 4,
 "nbformat_minor": 5
}
