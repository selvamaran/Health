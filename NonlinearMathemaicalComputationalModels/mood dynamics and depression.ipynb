{
 "cells": [
  {
   "cell_type": "code",
   "execution_count": 7,
   "metadata": {
    "collapsed": true
   },
   "outputs": [],
   "source": [
    "import numpy as np\n",
    "import matplotlib.pyplot as plt"
   ]
  },
  {
   "cell_type": "code",
   "execution_count": 176,
   "metadata": {},
   "outputs": [],
   "source": [
    "oevs=0.8\n",
    "sevs=0.8\n",
    "mood=0.8\n",
    "\n",
    "sens =0.8\n",
    "thoughts =0.8\n",
    "beta=1.0\n",
    "\n",
    "\n",
    "coping = 0.5\n",
    "diatheses = 0.5\n",
    "lt_prosp_mood=0.8\n",
    "\n",
    "# oevs=0.999\n",
    "# sevs=0.6\n",
    "# mood=0.6\n",
    "\n",
    "# sens =0.6\n",
    "# thoughts =0.6\n",
    "# beta=1.0\n",
    "\n",
    "\n",
    "# coping = 0.01\n",
    "# diatheses = 0.99\n",
    "# lt_prosp_mood=0.6\n",
    "\n",
    "oo=[]\n",
    "ss=[]\n",
    "mm=[]\n",
    "\n",
    "\n",
    "wt_sevs_mood = 0.7\n",
    "wt_thoughts_mood = 0.3\n",
    "wt_sevs_thoughts = 0.6\n",
    "wt_mood_thoughts = 0.4\n",
    "wt_mood_sens = 0.5\n",
    "wt_thoughts_sens = 0.5\n",
    "\n",
    "\n",
    "\n",
    "dt=0.1\n",
    "for t in range(0,1000):\n",
    "    if t==350:\n",
    "        oevs=0.5\n",
    "        \n",
    "        \n",
    "    beta = beta + ((diatheses*((mood/lt_prosp_mood) - beta)) +coping*(1-beta))  * dt \n",
    "#     st_prosp_mood = beta*lt_prosp_mood\n",
    "    \n",
    "    d_mood = mood - beta * lt_prosp_mood # beta * lt_prosp_mood is st_prosp_mood\n",
    "    if d_mood>=0:\n",
    "        omega=oevs*d_mood\n",
    "    else:\n",
    "        omega=(1-oevs)*d_mood\n",
    "    oevs = oevs -sens * omega * dt\n",
    "   \n",
    "    \n",
    "    \n",
    "    \n",
    "    gamma = diatheses*oevs*thoughts + coping*(1-(1-oevs)*(1-thoughts))\n",
    "    sevs = sevs + (gamma-sevs)* dt\n",
    "    \n",
    "    \n",
    "    phi = sevs * wt_sevs_mood + thoughts*wt_thoughts_mood\n",
    "    if  phi >= mood:\n",
    "        mood = mood + coping*(phi-mood)* dt\n",
    "    else:\n",
    "        mood = mood + diatheses*(phi-mood)* dt\n",
    "        \n",
    "        \n",
    "    phi = sevs * wt_sevs_thoughts + mood*wt_mood_thoughts \n",
    "    if  phi >= thoughts:\n",
    "        thoughts = thoughts + coping*(phi-thoughts)* dt\n",
    "    else:\n",
    "        thoughts = thoughts + diatheses*(phi-thoughts)* dt\n",
    "\n",
    "        \n",
    "        \n",
    "    phi = mood * wt_mood_sens + thoughts*wt_thoughts_sens\n",
    "    if  phi >= sens:\n",
    "        sens = sens + coping*(phi-sens)* dt\n",
    "    else:\n",
    "        sens = sens + diatheses*(phi-sens)* dt\n",
    "        \n",
    "        \n",
    "\n",
    "#     print(oevs)\n",
    "    oo.append(oevs) \n",
    "    ss.append(sevs)\n",
    "    mm.append(mood)\n",
    "        \n",
    "    "
   ]
  },
  {
   "cell_type": "code",
   "execution_count": 177,
   "metadata": {},
   "outputs": [
    {
     "data": {
      "image/png": "[encoded data removed]",
      "text/plain": [
       "<matplotlib.figure.Figure at 0x8fe3080>"
      ]
     },
     "metadata": {},
     "output_type": "display_data"
    }
   ],
   "source": [
    "plt.plot(oo)\n",
    "plt.plot(ss)\n",
    "plt.plot(mm)\n",
    "plt.show()"
   ]
  },
  {
   "cell_type": "code",
   "execution_count": 168,
   "metadata": {},
   "outputs": [
    {
     "data": {
      "text/plain": [
       "(0.9984657201211438, 0.7980472859100561)"
      ]
     },
     "execution_count": 168,
     "metadata": {},
     "output_type": "execute_result"
    }
   ],
   "source": [
    "# kk[0:35]\n",
    "beta,oevs"
   ]
  },
  {
   "cell_type": "code",
   "execution_count": 169,
   "metadata": {},
   "outputs": [
    {
     "data": {
      "text/plain": [
       "0.7975727310918154"
      ]
     },
     "execution_count": 169,
     "metadata": {},
     "output_type": "execute_result"
    }
   ],
   "source": [
    "mood"
   ]
  },
  {
   "cell_type": "code",
   "execution_count": 170,
   "metadata": {},
   "outputs": [
    {
     "data": {
      "text/plain": [
       "1.723681124082832e-05"
      ]
     },
     "execution_count": 170,
     "metadata": {},
     "output_type": "execute_result"
    }
   ],
   "source": [
    "((diatheses*((mood/lt_prosp_mood) - beta)) +coping*(1-beta)) "
   ]
  },
  {
   "cell_type": "code",
   "execution_count": 171,
   "metadata": {},
   "outputs": [
    {
     "data": {
      "text/plain": [
       "0.797586787675341"
      ]
     },
     "execution_count": 171,
     "metadata": {},
     "output_type": "execute_result"
    }
   ],
   "source": [
    "sens"
   ]
  },
  {
   "cell_type": "code",
   "execution_count": 172,
   "metadata": {},
   "outputs": [
    {
     "data": {
      "text/plain": [
       "0.7975708442523682"
      ]
     },
     "execution_count": 172,
     "metadata": {},
     "output_type": "execute_result"
    }
   ],
   "source": [
    "thoughts"
   ]
  },
  {
   "cell_type": "code",
   "execution_count": 173,
   "metadata": {},
   "outputs": [
    {
     "data": {
      "text/plain": [
       "0.7980472859100561"
      ]
     },
     "execution_count": 173,
     "metadata": {},
     "output_type": "execute_result"
    }
   ],
   "source": [
    "oevs"
   ]
  },
  {
   "cell_type": "code",
   "execution_count": null,
   "metadata": {
    "collapsed": true
   },
   "outputs": [],
   "source": []
  }
 ],
 "metadata": {
  "kernelspec": {
   "display_name": "Python 3",
   "language": "python",
   "name": "python3"
  },
  "language_info": {
   "codemirror_mode": {
    "name": "ipython",
    "version": 3
   },
   "file_extension": ".py",
   "mimetype": "text/x-python",
   "name": "python",
   "nbconvert_exporter": "python",
   "pygments_lexer": "ipython3",
   "version": "3.8.8"
  }
 },
 "nbformat": 4,
 "nbformat_minor": 2
}
