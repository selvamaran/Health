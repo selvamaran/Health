{
 "cells": [
  {
   "cell_type": "code",
   "execution_count": 1,
   "id": "controversial-webmaster",
   "metadata": {},
   "outputs": [],
   "source": [
    "import xport\n",
    "import numpy as np\n",
    "import pandas as pd\n",
    "import os"
   ]
  },
  {
   "cell_type": "code",
   "execution_count": 2,
   "id": "analyzed-average",
   "metadata": {},
   "outputs": [],
   "source": [
    "import matplotlib.pyplot as plt\n",
    "import seaborn as sns\n",
    "%matplotlib inline"
   ]
  },
  {
   "cell_type": "code",
   "execution_count": 10,
   "id": "frozen-justice",
   "metadata": {},
   "outputs": [],
   "source": [
    "file_loc = '../nhanes_data_files/'\n",
    "df_BMX_E = pd.read_sas(file_loc +'BMX_E.xpt')\n",
    "df_BIOPRO_E = pd.read_sas(file_loc +'BIOPRO_E.xpt')\n",
    "df_VID_E = pd.read_sas(file_loc +'VID_E.xpt')\n",
    "df_BPX_E = pd.read_sas(file_loc +'BPX_E.xpt')\n",
    "\n",
    "df_BMX_F = pd.read_sas(file_loc +'BMX_F_2009_2010.xpt')\n",
    "df_BIOPRO_F = pd.read_sas(file_loc +'BIOPRO_F_2009_2010.xpt')\n",
    "df_VID_F = pd.read_sas(file_loc +'VID_F_2009_2010.xpt')\n",
    "df_BPX_F = pd.read_sas(file_loc +'BPX_F_2009_2010.xpt')\n",
    "\n",
    "df_BMX_G = pd.read_sas(file_loc +'BMX_G_2011_2012.xpt')\n",
    "df_BIOPRO_G = pd.read_sas(file_loc +'BIOPRO_G_2011_2012.xpt')\n",
    "df_VID_G = pd.read_sas(file_loc +'VID_G_2011_2012.xpt')\n",
    "df_BPX_G = pd.read_sas(file_loc +'BPX_G_2011_2012.xpt')\n",
    "\n",
    "df_BMX_H = pd.read_sas(file_loc +'BMX_H_2013_2014.xpt')\n",
    "df_BIOPRO_H = pd.read_sas(file_loc +'BIOPRO_H_2013_2014.xpt')\n",
    "df_VID_H = pd.read_sas(file_loc +'VID_H_2013_2014.xpt')\n",
    "df_BPX_H = pd.read_sas(file_loc +'BPX_H_2013_2014.xpt')\n",
    "\n",
    "df_BMX_I = pd.read_sas(file_loc +'BMX_I_2015_2016.xpt')\n",
    "df_BIOPRO_I = pd.read_sas(file_loc +'BIOPRO_I_2015_2016.xpt')\n",
    "df_VID_I = pd.read_sas(file_loc +'VID_I_2015_2016.xpt')\n",
    "df_BPX_I = pd.read_sas(file_loc +'BPX_I_2015_2016.xpt')\n",
    "\n",
    "# df_BIOPRO_J = pd.read_sas(file_loc +'BIOPRO_J_2017_2018.xpt')\n",
    "# df_VID_J = pd.read_sas(file_loc +'VID_J_2017_2018.xpt')\n",
    "\n",
    "# df_BMX_2017_2018 = pd.read_sas(file_loc +'BMX_J_2017_2018.xpt')"
   ]
  },
  {
   "cell_type": "code",
   "execution_count": 11,
   "id": "german-intention",
   "metadata": {},
   "outputs": [
    {
     "data": {
      "text/html": [
       "<div>\n",
       "<style scoped>\n",
       "    .dataframe tbody tr th:only-of-type {\n",
       "        vertical-align: middle;\n",
       "    }\n",
       "\n",
       "    .dataframe tbody tr th {\n",
       "        vertical-align: top;\n",
       "    }\n",
       "\n",
       "    .dataframe thead th {\n",
       "        text-align: right;\n",
       "    }\n",
       "</style>\n",
       "<table border=\"1\" class=\"dataframe\">\n",
       "  <thead>\n",
       "    <tr style=\"text-align: right;\">\n",
       "      <th></th>\n",
       "      <th>SEQN</th>\n",
       "      <th>PEASCST1</th>\n",
       "      <th>PEASCTM1</th>\n",
       "      <th>PEASCCT1</th>\n",
       "      <th>BPXCHR</th>\n",
       "      <th>BPAARM</th>\n",
       "      <th>BPACSZ</th>\n",
       "      <th>BPXPLS</th>\n",
       "      <th>BPXPULS</th>\n",
       "      <th>BPXPTY</th>\n",
       "      <th>...</th>\n",
       "      <th>BPAEN1</th>\n",
       "      <th>BPXSY2</th>\n",
       "      <th>BPXDI2</th>\n",
       "      <th>BPAEN2</th>\n",
       "      <th>BPXSY3</th>\n",
       "      <th>BPXDI3</th>\n",
       "      <th>BPAEN3</th>\n",
       "      <th>BPXSY4</th>\n",
       "      <th>BPXDI4</th>\n",
       "      <th>BPAEN4</th>\n",
       "    </tr>\n",
       "  </thead>\n",
       "  <tbody>\n",
       "    <tr>\n",
       "      <th>0</th>\n",
       "      <td>73557.0</td>\n",
       "      <td>1.0</td>\n",
       "      <td>620.0</td>\n",
       "      <td>NaN</td>\n",
       "      <td>NaN</td>\n",
       "      <td>1.0</td>\n",
       "      <td>4.0</td>\n",
       "      <td>86.0</td>\n",
       "      <td>1.0</td>\n",
       "      <td>1.0</td>\n",
       "      <td>...</td>\n",
       "      <td>2.0</td>\n",
       "      <td>114.0</td>\n",
       "      <td>76.0</td>\n",
       "      <td>2.0</td>\n",
       "      <td>102.0</td>\n",
       "      <td>74.0</td>\n",
       "      <td>2.0</td>\n",
       "      <td>NaN</td>\n",
       "      <td>NaN</td>\n",
       "      <td>NaN</td>\n",
       "    </tr>\n",
       "    <tr>\n",
       "      <th>1</th>\n",
       "      <td>73558.0</td>\n",
       "      <td>1.0</td>\n",
       "      <td>766.0</td>\n",
       "      <td>NaN</td>\n",
       "      <td>NaN</td>\n",
       "      <td>1.0</td>\n",
       "      <td>4.0</td>\n",
       "      <td>74.0</td>\n",
       "      <td>1.0</td>\n",
       "      <td>1.0</td>\n",
       "      <td>...</td>\n",
       "      <td>2.0</td>\n",
       "      <td>160.0</td>\n",
       "      <td>80.0</td>\n",
       "      <td>2.0</td>\n",
       "      <td>156.0</td>\n",
       "      <td>42.0</td>\n",
       "      <td>2.0</td>\n",
       "      <td>NaN</td>\n",
       "      <td>NaN</td>\n",
       "      <td>NaN</td>\n",
       "    </tr>\n",
       "    <tr>\n",
       "      <th>2</th>\n",
       "      <td>73559.0</td>\n",
       "      <td>1.0</td>\n",
       "      <td>665.0</td>\n",
       "      <td>NaN</td>\n",
       "      <td>NaN</td>\n",
       "      <td>1.0</td>\n",
       "      <td>4.0</td>\n",
       "      <td>68.0</td>\n",
       "      <td>1.0</td>\n",
       "      <td>1.0</td>\n",
       "      <td>...</td>\n",
       "      <td>2.0</td>\n",
       "      <td>140.0</td>\n",
       "      <td>76.0</td>\n",
       "      <td>2.0</td>\n",
       "      <td>146.0</td>\n",
       "      <td>80.0</td>\n",
       "      <td>2.0</td>\n",
       "      <td>NaN</td>\n",
       "      <td>NaN</td>\n",
       "      <td>NaN</td>\n",
       "    </tr>\n",
       "  </tbody>\n",
       "</table>\n",
       "<p>3 rows × 23 columns</p>\n",
       "</div>"
      ],
      "text/plain": [
       "      SEQN  PEASCST1  PEASCTM1  PEASCCT1  BPXCHR  BPAARM  BPACSZ  BPXPLS  \\\n",
       "0  73557.0       1.0     620.0       NaN     NaN     1.0     4.0    86.0   \n",
       "1  73558.0       1.0     766.0       NaN     NaN     1.0     4.0    74.0   \n",
       "2  73559.0       1.0     665.0       NaN     NaN     1.0     4.0    68.0   \n",
       "\n",
       "   BPXPULS  BPXPTY  ...  BPAEN1  BPXSY2  BPXDI2  BPAEN2  BPXSY3  BPXDI3  \\\n",
       "0      1.0     1.0  ...     2.0   114.0    76.0     2.0   102.0    74.0   \n",
       "1      1.0     1.0  ...     2.0   160.0    80.0     2.0   156.0    42.0   \n",
       "2      1.0     1.0  ...     2.0   140.0    76.0     2.0   146.0    80.0   \n",
       "\n",
       "   BPAEN3  BPXSY4  BPXDI4  BPAEN4  \n",
       "0     2.0     NaN     NaN     NaN  \n",
       "1     2.0     NaN     NaN     NaN  \n",
       "2     2.0     NaN     NaN     NaN  \n",
       "\n",
       "[3 rows x 23 columns]"
      ]
     },
     "execution_count": 11,
     "metadata": {},
     "output_type": "execute_result"
    }
   ],
   "source": [
    "df_BPX_H.head(3)"
   ]
  },
  {
   "cell_type": "code",
   "execution_count": 12,
   "id": "gothic-earth",
   "metadata": {},
   "outputs": [
    {
     "data": {
      "text/html": [
       "<div>\n",
       "<style scoped>\n",
       "    .dataframe tbody tr th:only-of-type {\n",
       "        vertical-align: middle;\n",
       "    }\n",
       "\n",
       "    .dataframe tbody tr th {\n",
       "        vertical-align: top;\n",
       "    }\n",
       "\n",
       "    .dataframe thead th {\n",
       "        text-align: right;\n",
       "    }\n",
       "</style>\n",
       "<table border=\"1\" class=\"dataframe\">\n",
       "  <thead>\n",
       "    <tr style=\"text-align: right;\">\n",
       "      <th></th>\n",
       "      <th>SEQN</th>\n",
       "      <th>BMXWT</th>\n",
       "      <th>BMXBMI</th>\n",
       "      <th>BMXWAIST</th>\n",
       "    </tr>\n",
       "  </thead>\n",
       "  <tbody>\n",
       "    <tr>\n",
       "      <th>0</th>\n",
       "      <td>83732.0</td>\n",
       "      <td>94.8</td>\n",
       "      <td>27.8</td>\n",
       "      <td>101.1</td>\n",
       "    </tr>\n",
       "    <tr>\n",
       "      <th>1</th>\n",
       "      <td>83733.0</td>\n",
       "      <td>90.4</td>\n",
       "      <td>30.8</td>\n",
       "      <td>107.9</td>\n",
       "    </tr>\n",
       "    <tr>\n",
       "      <th>2</th>\n",
       "      <td>83734.0</td>\n",
       "      <td>83.4</td>\n",
       "      <td>28.8</td>\n",
       "      <td>116.5</td>\n",
       "    </tr>\n",
       "  </tbody>\n",
       "</table>\n",
       "</div>"
      ],
      "text/plain": [
       "      SEQN  BMXWT  BMXBMI  BMXWAIST\n",
       "0  83732.0   94.8    27.8     101.1\n",
       "1  83733.0   90.4    30.8     107.9\n",
       "2  83734.0   83.4    28.8     116.5"
      ]
     },
     "execution_count": 12,
     "metadata": {},
     "output_type": "execute_result"
    }
   ],
   "source": [
    "dfbmi_E=df_BMX_E[['SEQN','BMXWT','BMXBMI','BMXWAIST']].copy()\n",
    "dfbmi_F=df_BMX_F[['SEQN','BMXWT','BMXBMI','BMXWAIST']].copy()\n",
    "dfbmi_G=df_BMX_G[['SEQN','BMXWT','BMXBMI','BMXWAIST']].copy()\n",
    "dfbmi_H=df_BMX_H[['SEQN','BMXWT','BMXBMI','BMXWAIST']].copy()\n",
    "dfbmi_I=df_BMX_I[['SEQN','BMXWT','BMXBMI','BMXWAIST']].copy()\n",
    "dfbmi_I.head(3)"
   ]
  },
  {
   "cell_type": "code",
   "execution_count": 13,
   "id": "worse-serum",
   "metadata": {},
   "outputs": [
    {
     "data": {
      "text/html": [
       "<div>\n",
       "<style scoped>\n",
       "    .dataframe tbody tr th:only-of-type {\n",
       "        vertical-align: middle;\n",
       "    }\n",
       "\n",
       "    .dataframe tbody tr th {\n",
       "        vertical-align: top;\n",
       "    }\n",
       "\n",
       "    .dataframe thead th {\n",
       "        text-align: right;\n",
       "    }\n",
       "</style>\n",
       "<table border=\"1\" class=\"dataframe\">\n",
       "  <thead>\n",
       "    <tr style=\"text-align: right;\">\n",
       "      <th></th>\n",
       "      <th>SEQN</th>\n",
       "      <th>LBXSAPSI</th>\n",
       "    </tr>\n",
       "  </thead>\n",
       "  <tbody>\n",
       "    <tr>\n",
       "      <th>0</th>\n",
       "      <td>41475.0</td>\n",
       "      <td>113.0</td>\n",
       "    </tr>\n",
       "    <tr>\n",
       "      <th>1</th>\n",
       "      <td>41477.0</td>\n",
       "      <td>44.0</td>\n",
       "    </tr>\n",
       "    <tr>\n",
       "      <th>2</th>\n",
       "      <td>41479.0</td>\n",
       "      <td>78.0</td>\n",
       "    </tr>\n",
       "    <tr>\n",
       "      <th>3</th>\n",
       "      <td>41481.0</td>\n",
       "      <td>NaN</td>\n",
       "    </tr>\n",
       "    <tr>\n",
       "      <th>4</th>\n",
       "      <td>41482.0</td>\n",
       "      <td>85.0</td>\n",
       "    </tr>\n",
       "  </tbody>\n",
       "</table>\n",
       "</div>"
      ],
      "text/plain": [
       "      SEQN  LBXSAPSI\n",
       "0  41475.0     113.0\n",
       "1  41477.0      44.0\n",
       "2  41479.0      78.0\n",
       "3  41481.0       NaN\n",
       "4  41482.0      85.0"
      ]
     },
     "execution_count": 13,
     "metadata": {},
     "output_type": "execute_result"
    }
   ],
   "source": [
    "df_ALP_E=df_BIOPRO_E[['SEQN','LBXSAPSI']].copy()\n",
    "df_ALP_F=df_BIOPRO_F[['SEQN','LBXSAPSI']].copy()\n",
    "df_ALP_G=df_BIOPRO_G[['SEQN','LBXSAPSI']].copy()\n",
    "df_ALP_H=df_BIOPRO_H[['SEQN','LBXSAPSI']].copy()\n",
    "df_ALP_I=df_BIOPRO_I[['SEQN','LBXSAPSI']].copy()\n",
    "df_ALP_E.head()"
   ]
  },
  {
   "cell_type": "code",
   "execution_count": 14,
   "id": "genuine-charity",
   "metadata": {},
   "outputs": [
    {
     "data": {
      "text/html": [
       "<div>\n",
       "<style scoped>\n",
       "    .dataframe tbody tr th:only-of-type {\n",
       "        vertical-align: middle;\n",
       "    }\n",
       "\n",
       "    .dataframe tbody tr th {\n",
       "        vertical-align: top;\n",
       "    }\n",
       "\n",
       "    .dataframe thead th {\n",
       "        text-align: right;\n",
       "    }\n",
       "</style>\n",
       "<table border=\"1\" class=\"dataframe\">\n",
       "  <thead>\n",
       "    <tr style=\"text-align: right;\">\n",
       "      <th></th>\n",
       "      <th>SEQN</th>\n",
       "      <th>LBXVIDMS</th>\n",
       "      <th>LBDVIDLC</th>\n",
       "      <th>LBXVD2MS</th>\n",
       "      <th>LBDVD2LC</th>\n",
       "      <th>LBXVD3MS</th>\n",
       "      <th>LBDVD3LC</th>\n",
       "      <th>LBXVE3MS</th>\n",
       "      <th>LBDVE3LC</th>\n",
       "    </tr>\n",
       "  </thead>\n",
       "  <tbody>\n",
       "    <tr>\n",
       "      <th>0</th>\n",
       "      <td>41475.0</td>\n",
       "      <td>58.8</td>\n",
       "      <td>5.397605e-79</td>\n",
       "      <td>1.45</td>\n",
       "      <td>1.0</td>\n",
       "      <td>57.3</td>\n",
       "      <td>5.397605e-79</td>\n",
       "      <td>4.17</td>\n",
       "      <td>5.397605e-79</td>\n",
       "    </tr>\n",
       "    <tr>\n",
       "      <th>1</th>\n",
       "      <td>41476.0</td>\n",
       "      <td>80.9</td>\n",
       "      <td>5.397605e-79</td>\n",
       "      <td>1.45</td>\n",
       "      <td>1.0</td>\n",
       "      <td>79.4</td>\n",
       "      <td>5.397605e-79</td>\n",
       "      <td>5.52</td>\n",
       "      <td>5.397605e-79</td>\n",
       "    </tr>\n",
       "    <tr>\n",
       "      <th>2</th>\n",
       "      <td>41477.0</td>\n",
       "      <td>81.8</td>\n",
       "      <td>5.397605e-79</td>\n",
       "      <td>1.45</td>\n",
       "      <td>1.0</td>\n",
       "      <td>80.3</td>\n",
       "      <td>5.397605e-79</td>\n",
       "      <td>2.42</td>\n",
       "      <td>5.397605e-79</td>\n",
       "    </tr>\n",
       "    <tr>\n",
       "      <th>3</th>\n",
       "      <td>41478.0</td>\n",
       "      <td>NaN</td>\n",
       "      <td>NaN</td>\n",
       "      <td>NaN</td>\n",
       "      <td>NaN</td>\n",
       "      <td>NaN</td>\n",
       "      <td>NaN</td>\n",
       "      <td>NaN</td>\n",
       "      <td>NaN</td>\n",
       "    </tr>\n",
       "    <tr>\n",
       "      <th>4</th>\n",
       "      <td>41479.0</td>\n",
       "      <td>78.4</td>\n",
       "      <td>5.397605e-79</td>\n",
       "      <td>1.45</td>\n",
       "      <td>1.0</td>\n",
       "      <td>76.9</td>\n",
       "      <td>5.397605e-79</td>\n",
       "      <td>3.07</td>\n",
       "      <td>5.397605e-79</td>\n",
       "    </tr>\n",
       "  </tbody>\n",
       "</table>\n",
       "</div>"
      ],
      "text/plain": [
       "      SEQN  LBXVIDMS      LBDVIDLC  LBXVD2MS  LBDVD2LC  LBXVD3MS  \\\n",
       "0  41475.0      58.8  5.397605e-79      1.45       1.0      57.3   \n",
       "1  41476.0      80.9  5.397605e-79      1.45       1.0      79.4   \n",
       "2  41477.0      81.8  5.397605e-79      1.45       1.0      80.3   \n",
       "3  41478.0       NaN           NaN       NaN       NaN       NaN   \n",
       "4  41479.0      78.4  5.397605e-79      1.45       1.0      76.9   \n",
       "\n",
       "       LBDVD3LC  LBXVE3MS      LBDVE3LC  \n",
       "0  5.397605e-79      4.17  5.397605e-79  \n",
       "1  5.397605e-79      5.52  5.397605e-79  \n",
       "2  5.397605e-79      2.42  5.397605e-79  \n",
       "3           NaN       NaN           NaN  \n",
       "4  5.397605e-79      3.07  5.397605e-79  "
      ]
     },
     "execution_count": 14,
     "metadata": {},
     "output_type": "execute_result"
    }
   ],
   "source": [
    "df_VID_E.head()"
   ]
  },
  {
   "cell_type": "code",
   "execution_count": 17,
   "id": "separate-clearance",
   "metadata": {},
   "outputs": [
    {
     "data": {
      "text/html": [
       "<div>\n",
       "<style scoped>\n",
       "    .dataframe tbody tr th:only-of-type {\n",
       "        vertical-align: middle;\n",
       "    }\n",
       "\n",
       "    .dataframe tbody tr th {\n",
       "        vertical-align: top;\n",
       "    }\n",
       "\n",
       "    .dataframe thead th {\n",
       "        text-align: right;\n",
       "    }\n",
       "</style>\n",
       "<table border=\"1\" class=\"dataframe\">\n",
       "  <thead>\n",
       "    <tr style=\"text-align: right;\">\n",
       "      <th></th>\n",
       "      <th>SEQN</th>\n",
       "      <th>LBXVIDMS</th>\n",
       "      <th>LBXSAPSI</th>\n",
       "      <th>BMXWT</th>\n",
       "      <th>BMXBMI</th>\n",
       "      <th>BMXWAIST</th>\n",
       "      <th>BPXPLS</th>\n",
       "      <th>loge_LBXSAPSI</th>\n",
       "    </tr>\n",
       "  </thead>\n",
       "  <tbody>\n",
       "    <tr>\n",
       "      <th>0</th>\n",
       "      <td>41475.0</td>\n",
       "      <td>58.8</td>\n",
       "      <td>113.0</td>\n",
       "      <td>138.9</td>\n",
       "      <td>58.04</td>\n",
       "      <td>156.3</td>\n",
       "      <td>66.0</td>\n",
       "      <td>4.727388</td>\n",
       "    </tr>\n",
       "    <tr>\n",
       "      <th>1</th>\n",
       "      <td>41477.0</td>\n",
       "      <td>81.8</td>\n",
       "      <td>44.0</td>\n",
       "      <td>83.9</td>\n",
       "      <td>30.05</td>\n",
       "      <td>109.5</td>\n",
       "      <td>78.0</td>\n",
       "      <td>3.784190</td>\n",
       "    </tr>\n",
       "    <tr>\n",
       "      <th>2</th>\n",
       "      <td>41479.0</td>\n",
       "      <td>78.4</td>\n",
       "      <td>78.0</td>\n",
       "      <td>65.7</td>\n",
       "      <td>27.56</td>\n",
       "      <td>95.4</td>\n",
       "      <td>62.0</td>\n",
       "      <td>4.356709</td>\n",
       "    </tr>\n",
       "    <tr>\n",
       "      <th>3</th>\n",
       "      <td>41481.0</td>\n",
       "      <td>NaN</td>\n",
       "      <td>NaN</td>\n",
       "      <td>77.9</td>\n",
       "      <td>23.34</td>\n",
       "      <td>79.5</td>\n",
       "      <td>52.0</td>\n",
       "      <td>NaN</td>\n",
       "    </tr>\n",
       "    <tr>\n",
       "      <th>4</th>\n",
       "      <td>41482.0</td>\n",
       "      <td>61.9</td>\n",
       "      <td>85.0</td>\n",
       "      <td>101.6</td>\n",
       "      <td>33.64</td>\n",
       "      <td>117.0</td>\n",
       "      <td>76.0</td>\n",
       "      <td>4.442651</td>\n",
       "    </tr>\n",
       "  </tbody>\n",
       "</table>\n",
       "</div>"
      ],
      "text/plain": [
       "      SEQN  LBXVIDMS  LBXSAPSI  BMXWT  BMXBMI  BMXWAIST  BPXPLS  loge_LBXSAPSI\n",
       "0  41475.0      58.8     113.0  138.9   58.04     156.3    66.0       4.727388\n",
       "1  41477.0      81.8      44.0   83.9   30.05     109.5    78.0       3.784190\n",
       "2  41479.0      78.4      78.0   65.7   27.56      95.4    62.0       4.356709\n",
       "3  41481.0       NaN       NaN   77.9   23.34      79.5    52.0            NaN\n",
       "4  41482.0      61.9      85.0  101.6   33.64     117.0    76.0       4.442651"
      ]
     },
     "execution_count": 17,
     "metadata": {},
     "output_type": "execute_result"
    }
   ],
   "source": [
    "df_VID_SALP_E = df_VID_E[['SEQN','LBXVIDMS']].merge(df_ALP_E).merge(dfbmi_E).merge(df_BPX_E[['SEQN','BPXPLS']])\n",
    "df_VID_SALP_E['loge_LBXSAPSI']=np.log(df_VID_SALP_E['LBXSAPSI'])\n",
    "\n",
    "df_VID_SALP_F = df_VID_F[['SEQN','LBXVIDMS']].merge(df_ALP_F).merge(dfbmi_F).merge(df_BPX_F[['SEQN','BPXPLS']])\n",
    "df_VID_SALP_F['loge_LBXSAPSI']=np.log(df_VID_SALP_F['LBXSAPSI'])\n",
    "\n",
    "df_VID_SALP_G = df_VID_G[['SEQN','LBXVIDMS']].merge(df_ALP_G).merge(dfbmi_G).merge(df_BPX_G[['SEQN','BPXPLS']])\n",
    "df_VID_SALP_G['loge_LBXSAPSI']=np.log(df_VID_SALP_G['LBXSAPSI'])\n",
    "\n",
    "df_VID_SALP_H = df_VID_H[['SEQN','LBXVIDMS']].merge(df_ALP_H).merge(dfbmi_H).merge(df_BPX_H[['SEQN','BPXPLS']])\n",
    "df_VID_SALP_H['loge_LBXSAPSI']=np.log(df_VID_SALP_H['LBXSAPSI'])\n",
    "\n",
    "df_VID_SALP_I = df_VID_I[['SEQN','LBXVIDMS']].merge(df_ALP_I).merge(dfbmi_I).merge(df_BPX_I[['SEQN','BPXPLS']])\n",
    "df_VID_SALP_I['loge_LBXSAPSI']=np.log(df_VID_SALP_I['LBXSAPSI'])\n",
    "df_VID_SALP_E.head()"
   ]
  },
  {
   "cell_type": "code",
   "execution_count": 19,
   "id": "welsh-elevation",
   "metadata": {},
   "outputs": [
    {
     "data": {
      "text/html": [
       "<div>\n",
       "<style scoped>\n",
       "    .dataframe tbody tr th:only-of-type {\n",
       "        vertical-align: middle;\n",
       "    }\n",
       "\n",
       "    .dataframe tbody tr th {\n",
       "        vertical-align: top;\n",
       "    }\n",
       "\n",
       "    .dataframe thead th {\n",
       "        text-align: right;\n",
       "    }\n",
       "</style>\n",
       "<table border=\"1\" class=\"dataframe\">\n",
       "  <thead>\n",
       "    <tr style=\"text-align: right;\">\n",
       "      <th></th>\n",
       "      <th>LBXVIDMS</th>\n",
       "      <th>LBXSAPSI</th>\n",
       "      <th>BMXWT</th>\n",
       "      <th>BMXBMI</th>\n",
       "      <th>BMXWAIST</th>\n",
       "      <th>BPXPLS</th>\n",
       "      <th>loge_LBXSAPSI</th>\n",
       "    </tr>\n",
       "  </thead>\n",
       "  <tbody>\n",
       "    <tr>\n",
       "      <th>count</th>\n",
       "      <td>5184.000000</td>\n",
       "      <td>5184.000000</td>\n",
       "      <td>5184.000000</td>\n",
       "      <td>5184.000000</td>\n",
       "      <td>5184.000000</td>\n",
       "      <td>5184.000000</td>\n",
       "      <td>5184.000000</td>\n",
       "    </tr>\n",
       "    <tr>\n",
       "      <th>mean</th>\n",
       "      <td>61.322967</td>\n",
       "      <td>81.619213</td>\n",
       "      <td>78.853318</td>\n",
       "      <td>28.158769</td>\n",
       "      <td>96.453395</td>\n",
       "      <td>73.565972</td>\n",
       "      <td>4.293537</td>\n",
       "    </tr>\n",
       "    <tr>\n",
       "      <th>std</th>\n",
       "      <td>24.778342</td>\n",
       "      <td>51.091774</td>\n",
       "      <td>21.138545</td>\n",
       "      <td>6.688140</td>\n",
       "      <td>16.979760</td>\n",
       "      <td>12.548924</td>\n",
       "      <td>0.421435</td>\n",
       "    </tr>\n",
       "    <tr>\n",
       "      <th>min</th>\n",
       "      <td>6.310000</td>\n",
       "      <td>15.000000</td>\n",
       "      <td>25.100000</td>\n",
       "      <td>13.830000</td>\n",
       "      <td>55.100000</td>\n",
       "      <td>42.000000</td>\n",
       "      <td>2.708050</td>\n",
       "    </tr>\n",
       "    <tr>\n",
       "      <th>25%</th>\n",
       "      <td>43.375000</td>\n",
       "      <td>56.000000</td>\n",
       "      <td>64.000000</td>\n",
       "      <td>23.490000</td>\n",
       "      <td>84.000000</td>\n",
       "      <td>64.000000</td>\n",
       "      <td>4.025352</td>\n",
       "    </tr>\n",
       "    <tr>\n",
       "      <th>50%</th>\n",
       "      <td>60.200000</td>\n",
       "      <td>70.000000</td>\n",
       "      <td>76.300000</td>\n",
       "      <td>27.330000</td>\n",
       "      <td>95.600000</td>\n",
       "      <td>72.000000</td>\n",
       "      <td>4.248495</td>\n",
       "    </tr>\n",
       "    <tr>\n",
       "      <th>75%</th>\n",
       "      <td>76.200000</td>\n",
       "      <td>87.000000</td>\n",
       "      <td>90.600000</td>\n",
       "      <td>31.645000</td>\n",
       "      <td>107.000000</td>\n",
       "      <td>82.000000</td>\n",
       "      <td>4.465908</td>\n",
       "    </tr>\n",
       "    <tr>\n",
       "      <th>max</th>\n",
       "      <td>213.000000</td>\n",
       "      <td>679.000000</td>\n",
       "      <td>218.200000</td>\n",
       "      <td>73.430000</td>\n",
       "      <td>178.200000</td>\n",
       "      <td>224.000000</td>\n",
       "      <td>6.520621</td>\n",
       "    </tr>\n",
       "  </tbody>\n",
       "</table>\n",
       "</div>"
      ],
      "text/plain": [
       "          LBXVIDMS     LBXSAPSI        BMXWT       BMXBMI     BMXWAIST  \\\n",
       "count  5184.000000  5184.000000  5184.000000  5184.000000  5184.000000   \n",
       "mean     61.322967    81.619213    78.853318    28.158769    96.453395   \n",
       "std      24.778342    51.091774    21.138545     6.688140    16.979760   \n",
       "min       6.310000    15.000000    25.100000    13.830000    55.100000   \n",
       "25%      43.375000    56.000000    64.000000    23.490000    84.000000   \n",
       "50%      60.200000    70.000000    76.300000    27.330000    95.600000   \n",
       "75%      76.200000    87.000000    90.600000    31.645000   107.000000   \n",
       "max     213.000000   679.000000   218.200000    73.430000   178.200000   \n",
       "\n",
       "            BPXPLS  loge_LBXSAPSI  \n",
       "count  5184.000000    5184.000000  \n",
       "mean     73.565972       4.293537  \n",
       "std      12.548924       0.421435  \n",
       "min      42.000000       2.708050  \n",
       "25%      64.000000       4.025352  \n",
       "50%      72.000000       4.248495  \n",
       "75%      82.000000       4.465908  \n",
       "max     224.000000       6.520621  "
      ]
     },
     "execution_count": 19,
     "metadata": {},
     "output_type": "execute_result"
    }
   ],
   "source": [
    "df_VID_SALP_E[['LBXVIDMS','LBXSAPSI','BMXWT','BMXBMI','BMXWAIST','BPXPLS','loge_LBXSAPSI']].dropna().describe()"
   ]
  },
  {
   "cell_type": "code",
   "execution_count": 20,
   "id": "wooden-cardiff",
   "metadata": {},
   "outputs": [
    {
     "data": {
      "text/html": [
       "<div>\n",
       "<style scoped>\n",
       "    .dataframe tbody tr th:only-of-type {\n",
       "        vertical-align: middle;\n",
       "    }\n",
       "\n",
       "    .dataframe tbody tr th {\n",
       "        vertical-align: top;\n",
       "    }\n",
       "\n",
       "    .dataframe thead th {\n",
       "        text-align: right;\n",
       "    }\n",
       "</style>\n",
       "<table border=\"1\" class=\"dataframe\">\n",
       "  <thead>\n",
       "    <tr style=\"text-align: right;\">\n",
       "      <th></th>\n",
       "      <th>LBXVIDMS</th>\n",
       "      <th>LBXSAPSI</th>\n",
       "      <th>BMXWT</th>\n",
       "      <th>BMXBMI</th>\n",
       "      <th>BMXWAIST</th>\n",
       "      <th>BPXPLS</th>\n",
       "      <th>loge_LBXSAPSI</th>\n",
       "    </tr>\n",
       "  </thead>\n",
       "  <tbody>\n",
       "    <tr>\n",
       "      <th>LBXVIDMS</th>\n",
       "      <td>1.000000</td>\n",
       "      <td>-0.068738</td>\n",
       "      <td>-0.144274</td>\n",
       "      <td>-0.206333</td>\n",
       "      <td>-0.135711</td>\n",
       "      <td>-0.061102</td>\n",
       "      <td>-0.100165</td>\n",
       "    </tr>\n",
       "    <tr>\n",
       "      <th>LBXSAPSI</th>\n",
       "      <td>-0.068738</td>\n",
       "      <td>1.000000</td>\n",
       "      <td>-0.163417</td>\n",
       "      <td>-0.141521</td>\n",
       "      <td>-0.181364</td>\n",
       "      <td>0.080986</td>\n",
       "      <td>0.915772</td>\n",
       "    </tr>\n",
       "    <tr>\n",
       "      <th>BMXWT</th>\n",
       "      <td>-0.144274</td>\n",
       "      <td>-0.163417</td>\n",
       "      <td>1.000000</td>\n",
       "      <td>0.884747</td>\n",
       "      <td>0.894709</td>\n",
       "      <td>0.056214</td>\n",
       "      <td>-0.116898</td>\n",
       "    </tr>\n",
       "    <tr>\n",
       "      <th>BMXBMI</th>\n",
       "      <td>-0.206333</td>\n",
       "      <td>-0.141521</td>\n",
       "      <td>0.884747</td>\n",
       "      <td>1.000000</td>\n",
       "      <td>0.901024</td>\n",
       "      <td>0.112680</td>\n",
       "      <td>-0.084197</td>\n",
       "    </tr>\n",
       "    <tr>\n",
       "      <th>BMXWAIST</th>\n",
       "      <td>-0.135711</td>\n",
       "      <td>-0.181364</td>\n",
       "      <td>0.894709</td>\n",
       "      <td>0.901024</td>\n",
       "      <td>1.000000</td>\n",
       "      <td>0.078670</td>\n",
       "      <td>-0.117772</td>\n",
       "    </tr>\n",
       "    <tr>\n",
       "      <th>BPXPLS</th>\n",
       "      <td>-0.061102</td>\n",
       "      <td>0.080986</td>\n",
       "      <td>0.056214</td>\n",
       "      <td>0.112680</td>\n",
       "      <td>0.078670</td>\n",
       "      <td>1.000000</td>\n",
       "      <td>0.092384</td>\n",
       "    </tr>\n",
       "    <tr>\n",
       "      <th>loge_LBXSAPSI</th>\n",
       "      <td>-0.100165</td>\n",
       "      <td>0.915772</td>\n",
       "      <td>-0.116898</td>\n",
       "      <td>-0.084197</td>\n",
       "      <td>-0.117772</td>\n",
       "      <td>0.092384</td>\n",
       "      <td>1.000000</td>\n",
       "    </tr>\n",
       "  </tbody>\n",
       "</table>\n",
       "</div>"
      ],
      "text/plain": [
       "               LBXVIDMS  LBXSAPSI     BMXWT    BMXBMI  BMXWAIST    BPXPLS  \\\n",
       "LBXVIDMS       1.000000 -0.068738 -0.144274 -0.206333 -0.135711 -0.061102   \n",
       "LBXSAPSI      -0.068738  1.000000 -0.163417 -0.141521 -0.181364  0.080986   \n",
       "BMXWT         -0.144274 -0.163417  1.000000  0.884747  0.894709  0.056214   \n",
       "BMXBMI        -0.206333 -0.141521  0.884747  1.000000  0.901024  0.112680   \n",
       "BMXWAIST      -0.135711 -0.181364  0.894709  0.901024  1.000000  0.078670   \n",
       "BPXPLS        -0.061102  0.080986  0.056214  0.112680  0.078670  1.000000   \n",
       "loge_LBXSAPSI -0.100165  0.915772 -0.116898 -0.084197 -0.117772  0.092384   \n",
       "\n",
       "               loge_LBXSAPSI  \n",
       "LBXVIDMS           -0.100165  \n",
       "LBXSAPSI            0.915772  \n",
       "BMXWT              -0.116898  \n",
       "BMXBMI             -0.084197  \n",
       "BMXWAIST           -0.117772  \n",
       "BPXPLS              0.092384  \n",
       "loge_LBXSAPSI       1.000000  "
      ]
     },
     "execution_count": 20,
     "metadata": {},
     "output_type": "execute_result"
    }
   ],
   "source": [
    "df_VID_SALP_E[['LBXVIDMS','LBXSAPSI','BMXWT','BMXBMI','BMXWAIST','BPXPLS','loge_LBXSAPSI']].dropna().corr()"
   ]
  },
  {
   "cell_type": "code",
   "execution_count": 21,
   "id": "textile-landscape",
   "metadata": {},
   "outputs": [
    {
     "data": {
      "text/html": [
       "<div>\n",
       "<style scoped>\n",
       "    .dataframe tbody tr th:only-of-type {\n",
       "        vertical-align: middle;\n",
       "    }\n",
       "\n",
       "    .dataframe tbody tr th {\n",
       "        vertical-align: top;\n",
       "    }\n",
       "\n",
       "    .dataframe thead th {\n",
       "        text-align: right;\n",
       "    }\n",
       "</style>\n",
       "<table border=\"1\" class=\"dataframe\">\n",
       "  <thead>\n",
       "    <tr style=\"text-align: right;\">\n",
       "      <th></th>\n",
       "      <th>LBXVIDMS</th>\n",
       "      <th>LBXSAPSI</th>\n",
       "      <th>BMXWT</th>\n",
       "      <th>BMXBMI</th>\n",
       "      <th>BMXWAIST</th>\n",
       "      <th>BPXPLS</th>\n",
       "      <th>loge_LBXSAPSI</th>\n",
       "    </tr>\n",
       "  </thead>\n",
       "  <tbody>\n",
       "    <tr>\n",
       "      <th>count</th>\n",
       "      <td>6374.000000</td>\n",
       "      <td>6374.000000</td>\n",
       "      <td>6374.000000</td>\n",
       "      <td>6374.000000</td>\n",
       "      <td>6374.000000</td>\n",
       "      <td>6374.000000</td>\n",
       "      <td>6374.000000</td>\n",
       "    </tr>\n",
       "    <tr>\n",
       "      <th>mean</th>\n",
       "      <td>62.768450</td>\n",
       "      <td>80.160025</td>\n",
       "      <td>79.172686</td>\n",
       "      <td>28.223238</td>\n",
       "      <td>96.301992</td>\n",
       "      <td>72.794478</td>\n",
       "      <td>4.281053</td>\n",
       "    </tr>\n",
       "    <tr>\n",
       "      <th>std</th>\n",
       "      <td>25.262375</td>\n",
       "      <td>48.016229</td>\n",
       "      <td>21.450565</td>\n",
       "      <td>6.775534</td>\n",
       "      <td>17.051939</td>\n",
       "      <td>12.120432</td>\n",
       "      <td>0.413542</td>\n",
       "    </tr>\n",
       "    <tr>\n",
       "      <th>min</th>\n",
       "      <td>10.800000</td>\n",
       "      <td>21.000000</td>\n",
       "      <td>28.000000</td>\n",
       "      <td>13.180000</td>\n",
       "      <td>52.000000</td>\n",
       "      <td>40.000000</td>\n",
       "      <td>3.044522</td>\n",
       "    </tr>\n",
       "    <tr>\n",
       "      <th>25%</th>\n",
       "      <td>44.725000</td>\n",
       "      <td>56.000000</td>\n",
       "      <td>64.000000</td>\n",
       "      <td>23.410000</td>\n",
       "      <td>83.500000</td>\n",
       "      <td>64.000000</td>\n",
       "      <td>4.025352</td>\n",
       "    </tr>\n",
       "    <tr>\n",
       "      <th>50%</th>\n",
       "      <td>60.600000</td>\n",
       "      <td>69.000000</td>\n",
       "      <td>76.200000</td>\n",
       "      <td>27.230000</td>\n",
       "      <td>95.400000</td>\n",
       "      <td>72.000000</td>\n",
       "      <td>4.234107</td>\n",
       "    </tr>\n",
       "    <tr>\n",
       "      <th>75%</th>\n",
       "      <td>77.700000</td>\n",
       "      <td>87.000000</td>\n",
       "      <td>91.075000</td>\n",
       "      <td>31.770000</td>\n",
       "      <td>107.000000</td>\n",
       "      <td>80.000000</td>\n",
       "      <td>4.465908</td>\n",
       "    </tr>\n",
       "    <tr>\n",
       "      <th>max</th>\n",
       "      <td>262.000000</td>\n",
       "      <td>721.000000</td>\n",
       "      <td>239.400000</td>\n",
       "      <td>84.870000</td>\n",
       "      <td>179.000000</td>\n",
       "      <td>124.000000</td>\n",
       "      <td>6.580639</td>\n",
       "    </tr>\n",
       "  </tbody>\n",
       "</table>\n",
       "</div>"
      ],
      "text/plain": [
       "          LBXVIDMS     LBXSAPSI        BMXWT       BMXBMI     BMXWAIST  \\\n",
       "count  6374.000000  6374.000000  6374.000000  6374.000000  6374.000000   \n",
       "mean     62.768450    80.160025    79.172686    28.223238    96.301992   \n",
       "std      25.262375    48.016229    21.450565     6.775534    17.051939   \n",
       "min      10.800000    21.000000    28.000000    13.180000    52.000000   \n",
       "25%      44.725000    56.000000    64.000000    23.410000    83.500000   \n",
       "50%      60.600000    69.000000    76.200000    27.230000    95.400000   \n",
       "75%      77.700000    87.000000    91.075000    31.770000   107.000000   \n",
       "max     262.000000   721.000000   239.400000    84.870000   179.000000   \n",
       "\n",
       "            BPXPLS  loge_LBXSAPSI  \n",
       "count  6374.000000    6374.000000  \n",
       "mean     72.794478       4.281053  \n",
       "std      12.120432       0.413542  \n",
       "min      40.000000       3.044522  \n",
       "25%      64.000000       4.025352  \n",
       "50%      72.000000       4.234107  \n",
       "75%      80.000000       4.465908  \n",
       "max     124.000000       6.580639  "
      ]
     },
     "execution_count": 21,
     "metadata": {},
     "output_type": "execute_result"
    }
   ],
   "source": [
    "df_VID_SALP_F[['LBXVIDMS','LBXSAPSI','BMXWT','BMXBMI','BMXWAIST','BPXPLS','loge_LBXSAPSI']].dropna().describe()"
   ]
  },
  {
   "cell_type": "code",
   "execution_count": 22,
   "id": "lightweight-moldova",
   "metadata": {},
   "outputs": [
    {
     "data": {
      "text/html": [
       "<div>\n",
       "<style scoped>\n",
       "    .dataframe tbody tr th:only-of-type {\n",
       "        vertical-align: middle;\n",
       "    }\n",
       "\n",
       "    .dataframe tbody tr th {\n",
       "        vertical-align: top;\n",
       "    }\n",
       "\n",
       "    .dataframe thead th {\n",
       "        text-align: right;\n",
       "    }\n",
       "</style>\n",
       "<table border=\"1\" class=\"dataframe\">\n",
       "  <thead>\n",
       "    <tr style=\"text-align: right;\">\n",
       "      <th></th>\n",
       "      <th>LBXVIDMS</th>\n",
       "      <th>LBXSAPSI</th>\n",
       "      <th>BMXWT</th>\n",
       "      <th>BMXBMI</th>\n",
       "      <th>BMXWAIST</th>\n",
       "      <th>BPXPLS</th>\n",
       "      <th>loge_LBXSAPSI</th>\n",
       "    </tr>\n",
       "  </thead>\n",
       "  <tbody>\n",
       "    <tr>\n",
       "      <th>LBXVIDMS</th>\n",
       "      <td>1.000000</td>\n",
       "      <td>-0.062982</td>\n",
       "      <td>-0.127488</td>\n",
       "      <td>-0.164678</td>\n",
       "      <td>-0.108395</td>\n",
       "      <td>-0.041042</td>\n",
       "      <td>-0.099800</td>\n",
       "    </tr>\n",
       "    <tr>\n",
       "      <th>LBXSAPSI</th>\n",
       "      <td>-0.062982</td>\n",
       "      <td>1.000000</td>\n",
       "      <td>-0.171535</td>\n",
       "      <td>-0.147700</td>\n",
       "      <td>-0.185967</td>\n",
       "      <td>0.106502</td>\n",
       "      <td>0.918597</td>\n",
       "    </tr>\n",
       "    <tr>\n",
       "      <th>BMXWT</th>\n",
       "      <td>-0.127488</td>\n",
       "      <td>-0.171535</td>\n",
       "      <td>1.000000</td>\n",
       "      <td>0.883991</td>\n",
       "      <td>0.897210</td>\n",
       "      <td>0.028770</td>\n",
       "      <td>-0.122001</td>\n",
       "    </tr>\n",
       "    <tr>\n",
       "      <th>BMXBMI</th>\n",
       "      <td>-0.164678</td>\n",
       "      <td>-0.147700</td>\n",
       "      <td>0.883991</td>\n",
       "      <td>1.000000</td>\n",
       "      <td>0.913122</td>\n",
       "      <td>0.084764</td>\n",
       "      <td>-0.087988</td>\n",
       "    </tr>\n",
       "    <tr>\n",
       "      <th>BMXWAIST</th>\n",
       "      <td>-0.108395</td>\n",
       "      <td>-0.185967</td>\n",
       "      <td>0.897210</td>\n",
       "      <td>0.913122</td>\n",
       "      <td>1.000000</td>\n",
       "      <td>0.067266</td>\n",
       "      <td>-0.122669</td>\n",
       "    </tr>\n",
       "    <tr>\n",
       "      <th>BPXPLS</th>\n",
       "      <td>-0.041042</td>\n",
       "      <td>0.106502</td>\n",
       "      <td>0.028770</td>\n",
       "      <td>0.084764</td>\n",
       "      <td>0.067266</td>\n",
       "      <td>1.000000</td>\n",
       "      <td>0.120165</td>\n",
       "    </tr>\n",
       "    <tr>\n",
       "      <th>loge_LBXSAPSI</th>\n",
       "      <td>-0.099800</td>\n",
       "      <td>0.918597</td>\n",
       "      <td>-0.122001</td>\n",
       "      <td>-0.087988</td>\n",
       "      <td>-0.122669</td>\n",
       "      <td>0.120165</td>\n",
       "      <td>1.000000</td>\n",
       "    </tr>\n",
       "  </tbody>\n",
       "</table>\n",
       "</div>"
      ],
      "text/plain": [
       "               LBXVIDMS  LBXSAPSI     BMXWT    BMXBMI  BMXWAIST    BPXPLS  \\\n",
       "LBXVIDMS       1.000000 -0.062982 -0.127488 -0.164678 -0.108395 -0.041042   \n",
       "LBXSAPSI      -0.062982  1.000000 -0.171535 -0.147700 -0.185967  0.106502   \n",
       "BMXWT         -0.127488 -0.171535  1.000000  0.883991  0.897210  0.028770   \n",
       "BMXBMI        -0.164678 -0.147700  0.883991  1.000000  0.913122  0.084764   \n",
       "BMXWAIST      -0.108395 -0.185967  0.897210  0.913122  1.000000  0.067266   \n",
       "BPXPLS        -0.041042  0.106502  0.028770  0.084764  0.067266  1.000000   \n",
       "loge_LBXSAPSI -0.099800  0.918597 -0.122001 -0.087988 -0.122669  0.120165   \n",
       "\n",
       "               loge_LBXSAPSI  \n",
       "LBXVIDMS           -0.099800  \n",
       "LBXSAPSI            0.918597  \n",
       "BMXWT              -0.122001  \n",
       "BMXBMI             -0.087988  \n",
       "BMXWAIST           -0.122669  \n",
       "BPXPLS              0.120165  \n",
       "loge_LBXSAPSI       1.000000  "
      ]
     },
     "execution_count": 22,
     "metadata": {},
     "output_type": "execute_result"
    }
   ],
   "source": [
    "df_VID_SALP_F[['LBXVIDMS','LBXSAPSI','BMXWT','BMXBMI','BMXWAIST','BPXPLS','loge_LBXSAPSI']].dropna().corr()"
   ]
  },
  {
   "cell_type": "code",
   "execution_count": 23,
   "id": "separated-brazilian",
   "metadata": {},
   "outputs": [
    {
     "data": {
      "text/html": [
       "<div>\n",
       "<style scoped>\n",
       "    .dataframe tbody tr th:only-of-type {\n",
       "        vertical-align: middle;\n",
       "    }\n",
       "\n",
       "    .dataframe tbody tr th {\n",
       "        vertical-align: top;\n",
       "    }\n",
       "\n",
       "    .dataframe thead th {\n",
       "        text-align: right;\n",
       "    }\n",
       "</style>\n",
       "<table border=\"1\" class=\"dataframe\">\n",
       "  <thead>\n",
       "    <tr style=\"text-align: right;\">\n",
       "      <th></th>\n",
       "      <th>LBXVIDMS</th>\n",
       "      <th>LBXSAPSI</th>\n",
       "      <th>BMXWT</th>\n",
       "      <th>BMXBMI</th>\n",
       "      <th>BMXWAIST</th>\n",
       "      <th>BPXPLS</th>\n",
       "      <th>loge_LBXSAPSI</th>\n",
       "    </tr>\n",
       "  </thead>\n",
       "  <tbody>\n",
       "    <tr>\n",
       "      <th>count</th>\n",
       "      <td>5518.000000</td>\n",
       "      <td>5518.000000</td>\n",
       "      <td>5518.000000</td>\n",
       "      <td>5518.000000</td>\n",
       "      <td>5518.000000</td>\n",
       "      <td>5.518000e+03</td>\n",
       "      <td>5518.000000</td>\n",
       "    </tr>\n",
       "    <tr>\n",
       "      <th>mean</th>\n",
       "      <td>62.801115</td>\n",
       "      <td>80.117434</td>\n",
       "      <td>78.282149</td>\n",
       "      <td>27.895995</td>\n",
       "      <td>95.318231</td>\n",
       "      <td>7.322617e+01</td>\n",
       "      <td>4.263848</td>\n",
       "    </tr>\n",
       "    <tr>\n",
       "      <th>std</th>\n",
       "      <td>27.504734</td>\n",
       "      <td>53.349899</td>\n",
       "      <td>21.455774</td>\n",
       "      <td>6.844397</td>\n",
       "      <td>17.286207</td>\n",
       "      <td>1.210296e+01</td>\n",
       "      <td>0.438989</td>\n",
       "    </tr>\n",
       "    <tr>\n",
       "      <th>min</th>\n",
       "      <td>8.320000</td>\n",
       "      <td>7.000000</td>\n",
       "      <td>27.700000</td>\n",
       "      <td>13.400000</td>\n",
       "      <td>56.200000</td>\n",
       "      <td>5.397605e-79</td>\n",
       "      <td>1.945910</td>\n",
       "    </tr>\n",
       "    <tr>\n",
       "      <th>25%</th>\n",
       "      <td>43.000000</td>\n",
       "      <td>54.000000</td>\n",
       "      <td>62.900000</td>\n",
       "      <td>23.100000</td>\n",
       "      <td>82.300000</td>\n",
       "      <td>6.400000e+01</td>\n",
       "      <td>3.988984</td>\n",
       "    </tr>\n",
       "    <tr>\n",
       "      <th>50%</th>\n",
       "      <td>59.550000</td>\n",
       "      <td>67.000000</td>\n",
       "      <td>75.800000</td>\n",
       "      <td>26.800000</td>\n",
       "      <td>94.300000</td>\n",
       "      <td>7.200000e+01</td>\n",
       "      <td>4.204693</td>\n",
       "    </tr>\n",
       "    <tr>\n",
       "      <th>75%</th>\n",
       "      <td>78.100000</td>\n",
       "      <td>85.000000</td>\n",
       "      <td>90.100000</td>\n",
       "      <td>31.500000</td>\n",
       "      <td>106.000000</td>\n",
       "      <td>8.000000e+01</td>\n",
       "      <td>4.442651</td>\n",
       "    </tr>\n",
       "    <tr>\n",
       "      <th>max</th>\n",
       "      <td>375.000000</td>\n",
       "      <td>729.000000</td>\n",
       "      <td>216.100000</td>\n",
       "      <td>82.100000</td>\n",
       "      <td>176.000000</td>\n",
       "      <td>1.720000e+02</td>\n",
       "      <td>6.591674</td>\n",
       "    </tr>\n",
       "  </tbody>\n",
       "</table>\n",
       "</div>"
      ],
      "text/plain": [
       "          LBXVIDMS     LBXSAPSI        BMXWT       BMXBMI     BMXWAIST  \\\n",
       "count  5518.000000  5518.000000  5518.000000  5518.000000  5518.000000   \n",
       "mean     62.801115    80.117434    78.282149    27.895995    95.318231   \n",
       "std      27.504734    53.349899    21.455774     6.844397    17.286207   \n",
       "min       8.320000     7.000000    27.700000    13.400000    56.200000   \n",
       "25%      43.000000    54.000000    62.900000    23.100000    82.300000   \n",
       "50%      59.550000    67.000000    75.800000    26.800000    94.300000   \n",
       "75%      78.100000    85.000000    90.100000    31.500000   106.000000   \n",
       "max     375.000000   729.000000   216.100000    82.100000   176.000000   \n",
       "\n",
       "             BPXPLS  loge_LBXSAPSI  \n",
       "count  5.518000e+03    5518.000000  \n",
       "mean   7.322617e+01       4.263848  \n",
       "std    1.210296e+01       0.438989  \n",
       "min    5.397605e-79       1.945910  \n",
       "25%    6.400000e+01       3.988984  \n",
       "50%    7.200000e+01       4.204693  \n",
       "75%    8.000000e+01       4.442651  \n",
       "max    1.720000e+02       6.591674  "
      ]
     },
     "execution_count": 23,
     "metadata": {},
     "output_type": "execute_result"
    }
   ],
   "source": [
    "df_VID_SALP_G[['LBXVIDMS','LBXSAPSI','BMXWT','BMXBMI','BMXWAIST','BPXPLS','loge_LBXSAPSI']].dropna().describe()"
   ]
  },
  {
   "cell_type": "code",
   "execution_count": 24,
   "id": "solid-environment",
   "metadata": {},
   "outputs": [
    {
     "data": {
      "text/html": [
       "<div>\n",
       "<style scoped>\n",
       "    .dataframe tbody tr th:only-of-type {\n",
       "        vertical-align: middle;\n",
       "    }\n",
       "\n",
       "    .dataframe tbody tr th {\n",
       "        vertical-align: top;\n",
       "    }\n",
       "\n",
       "    .dataframe thead th {\n",
       "        text-align: right;\n",
       "    }\n",
       "</style>\n",
       "<table border=\"1\" class=\"dataframe\">\n",
       "  <thead>\n",
       "    <tr style=\"text-align: right;\">\n",
       "      <th></th>\n",
       "      <th>LBXVIDMS</th>\n",
       "      <th>LBXSAPSI</th>\n",
       "      <th>BMXWT</th>\n",
       "      <th>BMXBMI</th>\n",
       "      <th>BMXWAIST</th>\n",
       "      <th>BPXPLS</th>\n",
       "      <th>loge_LBXSAPSI</th>\n",
       "    </tr>\n",
       "  </thead>\n",
       "  <tbody>\n",
       "    <tr>\n",
       "      <th>LBXVIDMS</th>\n",
       "      <td>1.000000</td>\n",
       "      <td>-0.072420</td>\n",
       "      <td>-0.130440</td>\n",
       "      <td>-0.131704</td>\n",
       "      <td>-0.061305</td>\n",
       "      <td>-0.071002</td>\n",
       "      <td>-0.088280</td>\n",
       "    </tr>\n",
       "    <tr>\n",
       "      <th>LBXSAPSI</th>\n",
       "      <td>-0.072420</td>\n",
       "      <td>1.000000</td>\n",
       "      <td>-0.146174</td>\n",
       "      <td>-0.127710</td>\n",
       "      <td>-0.169137</td>\n",
       "      <td>0.098646</td>\n",
       "      <td>0.916718</td>\n",
       "    </tr>\n",
       "    <tr>\n",
       "      <th>BMXWT</th>\n",
       "      <td>-0.130440</td>\n",
       "      <td>-0.146174</td>\n",
       "      <td>1.000000</td>\n",
       "      <td>0.893224</td>\n",
       "      <td>0.902265</td>\n",
       "      <td>0.044849</td>\n",
       "      <td>-0.088196</td>\n",
       "    </tr>\n",
       "    <tr>\n",
       "      <th>BMXBMI</th>\n",
       "      <td>-0.131704</td>\n",
       "      <td>-0.127710</td>\n",
       "      <td>0.893224</td>\n",
       "      <td>1.000000</td>\n",
       "      <td>0.913785</td>\n",
       "      <td>0.084521</td>\n",
       "      <td>-0.063807</td>\n",
       "    </tr>\n",
       "    <tr>\n",
       "      <th>BMXWAIST</th>\n",
       "      <td>-0.061305</td>\n",
       "      <td>-0.169137</td>\n",
       "      <td>0.902265</td>\n",
       "      <td>0.913785</td>\n",
       "      <td>1.000000</td>\n",
       "      <td>0.070346</td>\n",
       "      <td>-0.097235</td>\n",
       "    </tr>\n",
       "    <tr>\n",
       "      <th>BPXPLS</th>\n",
       "      <td>-0.071002</td>\n",
       "      <td>0.098646</td>\n",
       "      <td>0.044849</td>\n",
       "      <td>0.084521</td>\n",
       "      <td>0.070346</td>\n",
       "      <td>1.000000</td>\n",
       "      <td>0.112355</td>\n",
       "    </tr>\n",
       "    <tr>\n",
       "      <th>loge_LBXSAPSI</th>\n",
       "      <td>-0.088280</td>\n",
       "      <td>0.916718</td>\n",
       "      <td>-0.088196</td>\n",
       "      <td>-0.063807</td>\n",
       "      <td>-0.097235</td>\n",
       "      <td>0.112355</td>\n",
       "      <td>1.000000</td>\n",
       "    </tr>\n",
       "  </tbody>\n",
       "</table>\n",
       "</div>"
      ],
      "text/plain": [
       "               LBXVIDMS  LBXSAPSI     BMXWT    BMXBMI  BMXWAIST    BPXPLS  \\\n",
       "LBXVIDMS       1.000000 -0.072420 -0.130440 -0.131704 -0.061305 -0.071002   \n",
       "LBXSAPSI      -0.072420  1.000000 -0.146174 -0.127710 -0.169137  0.098646   \n",
       "BMXWT         -0.130440 -0.146174  1.000000  0.893224  0.902265  0.044849   \n",
       "BMXBMI        -0.131704 -0.127710  0.893224  1.000000  0.913785  0.084521   \n",
       "BMXWAIST      -0.061305 -0.169137  0.902265  0.913785  1.000000  0.070346   \n",
       "BPXPLS        -0.071002  0.098646  0.044849  0.084521  0.070346  1.000000   \n",
       "loge_LBXSAPSI -0.088280  0.916718 -0.088196 -0.063807 -0.097235  0.112355   \n",
       "\n",
       "               loge_LBXSAPSI  \n",
       "LBXVIDMS           -0.088280  \n",
       "LBXSAPSI            0.916718  \n",
       "BMXWT              -0.088196  \n",
       "BMXBMI             -0.063807  \n",
       "BMXWAIST           -0.097235  \n",
       "BPXPLS              0.112355  \n",
       "loge_LBXSAPSI       1.000000  "
      ]
     },
     "execution_count": 24,
     "metadata": {},
     "output_type": "execute_result"
    }
   ],
   "source": [
    "df_VID_SALP_G[['LBXVIDMS','LBXSAPSI','BMXWT','BMXBMI','BMXWAIST','BPXPLS','loge_LBXSAPSI']].dropna().corr()"
   ]
  },
  {
   "cell_type": "code",
   "execution_count": 25,
   "id": "alpine-significance",
   "metadata": {},
   "outputs": [
    {
     "data": {
      "text/html": [
       "<div>\n",
       "<style scoped>\n",
       "    .dataframe tbody tr th:only-of-type {\n",
       "        vertical-align: middle;\n",
       "    }\n",
       "\n",
       "    .dataframe tbody tr th {\n",
       "        vertical-align: top;\n",
       "    }\n",
       "\n",
       "    .dataframe thead th {\n",
       "        text-align: right;\n",
       "    }\n",
       "</style>\n",
       "<table border=\"1\" class=\"dataframe\">\n",
       "  <thead>\n",
       "    <tr style=\"text-align: right;\">\n",
       "      <th></th>\n",
       "      <th>LBXVIDMS</th>\n",
       "      <th>LBXSAPSI</th>\n",
       "      <th>BMXWT</th>\n",
       "      <th>BMXBMI</th>\n",
       "      <th>BMXWAIST</th>\n",
       "      <th>BPXPLS</th>\n",
       "      <th>loge_LBXSAPSI</th>\n",
       "    </tr>\n",
       "  </thead>\n",
       "  <tbody>\n",
       "    <tr>\n",
       "      <th>count</th>\n",
       "      <td>6064.000000</td>\n",
       "      <td>6064.000000</td>\n",
       "      <td>6064.000000</td>\n",
       "      <td>6064.000000</td>\n",
       "      <td>6064.000000</td>\n",
       "      <td>6064.000000</td>\n",
       "      <td>6064.000000</td>\n",
       "    </tr>\n",
       "    <tr>\n",
       "      <th>mean</th>\n",
       "      <td>63.992096</td>\n",
       "      <td>78.235488</td>\n",
       "      <td>78.648747</td>\n",
       "      <td>28.126814</td>\n",
       "      <td>96.071191</td>\n",
       "      <td>73.347296</td>\n",
       "      <td>4.241642</td>\n",
       "    </tr>\n",
       "    <tr>\n",
       "      <th>std</th>\n",
       "      <td>27.161291</td>\n",
       "      <td>51.817700</td>\n",
       "      <td>22.087517</td>\n",
       "      <td>7.062262</td>\n",
       "      <td>17.600891</td>\n",
       "      <td>11.939347</td>\n",
       "      <td>0.436310</td>\n",
       "    </tr>\n",
       "    <tr>\n",
       "      <th>min</th>\n",
       "      <td>9.370000</td>\n",
       "      <td>9.000000</td>\n",
       "      <td>29.200000</td>\n",
       "      <td>13.400000</td>\n",
       "      <td>55.200000</td>\n",
       "      <td>40.000000</td>\n",
       "      <td>2.197225</td>\n",
       "    </tr>\n",
       "    <tr>\n",
       "      <th>25%</th>\n",
       "      <td>45.700000</td>\n",
       "      <td>53.000000</td>\n",
       "      <td>63.300000</td>\n",
       "      <td>23.100000</td>\n",
       "      <td>83.200000</td>\n",
       "      <td>64.000000</td>\n",
       "      <td>3.970292</td>\n",
       "    </tr>\n",
       "    <tr>\n",
       "      <th>50%</th>\n",
       "      <td>61.000000</td>\n",
       "      <td>66.000000</td>\n",
       "      <td>75.600000</td>\n",
       "      <td>27.100000</td>\n",
       "      <td>94.500000</td>\n",
       "      <td>72.000000</td>\n",
       "      <td>4.189655</td>\n",
       "    </tr>\n",
       "    <tr>\n",
       "      <th>75%</th>\n",
       "      <td>78.225000</td>\n",
       "      <td>83.000000</td>\n",
       "      <td>90.600000</td>\n",
       "      <td>31.700000</td>\n",
       "      <td>107.000000</td>\n",
       "      <td>80.000000</td>\n",
       "      <td>4.418841</td>\n",
       "    </tr>\n",
       "    <tr>\n",
       "      <th>max</th>\n",
       "      <td>318.000000</td>\n",
       "      <td>907.000000</td>\n",
       "      <td>207.200000</td>\n",
       "      <td>74.100000</td>\n",
       "      <td>177.900000</td>\n",
       "      <td>180.000000</td>\n",
       "      <td>6.810142</td>\n",
       "    </tr>\n",
       "  </tbody>\n",
       "</table>\n",
       "</div>"
      ],
      "text/plain": [
       "          LBXVIDMS     LBXSAPSI        BMXWT       BMXBMI     BMXWAIST  \\\n",
       "count  6064.000000  6064.000000  6064.000000  6064.000000  6064.000000   \n",
       "mean     63.992096    78.235488    78.648747    28.126814    96.071191   \n",
       "std      27.161291    51.817700    22.087517     7.062262    17.600891   \n",
       "min       9.370000     9.000000    29.200000    13.400000    55.200000   \n",
       "25%      45.700000    53.000000    63.300000    23.100000    83.200000   \n",
       "50%      61.000000    66.000000    75.600000    27.100000    94.500000   \n",
       "75%      78.225000    83.000000    90.600000    31.700000   107.000000   \n",
       "max     318.000000   907.000000   207.200000    74.100000   177.900000   \n",
       "\n",
       "            BPXPLS  loge_LBXSAPSI  \n",
       "count  6064.000000    6064.000000  \n",
       "mean     73.347296       4.241642  \n",
       "std      11.939347       0.436310  \n",
       "min      40.000000       2.197225  \n",
       "25%      64.000000       3.970292  \n",
       "50%      72.000000       4.189655  \n",
       "75%      80.000000       4.418841  \n",
       "max     180.000000       6.810142  "
      ]
     },
     "execution_count": 25,
     "metadata": {},
     "output_type": "execute_result"
    }
   ],
   "source": [
    "df_VID_SALP_H[['LBXVIDMS','LBXSAPSI','BMXWT','BMXBMI','BMXWAIST','BPXPLS','loge_LBXSAPSI']].dropna().describe()"
   ]
  },
  {
   "cell_type": "code",
   "execution_count": 26,
   "id": "local-damage",
   "metadata": {},
   "outputs": [
    {
     "data": {
      "text/html": [
       "<div>\n",
       "<style scoped>\n",
       "    .dataframe tbody tr th:only-of-type {\n",
       "        vertical-align: middle;\n",
       "    }\n",
       "\n",
       "    .dataframe tbody tr th {\n",
       "        vertical-align: top;\n",
       "    }\n",
       "\n",
       "    .dataframe thead th {\n",
       "        text-align: right;\n",
       "    }\n",
       "</style>\n",
       "<table border=\"1\" class=\"dataframe\">\n",
       "  <thead>\n",
       "    <tr style=\"text-align: right;\">\n",
       "      <th></th>\n",
       "      <th>LBXVIDMS</th>\n",
       "      <th>LBXSAPSI</th>\n",
       "      <th>BMXWT</th>\n",
       "      <th>BMXBMI</th>\n",
       "      <th>BMXWAIST</th>\n",
       "      <th>BPXPLS</th>\n",
       "      <th>loge_LBXSAPSI</th>\n",
       "    </tr>\n",
       "  </thead>\n",
       "  <tbody>\n",
       "    <tr>\n",
       "      <th>LBXVIDMS</th>\n",
       "      <td>1.000000</td>\n",
       "      <td>-0.076606</td>\n",
       "      <td>-0.098154</td>\n",
       "      <td>-0.087313</td>\n",
       "      <td>-0.039902</td>\n",
       "      <td>-0.102255</td>\n",
       "      <td>-0.101871</td>\n",
       "    </tr>\n",
       "    <tr>\n",
       "      <th>LBXSAPSI</th>\n",
       "      <td>-0.076606</td>\n",
       "      <td>1.000000</td>\n",
       "      <td>-0.173174</td>\n",
       "      <td>-0.150593</td>\n",
       "      <td>-0.184780</td>\n",
       "      <td>0.131094</td>\n",
       "      <td>0.914861</td>\n",
       "    </tr>\n",
       "    <tr>\n",
       "      <th>BMXWT</th>\n",
       "      <td>-0.098154</td>\n",
       "      <td>-0.173174</td>\n",
       "      <td>1.000000</td>\n",
       "      <td>0.896360</td>\n",
       "      <td>0.904931</td>\n",
       "      <td>0.026875</td>\n",
       "      <td>-0.125034</td>\n",
       "    </tr>\n",
       "    <tr>\n",
       "      <th>BMXBMI</th>\n",
       "      <td>-0.087313</td>\n",
       "      <td>-0.150593</td>\n",
       "      <td>0.896360</td>\n",
       "      <td>1.000000</td>\n",
       "      <td>0.919651</td>\n",
       "      <td>0.063130</td>\n",
       "      <td>-0.093464</td>\n",
       "    </tr>\n",
       "    <tr>\n",
       "      <th>BMXWAIST</th>\n",
       "      <td>-0.039902</td>\n",
       "      <td>-0.184780</td>\n",
       "      <td>0.904931</td>\n",
       "      <td>0.919651</td>\n",
       "      <td>1.000000</td>\n",
       "      <td>0.040904</td>\n",
       "      <td>-0.123336</td>\n",
       "    </tr>\n",
       "    <tr>\n",
       "      <th>BPXPLS</th>\n",
       "      <td>-0.102255</td>\n",
       "      <td>0.131094</td>\n",
       "      <td>0.026875</td>\n",
       "      <td>0.063130</td>\n",
       "      <td>0.040904</td>\n",
       "      <td>1.000000</td>\n",
       "      <td>0.151111</td>\n",
       "    </tr>\n",
       "    <tr>\n",
       "      <th>loge_LBXSAPSI</th>\n",
       "      <td>-0.101871</td>\n",
       "      <td>0.914861</td>\n",
       "      <td>-0.125034</td>\n",
       "      <td>-0.093464</td>\n",
       "      <td>-0.123336</td>\n",
       "      <td>0.151111</td>\n",
       "      <td>1.000000</td>\n",
       "    </tr>\n",
       "  </tbody>\n",
       "</table>\n",
       "</div>"
      ],
      "text/plain": [
       "               LBXVIDMS  LBXSAPSI     BMXWT    BMXBMI  BMXWAIST    BPXPLS  \\\n",
       "LBXVIDMS       1.000000 -0.076606 -0.098154 -0.087313 -0.039902 -0.102255   \n",
       "LBXSAPSI      -0.076606  1.000000 -0.173174 -0.150593 -0.184780  0.131094   \n",
       "BMXWT         -0.098154 -0.173174  1.000000  0.896360  0.904931  0.026875   \n",
       "BMXBMI        -0.087313 -0.150593  0.896360  1.000000  0.919651  0.063130   \n",
       "BMXWAIST      -0.039902 -0.184780  0.904931  0.919651  1.000000  0.040904   \n",
       "BPXPLS        -0.102255  0.131094  0.026875  0.063130  0.040904  1.000000   \n",
       "loge_LBXSAPSI -0.101871  0.914861 -0.125034 -0.093464 -0.123336  0.151111   \n",
       "\n",
       "               loge_LBXSAPSI  \n",
       "LBXVIDMS           -0.101871  \n",
       "LBXSAPSI            0.914861  \n",
       "BMXWT              -0.125034  \n",
       "BMXBMI             -0.093464  \n",
       "BMXWAIST           -0.123336  \n",
       "BPXPLS              0.151111  \n",
       "loge_LBXSAPSI       1.000000  "
      ]
     },
     "execution_count": 26,
     "metadata": {},
     "output_type": "execute_result"
    }
   ],
   "source": [
    "df_VID_SALP_H[['LBXVIDMS','LBXSAPSI','BMXWT','BMXBMI','BMXWAIST','BPXPLS','loge_LBXSAPSI']].dropna().corr()"
   ]
  },
  {
   "cell_type": "code",
   "execution_count": 27,
   "id": "analyzed-allah",
   "metadata": {},
   "outputs": [
    {
     "data": {
      "text/html": [
       "<div>\n",
       "<style scoped>\n",
       "    .dataframe tbody tr th:only-of-type {\n",
       "        vertical-align: middle;\n",
       "    }\n",
       "\n",
       "    .dataframe tbody tr th {\n",
       "        vertical-align: top;\n",
       "    }\n",
       "\n",
       "    .dataframe thead th {\n",
       "        text-align: right;\n",
       "    }\n",
       "</style>\n",
       "<table border=\"1\" class=\"dataframe\">\n",
       "  <thead>\n",
       "    <tr style=\"text-align: right;\">\n",
       "      <th></th>\n",
       "      <th>LBXVIDMS</th>\n",
       "      <th>LBXSAPSI</th>\n",
       "      <th>BMXWT</th>\n",
       "      <th>BMXBMI</th>\n",
       "      <th>BMXWAIST</th>\n",
       "      <th>BPXPLS</th>\n",
       "      <th>loge_LBXSAPSI</th>\n",
       "    </tr>\n",
       "  </thead>\n",
       "  <tbody>\n",
       "    <tr>\n",
       "      <th>count</th>\n",
       "      <td>5825.000000</td>\n",
       "      <td>5825.000000</td>\n",
       "      <td>5825.000000</td>\n",
       "      <td>5825.000000</td>\n",
       "      <td>5825.000000</td>\n",
       "      <td>5825.000000</td>\n",
       "      <td>5825.000000</td>\n",
       "    </tr>\n",
       "    <tr>\n",
       "      <th>mean</th>\n",
       "      <td>63.433523</td>\n",
       "      <td>81.298884</td>\n",
       "      <td>79.204601</td>\n",
       "      <td>28.633562</td>\n",
       "      <td>97.223571</td>\n",
       "      <td>73.231588</td>\n",
       "      <td>4.289318</td>\n",
       "    </tr>\n",
       "    <tr>\n",
       "      <th>std</th>\n",
       "      <td>27.267771</td>\n",
       "      <td>51.364230</td>\n",
       "      <td>21.976525</td>\n",
       "      <td>7.124455</td>\n",
       "      <td>17.746548</td>\n",
       "      <td>11.733656</td>\n",
       "      <td>0.419546</td>\n",
       "    </tr>\n",
       "    <tr>\n",
       "      <th>min</th>\n",
       "      <td>7.040000</td>\n",
       "      <td>23.000000</td>\n",
       "      <td>29.000000</td>\n",
       "      <td>14.500000</td>\n",
       "      <td>54.600000</td>\n",
       "      <td>36.000000</td>\n",
       "      <td>3.135494</td>\n",
       "    </tr>\n",
       "    <tr>\n",
       "      <th>25%</th>\n",
       "      <td>44.300000</td>\n",
       "      <td>56.000000</td>\n",
       "      <td>63.500000</td>\n",
       "      <td>23.500000</td>\n",
       "      <td>84.000000</td>\n",
       "      <td>64.000000</td>\n",
       "      <td>4.025352</td>\n",
       "    </tr>\n",
       "    <tr>\n",
       "      <th>50%</th>\n",
       "      <td>59.800000</td>\n",
       "      <td>69.000000</td>\n",
       "      <td>76.100000</td>\n",
       "      <td>27.600000</td>\n",
       "      <td>96.400000</td>\n",
       "      <td>72.000000</td>\n",
       "      <td>4.234107</td>\n",
       "    </tr>\n",
       "    <tr>\n",
       "      <th>75%</th>\n",
       "      <td>77.600000</td>\n",
       "      <td>87.000000</td>\n",
       "      <td>91.100000</td>\n",
       "      <td>32.400000</td>\n",
       "      <td>108.000000</td>\n",
       "      <td>80.000000</td>\n",
       "      <td>4.465908</td>\n",
       "    </tr>\n",
       "    <tr>\n",
       "      <th>max</th>\n",
       "      <td>253.000000</td>\n",
       "      <td>740.000000</td>\n",
       "      <td>198.900000</td>\n",
       "      <td>64.600000</td>\n",
       "      <td>171.600000</td>\n",
       "      <td>140.000000</td>\n",
       "      <td>6.606650</td>\n",
       "    </tr>\n",
       "  </tbody>\n",
       "</table>\n",
       "</div>"
      ],
      "text/plain": [
       "          LBXVIDMS     LBXSAPSI        BMXWT       BMXBMI     BMXWAIST  \\\n",
       "count  5825.000000  5825.000000  5825.000000  5825.000000  5825.000000   \n",
       "mean     63.433523    81.298884    79.204601    28.633562    97.223571   \n",
       "std      27.267771    51.364230    21.976525     7.124455    17.746548   \n",
       "min       7.040000    23.000000    29.000000    14.500000    54.600000   \n",
       "25%      44.300000    56.000000    63.500000    23.500000    84.000000   \n",
       "50%      59.800000    69.000000    76.100000    27.600000    96.400000   \n",
       "75%      77.600000    87.000000    91.100000    32.400000   108.000000   \n",
       "max     253.000000   740.000000   198.900000    64.600000   171.600000   \n",
       "\n",
       "            BPXPLS  loge_LBXSAPSI  \n",
       "count  5825.000000    5825.000000  \n",
       "mean     73.231588       4.289318  \n",
       "std      11.733656       0.419546  \n",
       "min      36.000000       3.135494  \n",
       "25%      64.000000       4.025352  \n",
       "50%      72.000000       4.234107  \n",
       "75%      80.000000       4.465908  \n",
       "max     140.000000       6.606650  "
      ]
     },
     "execution_count": 27,
     "metadata": {},
     "output_type": "execute_result"
    }
   ],
   "source": [
    "df_VID_SALP_I[['LBXVIDMS','LBXSAPSI','BMXWT','BMXBMI','BMXWAIST','BPXPLS','loge_LBXSAPSI']].dropna().describe()"
   ]
  },
  {
   "cell_type": "code",
   "execution_count": 28,
   "id": "reverse-notebook",
   "metadata": {},
   "outputs": [
    {
     "data": {
      "text/html": [
       "<div>\n",
       "<style scoped>\n",
       "    .dataframe tbody tr th:only-of-type {\n",
       "        vertical-align: middle;\n",
       "    }\n",
       "\n",
       "    .dataframe tbody tr th {\n",
       "        vertical-align: top;\n",
       "    }\n",
       "\n",
       "    .dataframe thead th {\n",
       "        text-align: right;\n",
       "    }\n",
       "</style>\n",
       "<table border=\"1\" class=\"dataframe\">\n",
       "  <thead>\n",
       "    <tr style=\"text-align: right;\">\n",
       "      <th></th>\n",
       "      <th>LBXVIDMS</th>\n",
       "      <th>LBXSAPSI</th>\n",
       "      <th>BMXWT</th>\n",
       "      <th>BMXBMI</th>\n",
       "      <th>BMXWAIST</th>\n",
       "      <th>BPXPLS</th>\n",
       "      <th>loge_LBXSAPSI</th>\n",
       "    </tr>\n",
       "  </thead>\n",
       "  <tbody>\n",
       "    <tr>\n",
       "      <th>LBXVIDMS</th>\n",
       "      <td>1.000000</td>\n",
       "      <td>-0.085683</td>\n",
       "      <td>-0.111614</td>\n",
       "      <td>-0.117001</td>\n",
       "      <td>-0.048383</td>\n",
       "      <td>-0.093594</td>\n",
       "      <td>-0.103986</td>\n",
       "    </tr>\n",
       "    <tr>\n",
       "      <th>LBXSAPSI</th>\n",
       "      <td>-0.085683</td>\n",
       "      <td>1.000000</td>\n",
       "      <td>-0.158701</td>\n",
       "      <td>-0.139603</td>\n",
       "      <td>-0.180031</td>\n",
       "      <td>0.114856</td>\n",
       "      <td>0.918021</td>\n",
       "    </tr>\n",
       "    <tr>\n",
       "      <th>BMXWT</th>\n",
       "      <td>-0.111614</td>\n",
       "      <td>-0.158701</td>\n",
       "      <td>1.000000</td>\n",
       "      <td>0.893227</td>\n",
       "      <td>0.899956</td>\n",
       "      <td>0.062665</td>\n",
       "      <td>-0.103461</td>\n",
       "    </tr>\n",
       "    <tr>\n",
       "      <th>BMXBMI</th>\n",
       "      <td>-0.117001</td>\n",
       "      <td>-0.139603</td>\n",
       "      <td>0.893227</td>\n",
       "      <td>1.000000</td>\n",
       "      <td>0.917061</td>\n",
       "      <td>0.091711</td>\n",
       "      <td>-0.073843</td>\n",
       "    </tr>\n",
       "    <tr>\n",
       "      <th>BMXWAIST</th>\n",
       "      <td>-0.048383</td>\n",
       "      <td>-0.180031</td>\n",
       "      <td>0.899956</td>\n",
       "      <td>0.917061</td>\n",
       "      <td>1.000000</td>\n",
       "      <td>0.082562</td>\n",
       "      <td>-0.110003</td>\n",
       "    </tr>\n",
       "    <tr>\n",
       "      <th>BPXPLS</th>\n",
       "      <td>-0.093594</td>\n",
       "      <td>0.114856</td>\n",
       "      <td>0.062665</td>\n",
       "      <td>0.091711</td>\n",
       "      <td>0.082562</td>\n",
       "      <td>1.000000</td>\n",
       "      <td>0.126498</td>\n",
       "    </tr>\n",
       "    <tr>\n",
       "      <th>loge_LBXSAPSI</th>\n",
       "      <td>-0.103986</td>\n",
       "      <td>0.918021</td>\n",
       "      <td>-0.103461</td>\n",
       "      <td>-0.073843</td>\n",
       "      <td>-0.110003</td>\n",
       "      <td>0.126498</td>\n",
       "      <td>1.000000</td>\n",
       "    </tr>\n",
       "  </tbody>\n",
       "</table>\n",
       "</div>"
      ],
      "text/plain": [
       "               LBXVIDMS  LBXSAPSI     BMXWT    BMXBMI  BMXWAIST    BPXPLS  \\\n",
       "LBXVIDMS       1.000000 -0.085683 -0.111614 -0.117001 -0.048383 -0.093594   \n",
       "LBXSAPSI      -0.085683  1.000000 -0.158701 -0.139603 -0.180031  0.114856   \n",
       "BMXWT         -0.111614 -0.158701  1.000000  0.893227  0.899956  0.062665   \n",
       "BMXBMI        -0.117001 -0.139603  0.893227  1.000000  0.917061  0.091711   \n",
       "BMXWAIST      -0.048383 -0.180031  0.899956  0.917061  1.000000  0.082562   \n",
       "BPXPLS        -0.093594  0.114856  0.062665  0.091711  0.082562  1.000000   \n",
       "loge_LBXSAPSI -0.103986  0.918021 -0.103461 -0.073843 -0.110003  0.126498   \n",
       "\n",
       "               loge_LBXSAPSI  \n",
       "LBXVIDMS           -0.103986  \n",
       "LBXSAPSI            0.918021  \n",
       "BMXWT              -0.103461  \n",
       "BMXBMI             -0.073843  \n",
       "BMXWAIST           -0.110003  \n",
       "BPXPLS              0.126498  \n",
       "loge_LBXSAPSI       1.000000  "
      ]
     },
     "execution_count": 28,
     "metadata": {},
     "output_type": "execute_result"
    }
   ],
   "source": [
    "df_VID_SALP_I[['LBXVIDMS','LBXSAPSI','BMXWT','BMXBMI','BMXWAIST','BPXPLS','loge_LBXSAPSI']].dropna().corr()"
   ]
  },
  {
   "cell_type": "code",
   "execution_count": 29,
   "id": "widespread-chinese",
   "metadata": {},
   "outputs": [
    {
     "data": {
      "text/html": [
       "<div>\n",
       "<style scoped>\n",
       "    .dataframe tbody tr th:only-of-type {\n",
       "        vertical-align: middle;\n",
       "    }\n",
       "\n",
       "    .dataframe tbody tr th {\n",
       "        vertical-align: top;\n",
       "    }\n",
       "\n",
       "    .dataframe thead th {\n",
       "        text-align: right;\n",
       "    }\n",
       "</style>\n",
       "<table border=\"1\" class=\"dataframe\">\n",
       "  <thead>\n",
       "    <tr style=\"text-align: right;\">\n",
       "      <th></th>\n",
       "      <th>SEQN</th>\n",
       "      <th>LBXVIDMS</th>\n",
       "      <th>LBXSAPSI</th>\n",
       "      <th>BMXWT</th>\n",
       "      <th>BMXBMI</th>\n",
       "      <th>BMXWAIST</th>\n",
       "      <th>BPXPLS</th>\n",
       "      <th>loge_LBXSAPSI</th>\n",
       "    </tr>\n",
       "  </thead>\n",
       "  <tbody>\n",
       "    <tr>\n",
       "      <th>count</th>\n",
       "      <td>28965.000000</td>\n",
       "      <td>28965.000000</td>\n",
       "      <td>28965.000000</td>\n",
       "      <td>28965.000000</td>\n",
       "      <td>28965.000000</td>\n",
       "      <td>28965.000000</td>\n",
       "      <td>2.896500e+04</td>\n",
       "      <td>28965.000000</td>\n",
       "    </tr>\n",
       "    <tr>\n",
       "      <th>mean</th>\n",
       "      <td>67938.248369</td>\n",
       "      <td>62.905895</td>\n",
       "      <td>80.239185</td>\n",
       "      <td>78.842603</td>\n",
       "      <td>28.211689</td>\n",
       "      <td>96.278692</td>\n",
       "      <td>7.321844e+01</td>\n",
       "      <td>4.273421</td>\n",
       "    </tr>\n",
       "    <tr>\n",
       "      <th>std</th>\n",
       "      <td>15103.261547</td>\n",
       "      <td>26.440144</td>\n",
       "      <td>51.093305</td>\n",
       "      <td>21.638939</td>\n",
       "      <td>6.908850</td>\n",
       "      <td>17.350314</td>\n",
       "      <td>1.208276e+01</td>\n",
       "      <td>0.426293</td>\n",
       "    </tr>\n",
       "    <tr>\n",
       "      <th>min</th>\n",
       "      <td>41475.000000</td>\n",
       "      <td>6.310000</td>\n",
       "      <td>7.000000</td>\n",
       "      <td>25.100000</td>\n",
       "      <td>13.180000</td>\n",
       "      <td>52.000000</td>\n",
       "      <td>5.397605e-79</td>\n",
       "      <td>1.945910</td>\n",
       "    </tr>\n",
       "    <tr>\n",
       "      <th>25%</th>\n",
       "      <td>54972.000000</td>\n",
       "      <td>44.200000</td>\n",
       "      <td>55.000000</td>\n",
       "      <td>63.500000</td>\n",
       "      <td>23.300000</td>\n",
       "      <td>83.400000</td>\n",
       "      <td>6.400000e+01</td>\n",
       "      <td>4.007333</td>\n",
       "    </tr>\n",
       "    <tr>\n",
       "      <th>50%</th>\n",
       "      <td>67379.000000</td>\n",
       "      <td>60.200000</td>\n",
       "      <td>68.000000</td>\n",
       "      <td>76.000000</td>\n",
       "      <td>27.200000</td>\n",
       "      <td>95.300000</td>\n",
       "      <td>7.200000e+01</td>\n",
       "      <td>4.219508</td>\n",
       "    </tr>\n",
       "    <tr>\n",
       "      <th>75%</th>\n",
       "      <td>81350.000000</td>\n",
       "      <td>77.600000</td>\n",
       "      <td>86.000000</td>\n",
       "      <td>90.700000</td>\n",
       "      <td>31.800000</td>\n",
       "      <td>107.000000</td>\n",
       "      <td>8.000000e+01</td>\n",
       "      <td>4.454347</td>\n",
       "    </tr>\n",
       "    <tr>\n",
       "      <th>max</th>\n",
       "      <td>93702.000000</td>\n",
       "      <td>375.000000</td>\n",
       "      <td>907.000000</td>\n",
       "      <td>239.400000</td>\n",
       "      <td>84.870000</td>\n",
       "      <td>179.000000</td>\n",
       "      <td>2.240000e+02</td>\n",
       "      <td>6.810142</td>\n",
       "    </tr>\n",
       "  </tbody>\n",
       "</table>\n",
       "</div>"
      ],
      "text/plain": [
       "               SEQN      LBXVIDMS      LBXSAPSI         BMXWT        BMXBMI  \\\n",
       "count  28965.000000  28965.000000  28965.000000  28965.000000  28965.000000   \n",
       "mean   67938.248369     62.905895     80.239185     78.842603     28.211689   \n",
       "std    15103.261547     26.440144     51.093305     21.638939      6.908850   \n",
       "min    41475.000000      6.310000      7.000000     25.100000     13.180000   \n",
       "25%    54972.000000     44.200000     55.000000     63.500000     23.300000   \n",
       "50%    67379.000000     60.200000     68.000000     76.000000     27.200000   \n",
       "75%    81350.000000     77.600000     86.000000     90.700000     31.800000   \n",
       "max    93702.000000    375.000000    907.000000    239.400000     84.870000   \n",
       "\n",
       "           BMXWAIST        BPXPLS  loge_LBXSAPSI  \n",
       "count  28965.000000  2.896500e+04   28965.000000  \n",
       "mean      96.278692  7.321844e+01       4.273421  \n",
       "std       17.350314  1.208276e+01       0.426293  \n",
       "min       52.000000  5.397605e-79       1.945910  \n",
       "25%       83.400000  6.400000e+01       4.007333  \n",
       "50%       95.300000  7.200000e+01       4.219508  \n",
       "75%      107.000000  8.000000e+01       4.454347  \n",
       "max      179.000000  2.240000e+02       6.810142  "
      ]
     },
     "execution_count": 29,
     "metadata": {},
     "output_type": "execute_result"
    }
   ],
   "source": [
    "df_VID_SALP=pd.concat([df_VID_SALP_E,df_VID_SALP_F,df_VID_SALP_G,df_VID_SALP_H,df_VID_SALP_I])\n",
    "df_VID_SALP.dropna().describe()"
   ]
  },
  {
   "cell_type": "code",
   "execution_count": 30,
   "id": "differential-pursuit",
   "metadata": {},
   "outputs": [
    {
     "data": {
      "text/html": [
       "<div>\n",
       "<style scoped>\n",
       "    .dataframe tbody tr th:only-of-type {\n",
       "        vertical-align: middle;\n",
       "    }\n",
       "\n",
       "    .dataframe tbody tr th {\n",
       "        vertical-align: top;\n",
       "    }\n",
       "\n",
       "    .dataframe thead th {\n",
       "        text-align: right;\n",
       "    }\n",
       "</style>\n",
       "<table border=\"1\" class=\"dataframe\">\n",
       "  <thead>\n",
       "    <tr style=\"text-align: right;\">\n",
       "      <th></th>\n",
       "      <th>LBXVIDMS</th>\n",
       "      <th>LBXSAPSI</th>\n",
       "      <th>BMXWT</th>\n",
       "      <th>BMXBMI</th>\n",
       "      <th>BMXWAIST</th>\n",
       "      <th>BPXPLS</th>\n",
       "      <th>loge_LBXSAPSI</th>\n",
       "    </tr>\n",
       "  </thead>\n",
       "  <tbody>\n",
       "    <tr>\n",
       "      <th>LBXVIDMS</th>\n",
       "      <td>1.000000</td>\n",
       "      <td>-0.074063</td>\n",
       "      <td>-0.120895</td>\n",
       "      <td>-0.137260</td>\n",
       "      <td>-0.075690</td>\n",
       "      <td>-0.074138</td>\n",
       "      <td>-0.099617</td>\n",
       "    </tr>\n",
       "    <tr>\n",
       "      <th>LBXSAPSI</th>\n",
       "      <td>-0.074063</td>\n",
       "      <td>1.000000</td>\n",
       "      <td>-0.162508</td>\n",
       "      <td>-0.141072</td>\n",
       "      <td>-0.179688</td>\n",
       "      <td>0.106909</td>\n",
       "      <td>0.916444</td>\n",
       "    </tr>\n",
       "    <tr>\n",
       "      <th>BMXWT</th>\n",
       "      <td>-0.120895</td>\n",
       "      <td>-0.162508</td>\n",
       "      <td>1.000000</td>\n",
       "      <td>0.890275</td>\n",
       "      <td>0.899783</td>\n",
       "      <td>0.042952</td>\n",
       "      <td>-0.110866</td>\n",
       "    </tr>\n",
       "    <tr>\n",
       "      <th>BMXBMI</th>\n",
       "      <td>-0.137260</td>\n",
       "      <td>-0.141072</td>\n",
       "      <td>0.890275</td>\n",
       "      <td>1.000000</td>\n",
       "      <td>0.913487</td>\n",
       "      <td>0.086340</td>\n",
       "      <td>-0.079988</td>\n",
       "    </tr>\n",
       "    <tr>\n",
       "      <th>BMXWAIST</th>\n",
       "      <td>-0.075690</td>\n",
       "      <td>-0.179688</td>\n",
       "      <td>0.899783</td>\n",
       "      <td>0.913487</td>\n",
       "      <td>1.000000</td>\n",
       "      <td>0.067365</td>\n",
       "      <td>-0.113275</td>\n",
       "    </tr>\n",
       "    <tr>\n",
       "      <th>BPXPLS</th>\n",
       "      <td>-0.074138</td>\n",
       "      <td>0.106909</td>\n",
       "      <td>0.042952</td>\n",
       "      <td>0.086340</td>\n",
       "      <td>0.067365</td>\n",
       "      <td>1.000000</td>\n",
       "      <td>0.121023</td>\n",
       "    </tr>\n",
       "    <tr>\n",
       "      <th>loge_LBXSAPSI</th>\n",
       "      <td>-0.099617</td>\n",
       "      <td>0.916444</td>\n",
       "      <td>-0.110866</td>\n",
       "      <td>-0.079988</td>\n",
       "      <td>-0.113275</td>\n",
       "      <td>0.121023</td>\n",
       "      <td>1.000000</td>\n",
       "    </tr>\n",
       "  </tbody>\n",
       "</table>\n",
       "</div>"
      ],
      "text/plain": [
       "               LBXVIDMS  LBXSAPSI     BMXWT    BMXBMI  BMXWAIST    BPXPLS  \\\n",
       "LBXVIDMS       1.000000 -0.074063 -0.120895 -0.137260 -0.075690 -0.074138   \n",
       "LBXSAPSI      -0.074063  1.000000 -0.162508 -0.141072 -0.179688  0.106909   \n",
       "BMXWT         -0.120895 -0.162508  1.000000  0.890275  0.899783  0.042952   \n",
       "BMXBMI        -0.137260 -0.141072  0.890275  1.000000  0.913487  0.086340   \n",
       "BMXWAIST      -0.075690 -0.179688  0.899783  0.913487  1.000000  0.067365   \n",
       "BPXPLS        -0.074138  0.106909  0.042952  0.086340  0.067365  1.000000   \n",
       "loge_LBXSAPSI -0.099617  0.916444 -0.110866 -0.079988 -0.113275  0.121023   \n",
       "\n",
       "               loge_LBXSAPSI  \n",
       "LBXVIDMS           -0.099617  \n",
       "LBXSAPSI            0.916444  \n",
       "BMXWT              -0.110866  \n",
       "BMXBMI             -0.079988  \n",
       "BMXWAIST           -0.113275  \n",
       "BPXPLS              0.121023  \n",
       "loge_LBXSAPSI       1.000000  "
      ]
     },
     "execution_count": 30,
     "metadata": {},
     "output_type": "execute_result"
    }
   ],
   "source": [
    "df_VID_SALP[['LBXVIDMS','LBXSAPSI','BMXWT','BMXBMI','BMXWAIST','BPXPLS','loge_LBXSAPSI']].dropna().corr()"
   ]
  },
  {
   "cell_type": "code",
   "execution_count": 41,
   "id": "smaller-jumping",
   "metadata": {},
   "outputs": [
    {
     "data": {
      "text/plain": [
       "array([[<AxesSubplot:title={'center':'LBXVIDMS'}>]], dtype=object)"
      ]
     },
     "execution_count": 41,
     "metadata": {},
     "output_type": "execute_result"
    },
    {
     "data": {
      "image/png": "[encoded data removed]",
      "text/plain": [
       "<Figure size 432x288 with 1 Axes>"
      ]
     },
     "metadata": {
      "needs_background": "light"
     },
     "output_type": "display_data"
    }
   ],
   "source": [
    "df_VID_SALP[['LBXVIDMS']].hist(bins=50)"
   ]
  },
  {
   "cell_type": "code",
   "execution_count": 48,
   "id": "superior-connection",
   "metadata": {},
   "outputs": [
    {
     "data": {
      "text/plain": [
       "<AxesSubplot:>"
      ]
     },
     "execution_count": 48,
     "metadata": {},
     "output_type": "execute_result"
    },
    {
     "data": {
      "image/png": "[encoded data removed]",
      "text/plain": [
       "<Figure size 432x288 with 1 Axes>"
      ]
     },
     "metadata": {
      "needs_background": "light"
     },
     "output_type": "display_data"
    }
   ],
   "source": [
    "df_VID_SALP[df_VID_SALP['LBXVIDMS']<150]['LBXVIDMS'].hist(bins=100)"
   ]
  },
  {
   "cell_type": "code",
   "execution_count": 46,
   "id": "completed-roller",
   "metadata": {},
   "outputs": [
    {
     "data": {
      "text/plain": [
       "array([[<AxesSubplot:title={'center':'LBXSAPSI'}>]], dtype=object)"
      ]
     },
     "execution_count": 46,
     "metadata": {},
     "output_type": "execute_result"
    },
    {
     "data": {
      "image/png": "[encoded data removed]",
      "text/plain": [
       "<Figure size 432x288 with 1 Axes>"
      ]
     },
     "metadata": {
      "needs_background": "light"
     },
     "output_type": "display_data"
    }
   ],
   "source": [
    "df_VID_SALP[['LBXSAPSI']].hist(bins=150)"
   ]
  },
  {
   "cell_type": "code",
   "execution_count": 47,
   "id": "inner-kuwait",
   "metadata": {},
   "outputs": [
    {
     "data": {
      "text/plain": [
       "<AxesSubplot:>"
      ]
     },
     "execution_count": 47,
     "metadata": {},
     "output_type": "execute_result"
    },
    {
     "data": {
      "image/png": "[encoded data removed]",
      "text/plain": [
       "<Figure size 432x288 with 1 Axes>"
      ]
     },
     "metadata": {
      "needs_background": "light"
     },
     "output_type": "display_data"
    }
   ],
   "source": [
    "df_VID_SALP[df_VID_SALP['LBXSAPSI']<200]['LBXSAPSI'].hist(bins=100)"
   ]
  },
  {
   "cell_type": "code",
   "execution_count": 60,
   "id": "trained-syndication",
   "metadata": {},
   "outputs": [
    {
     "data": {
      "text/plain": [
       "array([[<AxesSubplot:title={'center':'loge_LBXSAPSI'}>]], dtype=object)"
      ]
     },
     "execution_count": 60,
     "metadata": {},
     "output_type": "execute_result"
    },
    {
     "data": {
      "image/png": "[encoded data removed]",
      "text/plain": [
       "<Figure size 432x288 with 1 Axes>"
      ]
     },
     "metadata": {
      "needs_background": "light"
     },
     "output_type": "display_data"
    }
   ],
   "source": [
    "df_VID_SALP[['loge_LBXSAPSI']].hist(bins=50)"
   ]
  },
  {
   "cell_type": "code",
   "execution_count": 52,
   "id": "prospective-hardware",
   "metadata": {},
   "outputs": [
    {
     "data": {
      "text/plain": [
       "<AxesSubplot:xlabel='LBXVIDMS'>"
      ]
     },
     "execution_count": 52,
     "metadata": {},
     "output_type": "execute_result"
    },
    {
     "data": {
      "image/png": "[encoded data removed]",
      "text/plain": [
       "<Figure size 432x288 with 1 Axes>"
      ]
     },
     "metadata": {
      "needs_background": "light"
     },
     "output_type": "display_data"
    }
   ],
   "source": [
    "df_VID_SALP.plot('LBXVIDMS','LBXSAPSI',marker='*',linestyle ='None')"
   ]
  },
  {
   "cell_type": "code",
   "execution_count": 35,
   "id": "animated-tunnel",
   "metadata": {},
   "outputs": [],
   "source": [
    "# df_merge_paq_dbq[['LBXVIDMS','LBXSAPSI']].groupby(df_merge_paq_dbq['LBXVIDMS']).mean().plot(marker='*',x='DBQ700',y='DXDTRPF')"
   ]
  },
  {
   "cell_type": "code",
   "execution_count": 38,
   "id": "affiliated-speed",
   "metadata": {},
   "outputs": [
    {
     "data": {
      "text/plain": [
       "<AxesSubplot:xlabel='LBXVIDMS'>"
      ]
     },
     "execution_count": 38,
     "metadata": {},
     "output_type": "execute_result"
    },
    {
     "data": {
      "image/png": "[encoded data removed]",
      "text/plain": [
       "<Figure size 432x288 with 1 Axes>"
      ]
     },
     "metadata": {
      "needs_background": "light"
     },
     "output_type": "display_data"
    }
   ],
   "source": [
    "df_VID_SALP[['LBXVIDMS','LBXSAPSI']].groupby(pd.cut(df_VID_SALP['LBXVIDMS'], [df_VID_SALP['LBXVIDMS'].min(),df_VID_SALP['LBXVIDMS'].describe()['25%'], df_VID_SALP['LBXVIDMS'].describe()['50%'],df_VID_SALP['LBXVIDMS'].describe()['75%'],df_VID_SALP['LBXVIDMS'].max()])).mean().plot(marker='*',x='LBXVIDMS',y='LBXSAPSI')"
   ]
  },
  {
   "cell_type": "code",
   "execution_count": 61,
   "id": "muslim-chester",
   "metadata": {},
   "outputs": [
    {
     "data": {
      "text/plain": [
       "<AxesSubplot:xlabel='LBXVIDMS'>"
      ]
     },
     "execution_count": 61,
     "metadata": {},
     "output_type": "execute_result"
    },
    {
     "data": {
      "image/png": "[encoded data removed]",
      "text/plain": [
       "<Figure size 432x288 with 1 Axes>"
      ]
     },
     "metadata": {
      "needs_background": "light"
     },
     "output_type": "display_data"
    }
   ],
   "source": [
    "df_VID_SALP[['LBXVIDMS','loge_LBXSAPSI']].groupby(pd.cut(df_VID_SALP['LBXVIDMS'], [df_VID_SALP['LBXVIDMS'].min(),df_VID_SALP['LBXVIDMS'].describe()['25%'], df_VID_SALP['LBXVIDMS'].describe()['50%'],df_VID_SALP['LBXVIDMS'].describe()['75%'],df_VID_SALP['LBXVIDMS'].max()])).mean().plot(marker='*',x='LBXVIDMS',y='loge_LBXSAPSI')"
   ]
  },
  {
   "cell_type": "code",
   "execution_count": 39,
   "id": "professional-nitrogen",
   "metadata": {},
   "outputs": [
    {
     "data": {
      "text/plain": [
       "<AxesSubplot:xlabel='LBXVIDMS'>"
      ]
     },
     "execution_count": 39,
     "metadata": {},
     "output_type": "execute_result"
    },
    {
     "data": {
      "image/png": "[encoded data removed]",
      "text/plain": [
       "<Figure size 432x288 with 1 Axes>"
      ]
     },
     "metadata": {
      "needs_background": "light"
     },
     "output_type": "display_data"
    }
   ],
   "source": [
    "df_VID_SALP[['LBXVIDMS','BMXBMI']].groupby(pd.cut(df_VID_SALP['LBXVIDMS'], [df_VID_SALP['LBXVIDMS'].min(),df_VID_SALP['LBXVIDMS'].describe()['25%'], df_VID_SALP['LBXVIDMS'].describe()['50%'],df_VID_SALP['LBXVIDMS'].describe()['75%'],df_VID_SALP['LBXVIDMS'].max()])).mean().plot(marker='*',x='LBXVIDMS',y='BMXBMI')"
   ]
  },
  {
   "cell_type": "code",
   "execution_count": 43,
   "id": "maritime-fellowship",
   "metadata": {},
   "outputs": [
    {
     "data": {
      "text/plain": [
       "<AxesSubplot:xlabel='LBXVIDMS'>"
      ]
     },
     "execution_count": 43,
     "metadata": {},
     "output_type": "execute_result"
    },
    {
     "data": {
      "image/png": "[encoded data removed]",
      "text/plain": [
       "<Figure size 432x288 with 1 Axes>"
      ]
     },
     "metadata": {
      "needs_background": "light"
     },
     "output_type": "display_data"
    }
   ],
   "source": [
    "df_VID_SALP[['LBXVIDMS','BMXWAIST']].groupby(pd.cut(df_VID_SALP['LBXVIDMS'], [df_VID_SALP['LBXVIDMS'].min(),df_VID_SALP['LBXVIDMS'].describe()['25%'], df_VID_SALP['LBXVIDMS'].describe()['50%'],df_VID_SALP['LBXVIDMS'].describe()['75%'],df_VID_SALP['LBXVIDMS'].max()])).mean().plot(marker='*',x='LBXVIDMS',y='BMXWAIST')"
   ]
  },
  {
   "cell_type": "code",
   "execution_count": 40,
   "id": "marine-three",
   "metadata": {},
   "outputs": [
    {
     "data": {
      "text/plain": [
       "<AxesSubplot:xlabel='LBXSAPSI'>"
      ]
     },
     "execution_count": 40,
     "metadata": {},
     "output_type": "execute_result"
    },
    {
     "data": {
      "image/png": "[encoded data removed]",
      "text/plain": [
       "<Figure size 432x288 with 1 Axes>"
      ]
     },
     "metadata": {
      "needs_background": "light"
     },
     "output_type": "display_data"
    }
   ],
   "source": [
    "df_VID_SALP[['LBXSAPSI','BMXBMI']].groupby(pd.cut(df_VID_SALP['LBXSAPSI'], [df_VID_SALP['LBXSAPSI'].min(),df_VID_SALP['LBXSAPSI'].describe()['25%'], df_VID_SALP['LBXSAPSI'].describe()['50%'],df_VID_SALP['LBXSAPSI'].describe()['75%'],df_VID_SALP['LBXSAPSI'].max()])).mean().plot(marker='*',x='LBXSAPSI',y='BMXBMI')"
   ]
  },
  {
   "cell_type": "code",
   "execution_count": 44,
   "id": "loved-polls",
   "metadata": {},
   "outputs": [
    {
     "data": {
      "text/plain": [
       "<AxesSubplot:xlabel='LBXSAPSI'>"
      ]
     },
     "execution_count": 44,
     "metadata": {},
     "output_type": "execute_result"
    },
    {
     "data": {
      "image/png": "[encoded data removed]",
      "text/plain": [
       "<Figure size 432x288 with 1 Axes>"
      ]
     },
     "metadata": {
      "needs_background": "light"
     },
     "output_type": "display_data"
    }
   ],
   "source": [
    "df_VID_SALP[['LBXSAPSI','BMXWAIST']].groupby(pd.cut(df_VID_SALP['LBXSAPSI'], [df_VID_SALP['LBXSAPSI'].min(),df_VID_SALP['LBXSAPSI'].describe()['25%'], df_VID_SALP['LBXSAPSI'].describe()['50%'],df_VID_SALP['LBXSAPSI'].describe()['75%'],df_VID_SALP['LBXSAPSI'].max()])).mean().plot(marker='*',x='LBXSAPSI',y='BMXWAIST')"
   ]
  },
  {
   "cell_type": "code",
   "execution_count": 62,
   "id": "blank-ribbon",
   "metadata": {},
   "outputs": [
    {
     "data": {
      "text/plain": [
       "<AxesSubplot:xlabel='loge_LBXSAPSI'>"
      ]
     },
     "execution_count": 62,
     "metadata": {},
     "output_type": "execute_result"
    },
    {
     "data": {
      "image/png": "[encoded data removed]",
      "text/plain": [
       "<Figure size 432x288 with 1 Axes>"
      ]
     },
     "metadata": {
      "needs_background": "light"
     },
     "output_type": "display_data"
    }
   ],
   "source": [
    "df_VID_SALP[['loge_LBXSAPSI','BMXWAIST']].groupby(pd.cut(df_VID_SALP['loge_LBXSAPSI'], [df_VID_SALP['loge_LBXSAPSI'].min(),df_VID_SALP['loge_LBXSAPSI'].describe()['25%'], df_VID_SALP['loge_LBXSAPSI'].describe()['50%'],df_VID_SALP['loge_LBXSAPSI'].describe()['75%'],df_VID_SALP['loge_LBXSAPSI'].max()])).mean().plot(marker='*',x='loge_LBXSAPSI',y='BMXWAIST')"
   ]
  },
  {
   "cell_type": "code",
   "execution_count": 63,
   "id": "appropriate-control",
   "metadata": {},
   "outputs": [
    {
     "data": {
      "text/plain": [
       "<AxesSubplot:xlabel='loge_LBXSAPSI'>"
      ]
     },
     "execution_count": 63,
     "metadata": {},
     "output_type": "execute_result"
    },
    {
     "data": {
      "image/png": "[encoded data removed]",
      "text/plain": [
       "<Figure size 432x288 with 1 Axes>"
      ]
     },
     "metadata": {
      "needs_background": "light"
     },
     "output_type": "display_data"
    }
   ],
   "source": [
    "df_VID_SALP[['loge_LBXSAPSI','BMXWAIST']].plot(x='loge_LBXSAPSI',y='BMXWAIST',marker='*',linestyle='None')"
   ]
  },
  {
   "cell_type": "code",
   "execution_count": 86,
   "id": "quarterly-testament",
   "metadata": {},
   "outputs": [
    {
     "data": {
      "text/plain": [
       "<AxesSubplot:xlabel='loge_LBXSAPSI'>"
      ]
     },
     "execution_count": 86,
     "metadata": {},
     "output_type": "execute_result"
    },
    {
     "data": {
      "image/png": "[encoded data removed]",
      "text/plain": [
       "<Figure size 432x288 with 1 Axes>"
      ]
     },
     "metadata": {
      "needs_background": "light"
     },
     "output_type": "display_data"
    }
   ],
   "source": [
    "df_VID_SALP_125[['loge_LBXSAPSI','BMXWAIST']].plot(x='loge_LBXSAPSI',y='BMXWAIST',marker='*',linestyle='None')"
   ]
  },
  {
   "cell_type": "code",
   "execution_count": 64,
   "id": "democratic-bulletin",
   "metadata": {},
   "outputs": [
    {
     "data": {
      "text/plain": [
       "<AxesSubplot:xlabel='LBXSAPSI'>"
      ]
     },
     "execution_count": 64,
     "metadata": {},
     "output_type": "execute_result"
    },
    {
     "data": {
      "image/png": "[encoded data removed]",
      "text/plain": [
       "<Figure size 432x288 with 1 Axes>"
      ]
     },
     "metadata": {
      "needs_background": "light"
     },
     "output_type": "display_data"
    }
   ],
   "source": [
    "df_VID_SALP[['LBXSAPSI','BMXWAIST']].plot(x='LBXSAPSI',y='BMXWAIST',marker='*',linestyle='None')"
   ]
  },
  {
   "cell_type": "code",
   "execution_count": 87,
   "id": "contrary-mixer",
   "metadata": {},
   "outputs": [
    {
     "data": {
      "text/plain": [
       "<AxesSubplot:xlabel='LBXSAPSI'>"
      ]
     },
     "execution_count": 87,
     "metadata": {},
     "output_type": "execute_result"
    },
    {
     "data": {
      "image/png": "[encoded data removed]",
      "text/plain": [
       "<Figure size 432x288 with 1 Axes>"
      ]
     },
     "metadata": {
      "needs_background": "light"
     },
     "output_type": "display_data"
    }
   ],
   "source": [
    "df_VID_SALP_125[['LBXSAPSI','BMXWAIST']].plot(x='LBXSAPSI',y='BMXWAIST',marker='*',linestyle='None')"
   ]
  },
  {
   "cell_type": "code",
   "execution_count": 32,
   "id": "rental-latter",
   "metadata": {},
   "outputs": [
    {
     "data": {
      "text/plain": [
       "<AxesSubplot:xlabel='BMXBMI'>"
      ]
     },
     "execution_count": 32,
     "metadata": {},
     "output_type": "execute_result"
    },
    {
     "data": {
      "image/png": "[encoded data removed]",
      "text/plain": [
       "<Figure size 432x288 with 1 Axes>"
      ]
     },
     "metadata": {
      "needs_background": "light"
     },
     "output_type": "display_data"
    }
   ],
   "source": [
    "df_VID_SALP[['BMXBMI','BPXPLS']].groupby(pd.cut(df_VID_SALP['BMXBMI'], [df_VID_SALP['BMXBMI'].min(),df_VID_SALP['BMXBMI'].describe()['25%'], df_VID_SALP['BMXBMI'].describe()['50%'],df_VID_SALP['BMXBMI'].describe()['75%'],df_VID_SALP['BMXBMI'].max()])).mean().plot(marker='*',x='BMXBMI',y='BPXPLS')"
   ]
  },
  {
   "cell_type": "code",
   "execution_count": 34,
   "id": "virtual-baghdad",
   "metadata": {},
   "outputs": [
    {
     "data": {
      "text/plain": [
       "<AxesSubplot:xlabel='loge_LBXSAPSI'>"
      ]
     },
     "execution_count": 34,
     "metadata": {},
     "output_type": "execute_result"
    },
    {
     "data": {
      "image/png": "[encoded data removed]",
      "text/plain": [
       "<Figure size 432x288 with 1 Axes>"
      ]
     },
     "metadata": {
      "needs_background": "light"
     },
     "output_type": "display_data"
    }
   ],
   "source": [
    "df_VID_SALP[['loge_LBXSAPSI','BPXPLS']].groupby(pd.cut(df_VID_SALP['loge_LBXSAPSI'], [df_VID_SALP['loge_LBXSAPSI'].min(),df_VID_SALP['loge_LBXSAPSI'].describe()['25%'], df_VID_SALP['loge_LBXSAPSI'].describe()['50%'],df_VID_SALP['loge_LBXSAPSI'].describe()['75%'],df_VID_SALP['loge_LBXSAPSI'].max()])).mean().plot(marker='*',x='loge_LBXSAPSI',y='BPXPLS')"
   ]
  },
  {
   "cell_type": "code",
   "execution_count": 35,
   "id": "disciplinary-killing",
   "metadata": {},
   "outputs": [
    {
     "data": {
      "text/plain": [
       "<AxesSubplot:xlabel='LBXSAPSI'>"
      ]
     },
     "execution_count": 35,
     "metadata": {},
     "output_type": "execute_result"
    },
    {
     "data": {
      "image/png": "[encoded data removed]",
      "text/plain": [
       "<Figure size 432x288 with 1 Axes>"
      ]
     },
     "metadata": {
      "needs_background": "light"
     },
     "output_type": "display_data"
    }
   ],
   "source": [
    "df_VID_SALP[['LBXSAPSI','BPXPLS']].groupby(pd.cut(df_VID_SALP['LBXSAPSI'], [df_VID_SALP['LBXSAPSI'].min(),df_VID_SALP['LBXSAPSI'].describe()['25%'], df_VID_SALP['LBXSAPSI'].describe()['50%'],df_VID_SALP['LBXSAPSI'].describe()['75%'],df_VID_SALP['LBXSAPSI'].max()])).mean().plot(marker='*',x='LBXSAPSI',y='BPXPLS')"
   ]
  },
  {
   "cell_type": "code",
   "execution_count": 82,
   "id": "creative-paintball",
   "metadata": {},
   "outputs": [
    {
     "data": {
      "text/plain": [
       "5.7346326836581705"
      ]
     },
     "execution_count": 82,
     "metadata": {},
     "output_type": "execute_result"
    }
   ],
   "source": [
    "100*(32016-30180)/(32016)"
   ]
  },
  {
   "cell_type": "code",
   "execution_count": 80,
   "id": "extreme-gates",
   "metadata": {},
   "outputs": [
    {
     "data": {
      "text/html": [
       "<div>\n",
       "<style scoped>\n",
       "    .dataframe tbody tr th:only-of-type {\n",
       "        vertical-align: middle;\n",
       "    }\n",
       "\n",
       "    .dataframe tbody tr th {\n",
       "        vertical-align: top;\n",
       "    }\n",
       "\n",
       "    .dataframe thead th {\n",
       "        text-align: right;\n",
       "    }\n",
       "</style>\n",
       "<table border=\"1\" class=\"dataframe\">\n",
       "  <thead>\n",
       "    <tr style=\"text-align: right;\">\n",
       "      <th></th>\n",
       "      <th>SEQN</th>\n",
       "      <th>LBXVIDMS</th>\n",
       "      <th>LBXSAPSI</th>\n",
       "      <th>BMXWT</th>\n",
       "      <th>BMXBMI</th>\n",
       "      <th>BMXWAIST</th>\n",
       "      <th>loge_LBXSAPSI</th>\n",
       "    </tr>\n",
       "  </thead>\n",
       "  <tbody>\n",
       "    <tr>\n",
       "      <th>count</th>\n",
       "      <td>34558.000000</td>\n",
       "      <td>31427.000000</td>\n",
       "      <td>32016.000000</td>\n",
       "      <td>34131.000000</td>\n",
       "      <td>34083.000000</td>\n",
       "      <td>32578.000000</td>\n",
       "      <td>32016.000000</td>\n",
       "    </tr>\n",
       "    <tr>\n",
       "      <th>mean</th>\n",
       "      <td>67356.969587</td>\n",
       "      <td>62.795815</td>\n",
       "      <td>80.281203</td>\n",
       "      <td>78.592757</td>\n",
       "      <td>28.190560</td>\n",
       "      <td>95.945202</td>\n",
       "      <td>4.274511</td>\n",
       "    </tr>\n",
       "    <tr>\n",
       "      <th>std</th>\n",
       "      <td>15279.686150</td>\n",
       "      <td>26.615577</td>\n",
       "      <td>50.817307</td>\n",
       "      <td>22.047999</td>\n",
       "      <td>7.071374</td>\n",
       "      <td>17.444858</td>\n",
       "      <td>0.426002</td>\n",
       "    </tr>\n",
       "    <tr>\n",
       "      <th>min</th>\n",
       "      <td>41475.000000</td>\n",
       "      <td>5.410000</td>\n",
       "      <td>7.000000</td>\n",
       "      <td>24.000000</td>\n",
       "      <td>12.610000</td>\n",
       "      <td>52.000000</td>\n",
       "      <td>1.945910</td>\n",
       "    </tr>\n",
       "    <tr>\n",
       "      <th>25%</th>\n",
       "      <td>54085.250000</td>\n",
       "      <td>43.900000</td>\n",
       "      <td>55.000000</td>\n",
       "      <td>63.100000</td>\n",
       "      <td>23.200000</td>\n",
       "      <td>83.000000</td>\n",
       "      <td>4.007333</td>\n",
       "    </tr>\n",
       "    <tr>\n",
       "      <th>50%</th>\n",
       "      <td>66671.500000</td>\n",
       "      <td>60.000000</td>\n",
       "      <td>68.000000</td>\n",
       "      <td>75.600000</td>\n",
       "      <td>27.150000</td>\n",
       "      <td>95.000000</td>\n",
       "      <td>4.219508</td>\n",
       "    </tr>\n",
       "    <tr>\n",
       "      <th>75%</th>\n",
       "      <td>80967.750000</td>\n",
       "      <td>77.500000</td>\n",
       "      <td>86.000000</td>\n",
       "      <td>90.400000</td>\n",
       "      <td>31.800000</td>\n",
       "      <td>106.800000</td>\n",
       "      <td>4.454347</td>\n",
       "    </tr>\n",
       "    <tr>\n",
       "      <th>max</th>\n",
       "      <td>93702.000000</td>\n",
       "      <td>375.000000</td>\n",
       "      <td>907.000000</td>\n",
       "      <td>239.400000</td>\n",
       "      <td>84.870000</td>\n",
       "      <td>179.000000</td>\n",
       "      <td>6.810142</td>\n",
       "    </tr>\n",
       "  </tbody>\n",
       "</table>\n",
       "</div>"
      ],
      "text/plain": [
       "               SEQN      LBXVIDMS      LBXSAPSI         BMXWT        BMXBMI  \\\n",
       "count  34558.000000  31427.000000  32016.000000  34131.000000  34083.000000   \n",
       "mean   67356.969587     62.795815     80.281203     78.592757     28.190560   \n",
       "std    15279.686150     26.615577     50.817307     22.047999      7.071374   \n",
       "min    41475.000000      5.410000      7.000000     24.000000     12.610000   \n",
       "25%    54085.250000     43.900000     55.000000     63.100000     23.200000   \n",
       "50%    66671.500000     60.000000     68.000000     75.600000     27.150000   \n",
       "75%    80967.750000     77.500000     86.000000     90.400000     31.800000   \n",
       "max    93702.000000    375.000000    907.000000    239.400000     84.870000   \n",
       "\n",
       "           BMXWAIST  loge_LBXSAPSI  \n",
       "count  32578.000000   32016.000000  \n",
       "mean      95.945202       4.274511  \n",
       "std       17.444858       0.426002  \n",
       "min       52.000000       1.945910  \n",
       "25%       83.000000       4.007333  \n",
       "50%       95.000000       4.219508  \n",
       "75%      106.800000       4.454347  \n",
       "max      179.000000       6.810142  "
      ]
     },
     "execution_count": 80,
     "metadata": {},
     "output_type": "execute_result"
    }
   ],
   "source": [
    "df_VID_SALP.describe()"
   ]
  },
  {
   "cell_type": "code",
   "execution_count": 83,
   "id": "improved-tournament",
   "metadata": {},
   "outputs": [
    {
     "data": {
      "text/html": [
       "<div>\n",
       "<style scoped>\n",
       "    .dataframe tbody tr th:only-of-type {\n",
       "        vertical-align: middle;\n",
       "    }\n",
       "\n",
       "    .dataframe tbody tr th {\n",
       "        vertical-align: top;\n",
       "    }\n",
       "\n",
       "    .dataframe thead th {\n",
       "        text-align: right;\n",
       "    }\n",
       "</style>\n",
       "<table border=\"1\" class=\"dataframe\">\n",
       "  <thead>\n",
       "    <tr style=\"text-align: right;\">\n",
       "      <th></th>\n",
       "      <th>SEQN</th>\n",
       "      <th>LBXVIDMS</th>\n",
       "      <th>LBXSAPSI</th>\n",
       "      <th>BMXWT</th>\n",
       "      <th>BMXBMI</th>\n",
       "      <th>BMXWAIST</th>\n",
       "      <th>loge_LBXSAPSI</th>\n",
       "    </tr>\n",
       "  </thead>\n",
       "  <tbody>\n",
       "    <tr>\n",
       "      <th>count</th>\n",
       "      <td>29359.000000</td>\n",
       "      <td>28579.000000</td>\n",
       "      <td>29359.000000</td>\n",
       "      <td>29044.000000</td>\n",
       "      <td>29003.000000</td>\n",
       "      <td>28003.000000</td>\n",
       "      <td>29359.000000</td>\n",
       "    </tr>\n",
       "    <tr>\n",
       "      <th>mean</th>\n",
       "      <td>67410.315985</td>\n",
       "      <td>63.284611</td>\n",
       "      <td>68.286045</td>\n",
       "      <td>80.037874</td>\n",
       "      <td>28.616462</td>\n",
       "      <td>97.316573</td>\n",
       "      <td>4.182624</td>\n",
       "    </tr>\n",
       "    <tr>\n",
       "      <th>std</th>\n",
       "      <td>15283.018337</td>\n",
       "      <td>27.025006</td>\n",
       "      <td>19.444331</td>\n",
       "      <td>21.533006</td>\n",
       "      <td>6.906453</td>\n",
       "      <td>16.796760</td>\n",
       "      <td>0.290314</td>\n",
       "    </tr>\n",
       "    <tr>\n",
       "      <th>min</th>\n",
       "      <td>41475.000000</td>\n",
       "      <td>5.410000</td>\n",
       "      <td>7.000000</td>\n",
       "      <td>27.100000</td>\n",
       "      <td>13.180000</td>\n",
       "      <td>55.100000</td>\n",
       "      <td>1.945910</td>\n",
       "    </tr>\n",
       "    <tr>\n",
       "      <th>25%</th>\n",
       "      <td>54121.000000</td>\n",
       "      <td>43.900000</td>\n",
       "      <td>54.000000</td>\n",
       "      <td>64.900000</td>\n",
       "      <td>23.770000</td>\n",
       "      <td>85.000000</td>\n",
       "      <td>3.988984</td>\n",
       "    </tr>\n",
       "    <tr>\n",
       "      <th>50%</th>\n",
       "      <td>66745.000000</td>\n",
       "      <td>60.500000</td>\n",
       "      <td>66.000000</td>\n",
       "      <td>77.000000</td>\n",
       "      <td>27.500000</td>\n",
       "      <td>96.000000</td>\n",
       "      <td>4.189655</td>\n",
       "    </tr>\n",
       "    <tr>\n",
       "      <th>75%</th>\n",
       "      <td>81037.500000</td>\n",
       "      <td>78.300000</td>\n",
       "      <td>80.000000</td>\n",
       "      <td>91.400000</td>\n",
       "      <td>32.100000</td>\n",
       "      <td>107.500000</td>\n",
       "      <td>4.382027</td>\n",
       "    </tr>\n",
       "    <tr>\n",
       "      <th>max</th>\n",
       "      <td>93702.000000</td>\n",
       "      <td>375.000000</td>\n",
       "      <td>124.000000</td>\n",
       "      <td>239.400000</td>\n",
       "      <td>84.870000</td>\n",
       "      <td>179.000000</td>\n",
       "      <td>4.820282</td>\n",
       "    </tr>\n",
       "  </tbody>\n",
       "</table>\n",
       "</div>"
      ],
      "text/plain": [
       "               SEQN      LBXVIDMS      LBXSAPSI         BMXWT        BMXBMI  \\\n",
       "count  29359.000000  28579.000000  29359.000000  29044.000000  29003.000000   \n",
       "mean   67410.315985     63.284611     68.286045     80.037874     28.616462   \n",
       "std    15283.018337     27.025006     19.444331     21.533006      6.906453   \n",
       "min    41475.000000      5.410000      7.000000     27.100000     13.180000   \n",
       "25%    54121.000000     43.900000     54.000000     64.900000     23.770000   \n",
       "50%    66745.000000     60.500000     66.000000     77.000000     27.500000   \n",
       "75%    81037.500000     78.300000     80.000000     91.400000     32.100000   \n",
       "max    93702.000000    375.000000    124.000000    239.400000     84.870000   \n",
       "\n",
       "           BMXWAIST  loge_LBXSAPSI  \n",
       "count  28003.000000   29359.000000  \n",
       "mean      97.316573       4.182624  \n",
       "std       16.796760       0.290314  \n",
       "min       55.100000       1.945910  \n",
       "25%       85.000000       3.988984  \n",
       "50%       96.000000       4.189655  \n",
       "75%      107.500000       4.382027  \n",
       "max      179.000000       4.820282  "
      ]
     },
     "execution_count": 83,
     "metadata": {},
     "output_type": "execute_result"
    }
   ],
   "source": [
    "df_VID_SALP_125=df_VID_SALP[df_VID_SALP['LBXSAPSI']<125]\n",
    "df_VID_SALP_125.describe()"
   ]
  },
  {
   "cell_type": "code",
   "execution_count": 84,
   "id": "executive-prague",
   "metadata": {},
   "outputs": [
    {
     "data": {
      "text/plain": [
       "<AxesSubplot:xlabel='loge_LBXSAPSI'>"
      ]
     },
     "execution_count": 84,
     "metadata": {},
     "output_type": "execute_result"
    },
    {
     "data": {
      "image/png": "[encoded data removed]",
      "text/plain": [
       "<Figure size 432x288 with 1 Axes>"
      ]
     },
     "metadata": {
      "needs_background": "light"
     },
     "output_type": "display_data"
    }
   ],
   "source": [
    "df_VID_SALP_125[['loge_LBXSAPSI','BMXWAIST']].groupby(pd.cut(df_VID_SALP_125['loge_LBXSAPSI'], [df_VID_SALP_125['loge_LBXSAPSI'].min(),df_VID_SALP_125['loge_LBXSAPSI'].describe()['25%'], df_VID_SALP_125['loge_LBXSAPSI'].describe()['50%'],df_VID_SALP_125['loge_LBXSAPSI'].describe()['75%'],df_VID_SALP_125['loge_LBXSAPSI'].max()])).mean().plot(marker='*',x='loge_LBXSAPSI',y='BMXWAIST')"
   ]
  },
  {
   "cell_type": "code",
   "execution_count": 85,
   "id": "digital-phoenix",
   "metadata": {},
   "outputs": [
    {
     "data": {
      "text/html": [
       "<div>\n",
       "<style scoped>\n",
       "    .dataframe tbody tr th:only-of-type {\n",
       "        vertical-align: middle;\n",
       "    }\n",
       "\n",
       "    .dataframe tbody tr th {\n",
       "        vertical-align: top;\n",
       "    }\n",
       "\n",
       "    .dataframe thead th {\n",
       "        text-align: right;\n",
       "    }\n",
       "</style>\n",
       "<table border=\"1\" class=\"dataframe\">\n",
       "  <thead>\n",
       "    <tr style=\"text-align: right;\">\n",
       "      <th></th>\n",
       "      <th>LBXVIDMS</th>\n",
       "      <th>LBXSAPSI</th>\n",
       "      <th>BMXWT</th>\n",
       "      <th>BMXBMI</th>\n",
       "      <th>BMXWAIST</th>\n",
       "      <th>loge_LBXSAPSI</th>\n",
       "    </tr>\n",
       "  </thead>\n",
       "  <tbody>\n",
       "    <tr>\n",
       "      <th>LBXVIDMS</th>\n",
       "      <td>1.000000</td>\n",
       "      <td>-0.094776</td>\n",
       "      <td>-0.132821</td>\n",
       "      <td>-0.148518</td>\n",
       "      <td>-0.087386</td>\n",
       "      <td>-0.096950</td>\n",
       "    </tr>\n",
       "    <tr>\n",
       "      <th>LBXSAPSI</th>\n",
       "      <td>-0.094776</td>\n",
       "      <td>1.000000</td>\n",
       "      <td>0.055833</td>\n",
       "      <td>0.095929</td>\n",
       "      <td>0.094462</td>\n",
       "      <td>0.981767</td>\n",
       "    </tr>\n",
       "    <tr>\n",
       "      <th>BMXWT</th>\n",
       "      <td>-0.132821</td>\n",
       "      <td>0.055833</td>\n",
       "      <td>1.000000</td>\n",
       "      <td>0.883809</td>\n",
       "      <td>0.894383</td>\n",
       "      <td>0.067673</td>\n",
       "    </tr>\n",
       "    <tr>\n",
       "      <th>BMXBMI</th>\n",
       "      <td>-0.148518</td>\n",
       "      <td>0.095929</td>\n",
       "      <td>0.883809</td>\n",
       "      <td>1.000000</td>\n",
       "      <td>0.907929</td>\n",
       "      <td>0.106386</td>\n",
       "    </tr>\n",
       "    <tr>\n",
       "      <th>BMXWAIST</th>\n",
       "      <td>-0.087386</td>\n",
       "      <td>0.094462</td>\n",
       "      <td>0.894383</td>\n",
       "      <td>0.907929</td>\n",
       "      <td>1.000000</td>\n",
       "      <td>0.107313</td>\n",
       "    </tr>\n",
       "    <tr>\n",
       "      <th>loge_LBXSAPSI</th>\n",
       "      <td>-0.096950</td>\n",
       "      <td>0.981767</td>\n",
       "      <td>0.067673</td>\n",
       "      <td>0.106386</td>\n",
       "      <td>0.107313</td>\n",
       "      <td>1.000000</td>\n",
       "    </tr>\n",
       "  </tbody>\n",
       "</table>\n",
       "</div>"
      ],
      "text/plain": [
       "               LBXVIDMS  LBXSAPSI     BMXWT    BMXBMI  BMXWAIST  loge_LBXSAPSI\n",
       "LBXVIDMS       1.000000 -0.094776 -0.132821 -0.148518 -0.087386      -0.096950\n",
       "LBXSAPSI      -0.094776  1.000000  0.055833  0.095929  0.094462       0.981767\n",
       "BMXWT         -0.132821  0.055833  1.000000  0.883809  0.894383       0.067673\n",
       "BMXBMI        -0.148518  0.095929  0.883809  1.000000  0.907929       0.106386\n",
       "BMXWAIST      -0.087386  0.094462  0.894383  0.907929  1.000000       0.107313\n",
       "loge_LBXSAPSI -0.096950  0.981767  0.067673  0.106386  0.107313       1.000000"
      ]
     },
     "execution_count": 85,
     "metadata": {},
     "output_type": "execute_result"
    }
   ],
   "source": [
    "df_VID_SALP_125[['LBXVIDMS','LBXSAPSI','BMXWT','BMXBMI','BMXWAIST','loge_LBXSAPSI']].dropna().corr()"
   ]
  },
  {
   "cell_type": "code",
   "execution_count": 73,
   "id": "parental-priority",
   "metadata": {},
   "outputs": [
    {
     "data": {
      "text/html": [
       "<div>\n",
       "<style scoped>\n",
       "    .dataframe tbody tr th:only-of-type {\n",
       "        vertical-align: middle;\n",
       "    }\n",
       "\n",
       "    .dataframe tbody tr th {\n",
       "        vertical-align: top;\n",
       "    }\n",
       "\n",
       "    .dataframe thead th {\n",
       "        text-align: right;\n",
       "    }\n",
       "</style>\n",
       "<table border=\"1\" class=\"dataframe\">\n",
       "  <thead>\n",
       "    <tr style=\"text-align: right;\">\n",
       "      <th></th>\n",
       "      <th>LBXVIDMS</th>\n",
       "      <th>LBXSAPSI</th>\n",
       "      <th>BMXWT</th>\n",
       "      <th>BMXBMI</th>\n",
       "      <th>BMXWAIST</th>\n",
       "      <th>loge_LBXSAPSI</th>\n",
       "    </tr>\n",
       "  </thead>\n",
       "  <tbody>\n",
       "    <tr>\n",
       "      <th>LBXVIDMS</th>\n",
       "      <td>1.000000</td>\n",
       "      <td>-0.073471</td>\n",
       "      <td>-0.119358</td>\n",
       "      <td>-0.135656</td>\n",
       "      <td>-0.074277</td>\n",
       "      <td>-0.099029</td>\n",
       "    </tr>\n",
       "    <tr>\n",
       "      <th>LBXSAPSI</th>\n",
       "      <td>-0.073471</td>\n",
       "      <td>1.000000</td>\n",
       "      <td>-0.164425</td>\n",
       "      <td>-0.143395</td>\n",
       "      <td>-0.182340</td>\n",
       "      <td>0.916594</td>\n",
       "    </tr>\n",
       "    <tr>\n",
       "      <th>BMXWT</th>\n",
       "      <td>-0.119358</td>\n",
       "      <td>-0.164425</td>\n",
       "      <td>1.000000</td>\n",
       "      <td>0.890575</td>\n",
       "      <td>0.899932</td>\n",
       "      <td>-0.112251</td>\n",
       "    </tr>\n",
       "    <tr>\n",
       "      <th>BMXBMI</th>\n",
       "      <td>-0.135656</td>\n",
       "      <td>-0.143395</td>\n",
       "      <td>0.890575</td>\n",
       "      <td>1.000000</td>\n",
       "      <td>0.913757</td>\n",
       "      <td>-0.081787</td>\n",
       "    </tr>\n",
       "    <tr>\n",
       "      <th>BMXWAIST</th>\n",
       "      <td>-0.074277</td>\n",
       "      <td>-0.182340</td>\n",
       "      <td>0.899932</td>\n",
       "      <td>0.913757</td>\n",
       "      <td>1.000000</td>\n",
       "      <td>-0.115337</td>\n",
       "    </tr>\n",
       "    <tr>\n",
       "      <th>loge_LBXSAPSI</th>\n",
       "      <td>-0.099029</td>\n",
       "      <td>0.916594</td>\n",
       "      <td>-0.112251</td>\n",
       "      <td>-0.081787</td>\n",
       "      <td>-0.115337</td>\n",
       "      <td>1.000000</td>\n",
       "    </tr>\n",
       "  </tbody>\n",
       "</table>\n",
       "</div>"
      ],
      "text/plain": [
       "               LBXVIDMS  LBXSAPSI     BMXWT    BMXBMI  BMXWAIST  loge_LBXSAPSI\n",
       "LBXVIDMS       1.000000 -0.073471 -0.119358 -0.135656 -0.074277      -0.099029\n",
       "LBXSAPSI      -0.073471  1.000000 -0.164425 -0.143395 -0.182340       0.916594\n",
       "BMXWT         -0.119358 -0.164425  1.000000  0.890575  0.899932      -0.112251\n",
       "BMXBMI        -0.135656 -0.143395  0.890575  1.000000  0.913757      -0.081787\n",
       "BMXWAIST      -0.074277 -0.182340  0.899932  0.913757  1.000000      -0.115337\n",
       "loge_LBXSAPSI -0.099029  0.916594 -0.112251 -0.081787 -0.115337       1.000000"
      ]
     },
     "execution_count": 73,
     "metadata": {},
     "output_type": "execute_result"
    }
   ],
   "source": [
    "df_VID_SALP[['LBXVIDMS','LBXSAPSI','BMXWT','BMXBMI','BMXWAIST','loge_LBXSAPSI']].dropna().corr()"
   ]
  },
  {
   "cell_type": "code",
   "execution_count": null,
   "id": "verified-faith",
   "metadata": {},
   "outputs": [],
   "source": []
  }
 ],
 "metadata": {
  "kernelspec": {
   "display_name": "Python 3",
   "language": "python",
   "name": "python3"
  },
  "language_info": {
   "codemirror_mode": {
    "name": "ipython",
    "version": 3
   },
   "file_extension": ".py",
   "mimetype": "text/x-python",
   "name": "python",
   "nbconvert_exporter": "python",
   "pygments_lexer": "ipython3",
   "version": "3.8.8"
  }
 },
 "nbformat": 4,
 "nbformat_minor": 5
}
